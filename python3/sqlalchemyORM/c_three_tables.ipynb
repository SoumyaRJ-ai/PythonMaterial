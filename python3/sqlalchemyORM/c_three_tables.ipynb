{
 "cells": [
  {
   "cell_type": "code",
   "execution_count": 4,
   "metadata": {},
   "outputs": [],
   "source": [
    "from sqlalchemy import create_engine, Column, Integer, String, ForeignKey\n",
    "from sqlalchemy.orm import sessionmaker, relationship, declarative_base"
   ]
  },
  {
   "cell_type": "code",
   "execution_count": 5,
   "metadata": {},
   "outputs": [],
   "source": [
    "# create the engine and session\n",
    "engine = create_engine(\"sqlite:///c_three_tables.db\")\n",
    "Session = sessionmaker(bind=engine)\n",
    "session = Session()"
   ]
  },
  {
   "cell_type": "code",
   "execution_count": 6,
   "metadata": {},
   "outputs": [],
   "source": [
    "Base = declarative_base()"
   ]
  },
  {
   "cell_type": "markdown",
   "metadata": {},
   "source": [
    "### define the models"
   ]
  },
  {
   "cell_type": "code",
   "execution_count": 7,
   "metadata": {},
   "outputs": [],
   "source": [
    "class Customer(Base):\n",
    "    __tablename__ = \"customers\"\n",
    "\n",
    "    id = Column(Integer, primary_key=True)\n",
    "    name = Column(String)\n",
    "\n",
    "    orders = relationship(\"Order\", back_populates=\"customer\")"
   ]
  },
  {
   "cell_type": "code",
   "execution_count": 8,
   "metadata": {},
   "outputs": [],
   "source": [
    "class Order(Base):\n",
    "    __tablename__ = \"orders\"\n",
    "\n",
    "    id = Column(Integer, primary_key=True)\n",
    "    customer_id = Column(Integer, ForeignKey(\"customers.id\"))\n",
    "\n",
    "    customer = relationship(\"Customer\", back_populates=\"orders\")\n",
    "    items = relationship(\"OrderItem\", back_populates=\"order\")"
   ]
  },
  {
   "cell_type": "code",
   "execution_count": 9,
   "metadata": {},
   "outputs": [],
   "source": [
    "class OrderItem(Base):\n",
    "    __tablename__ = \"order_items\"\n",
    "\n",
    "    id = Column(Integer, primary_key=True)\n",
    "    order_id = Column(Integer, ForeignKey(\"orders.id\"))\n",
    "    product_name = Column(String)\n",
    "    quantity = Column(Integer)\n",
    "\n",
    "    order = relationship(\"Order\", back_populates=\"items\")"
   ]
  },
  {
   "cell_type": "code",
   "execution_count": 10,
   "metadata": {},
   "outputs": [],
   "source": [
    "# create the tables\n",
    "Base.metadata.create_all(engine)"
   ]
  },
  {
   "cell_type": "code",
   "execution_count": 11,
   "metadata": {},
   "outputs": [],
   "source": [
    "# create some data\n",
    "customer1 = Customer(name=\"John\")\n",
    "customer2 = Customer(name=\"Jane\")\n",
    "\n",
    "session.add_all([customer1, customer2])\n",
    "session.commit()"
   ]
  },
  {
   "cell_type": "code",
   "execution_count": 12,
   "metadata": {},
   "outputs": [],
   "source": [
    "order1 = Order(customer=customer1)\n",
    "order2 = Order(customer=customer2)\n",
    "\n",
    "session.add_all([order1, order2])\n",
    "session.commit()"
   ]
  },
  {
   "cell_type": "code",
   "execution_count": 13,
   "metadata": {},
   "outputs": [],
   "source": [
    "item1 = OrderItem(order=order1, product_name=\"Product A\", quantity=3)\n",
    "item2 = OrderItem(order=order2, product_name=\"Product B\", quantity=1)\n",
    "\n",
    "session.add_all([item1, item2])\n",
    "session.commit()"
   ]
  },
  {
   "cell_type": "code",
   "execution_count": 14,
   "metadata": {},
   "outputs": [
    {
     "name": "stdout",
     "output_type": "stream",
     "text": [
      "Order 1 belongs to customer John\n",
      "Order 2 belongs to customer Jane\n"
     ]
    }
   ],
   "source": [
    "# join two tables (orders and customers)\n",
    "query = session.query(Order, Customer).join(Customer)\n",
    "for order, customer in query:\n",
    "    print(f\"Order {order.id} belongs to customer {customer.name}\")"
   ]
  },
  {
   "cell_type": "code",
   "execution_count": 15,
   "metadata": {},
   "outputs": [
    {
     "name": "stdout",
     "output_type": "stream",
     "text": [
      "Customer John ordered 3 of Product A in order 1\n",
      "Customer Jane ordered 1 of Product B in order 2\n"
     ]
    }
   ],
   "source": [
    "# join three tables (orders, customers, and order_items)\n",
    "query = session.query(Order, Customer, OrderItem).join(Customer).join(OrderItem)\n",
    "for order, customer, item in query:\n",
    "    print(\n",
    "        f\"Customer {customer.name} ordered {item.quantity} of {item.product_name} in order {order.id}\"\n",
    "    )"
   ]
  },
  {
   "cell_type": "code",
   "execution_count": null,
   "metadata": {},
   "outputs": [],
   "source": []
  }
 ],
 "metadata": {
  "kernelspec": {
   "display_name": "pythonmaterial-4Fyt9FjG-py3.11",
   "language": "python",
   "name": "python3"
  },
  "language_info": {
   "codemirror_mode": {
    "name": "ipython",
    "version": 3
   },
   "file_extension": ".py",
   "mimetype": "text/x-python",
   "name": "python",
   "nbconvert_exporter": "python",
   "pygments_lexer": "ipython3",
   "version": "3.11.2"
  },
  "orig_nbformat": 4
 },
 "nbformat": 4,
 "nbformat_minor": 2
}
