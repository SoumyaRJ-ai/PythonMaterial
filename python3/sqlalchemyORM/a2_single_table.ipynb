{
 "cells": [
  {
   "cell_type": "code",
   "execution_count": 5,
   "metadata": {},
   "outputs": [],
   "source": [
    "from sqlalchemy import create_engine, Column, Integer, String\n",
    "from sqlalchemy.orm import sessionmaker\n",
    "from sqlalchemy.ext.declarative import declarative_base"
   ]
  },
  {
   "cell_type": "code",
   "execution_count": 6,
   "metadata": {},
   "outputs": [
    {
     "name": "stderr",
     "output_type": "stream",
     "text": [
      "C:\\Users\\Amma\\AppData\\Local\\Temp\\ipykernel_29952\\2961592862.py:1: MovedIn20Warning: The ``declarative_base()`` function is now available as sqlalchemy.orm.declarative_base(). (deprecated since: 2.0) (Background on SQLAlchemy 2.0 at: https://sqlalche.me/e/b8d9)\n",
      "  Base = declarative_base()\n"
     ]
    }
   ],
   "source": [
    "Base = declarative_base()\n",
    "\n",
    "\n",
    "class Person(Base):\n",
    "    __tablename__ = \"people\"\n",
    "\n",
    "    id = Column(Integer, primary_key=True)\n",
    "    name = Column(String(50), nullable=False)\n",
    "    age = Column(Integer, nullable=False)\n",
    "    gender = Column(String(10), nullable=False)\n",
    "    address = Column(String(100), nullable=False)"
   ]
  },
  {
   "cell_type": "code",
   "execution_count": 7,
   "metadata": {},
   "outputs": [
    {
     "name": "stdout",
     "output_type": "stream",
     "text": [
      "2023-04-02 09:30:46,675 INFO sqlalchemy.engine.Engine BEGIN (implicit)\n",
      "2023-04-02 09:30:46,676 INFO sqlalchemy.engine.Engine PRAGMA main.table_info(\"people\")\n",
      "2023-04-02 09:30:46,678 INFO sqlalchemy.engine.Engine [raw sql] ()\n",
      "2023-04-02 09:30:46,680 INFO sqlalchemy.engine.Engine PRAGMA temp.table_info(\"people\")\n",
      "2023-04-02 09:30:46,682 INFO sqlalchemy.engine.Engine [raw sql] ()\n",
      "2023-04-02 09:30:46,686 INFO sqlalchemy.engine.Engine \n",
      "CREATE TABLE people (\n",
      "\tid INTEGER NOT NULL, \n",
      "\tname VARCHAR(50) NOT NULL, \n",
      "\tage INTEGER NOT NULL, \n",
      "\tgender VARCHAR(10) NOT NULL, \n",
      "\taddress VARCHAR(100) NOT NULL, \n",
      "\tPRIMARY KEY (id)\n",
      ")\n",
      "\n",
      "\n",
      "2023-04-02 09:30:46,688 INFO sqlalchemy.engine.Engine [no key 0.00164s] ()\n",
      "2023-04-02 09:30:46,768 INFO sqlalchemy.engine.Engine COMMIT\n"
     ]
    }
   ],
   "source": [
    "engine = create_engine(\"sqlite:///s2_single_table.db\", echo=True)\n",
    "\n",
    "Base.metadata.create_all(bind=engine)\n",
    "\n",
    "Session = sessionmaker(bind=engine)\n",
    "session = Session()"
   ]
  },
  {
   "cell_type": "code",
   "execution_count": 8,
   "metadata": {},
   "outputs": [
    {
     "name": "stdout",
     "output_type": "stream",
     "text": [
      "2023-04-02 09:30:46,886 INFO sqlalchemy.engine.Engine BEGIN (implicit)\n",
      "2023-04-02 09:30:46,889 INFO sqlalchemy.engine.Engine SELECT people.id AS people_id, people.name AS people_name, people.age AS people_age, people.gender AS people_gender, people.address AS people_address \n",
      "FROM people\n",
      "2023-04-02 09:30:46,890 INFO sqlalchemy.engine.Engine [generated in 0.00138s] ()\n"
     ]
    }
   ],
   "source": [
    "# 1. Get all the people in the database\n",
    "people = session.query(Person).all()"
   ]
  },
  {
   "cell_type": "code",
   "execution_count": 9,
   "metadata": {},
   "outputs": [
    {
     "name": "stdout",
     "output_type": "stream",
     "text": [
      "2023-04-02 09:31:07,631 INFO sqlalchemy.engine.Engine SELECT people.id AS people_id, people.name AS people_name, people.age AS people_age, people.gender AS people_gender, people.address AS people_address \n",
      "FROM people \n",
      "WHERE people.id = ?\n",
      " LIMIT ? OFFSET ?\n",
      "2023-04-02 09:31:07,633 INFO sqlalchemy.engine.Engine [generated in 0.00323s] (1, 1, 0)\n"
     ]
    }
   ],
   "source": [
    "# 2. Get the person with the id of 1\n",
    "person = session.query(Person).filter_by(id=1).first()"
   ]
  },
  {
   "cell_type": "code",
   "execution_count": 10,
   "metadata": {},
   "outputs": [
    {
     "name": "stdout",
     "output_type": "stream",
     "text": [
      "2023-04-02 09:31:17,167 INFO sqlalchemy.engine.Engine SELECT people.name AS people_name, people.age AS people_age \n",
      "FROM people\n",
      "2023-04-02 09:31:17,169 INFO sqlalchemy.engine.Engine [generated in 0.00230s] ()\n"
     ]
    }
   ],
   "source": [
    "# 3. Get the name and age of all people in the database\n",
    "people = session.query(Person.name, Person.age).all()"
   ]
  },
  {
   "cell_type": "code",
   "execution_count": 11,
   "metadata": {},
   "outputs": [
    {
     "name": "stdout",
     "output_type": "stream",
     "text": [
      "2023-04-02 09:31:25,740 INFO sqlalchemy.engine.Engine SELECT people.id AS people_id, people.name AS people_name, people.age AS people_age, people.gender AS people_gender, people.address AS people_address \n",
      "FROM people \n",
      "WHERE people.age > ?\n",
      "2023-04-02 09:31:25,742 INFO sqlalchemy.engine.Engine [generated in 0.00213s] (30,)\n"
     ]
    }
   ],
   "source": [
    "# 4. Get all the people in the database who are over 30 years old\n",
    "people = session.query(Person).filter(Person.age > 30).all()"
   ]
  },
  {
   "cell_type": "code",
   "execution_count": 12,
   "metadata": {},
   "outputs": [
    {
     "name": "stdout",
     "output_type": "stream",
     "text": [
      "2023-04-02 09:31:35,580 INFO sqlalchemy.engine.Engine SELECT people.id AS people_id, people.name AS people_name, people.age AS people_age, people.gender AS people_gender, people.address AS people_address \n",
      "FROM people \n",
      "WHERE people.gender = ?\n",
      "2023-04-02 09:31:35,582 INFO sqlalchemy.engine.Engine [generated in 0.00155s] ('female',)\n"
     ]
    }
   ],
   "source": [
    "# 5. Get all the people in the database who are female\n",
    "people = session.query(Person).filter_by(gender=\"female\").all()"
   ]
  },
  {
   "cell_type": "code",
   "execution_count": 13,
   "metadata": {},
   "outputs": [
    {
     "name": "stdout",
     "output_type": "stream",
     "text": [
      "2023-04-02 09:31:43,277 INFO sqlalchemy.engine.Engine SELECT people.id AS people_id, people.name AS people_name, people.age AS people_age, people.gender AS people_gender, people.address AS people_address \n",
      "FROM people \n",
      "WHERE people.name LIKE ?\n",
      "2023-04-02 09:31:43,279 INFO sqlalchemy.engine.Engine [generated in 0.00187s] ('J%',)\n"
     ]
    }
   ],
   "source": [
    "# 6. Get all the people in the database whose name starts with 'J'\n",
    "people = session.query(Person).filter(Person.name.like(\"J%\")).all()"
   ]
  },
  {
   "cell_type": "code",
   "execution_count": 14,
   "metadata": {},
   "outputs": [
    {
     "name": "stdout",
     "output_type": "stream",
     "text": [
      "2023-04-02 09:31:50,507 INFO sqlalchemy.engine.Engine SELECT count(*) AS count_1 \n",
      "FROM (SELECT people.id AS people_id, people.name AS people_name, people.age AS people_age, people.gender AS people_gender, people.address AS people_address \n",
      "FROM people) AS anon_1\n",
      "2023-04-02 09:31:50,509 INFO sqlalchemy.engine.Engine [generated in 0.00262s] ()\n"
     ]
    }
   ],
   "source": [
    "# 7. Get the number of people in the database\n",
    "num_people = session.query(Person).count()"
   ]
  },
  {
   "cell_type": "code",
   "execution_count": 15,
   "metadata": {},
   "outputs": [
    {
     "name": "stdout",
     "output_type": "stream",
     "text": [
      "2023-04-02 09:31:57,487 INFO sqlalchemy.engine.Engine SELECT people.age AS people_age \n",
      "FROM people ORDER BY people.age ASC\n",
      " LIMIT ? OFFSET ?\n",
      "2023-04-02 09:31:57,490 INFO sqlalchemy.engine.Engine [generated in 0.00183s] (1, 0)\n"
     ]
    }
   ],
   "source": [
    "# 8. Get the age of the youngest person in the database\n",
    "min_age = session.query(Person.age).order_by(Person.age.asc()).first()"
   ]
  },
  {
   "cell_type": "code",
   "execution_count": 16,
   "metadata": {},
   "outputs": [
    {
     "name": "stdout",
     "output_type": "stream",
     "text": [
      "2023-04-02 09:32:06,027 INFO sqlalchemy.engine.Engine SELECT people.age AS people_age \n",
      "FROM people ORDER BY people.age DESC\n",
      " LIMIT ? OFFSET ?\n",
      "2023-04-02 09:32:06,028 INFO sqlalchemy.engine.Engine [generated in 0.00155s] (1, 0)\n"
     ]
    }
   ],
   "source": [
    "# 9. Get the age of the oldest person in the database\n",
    "max_age = session.query(Person.age).order_by(Person.age.desc()).first()"
   ]
  },
  {
   "cell_type": "code",
   "execution_count": 17,
   "metadata": {},
   "outputs": [
    {
     "name": "stdout",
     "output_type": "stream",
     "text": [
      "2023-04-02 09:32:12,155 INFO sqlalchemy.engine.Engine SELECT people.name AS people_name \n",
      "FROM people ORDER BY people.name ASC\n",
      "2023-04-02 09:32:12,158 INFO sqlalchemy.engine.Engine [generated in 0.00204s] ()\n"
     ]
    }
   ],
   "source": [
    "# 10. Get the names of all the people in the database, sorted alphabetically\n",
    "people = session.query(Person.name).order_by(Person.name.asc()).all()"
   ]
  },
  {
   "cell_type": "code",
   "execution_count": 18,
   "metadata": {},
   "outputs": [
    {
     "name": "stdout",
     "output_type": "stream",
     "text": [
      "2023-04-02 09:32:23,755 INFO sqlalchemy.engine.Engine SELECT count(*) AS count_1 \n",
      "FROM (SELECT people.id AS people_id, people.name AS people_name, people.age AS people_age, people.gender AS people_gender, people.address AS people_address \n",
      "FROM people \n",
      "WHERE people.name LIKE ?) AS anon_1\n",
      "2023-04-02 09:32:23,757 INFO sqlalchemy.engine.Engine [generated in 0.00240s] ('%e%',)\n"
     ]
    }
   ],
   "source": [
    "# 11. Get the number of people in the database whose name contains the letter 'e'\n",
    "num_people = session.query(Person).filter(Person.name.like(\"%e%\")).count()"
   ]
  },
  {
   "cell_type": "code",
   "execution_count": 19,
   "metadata": {},
   "outputs": [
    {
     "name": "stdout",
     "output_type": "stream",
     "text": [
      "2023-04-02 09:32:30,037 INFO sqlalchemy.engine.Engine SELECT people.gender AS people_gender, people.name AS people_name \n",
      "FROM people GROUP BY people.gender\n",
      "2023-04-02 09:32:30,039 INFO sqlalchemy.engine.Engine [generated in 0.00194s] ()\n"
     ]
    }
   ],
   "source": [
    "# 12. Get the names of all the people in the database, grouped by gender\n",
    "people_by_gender = (\n",
    "    session.query(Person.gender, Person.name).group_by(Person.gender).all()\n",
    ")"
   ]
  },
  {
   "cell_type": "code",
   "execution_count": 20,
   "metadata": {},
   "outputs": [
    {
     "name": "stdout",
     "output_type": "stream",
     "text": [
      "2023-04-02 09:32:41,706 INFO sqlalchemy.engine.Engine SELECT people.id AS people_id, people.name AS people_name, people.age AS people_age, people.gender AS people_gender, people.address AS people_address \n",
      "FROM people \n",
      "WHERE people.id = ?\n",
      " LIMIT ? OFFSET ?\n",
      "2023-04-02 09:32:41,710 INFO sqlalchemy.engine.Engine [cached since 94.08s ago] (1, 1, 0)\n"
     ]
    },
    {
     "ename": "AttributeError",
     "evalue": "'NoneType' object has no attribute 'age'",
     "output_type": "error",
     "traceback": [
      "\u001b[1;31m---------------------------------------------------------------------------\u001b[0m",
      "\u001b[1;31mAttributeError\u001b[0m                            Traceback (most recent call last)",
      "Cell \u001b[1;32mIn[20], line 3\u001b[0m\n\u001b[0;32m      1\u001b[0m \u001b[39m# 13. Update the age of the person with the id of 1 to 40\u001b[39;00m\n\u001b[0;32m      2\u001b[0m person \u001b[39m=\u001b[39m session\u001b[39m.\u001b[39mquery(Person)\u001b[39m.\u001b[39mfilter_by(\u001b[39mid\u001b[39m\u001b[39m=\u001b[39m\u001b[39m1\u001b[39m)\u001b[39m.\u001b[39mfirst()\n\u001b[1;32m----> 3\u001b[0m person\u001b[39m.\u001b[39;49mage \u001b[39m=\u001b[39m \u001b[39m40\u001b[39m\n\u001b[0;32m      4\u001b[0m session\u001b[39m.\u001b[39mcommit()\n",
      "\u001b[1;31mAttributeError\u001b[0m: 'NoneType' object has no attribute 'age'"
     ]
    }
   ],
   "source": [
    "# 13. Update the age of the person with the id of 1 to 40\n",
    "person = session.query(Person).filter_by(id=1).first()\n",
    "person.age = 40\n",
    "session.commit()"
   ]
  },
  {
   "cell_type": "code",
   "execution_count": 21,
   "metadata": {},
   "outputs": [
    {
     "name": "stdout",
     "output_type": "stream",
     "text": [
      "2023-04-02 09:33:02,369 INFO sqlalchemy.engine.Engine SELECT people.id AS people_id, people.name AS people_name, people.age AS people_age, people.gender AS people_gender, people.address AS people_address \n",
      "FROM people \n",
      "WHERE people.id = ?\n",
      " LIMIT ? OFFSET ?\n",
      "2023-04-02 09:33:02,372 INFO sqlalchemy.engine.Engine [cached since 114.7s ago] (2, 1, 0)\n"
     ]
    },
    {
     "ename": "UnmappedInstanceError",
     "evalue": "Class 'builtins.NoneType' is not mapped",
     "output_type": "error",
     "traceback": [
      "\u001b[1;31m---------------------------------------------------------------------------\u001b[0m",
      "\u001b[1;31mAttributeError\u001b[0m                            Traceback (most recent call last)",
      "File \u001b[1;32mc:\\Users\\Amma\\AppData\\Local\\pypoetry\\Cache\\virtualenvs\\pythonmaterial-4Fyt9FjG-py3.11\\Lib\\site-packages\\sqlalchemy\\orm\\session.py:3380\u001b[0m, in \u001b[0;36mSession.delete\u001b[1;34m(self, instance)\u001b[0m\n\u001b[0;32m   3379\u001b[0m \u001b[39mtry\u001b[39;00m:\n\u001b[1;32m-> 3380\u001b[0m     state \u001b[39m=\u001b[39m attributes\u001b[39m.\u001b[39;49minstance_state(instance)\n\u001b[0;32m   3381\u001b[0m \u001b[39mexcept\u001b[39;00m exc\u001b[39m.\u001b[39mNO_STATE \u001b[39mas\u001b[39;00m err:\n",
      "\u001b[1;31mAttributeError\u001b[0m: 'NoneType' object has no attribute '_sa_instance_state'",
      "\nThe above exception was the direct cause of the following exception:\n",
      "\u001b[1;31mUnmappedInstanceError\u001b[0m                     Traceback (most recent call last)",
      "Cell \u001b[1;32mIn[21], line 3\u001b[0m\n\u001b[0;32m      1\u001b[0m \u001b[39m# 14. Delete the person with the id of 2\u001b[39;00m\n\u001b[0;32m      2\u001b[0m person \u001b[39m=\u001b[39m session\u001b[39m.\u001b[39mquery(Person)\u001b[39m.\u001b[39mfilter_by(\u001b[39mid\u001b[39m\u001b[39m=\u001b[39m\u001b[39m2\u001b[39m)\u001b[39m.\u001b[39mfirst()\n\u001b[1;32m----> 3\u001b[0m session\u001b[39m.\u001b[39;49mdelete(person)\n\u001b[0;32m      4\u001b[0m session\u001b[39m.\u001b[39mcommit()\n",
      "File \u001b[1;32mc:\\Users\\Amma\\AppData\\Local\\pypoetry\\Cache\\virtualenvs\\pythonmaterial-4Fyt9FjG-py3.11\\Lib\\site-packages\\sqlalchemy\\orm\\session.py:3382\u001b[0m, in \u001b[0;36mSession.delete\u001b[1;34m(self, instance)\u001b[0m\n\u001b[0;32m   3380\u001b[0m     state \u001b[39m=\u001b[39m attributes\u001b[39m.\u001b[39minstance_state(instance)\n\u001b[0;32m   3381\u001b[0m \u001b[39mexcept\u001b[39;00m exc\u001b[39m.\u001b[39mNO_STATE \u001b[39mas\u001b[39;00m err:\n\u001b[1;32m-> 3382\u001b[0m     \u001b[39mraise\u001b[39;00m exc\u001b[39m.\u001b[39mUnmappedInstanceError(instance) \u001b[39mfrom\u001b[39;00m \u001b[39merr\u001b[39;00m\n\u001b[0;32m   3384\u001b[0m \u001b[39mself\u001b[39m\u001b[39m.\u001b[39m_delete_impl(state, instance, head\u001b[39m=\u001b[39m\u001b[39mTrue\u001b[39;00m)\n",
      "\u001b[1;31mUnmappedInstanceError\u001b[0m: Class 'builtins.NoneType' is not mapped"
     ]
    }
   ],
   "source": [
    "# 14. Delete the person with the id of 2\n",
    "person = session.query(Person).filter_by(id=2).first()\n",
    "session.delete(person)\n",
    "session.commit()"
   ]
  },
  {
   "cell_type": "code",
   "execution_count": 22,
   "metadata": {},
   "outputs": [
    {
     "name": "stdout",
     "output_type": "stream",
     "text": [
      "2023-04-02 09:33:05,959 INFO sqlalchemy.engine.Engine INSERT INTO people (name, age, gender, address) VALUES (?, ?, ?, ?)\n",
      "2023-04-02 09:33:05,964 INFO sqlalchemy.engine.Engine [generated in 0.00488s] ('Alice', 25, 'female', '123 Main St')\n",
      "2023-04-02 09:33:05,973 INFO sqlalchemy.engine.Engine COMMIT\n"
     ]
    }
   ],
   "source": [
    "# 15. Add a new person to the database\n",
    "new_person = Person(name=\"Alice\", age=25, gender=\"female\", address=\"123 Main St\")\n",
    "session.add(new_person)\n",
    "session.commit()"
   ]
  },
  {
   "cell_type": "code",
   "execution_count": 23,
   "metadata": {},
   "outputs": [
    {
     "name": "stdout",
     "output_type": "stream",
     "text": [
      "2023-04-02 09:33:17,658 INFO sqlalchemy.engine.Engine BEGIN (implicit)\n",
      "2023-04-02 09:33:17,661 INFO sqlalchemy.engine.Engine SELECT people.name AS people_name, people.address AS people_address \n",
      "FROM people ORDER BY people.address ASC\n",
      "2023-04-02 09:33:17,663 INFO sqlalchemy.engine.Engine [generated in 0.00166s] ()\n"
     ]
    }
   ],
   "source": [
    "# 16. Get the names and addresses of all people in the database, sorted by address\n",
    "people = session.query(Person.name, Person.address).order_by(Person.address.asc()).all()"
   ]
  },
  {
   "cell_type": "code",
   "execution_count": 24,
   "metadata": {},
   "outputs": [
    {
     "name": "stdout",
     "output_type": "stream",
     "text": [
      "2023-04-02 09:33:24,124 INFO sqlalchemy.engine.Engine SELECT count(*) AS count_1 \n",
      "FROM (SELECT people.id AS people_id, people.name AS people_name, people.age AS people_age, people.gender AS people_gender, people.address AS people_address \n",
      "FROM people \n",
      "WHERE people.age BETWEEN ? AND ?) AS anon_1\n",
      "2023-04-02 09:33:24,125 INFO sqlalchemy.engine.Engine [generated in 0.00188s] (20, 30)\n"
     ]
    }
   ],
   "source": [
    "# 17. Get the number of people in the database whose age is between 20 and 30\n",
    "num_people = session.query(Person).filter(Person.age.between(20, 30)).count()"
   ]
  },
  {
   "cell_type": "code",
   "execution_count": 25,
   "metadata": {},
   "outputs": [
    {
     "ename": "NameError",
     "evalue": "name 'func' is not defined",
     "output_type": "error",
     "traceback": [
      "\u001b[1;31m---------------------------------------------------------------------------\u001b[0m",
      "\u001b[1;31mNameError\u001b[0m                                 Traceback (most recent call last)",
      "Cell \u001b[1;32mIn[25], line 2\u001b[0m\n\u001b[0;32m      1\u001b[0m \u001b[39m# 18. Get the average age of all people in the database\u001b[39;00m\n\u001b[1;32m----> 2\u001b[0m avg_age \u001b[39m=\u001b[39m session\u001b[39m.\u001b[39mquery(func\u001b[39m.\u001b[39mavg(Person\u001b[39m.\u001b[39mage))\u001b[39m.\u001b[39mscalar()\n",
      "\u001b[1;31mNameError\u001b[0m: name 'func' is not defined"
     ]
    }
   ],
   "source": [
    "# 18. Get the average age of all people in the database\n",
    "avg_age = session.query(func.avg(Person.age)).scalar()"
   ]
  },
  {
   "cell_type": "code",
   "execution_count": 26,
   "metadata": {},
   "outputs": [
    {
     "name": "stdout",
     "output_type": "stream",
     "text": [
      "2023-04-02 09:33:49,009 INFO sqlalchemy.engine.Engine SELECT people.name AS people_name \n",
      "FROM people \n",
      "WHERE people.age % ? = ?\n",
      "2023-04-02 09:33:49,014 INFO sqlalchemy.engine.Engine [generated in 0.00583s] (5, 0)\n"
     ]
    }
   ],
   "source": [
    "# 19. Get the names of all people in the database whose age is a multiple of 5\n",
    "people = session.query(Person.name).filter(Person.age % 5 == 0).all()"
   ]
  },
  {
   "cell_type": "code",
   "execution_count": 27,
   "metadata": {},
   "outputs": [
    {
     "name": "stdout",
     "output_type": "stream",
     "text": [
      "2023-04-02 09:33:52,387 INFO sqlalchemy.engine.Engine SELECT people.name AS people_name \n",
      "FROM people \n",
      "WHERE people.name LIKE ? AND people.name LIKE ?\n",
      "2023-04-02 09:33:52,394 INFO sqlalchemy.engine.Engine [generated in 0.00792s] ('%a%', '%e%')\n"
     ]
    }
   ],
   "source": [
    "# 20. Get the names of all people in the database whose name contains the letters 'a' and 'e'\n",
    "people = (\n",
    "    session.query(Person.name)\n",
    "    .filter(Person.name.like(\"%a%\"))\n",
    "    .filter(Person.name.like(\"%e%\"))\n",
    "    .all()\n",
    ")"
   ]
  },
  {
   "cell_type": "code",
   "execution_count": 28,
   "metadata": {},
   "outputs": [
    {
     "name": "stdout",
     "output_type": "stream",
     "text": [
      "2023-04-02 09:34:07,323 INFO sqlalchemy.engine.Engine SELECT people.name AS people_name \n",
      "FROM people \n",
      "WHERE people.address LIKE ?\n",
      "2023-04-02 09:34:07,330 INFO sqlalchemy.engine.Engine [generated in 0.00737s] ('123%',)\n",
      "2023-04-02 09:34:07,352 INFO sqlalchemy.engine.Engine SELECT people.name AS people_name, people.age AS people_age \n",
      "FROM people \n",
      "WHERE people.gender = ? ORDER BY people.age DESC\n",
      " LIMIT ? OFFSET ?\n",
      "2023-04-02 09:34:07,358 INFO sqlalchemy.engine.Engine [generated in 0.00770s] ('male', 1, 0)\n"
     ]
    },
    {
     "ename": "NameError",
     "evalue": "name 'func' is not defined",
     "output_type": "error",
     "traceback": [
      "\u001b[1;31m---------------------------------------------------------------------------\u001b[0m",
      "\u001b[1;31mNameError\u001b[0m                                 Traceback (most recent call last)",
      "Cell \u001b[1;32mIn[28], line 8\u001b[0m\n\u001b[0;32m      5\u001b[0m person \u001b[39m=\u001b[39m session\u001b[39m.\u001b[39mquery(Person\u001b[39m.\u001b[39mname, Person\u001b[39m.\u001b[39mage)\u001b[39m.\u001b[39mfilter_by(gender\u001b[39m=\u001b[39m\u001b[39m'\u001b[39m\u001b[39mmale\u001b[39m\u001b[39m'\u001b[39m)\u001b[39m.\u001b[39morder_by(Person\u001b[39m.\u001b[39mage\u001b[39m.\u001b[39mdesc())\u001b[39m.\u001b[39mfirst()\n\u001b[0;32m      7\u001b[0m \u001b[39m# 23. Get the number of people in the database whose name is longer than 10 characters\u001b[39;00m\n\u001b[1;32m----> 8\u001b[0m num_people \u001b[39m=\u001b[39m session\u001b[39m.\u001b[39mquery(Person)\u001b[39m.\u001b[39mfilter(func\u001b[39m.\u001b[39mlength(Person\u001b[39m.\u001b[39mname) \u001b[39m>\u001b[39m \u001b[39m10\u001b[39m)\u001b[39m.\u001b[39mcount()\n\u001b[0;32m     10\u001b[0m \u001b[39m# 24. Get the names and ages of all people in the database, sorted by age in descending order\u001b[39;00m\n\u001b[0;32m     11\u001b[0m people \u001b[39m=\u001b[39m session\u001b[39m.\u001b[39mquery(Person\u001b[39m.\u001b[39mname, Person\u001b[39m.\u001b[39mage)\u001b[39m.\u001b[39morder_by(Person\u001b[39m.\u001b[39mage\u001b[39m.\u001b[39mdesc())\u001b[39m.\u001b[39mall()\n",
      "\u001b[1;31mNameError\u001b[0m: name 'func' is not defined"
     ]
    }
   ],
   "source": [
    "# 21. Get the names of all people in the database whose address starts with '123'\n",
    "people = session.query(Person.name).filter(Person.address.like(\"123%\")).all()\n",
    "\n",
    "# 22. Get the name and age of the oldest person in the database whose gender is male\n",
    "person = (\n",
    "    session.query(Person.name, Person.age)\n",
    "    .filter_by(gender=\"male\")\n",
    "    .order_by(Person.age.desc())\n",
    "    .first()\n",
    ")\n",
    "\n",
    "# 23. Get the number of people in the database whose name is longer than 10 characters\n",
    "num_people = session.query(Person).filter(func.length(Person.name) > 10).count()\n",
    "\n",
    "# 24. Get the names and ages of all people in the database, sorted by age in descending order\n",
    "people = session.query(Person.name, Person.age).order_by(Person.age.desc()).all()\n",
    "\n",
    "# 25. Get the names of all people in the database whose name is not 'Alice'\n",
    "people = session.query(Person.name).filter(Person.name != \"Alice\").all()"
   ]
  },
  {
   "cell_type": "code",
   "execution_count": null,
   "metadata": {},
   "outputs": [],
   "source": []
  }
 ],
 "metadata": {
  "kernelspec": {
   "display_name": "pythonmaterial-4Fyt9FjG-py3.11",
   "language": "python",
   "name": "python3"
  },
  "language_info": {
   "codemirror_mode": {
    "name": "ipython",
    "version": 3
   },
   "file_extension": ".py",
   "mimetype": "text/x-python",
   "name": "python",
   "nbconvert_exporter": "python",
   "pygments_lexer": "ipython3",
   "version": "3.11.2"
  },
  "orig_nbformat": 4
 },
 "nbformat": 4,
 "nbformat_minor": 2
}
