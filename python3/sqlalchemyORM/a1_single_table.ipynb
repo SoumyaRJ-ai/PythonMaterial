{
 "cells": [
  {
   "cell_type": "code",
   "execution_count": 13,
   "metadata": {},
   "outputs": [],
   "source": [
    "# Creating DB Connection\n",
    "from sqlalchemy import create_engine\n",
    "\n",
    "engine = create_engine(\"sqlite:///example.db\", echo=True)"
   ]
  },
  {
   "cell_type": "code",
   "execution_count": 14,
   "metadata": {},
   "outputs": [],
   "source": [
    "# Define a table:\n",
    "\n",
    "from sqlalchemy import Column, Integer, String, Sequence\n",
    "from sqlalchemy.orm import declarative_base\n",
    "\n",
    "Base = declarative_base()\n",
    "\n",
    "\n",
    "class User(Base):\n",
    "    __tablename__ = \"users\"\n",
    "\n",
    "    id = Column(Integer, Sequence(\"user_id_seq\"), primary_key=True)\n",
    "    name = Column(String(50))\n",
    "    email = Column(String(50))"
   ]
  },
  {
   "cell_type": "code",
   "execution_count": 15,
   "metadata": {},
   "outputs": [
    {
     "name": "stdout",
     "output_type": "stream",
     "text": [
      "2023-04-01 00:53:06,650 INFO sqlalchemy.engine.Engine BEGIN (implicit)\n",
      "2023-04-01 00:53:06,651 INFO sqlalchemy.engine.Engine PRAGMA main.table_info(\"users\")\n",
      "2023-04-01 00:53:06,653 INFO sqlalchemy.engine.Engine [raw sql] ()\n",
      "2023-04-01 00:53:06,655 INFO sqlalchemy.engine.Engine COMMIT\n"
     ]
    }
   ],
   "source": [
    "# Create the table in the database:\n",
    "Base.metadata.create_all(engine)"
   ]
  },
  {
   "cell_type": "code",
   "execution_count": 16,
   "metadata": {},
   "outputs": [
    {
     "name": "stdout",
     "output_type": "stream",
     "text": [
      "2023-04-01 00:53:06,712 INFO sqlalchemy.engine.Engine BEGIN (implicit)\n",
      "2023-04-01 00:53:06,715 INFO sqlalchemy.engine.Engine INSERT INTO users (name, email) VALUES (?, ?)\n",
      "2023-04-01 00:53:06,716 INFO sqlalchemy.engine.Engine [generated in 0.00086s] ('John Doe', 'jdoe@example.com')\n",
      "2023-04-01 00:53:06,721 INFO sqlalchemy.engine.Engine COMMIT\n"
     ]
    }
   ],
   "source": [
    "# Add a record to the table:\n",
    "\n",
    "from sqlalchemy.orm import sessionmaker\n",
    "\n",
    "Session = sessionmaker(bind=engine)\n",
    "session = Session()\n",
    "\n",
    "new_user = User(name=\"John Doe\", email=\"jdoe@example.com\")\n",
    "session.add(new_user)\n",
    "session.commit()"
   ]
  },
  {
   "cell_type": "code",
   "execution_count": 17,
   "metadata": {},
   "outputs": [
    {
     "name": "stdout",
     "output_type": "stream",
     "text": [
      "2023-04-01 00:53:06,846 INFO sqlalchemy.engine.Engine BEGIN (implicit)\n",
      "2023-04-01 00:53:06,848 INFO sqlalchemy.engine.Engine SELECT users.id AS users_id, users.name AS users_name, users.email AS users_email \n",
      "FROM users\n",
      "2023-04-01 00:53:06,849 INFO sqlalchemy.engine.Engine [generated in 0.00077s] ()\n",
      "John Doe jdoe@example.com\n"
     ]
    }
   ],
   "source": [
    "# Query for records:\n",
    "users = session.query(User).all()\n",
    "for user in users:\n",
    "    print(user.name, user.email)"
   ]
  },
  {
   "cell_type": "code",
   "execution_count": 18,
   "metadata": {},
   "outputs": [
    {
     "name": "stdout",
     "output_type": "stream",
     "text": [
      "2023-04-01 00:53:06,952 INFO sqlalchemy.engine.Engine SELECT users.id AS users_id, users.name AS users_name, users.email AS users_email \n",
      "FROM users \n",
      "WHERE users.name = ?\n",
      " LIMIT ? OFFSET ?\n",
      "2023-04-01 00:53:06,955 INFO sqlalchemy.engine.Engine [generated in 0.00231s] ('John Doe', 1, 0)\n"
     ]
    }
   ],
   "source": [
    "# Filter records based on a condition:\n",
    "john = session.query(User).filter_by(name=\"John Doe\").first()"
   ]
  },
  {
   "cell_type": "code",
   "execution_count": 19,
   "metadata": {},
   "outputs": [
    {
     "name": "stdout",
     "output_type": "stream",
     "text": [
      "2023-04-01 00:53:07,015 INFO sqlalchemy.engine.Engine UPDATE users SET email=? WHERE users.id = ?\n",
      "2023-04-01 00:53:07,015 INFO sqlalchemy.engine.Engine [generated in 0.00078s] ('john.doe@example.com', 1)\n",
      "2023-04-01 00:53:07,018 INFO sqlalchemy.engine.Engine COMMIT\n"
     ]
    }
   ],
   "source": [
    "# Update a record:\n",
    "john.email = \"john.doe@example.com\"\n",
    "session.commit()"
   ]
  },
  {
   "cell_type": "code",
   "execution_count": 20,
   "metadata": {},
   "outputs": [
    {
     "name": "stdout",
     "output_type": "stream",
     "text": [
      "2023-04-01 00:53:07,107 INFO sqlalchemy.engine.Engine BEGIN (implicit)\n",
      "2023-04-01 00:53:07,109 INFO sqlalchemy.engine.Engine SELECT users.id AS users_id, users.name AS users_name, users.email AS users_email \n",
      "FROM users \n",
      "WHERE users.id = ?\n",
      "2023-04-01 00:53:07,110 INFO sqlalchemy.engine.Engine [generated in 0.00094s] (1,)\n",
      "2023-04-01 00:53:07,112 INFO sqlalchemy.engine.Engine DELETE FROM users WHERE users.id = ?\n",
      "2023-04-01 00:53:07,113 INFO sqlalchemy.engine.Engine [generated in 0.00095s] (1,)\n",
      "2023-04-01 00:53:07,114 INFO sqlalchemy.engine.Engine COMMIT\n"
     ]
    }
   ],
   "source": [
    "# Delete a record:\n",
    "\n",
    "session.delete(john)\n",
    "session.commit()"
   ]
  },
  {
   "cell_type": "code",
   "execution_count": 29,
   "metadata": {},
   "outputs": [
    {
     "name": "stdout",
     "output_type": "stream",
     "text": [
      "2023-04-01 00:57:32,319 INFO sqlalchemy.engine.Engine SELECT * FROM users WHERE name = 'John Doe';\n",
      "2023-04-01 00:57:32,319 INFO sqlalchemy.engine.Engine [generated in 0.00085s] ()\n"
     ]
    }
   ],
   "source": [
    "# Execute a raw SQL statement:\n",
    "from sqlalchemy import text\n",
    "\n",
    "query = text(\"SELECT * FROM users WHERE name = 'John Doe';\")\n",
    "\n",
    "result = session.execute(query)\n",
    "for row in result:\n",
    "    print(row)"
   ]
  },
  {
   "cell_type": "code",
   "execution_count": 31,
   "metadata": {},
   "outputs": [
    {
     "name": "stdout",
     "output_type": "stream",
     "text": [
      "2023-04-01 00:59:05,206 INFO sqlalchemy.engine.Engine INSERT INTO users (name, email) VALUES ('Jane Doe', 'jane@example.com');\n",
      "2023-04-01 00:59:05,207 INFO sqlalchemy.engine.Engine [generated in 0.00121s] ()\n",
      "2023-04-01 00:59:05,211 INFO sqlalchemy.engine.Engine COMMIT\n"
     ]
    }
   ],
   "source": [
    "# Insert a new user into the database using a raw SQL statement:\n",
    "query = text(\"INSERT INTO users (name, email) VALUES ('Jane Doe', 'jane@example.com');\")\n",
    "\n",
    "session.execute(query)\n",
    "session.commit()"
   ]
  },
  {
   "cell_type": "code",
   "execution_count": 32,
   "metadata": {},
   "outputs": [
    {
     "name": "stdout",
     "output_type": "stream",
     "text": [
      "Using version ^0.5.0 for ipython-sql\n",
      "\n",
      "Updating dependencies\n",
      "Resolving dependencies...\n",
      "\n",
      "Writing lock file\n",
      "\n",
      "Package operations: 3 installs, 0 updates, 0 removals\n",
      "\n",
      "  • Installing prettytable (3.6.0)\n",
      "  • Installing sqlparse (0.4.3)\n",
      "  • Installing ipython-sql (0.5.0)\n"
     ]
    }
   ],
   "source": [
    "# To visualize SQLite in Jupyter Notebook, you can use the ipython-sql library.\n",
    "\n",
    "! poetry add ipython-sql"
   ]
  },
  {
   "cell_type": "code",
   "execution_count": 33,
   "metadata": {},
   "outputs": [],
   "source": [
    "%load_ext sql"
   ]
  },
  {
   "cell_type": "code",
   "execution_count": 34,
   "metadata": {},
   "outputs": [],
   "source": [
    "%sql sqlite:///example.db"
   ]
  },
  {
   "cell_type": "code",
   "execution_count": 38,
   "metadata": {},
   "outputs": [
    {
     "name": "stdout",
     "output_type": "stream",
     "text": [
      " * sqlite:///example.db\n",
      "Done.\n"
     ]
    },
    {
     "data": {
      "text/html": [
       "<table>\n",
       "    <thead>\n",
       "        <tr>\n",
       "            <th>id</th>\n",
       "            <th>name</th>\n",
       "            <th>email</th>\n",
       "        </tr>\n",
       "    </thead>\n",
       "    <tbody>\n",
       "        <tr>\n",
       "            <td>1</td>\n",
       "            <td>Jane Doe</td>\n",
       "            <td>jane@example.com</td>\n",
       "        </tr>\n",
       "    </tbody>\n",
       "</table>"
      ],
      "text/plain": [
       "[(1, 'Jane Doe', 'jane@example.com')]"
      ]
     },
     "execution_count": 38,
     "metadata": {},
     "output_type": "execute_result"
    }
   ],
   "source": [
    "%sql select * from users"
   ]
  },
  {
   "cell_type": "code",
   "execution_count": 39,
   "metadata": {},
   "outputs": [],
   "source": [
    "# create 10 user records and add them to the session\n",
    "for i in range(10):\n",
    "    user = User(name=f\"User {i}\", email=f\"user{i}@example.com\")\n",
    "    session.add(user)"
   ]
  },
  {
   "cell_type": "code",
   "execution_count": 40,
   "metadata": {},
   "outputs": [
    {
     "name": "stdout",
     "output_type": "stream",
     "text": [
      " * sqlite:///example.db\n",
      "Done.\n"
     ]
    },
    {
     "data": {
      "text/html": [
       "<table>\n",
       "    <thead>\n",
       "        <tr>\n",
       "            <th>id</th>\n",
       "            <th>name</th>\n",
       "            <th>email</th>\n",
       "        </tr>\n",
       "    </thead>\n",
       "    <tbody>\n",
       "        <tr>\n",
       "            <td>1</td>\n",
       "            <td>Jane Doe</td>\n",
       "            <td>jane@example.com</td>\n",
       "        </tr>\n",
       "    </tbody>\n",
       "</table>"
      ],
      "text/plain": [
       "[(1, 'Jane Doe', 'jane@example.com')]"
      ]
     },
     "execution_count": 40,
     "metadata": {},
     "output_type": "execute_result"
    }
   ],
   "source": [
    "%sql select * from users"
   ]
  },
  {
   "cell_type": "code",
   "execution_count": 41,
   "metadata": {},
   "outputs": [
    {
     "name": "stdout",
     "output_type": "stream",
     "text": [
      "2023-04-01 01:06:05,921 INFO sqlalchemy.engine.Engine BEGIN (implicit)\n",
      "2023-04-01 01:06:05,923 INFO sqlalchemy.engine.Engine INSERT INTO users (name, email) VALUES (?, ?), (?, ?), (?, ?), (?, ?), (?, ?), (?, ?), (?, ?), (?, ?), (?, ?), (?, ?) RETURNING id\n",
      "2023-04-01 01:06:05,923 INFO sqlalchemy.engine.Engine [generated in 0.00011s (insertmanyvalues)] ('User 0', 'user0@example.com', 'User 1', 'user1@example.com', 'User 2', 'user2@example.com', 'User 3', 'user3@example.com', 'User 4', 'user4@example.com', 'User 5', 'user5@example.com', 'User 6', 'user6@example.com', 'User 7', 'user7@example.com', 'User 8', 'user8@example.com', 'User 9', 'user9@example.com')\n",
      "2023-04-01 01:06:05,928 INFO sqlalchemy.engine.Engine COMMIT\n"
     ]
    }
   ],
   "source": [
    "# commit the changes to the database\n",
    "session.commit()"
   ]
  },
  {
   "cell_type": "code",
   "execution_count": 42,
   "metadata": {},
   "outputs": [
    {
     "name": "stdout",
     "output_type": "stream",
     "text": [
      " * sqlite:///example.db\n",
      "Done.\n"
     ]
    },
    {
     "data": {
      "text/html": [
       "<table>\n",
       "    <thead>\n",
       "        <tr>\n",
       "            <th>id</th>\n",
       "            <th>name</th>\n",
       "            <th>email</th>\n",
       "        </tr>\n",
       "    </thead>\n",
       "    <tbody>\n",
       "        <tr>\n",
       "            <td>1</td>\n",
       "            <td>Jane Doe</td>\n",
       "            <td>jane@example.com</td>\n",
       "        </tr>\n",
       "        <tr>\n",
       "            <td>2</td>\n",
       "            <td>User 0</td>\n",
       "            <td>user0@example.com</td>\n",
       "        </tr>\n",
       "        <tr>\n",
       "            <td>3</td>\n",
       "            <td>User 1</td>\n",
       "            <td>user1@example.com</td>\n",
       "        </tr>\n",
       "        <tr>\n",
       "            <td>4</td>\n",
       "            <td>User 2</td>\n",
       "            <td>user2@example.com</td>\n",
       "        </tr>\n",
       "        <tr>\n",
       "            <td>5</td>\n",
       "            <td>User 3</td>\n",
       "            <td>user3@example.com</td>\n",
       "        </tr>\n",
       "        <tr>\n",
       "            <td>6</td>\n",
       "            <td>User 4</td>\n",
       "            <td>user4@example.com</td>\n",
       "        </tr>\n",
       "        <tr>\n",
       "            <td>7</td>\n",
       "            <td>User 5</td>\n",
       "            <td>user5@example.com</td>\n",
       "        </tr>\n",
       "        <tr>\n",
       "            <td>8</td>\n",
       "            <td>User 6</td>\n",
       "            <td>user6@example.com</td>\n",
       "        </tr>\n",
       "        <tr>\n",
       "            <td>9</td>\n",
       "            <td>User 7</td>\n",
       "            <td>user7@example.com</td>\n",
       "        </tr>\n",
       "        <tr>\n",
       "            <td>10</td>\n",
       "            <td>User 8</td>\n",
       "            <td>user8@example.com</td>\n",
       "        </tr>\n",
       "        <tr>\n",
       "            <td>11</td>\n",
       "            <td>User 9</td>\n",
       "            <td>user9@example.com</td>\n",
       "        </tr>\n",
       "    </tbody>\n",
       "</table>"
      ],
      "text/plain": [
       "[(1, 'Jane Doe', 'jane@example.com'),\n",
       " (2, 'User 0', 'user0@example.com'),\n",
       " (3, 'User 1', 'user1@example.com'),\n",
       " (4, 'User 2', 'user2@example.com'),\n",
       " (5, 'User 3', 'user3@example.com'),\n",
       " (6, 'User 4', 'user4@example.com'),\n",
       " (7, 'User 5', 'user5@example.com'),\n",
       " (8, 'User 6', 'user6@example.com'),\n",
       " (9, 'User 7', 'user7@example.com'),\n",
       " (10, 'User 8', 'user8@example.com'),\n",
       " (11, 'User 9', 'user9@example.com')]"
      ]
     },
     "execution_count": 42,
     "metadata": {},
     "output_type": "execute_result"
    }
   ],
   "source": [
    "%sql select * from users"
   ]
  }
 ],
 "metadata": {
  "kernelspec": {
   "display_name": "pythonmaterial-4Fyt9FjG-py3.11",
   "language": "python",
   "name": "python3"
  },
  "language_info": {
   "codemirror_mode": {
    "name": "ipython",
    "version": 3
   },
   "file_extension": ".py",
   "mimetype": "text/x-python",
   "name": "python",
   "nbconvert_exporter": "python",
   "pygments_lexer": "ipython3",
   "version": "3.11.2"
  },
  "orig_nbformat": 4
 },
 "nbformat": 4,
 "nbformat_minor": 2
}
