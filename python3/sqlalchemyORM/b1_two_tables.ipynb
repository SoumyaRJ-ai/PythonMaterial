{
 "cells": [
  {
   "cell_type": "code",
   "execution_count": null,
   "metadata": {},
   "outputs": [],
   "source": [
    "from datetime import datetime\n",
    "\n",
    "\n",
    "from sqlalchemy import (\n",
    "    create_engine,\n",
    "    Column,\n",
    "    Integer,\n",
    "    String,\n",
    "    ForeignKey,\n",
    "    DateTime,\n",
    "    text,\n",
    ")\n",
    "from sqlalchemy.orm import sessionmaker, relationship, declarative_base"
   ]
  },
  {
   "cell_type": "code",
   "execution_count": null,
   "metadata": {},
   "outputs": [],
   "source": [
    "# create the engine and session\n",
    "engine = create_engine(\"sqlite:///b_two_tables.db\")\n",
    "Session = sessionmaker(bind=engine)\n",
    "session = Session()"
   ]
  },
  {
   "cell_type": "code",
   "execution_count": null,
   "metadata": {},
   "outputs": [],
   "source": [
    "Base = declarative_base()"
   ]
  },
  {
   "cell_type": "raw",
   "metadata": {},
   "source": [
    "Users\n",
    "-----\n",
    "user_id (PK)\n",
    "username\n",
    "email\n",
    "password\n",
    "\n",
    "Posts\n",
    "-----\n",
    "post_id (PK)\n",
    "user_id (FK)\n",
    "title\n",
    "content\n",
    "created_at\n"
   ]
  },
  {
   "cell_type": "code",
   "execution_count": null,
   "metadata": {},
   "outputs": [],
   "source": [
    "class User(Base):\n",
    "    __tablename__ = \"users\"\n",
    "\n",
    "    user_id = Column(Integer, primary_key=True)\n",
    "    username = Column(String(50), nullable=False)\n",
    "    email = Column(String(50), nullable=False, unique=True)\n",
    "    password = Column(String(50), nullable=False)\n",
    "\n",
    "    posts = relationship(\"Post\", backref=\"user\", lazy=True)\n",
    "\n",
    "\n",
    "class Post(Base):\n",
    "    __tablename__ = \"posts\"\n",
    "\n",
    "    post_id = Column(Integer, primary_key=True)\n",
    "    user_id = Column(Integer, ForeignKey(\"users.user_id\"), nullable=False)\n",
    "    title = Column(String(50), nullable=False)\n",
    "    content = Column(String, nullable=False)\n",
    "    created_at = Column(DateTime, nullable=False, default=datetime.now)"
   ]
  },
  {
   "cell_type": "code",
   "execution_count": null,
   "metadata": {},
   "outputs": [],
   "source": [
    "# create the tables\n",
    "Base.metadata.create_all(engine)"
   ]
  },
  {
   "cell_type": "code",
   "execution_count": null,
   "metadata": {},
   "outputs": [],
   "source": [
    "# create a new user and add it to the database\n",
    "new_user = User(username=\"john\", email=\"john@example.com\", password=\"password\")\n",
    "session.add(new_user)\n",
    "session.commit()"
   ]
  },
  {
   "cell_type": "code",
   "execution_count": null,
   "metadata": {},
   "outputs": [],
   "source": [
    "# create a new post for the user and add it to the database\n",
    "\n",
    "new_post = Post(title=\"My first post\", content=\"Hello, world!\", user=new_user)\n",
    "session.add(new_post)\n",
    "session.commit()"
   ]
  },
  {
   "cell_type": "code",
   "execution_count": null,
   "metadata": {},
   "outputs": [],
   "source": [
    "# retrieve all posts for a user\n",
    "user_posts = session.query(Post).filter_by(user_id=new_user.user_id).all()"
   ]
  }
 ],
 "metadata": {
  "kernelspec": {
   "display_name": "pythonmaterial-4Fyt9FjG-py3.11",
   "language": "python",
   "name": "python3"
  },
  "language_info": {
   "codemirror_mode": {
    "name": "ipython",
    "version": 3
   },
   "file_extension": ".py",
   "mimetype": "text/x-python",
   "name": "python",
   "nbconvert_exporter": "python",
   "pygments_lexer": "ipython3",
   "version": "3.11.2"
  },
  "orig_nbformat": 4
 },
 "nbformat": 4,
 "nbformat_minor": 2
}
