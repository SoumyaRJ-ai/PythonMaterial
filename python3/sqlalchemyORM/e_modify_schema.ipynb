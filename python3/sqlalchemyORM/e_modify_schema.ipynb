{
 "cells": [
  {
   "cell_type": "code",
   "execution_count": 1,
   "metadata": {},
   "outputs": [
    {
     "name": "stdout",
     "output_type": "stream",
     "text": [
      "Using version ^1.10.2 for alembic\n",
      "\n",
      "Updating dependencies\n",
      "Resolving dependencies...\n",
      "\n",
      "Writing lock file\n",
      "\n",
      "Package operations: 2 installs, 0 updates, 0 removals\n",
      "\n",
      "  • Installing mako (1.2.4)\n",
      "  • Installing alembic (1.10.2)\n"
     ]
    }
   ],
   "source": [
    "! poetry add alembic"
   ]
  },
  {
   "cell_type": "code",
   "execution_count": 2,
   "metadata": {},
   "outputs": [
    {
     "name": "stdout",
     "output_type": "stream",
     "text": [
      "Creating directory d:\\MEGAsync\\Python-related\\PythonMaterial\\python3\\sqlalchemyORM\\alembic ...  done\n",
      "Creating directory d:\\MEGAsync\\Python-related\\PythonMaterial\\python3\\sqlalchemyORM\\alembic\\versions ...  done\n",
      "Generating d:\\MEGAsync\\Python-related\\PythonMaterial\\python3\\sqlalchemyORM\\alembic.ini ...  done\n",
      "Generating d:\\MEGAsync\\Python-related\\PythonMaterial\\python3\\sqlalchemyORM\\alembic\\env.py ...  done\n",
      "Generating d:\\MEGAsync\\Python-related\\PythonMaterial\\python3\\sqlalchemyORM\\alembic\\README ...  done\n",
      "Generating d:\\MEGAsync\\Python-related\\PythonMaterial\\python3\\sqlalchemyORM\\alembic\\script.py.mako ...  done\n",
      "Please edit configuration/connection/logging settings in 'd:\\\\MEGAsync\\\\Python-related\\\\PythonMaterial\\\\python3\\\\sqlalchemyORM\\\\alembic.ini' before proceeding.\n"
     ]
    }
   ],
   "source": [
    "! alembic init alembic"
   ]
  },
  {
   "attachments": {},
   "cell_type": "markdown",
   "metadata": {},
   "source": [
    "This will create a new directory called alembic with a alembic.ini configuration file and a versions directory to store migration scripts.\n",
    "\n",
    "Open the env.py file in the alembic directory and configure the database URL"
   ]
  },
  {
   "cell_type": "code",
   "execution_count": 6,
   "metadata": {},
   "outputs": [
    {
     "name": "stderr",
     "output_type": "stream",
     "text": [
      "Traceback (most recent call last):\n",
      "  File \"<frozen runpy>\", line 198, in _run_module_as_main\n",
      "  File \"<frozen runpy>\", line 88, in _run_code\n",
      "  File \"c:\\Users\\Amma\\AppData\\Local\\pypoetry\\Cache\\virtualenvs\\pythonmaterial-4Fyt9FjG-py3.11\\Scripts\\alembic.exe\\__main__.py\", line 7, in <module>\n",
      "  File \"C:\\Users\\Amma\\AppData\\Local\\pypoetry\\Cache\\virtualenvs\\pythonmaterial-4Fyt9FjG-py3.11\\Lib\\site-packages\\alembic\\config.py\", line 591, in main\n",
      "    CommandLine(prog=prog).main(argv=argv)\n",
      "  File \"C:\\Users\\Amma\\AppData\\Local\\pypoetry\\Cache\\virtualenvs\\pythonmaterial-4Fyt9FjG-py3.11\\Lib\\site-packages\\alembic\\config.py\", line 585, in main\n",
      "    self.run_cmd(cfg, options)\n",
      "  File \"C:\\Users\\Amma\\AppData\\Local\\pypoetry\\Cache\\virtualenvs\\pythonmaterial-4Fyt9FjG-py3.11\\Lib\\site-packages\\alembic\\config.py\", line 562, in run_cmd\n",
      "    fn(\n",
      "  File \"C:\\Users\\Amma\\AppData\\Local\\pypoetry\\Cache\\virtualenvs\\pythonmaterial-4Fyt9FjG-py3.11\\Lib\\site-packages\\alembic\\command.py\", line 229, in revision\n",
      "    script_directory.run_env()\n",
      "  File \"C:\\Users\\Amma\\AppData\\Local\\pypoetry\\Cache\\virtualenvs\\pythonmaterial-4Fyt9FjG-py3.11\\Lib\\site-packages\\alembic\\script\\base.py\", line 576, in run_env\n",
      "    util.load_python_file(self.dir, \"env.py\")\n",
      "  File \"C:\\Users\\Amma\\AppData\\Local\\pypoetry\\Cache\\virtualenvs\\pythonmaterial-4Fyt9FjG-py3.11\\Lib\\site-packages\\alembic\\util\\pyfiles.py\", line 94, in load_python_file\n",
      "    module = load_module_py(module_id, path)\n",
      "             ^^^^^^^^^^^^^^^^^^^^^^^^^^^^^^^\n",
      "  File \"C:\\Users\\Amma\\AppData\\Local\\pypoetry\\Cache\\virtualenvs\\pythonmaterial-4Fyt9FjG-py3.11\\Lib\\site-packages\\alembic\\util\\pyfiles.py\", line 110, in load_module_py\n",
      "    spec.loader.exec_module(module)  # type: ignore\n",
      "    ^^^^^^^^^^^^^^^^^^^^^^^^^^^^^^^\n",
      "  File \"<frozen importlib._bootstrap_external>\", line 940, in exec_module\n",
      "  File \"<frozen importlib._bootstrap>\", line 241, in _call_with_frames_removed\n",
      "  File \"d:\\MEGAsync\\Python-related\\PythonMaterial\\python3\\sqlalchemyORM\\alembic\\env.py\", line 9, in <module>\n",
      "    from alembic.operations import process_revision_directives\n",
      "ImportError: cannot import name 'process_revision_directives' from 'alembic.operations' (C:\\Users\\Amma\\AppData\\Local\\pypoetry\\Cache\\virtualenvs\\pythonmaterial-4Fyt9FjG-py3.11\\Lib\\site-packages\\alembic\\operations\\__init__.py)\n"
     ]
    }
   ],
   "source": [
    "# Generate a new migration script:\n",
    "! alembic revision --autogenerate -m \"Add age column to users table\""
   ]
  },
  {
   "cell_type": "code",
   "execution_count": 5,
   "metadata": {},
   "outputs": [
    {
     "name": "stdout",
     "output_type": "stream",
     "text": [
      "Updating dependencies\n",
      "Resolving dependencies...\n",
      "\n",
      "No dependencies to install or update\n"
     ]
    }
   ],
   "source": [
    "! poetry update alembic"
   ]
  },
  {
   "cell_type": "code",
   "execution_count": null,
   "metadata": {},
   "outputs": [],
   "source": []
  }
 ],
 "metadata": {
  "kernelspec": {
   "display_name": "pythonmaterial-4Fyt9FjG-py3.11",
   "language": "python",
   "name": "python3"
  },
  "language_info": {
   "codemirror_mode": {
    "name": "ipython",
    "version": 3
   },
   "file_extension": ".py",
   "mimetype": "text/x-python",
   "name": "python",
   "nbconvert_exporter": "python",
   "pygments_lexer": "ipython3",
   "version": "3.11.2"
  },
  "orig_nbformat": 4
 },
 "nbformat": 4,
 "nbformat_minor": 2
}
