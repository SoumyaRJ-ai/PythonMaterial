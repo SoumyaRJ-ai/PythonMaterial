{
 "cells": [
  {
   "cell_type": "code",
   "execution_count": 108,
   "metadata": {},
   "outputs": [],
   "source": [
    "from sys import getsizeof"
   ]
  },
  {
   "cell_type": "code",
   "execution_count": 109,
   "metadata": {},
   "outputs": [
    {
     "name": "stdout",
     "output_type": "stream",
     "text": [
      "56 []\n"
     ]
    }
   ],
   "source": [
    "mylist = []\n",
    "\n",
    "print(getsizeof(mylist), mylist)"
   ]
  },
  {
   "cell_type": "markdown",
   "metadata": {},
   "source": [
    "The exact size of an empty list can vary across different Python versions and implementations.\n",
    "\n",
    "    A single pointer to an element requires 8 bytes of space in a list. \n",
    "    Whenever additional elements are added to the list, Python dynamically allocates extra memory to accommodate future elements without resizing the container. \n",
    "    This implies, adding a single element to an empty list will incite Python to allocate more memory than 8 bytes.\n",
    "\n"
   ]
  },
  {
   "cell_type": "code",
   "execution_count": 110,
   "metadata": {},
   "outputs": [
    {
     "name": "stdout",
     "output_type": "stream",
     "text": [
      "88 [1]\n"
     ]
    }
   ],
   "source": [
    "mylist.append(1)\n",
    "\n",
    "print(getsizeof(mylist), mylist)"
   ]
  },
  {
   "cell_type": "markdown",
   "metadata": {},
   "source": [
    "- The list size should be 64 (56 existing size + 8 bytes for one element), But is 88 bytes.\n",
    "- It means python over allocates 32 extra bytes, for future 3 more elements. \n",
    "- So, size need not be changed during adding next 3 elements."
   ]
  },
  {
   "cell_type": "code",
   "execution_count": 111,
   "metadata": {},
   "outputs": [
    {
     "name": "stdout",
     "output_type": "stream",
     "text": [
      "88 [1, 11]\n"
     ]
    }
   ],
   "source": [
    "mylist.append(11)\n",
    "\n",
    "print(getsizeof(mylist), mylist)"
   ]
  },
  {
   "cell_type": "code",
   "execution_count": 112,
   "metadata": {},
   "outputs": [
    {
     "name": "stdout",
     "output_type": "stream",
     "text": [
      "88 [1, 11, 111, 1111]\n"
     ]
    }
   ],
   "source": [
    "mylist.extend([111, 1111])\n",
    "\n",
    "print(getsizeof(mylist), mylist)"
   ]
  },
  {
   "cell_type": "markdown",
   "metadata": {},
   "source": [
    "So, size re-allocation happends for every 4 elements"
   ]
  },
  {
   "cell_type": "code",
   "execution_count": 113,
   "metadata": {},
   "outputs": [
    {
     "name": "stdout",
     "output_type": "stream",
     "text": [
      "120 [1, 11, 111, 1111, 2]\n"
     ]
    }
   ],
   "source": [
    "mylist.append(2)\n",
    "\n",
    "print(getsizeof(mylist), mylist)"
   ]
  },
  {
   "cell_type": "code",
   "execution_count": 114,
   "metadata": {},
   "outputs": [
    {
     "name": "stdout",
     "output_type": "stream",
     "text": [
      "120 [1, 11, 111, 1111, 2, 22, 222, 2222]\n"
     ]
    }
   ],
   "source": [
    "mylist.extend([22, 222, 2222])\n",
    "\n",
    "print(getsizeof(mylist), mylist)"
   ]
  },
  {
   "cell_type": "code",
   "execution_count": 115,
   "metadata": {},
   "outputs": [
    {
     "name": "stdout",
     "output_type": "stream",
     "text": [
      " 88,  1, [0]\n",
      " 88,  2, [0, 1]\n",
      " 88,  3, [0, 1, 2]\n",
      " 88,  4, [0, 1, 2, 3]\n",
      "\n",
      "120,  5, [0, 1, 2, 3, 4]\n",
      "120,  6, [0, 1, 2, 3, 4, 5]\n",
      "120,  7, [0, 1, 2, 3, 4, 5, 6]\n",
      "120,  8, [0, 1, 2, 3, 4, 5, 6, 7]\n",
      "\n",
      "184,  9, [0, 1, 2, 3, 4, 5, 6, 7, 8]\n",
      "184, 10, [0, 1, 2, 3, 4, 5, 6, 7, 8, 9]\n",
      "184, 11, [0, 1, 2, 3, 4, 5, 6, 7, 8, 9, 10]\n",
      "184, 12, [0, 1, 2, 3, 4, 5, 6, 7, 8, 9, 10, 11]\n",
      "\n"
     ]
    }
   ],
   "source": [
    "mylist2 = []\n",
    "for i in range(12):\n",
    "    mylist2.append(i)\n",
    "    print(f\"{getsizeof(mylist2):3}, {len(mylist2):2}, {mylist2}\")\n",
    "    if (i % 4) - 3 == 0:\n",
    "        print()"
   ]
  },
  {
   "cell_type": "markdown",
   "metadata": {},
   "source": [
    "NOTE:\n",
    "\n",
    "    - This static pre-allocation will make your code go slightly faster.\n",
    "    - But this dynamic memory allocation results in slower execution time."
   ]
  },
  {
   "cell_type": "markdown",
   "metadata": {},
   "source": [
    "### Pre-Allocation Memory in list, for Better Performance"
   ]
  },
  {
   "cell_type": "code",
   "execution_count": 116,
   "metadata": {},
   "outputs": [
    {
     "name": "stdout",
     "output_type": "stream",
     "text": [
      "628 µs ± 24.1 µs per loop (mean ± std. dev. of 7 runs, 1000 loops each)\n"
     ]
    }
   ],
   "source": [
    "%%timeit\n",
    "\n",
    "mylist3 = []\n",
    "for i in range(10_000):\n",
    "    mylist3.append(i)"
   ]
  },
  {
   "cell_type": "code",
   "execution_count": 117,
   "metadata": {},
   "outputs": [
    {
     "name": "stdout",
     "output_type": "stream",
     "text": [
      "499 µs ± 19.7 µs per loop (mean ± std. dev. of 7 runs, 1000 loops each)\n"
     ]
    }
   ],
   "source": [
    "%%timeit\n",
    "\n",
    "size = 10_000\n",
    "mylist4 = [None] * size\n",
    "for i in range(size):\n",
    "    mylist4[i] = i"
   ]
  },
  {
   "cell_type": "code",
   "execution_count": 118,
   "metadata": {},
   "outputs": [
    {
     "name": "stdout",
     "output_type": "stream",
     "text": [
      "353 µs ± 22.2 µs per loop (mean ± std. dev. of 7 runs, 1000 loops each)\n"
     ]
    }
   ],
   "source": [
    "%%timeit\n",
    "\n",
    "[i for i in range(10_000)]"
   ]
  },
  {
   "cell_type": "markdown",
   "metadata": {},
   "source": [
    "List comprehensions are much faster than static preallocation technique, but cant be used in all situations."
   ]
  },
  {
   "cell_type": "markdown",
   "metadata": {},
   "source": [
    "### Checking memory, for other datatypes"
   ]
  },
  {
   "cell_type": "code",
   "execution_count": 119,
   "metadata": {},
   "outputs": [
    {
     "name": "stdout",
     "output_type": "stream",
     "text": [
      "56 40 216 64\n"
     ]
    }
   ],
   "source": [
    "print(getsizeof(list()), getsizeof(tuple()), getsizeof(set()), getsizeof(dict()))"
   ]
  },
  {
   "cell_type": "code",
   "execution_count": 120,
   "metadata": {},
   "outputs": [
    {
     "name": "stdout",
     "output_type": "stream",
     "text": [
      "51 50 50 51 52 52 52\n"
     ]
    }
   ],
   "source": [
    "print(\n",
    "    getsizeof(\"\"),  # 51\n",
    "    getsizeof(\" \"),\n",
    "    getsizeof(\"a\"),  # 50\n",
    "    getsizeof(\"aa\"),  # 51\n",
    "    getsizeof(\"aaa\"),\n",
    "    getsizeof(\"ZZZ\"),\n",
    "    getsizeof(\"456\"),  # 52\n",
    ")\n",
    "# For strings, 1 byte is added for each character added"
   ]
  },
  {
   "cell_type": "code",
   "execution_count": 121,
   "metadata": {},
   "outputs": [
    {
     "name": "stdout",
     "output_type": "stream",
     "text": [
      "28 28 32 32 36 36\n"
     ]
    }
   ],
   "source": [
    "print(\n",
    "    getsizeof(1 * (10**0)),\n",
    "    getsizeof(1 * (10**9)),  # 28\n",
    "    getsizeof(1 * (10**10)),\n",
    "    getsizeof(1 * (10**18)),  # 32\n",
    "    getsizeof(1 * (10**19)),\n",
    "    getsizeof(1 * (10**27)),  # 36\n",
    ")"
   ]
  },
  {
   "cell_type": "markdown",
   "metadata": {},
   "source": [
    "### To get internal Memory"
   ]
  },
  {
   "cell_type": "code",
   "execution_count": 122,
   "metadata": {},
   "outputs": [
    {
     "name": "stdout",
     "output_type": "stream",
     "text": [
      "Requirement already satisfied: pympler in c:\\users\\amma\\appdata\\local\\programs\\python\\python310\\lib\\site-packages (1.0.1)\n"
     ]
    }
   ],
   "source": [
    "! python -m pip install -U pympler"
   ]
  },
  {
   "cell_type": "code",
   "execution_count": 123,
   "metadata": {},
   "outputs": [],
   "source": [
    "from pympler import asizeof"
   ]
  },
  {
   "cell_type": "code",
   "execution_count": 124,
   "metadata": {},
   "outputs": [
    {
     "name": "stdout",
     "output_type": "stream",
     "text": [
      "120 280\n"
     ]
    }
   ],
   "source": [
    "mylist1 = [1, 2, 3, 4, 5]\n",
    "print(getsizeof(mylist1), asizeof.asizeof(mylist1))"
   ]
  },
  {
   "cell_type": "code",
   "execution_count": 125,
   "metadata": {},
   "outputs": [
    {
     "name": "stdout",
     "output_type": "stream",
     "text": [
      "[1, 2, 3, 4, 5] size=280 flat=120\n",
      "    1 size=32 flat=32\n",
      "    2 size=32 flat=32\n",
      "    3 size=32 flat=32\n",
      "    4 size=32 flat=32\n",
      "    5 size=32 flat=32\n"
     ]
    }
   ],
   "source": [
    "print(asizeof.asized([1, 2, 3, 4, 5], detail=1).format())\n",
    "\n",
    "# list will store pointer references to all elements\n",
    "# flat means that reference size only\n",
    "# pympler.asizeof.asized will give entire size"
   ]
  },
  {
   "cell_type": "code",
   "execution_count": 126,
   "metadata": {},
   "outputs": [
    {
     "name": "stdout",
     "output_type": "stream",
     "text": [
      "[1, 2.3, None, [3, 4], 'string'] size=360 flat=96\n",
      "    [3, 4] size=136 flat=72\n",
      "    'string' size=56 flat=56\n",
      "    1 size=32 flat=32\n",
      "    2.3 size=24 flat=24\n",
      "    None size=16 flat=16\n"
     ]
    }
   ],
   "source": [
    "print(asizeof.asized([1, 2.3, None, [3, 4], \"string\"], detail=1).format())"
   ]
  },
  {
   "cell_type": "code",
   "execution_count": null,
   "metadata": {},
   "outputs": [],
   "source": []
  }
 ],
 "metadata": {
  "interpreter": {
   "hash": "e93b00bebc6ad5695ca4f79108553a5d9b769ddc9f0ccc1f28f3e162a494c9ab"
  },
  "kernelspec": {
   "display_name": "Python 3.10.0 64-bit",
   "language": "python",
   "name": "python3"
  },
  "language_info": {
   "codemirror_mode": {
    "name": "ipython",
    "version": 3
   },
   "file_extension": ".py",
   "mimetype": "text/x-python",
   "name": "python",
   "nbconvert_exporter": "python",
   "pygments_lexer": "ipython3",
   "version": "3.10.0"
  },
  "orig_nbformat": 4
 },
 "nbformat": 4,
 "nbformat_minor": 2
}
