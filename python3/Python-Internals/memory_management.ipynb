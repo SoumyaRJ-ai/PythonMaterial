{
 "cells": [
  {
   "cell_type": "code",
   "execution_count": 43,
   "metadata": {},
   "outputs": [],
   "source": [
    "from sys import getsizeof"
   ]
  },
  {
   "cell_type": "code",
   "execution_count": 44,
   "metadata": {},
   "outputs": [
    {
     "name": "stdout",
     "output_type": "stream",
     "text": [
      "56 []\n"
     ]
    }
   ],
   "source": [
    "mylist = []\n",
    "\n",
    "print(getsizeof(mylist), mylist)"
   ]
  },
  {
   "cell_type": "markdown",
   "metadata": {},
   "source": [
    "The exact size of an empty list can vary across different Python versions and implementations.\n",
    "\n",
    "    A single pointer to an element requires 8 bytes of space in a list. \n",
    "    Whenever additional elements are added to the list, Python dynamically allocates extra memory to accommodate future elements without resizing the container. \n",
    "    This implies, adding a single element to an empty list will incite Python to allocate more memory than 8 bytes.\n",
    "\n"
   ]
  },
  {
   "cell_type": "code",
   "execution_count": 45,
   "metadata": {},
   "outputs": [
    {
     "name": "stdout",
     "output_type": "stream",
     "text": [
      "88 [1]\n"
     ]
    }
   ],
   "source": [
    "mylist.append(1)\n",
    "\n",
    "print(getsizeof(mylist), mylist)"
   ]
  },
  {
   "cell_type": "markdown",
   "metadata": {},
   "source": [
    "- The list size should be 64 (56 existing size + 8 bytes for one element), But is 88 bytes.\n",
    "- It means python over allocates 32 extra bytes, for future 3 more elements. \n",
    "- So, size need not be changed during adding next 3 elements."
   ]
  },
  {
   "cell_type": "code",
   "execution_count": 46,
   "metadata": {},
   "outputs": [
    {
     "name": "stdout",
     "output_type": "stream",
     "text": [
      "88 [1, 11]\n"
     ]
    }
   ],
   "source": [
    "mylist.append(11)\n",
    "\n",
    "print(getsizeof(mylist), mylist)"
   ]
  },
  {
   "cell_type": "code",
   "execution_count": 47,
   "metadata": {},
   "outputs": [
    {
     "name": "stdout",
     "output_type": "stream",
     "text": [
      "88 [1, 11, 111, 1111]\n"
     ]
    }
   ],
   "source": [
    "mylist.extend([111, 1111])\n",
    "\n",
    "print(getsizeof(mylist), mylist)"
   ]
  },
  {
   "cell_type": "markdown",
   "metadata": {},
   "source": [
    "So, size re-allocation happends for every 4 elements"
   ]
  },
  {
   "cell_type": "code",
   "execution_count": 48,
   "metadata": {},
   "outputs": [
    {
     "name": "stdout",
     "output_type": "stream",
     "text": [
      "120 [1, 11, 111, 1111, 2]\n"
     ]
    }
   ],
   "source": [
    "mylist.append(2)\n",
    "\n",
    "print(getsizeof(mylist), mylist)"
   ]
  },
  {
   "cell_type": "code",
   "execution_count": 49,
   "metadata": {},
   "outputs": [
    {
     "name": "stdout",
     "output_type": "stream",
     "text": [
      "120 [1, 11, 111, 1111, 2, 22, 222, 2222]\n"
     ]
    }
   ],
   "source": [
    "mylist.extend([22, 222, 2222])\n",
    "\n",
    "print(getsizeof(mylist), mylist)"
   ]
  },
  {
   "cell_type": "code",
   "execution_count": 50,
   "metadata": {},
   "outputs": [
    {
     "name": "stdout",
     "output_type": "stream",
     "text": [
      " 88,  1, [0]\n",
      " 88,  2, [0, 1]\n",
      " 88,  3, [0, 1, 2]\n",
      " 88,  4, [0, 1, 2, 3]\n",
      "\n",
      "120,  5, [0, 1, 2, 3, 4]\n",
      "120,  6, [0, 1, 2, 3, 4, 5]\n",
      "120,  7, [0, 1, 2, 3, 4, 5, 6]\n",
      "120,  8, [0, 1, 2, 3, 4, 5, 6, 7]\n",
      "\n",
      "184,  9, [0, 1, 2, 3, 4, 5, 6, 7, 8]\n",
      "184, 10, [0, 1, 2, 3, 4, 5, 6, 7, 8, 9]\n",
      "184, 11, [0, 1, 2, 3, 4, 5, 6, 7, 8, 9, 10]\n",
      "184, 12, [0, 1, 2, 3, 4, 5, 6, 7, 8, 9, 10, 11]\n",
      "\n"
     ]
    }
   ],
   "source": [
    "mylist2 = []\n",
    "for i in range(12):\n",
    "    mylist2.append(i)\n",
    "    print(f\"{getsizeof(mylist2):3}, {len(mylist2):2}, {mylist2}\")\n",
    "    if (i % 4) - 3 == 0:\n",
    "        print()"
   ]
  },
  {
   "cell_type": "markdown",
   "metadata": {},
   "source": [
    "NOTE:\n",
    "\n",
    "    - This static pre-allocation will make your code go slightly faster.\n",
    "    - But this dynamic memory allocation results in slower execution time."
   ]
  },
  {
   "cell_type": "markdown",
   "metadata": {},
   "source": [
    "### Pre-Allocation Memory in list, for Better Performance"
   ]
  },
  {
   "cell_type": "code",
   "execution_count": 51,
   "metadata": {},
   "outputs": [
    {
     "name": "stdout",
     "output_type": "stream",
     "text": [
      "761 µs ± 45.5 µs per loop (mean ± std. dev. of 7 runs, 1000 loops each)\n"
     ]
    }
   ],
   "source": [
    "%%timeit\n",
    "\n",
    "mylist3 = []\n",
    "for i in range(10_000):\n",
    "    mylist3.append(i)"
   ]
  },
  {
   "cell_type": "code",
   "execution_count": 52,
   "metadata": {},
   "outputs": [
    {
     "name": "stdout",
     "output_type": "stream",
     "text": [
      "629 µs ± 171 µs per loop (mean ± std. dev. of 7 runs, 1000 loops each)\n"
     ]
    }
   ],
   "source": [
    "%%timeit\n",
    "\n",
    "size = 10_000\n",
    "mylist4 = [None] * size\n",
    "for i in range(size):\n",
    "    mylist4[i] = i"
   ]
  },
  {
   "cell_type": "code",
   "execution_count": 53,
   "metadata": {},
   "outputs": [
    {
     "name": "stdout",
     "output_type": "stream",
     "text": [
      "456 µs ± 181 µs per loop (mean ± std. dev. of 7 runs, 1000 loops each)\n"
     ]
    }
   ],
   "source": [
    "%%timeit\n",
    "\n",
    "[i for i in range(10_000)]"
   ]
  },
  {
   "cell_type": "markdown",
   "metadata": {},
   "source": [
    "List comprehensions are much faster than static preallocation technique, but cant be used in all situations."
   ]
  },
  {
   "cell_type": "code",
   "execution_count": null,
   "metadata": {},
   "outputs": [],
   "source": []
  }
 ],
 "metadata": {
  "interpreter": {
   "hash": "e93b00bebc6ad5695ca4f79108553a5d9b769ddc9f0ccc1f28f3e162a494c9ab"
  },
  "kernelspec": {
   "display_name": "Python 3.10.0 64-bit",
   "language": "python",
   "name": "python3"
  },
  "language_info": {
   "codemirror_mode": {
    "name": "ipython",
    "version": 3
   },
   "file_extension": ".py",
   "mimetype": "text/x-python",
   "name": "python",
   "nbconvert_exporter": "python",
   "pygments_lexer": "ipython3",
   "version": "3.10.0"
  },
  "orig_nbformat": 4
 },
 "nbformat": 4,
 "nbformat_minor": 2
}
