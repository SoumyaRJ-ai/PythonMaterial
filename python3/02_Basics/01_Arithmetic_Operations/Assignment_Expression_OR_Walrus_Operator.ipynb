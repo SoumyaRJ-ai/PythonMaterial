{
 "cells": [
  {
   "cell_type": "markdown",
   "metadata": {},
   "source": [
    "### Assignment Expression (OR) Walrus Operator\n",
    "\n",
    "Introducted in python 3.8\n",
    "\n",
    "PEP 572 describes all the details of assignment expressions"
   ]
  },
  {
   "cell_type": "code",
   "execution_count": 3,
   "metadata": {},
   "outputs": [
    {
     "name": "stdout",
     "output_type": "stream",
     "text": [
      "True\n"
     ]
    }
   ],
   "source": [
    "result = True\n",
    "print(result)"
   ]
  },
  {
   "cell_type": "code",
   "execution_count": 4,
   "metadata": {},
   "outputs": [
    {
     "name": "stdout",
     "output_type": "stream",
     "text": [
      "False\n"
     ]
    }
   ],
   "source": [
    "print(result := False)"
   ]
  },
  {
   "cell_type": "code",
   "execution_count": 5,
   "metadata": {},
   "outputs": [
    {
     "name": "stdout",
     "output_type": "stream",
     "text": [
      "Write something: 12\n",
      "Write something: 34\n",
      "Write something: 'quit'\n",
      "Write something: quit\n"
     ]
    }
   ],
   "source": [
    "# without walrus operator\n",
    "\n",
    "inputs = list()\n",
    "while True:\n",
    "    current = input(\"Write something: \")\n",
    "    if current == \"quit\":\n",
    "        break\n",
    "    inputs.append(current)"
   ]
  },
  {
   "cell_type": "code",
   "execution_count": 6,
   "metadata": {},
   "outputs": [
    {
     "name": "stdout",
     "output_type": "stream",
     "text": [
      "Write something: 12\n",
      "Write something: 34\n",
      "Write something: quit\n"
     ]
    }
   ],
   "source": [
    "# with walrus operator\n",
    "\n",
    "inputs = list()\n",
    "while (current := input(\"Write something: \")) != \"quit\":\n",
    "    inputs.append(current)"
   ]
  },
  {
   "cell_type": "code",
   "execution_count": 1,
   "metadata": {},
   "outputs": [
    {
     "name": "stdout",
     "output_type": "stream",
     "text": [
      "List is too long (4 elements, expected <= 3)\n"
     ]
    }
   ],
   "source": [
    "a = [1, 2, 3, 4]\n",
    "if (n := len(a)) > 3:\n",
    "    print(f\"List is too long ({n} elements, expected <= 3)\")"
   ]
  },
  {
   "cell_type": "code",
   "execution_count": 2,
   "metadata": {},
   "outputs": [
    {
     "name": "stdout",
     "output_type": "stream",
     "text": [
      "With Python 3.8 Walrus Operator:\n",
      "Found name: \"rahul\"\n",
      "Found name: \"rohit\"\n",
      "Found name: \"ram\"\n",
      "Found name: \"ravan\"\n",
      "Without Walrus operator:\n",
      "Found name: \"rahul\"\n",
      "Found name: \"rohit\"\n",
      "Found name: \"ram\"\n",
      "Found name: \"ravan\"\n"
     ]
    }
   ],
   "source": [
    "sample_data = [\n",
    "    {\"userId\": 1, \"name\": \"rahul\", \"completed\": False},\n",
    "    {\"userId\": 1, \"name\": \"rohit\", \"completed\": False},\n",
    "    {\"userId\": 1, \"name\": \"ram\", \"completed\": False},\n",
    "    {\"userId\": 1, \"name\": \"ravan\", \"completed\": True},\n",
    "]\n",
    "\n",
    "print(\"With Python 3.8 Walrus Operator:\")\n",
    "for entry in sample_data:\n",
    "    if name := entry.get(\"name\"):\n",
    "        print(f'Found name: \"{name}\"')\n",
    "\n",
    "print(\"Without Walrus operator:\")\n",
    "for entry in sample_data:\n",
    "    name = entry.get(\"name\")\n",
    "    if name:\n",
    "        print(f'Found name: \"{name}\"')"
   ]
  },
  {
   "cell_type": "markdown",
   "metadata": {},
   "source": [
    "#### Where not to use walrus operator\n",
    "\n",
    "    y := f(x)  # INVALID\n",
    "    (y := f(x))  # Valid, though not recommended\n",
    "\n",
    "    y0 = y1 := f(x)  # INVALID\n",
    "    y0 = (y1 := f(x))  # Valid, though discouraged\n",
    "\n",
    "\n",
    "    foo(x = y := f(x))  # INVALID\n",
    "    foo(x=(y := f(x)))  # Valid, though probably confusing"
   ]
  },
  {
   "cell_type": "code",
   "execution_count": 8,
   "metadata": {},
   "outputs": [
    {
     "name": "stdout",
     "output_type": "stream",
     "text": [
      "Total: 150\n"
     ]
    }
   ],
   "source": [
    "total = 0\n",
    "values = [10, 20, 30, 40, 50]\n",
    "partial_sums = [total := total + v for v in values]\n",
    "print(\"Total:\", total)"
   ]
  },
  {
   "cell_type": "markdown",
   "metadata": {},
   "source": [
    "    Reference: \n",
    "        1. https://www.python.org/dev/peps/pep-0572/#syntax-and-semantics"
   ]
  },
  {
   "cell_type": "markdown",
   "metadata": {},
   "source": [
    "```\n",
    "# Handle a matched regex\n",
    "if (match := pattern.search(data)) is not None:\n",
    "    # Do something with match\n",
    "\n",
    "# A loop that can't be trivially rewritten using 2-arg iter()\n",
    "while chunk := file.read(8192):\n",
    "   process(chunk)\n",
    "\n",
    "# Reuse a value that's expensive to compute\n",
    "[y := f(x), y**2, y**3]\n",
    "\n",
    "# Share a subexpression between a comprehension filter clause and its output\n",
    "filtered_data = [y for x in data if (y := f(x)) is not None]\n",
    "```"
   ]
  },
  {
   "cell_type": "code",
   "execution_count": null,
   "metadata": {},
   "outputs": [],
   "source": []
  }
 ],
 "metadata": {
  "kernelspec": {
   "display_name": "Python 3.8.2 64-bit",
   "language": "python",
   "name": "python38264bit9d9bc96b9f9b47279ec6d81cef01a82e"
  },
  "language_info": {
   "codemirror_mode": {
    "name": "ipython",
    "version": 3
   },
   "file_extension": ".py",
   "mimetype": "text/x-python",
   "name": "python",
   "nbconvert_exporter": "python",
   "pygments_lexer": "ipython3",
   "version": "3.8.2"
  }
 },
 "nbformat": 4,
 "nbformat_minor": 4
}
