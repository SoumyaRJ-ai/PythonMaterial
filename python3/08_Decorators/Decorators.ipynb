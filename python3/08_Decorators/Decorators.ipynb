{
 "cells": [
  {
   "cell_type": "markdown",
   "metadata": {},
   "source": [
    "**Decorators** are the functions which are used to handle redundant code within muliple functions.\n"
   ]
  },
  {
   "cell_type": "markdown",
   "metadata": {},
   "source": [
    "# 1. Decorators\n",
    "### 1. 1 Necessity\n",
    "\n",
    "Lets look at some example which needs decorators"
   ]
  },
  {
   "cell_type": "code",
   "execution_count": 1,
   "metadata": {},
   "outputs": [
    {
     "name": "stdout",
     "output_type": "stream",
     "text": [
      "div(4, 2) 2.0\n",
      "div(4, 0) ZeroDivisionError('division by zero')\n",
      "add(2, 3) 5\n",
      "add('a', 3) TypeError('can only concatenate str (not \"int\") to str')\n"
     ]
    }
   ],
   "source": [
    "def div(a, b):\n",
    "    try:\n",
    "        a / b\n",
    "    except Exception as e:\n",
    "        return repr(e)\n",
    "    else:\n",
    "        return a / b\n",
    "\n",
    "\n",
    "def add(a, b):\n",
    "    try:\n",
    "        a + b\n",
    "    except Exception as e:\n",
    "        return repr(e)\n",
    "    else:\n",
    "        return a + b\n",
    "\n",
    "\n",
    "print(\"div(4, 2)\", div(4, 2))\n",
    "print(\"div(4, 0)\", div(4, 0))\n",
    "\n",
    "print(\"add(2, 3)\", add(2, 3))\n",
    "print(\"add('a', 3)\", add(\"a\", 3))"
   ]
  },
  {
   "cell_type": "markdown",
   "metadata": {},
   "source": [
    "__NOTE:__ It can be observed that the _exception handing_ code is common between the _div_ and _add_ functions "
   ]
  },
  {
   "cell_type": "code",
   "execution_count": 2,
   "metadata": {},
   "outputs": [],
   "source": [
    "# new decorator function\n",
    "def outer(func):  # func-addition\n",
    "    def inner(num1, num2):  # *args, **kwargs):\n",
    "        try:\n",
    "            func(num1, num2)  # *args, **kwargs)\n",
    "        except Exception as e:\n",
    "            return e\n",
    "        else:\n",
    "            return func(num1, num2)  # *args, **kwargs)\n",
    "\n",
    "    return inner\n",
    "\n",
    "\n",
    "# ordinary function\n",
    "def div(a, b):\n",
    "    return a / b"
   ]
  },
  {
   "cell_type": "code",
   "execution_count": 3,
   "metadata": {},
   "outputs": [
    {
     "name": "stdout",
     "output_type": "stream",
     "text": [
      "2.0\n"
     ]
    },
    {
     "ename": "ZeroDivisionError",
     "evalue": "division by zero",
     "output_type": "error",
     "traceback": [
      "\u001b[0;31m---------------------------------------------------------------------------\u001b[0m",
      "\u001b[0;31mZeroDivisionError\u001b[0m                         Traceback (most recent call last)",
      "Cell \u001b[0;32mIn[3], line 3\u001b[0m\n\u001b[1;32m      1\u001b[0m \u001b[38;5;66;03m# calling without the decorator\u001b[39;00m\n\u001b[1;32m      2\u001b[0m \u001b[38;5;28mprint\u001b[39m(div(\u001b[38;5;241m4\u001b[39m, \u001b[38;5;241m2\u001b[39m))\n\u001b[0;32m----> 3\u001b[0m \u001b[38;5;28mprint\u001b[39m(\u001b[43mdiv\u001b[49m\u001b[43m(\u001b[49m\u001b[38;5;241;43m4\u001b[39;49m\u001b[43m,\u001b[49m\u001b[43m \u001b[49m\u001b[38;5;241;43m0\u001b[39;49m\u001b[43m)\u001b[49m)\n",
      "Cell \u001b[0;32mIn[2], line 16\u001b[0m, in \u001b[0;36mdiv\u001b[0;34m(a, b)\u001b[0m\n\u001b[1;32m     15\u001b[0m \u001b[38;5;28;01mdef\u001b[39;00m \u001b[38;5;21mdiv\u001b[39m(a, b):\n\u001b[0;32m---> 16\u001b[0m     \u001b[38;5;28;01mreturn\u001b[39;00m \u001b[43ma\u001b[49m\u001b[43m \u001b[49m\u001b[38;5;241;43m/\u001b[39;49m\u001b[43m \u001b[49m\u001b[43mb\u001b[49m\n",
      "\u001b[0;31mZeroDivisionError\u001b[0m: division by zero"
     ]
    }
   ],
   "source": [
    "# calling without the decorator\n",
    "print(div(4, 2))\n",
    "print(div(4, 0))"
   ]
  },
  {
   "cell_type": "code",
   "execution_count": 4,
   "metadata": {},
   "outputs": [
    {
     "name": "stdout",
     "output_type": "stream",
     "text": [
      "foo <function outer.<locals>.inner at 0x7b6948731120>\n"
     ]
    }
   ],
   "source": [
    "foo = outer(div)  # foo-inner\n",
    "print(\"foo\", foo)"
   ]
  },
  {
   "cell_type": "code",
   "execution_count": 5,
   "metadata": {},
   "outputs": [
    {
     "name": "stdout",
     "output_type": "stream",
     "text": [
      "2.0\n",
      "division by zero\n"
     ]
    }
   ],
   "source": [
    "# calling with the decorator\n",
    "print(foo(4, 2))\n",
    "print(foo(4, 0))"
   ]
  },
  {
   "cell_type": "markdown",
   "metadata": {},
   "source": [
    "Similarly, "
   ]
  },
  {
   "cell_type": "code",
   "execution_count": 6,
   "metadata": {},
   "outputs": [
    {
     "name": "stdout",
     "output_type": "stream",
     "text": [
      "6\n",
      "can only concatenate str (not \"int\") to str\n"
     ]
    }
   ],
   "source": [
    "def addition(m, n):\n",
    "    return m + n\n",
    "\n",
    "\n",
    "result = outer(addition)  #  result-inner\n",
    "print(result(2, 4))  # inner(2, 4)\n",
    "print(result(\"2\", 4))"
   ]
  },
  {
   "cell_type": "code",
   "execution_count": 7,
   "metadata": {},
   "outputs": [
    {
     "name": "stdout",
     "output_type": "stream",
     "text": [
      "can only concatenate str (not \"int\") to str\n"
     ]
    }
   ],
   "source": [
    "# Making the call directly to show\n",
    "print(outer(addition)(\"2\", 4))"
   ]
  }
 ],
 "metadata": {
  "kernelspec": {
   "display_name": "Python 3",
   "language": "python",
   "name": "python3"
  },
  "language_info": {
   "codemirror_mode": {
    "name": "ipython",
    "version": 3
   },
   "file_extension": ".py",
   "mimetype": "text/x-python",
   "name": "python",
   "nbconvert_exporter": "python",
   "pygments_lexer": "ipython3",
   "version": "3.12.1"
  }
 },
 "nbformat": 4,
 "nbformat_minor": 2
}
