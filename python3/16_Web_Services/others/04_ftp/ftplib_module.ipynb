{
 "cells": [
  {
   "cell_type": "markdown",
   "metadata": {},
   "source": [
    "## FTP \n",
    "    - File Transfer Protocol \n",
    "    - well-known network protocol used to transfer files between computers in a network.\n",
    "    -  created on client server architecture\n",
    "    - may or may not be implemented wuth authentication.\n",
    "    \n",
    "    \n",
    "     Method                           Description\n",
    "     -------------------------------------------\n",
    "    pwd()                             Current working directory.\n",
    "    cwd()                             Change current working directory to path.\n",
    "    dir([path[,...[,cb]])\t          Displays directory listing of path. \n",
    "                                      Optional call-back cb passed to retrlines().\n",
    "    storlines(cmd, f)\t              Uploads text file using given FTP cmd \n",
    "                                      - for example, STOR file name.\n",
    "     \n",
    "    storbinary(cmd,f[, bs=8192])\t  Similar to storlines() but is used for binary files.\n",
    "    delete(path)\t                  Deletes remote file located at path.\n",
    "    mkd(directory)\t                  Creates remote directory.\n",
    "    exception ftplib.error_temp\t      Exception raised when an error code signifying a temporary error \n",
    "                                      (response codes in the range 400–499) is received..\n",
    "    exception ftplib.error_perm\t      Exception raised when an error code signifying a permanent error \n",
    "                                      (response codes in the range 500–599) is received..\n",
    "    connect(host[, port[, timeout]])  Connects to the given host and port. \n",
    "                                      The default port number is 21, as specified by the FTP protocol..\n",
    "    quit()\t                          Closes connection and quits."
   ]
  },
  {
   "cell_type": "code",
   "execution_count": 1,
   "metadata": {},
   "outputs": [],
   "source": [
    "import ftplib"
   ]
  },
  {
   "cell_type": "code",
   "execution_count": 2,
   "metadata": {},
   "outputs": [],
   "source": [
    "print(dir(ftplib))"
   ]
  },
  {
   "cell_type": "code",
   "execution_count": 3,
   "metadata": {},
   "outputs": [],
   "source": [
    "ftp = ftplib.FTP(\"ftp.nluug.nl\")"
   ]
  },
  {
   "cell_type": "code",
   "execution_count": 4,
   "metadata": {},
   "outputs": [
    {
     "name": "stdout",
     "output_type": "stream",
     "text": [
      "220-Welcome to the FTP archive of \n",
      "220-The Netherlands Unix Users Group (NLUUG).\n",
      "220-\n",
      "220-This server is located in The Netherlands, Europe.\n",
      "220-If you are abroad, please find an ftp site near you.\n",
      "220-Most information on this site is mirrored.\n",
      "220-\n",
      "220-Information about your login and any transfers you do are logged.\n",
      "220-If you don't like this, disconnect now.\n",
      "220-\n",
      "220-For statistics, see http://ftp.nluug.nl/.statistics/\n",
      "220-Problems?  Mail ftp-admin @ nluug.nl\n",
      "220-\n",
      "220-You may login as \"ftp\" or \"anonymous\".\n",
      "220-\n",
      "220 \n"
     ]
    }
   ],
   "source": [
    "print(ftp.getwelcome())"
   ]
  },
  {
   "cell_type": "code",
   "execution_count": 5,
   "metadata": {},
   "outputs": [
    {
     "data": {
      "text/plain": [
       "'230 Login successful.'"
      ]
     },
     "execution_count": 5,
     "metadata": {},
     "output_type": "execute_result"
    }
   ],
   "source": [
    "ftp.login(\"anonymous\", \"ftplib-example-1\") # if password is present, it will be third parameter"
   ]
  },
  {
   "cell_type": "markdown",
   "metadata": {},
   "source": [
    "### Listing the Files\n"
   ]
  },
  {
   "cell_type": "code",
   "execution_count": 6,
   "metadata": {},
   "outputs": [
    {
     "data": {
      "text/plain": [
       "['lrwxrwxrwx    1 0        0               1 Nov 13  2012 ftp -> .',\n",
       " 'lrwxrwxrwx    1 0        0               3 Nov 13  2012 mirror -> pub',\n",
       " 'drwxr-xr-x   23 0        0            4096 Dec 14  2018 pub',\n",
       " 'drwxr-sr-x   88 0        450          4096 Jan 16 23:16 site',\n",
       " 'drwxr-xr-x    9 0        0            4096 Jan 23  2014 vol']"
      ]
     },
     "execution_count": 6,
     "metadata": {},
     "output_type": "execute_result"
    }
   ],
   "source": [
    "files = []\n",
    " \n",
    "ftp.dir(files.append)\n",
    "\n",
    "files"
   ]
  },
  {
   "cell_type": "code",
   "execution_count": 7,
   "metadata": {},
   "outputs": [
    {
     "data": {
      "text/plain": [
       "'lrwxrwxrwx    1 0        0               1 Nov 13  2012 ftp -> .'"
      ]
     },
     "execution_count": 7,
     "metadata": {},
     "output_type": "execute_result"
    }
   ],
   "source": [
    "files[0]"
   ]
  },
  {
   "cell_type": "markdown",
   "metadata": {},
   "source": [
    "### Changing the Directory"
   ]
  },
  {
   "cell_type": "code",
   "execution_count": 8,
   "metadata": {},
   "outputs": [
    {
     "data": {
      "text/plain": [
       "'250 Directory successfully changed.'"
      ]
     },
     "execution_count": 8,
     "metadata": {},
     "output_type": "execute_result"
    }
   ],
   "source": [
    "ftp.cwd('/pub/')          # change directory to /pub/"
   ]
  },
  {
   "cell_type": "code",
   "execution_count": 9,
   "metadata": {},
   "outputs": [
    {
     "data": {
      "text/plain": [
       "['lrwxrwxrwx    1 504      450            14 Nov 02  2007 FreeBSD -> os/BSD/FreeBSD',\n",
       " 'lrwxrwxrwx    1 504      450            20 Nov 02  2007 ImageMagick -> graphics/ImageMagick',\n",
       " 'lrwxrwxrwx    1 504      450            13 Nov 02  2007 NetBSD -> os/BSD/NetBSD',\n",
       " 'lrwxrwxrwx    1 504      450            14 Nov 02  2007 OpenBSD -> os/BSD/OpenBSD',\n",
       " '-rw-rw-r--    1 504      450           932 Jan 01  2019 README.nluug',\n",
       " '-rw-r--r--    1 504      450          2023 May 03  2005 WhereToFindWhat.txt',\n",
       " 'drwxr-sr-x    2 0        450          4096 Jan 26  2008 av',\n",
       " 'drwxrwsr-x    2 0        450          4096 Aug 12  2004 comp',\n",
       " 'drwxrwsr-x    2 0        450          4096 Mar 24  2000 crypto',\n",
       " 'drwxr-xr-x    2 500      450          4096 Apr 10  2014 db',\n",
       " 'lrwxrwxrwx    1 0        0              21 Feb 22  2017 debian -> os/Linux/distr/debian',\n",
       " 'drwxrwsr-x    2 0        450          4096 Mar 29  2009 documents',\n",
       " 'drwxrwsr-x    2 0        450          4096 Dec 01  2008 editors',\n",
       " '-rw-r--r--    1 0        0              43 Jun 15  2013 favicon.ico',\n",
       " 'lrwxrwxrwx    1 0        450             1 Nov 02  2007 ftp -> .',\n",
       " 'drwxrwsr-x    3 0        450          4096 Dec 23  2015 games',\n",
       " 'lrwxrwxrwx    1 504      450            27 Nov 02  2007 gnu -> ../site/ftp.gnu.org/pub/gnu',\n",
       " '-rw-r--r--    1 0        450            54 Jan 04  2013 google6e904a3e38fc0293.html',\n",
       " 'drwxrwsr-x    2 0        450          4096 Jan 03  2013 graphics',\n",
       " 'lrwxrwxrwx    1 504      450            29 Nov 02  2007 ibiblio -> ../site/ibiblio.org/pub/Linux',\n",
       " 'lrwxrwxrwx    1 500      450            29 Nov 02  2007 infomac -> ../site/info-mac.org/info-mac',\n",
       " 'drwxrwsr-x    3 500      450          4096 Apr 05  2013 internet',\n",
       " 'lrwxrwxrwx    1 0        0              13 Feb 24  2017 kiwix -> ../site/kiwix',\n",
       " 'lrwxrwxrwx    1 504      450            22 Nov 02  2007 knoppix -> os/Linux/distr/knoppix',\n",
       " 'drwxrwsr-x    5 0        450          4096 Mar 23  2014 languages',\n",
       " 'drwxrwsr-x    3 0        450          4096 Jun 21  2000 mail',\n",
       " 'drwxr-xr-x    2 0        0            4096 Oct 20  2015 maps',\n",
       " 'drwxr-xr-x    2 500      450          4096 Apr 11  2016 mediaplayer',\n",
       " 'lrwxrwxrwx    1 500      450            35 Nov 02  2007 netscape -> ../site/mirrorsite.netscape.com/pub',\n",
       " 'drwxrwsr-x    2 500      450          4096 Mar 09  2010 networking',\n",
       " 'drwxrwsr-x    2 0        450          4096 Feb 21  2000 news',\n",
       " 'lrwxrwxrwx    1 0        450            41 Nov 02  2007 nilo -> ../site/darkstar.welcomehome.org/pub/nilo',\n",
       " 'drwxrwsr-x    2 504      450          4096 Mar 03  2011 office',\n",
       " 'drwxrwsr-x    6 0        450          4096 Aug 10  2015 os',\n",
       " 'drwxrwsr-x    2 504      450          4096 Jan 30  2013 programming',\n",
       " 'lrwxrwxrwx    1 504      450             1 Nov 02  2007 pub -> .',\n",
       " '-rw-r--r--    1 0        450           237 May 24  2016 robots.txt',\n",
       " 'drwxrwsr-x    2 0        450          4096 Jun 18  2002 security',\n",
       " 'lrwxrwxrwx    1 0        0              12 May 26  2014 test -> ../site/test',\n",
       " 'drwxrwsr-x    2 0        450          4096 Mar 09  2010 textproc',\n",
       " 'lrwxrwxrwx    1 0        450            30 Mar 29  2009 video -> ../site/ftp.nluug.nl/pub/video',\n",
       " 'lrwxrwxrwx    1 504      450            11 Nov 02  2007 vim -> editors/vim',\n",
       " 'drwxrwsr-x    3 0        450          4096 Jan 23  2014 windowing']"
      ]
     },
     "execution_count": 9,
     "metadata": {},
     "output_type": "execute_result"
    }
   ],
   "source": [
    "files = []\n",
    "ftp.dir(files.append)\n",
    "\n",
    "files"
   ]
  },
  {
   "cell_type": "markdown",
   "metadata": {},
   "source": [
    "### Fetching the Files\n"
   ]
  },
  {
   "cell_type": "code",
   "execution_count": 10,
   "metadata": {},
   "outputs": [
    {
     "data": {
      "text/plain": [
       "'250 Directory successfully changed.'"
      ]
     },
     "execution_count": 10,
     "metadata": {},
     "output_type": "execute_result"
    }
   ],
   "source": [
    "ftp.cwd('/pub/')          # change directory to /pub/"
   ]
  },
  {
   "cell_type": "markdown",
   "metadata": {},
   "source": [
    "TO read file from ftp location, and dump in local machine"
   ]
  },
  {
   "cell_type": "code",
   "execution_count": 11,
   "metadata": {},
   "outputs": [
    {
     "data": {
      "text/plain": [
       "'226 Transfer complete.'"
      ]
     },
     "execution_count": 11,
     "metadata": {},
     "output_type": "execute_result"
    }
   ],
   "source": [
    "ftp.retrbinary(\"RETR \" + 'README.nluug', open('README.nluug', 'wb').write)"
   ]
  },
  {
   "cell_type": "code",
   "execution_count": 12,
   "metadata": {},
   "outputs": [
    {
     "data": {
      "text/plain": [
       "['.ipynb_checkpoints', 'example.txt', 'ftplib_module.ipynb', 'README.nluug']"
      ]
     },
     "execution_count": 12,
     "metadata": {},
     "output_type": "execute_result"
    }
   ],
   "source": [
    "import os\n",
    "os.listdir('.')"
   ]
  },
  {
   "cell_type": "code",
   "execution_count": 13,
   "metadata": {},
   "outputs": [
    {
     "name": "stdout",
     "output_type": "stream",
     "text": [
      "lrwxrwxrwx    1 504      450            14 Nov 02  2007 FreeBSD -> os/BSD/FreeBSD\n",
      "lrwxrwxrwx    1 504      450            20 Nov 02  2007 ImageMagick -> graphics/ImageMagick\n",
      "lrwxrwxrwx    1 504      450            13 Nov 02  2007 NetBSD -> os/BSD/NetBSD\n",
      "lrwxrwxrwx    1 504      450            14 Nov 02  2007 OpenBSD -> os/BSD/OpenBSD\n",
      "-rw-rw-r--    1 504      450           932 Jan 01  2019 README.nluug\n",
      "-rw-r--r--    1 504      450          2023 May 03  2005 WhereToFindWhat.txt\n",
      "drwxr-sr-x    2 0        450          4096 Jan 26  2008 av\n",
      "drwxrwsr-x    2 0        450          4096 Aug 12  2004 comp\n",
      "drwxrwsr-x    2 0        450          4096 Mar 24  2000 crypto\n",
      "drwxr-xr-x    2 500      450          4096 Apr 10  2014 db\n",
      "lrwxrwxrwx    1 0        0              21 Feb 22  2017 debian -> os/Linux/distr/debian\n",
      "drwxrwsr-x    2 0        450          4096 Mar 29  2009 documents\n",
      "drwxrwsr-x    2 0        450          4096 Dec 01  2008 editors\n",
      "-rw-r--r--    1 0        0              43 Jun 15  2013 favicon.ico\n",
      "lrwxrwxrwx    1 0        450             1 Nov 02  2007 ftp -> .\n",
      "drwxrwsr-x    3 0        450          4096 Dec 23  2015 games\n",
      "lrwxrwxrwx    1 504      450            27 Nov 02  2007 gnu -> ../site/ftp.gnu.org/pub/gnu\n",
      "-rw-r--r--    1 0        450            54 Jan 04  2013 google6e904a3e38fc0293.html\n",
      "drwxrwsr-x    2 0        450          4096 Jan 03  2013 graphics\n",
      "lrwxrwxrwx    1 504      450            29 Nov 02  2007 ibiblio -> ../site/ibiblio.org/pub/Linux\n",
      "lrwxrwxrwx    1 500      450            29 Nov 02  2007 infomac -> ../site/info-mac.org/info-mac\n",
      "drwxrwsr-x    3 500      450          4096 Apr 05  2013 internet\n",
      "lrwxrwxrwx    1 0        0              13 Feb 24  2017 kiwix -> ../site/kiwix\n",
      "lrwxrwxrwx    1 504      450            22 Nov 02  2007 knoppix -> os/Linux/distr/knoppix\n",
      "drwxrwsr-x    5 0        450          4096 Mar 23  2014 languages\n",
      "drwxrwsr-x    3 0        450          4096 Jun 21  2000 mail\n",
      "drwxr-xr-x    2 0        0            4096 Oct 20  2015 maps\n",
      "drwxr-xr-x    2 500      450          4096 Apr 11  2016 mediaplayer\n",
      "lrwxrwxrwx    1 500      450            35 Nov 02  2007 netscape -> ../site/mirrorsite.netscape.com/pub\n",
      "drwxrwsr-x    2 500      450          4096 Mar 09  2010 networking\n",
      "drwxrwsr-x    2 0        450          4096 Feb 21  2000 news\n",
      "lrwxrwxrwx    1 0        450            41 Nov 02  2007 nilo -> ../site/darkstar.welcomehome.org/pub/nilo\n",
      "drwxrwsr-x    2 504      450          4096 Mar 03  2011 office\n",
      "drwxrwsr-x    6 0        450          4096 Aug 10  2015 os\n",
      "drwxrwsr-x    2 504      450          4096 Jan 30  2013 programming\n",
      "lrwxrwxrwx    1 504      450             1 Nov 02  2007 pub -> .\n",
      "-rw-r--r--    1 0        450           237 May 24  2016 robots.txt\n",
      "drwxrwsr-x    2 0        450          4096 Jun 18  2002 security\n",
      "lrwxrwxrwx    1 0        0              12 May 26  2014 test -> ../site/test\n",
      "drwxrwsr-x    2 0        450          4096 Mar 09  2010 textproc\n",
      "lrwxrwxrwx    1 0        450            30 Mar 29  2009 video -> ../site/ftp.nluug.nl/pub/video\n",
      "lrwxrwxrwx    1 504      450            11 Nov 02  2007 vim -> editors/vim\n",
      "drwxrwsr-x    3 0        450          4096 Jan 23  2014 windowing\n"
     ]
    },
    {
     "data": {
      "text/plain": [
       "'226 Directory send OK.'"
      ]
     },
     "execution_count": 13,
     "metadata": {},
     "output_type": "execute_result"
    }
   ],
   "source": [
    "ftp.retrlines(\"LIST\")"
   ]
  },
  {
   "cell_type": "code",
   "execution_count": 14,
   "metadata": {},
   "outputs": [
    {
     "data": {
      "text/plain": [
       "'250 Directory successfully changed.'"
      ]
     },
     "execution_count": 14,
     "metadata": {},
     "output_type": "execute_result"
    }
   ],
   "source": [
    "ftp.cwd(\"news\")"
   ]
  },
  {
   "cell_type": "code",
   "execution_count": 15,
   "metadata": {},
   "outputs": [
    {
     "name": "stdout",
     "output_type": "stream",
     "text": [
      "lrwxrwxrwx    1 0        450            37 Nov 02  2007 software -> ../../site/ftp.uu.net/networking/news\n"
     ]
    },
    {
     "data": {
      "text/plain": [
       "'226 Directory send OK.'"
      ]
     },
     "execution_count": 15,
     "metadata": {},
     "output_type": "execute_result"
    }
   ],
   "source": [
    "ftp.retrlines(\"LIST\")"
   ]
  },
  {
   "cell_type": "code",
   "execution_count": 16,
   "metadata": {},
   "outputs": [
    {
     "data": {
      "text/plain": [
       "['lrwxrwxrwx    1 0        450            37 Nov 02  2007 software -> ../../site/ftp.uu.net/networking/news']"
      ]
     },
     "execution_count": 16,
     "metadata": {},
     "output_type": "execute_result"
    }
   ],
   "source": [
    "listing = []\n",
    "ftp.retrlines(\"LIST\", listing.append)\n",
    "\n",
    "listing"
   ]
  },
  {
   "cell_type": "code",
   "execution_count": 17,
   "metadata": {},
   "outputs": [
    {
     "name": "stdout",
     "output_type": "stream",
     "text": [
      "** lrwxrwxrwx    1 0        450            37 Nov 02  2007 software -> ../../site/ftp.uu.net/networking/news*\n",
      "226 Directory send OK.\n"
     ]
    }
   ],
   "source": [
    "def listLineCallback(line):\n",
    "    msg = \"** %s*\"%line\n",
    "    print(msg)\n",
    "    \n",
    "    \n",
    "respMessage = ftp.retrlines(\"LIST\", listLineCallback)\n",
    "\n",
    "print(respMessage)"
   ]
  },
  {
   "cell_type": "code",
   "execution_count": 18,
   "metadata": {},
   "outputs": [
    {
     "data": {
      "text/plain": [
       "'250 Directory successfully changed.'"
      ]
     },
     "execution_count": 18,
     "metadata": {},
     "output_type": "execute_result"
    }
   ],
   "source": [
    "ftp.cwd(\"..\")"
   ]
  },
  {
   "cell_type": "code",
   "execution_count": 19,
   "metadata": {},
   "outputs": [
    {
     "name": "stdout",
     "output_type": "stream",
     "text": [
      "Sitemap: http://ftp.nluug.nl/sitemap_index.xml\n",
      "\n",
      "User-agent: MJ12bot\n",
      "Crawl-Delay: 10\n",
      "\n",
      "user-agent: AhrefsBot\n",
      "Crawl-Delay: 10\n",
      "\n",
      "User-agent: Exabot\n",
      "Crawl-Delay: 10\n",
      "\n",
      "User-Agent: bingbot\n",
      "Crawl-Delay: 10\n",
      "\n",
      "User-agent: Baiduspider\n",
      "Crawl-Delay: 10\n",
      "226 Transfer complete.\n"
     ]
    }
   ],
   "source": [
    "def fileLineCallback(line):\n",
    "    contentLine = line\n",
    "    print(contentLine)\n",
    "    \n",
    "# Get a file in ASCII mode\n",
    "respMessage = ftp.retrlines(\"RETR robots.txt\", fileLineCallback)\n",
    "print(respMessage)"
   ]
  },
  {
   "cell_type": "code",
   "execution_count": 20,
   "metadata": {},
   "outputs": [
    {
     "data": {
      "text/plain": [
       "237"
      ]
     },
     "execution_count": 20,
     "metadata": {},
     "output_type": "execute_result"
    }
   ],
   "source": [
    "ftp.size('robots.txt')"
   ]
  },
  {
   "cell_type": "code",
   "execution_count": 21,
   "metadata": {},
   "outputs": [
    {
     "name": "stdout",
     "output_type": "stream",
     "text": [
      "FreeBSD\n",
      "ImageMagick\n",
      "NetBSD\n",
      "OpenBSD\n",
      "README.nluug\n",
      "WhereToFindWhat.txt\n",
      "av\n",
      "comp\n",
      "crypto\n",
      "db\n",
      "debian\n",
      "documents\n",
      "editors\n",
      "favicon.ico\n",
      "ftp\n",
      "games\n",
      "gnu\n",
      "google6e904a3e38fc0293.html\n",
      "graphics\n",
      "ibiblio\n",
      "infomac\n",
      "internet\n",
      "kiwix\n",
      "knoppix\n",
      "languages\n",
      "mail\n",
      "maps\n",
      "mediaplayer\n",
      "netscape\n",
      "networking\n",
      "news\n",
      "nilo\n",
      "office\n",
      "os\n",
      "programming\n",
      "pub\n",
      "robots.txt\n",
      "security\n",
      "test\n",
      "textproc\n",
      "video\n",
      "vim\n",
      "windowing\n"
     ]
    }
   ],
   "source": [
    "for name in ftp.nlst():\n",
    "    print(name)"
   ]
  },
  {
   "cell_type": "code",
   "execution_count": 22,
   "metadata": {},
   "outputs": [
    {
     "name": "stdout",
     "output_type": "stream",
     "text": [
      "file size:2023\n",
      "processed_size =0\n",
      "dump_to_db - start <class 'bytes'> 1024\n",
      "Contents of this server:\n",
      "\n",
      "/pub\n",
      "      all publicly accessable data on this server\n",
      "\n",
      "/pub/os\n",
      "\tSeveral operating system trees\n",
      "\n",
      "/pub/os/BSD/\n",
      "\tTrees for FreeBSD, NetBSD and OpenBSD\n",
      "\n",
      "/pub/os/BSD/FreeSBIE\n",
      "\tA live CD based on FreeBSD\n",
      "\n",
      "/pub/os/Linux\n",
      "\tLots of Linux material\n",
      "\n",
      "/pub/os/Linux/system\n",
      "\tGeneral Linux related system software: the kernel, lilo\n",
      "\n",
      "/pub/os/Linux/distr\n",
      "\tMany Linux distributions including Mandrake, Fedora, RedHat, Knoppix,\n",
      "\tDebian, Slackware, ...\n",
      "\n",
      "/pub/os/Linux/doc\n",
      "\tLinux Documentation\n",
      "\n",
      "/pub/documents\n",
      "\tTrees with FAQs, Internet RFCs and other published materials\n",
      "\n",
      "/pub/editors\n",
      "\tTrees for Ted (RTF editor) and Vim\n",
      "\n",
      "/pub/games/pinball\n",
      "\tPinball information\n",
      "\n",
      "/pub/crypto\n",
      "\tTrees with crypto material, such as PGP\n",
      "\n",
      "/pub/languages\n",
      "\tTrees for several programming languages: GCC, Python, Perl and the \n",
      "\tPerl CPAN archive, tcl, java JDK\n",
      "\n",
      "/pub/comp\n",
      "\tTrees for Next and Apple OS X\n",
      "\n",
      "/pub/graphics\n",
      "\tTrees with the Gimp and ImageMagick\n",
      "\n",
      "/pub/internet\n",
      "\tTrees with Internet software: apache, lynx, mozilla, squid and \n",
      "\tinformat\n",
      "dump_to_db - start <class 'bytes'> 436\n",
      "ion from/about W3C and inn. \n",
      "\n",
      "/pub/mail\n",
      "\tTrees with mail handling software, such as metamail, mutt, \n",
      "\tpostfix, sendmail and vm\n",
      "\n",
      "/pub/networking\n",
      "\tTrees with networking software: IPv6, kermit, ntop, samba\n",
      "\n",
      "/pub/office\n",
      "\tOffice oriented software (e.g. OpenOffice)\n",
      "\n",
      "/pub/security\n",
      "\tSecurity and privacy related software: OpenCA, OpenSSH, the COAST\n",
      "\tdocument archive, gnupg, modssl, openssl, ssh, tcpwrappers\n",
      "\n",
      "/pub/textproc\n",
      "\tTrees with text pr\n",
      "dump_to_db - start <class 'bytes'> 563\n",
      "ocessing software: TeX, ispell, dictionaries\n",
      "\n",
      "/pub/borland\n",
      "\tBorland provided data\n",
      "\n",
      "/pub/infomac\n",
      "\tMaterial from infomac\n",
      "\n",
      "/pub/mcafee\n",
      "\tMaterial provided by McAfee\n",
      "\n",
      "/pub/netscape\n",
      "\tMaterial provided by Netscape\n",
      "\n",
      "/pub/simtel\n",
      "\tMaterial from the SimTel archives\n",
      "\n",
      "/pub/gnu\n",
      "\tmirror of the GNU site\n",
      "\n",
      "/pub/ibiblio\n",
      "/pub/metalab\n",
      "/pub/sunsite\n",
      "\tQuick links to a lot of SunSite/Metalab/ibiblio Linux data\n",
      "\n",
      "/pub/windows/X\n",
      "\tThe X window system: Releases and contribs\n",
      "\n",
      "/pub/FreeBSD\n",
      "/pub/NetBSD\n",
      "/pub/OpenBSD\n",
      "/pub/ImageMagick\n",
      "/pub/vim\n",
      "/pub/knoppix\n",
      "\tAll Quick links deeper in the tree\n",
      "\n",
      "processed_size =1024\n",
      "dump_to_db - start <class 'bytes'> 999\n",
      "ion from/about W3C and inn. \n",
      "\n",
      "/pub/mail\n",
      "\tTrees with mail handling software, such as metamail, mutt, \n",
      "\tpostfix, sendmail and vm\n",
      "\n",
      "/pub/networking\n",
      "\tTrees with networking software: IPv6, kermit, ntop, samba\n",
      "\n",
      "/pub/office\n",
      "\tOffice oriented software (e.g. OpenOffice)\n",
      "\n",
      "/pub/security\n",
      "\tSecurity and privacy related software: OpenCA, OpenSSH, the COAST\n",
      "\tdocument archive, gnupg, modssl, openssl, ssh, tcpwrappers\n",
      "\n",
      "/pub/textproc\n",
      "\tTrees with text processing software: TeX, ispell, dictionaries\n",
      "\n",
      "/pub/borland\n",
      "\tBorland provided data\n",
      "\n",
      "/pub/infomac\n",
      "\tMaterial from infomac\n",
      "\n",
      "/pub/mcafee\n",
      "\tMaterial provided by McAfee\n",
      "\n",
      "/pub/netscape\n",
      "\tMaterial provided by Netscape\n",
      "\n",
      "/pub/simtel\n",
      "\tMaterial from the SimTel archives\n",
      "\n",
      "/pub/gnu\n",
      "\tmirror of the GNU site\n",
      "\n",
      "/pub/ibiblio\n",
      "/pub/metalab\n",
      "/pub/sunsite\n",
      "\tQuick links to a lot of SunSite/Metalab/ibiblio Linux data\n",
      "\n",
      "/pub/windows/X\n",
      "\tThe X window system: Releases and contribs\n",
      "\n",
      "/pub/FreeBSD\n",
      "/pub/NetBSD\n",
      "/pub/OpenBSD\n",
      "/pub/ImageMagick\n",
      "/pub/vim\n",
      "/pub/knoppix\n",
      "\tAll Quick links deeper in the tree\n",
      "\n"
     ]
    }
   ],
   "source": [
    "def dump_to_db(block, file_handler):\n",
    "    print('dump_to_db - start', type(block), len(block))\n",
    "    file_handler.write(block)\n",
    "    print(block.decode('utf-8'))\n",
    "\n",
    "filename = 'WhereToFindWhat.txt'\n",
    "with open(filename, 'wb') as file :\n",
    "    file_size = ftp.size(filename)\n",
    "    print(f'file size:{file_size}')\n",
    "    processed_size = 0\n",
    "    while processed_size <= file_size:\n",
    "        print(f'{processed_size =}')\n",
    "        # ftp.retrbinary('RETR %s' % filename, file.write, blocksize=1024, rest=processed_size)\n",
    "        ftp.retrbinary('RETR %s' % filename, lambda blk: dump_to_db(blk, file), blocksize=1024, rest=processed_size)\n",
    "        processed_size += 1024\n",
    "    file.close()"
   ]
  },
  {
   "cell_type": "code",
   "execution_count": 23,
   "metadata": {},
   "outputs": [
    {
     "data": {
      "text/plain": [
       "'221 Goodbye.'"
      ]
     },
     "execution_count": 23,
     "metadata": {},
     "output_type": "execute_result"
    }
   ],
   "source": [
    "ftp.quit()"
   ]
  },
  {
   "cell_type": "markdown",
   "metadata": {},
   "source": [
    "#### Example Python program that uses FTP command MLSD"
   ]
  },
  {
   "cell_type": "code",
   "execution_count": 24,
   "metadata": {},
   "outputs": [
    {
     "ename": "gaierror",
     "evalue": "[Errno 11001] getaddrinfo failed",
     "output_type": "error",
     "traceback": [
      "\u001b[1;31m---------------------------------------------------------------------------\u001b[0m",
      "\u001b[1;31mgaierror\u001b[0m                                  Traceback (most recent call last)",
      "\u001b[1;32m<ipython-input-24-ada8ea118a76>\u001b[0m in \u001b[0;36m<module>\u001b[1;34m\u001b[0m\n\u001b[0;32m      2\u001b[0m \u001b[1;33m\u001b[0m\u001b[0m\n\u001b[0;32m      3\u001b[0m \u001b[1;31m# Create an FTP instance and connect to the FTP server\u001b[0m\u001b[1;33m\u001b[0m\u001b[1;33m\u001b[0m\u001b[1;33m\u001b[0m\u001b[0m\n\u001b[1;32m----> 4\u001b[1;33m \u001b[0mftpObject\u001b[0m \u001b[1;33m=\u001b[0m \u001b[0mFTP\u001b[0m\u001b[1;33m(\u001b[0m\u001b[0mhost\u001b[0m\u001b[1;33m=\u001b[0m\u001b[1;34m\"agreatftpserver.com\"\u001b[0m\u001b[1;33m)\u001b[0m\u001b[1;33m\u001b[0m\u001b[1;33m\u001b[0m\u001b[0m\n\u001b[0m\u001b[0;32m      5\u001b[0m \u001b[1;33m\u001b[0m\u001b[0m\n\u001b[0;32m      6\u001b[0m \u001b[1;31m# Login to the FTP server\u001b[0m\u001b[1;33m\u001b[0m\u001b[1;33m\u001b[0m\u001b[1;33m\u001b[0m\u001b[0m\n",
      "\u001b[1;32m~\\AppData\\Local\\Programs\\Python\\Python38\\lib\\ftplib.py\u001b[0m in \u001b[0;36m__init__\u001b[1;34m(self, host, user, passwd, acct, timeout, source_address)\u001b[0m\n\u001b[0;32m    115\u001b[0m         \u001b[0mself\u001b[0m\u001b[1;33m.\u001b[0m\u001b[0mtimeout\u001b[0m \u001b[1;33m=\u001b[0m \u001b[0mtimeout\u001b[0m\u001b[1;33m\u001b[0m\u001b[1;33m\u001b[0m\u001b[0m\n\u001b[0;32m    116\u001b[0m         \u001b[1;32mif\u001b[0m \u001b[0mhost\u001b[0m\u001b[1;33m:\u001b[0m\u001b[1;33m\u001b[0m\u001b[1;33m\u001b[0m\u001b[0m\n\u001b[1;32m--> 117\u001b[1;33m             \u001b[0mself\u001b[0m\u001b[1;33m.\u001b[0m\u001b[0mconnect\u001b[0m\u001b[1;33m(\u001b[0m\u001b[0mhost\u001b[0m\u001b[1;33m)\u001b[0m\u001b[1;33m\u001b[0m\u001b[1;33m\u001b[0m\u001b[0m\n\u001b[0m\u001b[0;32m    118\u001b[0m             \u001b[1;32mif\u001b[0m \u001b[0muser\u001b[0m\u001b[1;33m:\u001b[0m\u001b[1;33m\u001b[0m\u001b[1;33m\u001b[0m\u001b[0m\n\u001b[0;32m    119\u001b[0m                 \u001b[0mself\u001b[0m\u001b[1;33m.\u001b[0m\u001b[0mlogin\u001b[0m\u001b[1;33m(\u001b[0m\u001b[0muser\u001b[0m\u001b[1;33m,\u001b[0m \u001b[0mpasswd\u001b[0m\u001b[1;33m,\u001b[0m \u001b[0macct\u001b[0m\u001b[1;33m)\u001b[0m\u001b[1;33m\u001b[0m\u001b[1;33m\u001b[0m\u001b[0m\n",
      "\u001b[1;32m~\\AppData\\Local\\Programs\\Python\\Python38\\lib\\ftplib.py\u001b[0m in \u001b[0;36mconnect\u001b[1;34m(self, host, port, timeout, source_address)\u001b[0m\n\u001b[0;32m    150\u001b[0m             \u001b[0mself\u001b[0m\u001b[1;33m.\u001b[0m\u001b[0msource_address\u001b[0m \u001b[1;33m=\u001b[0m \u001b[0msource_address\u001b[0m\u001b[1;33m\u001b[0m\u001b[1;33m\u001b[0m\u001b[0m\n\u001b[0;32m    151\u001b[0m         \u001b[0msys\u001b[0m\u001b[1;33m.\u001b[0m\u001b[0maudit\u001b[0m\u001b[1;33m(\u001b[0m\u001b[1;34m\"ftplib.connect\"\u001b[0m\u001b[1;33m,\u001b[0m \u001b[0mself\u001b[0m\u001b[1;33m,\u001b[0m \u001b[0mself\u001b[0m\u001b[1;33m.\u001b[0m\u001b[0mhost\u001b[0m\u001b[1;33m,\u001b[0m \u001b[0mself\u001b[0m\u001b[1;33m.\u001b[0m\u001b[0mport\u001b[0m\u001b[1;33m)\u001b[0m\u001b[1;33m\u001b[0m\u001b[1;33m\u001b[0m\u001b[0m\n\u001b[1;32m--> 152\u001b[1;33m         self.sock = socket.create_connection((self.host, self.port), self.timeout,\n\u001b[0m\u001b[0;32m    153\u001b[0m                                              source_address=self.source_address)\n\u001b[0;32m    154\u001b[0m         \u001b[0mself\u001b[0m\u001b[1;33m.\u001b[0m\u001b[0maf\u001b[0m \u001b[1;33m=\u001b[0m \u001b[0mself\u001b[0m\u001b[1;33m.\u001b[0m\u001b[0msock\u001b[0m\u001b[1;33m.\u001b[0m\u001b[0mfamily\u001b[0m\u001b[1;33m\u001b[0m\u001b[1;33m\u001b[0m\u001b[0m\n",
      "\u001b[1;32m~\\AppData\\Local\\Programs\\Python\\Python38\\lib\\socket.py\u001b[0m in \u001b[0;36mcreate_connection\u001b[1;34m(address, timeout, source_address)\u001b[0m\n\u001b[0;32m    785\u001b[0m     \u001b[0mhost\u001b[0m\u001b[1;33m,\u001b[0m \u001b[0mport\u001b[0m \u001b[1;33m=\u001b[0m \u001b[0maddress\u001b[0m\u001b[1;33m\u001b[0m\u001b[1;33m\u001b[0m\u001b[0m\n\u001b[0;32m    786\u001b[0m     \u001b[0merr\u001b[0m \u001b[1;33m=\u001b[0m \u001b[1;32mNone\u001b[0m\u001b[1;33m\u001b[0m\u001b[1;33m\u001b[0m\u001b[0m\n\u001b[1;32m--> 787\u001b[1;33m     \u001b[1;32mfor\u001b[0m \u001b[0mres\u001b[0m \u001b[1;32min\u001b[0m \u001b[0mgetaddrinfo\u001b[0m\u001b[1;33m(\u001b[0m\u001b[0mhost\u001b[0m\u001b[1;33m,\u001b[0m \u001b[0mport\u001b[0m\u001b[1;33m,\u001b[0m \u001b[1;36m0\u001b[0m\u001b[1;33m,\u001b[0m \u001b[0mSOCK_STREAM\u001b[0m\u001b[1;33m)\u001b[0m\u001b[1;33m:\u001b[0m\u001b[1;33m\u001b[0m\u001b[1;33m\u001b[0m\u001b[0m\n\u001b[0m\u001b[0;32m    788\u001b[0m         \u001b[0maf\u001b[0m\u001b[1;33m,\u001b[0m \u001b[0msocktype\u001b[0m\u001b[1;33m,\u001b[0m \u001b[0mproto\u001b[0m\u001b[1;33m,\u001b[0m \u001b[0mcanonname\u001b[0m\u001b[1;33m,\u001b[0m \u001b[0msa\u001b[0m \u001b[1;33m=\u001b[0m \u001b[0mres\u001b[0m\u001b[1;33m\u001b[0m\u001b[1;33m\u001b[0m\u001b[0m\n\u001b[0;32m    789\u001b[0m         \u001b[0msock\u001b[0m \u001b[1;33m=\u001b[0m \u001b[1;32mNone\u001b[0m\u001b[1;33m\u001b[0m\u001b[1;33m\u001b[0m\u001b[0m\n",
      "\u001b[1;32m~\\AppData\\Local\\Programs\\Python\\Python38\\lib\\socket.py\u001b[0m in \u001b[0;36mgetaddrinfo\u001b[1;34m(host, port, family, type, proto, flags)\u001b[0m\n\u001b[0;32m    916\u001b[0m     \u001b[1;31m# and socket type values to enum constants.\u001b[0m\u001b[1;33m\u001b[0m\u001b[1;33m\u001b[0m\u001b[1;33m\u001b[0m\u001b[0m\n\u001b[0;32m    917\u001b[0m     \u001b[0maddrlist\u001b[0m \u001b[1;33m=\u001b[0m \u001b[1;33m[\u001b[0m\u001b[1;33m]\u001b[0m\u001b[1;33m\u001b[0m\u001b[1;33m\u001b[0m\u001b[0m\n\u001b[1;32m--> 918\u001b[1;33m     \u001b[1;32mfor\u001b[0m \u001b[0mres\u001b[0m \u001b[1;32min\u001b[0m \u001b[0m_socket\u001b[0m\u001b[1;33m.\u001b[0m\u001b[0mgetaddrinfo\u001b[0m\u001b[1;33m(\u001b[0m\u001b[0mhost\u001b[0m\u001b[1;33m,\u001b[0m \u001b[0mport\u001b[0m\u001b[1;33m,\u001b[0m \u001b[0mfamily\u001b[0m\u001b[1;33m,\u001b[0m \u001b[0mtype\u001b[0m\u001b[1;33m,\u001b[0m \u001b[0mproto\u001b[0m\u001b[1;33m,\u001b[0m \u001b[0mflags\u001b[0m\u001b[1;33m)\u001b[0m\u001b[1;33m:\u001b[0m\u001b[1;33m\u001b[0m\u001b[1;33m\u001b[0m\u001b[0m\n\u001b[0m\u001b[0;32m    919\u001b[0m         \u001b[0maf\u001b[0m\u001b[1;33m,\u001b[0m \u001b[0msocktype\u001b[0m\u001b[1;33m,\u001b[0m \u001b[0mproto\u001b[0m\u001b[1;33m,\u001b[0m \u001b[0mcanonname\u001b[0m\u001b[1;33m,\u001b[0m \u001b[0msa\u001b[0m \u001b[1;33m=\u001b[0m \u001b[0mres\u001b[0m\u001b[1;33m\u001b[0m\u001b[1;33m\u001b[0m\u001b[0m\n\u001b[0;32m    920\u001b[0m         addrlist.append((_intenum_converter(af, AddressFamily),\n",
      "\u001b[1;31mgaierror\u001b[0m: [Errno 11001] getaddrinfo failed"
     ]
    }
   ],
   "source": [
    "from ftplib import FTP\n",
    "\n",
    "# Create an FTP instance and connect to the FTP server\n",
    "ftpObject = FTP(host=\"agreatftpserver.com\")\n",
    "\n",
    "# Login to the FTP server\n",
    "ftpObject.login(user=\"someuser@agreatftpserver.com\", passwd=\"aadghbP654fDf17HGvD\")\n",
    "\n",
    "# Issue MLSD to get detailed listing of directory(pwd) contents\n",
    "for name, facts in ftpObject.mlsd():\n",
    "    print(name)\n",
    "    print(\"////\")\n",
    "    print(facts)"
   ]
  }
 ],
 "metadata": {
  "kernelspec": {
   "display_name": "Python 3.8.2 64-bit",
   "language": "python",
   "name": "python38264bit9d9bc96b9f9b47279ec6d81cef01a82e"
  },
  "language_info": {
   "codemirror_mode": {
    "name": "ipython",
    "version": 3
   },
   "file_extension": ".py",
   "mimetype": "text/x-python",
   "name": "python",
   "nbconvert_exporter": "python",
   "pygments_lexer": "ipython3",
   "version": "3.8.2"
  }
 },
 "nbformat": 4,
 "nbformat_minor": 4
}
