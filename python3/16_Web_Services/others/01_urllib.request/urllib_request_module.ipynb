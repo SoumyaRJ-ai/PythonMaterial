{
 "cells": [
  {
   "cell_type": "markdown",
   "metadata": {},
   "source": [
    "# urllib.request"
   ]
  },
  {
   "cell_type": "markdown",
   "metadata": {},
   "source": [
    "### Task 1 - Get my Public IP address"
   ]
  },
  {
   "cell_type": "code",
   "execution_count": 1,
   "metadata": {},
   "outputs": [],
   "source": [
    "import urllib.request"
   ]
  },
  {
   "cell_type": "code",
   "execution_count": 2,
   "metadata": {},
   "outputs": [],
   "source": [
    "connection = urllib.request.urlopen('http://checkip.dyndns.org')"
   ]
  },
  {
   "cell_type": "code",
   "execution_count": 3,
   "metadata": {},
   "outputs": [
    {
     "name": "stdout",
     "output_type": "stream",
     "text": [
      "\n",
      "    connection.url    = 'http://checkip.dyndns.org'\n",
      "    connection.status = 200\n",
      "    connection.reason = 'OK'\n",
      "    connection.msg    = 'OK'\n",
      "    connection.code   = 200\n",
      "\n"
     ]
    }
   ],
   "source": [
    "print(f'''\n",
    "    {connection.url    = }\n",
    "    {connection.status = }\n",
    "    {connection.reason = }\n",
    "    {connection.msg    = }\n",
    "    {connection.code   = }\n",
    "''')"
   ]
  },
  {
   "cell_type": "code",
   "execution_count": 4,
   "metadata": {},
   "outputs": [],
   "source": [
    "\n",
    "\n",
    "\n",
    "\n"
   ]
  },
  {
   "cell_type": "code",
   "execution_count": 5,
   "metadata": {},
   "outputs": [
    {
     "data": {
      "text/plain": [
       "bytes"
      ]
     },
     "execution_count": 5,
     "metadata": {},
     "output_type": "execute_result"
    }
   ],
   "source": [
    "type(data)"
   ]
  },
  {
   "cell_type": "code",
   "execution_count": 6,
   "metadata": {},
   "outputs": [
    {
     "name": "stdout",
     "output_type": "stream",
     "text": [
      "<class 'str'>\n"
     ]
    }
   ],
   "source": [
    "data = data.decode('utf-8')\n",
    "print(type(data))"
   ]
  },
  {
   "cell_type": "code",
   "execution_count": 7,
   "metadata": {},
   "outputs": [
    {
     "data": {
      "text/plain": [
       "'<html><head><title>Current IP Check</title></head><body>Current IP Address: 103.41.99.225</body></html>\\r\\n'"
      ]
     },
     "execution_count": 7,
     "metadata": {},
     "output_type": "execute_result"
    }
   ],
   "source": [
    "data"
   ]
  },
  {
   "cell_type": "markdown",
   "metadata": {},
   "source": [
    "#### Parsing the html \n",
    "    Method 1 - bruteforce"
   ]
  },
  {
   "cell_type": "code",
   "execution_count": 8,
   "metadata": {},
   "outputs": [
    {
     "data": {
      "text/plain": [
       "'103.41.99.227</body></html>\\r\\n'"
      ]
     },
     "execution_count": 8,
     "metadata": {},
     "output_type": "execute_result"
    }
   ],
   "source": [
    "data.split('Current IP Address: ')[1]"
   ]
  },
  {
   "cell_type": "code",
   "execution_count": 9,
   "metadata": {},
   "outputs": [
    {
     "name": "stdout",
     "output_type": "stream",
     "text": [
      "My Public IP Address is:  103.41.99.227\n"
     ]
    }
   ],
   "source": [
    "my_public_ip = data.split('Current IP Address: ')[1].split('</body>')[0]\n",
    "print(\"My Public IP Address is: \", my_public_ip)"
   ]
  },
  {
   "cell_type": "markdown",
   "metadata": {},
   "source": [
    "Method 2 - Using regular Expressions"
   ]
  },
  {
   "cell_type": "code",
   "execution_count": 10,
   "metadata": {},
   "outputs": [],
   "source": [
    "import re"
   ]
  },
  {
   "cell_type": "code",
   "execution_count": 11,
   "metadata": {},
   "outputs": [
    {
     "name": "stdout",
     "output_type": "stream",
     "text": [
      "My Public IP Address is:  103.41.99.227\n"
     ]
    }
   ],
   "source": [
    "my_public_ip = re.findall(r\"\\d{1,3}.\\d{1,3}.\\d{1,3}.\\d{1,3}\", data)[0]\n",
    "print(\"My Public IP Address is: \", my_public_ip)"
   ]
  },
  {
   "cell_type": "markdown",
   "metadata": {},
   "source": [
    "### Task 2 - Get all valid weblinks from a website"
   ]
  },
  {
   "cell_type": "code",
   "execution_count": 12,
   "metadata": {},
   "outputs": [],
   "source": [
    "import urllib.request"
   ]
  },
  {
   "cell_type": "code",
   "execution_count": 13,
   "metadata": {},
   "outputs": [],
   "source": [
    "connection = urllib.request.urlopen('https://www.stackoverflow.com')"
   ]
  },
  {
   "cell_type": "code",
   "execution_count": 14,
   "metadata": {},
   "outputs": [
    {
     "name": "stdout",
     "output_type": "stream",
     "text": [
      "\n",
      "    connection.url    = 'https://stackoverflow.com/'\n",
      "    connection.status = 200\n",
      "    connection.reason = 'OK'\n",
      "    connection.msg    = 'OK'\n",
      "    connection.code   = 200\n",
      "\n"
     ]
    }
   ],
   "source": [
    "print(f'''\n",
    "    {connection.url    = }\n",
    "    {connection.status = }\n",
    "    {connection.reason = }\n",
    "    {connection.msg    = }\n",
    "    {connection.code   = }\n",
    "''')"
   ]
  },
  {
   "cell_type": "code",
   "execution_count": 15,
   "metadata": {},
   "outputs": [],
   "source": [
    "data = connection.read()"
   ]
  },
  {
   "cell_type": "code",
   "execution_count": 16,
   "metadata": {},
   "outputs": [
    {
     "data": {
      "text/plain": [
       "b'<!DOCTYPE html>\\r\\n\\r\\n\\r\\n    <html class=\"html__responsive html__unpinned-leftnav\">\\r\\n\\r\\n    <head>\\r\\n\\r\\n        <title>Stack Overflow - Where Developers Learn, Share, &amp; Build Careers</title>\\r\\n        <link rel=\"shortcut icon\" href=\"https://cdn.sstatic.net/Sites/stackoverflow/img/favicon.ico?v=4f32ecc8f43d\">\\r\\n        <link rel=\"apple-touch-icon\" href=\"https://cdn.sstatic.net/Sites/stackoverflow/img/apple-touch-icon.png?v=c78bd457575a\">\\r\\n        <link rel=\"image_src\" href=\"https://cdn.sstatic.net/Sites/stackoverflow/img/apple-touch-icon.png?v=c78bd457575a\"> \\r\\n        <link rel=\"search\" type=\"application/opensearchdescription+xml\" title=\"Stack Overflow\" href=\"/opensearch.xml\">\\r\\n        <meta name=\"description\" content=\"Stack Overflow is the largest, most trusted online community for developers to learn, share&#x200B; &#x200B;their programming &#x200B;knowledge, and build their careers.\"/>\\r\\n        <meta name=\"viewport\" content=\"width=device-width, height=device-height, initial-scale=1.0, minimum-scale=1.0\">\\r\\n        <meta property=\"og:type\" content= \"website\" />\\r\\n        <meta property=\"og:url\" content=\"https://stackoverflow.com/\"/>\\r\\n        <meta property=\"og:site_name\" content=\"Stack Overflow\" />\\r\\n        <meta property=\"og:image\" itemprop=\"image primaryImageOfPage\" content=\"https://cdn.sstatic.net/Sites/stackoverflow/img/apple-touch-icon@2.png?v=73d79a89bded\" />\\r\\n        <meta name=\"twitter:card\" content=\"summary\"/>\\r\\n        <meta name=\"twitter:domain\" content=\"stackoverflow.com\"/>\\r\\n        <meta name=\"twitter:title\" property=\"og:title\" itemprop=\"name\" content=\"Stack Overflow - Where Developers Learn, Share, &amp; Build Careers\" />\\r\\n        <meta name=\"twitter:description\" property=\"og:description\" itemprop=\"description\" content=\"Stack Overflow | The World&#x2019;s Largest Online Community for Developers\" />\\r\\n\\r\\n        <script src=\"https://ajax.googleapis.com/ajax/libs/jquery/1.12.4/jquery.min.js\"></script>\\r\\n        <script src=\"https://cdn.sstatic.net/Js/stub.en.js?v=84f170f87a58\"></script>\\r\\n    \\r\\n        <link rel=\"stylesheet\" type=\"text/css\" href=\"https://cdn.sstatic.net/Shared/stacks.css?v=53b524d5da8c\" >\\r\\n        <link rel=\"stylesheet\" type=\"text/css\" href=\"https://cdn.sstatic.net/Sites/stackoverflow/primary.css?v=a9ca0b6c6f1d\" >\\r\\n\\r\\n    \\r\\n    <link rel=\"stylesheet\" type=\"text/css\" href=\"https://cdn.sstatic.net/Shared/Product/product.css?v=8cbab94ac4d4\" >\\r\\n\\r\\n    <link rel=\"alternate\" type=\"application/atom+xml\" title=\"Feed of recent questions\" href=\"/feeds\">\\r\\n\\r\\n\\r\\n        \\r\\n        \\r\\n        \\r\\n        <link rel=\"stylesheet\" type=\"text/css\" href=\"https://cdn.sstatic.net/Shared/Channels/channels.css?v=e4574fec4004\" >\\r\\n        \\r\\n        \\r\\n        \\r\\n\\r\\n\\r\\n    <script>\\r\\n        StackExchange.init({\"locale\":\"en\",\"serverTime\":1586628615,\"routeName\":\"Home/Index\",\"stackAuthUrl\":\"https://stackauth.com\",\"networkMetaHostname\":\"meta.stackexchange.com\",\"site\":{\"name\":\"Stack Overflow\",\"description\":\"Q&A for professional and enthusiast programmers\",\"isNoticesTabEnabled\":true,\"enableNewTagCreationWarning\":true,\"insertSpaceAfterNameTabCompletion\":false,\"id\":1,\"childUrl\":\"https://meta.stackoverflow.com\",\"negativeVoteScoreFloor\":null,\"enableSocialMediaInSharePopup\":true,\"protocol\":\"https\"},\"user\":{\"fkey\":\"39774bd0436aa8fead10b84aedacaca2d0dd37ca7d28a0c74d26a5199f94e241\",\"tid\":\"82b93d20-13f1-66a2-bae7-6634f3b1722d\",\"rep\":0,\"isAnonymous\":true,\"isAnonymousNetworkWide\":true},\"events\":{\"postType\":{\"question\":1},\"postEditionSection\":{\"title\":1,\"body\":2,\"tags\":3}},\"story\":{\"minCompleteBodyLength\":75,\"likedTagsMaxLength\":300,\"dislikedTagsMaxLength\":300},\"jobPreferences\":{\"maxNumDeveloperRoles\":2,\"maxNumIndustries\":4},\"svgIconPath\":\"https://cdn.sstatic.net/Img/svg-icons\",\"svgIconHash\":\"51fd55b12581\"}, {\"userProfile\":{\"openGraphAPIKey\":\"4a307e43-b625-49bb-af15-ffadf2bda017\"},\"userMessaging\":{\"showNewFeatureNotice\":true},\"tags\":{},\"snippets\":{\"renderDomain\":\"stacksnippets.net\",\"snippetsEnabled\":true},\"slack\":{\"sidebarAdDismissCookie\":\"slack-sidebar-ad\"},\"site\":{\"allowImageUploads\":true,\"enableImgurHttps\":true,\"enableUserHovercards\":true,\"forceHttpsImages\":true,\"styleCode\":true},\"paths\":{},\"monitoring\":{\"clientTimingsAbsoluteTimeout\":30000,\"clientTimingsDebounceTimeout\":1000},\"mentions\":{\"maxNumUsersInDropdown\":50},\"markdown\":{\"asteriskIntraWordEmphasis\":true},\"flags\":{\"allowRetractingCommentFlags\":true,\"allowRetractingFlags\":true},\"comments\":{},\"accounts\":{\"currentPasswordRequiredForChangingStackIdPassword\":true}});\\r\\n        StackExchange.using.setCacheBreakers({\"js/adops.en.js\":\"22a9bd59b1e9\",\"js/ask.en.js\":\"e4dd8c66240e\",\"js/begin-edit-event.en.js\":\"7f52eac9bfd0\",\"js/events.en.js\":\"8fd8a10eb1c1\",\"js/explore-qlist.en.js\":\"8498d0bb288b\",\"js/full-anon.en.js\":\"94ce568da8db\",\"js/full.en.js\":\"5726345b6530\",\"js/help.en.js\":\"4fa1e85e7667\",\"js/inline-tag-editing.en.js\":\"d0ab5dd037da\",\"js/keyboard-shortcuts.en.js\":\"3a9ce366fc66\",\"js/mobile.en.js\":\"af8cb6c3b877\",\"js/moderator.en.js\":\"3d3ac07254b9\",\"js/post-validation.en.js\":\"9fb874ae0a06\",\"js/prettify-full.en.js\":\"1bbbaa05a810\",\"js/question-editor.en.js\":\"\",\"js/review.en.js\":\"325bde62b568\",\"js/revisions.en.js\":\"b4bb45bdbce7\",\"js/tageditor.en.js\":\"578260bfe204\",\"js/tageditornew.en.js\":\"a1437796b07a\",\"js/tagsuggestions.en.js\":\"a9ff449efcdc\",\"js/wmd.en.js\":\"e4b190818209\",\"js/snippet-javascript-codemirror.en.js\":\"925768fc5109\"});\\r\\n        StackExchange.using(\"gps\", function() {\\r\\n             StackExchange.gps.init(true);\\r\\n        });\\r\\n    </script>\\r\\n    <noscript id=\"noscript-css\"><style>body,.top-bar{margin-top:1.9em}</style></noscript>\\r\\n    </head>\\r\\n    <body class=\"home-page unified-theme\">\\r\\n    <div id=\"notify-container\"></div>\\r\\n    <div id=\"custom-header\"></div>\\r\\n        \\r\\n<header class=\"top-bar js-top-bar top-bar__network _fixed\">\\r\\n    <div class=\"wmx12 mx-auto grid ai-center h100\" role=\"menubar\">\\r\\n        <div class=\"-main grid--cell\">\\r\\n                <a href=\"#\" class=\"left-sidebar-toggle p0 ai-center jc-center js-left-sidebar-toggle\" role=\"menuitem\" aria-haspopup=\"true\" aria-controls=\"left-sidebar\" aria-expanded=\"false\"><span class=\"ps-relative\"></span></a>\\r\\n                <div class=\"topbar-dialog leftnav-dialog js-leftnav-dialog dno\">\\r\\n                    <div class=\"left-sidebar js-unpinned-left-sidebar\" data-can-be=\"left-sidebar\" data-is-here-when=\"sm md lg\"></div>\\r\\n                </div>\\r\\n                    <a href=\"https://stackoverflow.com\" class=\"-logo js-gps-track\"\\r\\n                        data-gps-track=\"top_nav.click({is_current:true, location:1, destination:8})\">\\r\\n                        <span class=\"-img _glyph\">Stack Overflow</span>\\r\\n                    </a>\\r\\n\\r\\n\\r\\n\\r\\n        </div>\\r\\n\\r\\n            <ol class=\"list-reset grid gs4\" role=\"presentation\">\\r\\n                <li class=\"grid--cell\">\\r\\n                    <a href=\"#\"\\r\\n                        class=\"-marketing-link is-selected js-gps-track js-products-menu\"\\r\\n                        aria-controls=\"products-popover\"\\r\\n                        data-controller=\"s-popover\"\\r\\n                        data-action=\"s-popover#toggle\"\\r\\n                        data-s-popover-placement=\"bottom\"\\r\\n                        data-gps-track=\"top_nav.products.click({location:1, destination:1})\"\\r\\n                        data-ga=\"[&quot;top navigation&quot;,&quot;products menu click&quot;,null,null,null]\">\\r\\n                        Products\\r\\n                    </a>\\r\\n                </li>\\r\\n\\r\\n                    <li class=\"grid--cell md:d-none\">\\r\\n                        <a href=\"/teams/customers\" class=\"-marketing-link js-gps-track\"\\r\\n                           data-gps-track=\"top_nav.products.click({location:1, destination:7})\"\\r\\n                            data-ga=\"[&quot;top navigation&quot;,&quot;customers menu click&quot;,null,null,null]\">Customers</a>\\r\\n                    </li>\\r\\n                    <li class=\"grid--cell md:d-none\">\\r\\n                        <a href=\"/teams/use-cases\" class=\"-marketing-link js-gps-track\"\\r\\n                           data-gps-track=\"top_nav.products.click({location:1, destination:8})\"\\r\\n                           data-ga=\"[&quot;top navigation&quot;,&quot;use cases menu click&quot;,null,null,null]\">Use cases</a>\\r\\n                    </li>\\r\\n            </ol>\\r\\n            <div class=\"s-popover ws2 p6\"\\r\\n                    id=\"products-popover\"\\r\\n                    role=\"menu\"\\r\\n                    aria-hidden=\"true\">\\r\\n                <div class=\"s-popover--arrow\"></div>\\r\\n                <ol class=\"list-reset s-anchors s-anchors__inherit\">\\r\\n                    <li>\\r\\n                        <a href=\"/questions\" class=\"d-block py6 px6 bar-sm h:bg-orange-500 h:fc-white js-gps-track\"\\r\\n                           data-gps-track=\"top_nav.products.click({location:1, destination:2})\"\\r\\n                           data-ga=\"[&quot;top navigation&quot;,&quot;public qa submenu click&quot;,null,null,null]\">\\r\\n                            <span class=\"fs-body1 d-block\">Stack Overflow</span>\\r\\n                            <span class=\"fs-caption d-block o70\">Public questions and answers</span>\\r\\n                        </a>\\r\\n                    </li>\\r\\n                    <li>\\r\\n                        <a href=\"/teams\" class=\"d-block py6 px6 bar-sm h:bg-orange-500 h:fc-white js-gps-track\"\\r\\n                           data-gps-track=\"top_nav.products.click({location:1, destination:3})\"\\r\\n                           data-ga=\"[&quot;top navigation&quot;,&quot;teams submenu click&quot;,null,null,null]\">\\r\\n                            <span class=\"fs-body1 d-block\">Teams</span>\\r\\n                            <span class=\"fs-caption d-block o70\">Private questions and answers for your team</span>\\r\\n                        </a>\\r\\n                    </li>\\r\\n                    <li>\\r\\n                        <a href=\"/enterprise\" class=\"d-block py6 px6 bar-sm h:bg-orange-500 h:fc-white js-gps-track\"\\r\\n                           data-gps-track=\"top_nav.products.click({location:1, destination:4})\"\\r\\n                           data-ga=\"[&quot;top navigation&quot;,&quot;enterprise submenu click&quot;,null,null,null]\">\\r\\n                            <span class=\"fs-body1 d-block\">Enterprise</span>\\r\\n                            <span class=\"fs-caption d-block o70\">Private self-hosted questions and answers for your enterprise</span>\\r\\n                        </a>\\r\\n                    </li>\\r\\n                    <li class=\"bt bc-black-3 mln6 mrn6 mt6 pt6 px6\">\\r\\n                        <a href=\"https://stackoverflow.com/talent\" class=\"d-block py6 px6 bar-sm h:bg-orange-500 h:fc-white js-gps-track\"\\r\\n                           data-gps-track=\"top_nav.products.click({location:1, destination:5})\"\\r\\n                           data-ga=\"[&quot;top navigation&quot;,&quot;talent submenu click&quot;,null,null,null]\">\\r\\n                            <span class=\"fs-body1 d-block\">Talent</span>\\r\\n                            <span class=\"fs-caption d-block o70\">Hire technical talent</span>\\r\\n                        </a>\\r\\n                    </li>\\r\\n                    <li>\\r\\n                        <a href=\"https://stackoverflow.com/advertising\" class=\"d-block py6 px6 bar-sm h:bg-orange-500 h:fc-white js-gps-track\"\\r\\n                           data-gps-track=\"top_nav.products.click({location:1, destination:6})\"\\r\\n                           data-ga=\"[&quot;top navigation&quot;,&quot;advertising submenu click&quot;,null,null,null]\">\\r\\n                            <span class=\"fs-body1 d-block\">Advertising</span>\\r\\n                            <span class=\"fs-caption d-block o70\">Reach developers worldwide</span>\\r\\n                        </a>\\r\\n                    </li>\\r\\n\\r\\n                </ol>\\r\\n            </div>\\r\\n\\r\\n            <form id=\"search\" role=\"search\" action=/search method=\"get\" class=\"grid--cell fl-grow1 searchbar px12 js-searchbar \" autocomplete=\"off\">\\r\\n                    <div class=\"ps-relative\">\\r\\n                        <input name=\"q\"\\r\\n                               type=\"text\"\\r\\n                               placeholder=\"Search&#x2026;\"\\r\\n                               value=\"\"\\r\\n                               autocomplete=\"off\"\\r\\n                               maxlength=\"240\"\\r\\n                               class=\"s-input s-input__search js-search-field \"\\r\\n                               aria-label=\"Search\"\\r\\n                               aria-controls=\"top-search\" \\r\\n                               data-controller=\"s-popover\"\\r\\n                               data-action=\"focus->s-popover#show\"\\r\\n                               data-s-popover-placement=\"bottom-start\"/>\\r\\n                        <svg aria-hidden=\"true\" class=\"svg-icon s-input-icon s-input-icon__search iconSearch\" width=\"18\" height=\"18\" viewBox=\"0 0 18 18\"><path d=\"M18 16.5l-5.14-5.18h-.35a7 7 0 1 0-1.19 1.19v.35L16.5 18l1.5-1.5zM12 7A5 5 0 1 1 2 7a5 5 0 0 1 10 0z\"/></svg>\\r\\n                        <div class=\"s-popover p0 wmx100 wmn4 sm:wmn-initial js-top-search-popover s-popover--arrow__tl\" id=\"top-search\" role=\"menu\">\\r\\n    <div class=\"js-spinner p24 grid ai-center jc-center d-none\">\\r\\n        <div class=\"s-spinner s-spinner__sm fc-orange-400\">\\r\\n            <div class=\"v-visible-sr\">Loading&#x2026;</div>\\r\\n        </div>\\r\\n    </div>\\r\\n\\r\\n    <span class=\"v-visible-sr js-screen-reader-info\"></span>\\r\\n    <div class=\"js-ac-results overflow-y-auto hmx3 d-none\"></div>\\r\\n\\r\\n    <div class=\"js-search-hints\" aria-describedby=\"Tips for searching\"></div>\\r\\n</div>\\r\\n                    </div>\\r\\n            </form>\\r\\n        \\r\\n        \\r\\n\\r\\n<ol class=\"overflow-x-auto ml-auto -secondary grid ai-center list-reset h100 user-logged-out\" role=\"presentation\">\\r\\n        <li class=\"-item searchbar-trigger\"><a href=\"#\" class=\"-link js-searchbar-trigger\" role=\"button\" aria-label=\"Search\" aria-haspopup=\"true\" aria-controls=\"search\" title=\"Click to show search\"><svg aria-hidden=\"true\" class=\"svg-icon iconSearch\" width=\"18\" height=\"18\" viewBox=\"0 0 18 18\"><path d=\"M18 16.5l-5.14-5.18h-.35a7 7 0 1 0-1.19 1.19v.35L16.5 18l1.5-1.5zM12 7A5 5 0 1 1 2 7a5 5 0 0 1 10 0z\"/></svg></a></li>\\r\\n\\r\\n            <li class=\"-ctas\">\\r\\n                            <a href=\"https://stackoverflow.com/users/login?ssrc=head&returnurl=https%3a%2f%2fstackoverflow.com%2f\" class=\"login-link s-btn s-btn__filled py8 js-gps-track\" rel=\"nofollow\"\\r\\n                               data-gps-track=\"login.click\" data-ga=\"[&quot;top navigation&quot;,&quot;login button click&quot;,null,null,null]\">Log in</a>\\r\\n                            <a href=\"https://stackoverflow.com/users/signup?ssrc=head&returnurl=%2fusers%2fstory%2fcurrent\" class=\"login-link s-btn s-btn__primary py8\" rel=\"nofollow\" data-ga=\"[&quot;sign up&quot;,&quot;Sign Up Navigation&quot;,&quot;Header&quot;,null,null]\">Sign up</a>\\r\\n\\r\\n            </li>\\r\\n\\r\\n    <li class=\"js-topbar-dialog-corral\" role=\"presentation\">\\r\\n            \\r\\n\\r\\n    <div class=\"topbar-dialog siteSwitcher-dialog dno\" role=\"menu\">\\r\\n        <div class=\"header\">\\r\\n            <h3>\\r\\n                <a href=\"https://stackoverflow.com\">current community</a>\\r\\n            </h3>\\r\\n        </div>\\r\\n        <div class=\"modal-content bg-powder-050\">\\r\\n            <ul class=\"current-site\">\\r\\n                    <li class=\"grid\">\\r\\n                            <div class=\"fl1\">\\r\\n                <a href=\"https://stackoverflow.com\"\\r\\n       class=\"current-site-link site-link js-gps-track grid gs8 gsx\"\\r\\n       data-id=\"1\"\\r\\n       data-gps-track=\"site_switcher.click({ item_type:3 })\">\\r\\n        <div class=\"favicon favicon-stackoverflow site-icon grid--cell\" title=\"Stack Overflow\"></div>\\r\\n        <span class=\"grid--cell fl1\">\\r\\n            Stack Overflow\\r\\n        </span>\\r\\n    </a>\\r\\n\\r\\n    </div>\\r\\n    <div class=\"related-links\">\\r\\n            <a href=\"https://stackoverflow.com/help\" class=\"js-gps-track\" data-gps-track=\"site_switcher.click({ item_type:14 })\">help</a>\\r\\n            <a href=\"https://chat.stackoverflow.com\" class=\"js-gps-track\" data-gps-track=\"site_switcher.click({ item_type:6 })\">chat</a>\\r\\n    </div>\\r\\n\\r\\n                    </li>\\r\\n                    <li class=\"related-site grid\">\\r\\n                            <div class=\"L-shaped-icon-container\">\\r\\n        <span class=\"L-shaped-icon\"></span>\\r\\n    </div>\\r\\n\\r\\n                            <a href=\"https://meta.stackoverflow.com\"\\r\\n       class=\" site-link js-gps-track grid gs8 gsx\"\\r\\n       data-id=\"552\"\\r\\n       data-gps-track=\"site.switch({ target_site:552, item_type:3 }),site_switcher.click({ item_type:4 })\">\\r\\n        <div class=\"favicon favicon-stackoverflowmeta site-icon grid--cell\" title=\"Meta Stack Overflow\"></div>\\r\\n        <span class=\"grid--cell fl1\">\\r\\n            Meta Stack Overflow\\r\\n        </span>\\r\\n    </a>\\r\\n\\r\\n                    </li>\\r\\n            </ul>\\r\\n        </div>\\r\\n\\r\\n        <div class=\"header\" id=\"your-communities-header\">\\r\\n            <h3>\\r\\nyour communities            </h3>\\r\\n\\r\\n        </div>\\r\\n        <div class=\"modal-content\" id=\"your-communities-section\">\\r\\n\\r\\n                <div class=\"call-to-login\">\\r\\n<a href=\"https://stackoverflow.com/users/signup?ssrc=site_switcher&amp;returnurl=%2fusers%2fstory%2fcurrent\" class=\"login-link js-gps-track\" data-gps-track=\"site_switcher.click({ item_type:10 })\">Sign up</a> or <a href=\"https://stackoverflow.com/users/login?ssrc=site_switcher&amp;returnurl=https%3a%2f%2fstackoverflow.com%2f\" class=\"login-link js-gps-track\" data-gps-track=\"site_switcher.click({ item_type:11 })\">log in</a> to customize your list.                </div>\\r\\n        </div>\\r\\n\\r\\n        <div class=\"header\">\\r\\n            <h3><a href=\"https://stackexchange.com/sites\">more stack exchange communities</a>\\r\\n            </h3>\\r\\n            <a href=\"https://stackoverflow.blog\" class=\"fr\">company blog</a>\\r\\n        </div>\\r\\n        <div class=\"modal-content\">\\r\\n                <div class=\"child-content\"></div>\\r\\n        </div>        \\r\\n    </div>\\r\\n\\r\\n    </li>\\r\\n</ol>\\r\\n\\r\\n    </div>\\r\\n</header>\\r\\n    <div id=\"js-gdpr-consent-banner\" class=\"p8 ff-sans ps-fixed b0 l0 r0 z-banner\" role=\"banner\" aria-hidden=\"false\" style=\"background-color: #3b4045; color: white;\"> \\r\\n        <div class=\"wmx8 mx-auto grid grid__center\" role=\"alertdialog\" aria-describedby=\"notice-message\">\\r\\n            <div class=\"grid--cell mr12\" aria-label=\"notice-message\">\\r\\n                <p class=\"mb0 lh-lg\">\\r\\n                    By using our site, you acknowledge that you have read and understand our <a class=\"s-link s-link__inherit td-underline fc-white\" target=\"_blank\" href=\"https://stackoverflow.com/legal/cookie-policy\">Cookie Policy</a>, <a class=\"s-link s-link__inherit td-underline fc-white\" target=\"_blank\" href=\"https://stackoverflow.com/legal/privacy-policy\">Privacy Policy</a>, and our <a class=\"s-link s-link__inherit td-underline fc-white\" target=\"_blank\" href=\"https://stackoverflow.com/legal/terms-of-service/public\">Terms of Service</a>.\\r\\n                </p>\\r\\n            </div>\\r\\n            <div class=\"grid--cell\">\\r\\n                <a class=\"s-btn s-btn__muted s-btn__icon js-notice-close\" aria-label=\"notice-dismiss\">\\r\\n                    <svg aria-hidden=\"true\" class=\"svg-icon iconClear\" width=\"18\" height=\"18\" viewBox=\"0 0 18 18\"><path d=\"M15 4.41L13.59 3 9 7.59 4.41 3 3 4.41 7.59 9 3 13.59 4.41 15 9 10.41 13.59 15 15 13.59 10.41 9 15 4.41z\"/></svg>\\r\\n                </a>\\r\\n            </div>\\r\\n        </div>\\r\\n    </div>\\r\\n\\r\\n    <script>\\r\\n        StackExchange.ready(function () { StackExchange.topbar.init(); });\\r\\nStackExchange.scrollPadding.setPaddingTop(50, 10);    </script>\\r\\n\\r\\n\\r\\n\\r\\n\\r\\n\\r\\n    <div class=\"container wmx100 w100 p-ff-source\">\\r\\n            \\r\\n\\r\\n<div id=\"left-sidebar\" data-is-here-when=\"\" class=\"left-sidebar js-pinned-left-sidebar ps-relative\">\\r\\n    <div class=\"left-sidebar--sticky-container js-sticky-leftnav\">\\r\\n        <nav role=\"navigation\">\\r\\n            <ol class=\"nav-links\">\\r\\n        <li class=\" youarehere\">\\r\\n            <a\\r\\n                href=\"/\"\\r\\n                class=\"pl8 js-gps-track nav-links--link\"\\r\\n                \\r\\n                data-gps-track=\"top_nav.click({is_current:true, location:1, destination:8})\">\\r\\nHome            </a>\\r\\n        </li>\\r\\n                <li>\\r\\n                    <ol class=\"nav-links\">\\r\\n                            <li class=\"fs-fine tt-uppercase ml8 mt16 mb4 fc-light\">Public</li>\\r\\n                                <li class=\"\">\\r\\n            <a id=\"nav-questions\"\\r\\n                href=\"/questions\"\\r\\n                class=\"pl8 js-gps-track nav-links--link -link__with-icon\"\\r\\n                \\r\\n                data-gps-track=\"top_nav.click({is_current:false, location:1, destination:1})\">\\r\\n<svg aria-hidden=\"true\" class=\"svg-icon iconGlobe\" width=\"18\" height=\"18\" viewBox=\"0 0 18 18\"><path d=\"M9 1a8 8 0 1 0 0 16A8 8 0 0 0 9 1zM8 15.32a6.4 6.4 0 0 1-5.23-7.75L7 11.68v.8c0 .88.12 1.32 1 1.32v1.52zm5.72-2c-.2-.66-1-1.32-1.72-1.32h-1v-2c0-.44-.56-1-1-1H6V7h1c.44 0 1-.56 1-1V5h2c.88 0 1.4-.72 1.4-1.6v-.33a6.4 6.4 0 0 1 2.32 10.24v.01z\"/></svg>                    <span class=\"-link--channel-name\">Stack Overflow</span>\\r\\n            </a>\\r\\n        </li>\\r\\n\\r\\n        <li class=\"\">\\r\\n            <a id=\"nav-tags\"\\r\\n                href=\"/tags\"\\r\\n                class=\" js-gps-track nav-links--link\"\\r\\n                \\r\\n                data-gps-track=\"top_nav.click({is_current:false, location:1, destination:2})\">\\r\\nTags            </a>\\r\\n        </li>\\r\\n        <li class=\"\">\\r\\n            <a id=\"nav-users\"\\r\\n                href=\"/users\"\\r\\n                class=\" js-gps-track nav-links--link\"\\r\\n                \\r\\n                data-gps-track=\"top_nav.click({is_current:false, location:1, destination:3})\">\\r\\nUsers            </a>\\r\\n        </li>\\r\\n        <li class=\"\">\\r\\n            <a id=\"nav-jobs\"\\r\\n                href=\"/jobs?so_medium=StackOverflow&amp;so_source=SiteNav\"\\r\\n                class=\" js-gps-track nav-links--link\"\\r\\n                \\r\\n                data-gps-track=\"top_nav.click({is_current:false, location:1, destination:6})\">\\r\\nJobs            </a>\\r\\n        </li>\\r\\n                    </ol>\\r\\n                </li>\\r\\n                    <li>\\r\\n                        <ol class=\"nav-links\">\\r\\n                                <li class=\"grid ai-center jc-space-between ml8 mt24 mb4\">\\r\\n                                    <div class=\"grid--cell tt-uppercase fs-fine fc-light\">Teams</div>\\r\\n                                    <div class=\"grid--cell fs-fine fc-light mr4\">\\r\\n                                        <a href=\"javascript:void(0)\" class=\"s-link s-link__inherit js-gps-track\"\\r\\n                                            role=\"button\"\\r\\n                                            aria-controls=\"popover-teams-create-cta\"\\r\\n                                            data-controller=\"s-popover\"\\r\\n                                            data-action=\"s-popover#toggle\"\\r\\n                                            data-s-popover-placement=\"bottom-start\"\\r\\n                                            data-s-popover-toggle-class=\"is-selected\"\\r\\n                                            data-gps-track=\"teams.create.left-sidenav.click({ Action: ShowInfo })\"\\r\\n                                            data-ga=\"[&quot;teams left navigation - anonymous&quot;,&quot;left nav show teams info&quot;,null,null,null]\">\\r\\n                                            What&#x2019;s this?\\r\\n                                        </a>\\r\\n\\r\\n                                    </div>\\r\\n                                </li>\\r\\n                                <li class=\"ps-relative\">\\r\\n                                    <a href=\"https://stackoverflow.com/teams\"\\r\\n                                        class=\"pl8 js-gps-track nav-links--link\"\\r\\n                                        title=\"Stack Overflow for Teams is a private, secure spot for your organization\\'s questions and answers.\"\\r\\n                                        data-gps-track=\"teams.create.left-sidenav.click({ Action: TeamsClick })\"\\r\\n                                        data-ga=\"[&quot;teams left navigation - anonymous&quot;,&quot;left nav team click&quot;,&quot;stackoverflow.com/teams&quot;,null,null]\">\\r\\n                                        <div class=\"grid ai-center\">\\r\\n                                            <div class=\"grid--cell s-avatar va-middle bg-orange-400\">\\r\\n                                                <div class=\"s-avatar--letter mtn1\">\\r\\n                                                    <svg aria-hidden=\"true\" class=\"svg-icon iconBriefcaseSm\" width=\"14\" height=\"14\" viewBox=\"0 0 14 14\"><path d=\"M4 3a1 1 0 0 1 1-1h4a1 1 0 0 1 1 1v1h.5c.83 0 1.5.67 1.5 1.5v5c0 .83-.67 1.5-1.5 1.5h-7A1.5 1.5 0 0 1 2 10.5v-5C2 4.67 2.67 4 3.5 4H4V3zm5 1V3H5v1h4z\"/></svg>\\r\\n                                                </div>\\r\\n                                                <svg aria-hidden=\"true\" class=\"svg-icon native s-avatar--badge iconShieldXSm\" width=\"9\" height=\"10\" viewBox=\"0 0 9 10\"><path d=\"M0 1.84L4.5 0 9 1.84v3.17C9 7.53 6.3 10 4.5 10 2.7 10 0 7.53 0 5.01V1.84z\" fill=\"var(--white)\"/><path d=\"M1 2.5L4.5 1 8 2.5v2.51C8 7.34 5.34 9 4.5 9 3.65 9 1 7.34 1 5.01V2.5zm2.98 3.02L3.2 7h2.6l-.78-1.48a.4.4 0 0 1 .15-.38c.34-.24.73-.7.73-1.14 0-.71-.5-1.23-1.41-1.23-.92 0-1.39.52-1.39 1.23 0 .44.4.9.73 1.14.12.08.18.23.15.38z\" fill=\"var(--black-500)\"/></svg>\\r\\n                                            </div>\\r\\n                                            <div class=\"grid--cell pl6\">\\r\\nFree 30 Day Trial                                            </div>\\r\\n                                        </div>\\r\\n                                    </a>\\r\\n                                </li>\\r\\n                        </ol>\\r\\n                    </li>\\r\\n            </ol>\\r\\n        </nav>\\r\\n    </div>\\r\\n\\r\\n\\r\\n        <div class=\"s-popover w-auto p16\"\\r\\n             id=\"popover-teams-create-cta\"\\r\\n             role=\"menu\"\\r\\n             aria-hidden=\"true\">\\r\\n            <div class=\"s-popover--arrow\"></div>\\r\\n\\r\\n            <div class=\"ps-relative overflow-hidden\">\\r\\n                <p class=\"mb2\"><strong>Teams</strong></p>\\r\\n                <p class=\"mb16 fs-caption fc-medium\">Q&amp;A for Work</p>\\r\\n                <p class=\"mb8 fs-caption fc-medium\">\\r\\n\\r\\n                            Stack Overflow for Teams is a private, secure spot for you and\\r\\n                            your coworkers to find and share information.\\r\\n                                        </p>\\r\\n                <a href=\"https://stackoverflow.com/teams\"\\r\\n                   class=\"js-gps-track ws-nowrap d-block\"\\r\\n                   data-gps-track=\"teams.create.left-sidenav.click({ Action: CtaClick })\"\\r\\n                   data-ga=\"[&quot;teams left navigation - anonymous&quot;,&quot;left nav cta&quot;,&quot;stackoverflow.com/teams&quot;,null,null]\">\\r\\nLearn more                </a>\\r\\n            </div>\\r\\n\\r\\n            <div class=\"ps-absolute t8 r8\">\\r\\n                <svg width=\"53\" height=\"49\" fill=\"none\" xmlns=\"http://www.w3.org/2000/svg\"><path d=\"M49 11l.2 31H18.9L9 49v-7H4V8h31\" fill=\"#CCEAFF\" /><path d=\"M44.5 19v-.3l-.2-.1-18-13-.1-.1H.5v33h4V46l.8-.6 9.9-6.9h29.3V19z\" stroke=\"#1060E1\" stroke-miterlimit=\"10\" /><path d=\"M31 2l6-1.5 7 2V38H14.9L5 45v-7H1V6h25l5-4z\" fill=\"#fff\" /><path d=\"M7 16.5h13m-13 6h14m-14 6h18\" stroke=\"#1060E1\" stroke-miterlimit=\"10\" /><path d=\"M39 30a14 14 0 1 0 0-28 14 14 0 0 0 0 28z\" fill=\"#FFB935\" /><path d=\"M50.5 14a13.5 13.5 0 1 1-27 0 13.5 13.5 0 0 1 27 0z\" stroke=\"#F48024\" stroke-miterlimit=\"10\" /><path d=\"M32.5 21.5v-8h9v8h-9zm2-9.5V9.3A2.5 2.5 0 0 1 37 6.8a2.5 2.5 0 0 1 2.5 2.5V12h-5zm2 3v2m1-2v2\" stroke=\"#fff\" stroke-miterlimit=\"10\" /></svg>\\r\\n            </div>\\r\\n        </div>\\r\\n\\r\\n</div>\\r\\n\\r\\n\\r\\n\\r\\n        <div id=\"content\" class=\"w100 wmx100 p0 snippet-hidden\">\\r\\n\\r\\n            \\r\\n<div class=\"py128 product-hero-background d:fc-white\">\\r\\n    <h1 class=\"w90 mx-auto p-ff-roboto-slab-bold fs-display2 ta-center mb16\">We <span class=\"ff-mono\">&#x3C;3</span> people who code</h1>\\r\\n    <p class=\"fs-title ta-center w90 wmx4 mx-auto mb24\">We build products that empower developers and connect them to solutions that enable productivity, growth, and discovery.</p>\\r\\n    <div class=\"grid jc-center ai-center fs-body2 sm:fd-column\">\\r\\n        <a class=\"grid--cell bc-orange-2 ba fc-orange-400 bg-white d:bg-black-900 py12 px24 bar-sm js-scroll-link js-gps-track\"\\r\\n           data-gps-track=\"product_homepage.hero.click({ cta: \\'For developers\\' })\"\\r\\n           href=\"#for-developers\" data-ga=\"[&quot;home page&quot;,&quot;for developers click&quot;,&quot;hero banner&quot;,null,null]\">\\r\\n            For developers\\r\\n        </a>\\r\\n        <a class=\"grid--cell ml8 sm:ml0 sm:mt8 fc-white d:fc-black-900 bg-orange-400 py12 px24 bar-sm js-scroll-link js-gps-track\"\\r\\n           data-gps-track=\"product_homepage.hero.click({ cta: \\'For businesses\\' })\"\\r\\n           href=\"#for-businesses\" data-ga=\"[&quot;home page&quot;,&quot;for businesses click&quot;,&quot;hero banner&quot;,null,null]\">\\r\\n            For businesses\\r\\n        </a>\\r\\n    </div>\\r\\n</div>\\r\\n\\r\\n<div class=\"py64 ta-center\" id=\"for-developers\">\\r\\n    <h2 class=\"w90 mx-auto p-ff-roboto-slab-bold fs-headline2 mb24\">For developers, by developers</h2>\\r\\n    <div class=\"w64 h8 bar-pill d-block mb24 bg-orange-400 mx-auto mb16\"></div>\\r\\n    <p class=\"ta-center fs-body3 w90 wmx5 mx-auto mb48\">Stack Overflow is an <a href=\"/questions\" class=\"fc-orange-400 js-gps-track\" \\r\\n         data-gps-track=\"product_homepage.for_developers.click({ product: \\'FreeCommunityHeader\\' })\" \\r\\n         data-ga=\"[&quot;home page&quot;,&quot;free community click&quot;,&quot;for developers section&quot;,null,null]\">open community</a> for anyone that codes. We help you get answers to your toughest coding questions, share knowledge with your coworkers in private, and find your next dream job.</p>\\r\\n    <div class=\"grid grid__allcells4 w90 wmx10 mx-auto ai-start md:fd-column md:ai-center\">\\r\\n        <div class=\"grid--cell wmx3 fs-body2 ta-center bs-md bar-lg p32 mt64 md:mt0 md:mb32 h:bs-lg\">\\r\\n            <img class=\"mb16\" src=\"https://cdn.sstatic.net/Img/home/public-qa.svg?v=d82acaa7df9f\">\\r\\n            <h4 class=\"fs-title p-ff-roboto-slab mb16\">Public Q&A</h4>\\r\\n            <p class=\"mb24\">Get answers to more than 16.5 million questions and give back by sharing your knowledge with others. <a href=\"/users/signup\" class=\"fc-orange-400 js-gps-track\" \\r\\n                data-gps-track=\"product_homepage.for_developers.click({ product: \\'PublicQA\\' })\" \\r\\n                 data-ga=\"[&quot;home page&quot;,&quot;public qa - create account click&quot;,&quot;for developers section&quot;,null,null]\">Sign up</a> for an account.</p>\\r\\n            <a class=\"d-inline-block fc-white p-bg-purple d:bg-blue-600 py12 px24 bar-sm js-gps-track\"\\r\\n               data-gps-track=\"product_homepage.for_developers.click({ product: \\'FreeCommunity\\' })\"\\r\\n               href=\"/questions\" data-ga=\"[&quot;home page&quot;,&quot;browse questions click&quot;,&quot;for developers section&quot;,null,null]\">\\r\\n                Browse questions\\r\\n            </a>\\r\\n        </div>\\r\\n        <div class=\"grid--cell wmx3 fs-body2 bs-md bar-lg p32 mr64 ml64 md:mr0 md:ml0 md:mb32 h:bs-lg\">\\r\\n            <img class=\"mb16\" src=\"https://cdn.sstatic.net/Img/home/private-qa.svg?v=2c1de180b6d7\">\\r\\n            <h4 class=\"fs-title p-ff-roboto-slab mb16\">Private Q&A</h4>\\r\\n            <p class=\"mb24\">Level up with Stack Overflow while you work. Share knowledge privately with your coworkers using our flagship Q&amp;A engine.</p>\\r\\n            <a class=\"d-inline-block fc-white bg-orange-400 py12 px24 bar-sm js-gps-track\"\\r\\n               data-gps-track=\"product_homepage.for_developers.click({ product: \\'PrivateQA\\' })\"\\r\\n               href=\"/teams\" data-ga=\"[&quot;home page&quot;,&quot;private qa - learn more click&quot;,&quot;for developers section&quot;,null,null]\">\\r\\n                Try for free\\r\\n            </a>\\r\\n        </div>\\r\\n        <div class=\"grid--cell wmx3 fs-body2 bs-md bar-lg p32 mt64 md:mt0 md:mb32 h:bs-lg\">\\r\\n            <img class=\"mb16\" src=\"https://cdn.sstatic.net/Img/home/jobs.svg?v=931d6c0863ee\">\\r\\n            <h4 class=\"fs-title p-ff-roboto-slab mb16\">Browse jobs</h4>\\r\\n            <p class=\"mb24\">Find the right job through high quality listings and search for roles based on title, technology stack, salary, location, and more.</p>\\r\\n            <a class=\"d-inline-block fc-white p-bg-purple d:bg-blue-600 py12 px24 bar-sm js-gps-track\"\\r\\n               data-gps-track=\"product_homepage.for_developers.click({ product: \\'Jobs\\' })\"\\r\\n               href=\"/jobs\" data-ga=\"[&quot;home page&quot;,&quot;browse jobs click&quot;,&quot;for developers section&quot;,null,null]\">\\r\\n                Find a job\\r\\n            </a>\\r\\n        </div>\\r\\n    </div>\\r\\n</div>\\r\\n\\r\\n<div class=\"py128 p-bg-purple-light d:bg-black-025 fs-body3\" id=\"for-businesses\">\\r\\n    <h2 class=\"mx-auto w90 ta-center p-ff-roboto-slab-bold fs-headline2 mb24\">For businesses, by developers</h2>\\r\\n    <div class=\"w64 h8 bar-pill d-block mb24 bg-orange-400 mx-auto mb16\"></div>\\r\\n    <p class=\"ta-center mb64 fs-body3 w90 wmx6 mx-auto\">Our mission is to help developers write the script of the future. This means helping you find and hire skilled developers for your business and providing them the tools they need to share knowledge and work effectively.</p>\\r\\n    <div class=\"grid grid__allcells4 mx-auto w90 wmx12 md:fd-column md:ai-center\">\\r\\n        <div class=\"grid grid__center wmx4 bg-white bar-lg bs-md p32 md:mb32 lg:fd-column md:fd-row\">\\r\\n            <div class=\"grid--cell mr16 lg:mb16 md:mb0\">\\r\\n                <img class=\"d-block\" src=\"https://cdn.sstatic.net/Img/home/private-questions.svg?v=a4f1cfb08f7e\" width=\"76\">\\r\\n            </div>\\r\\n            <p class=\"grid--cell mb0 wmx2\">\\r\\n                Quickly find and share internal knowledge with\\r\\n                <a href=\"/teams\"\\r\\n                   class=\"fc-orange-400 js-gps-track\"\\r\\n                   data-gps-track=\"product_homepage.for_business.click({ product: \\'PrivateQA\\', cta: \\'Private Q&amp;A\\' })\"\\r\\n                   data-ga=\"[&quot;home page&quot;,&quot;private qa link click&quot;,&quot;for businesses section&quot;,null,null]\">\\r\\n                    Private Q&amp;A\\r\\n                </a>\\r\\n            </p>\\r\\n        </div>\\r\\n        <div class=\"grid grid__center wmx4 bg-white bar-lg bs-md p32 ml48 mr48 md:ml0 md:mr0 md:mb32 lg:fd-column md:fd-row\">\\r\\n            <div class=\"grid--cell mr16 lg:mb16 md:mb0\">\\r\\n                <img class=\"d-block\" src=\"https://cdn.sstatic.net/Img/home/find-candidate.svg?v=9099aa106ad3\" width=\"76\">\\r\\n            </div>\\r\\n            <p class=\"grid--cell mb0 wmx2\">\\r\\n                Find the perfect candidate for your growing technical team with\\r\\n                <a href=\"https://stackoverflow.com/talent\"\\r\\n                   class=\"fc-orange-400 js-gps-track\"\\r\\n                   data-gps-track=\"product_homepage.for_business.click({ product: \\'Talent\\', cta: \\'Talent solutions\\' })\"\\r\\n                   data-ga=\"[&quot;home page&quot;,&quot;talent link click&quot;,&quot;for businesses section&quot;,null,null]\">\\r\\n                    Talent solutions\\r\\n                </a>\\r\\n            </p>\\r\\n        </div>\\r\\n        <div class=\"grid grid__center wmx4 bg-white bar-lg bs-md p32 lg:fd-column md:fd-row\">\\r\\n            <div class=\"grid--cell mr16 lg:mb16 md:mb0\">\\r\\n                <img class=\"d-block\" src=\"https://cdn.sstatic.net/Img/home/accelerate.svg?v=9d4c2786ff02\" width=\"76\">\\r\\n            </div>\\r\\n            <p class=\"grid--cell mb0 wmx2\">\\r\\n                Accelerate the discovery of your products or services through our\\r\\n                <a href=\"https://stackoverflow.com/advertising\"\\r\\n                   class=\"fc-orange-400 js-gps-track\"\\r\\n                   data-gps-track=\"product_homepage.for_business.click({ product: \\'Advertising\\', cta: \\'Advertising platform\\' })\"\\r\\n                   data-ga=\"[&quot;home page&quot;,&quot;advertising link click&quot;,&quot;for businesses section&quot;,null,null]\">\\r\\n                    Advertising platform\\r\\n                </a>\\r\\n            </p>\\r\\n        </div>\\r\\n    </div>\\r\\n</div>\\r\\n\\r\\n<div class=\"py128 px32 p-bg-purple d:bg-white\">\\r\\n    <h2 class=\"w90 wmx5 mx-auto fc-white d:fc-black-900 ta-center p-ff-roboto-slab-bold fs-headline2 mb24\">Unlock siloed knowledge with Stack Overflow for Teams</h2>\\r\\n    <div class=\"p-divider mb32\"></div>\\r\\n    <p class=\"mb24 w90 mx-auto wmx4 ta-center fc-white fs-body3 d:fc-black-900\">Wikis, chat messages, or formal documentation for knowledge management aren\\xe2\\x80\\x99t effective. Our question and answer format is a proven approach for accessing the right information in less time.</p>\\r\\n    <p class=\"ta-center mb24 md:mb48\">\\r\\n        <a class=\"fs-body2 d-inline-block fc-white bg-orange-400 py12 px24 bar-sm js-gps-track\"\\r\\n           data-gps-track=\"product_homepage.for_business.click({ product: \\'PrivateQA\\', cta: \\'Learn more\\' })\"\\r\\n           href=\"/teams\" data-ga=\"[&quot;home page&quot;,&quot;teams - learn more click&quot;,&quot;for businesses section&quot;,null,null]\">\\r\\n            Learn more\\r\\n        </a>\\r\\n    </p>\\r\\n    \\r\\n    <div class=\"mx-auto wmx12\">\\r\\n        \\r\\n<div class=\"grid grid__allcells4 md:fd-column md:ai-center\">\\r\\n    <div class=\"grid fd-column jc-end mr48 lg:mr32 md:mr0 wmx4 md:mb48 w100\">\\r\\n        <div class=\"grid--cell bar-lg bg-white ba bc-black-1\">\\r\\n            <div class=\"ta-center bb bc-black-1 p16\">\\r\\n                <h4 class=\"p-ff-roboto-slab-bold fs-title mb8 p-fc-purple d:fc-black-900\">Basic</h4>\\r\\n                <p class=\"mb0 fs-body2\">Private knowledge base for teams</p>\\r\\n            </div>\\r\\n            <div class=\"p24\">\\r\\n                    <div class=\"grid ai-center mb16\">\\r\\n                        <div class=\"grid--cell p-ff-roboto-slab-bold fs-headline2 mr8\">\\r\\n                            $5\\r\\n                        </div>\\r\\n                        <div class=\"grid--cell fs-body1\">\\r\\n                            <p class=\"m0\">per teammate / month</p>\\r\\n                            <p class=\"m0\">billed annually</p>\\r\\n                        </div>\\r\\n                    </div>\\r\\n                \\r\\n                <ul class=\"list-reset list-ls-none fs-body2 mb24\">\\r\\n    <li class=\"grid mb12\">\\r\\n        <div class=\"grid--cell mr6\">\\r\\n            <svg aria-hidden=\"true\" class=\"svg-icon fc-orange-400 va-text-bottom iconCheckmark\" width=\"18\" height=\"18\" viewBox=\"0 0 18 18\"><path d=\"M16 4.41L14.59 3 6 11.59 2.41 8 1 9.41l5 5 10-10z\"/></svg>\\r\\n        </div>\\r\\n        <div class=\"grid--cell\">\\r\\n            Free until June 30\\r\\n        </div>\\r\\n    </li>\\r\\n                        <li class=\"grid mb12\">\\r\\n        <div class=\"grid--cell mr6\">\\r\\n            <svg aria-hidden=\"true\" class=\"svg-icon fc-orange-400 va-text-bottom iconCheckmark\" width=\"18\" height=\"18\" viewBox=\"0 0 18 18\"><path d=\"M16 4.41L14.59 3 6 11.59 2.41 8 1 9.41l5 5 10-10z\"/></svg>\\r\\n        </div>\\r\\n        <div class=\"grid--cell\">\\r\\n            Your own private space hosted on stackoverflow.com\\r\\n        </div>\\r\\n    </li>\\r\\n\\r\\n                        <li class=\"grid mb12\">\\r\\n        <div class=\"grid--cell mr6\">\\r\\n            <svg aria-hidden=\"true\" class=\"svg-icon fc-orange-400 va-text-bottom iconCheckmark\" width=\"18\" height=\"18\" viewBox=\"0 0 18 18\"><path d=\"M16 4.41L14.59 3 6 11.59 2.41 8 1 9.41l5 5 10-10z\"/></svg>\\r\\n        </div>\\r\\n        <div class=\"grid--cell\">\\r\\n            Fully searchable archive\\r\\n        </div>\\r\\n    </li>\\r\\n\\r\\n                </ul>\\r\\n\\r\\n                    <a href=\"/teams/create\" class=\"s-btn d-block fs-body2 px32 bar-md bg-black-050 h:bg-black-100 fc-powder-900 p-ff-source-bold\" data-ga=\"[&quot;teams landing&quot;,&quot;plans menu click&quot;,&quot;Get started for free&quot;,null,null]\">Get started for free</a>\\r\\n\\r\\n            </div>\\r\\n        </div>\\r\\n    </div>\\r\\n    <div class=\"grid fd-column jc-end mr48 lg:mr32 md:mr0 md:mb64 wmx4\">\\r\\n        <div class=\"grid--cell bar-lg bg-white ba bc-black-1\">\\r\\n            <div class=\"ta-center bb bc-black-1 p16\">\\r\\n                <h4 class=\"p-ff-roboto-slab-bold fs-title mb8 p-fc-purple d:fc-black-900\">Business</h4>\\r\\n                <p class=\"mb0 fs-body2\">Private knowledge base with SSO and premium features</p>\\r\\n            </div>\\r\\n            <div class=\"p24\">\\r\\n                <div class=\"grid ai-center mb16\">\\r\\n                    <div class=\"grid--cell p-ff-roboto-slab-bold fs-headline2 mr8\">\\r\\n                        $12\\r\\n                    </div>\\r\\n                    <div class=\"grid--cell fs-body1\">\\r\\n                        <p class=\"m0\">per teammate / month</p>\\r\\n                        <p class=\"m0\">billed annually</p>\\r\\n                    </div>\\r\\n                </div>\\r\\n                <ul class=\"list-reset list-ls-none fs-body2 mb24\">\\r\\n                        <li class=\"grid mb12\">\\r\\n        <div class=\"grid--cell mr6\">\\r\\n            <svg aria-hidden=\"true\" class=\"svg-icon fc-orange-400 va-text-bottom iconCheckmark\" width=\"18\" height=\"18\" viewBox=\"0 0 18 18\"><path d=\"M16 4.41L14.59 3 6 11.59 2.41 8 1 9.41l5 5 10-10z\"/></svg>\\r\\n        </div>\\r\\n        <div class=\"grid--cell\">\\r\\n            All the features of Basic\\r\\n        </div>\\r\\n    </li>\\r\\n\\r\\n                        <li class=\"grid mb12\">\\r\\n        <div class=\"grid--cell mr6\">\\r\\n            <svg aria-hidden=\"true\" class=\"svg-icon fc-orange-400 va-text-bottom iconCheckmark\" width=\"18\" height=\"18\" viewBox=\"0 0 18 18\"><path d=\"M16 4.41L14.59 3 6 11.59 2.41 8 1 9.41l5 5 10-10z\"/></svg>\\r\\n        </div>\\r\\n        <div class=\"grid--cell\">\\r\\n            Single sign-on (SSO) with SAML\\r\\n        </div>\\r\\n    </li>\\r\\n\\r\\n                        <li class=\"grid mb12\">\\r\\n        <div class=\"grid--cell mr6\">\\r\\n            <svg aria-hidden=\"true\" class=\"svg-icon fc-orange-400 va-text-bottom iconCheckmark\" width=\"18\" height=\"18\" viewBox=\"0 0 18 18\"><path d=\"M16 4.41L14.59 3 6 11.59 2.41 8 1 9.41l5 5 10-10z\"/></svg>\\r\\n        </div>\\r\\n        <div class=\"grid--cell\">\\r\\n            Reporting and analytics\\r\\n        </div>\\r\\n    </li>\\r\\n\\r\\n                        <li class=\"grid mb12\">\\r\\n        <div class=\"grid--cell mr6\">\\r\\n            <svg aria-hidden=\"true\" class=\"svg-icon fc-orange-400 va-text-bottom iconCheckmark\" width=\"18\" height=\"18\" viewBox=\"0 0 18 18\"><path d=\"M16 4.41L14.59 3 6 11.59 2.41 8 1 9.41l5 5 10-10z\"/></svg>\\r\\n        </div>\\r\\n        <div class=\"grid--cell\">\\r\\n            Priority customer support\\r\\n        </div>\\r\\n    </li>\\r\\n\\r\\n                        <li class=\"grid mb12\">\\r\\n        <div class=\"grid--cell mr6\">\\r\\n            <svg aria-hidden=\"true\" class=\"svg-icon fc-orange-400 va-text-bottom iconCheckmark\" width=\"18\" height=\"18\" viewBox=\"0 0 18 18\"><path d=\"M16 4.41L14.59 3 6 11.59 2.41 8 1 9.41l5 5 10-10z\"/></svg>\\r\\n        </div>\\r\\n        <div class=\"grid--cell\">\\r\\n            99.5% uptime\\r\\n        </div>\\r\\n    </li>\\r\\n\\r\\n                </ul>\\r\\n \\r\\n                    <a href=\"/business/get-started\" class=\"s-btn d-block fs-body2 px32 bar-md bg-black-050 h:bg-black-100 fc-powder-900 p-ff-source-bold\" data-ga=\"[&quot;teams landing&quot;,&quot;plans menu click&quot;,&quot;Request a demo&quot;,null,null]\">Request a demo</a>\\r\\n\\r\\n            </div>\\r\\n        </div>\\r\\n    </div>\\r\\n    <div class=\"grid fd-column jc-end wmx4\">\\r\\n        <div class=\"grid--cell bar-lg p-bg-purple fc-white d:bg-black-900 ba bc-black-1\">\\r\\n            <div class=\"grid--cell ta-center bb bc-white-2 p16\">\\r\\n                <h4 class=\"p-ff-roboto-slab-bold fs-title mb8\">Enterprise</h4>\\r\\n                <p class=\"mb0 fs-body2 wmx3 mx-auto\">Standalone knowledge base with enhanced security and flexible hosting</p>\\r\\n            </div>\\r\\n            <div class=\"p24\">\\r\\n                <div class=\"mb16 p-ff-roboto-slab-bold fs-title\">\\r\\n                    Custom pricing\\r\\n                </div>\\r\\n                \\r\\n                <ul class=\"list-reset list-ls-none fs-body2 mb24 wmx3\">\\r\\n                        <li class=\"grid mb12\">\\r\\n        <div class=\"grid--cell mr6\">\\r\\n            <svg aria-hidden=\"true\" class=\"svg-icon fc-orange-400 va-text-bottom iconCheckmark\" width=\"18\" height=\"18\" viewBox=\"0 0 18 18\"><path d=\"M16 4.41L14.59 3 6 11.59 2.41 8 1 9.41l5 5 10-10z\"/></svg>\\r\\n        </div>\\r\\n        <div class=\"grid--cell\">\\r\\n            Host on your cloud or servers &#x2013; or our private managed cloud\\r\\n        </div>\\r\\n    </li>\\r\\n\\r\\n                        <li class=\"grid mb12\">\\r\\n        <div class=\"grid--cell mr6\">\\r\\n            <svg aria-hidden=\"true\" class=\"svg-icon fc-orange-400 va-text-bottom iconCheckmark\" width=\"18\" height=\"18\" viewBox=\"0 0 18 18\"><path d=\"M16 4.41L14.59 3 6 11.59 2.41 8 1 9.41l5 5 10-10z\"/></svg>\\r\\n        </div>\\r\\n        <div class=\"grid--cell\">\\r\\n            Single sign-on with AD or SAML\\r\\n        </div>\\r\\n    </li>\\r\\n\\r\\n                        <li class=\"grid mb12\">\\r\\n        <div class=\"grid--cell mr6\">\\r\\n            <svg aria-hidden=\"true\" class=\"svg-icon fc-orange-400 va-text-bottom iconCheckmark\" width=\"18\" height=\"18\" viewBox=\"0 0 18 18\"><path d=\"M16 4.41L14.59 3 6 11.59 2.41 8 1 9.41l5 5 10-10z\"/></svg>\\r\\n        </div>\\r\\n        <div class=\"grid--cell\">\\r\\n            Robust read and write API\\r\\n        </div>\\r\\n    </li>\\r\\n\\r\\n                        <li class=\"grid mb12\">\\r\\n        <div class=\"grid--cell mr6\">\\r\\n            <svg aria-hidden=\"true\" class=\"svg-icon fc-orange-400 va-text-bottom iconCheckmark\" width=\"18\" height=\"18\" viewBox=\"0 0 18 18\"><path d=\"M16 4.41L14.59 3 6 11.59 2.41 8 1 9.41l5 5 10-10z\"/></svg>\\r\\n        </div>\\r\\n        <div class=\"grid--cell\">\\r\\n            Your own customer success and community building representative\\r\\n        </div>\\r\\n    </li>\\r\\n\\r\\n                        <li class=\"grid mb12\">\\r\\n        <div class=\"grid--cell mr6\">\\r\\n            <svg aria-hidden=\"true\" class=\"svg-icon fc-orange-400 va-text-bottom iconCheckmark\" width=\"18\" height=\"18\" viewBox=\"0 0 18 18\"><path d=\"M16 4.41L14.59 3 6 11.59 2.41 8 1 9.41l5 5 10-10z\"/></svg>\\r\\n        </div>\\r\\n        <div class=\"grid--cell\">\\r\\n            99.5% uptime SLA and priority support\\r\\n        </div>\\r\\n    </li>\\r\\n\\r\\n                </ul>\\r\\n\\r\\n                    <a href=\"/enterprise/get-started\" class=\"s-btn d-block fs-body2 px32 bar-md p-bg-yellow d:fc-white h:p-bg-yellow-tint fc-black-900 bs-sm p-ff-source-bold\" data-ga=\"[&quot;teams landing&quot;,&quot;plans menu click&quot;,&quot;Request a demo&quot;,null,null]\">Request a demo</a>\\r\\n\\r\\n            </div>\\r\\n        </div>\\r\\n    </div>\\r\\n</div>\\r\\n    </div>\\r\\n\\r\\n    <div class=\"ta-center p-ff-roboto-slab fs-body2 mt48\">\\r\\n        <a target=\"_blank\" and rel=\"noopener noreferrer\" href=\"https://www.g2.com/products/stack-overflow-for-teams/\" class=\"d-inline-block mx24 my12 fc-black-200 h:fc-white d:fc-black-900\">\\r\\n            <img class=\"d-inline-block va-middle mr8\" src=\"https://cdn.sstatic.net/Img/teams/endorsements/g2.svg?v=670bf9279910\" height=\"26\" alt=\"G2\">\\r\\n            <strong class=\"p-ff-roboto-slab-bold\">Leader</strong> Fall 2019\\r\\n        </a>\\r\\n\\r\\n        <a target=\"_blank\" and rel=\"noopener noreferrer\" href=\"https://www.g2.com/products/stack-overflow-for-teams/\" class=\"d-inline-block mx24 my12 fc-black-200 h:fc-white d:fc-black-900\">\\r\\n            <img class=\"d-inline-block va-middle mr8\" src=\"https://cdn.sstatic.net/Img/teams/endorsements/g2.svg?v=670bf9279910\" height=\"26\" alt=\"G2\">\\r\\n            <strong class=\"p-ff-roboto-slab-bold\">Users Love Us</strong>\\r\\n        </a>\\r\\n\\r\\n        <a target=\"_blank\" and rel=\"noopener noreferrer\" href=\"https://www.fastcompany.com/most-innovative-companies/2019/sectors/enterprise\" class=\"d-inline-block mx24 my12 fc-black-200 h:fc-white d:fc-black-900\">\\r\\n            <img class=\"d-inline-block va-middle mr8\" src=\"https://cdn.sstatic.net/Img/teams/endorsements/fastco.svg?v=5ebc802a76c7\" height=\"21\" alt=\"Fast Company\">\\r\\n            <strong class=\"p-ff-roboto-slab-bold\">Most Innovative Companies</strong> 2019\\r\\n        </a>\\r\\n    </div>\\r\\n</div>\\r\\n\\r\\n<div class=\"p-bg-purple-light d:bg-black-025 py128\">\\r\\n    <div class=\"grid grid__allcells6 w90 wmx10 mx-auto sm:fd-column\">\\r\\n        <div class=\"grid fd-column mr64 sm:mr0 sm:mb64\">\\r\\n            <div class=\"grid--cell\">\\r\\n                <img class=\"d-block mb6\" src=\"https://cdn.sstatic.net/Img/home/find-candidate.svg?v=9099aa106ad3\" width=\"76\">\\r\\n            </div>\\r\\n            <h4 class=\"grid--cell p-ff-roboto-slab-bold fs-headline1 mb12\">Hire your technical talent</h4>\\r\\n            <p class=\"grid--cell fs-body2 mb24\">We help expand your technical hiring strategy to promote your employer brand and highlight relevant open roles to our community of 50 million monthly visitors.</p>\\r\\n            <div class=\"grid--cell mt-auto\">\\r\\n                <a class=\"fs-body2 d-inline-block fc-white bg-orange-400 py12 px24 bar-sm js-gps-track\"\\r\\n                   data-gps-track=\"product_homepage.for_business.click({ product: \\'Talent\\', cta: \\'Stack Overflow Talent\\' })\"\\r\\n                   href=\"https://stackoverflow.com/talent\" \\r\\n                   data-ga=\"[&quot;home page&quot;,&quot;talent click&quot;,&quot;for businesses section&quot;,null,null]\">\\r\\n                    Stack Overflow Talent\\r\\n                </a>\\r\\n            </div>\\r\\n        </div>\\r\\n        <div class=\"grid fd-column\">\\r\\n            <div class=\"grid--cell\">\\r\\n                <img class=\"d-block mb6\" src=\"https://cdn.sstatic.net/Img/home/accelerate.svg?v=9d4c2786ff02\" width=\"76\">\\r\\n            </div>\\r\\n            <h4 class=\"grid--cell p-ff-roboto-slab-bold fs-headline1 mb12\">Reach developers worldwide</h4>\\r\\n            <p class=\"grid--cell fs-body2 mb24\">Use the world\\xe2\\x80\\x99s largest resource for people who code to help you increase awareness and showcase your product or service across Stack Overflow\\xe2\\x80\\x99s network of Q&amp;A sites.</p>\\r\\n            <div class=\"grid--cell mt-auto\">\\r\\n                <a class=\"fs-body2 d-inline-block fc-white bg-orange-400 py12 px24 bar-sm js-gps-track\"\\r\\n                   data-gps-track=\"product_homepage.for_business.click({ product: \\'PrivateQA\\', cta: \\'Stack Overflow Advertising\\' })\"\\r\\n                   href=\"https://stackoverflow.com/advertising\"\\r\\n                   data-ga=\"[&quot;home page&quot;,&quot;advertising click&quot;,&quot;for businesses section&quot;,null,null]\">\\r\\n                    Stack Overflow Advertising\\r\\n                </a>\\r\\n            </div>\\r\\n        </div>\\r\\n    </div>\\r\\n</div>\\r\\n\\r\\n<div class=\"py64\">\\r\\n    <h3 class=\"w90 mx-auto ta-center p-ff-roboto-slab-bold fs-headline2 mb24\">Questions are everywhere, answers are on Stack Overflow</h3>\\r\\n    <div class=\"p-divider mb32\"></div>\\r\\n    <div class=\"w90 wmx10 mx-auto\">\\r\\n        <div id=\"tour\" class=\"grid ai-start md:ai-center md:fd-column md:ta-center\">\\r\\n            <div class=\"tour--controls grid fd-column md:fd-row md:w100 grid--cell3 mt48 md:mt0\">\\r\\n                <label class=\"grid ai-center md:fd-column p12 md:w33 ps-relative fs-body3 p-ff-source c-pointer h:bs-md bar-md ba bc-transparent us-none\">\\r\\n                    <input class=\"d-none js-tour-area js-gps-track\" type=\"radio\" name=\"tour-area\"\\r\\n                           data-gps-track=\"product_homepage.tour.click({ action: \\'Ask\\' })\"\\r\\n                           data-controller=\"s-expandable-control\"\\r\\n                           aria-label=\"Learn more\"\\r\\n                           aria-controls=\"tour-ask\"\\r\\n                           aria-expanded=\"true\"\\r\\n                           data-ga=\"[&quot;home page&quot;,&quot;ask a question carousel click&quot;,&quot;how it works section&quot;,null,null]\"\\r\\n                           checked />\\r\\n                    <div class=\"grid--cell mr8 md:mr0 md:mb8\">\\r\\n                        <img src=\"https://cdn.sstatic.net/Img/home/ask-a-question.svg?v=f4f2050b0297\" class=\"d-block\" width=\"46\">\\r\\n                    </div>\\r\\n                    <span class=\"grid--cell\">Ask a question</span>\\r\\n                    <div class=\"tour--arrow md:d-none\"></div>\\r\\n                </label>\\r\\n                <label class=\"grid ai-center md:fd-column p12 md:w33 ps-relative fs-body3 p-ff-source c-pointer h:bs-md bar-md ba bc-transparent us-none\">\\r\\n                    <input class=\"d-none js-tour-area js-gps-track\" type=\"radio\" name=\"tour-area\"\\r\\n                           data-gps-track=\"product_homepage.tour.click({ action: \\'Vote\\' })\"\\r\\n                           data-controller=\"s-expandable-control\"\\r\\n                           aria-label=\"Learn more\"\\r\\n                           aria-controls=\"tour-vote\"\\r\\n                           aria-expanded=\"false\" \\r\\n                           data-ga=\"[&quot;home page&quot;,&quot;vote on everything carousel click&quot;,&quot;how it works section&quot;,null,null]\"/>\\r\\n                    <div class=\"grid--cell mr8 md:mr0 md:mb8\">\\r\\n                        <img src=\"https://cdn.sstatic.net/Img/home/votes.svg?v=748a8f48a8e2\" class=\"d-block\" width=\"46\">\\r\\n                    </div>\\r\\n                    <span class=\"grid--cell\">Vote on everything</span>\\r\\n                    <div class=\"tour--arrow md:d-none\"></div>\\r\\n                </label>\\r\\n                <label class=\"grid ai-center md:fd-column p12 md:w33 ps-relative fs-body3 p-ff-source c-pointer h:bs-md bar-md ba bc-transparent us-none\">\\r\\n                    <input class=\"d-none js-tour-area js-gps-track\" type=\"radio\" name=\"tour-area\"\\r\\n                           data-gps-track=\"product_homepage.tour.click({ action: \\'Answer\\' })\"\\r\\n                           data-controller=\"s-expandable-control\"\\r\\n                           aria-label=\"Learn more\"\\r\\n                           aria-controls=\"tour-answer\"\\r\\n                           aria-expanded=\"false\" \\r\\n                           data-ga=\"[&quot;home page&quot;,&quot;answer questions carousel click&quot;,&quot;how it works section&quot;,null,null]\" />\\r\\n                    <div class=\"grid--cell mr8 md:mr0 md:mb8\">\\r\\n                        <img src=\"https://cdn.sstatic.net/Img/home/answer.svg?v=4cd8048a676c\" class=\"d-block\" width=\"46\">\\r\\n                    </div>\\r\\n                    <span class=\"grid--cell\">Answer questions</span>\\r\\n                    <div class=\"tour--arrow md:d-none\"></div>\\r\\n                </label>\\r\\n            </div>\\r\\n            <div class=\"tour--controls tour--controls__right grid fd-column md:fd-row md:w100 grid--cell3 mt48 md:mt0 order-last\">\\r\\n                <label class=\"grid ai-center md:fd-column p12 md:w33 ps-relative fs-body3 p-ff-source c-pointer h:bs-md bar-md ba bc-transparent us-none\">\\r\\n                    <input class=\"d-none js-tour-area js-gps-track\" type=\"radio\" name=\"tour-area\"\\r\\n                           data-gps-track=\"product_homepage.tour.click({ action: \\'TagQuestion\\' })\"\\r\\n                           data-controller=\"s-expandable-control\"\\r\\n                           aria-label=\"Learn more\"\\r\\n                           aria-controls=\"tour-tag\"\\r\\n                           aria-expanded=\"false\" \\r\\n                           data-ga=\"[&quot;home page&quot;,&quot;tag your question carousel click&quot;,&quot;how it works section&quot;,null,null]\" />\\r\\n                    <div class=\"grid--cell mr8 md:mr0 md:mb8\">\\r\\n                        <img src=\"https://cdn.sstatic.net/Img/home/tags.svg?v=913379eb09eb\" class=\"d-block\" width=\"46\">\\r\\n                    </div>\\r\\n                    <span class=\"grid--cell\">Tag your question</span>\\r\\n                    <div class=\"tour--arrow md:d-none\"></div>\\r\\n                </label>\\r\\n                <label class=\"grid ai-center md:fd-column p12 md:w33 ps-relative fs-body3 p-ff-source c-pointer h:bs-md bar-md ba bc-transparent us-none\">\\r\\n                    <input class=\"d-none js-tour-area js-gps-track\" type=\"radio\" name=\"tour-area\"\\r\\n                           data-gps-track=\"product_homepage.tour.click({ action: \\'AcceptAnswer\\' })\"\\r\\n                           data-controller=\"s-expandable-control\"\\r\\n                           aria-label=\"Learn more\"\\r\\n                           aria-controls=\"tour-accept\"\\r\\n                           aria-expanded=\"false\" \\r\\n                           data-ga=\"[&quot;home page&quot;,&quot;accept an answer carousel click&quot;,&quot;how it works section&quot;,null,null]\" />\\r\\n                    <div class=\"grid--cell mr8 md:mr0 md:mb8\">\\r\\n                        <img src=\"https://cdn.sstatic.net/Img/home/accept.svg?v=27d5be078970\" class=\"d-block\" width=\"46\">\\r\\n                    </div>\\r\\n                    <span class=\"grid--cell\">Accept an answer</span>\\r\\n                    <div class=\"tour--arrow md:d-none\"></div>\\r\\n                </label>\\r\\n                <label class=\"grid ai-center md:fd-column p12 md:w33 ps-relative fs-body3 p-ff-source c-pointer h:bs-md bar-md ba bc-transparent us-none\">\\r\\n                    <input class=\"d-none js-tour-area js-gps-track\" type=\"radio\" name=\"tour-area\"\\r\\n                           data-gps-track=\"product_homepage.tour.click({ action: \\'Badges\\' })\"\\r\\n                           data-controller=\"s-expandable-control\"\\r\\n                           aria-label=\"Learn more\"\\r\\n                           aria-controls=\"tour-recognized\"\\r\\n                           aria-expanded=\"false\" \\r\\n                           data-ga=\"[&quot;home page&quot;,&quot;get recognized carousel click&quot;,&quot;how it works section&quot;,null,null]\" />\\r\\n                    <div class=\"grid--cell mr8 md:mr0 md:mb8\">\\r\\n                        <img src=\"https://cdn.sstatic.net/Img/home/get-recognized.svg?v=3b339d9aa10c\" class=\"d-block\" width=\"46\">\\r\\n                    </div>\\r\\n                    <span class=\"grid--cell\">Get recognized</span>\\r\\n                    <div class=\"tour--arrow md:d-none\"></div>\\r\\n                </label>\\r\\n            </div>\\r\\n\\r\\n            <div class=\"grid--cell6 ta-center m24 md:ml0 md:mr0 md:order-last\">\\r\\n                <div class=\"tour--item wmx5 s-expandable\" id=\"tour-ask\">\\r\\n                    <img width=\"500\" src=\"https://cdn.sstatic.net/Img/home/illo-feats-ask.svg?v=b6cd07f0765a\" class=\"d-block wmx100\">\\r\\n                    <h4 class=\"mt24 p-ff-roboto-slab fs-title\">\\r\\n                        Ask a question publicly on 170+ Stack Exchange sites or privately using Stack Overflow for Teams.\\r\\n                    </h4>\\r\\n                </div>\\r\\n                <div class=\"tour--item wmx5 s-expandable\" id=\"tour-vote\">\\r\\n                    <img width=\"500\" src=\"https://cdn.sstatic.net/Img/home/illo-feats-vote.svg?v=9d2eb0efdc17\" class=\"d-block wmx100\">\\r\\n                    <h4 class=\"mt24 p-ff-roboto-slab fs-title\">\\r\\n                        Upvoting helps exceptional content rise to the top and bring awareness to useful responses.\\r\\n                    </h4>\\r\\n                </div>\\r\\n                <div class=\"tour--item wmx5 s-expandable\" id=\"tour-answer\">\\r\\n                    <img width=\"500\" src=\"https://cdn.sstatic.net/Img/home/illo-feats-answer.svg?v=b637b99bc32a\" class=\"d-block wmx100\">\\r\\n                    <h4 class=\"mt24 p-ff-roboto-slab fs-title\">\\r\\n                        Answer a question to share your knowledge with the world or in private with your team.\\r\\n                    </h4>\\r\\n                </div>\\r\\n                <div class=\"tour--item wmx5 s-expandable\" id=\"tour-tag\">\\r\\n                    <img width=\"500\" src=\"https://cdn.sstatic.net/Img/home/illo-feats-tags.svg?v=0655cbe6bffa\" class=\"d-block wmx100\">\\r\\n                    <h4 class=\"mt24 p-ff-roboto-slab fs-title\">\\r\\n                        Tags help make information searchable and find answers that are important to you.\\r\\n                    </h4>\\r\\n                </div>\\r\\n                <div class=\"tour--item wmx5 s-expandable\" id=\"tour-accept\">\\r\\n                    <img width=\"500\" src=\"https://cdn.sstatic.net/Img/home/illo-feats-accept.svg?v=f2be4b8dfdac\" class=\"d-block wmx100\">\\r\\n                    <h4 class=\"mt24 p-ff-roboto-slab fs-title\">\\r\\n                        Accept the answer which solved your problem to let others benefit from the valuable information.\\r\\n                    </h4>\\r\\n                </div>\\r\\n                <div class=\"tour--item wmx5 s-expandable\" id=\"tour-recognized\">\\r\\n                    <img width=\"500\" src=\"https://cdn.sstatic.net/Img/home/illo-feats-recognize.svg?v=4f011d7173e8\" class=\"d-block wmx100\">\\r\\n                    <h4 class=\"mt24 p-ff-roboto-slab fs-title\">\\r\\n                        Our reputation system rewards both the new & experienced based on contribution and activity.\\r\\n                    </h4>\\r\\n                </div>\\r\\n\\r\\n                <a class=\"mt24 fs-body2 d-inline-block fc-white bg-orange-400 py12 px24 bar-sm js-gps-track\"\\r\\n                   data-gps-track=\"product_homepage.tour.click({ action: \\'CreateAccount\\' })\"\\r\\n                   href=\"/users/signup\" \\r\\n                   data-ga=\"[&quot;home page&quot;,&quot;create an account click&quot;,&quot;how it works section&quot;,null,null]\">Create an account</a>\\r\\n            </div>\\r\\n        </div>\\r\\n    </div>\\r\\n</div>\\r\\n\\r\\n<div class=\"py128 fs-body2\">\\r\\n    <h3 class=\"w90 mx-auto ta-center p-ff-roboto-slab-bold fs-headline2 mb24\">Learn and grow with Stack Overflow</h3>\\r\\n    <div class=\"p-divider mb64\"></div>\\r\\n    <div class=\"mx-auto w90 wmx12 grid grid__allcells6 md:fd-column\">\\r\\n        <div class=\"grid grid__allcells6 mr32 md:mr0 md:mb64 md:jc-center sm:fd-column sm:ai-center sm:mb48\">\\r\\n            <div class=\"grid--cell wmx3 mr32 md:mr48 md:ta-center md:pl24 md:pr24 sm:mr0 sm:mb48 sm:pl0 sm:pr0\">\\r\\n                <img class=\"mb16 wmx100\" width=\"175\" height=151\" src=\"https://cdn.sstatic.net/Img/home/developer.svg?v=b930de7967a7\">\\r\\n                <h4 class=\"p-ff-roboto-slab-bold fs-subheading mb16\">Write the script of the future</h4>\\r\\n                <p>\\r\\n                    Get your coding questions answered to learn, build, and level up whether you\\xe2\\x80\\x99re beginning with\\r\\n                    <a href=\"questions/tagged/javascript\" class=\"js-gps-track\" data-gps-track=\"product_homepage.learn_and_grow.click({ link: \\'Javascript\\' })\"\\r\\n                       data-ga=\"[&quot;home page&quot;,&quot;javascript click&quot;,&quot;learn and grow section&quot;,null,null]\">JavaScript</a> or a\\r\\n                    <a href=\"questions/tagged/react\" class=\"js-gps-track\" data-gps-track=\"product_homepage.learn_and_grow.click({ link: \\'React\\' })\"\\r\\n                       data-ga=\"[&quot;home page&quot;,&quot;react click&quot;,&quot;learn and grow section&quot;,null,null]\">React</a> professional.\\r\\n                </p>\\r\\n            </div>\\r\\n            <div class=\"grid--cell wmx3 md:ta-center md:pl24 md:pr24 sm:pl0 sm:pr0\">\\r\\n                <img class=\"mb16 wmx100\" width=\"169\" height=\"151\" src=\"https://cdn.sstatic.net/Img/home/open-source.svg?v=847b604fd2ab\">\\r\\n                <h4 class=\"p-ff-roboto-slab-bold fs-subheading mb16\">Support open source</h4>\\r\\n                <p>Reach users of your project by following tags, answering newcomer questions, and empowering experts in the community. \\r\\n                <a href=\"https://stackoverflow.com/questions/55884514/what-is-the-incentive-for-curl-to-release-the-library-for-free/55885729#55885729\" \\r\\n                    class=\"js-gps-track\" data-gps-track=\"product_homepage.learn_and_grow.click({ link: \\'Curl\\' })\"\\r\\n                    data-ga=\"[&quot;home page&quot;,&quot;curl story click&quot;,&quot;learn and grow section&quot;,null,null]\">Read the curl project creator\\xe2\\x80\\x99s story</a>.</p>\\r\\n            </div>\\r\\n        </div>\\r\\n        <div class=\"grid grid__allcells6 md:jc-center sm:fd-column sm:ai-center\">\\r\\n            <div class=\"grid--cell wmx3 mr32 md:mr48 md:ta-center md:pl24 md:pr24 sm:mr0 sm:mb48 sm:pl0 sm:pr0\">\\r\\n                <img class=\"mb16 wmx100\" width=\"176\" height=\"151\" src=\"https://cdn.sstatic.net/Img/home/advocate.svg?v=4b03cfb93502\">\\r\\n                <h4 class=\"p-ff-roboto-slab-bold fs-subheading mb16\">Acquire and share knowledge</h4>\\r\\n                <p>Answer questions and <a href=\"https://insights.stackoverflow.com/\" class=\"js-gps-track\" data-gps-track=\"product_homepage.learn_and_grow.click({ link: \\'Insights\\' })\"\\r\\n                    data-ga=\"[&quot;home page&quot;,&quot;insights click&quot;,&quot;learn and grow section&quot;,null,null]\">gain insights</a> from an audience of developers using your technology on Stack Overflow.</p>\\r\\n            </div>\\r\\n            <div class=\"grid--cell wmx3 md:ta-center md:pl24 md:pr24\">\\r\\n                <img class=\"mb16 wmx100\" width=\"209\" height=\"151\" src=\"https://cdn.sstatic.net/Img/home/career-switcher.svg?v=a41416ff19df\">\\r\\n                <h4 class=\"p-ff-roboto-slab-bold fs-subheading mb16\">Find career opportunities</h4>\\r\\n                <p>Create a profile that shows off your expertise and credentials to help you make your next move. Start your <a href=\"users/story/join\" class=\"js-gps-track\" \\r\\n                    data-gps-track=\"product_homepage.learn_and_grow.click({ link: \\'DeveloperStory\\' })\" \\r\\n                    data-ga=\"[&quot;home page&quot;,&quot;developer story click&quot;,&quot;learn and grow section&quot;,null,null]\">Developer Story</a>.</p>\\r\\n            </div>\\r\\n        </div>\\r\\n    </div>\\r\\n</div>\\r\\n\\r\\n<div class=\"ps-relative bg-powder-100 d:bg-black-025 py128\">\\r\\n    <h3 class=\"mx-auto w90 wmx12 p-ff-roboto-slab-bold fs-headline2 mb24 lg:ta-center\">Looking for a job?</h3>\\r\\n    <div class=\"mx-auto w90 wmx12 grid ai-center lg:fd-column\">\\r\\n        <div class=\"grid grid__allcells6 lg:fd-column\">\\r\\n            <div class=\"grid grid__allcells6 mr32 lg:mr0 lg:mb32 sm:fd-column sm:mb16\">\\r\\n                <a class=\"grid ai-center p16 bg-white bs-md bar-lg s-link s-link__inherit p-ff-roboto-slab fs-body2 mr32 sm:mr0 sm:mb16 js-gps-track\"\\r\\n                   data-gps-track=\"product_homepage.browse_jobs.click({ filter: \\'Technology\\' })\"\\r\\n                   href=\"/jobs/why-jobs-cta/BrowseByTechnology?source=Homepage\"\\r\\n                   data-ga=\"[&quot;home page&quot;,&quot;jobs by technology click&quot;,&quot;looking for job section&quot;,null,null]\">\\r\\n                    <div class=\"grid--cell mr16\">\\r\\n                        <img width=\"50\" src=\"https://cdn.sstatic.net/Img/home/jobs-tech.svg?v=42f011c01763\">\\r\\n                    </div>\\r\\n                    <div class=\"grid--cell\">\\r\\n                        Browse jobs by technology\\r\\n                    </div>\\r\\n                </a>\\r\\n                <a class=\"grid ai-center p16 bg-white bs-md bar-lg s-link s-link__inherit p-ff-roboto-slab fs-body2 js-gps-track\"\\r\\n                   data-gps-track=\"product_homepage.browse_jobs.click({ filter: \\'Salary\\' })\"\\r\\n                   href=\"/jobs/why-jobs-cta/BrowseBySalary?source=Homepage\"\\r\\n                   data-ga=\"[&quot;home page&quot;,&quot;jobs by salary click&quot;,&quot;looking for job section&quot;,null,null]\">\\r\\n                    <div class=\"grid--cell mr16\">\\r\\n                        <img width=\"50\" src=\"https://cdn.sstatic.net/Img/home/jobs-salary.svg?v=401840ff8931\">\\r\\n                    </div>\\r\\n                    <div class=\"grid--cell\">\\r\\n                        Browse jobs by salary\\r\\n                    </div>\\r\\n                </a>\\r\\n            </div>\\r\\n            <div class=\"grid grid__allcells6 lg:mb32 sm:fd-column\">\\r\\n                <a class=\"grid ai-center p16 bg-white bs-md bar-lg s-link s-link__inherit p-ff-roboto-slab fs-body2 mr32 sm:mr0 sm:mb16 js-gps-track\"\\r\\n                   data-gps-track=\"product_homepage.browse_jobs.click({ filter: \\'Visa\\' })\"\\r\\n                   href=\"/jobs/why-jobs-cta/BrowseVisaJobs?source=Homepage\"\\r\\n                   data-ga=\"[&quot;home page&quot;,&quot;jobs by visa click&quot;,&quot;looking for job section&quot;,null,null]\">\\r\\n                    <div class=\"grid--cell mr16\">\\r\\n                        <img width=\"50\" src=\"https://cdn.sstatic.net/Img/home/jobs-visa.svg?v=1f3acc6dc772\">\\r\\n                    </div>\\r\\n                    <div class=\"grid--cell\">\\r\\n                        Browse jobs by visa sponsorship\\r\\n                    </div>\\r\\n                </a>\\r\\n                <a class=\"grid ai-center p16 bg-white bs-md bar-lg s-link s-link__inherit p-ff-roboto-slab fs-body2 js-gps-track\"\\r\\n                   data-gps-track=\"product_homepage.browse_jobs.click({ filter: \\'Remote\\' })\"\\r\\n                   href=\"/jobs/why-jobs-cta/BrowseRemoteJobs?source=Homepage\"\\r\\n                   data-ga=\"[&quot;home page&quot;,&quot;remote jobs click&quot;,&quot;looking for job section&quot;,null,null]\">\\r\\n                    <div class=\"grid--cell mr16\">\\r\\n                        <img width=\"50\" src=\"https://cdn.sstatic.net/Img/home/jobs-remote.svg?v=a4b4d1b5a80c\">\\r\\n                    </div>\\r\\n                    <div class=\"grid--cell\">\\r\\n                        Browse remote-friendly jobs\\r\\n                    </div>\\r\\n                </a>\\r\\n            </div>\\r\\n        </div>\\r\\n        <a class=\"grid--cell ml32 lg:ml0 fs-body2 ws-nowrap fc-white bg-orange-400 py12 px24 bar-sm js-gps-track\"\\r\\n           data-gps-track=\"product_homepage.browse_jobs.click({ filter: \\'None\\' })\"\\r\\n           href=\"/jobs\"\\r\\n           data-ga=\"[&quot;home page&quot;,&quot;view all jobs click&quot;,&quot;looking for job section&quot;,null,null]\">\\r\\n            View all jobs\\r\\n        </a>\\r\\n    </div>\\r\\n    <img class=\"ps-absolute r64 bn4\" width=\"51\" src=\"https://cdn.sstatic.net/Img/home/robot.svg?v=dfa16a330cbd\">\\r\\n</div>\\r\\n\\r\\n<style>\\r\\n/* Tour */\\r\\n.tour--controls {\\r\\n    font-size: 0;\\r\\n}\\r\\n\\r\\n.tour--item {\\r\\n    display: none;\\r\\n}\\r\\n.tour--item.is-expanded {\\r\\n    display: block;\\r\\n}\\r\\n\\r\\n/* Arrow for the active state */\\r\\n.tour--arrow {\\r\\n    position: absolute;\\r\\n    top: 0;\\r\\n    left: 100%;\\r\\n    height: 100%;\\r\\n    overflow: hidden;\\r\\n    width: 16px;\\r\\n}\\r\\n\\r\\n.tour--controls__right .tour--arrow {\\r\\n    left: auto;\\r\\n    right: 100%;\\r\\n}\\r\\n\\r\\n.tour--arrow:after {\\r\\n    position: absolute;\\r\\n    top: 50%;\\r\\n    left: -100%;\\r\\n    content: \\'\\';\\r\\n    width: 16px;\\r\\n    height: 16px;\\r\\n    background-color: #fff;\\r\\n    border: 1px solid #d6d9dc;\\r\\n    box-shadow: 2px 0 8px rgba(59, 64, 69, .1);\\r\\n    transform: translateY(-50%) translateX(-50%) rotate(45deg);\\r\\n    transition: all 0.2s;\\r\\n}\\r\\nbody.theme-dark .tour--arrow:after {\\r\\n    background: #f2f2f3;\\r\\n}\\r\\n\\r\\n.tour--controls__right .tour--arrow:after {\\r\\n    box-shadow: -2px 0 8px rgba(59, 64, 69, .1);\\r\\n    left: 200%;\\r\\n}\\r\\n\\r\\n.is-active .tour--arrow:after {\\r\\n    left: 0;\\r\\n}\\r\\n\\r\\n.tour--controls__right .is-active .tour--arrow:after {\\r\\n    left: 100%;\\r\\n}\\r\\n</style>\\r\\n\\r\\n<script>\\r\\n    $(\\'.js-scroll-link\\').on(\\'click\\', function(e) {\\r\\n        e.preventDefault();\\r\\n\\r\\n        $(\\'html, body\\').animate(\\r\\n            {\\r\\n                scrollTop: $($(this).attr(\\'href\\')).offset().top,\\r\\n            },\\r\\n            300,\\r\\n            \\'linear\\'\\r\\n        );\\r\\n    });\\r\\n\\r\\n    var tourAutoplay = 3500;\\r\\n    var tourItemActiveClass = [\"is-active\", \"bc-black-3\", \"bs-lg\", \"d:bg-black-900\", \"d:fc-white\"];\\r\\n\\r\\n    var tourTriggers = document.querySelectorAll(\\'.js-tour-area\\');\\r\\n    var tourIndex = 1;\\r\\n    var tourAutoplayer;\\r\\n\\r\\n    function tourInitAutoplay () {\\r\\n        tourAutoplayer = setInterval(function() {\\r\\n            tourTriggers[tourIndex].checked = true;\\r\\n\\r\\n            for (var i=0; tourTriggers.length > i; i++) {\\r\\n                var event;\\r\\n                if(typeof(Event) === \\'function\\') {\\r\\n                    event = new Event(\\'change\\');\\r\\n                } else {\\r\\n                    event = document.createEvent(\\'Event\\');\\r\\n                    event.initEvent(\\'change\\', true, true);\\r\\n                }\\r\\n\\r\\n                tourTriggers[i].dispatchEvent(event);\\r\\n            }\\r\\n\\r\\n            if (tourIndex >= tourTriggers.length - 1) {\\r\\n                tourIndex = 0;\\r\\n            } else {\\r\\n                tourIndex++;\\r\\n            }\\r\\n        }, tourAutoplay);\\r\\n    }\\r\\n\\r\\n    function tourKillAutoplay() {\\r\\n        clearInterval(tourAutoplayer);\\r\\n    }\\r\\n\\r\\n    tourInitAutoplay();\\r\\n\\r\\n    for (var i=0; tourTriggers.length > i; i++) {\\r\\n        tourTriggers[i].addEventListener(\\'s-expandable-control:show\\', function (el) {\\r\\n            Array.prototype.slice.call(tourItemActiveClass).forEach(function(e){el.target.parentNode.classList.add(e);});\\r\\n        }, false);\\r\\n\\r\\n        tourTriggers[i].addEventListener(\\'s-expandable-control:hide\\', function (el) {\\r\\n            Array.prototype.slice.call(tourItemActiveClass).forEach(function(e){el.target.parentNode.classList.remove(e);});\\r\\n        }, false);\\r\\n\\r\\n        tourTriggers[i].addEventListener(\\'click\\', function () {\\r\\n            tourKillAutoplay();\\r\\n        });\\r\\n\\r\\n        tourTriggers[i].addEventListener(\\'touchstart\\', function () {\\r\\n            tourKillAutoplay();\\r\\n        });\\r\\n    }\\r\\n</script>\\r\\n\\r\\n        </div>\\r\\n    </div>\\r\\n            <footer id=\"footer\" class=\"site-footer js-footer\" role=\"contentinfo\">\\r\\n        <div class=\"site-footer--container\">\\r\\n                <div class=\"site-footer--logo\">\\r\\n                    \\r\\n                    <a href=\"https://stackoverflow.com\"><svg aria-hidden=\"true\" class=\"svg-icon native iconLogoGlyphMd\" width=\"32\" height=\"37\" viewBox=\"0 0 32 37\"><path d=\"M26 33v-9h4v13H0V24h4v9h22z\" fill=\"#BCBBBB\"/><path d=\"M21.5 0l-2.7 2 9.9 13.3 2.7-2L21.5 0zM26 18.4L13.3 7.8l2.1-2.5 12.7 10.6-2.1 2.5zM9.1 15.2l15 7 1.4-3-15-7-1.4 3zm14 10.79l.68-2.95-16.1-3.35L7 23l16.1 2.99zM23 30H7v-3h16v3z\" fill=\"#F48024\"/></svg></a>\\r\\n                </div>\\r\\n            <nav class=\"site-footer--nav\">\\r\\n                    <div class=\"site-footer--col site-footer--col__visible js-footer-col\" data-name=\"default\">\\r\\n                        <h5 class=\"-title\"><a href=\"https://stackoverflow.com\" class=\"js-gps-track\" data-gps-track=\"footer.click({ location: 1, link: 15})\">Stack Overflow</a></h5>\\r\\n                        <ul class=\"-list js-primary-footer-links\">\\r\\n                            <li class=\"-item\"><a href=\"/questions\" class=\"js-gps-track -link\" data-gps-track=\"footer.click({ location: 1, link: 16})\">Questions</a></li>\\r\\n                                <li class=\"-item\"><a href=\"https://stackoverflow.com/jobs\" class=\"js-gps-track -link\" data-gps-track=\"footer.click({ location: 1, link: 17})\">Jobs</a></li>\\r\\n                                <li class=\"-item\"><a href=\"https://stackoverflow.com/jobs/directory/developer-jobs\" class=\"js-gps-track -link\" data-gps-track=\"footer.click({ location: 1, link: 11})\">Developer Jobs Directory</a></li>\\r\\n                                     <li class=\"-item\"><a href=\"https://stackoverflow.com/jobs/salary\" class=\"js-gps-track -link\" data-gps-track=\"footer.click({ location: 1, link: 28})\">Salary Calculator</a></li>\\r\\n                                <li class=\"-item\"><a href=\"/help\" class=\"js-gps-track -link\" data-gps-track=\"footer.click({ location: 1, link: 3 })\">Help</a></li>\\r\\n                                <li class=\"-item\"><a onclick=\\'StackExchange.switchMobile(\"on\")\\' class=\"js-gps-track -link\" data-gps-track=\"footer.click({ location: 1, link: 12 })\">Mobile</a></li>\\r\\n                        </ul>\\r\\n                    </div>\\r\\n                    <div class=\"site-footer--col site-footer--col__visible js-footer-col\" data-name=\"default\">\\r\\n                        <h5 class=\"-title\"><a href=\"https://stackoverflowbusiness.com\" class=\"js-gps-track\" data-gps-track=\"footer.click({ location: 1, link: 19 })\">Products</a></h5>\\r\\n                        <ul class=\"-list\">\\r\\n                            <li class=\"-item\"><a href=\"https://stackoverflow.com/teams\" class=\"js-gps-track -link\" \\r\\n                                                 data-ga=\"[&quot;teams traffic&quot;,&quot;footer - site nav&quot;,&quot;stackoverflow.com/teams&quot;,null,{&quot;dimension4&quot;:&quot;teams&quot;}]\"\\r\\n                                                 data-gps-track=\"footer.click({ location: 1, link: 29 })\">Teams</a></li>\\r\\n                            <li class=\"-item\"><a href=\"https://stackoverflow.com/talent\" class=\"js-gps-track -link\" data-gps-track=\"footer.click({ location: 1, link: 20 })\">Talent</a></li>\\r\\n                            <li class=\"-item\"><a href=\"https://stackoverflow.com/advertising\" class=\"js-gps-track -link\" data-gps-track=\"footer.click({ location: 1, link: 21 })\">Advertising</a></li>\\r\\n                            <li class=\"-item\"><a href=\"https://stackoverflow.com/enterprise\" class=\"js-gps-track -link\" data-gps-track=\"footer.click({ location: 1, link: 22 })\">Enterprise</a></li>\\r\\n                        </ul>\\r\\n                    </div>\\r\\n                <div class=\"site-footer--col site-footer--col__visible js-footer-col\" data-name=\"default\">\\r\\n                    <h5 class=\"-title\"><a class=\"js-gps-track\" data-gps-track=\"footer.click({ location: 1, link: 1 })\" href=\"https://stackoverflow.com/company/about\">Company</a></h5>\\r\\n                    <ul class=\"-list\">\\r\\n                            <li class=\"-item\"><a class=\"js-gps-track -link\" data-gps-track=\"footer.click({ location: 1, link: 1 })\" href=\"https://stackoverflow.com/company/about\">About</a></li>\\r\\n                        <li class=\"-item\"><a class=\"js-gps-track -link\" data-gps-track=\"footer.click({ location: 1, link: 27 })\" href=\"https://stackoverflow.com/company/press\">Press</a></li>\\r\\n                            <li class=\"-item\"><a class=\"js-gps-track -link\" data-gps-track=\"footer.click({ location: 1, link: 9 })\" href=\"https://stackoverflow.com/company/work-here\">Work Here</a></li>\\r\\n                        <li class=\"-item\"><a class=\"js-gps-track -link\" data-gps-track=\"footer.click({ location: 1, link: 7 })\" href=\"https://stackoverflow.com/legal\">Legal</a></li>\\r\\n                        <li class=\"-item\"><a class=\"js-gps-track -link\" data-gps-track=\"footer.click({ location: 1, link: 8 })\" href=\"https://stackoverflow.com/legal/privacy-policy\">Privacy Policy</a></li>\\r\\n                            <li class=\"-item\"><a class=\"js-gps-track -link\" data-gps-track=\"footer.click({ location: 1, link: 13 })\" href=\"https://stackoverflow.com/company/contact\">Contact Us</a></li>\\r\\n                    </ul>\\r\\n                </div>\\r\\n                <div class=\"site-footer--col site-footer--categories-nav site-footer--col__visible\">\\r\\n                    <a href=\"#\" class=\"site-footer--back js-footer-back\"><svg aria-hidden=\"true\" class=\"svg-icon iconArrowLeftAlt\" width=\"18\" height=\"18\" viewBox=\"0 0 18 18\"><path d=\"M10.58 16L12 14.59 6.4 9 12 3.41 10.57 2l-7 7 7 7z\"/></svg></a>\\r\\n                    <div>\\r\\n                        <h5 class=\"-title\"><a href=\"https://stackexchange.com\" data-gps-track=\"footer.click({ location: 1, link: 30 })\">Stack Exchange<br> Network</a></h5>\\r\\n                        <ul class=\"-list\">\\r\\n                            <li class=\"-item\"><a href=\"#\" class=\"-link _expandable js-footer-category-trigger js-gps-track\" data-gps-track=\"footer.click({ location: 1, link: 24 })\" data-target=\"Technology\">Technology</a></li>\\r\\n                            <li class=\"-item\"><a href=\"#\" class=\"-link _expandable js-footer-category-trigger js-gps-track\" data-gps-track=\"footer.click({ location: 1, link: 24 })\" data-target=\"Life / Arts\">Life / Arts</a></li>\\r\\n                            <li class=\"-item\"><a href=\"#\" class=\"-link _expandable js-footer-category-trigger js-gps-track\" data-gps-track=\"footer.click({ location: 1, link: 24 })\" data-target=\"Culture / Recreation\">Culture / Recreation</a></li>\\r\\n                            <li class=\"-item\"><a href=\"#\" class=\"-link _expandable js-footer-category-trigger js-gps-track\" data-gps-track=\"footer.click({ location: 1, link: 24 })\" data-target=\"Science\">Science</a></li>\\r\\n                            <li class=\"-item\"><a href=\"#\" class=\"-link _expandable js-footer-category-trigger js-gps-track\" data-gps-track=\"footer.click({ location: 1, link: 24 })\" data-target=\"Other\">Other</a></li>\\r\\n                        </ul>\\r\\n                    </div>\\r\\n                </div>\\r\\n                <div class=\"site-footer--categories\">\\r\\n                        <div class=\"site-footer--col site-footer--category js-footer-col\" data-name=\"Technology\">\\r\\n        <ul class=\"-list\">\\r\\n                <li class=\"-item\"><a href=\"https://stackoverflow.com\" class=\"-link js-gps-track\" data-gps-track=\"footer.click({ location: 1, link: 25 })\" title=\"professional and enthusiast programmers\">Stack Overflow</a></li>\\r\\n                <li class=\"-item\"><a href=\"https://serverfault.com\" class=\"-link js-gps-track\" data-gps-track=\"footer.click({ location: 1, link: 25 })\" title=\"system and network administrators\">Server Fault</a></li>\\r\\n                <li class=\"-item\"><a href=\"https://superuser.com\" class=\"-link js-gps-track\" data-gps-track=\"footer.click({ location: 1, link: 25 })\" title=\"computer enthusiasts and power users\">Super User</a></li>\\r\\n                <li class=\"-item\"><a href=\"https://webapps.stackexchange.com\" class=\"-link js-gps-track\" data-gps-track=\"footer.click({ location: 1, link: 25 })\" title=\"power users of web applications\">Web Applications</a></li>\\r\\n                <li class=\"-item\"><a href=\"https://askubuntu.com\" class=\"-link js-gps-track\" data-gps-track=\"footer.click({ location: 1, link: 25 })\" title=\"Ubuntu users and developers\">Ask Ubuntu</a></li>\\r\\n                <li class=\"-item\"><a href=\"https://webmasters.stackexchange.com\" class=\"-link js-gps-track\" data-gps-track=\"footer.click({ location: 1, link: 25 })\" title=\"pro webmasters\">Webmasters</a></li>\\r\\n                <li class=\"-item\"><a href=\"https://gamedev.stackexchange.com\" class=\"-link js-gps-track\" data-gps-track=\"footer.click({ location: 1, link: 25 })\" title=\"professional and independent game developers\">Game Development</a></li>\\r\\n                    </ul></div><div class=\"site-footer--col site-footer--category js-footer-col\" data-name=\"Technology\"><ul class=\"-list\">\\r\\n                <li class=\"-item\"><a href=\"https://tex.stackexchange.com\" class=\"-link js-gps-track\" data-gps-track=\"footer.click({ location: 1, link: 25 })\" title=\"users of TeX, LaTeX, ConTeXt, and related typesetting systems\">TeX - LaTeX</a></li>\\r\\n                <li class=\"-item\"><a href=\"https://softwareengineering.stackexchange.com\" class=\"-link js-gps-track\" data-gps-track=\"footer.click({ location: 1, link: 25 })\" title=\"professionals, academics, and students working within the systems development life cycle\">Software Engineering</a></li>\\r\\n                <li class=\"-item\"><a href=\"https://unix.stackexchange.com\" class=\"-link js-gps-track\" data-gps-track=\"footer.click({ location: 1, link: 25 })\" title=\"users of Linux, FreeBSD and other Un*x-like operating systems\">Unix &amp; Linux</a></li>\\r\\n                <li class=\"-item\"><a href=\"https://apple.stackexchange.com\" class=\"-link js-gps-track\" data-gps-track=\"footer.click({ location: 1, link: 25 })\" title=\"power users of Apple hardware and software\">Ask Different (Apple)</a></li>\\r\\n                <li class=\"-item\"><a href=\"https://wordpress.stackexchange.com\" class=\"-link js-gps-track\" data-gps-track=\"footer.click({ location: 1, link: 25 })\" title=\"WordPress developers and administrators\">WordPress Development</a></li>\\r\\n                <li class=\"-item\"><a href=\"https://gis.stackexchange.com\" class=\"-link js-gps-track\" data-gps-track=\"footer.click({ location: 1, link: 25 })\" title=\"cartographers, geographers and GIS professionals\">Geographic Information Systems</a></li>\\r\\n                <li class=\"-item\"><a href=\"https://electronics.stackexchange.com\" class=\"-link js-gps-track\" data-gps-track=\"footer.click({ location: 1, link: 25 })\" title=\"electronics and electrical engineering professionals, students, and enthusiasts\">Electrical Engineering</a></li>\\r\\n                    </ul></div><div class=\"site-footer--col site-footer--category js-footer-col\" data-name=\"Technology\"><ul class=\"-list\">\\r\\n                <li class=\"-item\"><a href=\"https://android.stackexchange.com\" class=\"-link js-gps-track\" data-gps-track=\"footer.click({ location: 1, link: 25 })\" title=\"enthusiasts and power users of the Android operating system\">Android Enthusiasts</a></li>\\r\\n                <li class=\"-item\"><a href=\"https://security.stackexchange.com\" class=\"-link js-gps-track\" data-gps-track=\"footer.click({ location: 1, link: 25 })\" title=\"information security professionals\">Information Security</a></li>\\r\\n                <li class=\"-item\"><a href=\"https://dba.stackexchange.com\" class=\"-link js-gps-track\" data-gps-track=\"footer.click({ location: 1, link: 25 })\" title=\"database professionals who wish to improve their database skills and learn from others in the community\">Database Administrators</a></li>\\r\\n                <li class=\"-item\"><a href=\"https://drupal.stackexchange.com\" class=\"-link js-gps-track\" data-gps-track=\"footer.click({ location: 1, link: 25 })\" title=\"Drupal developers and administrators\">Drupal Answers</a></li>\\r\\n                <li class=\"-item\"><a href=\"https://sharepoint.stackexchange.com\" class=\"-link js-gps-track\" data-gps-track=\"footer.click({ location: 1, link: 25 })\" title=\"SharePoint enthusiasts\">SharePoint</a></li>\\r\\n                <li class=\"-item\"><a href=\"https://ux.stackexchange.com\" class=\"-link js-gps-track\" data-gps-track=\"footer.click({ location: 1, link: 25 })\" title=\"user experience researchers and experts\">User Experience</a></li>\\r\\n                <li class=\"-item\"><a href=\"https://mathematica.stackexchange.com\" class=\"-link js-gps-track\" data-gps-track=\"footer.click({ location: 1, link: 25 })\" title=\"users of Wolfram Mathematica\">Mathematica</a></li>\\r\\n                    </ul></div><div class=\"site-footer--col site-footer--category js-footer-col\" data-name=\"Technology\"><ul class=\"-list\">\\r\\n                <li class=\"-item\"><a href=\"https://salesforce.stackexchange.com\" class=\"-link js-gps-track\" data-gps-track=\"footer.click({ location: 1, link: 25 })\" title=\"Salesforce administrators, implementation experts, developers and anybody in-between\">Salesforce</a></li>\\r\\n                <li class=\"-item\"><a href=\"https://expressionengine.stackexchange.com\" class=\"-link js-gps-track\" data-gps-track=\"footer.click({ location: 1, link: 25 })\" title=\"administrators, end users, developers and designers for ExpressionEngine&#xAE; CMS\">ExpressionEngine&#xAE; Answers</a></li>\\r\\n                <li class=\"-item\"><a href=\"https://pt.stackoverflow.com\" class=\"-link js-gps-track\" data-gps-track=\"footer.click({ location: 1, link: 25 })\" title=\"programadores profissionais e entusiastas\">Stack Overflow em Portugu&#xEA;s</a></li>\\r\\n                <li class=\"-item\"><a href=\"https://blender.stackexchange.com\" class=\"-link js-gps-track\" data-gps-track=\"footer.click({ location: 1, link: 25 })\" title=\"people who use Blender to create 3D graphics, animations, or games\">Blender</a></li>\\r\\n                <li class=\"-item\"><a href=\"https://networkengineering.stackexchange.com\" class=\"-link js-gps-track\" data-gps-track=\"footer.click({ location: 1, link: 25 })\" title=\"network engineers\">Network Engineering</a></li>\\r\\n                <li class=\"-item\"><a href=\"https://crypto.stackexchange.com\" class=\"-link js-gps-track\" data-gps-track=\"footer.click({ location: 1, link: 25 })\" title=\"software developers, mathematicians and others interested in cryptography\">Cryptography</a></li>\\r\\n                <li class=\"-item\"><a href=\"https://codereview.stackexchange.com\" class=\"-link js-gps-track\" data-gps-track=\"footer.click({ location: 1, link: 25 })\" title=\"peer programmer code reviews\">Code Review</a></li>\\r\\n                    </ul></div><div class=\"site-footer--col site-footer--category js-footer-col\" data-name=\"Technology\"><ul class=\"-list\">\\r\\n                <li class=\"-item\"><a href=\"https://magento.stackexchange.com\" class=\"-link js-gps-track\" data-gps-track=\"footer.click({ location: 1, link: 25 })\" title=\"users of the Magento e-Commerce platform\">Magento</a></li>\\r\\n                <li class=\"-item\"><a href=\"https://softwarerecs.stackexchange.com\" class=\"-link js-gps-track\" data-gps-track=\"footer.click({ location: 1, link: 25 })\" title=\"people seeking specific software recommendations\">Software Recommendations</a></li>\\r\\n                <li class=\"-item\"><a href=\"https://dsp.stackexchange.com\" class=\"-link js-gps-track\" data-gps-track=\"footer.click({ location: 1, link: 25 })\" title=\"practitioners of the art and science of signal, image and video processing\">Signal Processing</a></li>\\r\\n                <li class=\"-item\"><a href=\"https://emacs.stackexchange.com\" class=\"-link js-gps-track\" data-gps-track=\"footer.click({ location: 1, link: 25 })\" title=\"those using, extending or developing Emacs\">Emacs</a></li>\\r\\n                <li class=\"-item\"><a href=\"https://raspberrypi.stackexchange.com\" class=\"-link js-gps-track\" data-gps-track=\"footer.click({ location: 1, link: 25 })\" title=\"users and developers of hardware and software for Raspberry Pi\">Raspberry Pi</a></li>\\r\\n                <li class=\"-item\"><a href=\"https://ru.stackoverflow.com\" class=\"-link js-gps-track\" data-gps-track=\"footer.click({ location: 1, link: 25 })\" title=\"&#x43F;&#x440;&#x43E;&#x433;&#x440;&#x430;&#x43C;&#x43C;&#x438;&#x441;&#x442;&#x43E;&#x432;\">Stack Overflow &#x43D;&#x430; &#x440;&#x443;&#x441;&#x441;&#x43A;&#x43E;&#x43C;</a></li>\\r\\n                <li class=\"-item\"><a href=\"https://codegolf.stackexchange.com\" class=\"-link js-gps-track\" data-gps-track=\"footer.click({ location: 1, link: 25 })\" title=\"programming puzzle enthusiasts and code golfers\">Code Golf</a></li>\\r\\n                    </ul></div><div class=\"site-footer--col site-footer--category js-footer-col\" data-name=\"Technology\"><ul class=\"-list\">\\r\\n                <li class=\"-item\"><a href=\"https://es.stackoverflow.com\" class=\"-link js-gps-track\" data-gps-track=\"footer.click({ location: 1, link: 25 })\" title=\"programadores y profesionales de la inform&#xE1;tica\">Stack Overflow en espa&#xF1;ol</a></li>\\r\\n                <li class=\"-item\"><a href=\"https://ethereum.stackexchange.com\" class=\"-link js-gps-track\" data-gps-track=\"footer.click({ location: 1, link: 25 })\" title=\"users of Ethereum, the decentralized application platform and smart contract enabled blockchain\">Ethereum</a></li>\\r\\n                <li class=\"-item\"><a href=\"https://datascience.stackexchange.com\" class=\"-link js-gps-track\" data-gps-track=\"footer.click({ location: 1, link: 25 })\" title=\"Data science professionals, Machine Learning specialists, and those interested in learning more about the field\">Data Science</a></li>\\r\\n                <li class=\"-item\"><a href=\"https://arduino.stackexchange.com\" class=\"-link js-gps-track\" data-gps-track=\"footer.click({ location: 1, link: 25 })\" title=\"developers of open-source hardware and software that is compatible with Arduino\">Arduino</a></li>\\r\\n                <li class=\"-item\"><a href=\"https://bitcoin.stackexchange.com\" class=\"-link js-gps-track\" data-gps-track=\"footer.click({ location: 1, link: 25 })\" title=\"Bitcoin crypto-currency enthusiasts\">Bitcoin</a></li>\\r\\n                <li class=\"-item\"><a href=\"https://sqa.stackexchange.com\" class=\"-link js-gps-track\" data-gps-track=\"footer.click({ location: 1, link: 25 })\" title=\"software quality control experts, automation engineers, and software testers\">Software Quality Assurance &amp; Testing</a></li>\\r\\n                <li class=\"-item\"><a href=\"https://sound.stackexchange.com\" class=\"-link js-gps-track\" data-gps-track=\"footer.click({ location: 1, link: 25 })\" title=\"sound engineers, producers, editors, and enthusiasts\">Sound Design</a></li>\\r\\n                    </ul></div><div class=\"site-footer--col site-footer--category js-footer-col\" data-name=\"Technology\"><ul class=\"-list\">\\r\\n                <li class=\"-item\"><a href=\"https://windowsphone.stackexchange.com\" class=\"-link js-gps-track\" data-gps-track=\"footer.click({ location: 1, link: 25 })\" title=\"enthusiasts and power users of Windows Phone OS\">Windows Phone</a></li>\\r\\n                <li class=\"-item\">\\r\\n                    <a href=\"https://stackexchange.com/sites#technology\" class=\"-link js-gps-track\" data-gps-track=\"footer.click({ location: 1, link: 26 })\">\\r\\n                        <strong>\\r\\n                            more (27)\\r\\n                        </strong>\\r\\n                    </a>\\r\\n                </li>\\r\\n        </ul>\\r\\n    </div>\\r\\n    <div class=\"site-footer--col site-footer--category js-footer-col\" data-name=\"Life / Arts\">\\r\\n        <ul class=\"-list\">\\r\\n                <li class=\"-item\"><a href=\"https://photo.stackexchange.com\" class=\"-link js-gps-track\" data-gps-track=\"footer.click({ location: 1, link: 25 })\" title=\"professional, enthusiast and amateur photographers\">Photography</a></li>\\r\\n                <li class=\"-item\"><a href=\"https://scifi.stackexchange.com\" class=\"-link js-gps-track\" data-gps-track=\"footer.click({ location: 1, link: 25 })\" title=\"science fiction and fantasy enthusiasts\">Science Fiction &amp; Fantasy</a></li>\\r\\n                <li class=\"-item\"><a href=\"https://graphicdesign.stackexchange.com\" class=\"-link js-gps-track\" data-gps-track=\"footer.click({ location: 1, link: 25 })\" title=\"Graphic Design professionals, students, and enthusiasts\">Graphic Design</a></li>\\r\\n                <li class=\"-item\"><a href=\"https://movies.stackexchange.com\" class=\"-link js-gps-track\" data-gps-track=\"footer.click({ location: 1, link: 25 })\" title=\"movie and tv enthusiasts\">Movies &amp; TV</a></li>\\r\\n                <li class=\"-item\"><a href=\"https://music.stackexchange.com\" class=\"-link js-gps-track\" data-gps-track=\"footer.click({ location: 1, link: 25 })\" title=\"musicians, students, and enthusiasts\">Music: Practice &amp; Theory</a></li>\\r\\n                <li class=\"-item\"><a href=\"https://worldbuilding.stackexchange.com\" class=\"-link js-gps-track\" data-gps-track=\"footer.click({ location: 1, link: 25 })\" title=\"writers/artists using science, geography and culture to construct imaginary worlds and settings\">Worldbuilding</a></li>\\r\\n                <li class=\"-item\"><a href=\"https://video.stackexchange.com\" class=\"-link js-gps-track\" data-gps-track=\"footer.click({ location: 1, link: 25 })\" title=\"engineers, producers, editors, and enthusiasts spanning the fields of video, and media creation\">Video Production</a></li>\\r\\n                    </ul></div><div class=\"site-footer--col site-footer--category js-footer-col\" data-name=\"Life / Arts\"><ul class=\"-list\">\\r\\n                <li class=\"-item\"><a href=\"https://cooking.stackexchange.com\" class=\"-link js-gps-track\" data-gps-track=\"footer.click({ location: 1, link: 25 })\" title=\"professional and amateur chefs\">Seasoned Advice (cooking)</a></li>\\r\\n                <li class=\"-item\"><a href=\"https://diy.stackexchange.com\" class=\"-link js-gps-track\" data-gps-track=\"footer.click({ location: 1, link: 25 })\" title=\"contractors and serious DIYers\">Home Improvement</a></li>\\r\\n                <li class=\"-item\"><a href=\"https://money.stackexchange.com\" class=\"-link js-gps-track\" data-gps-track=\"footer.click({ location: 1, link: 25 })\" title=\"people who want to be financially literate\">Personal Finance &amp; Money</a></li>\\r\\n                <li class=\"-item\"><a href=\"https://academia.stackexchange.com\" class=\"-link js-gps-track\" data-gps-track=\"footer.click({ location: 1, link: 25 })\" title=\"academics and those enrolled in higher education\">Academia</a></li>\\r\\n                <li class=\"-item\"><a href=\"https://law.stackexchange.com\" class=\"-link js-gps-track\" data-gps-track=\"footer.click({ location: 1, link: 25 })\" title=\"legal professionals, students, and others with experience or interest in law\">Law</a></li>\\r\\n                <li class=\"-item\"><a href=\"https://fitness.stackexchange.com\" class=\"-link js-gps-track\" data-gps-track=\"footer.click({ location: 1, link: 25 })\" title=\"physical fitness professionals, athletes, trainers, and those providing health-related needs\">Physical Fitness</a></li>\\r\\n                <li class=\"-item\"><a href=\"https://gardening.stackexchange.com\" class=\"-link js-gps-track\" data-gps-track=\"footer.click({ location: 1, link: 25 })\" title=\"gardeners and landscapers\">Gardening &amp; Landscaping</a></li>\\r\\n                    </ul></div><div class=\"site-footer--col site-footer--category js-footer-col\" data-name=\"Life / Arts\"><ul class=\"-list\">\\r\\n                <li class=\"-item\"><a href=\"https://parenting.stackexchange.com\" class=\"-link js-gps-track\" data-gps-track=\"footer.click({ location: 1, link: 25 })\" title=\"parents, grandparents, nannies and others with a parenting role\">Parenting</a></li>\\r\\n                <li class=\"-item\">\\r\\n                    <a href=\"https://stackexchange.com/sites#lifearts\" class=\"-link js-gps-track\" data-gps-track=\"footer.click({ location: 1, link: 26 })\">\\r\\n                        <strong>\\r\\n                            more (11)\\r\\n                        </strong>\\r\\n                    </a>\\r\\n                </li>\\r\\n        </ul>\\r\\n    </div>\\r\\n    <div class=\"site-footer--col site-footer--category js-footer-col\" data-name=\"Culture / Recreation\">\\r\\n        <ul class=\"-list\">\\r\\n                <li class=\"-item\"><a href=\"https://english.stackexchange.com\" class=\"-link js-gps-track\" data-gps-track=\"footer.click({ location: 1, link: 25 })\" title=\"linguists, etymologists, and serious English language enthusiasts\">English Language &amp; Usage</a></li>\\r\\n                <li class=\"-item\"><a href=\"https://skeptics.stackexchange.com\" class=\"-link js-gps-track\" data-gps-track=\"footer.click({ location: 1, link: 25 })\" title=\"scientific skepticism\">Skeptics</a></li>\\r\\n                <li class=\"-item\"><a href=\"https://judaism.stackexchange.com\" class=\"-link js-gps-track\" data-gps-track=\"footer.click({ location: 1, link: 25 })\" title=\"those who base their lives on Jewish law and tradition and anyone interested in learning more\">Mi Yodeya (Judaism)</a></li>\\r\\n                <li class=\"-item\"><a href=\"https://travel.stackexchange.com\" class=\"-link js-gps-track\" data-gps-track=\"footer.click({ location: 1, link: 25 })\" title=\"road warriors and seasoned travelers\">Travel</a></li>\\r\\n                <li class=\"-item\"><a href=\"https://christianity.stackexchange.com\" class=\"-link js-gps-track\" data-gps-track=\"footer.click({ location: 1, link: 25 })\" title=\"committed Christians, experts in Christianity and those interested in learning more\">Christianity</a></li>\\r\\n                <li class=\"-item\"><a href=\"https://ell.stackexchange.com\" class=\"-link js-gps-track\" data-gps-track=\"footer.click({ location: 1, link: 25 })\" title=\"speakers of other languages learning English\">English Language Learners</a></li>\\r\\n                <li class=\"-item\"><a href=\"https://japanese.stackexchange.com\" class=\"-link js-gps-track\" data-gps-track=\"footer.click({ location: 1, link: 25 })\" title=\"students, teachers, and linguists wanting to discuss the finer points of the Japanese language\">Japanese Language</a></li>\\r\\n                    </ul></div><div class=\"site-footer--col site-footer--category js-footer-col\" data-name=\"Culture / Recreation\"><ul class=\"-list\">\\r\\n                <li class=\"-item\"><a href=\"https://chinese.stackexchange.com\" class=\"-link js-gps-track\" data-gps-track=\"footer.click({ location: 1, link: 25 })\" title=\"students, teachers, and linguists wanting to discuss the finer points of the Chinese language\">Chinese Language</a></li>\\r\\n                <li class=\"-item\"><a href=\"https://french.stackexchange.com\" class=\"-link js-gps-track\" data-gps-track=\"footer.click({ location: 1, link: 25 })\" title=\"students, teachers, and linguists wanting to discuss the finer points of the French language\">French Language</a></li>\\r\\n                <li class=\"-item\"><a href=\"https://german.stackexchange.com\" class=\"-link js-gps-track\" data-gps-track=\"footer.click({ location: 1, link: 25 })\" title=\"speakers of German wanting to discuss the finer points of the language and translation\">German Language</a></li>\\r\\n                <li class=\"-item\"><a href=\"https://hermeneutics.stackexchange.com\" class=\"-link js-gps-track\" data-gps-track=\"footer.click({ location: 1, link: 25 })\" title=\"professors, theologians, and those interested in exegetical analysis of biblical texts\">Biblical Hermeneutics</a></li>\\r\\n                <li class=\"-item\"><a href=\"https://history.stackexchange.com\" class=\"-link js-gps-track\" data-gps-track=\"footer.click({ location: 1, link: 25 })\" title=\"historians and history buffs\">History</a></li>\\r\\n                <li class=\"-item\"><a href=\"https://spanish.stackexchange.com\" class=\"-link js-gps-track\" data-gps-track=\"footer.click({ location: 1, link: 25 })\" title=\"linguists, teachers, students and Spanish language enthusiasts in general wanting to discuss the finer points of the language\">Spanish Language</a></li>\\r\\n                <li class=\"-item\"><a href=\"https://islam.stackexchange.com\" class=\"-link js-gps-track\" data-gps-track=\"footer.click({ location: 1, link: 25 })\" title=\"Muslims, experts in Islam, and those interested in learning more about Islam\">Islam</a></li>\\r\\n                    </ul></div><div class=\"site-footer--col site-footer--category js-footer-col\" data-name=\"Culture / Recreation\"><ul class=\"-list\">\\r\\n                <li class=\"-item\"><a href=\"https://rus.stackexchange.com\" class=\"-link js-gps-track\" data-gps-track=\"footer.click({ location: 1, link: 25 })\" title=\"&#x43B;&#x438;&#x43D;&#x433;&#x432;&#x438;&#x441;&#x442;&#x43E;&#x432; &#x438; &#x44D;&#x43D;&#x442;&#x443;&#x437;&#x438;&#x430;&#x441;&#x442;&#x43E;&#x432; &#x440;&#x443;&#x441;&#x441;&#x43A;&#x43E;&#x433;&#x43E; &#x44F;&#x437;&#x44B;&#x43A;&#x430;\">&#x420;&#x443;&#x441;&#x441;&#x43A;&#x438;&#x439; &#x44F;&#x437;&#x44B;&#x43A;</a></li>\\r\\n                <li class=\"-item\"><a href=\"https://russian.stackexchange.com\" class=\"-link js-gps-track\" data-gps-track=\"footer.click({ location: 1, link: 25 })\" title=\"students, teachers, and linguists wanting to discuss the finer points of the Russian language\">Russian Language</a></li>\\r\\n                <li class=\"-item\"><a href=\"https://gaming.stackexchange.com\" class=\"-link js-gps-track\" data-gps-track=\"footer.click({ location: 1, link: 25 })\" title=\"passionate videogamers on all platforms\">Arqade (gaming)</a></li>\\r\\n                <li class=\"-item\"><a href=\"https://bicycles.stackexchange.com\" class=\"-link js-gps-track\" data-gps-track=\"footer.click({ location: 1, link: 25 })\" title=\"people who build and repair bicycles, people who train cycling, or commute on bicycles\">Bicycles</a></li>\\r\\n                <li class=\"-item\"><a href=\"https://rpg.stackexchange.com\" class=\"-link js-gps-track\" data-gps-track=\"footer.click({ location: 1, link: 25 })\" title=\"gamemasters and players of tabletop, paper-and-pencil role-playing games\">Role-playing Games</a></li>\\r\\n                <li class=\"-item\"><a href=\"https://anime.stackexchange.com\" class=\"-link js-gps-track\" data-gps-track=\"footer.click({ location: 1, link: 25 })\" title=\"anime and manga fans\">Anime &amp; Manga</a></li>\\r\\n                <li class=\"-item\"><a href=\"https://puzzling.stackexchange.com\" class=\"-link js-gps-track\" data-gps-track=\"footer.click({ location: 1, link: 25 })\" title=\"those who create, solve, and study puzzles\">Puzzling</a></li>\\r\\n                    </ul></div><div class=\"site-footer--col site-footer--category js-footer-col\" data-name=\"Culture / Recreation\"><ul class=\"-list\">\\r\\n                <li class=\"-item\"><a href=\"https://mechanics.stackexchange.com\" class=\"-link js-gps-track\" data-gps-track=\"footer.click({ location: 1, link: 25 })\" title=\"mechanics and DIY enthusiast owners of cars, trucks, and motorcycles\">Motor Vehicle Maintenance &amp; Repair</a></li>\\r\\n                <li class=\"-item\"><a href=\"https://boardgames.stackexchange.com\" class=\"-link js-gps-track\" data-gps-track=\"footer.click({ location: 1, link: 25 })\" title=\"people who like playing board games, designing board games or modifying the rules of existing board games\">Board &amp; Card Games</a></li>\\r\\n                <li class=\"-item\"><a href=\"https://bricks.stackexchange.com\" class=\"-link js-gps-track\" data-gps-track=\"footer.click({ location: 1, link: 25 })\" title=\"LEGO&#xAE; and building block enthusiasts\">Bricks</a></li>\\r\\n                <li class=\"-item\"><a href=\"https://homebrew.stackexchange.com\" class=\"-link js-gps-track\" data-gps-track=\"footer.click({ location: 1, link: 25 })\" title=\"dedicated home brewers and serious enthusiasts\">Homebrewing</a></li>\\r\\n                <li class=\"-item\"><a href=\"https://martialarts.stackexchange.com\" class=\"-link js-gps-track\" data-gps-track=\"footer.click({ location: 1, link: 25 })\" title=\"students and teachers of all martial arts\">Martial Arts</a></li>\\r\\n                <li class=\"-item\"><a href=\"https://outdoors.stackexchange.com\" class=\"-link js-gps-track\" data-gps-track=\"footer.click({ location: 1, link: 25 })\" title=\"people who love being outdoors enjoying nature and wilderness, and learning about the required skills and equipment\">The Great Outdoors</a></li>\\r\\n                <li class=\"-item\"><a href=\"https://poker.stackexchange.com\" class=\"-link js-gps-track\" data-gps-track=\"footer.click({ location: 1, link: 25 })\" title=\"serious players and enthusiasts of poker\">Poker</a></li>\\r\\n                    </ul></div><div class=\"site-footer--col site-footer--category js-footer-col\" data-name=\"Culture / Recreation\"><ul class=\"-list\">\\r\\n                <li class=\"-item\"><a href=\"https://chess.stackexchange.com\" class=\"-link js-gps-track\" data-gps-track=\"footer.click({ location: 1, link: 25 })\" title=\"serious players and enthusiasts of chess\">Chess</a></li>\\r\\n                <li class=\"-item\"><a href=\"https://sports.stackexchange.com\" class=\"-link js-gps-track\" data-gps-track=\"footer.click({ location: 1, link: 25 })\" title=\"participants in team and individual sport activities\">Sports</a></li>\\r\\n                <li class=\"-item\">\\r\\n                    <a href=\"https://stackexchange.com/sites#culturerecreation\" class=\"-link js-gps-track\" data-gps-track=\"footer.click({ location: 1, link: 26 })\">\\r\\n                        <strong>\\r\\n                            more (16)\\r\\n                        </strong>\\r\\n                    </a>\\r\\n                </li>\\r\\n        </ul>\\r\\n    </div>\\r\\n    <div class=\"site-footer--col site-footer--category js-footer-col\" data-name=\"Science\">\\r\\n        <ul class=\"-list\">\\r\\n                <li class=\"-item\"><a href=\"https://mathoverflow.net\" class=\"-link js-gps-track\" data-gps-track=\"footer.click({ location: 1, link: 25 })\" title=\"professional mathematicians\">MathOverflow</a></li>\\r\\n                <li class=\"-item\"><a href=\"https://math.stackexchange.com\" class=\"-link js-gps-track\" data-gps-track=\"footer.click({ location: 1, link: 25 })\" title=\"people studying math at any level and professionals in related fields\">Mathematics</a></li>\\r\\n                <li class=\"-item\"><a href=\"https://stats.stackexchange.com\" class=\"-link js-gps-track\" data-gps-track=\"footer.click({ location: 1, link: 25 })\" title=\"people interested in statistics, machine learning, data analysis, data mining, and data visualization\">Cross Validated (stats)</a></li>\\r\\n                <li class=\"-item\"><a href=\"https://cstheory.stackexchange.com\" class=\"-link js-gps-track\" data-gps-track=\"footer.click({ location: 1, link: 25 })\" title=\"theoretical computer scientists and researchers in related fields\">Theoretical Computer Science</a></li>\\r\\n                <li class=\"-item\"><a href=\"https://physics.stackexchange.com\" class=\"-link js-gps-track\" data-gps-track=\"footer.click({ location: 1, link: 25 })\" title=\"active researchers, academics and students of physics\">Physics</a></li>\\r\\n                <li class=\"-item\"><a href=\"https://chemistry.stackexchange.com\" class=\"-link js-gps-track\" data-gps-track=\"footer.click({ location: 1, link: 25 })\" title=\"scientists, academics, teachers, and students in the field of chemistry\">Chemistry</a></li>\\r\\n                <li class=\"-item\"><a href=\"https://biology.stackexchange.com\" class=\"-link js-gps-track\" data-gps-track=\"footer.click({ location: 1, link: 25 })\" title=\"biology researchers, academics, and students\">Biology</a></li>\\r\\n                    </ul></div><div class=\"site-footer--col site-footer--category js-footer-col\" data-name=\"Science\"><ul class=\"-list\">\\r\\n                <li class=\"-item\"><a href=\"https://cs.stackexchange.com\" class=\"-link js-gps-track\" data-gps-track=\"footer.click({ location: 1, link: 25 })\" title=\"students, researchers and practitioners of computer science\">Computer Science</a></li>\\r\\n                <li class=\"-item\"><a href=\"https://philosophy.stackexchange.com\" class=\"-link js-gps-track\" data-gps-track=\"footer.click({ location: 1, link: 25 })\" title=\"those interested in the study of the fundamental nature of knowledge, reality, and existence\">Philosophy</a></li>\\r\\n                <li class=\"-item\"><a href=\"https://linguistics.stackexchange.com\" class=\"-link js-gps-track\" data-gps-track=\"footer.click({ location: 1, link: 25 })\" title=\"professional linguists and others with an interest in linguistic research and theory\">Linguistics</a></li>\\r\\n                <li class=\"-item\"><a href=\"https://psychology.stackexchange.com\" class=\"-link js-gps-track\" data-gps-track=\"footer.click({ location: 1, link: 25 })\" title=\"practitioners, researchers, and students in cognitive science, psychology, neuroscience, and psychiatry\">Psychology &amp; Neuroscience</a></li>\\r\\n                <li class=\"-item\"><a href=\"https://scicomp.stackexchange.com\" class=\"-link js-gps-track\" data-gps-track=\"footer.click({ location: 1, link: 25 })\" title=\"scientists using computers to solve scientific problems\">Computational Science</a></li>\\r\\n                <li class=\"-item\">\\r\\n                    <a href=\"https://stackexchange.com/sites#science\" class=\"-link js-gps-track\" data-gps-track=\"footer.click({ location: 1, link: 26 })\">\\r\\n                        <strong>\\r\\n                            more (8)\\r\\n                        </strong>\\r\\n                    </a>\\r\\n                </li>\\r\\n        </ul>\\r\\n    </div>\\r\\n    <div class=\"site-footer--col site-footer--category js-footer-col\" data-name=\"Other\">\\r\\n        <ul class=\"-list\">\\r\\n                <li class=\"-item\"><a href=\"https://meta.stackexchange.com\" class=\"-link js-gps-track\" data-gps-track=\"footer.click({ location: 1, link: 25 })\" title=\"meta-discussion of the Stack Exchange family of Q&amp;A websites\">Meta Stack Exchange</a></li>\\r\\n                <li class=\"-item\"><a href=\"https://stackapps.com\" class=\"-link js-gps-track\" data-gps-track=\"footer.click({ location: 1, link: 25 })\" title=\"apps, scripts, and development with the Stack Exchange API\">Stack Apps</a></li>\\r\\n                <li class=\"-item\"><a href=\"https://api.stackexchange.com\" class=\"-link js-gps-track\" data-gps-track=\"footer.click({ location: 1, link: 25 })\" title=\"programmatic interaction with Stack Exchange sites\">API</a></li>\\r\\n                <li class=\"-item\"><a href=\"https://data.stackexchange.com\" class=\"-link js-gps-track\" data-gps-track=\"footer.click({ location: 1, link: 25 })\" title=\"querying Stack Exchange data using SQL\">Data</a></li>\\r\\n        </ul>\\r\\n    </div>\\r\\n\\r\\n                </div>\\r\\n            </nav>\\r\\n            <div class=\"site-footer--copyright fs-fine\">\\r\\n                <ul class=\"-list\">\\r\\n                    <li class=\"-item\"><a class=\"js-gps-track -link\" data-gps-track=\"footer.click({ location: 1, link:4 })\" href=\"https://stackoverflow.blog?blb=1\">Blog</a></li>\\r\\n                    <li class=\"-item\"><a href=\"https://www.facebook.com/officialstackoverflow/\" class=\"-link js-gps-track\" data-gps-track=\"footer.click({ location: 1, link: 31 })\">Facebook</a></li>\\r\\n                    <li class=\"-item\"><a href=\"https://twitter.com/stackoverflow\" class=\"-link js-gps-track\" data-gps-track=\"footer.click({ location: 1, link: 32 })\">Twitter</a></li>\\r\\n                    <li class=\"-item\"><a href=\"https://linkedin.com/company/stack-overflow\" class=\"-link js-gps-track\" data-gps-track=\"footer.click({ location: 1, link: 33 })\">LinkedIn</a></li>\\r\\n                </ul>\\r\\n\\r\\n                <p class=\"mt-auto mb24\">\\r\\nsite design / logo &#169; 2020 Stack Exchange Inc; user contributions licensed under <a href=\"https://creativecommons.org/licenses/by-sa/4.0/\" class=\"js-gps-track\" data-gps-track=\"footer.click({ location: 1, link: 34 })\" rel=\"license\">cc by-sa 4.0</a>\\r\\n                            with <a href=\"https://stackoverflow.blog/2009/06/25/attribution-required/\"  class=\"js-gps-track\" data-gps-track=\"footer.click({ location: 1, link:35 })\" rel=\"license\">attribution required</a>.                    <span id=\"svnrev\">rev&nbsp;2020.4.9.36569</span>\\r\\n                </p>\\r\\n            </div>\\r\\n        </div>\\r\\n\\r\\n    </footer>\\r\\n\\r\\n            <script>StackExchange.ready(function () { StackExchange.responsiveness.addSwitcher(); })</script>\\r\\n    <noscript>\\r\\n        <div id=\"noscript-warning\">Stack Overflow works best with JavaScript enabled\\r\\n            <img src=\"https://pixel.quantserve.com/pixel/p-c1rF4kxgLUzNc.gif\" alt=\"\" class=\"dno\">\\r\\n        </div>\\r\\n    </noscript>\\r\\n\\r\\n        <script>\\r\\n(function(i, s, o, g, r, a, m) {\\r\\n                i[\\'GoogleAnalyticsObject\\'] = r; i[r] = i[r] || function() { (i[r].q = i[r].q || []).push(arguments) }, i[r].l = 1 * new Date(); a = s.createElement(o),\\r\\n                m = s.getElementsByTagName(o)[0]; a.async = 1; a.src = g; m.parentNode.insertBefore(a, m);\\r\\n            })(window, document, \\'script\\', \\'https://www.google-analytics.com/analytics.js\\', \\'ga\\');\\r\\n\\r\\n            StackExchange.ready(function () {\\r\\n\\r\\n                StackExchange.ga.init({\\r\\n                    sendTitles: true,\\r\\n                    tracker: window.ga,\\r\\n                    trackingCodes: [\\r\\n                        \\'UA-108242619-1\\'\\r\\n                    ],\\r\\n                        checkDimension: \\'dimension42\\'\\r\\n                });\\r\\n\\r\\n\\r\\n\\r\\n\\r\\n                    StackExchange.ga.setDimension(\\'dimension3\\', \\'Home/Index\\');\\r\\n\\r\\n\\r\\n                StackExchange.ga.trackPageView();\\r\\n            });\\r\\n            /**/\\r\\n\\r\\n            var _qevents = _qevents || [],\\r\\n            _comscore = _comscore || [];\\r\\n            (function() {\\r\\n                var ssl = \\'https:\\' == document.location.protocol,\\r\\n                    s = document.getElementsByTagName(\\'script\\')[0],\\r\\n                    qc = document.createElement(\\'script\\');\\r\\n qc.async = true;\\r\\n                    qc.src = (ssl ? \\'https://secure\\' : \\'http://edge\\') + \\'.quantserve.com/quant.js\\';\\r\\n                    s.parentNode.insertBefore(qc, s);\\r\\n                    _qevents.push({ qacct: \"p-c1rF4kxgLUzNc\" });/**/\\r\\n var sc = document.createElement(\\'script\\');\\r\\n                    sc.async = true;\\r\\n                    sc.src = (ssl ? \\'https://sb\\' : \\'http://b\\') + \\'.scorecardresearch.com/beacon.js\\';\\r\\n                    s.parentNode.insertBefore(sc, s);\\r\\n                    _comscore.push({ c1: \"2\", c2: \"17440561\" });            })();\\r\\n            \\r\\n</script>\\r\\n\\r\\n    \\r\\n    </body>\\r\\n    </html>\\r\\n'"
      ]
     },
     "execution_count": 16,
     "metadata": {},
     "output_type": "execute_result"
    }
   ],
   "source": [
    "data"
   ]
  },
  {
   "cell_type": "code",
   "execution_count": 17,
   "metadata": {},
   "outputs": [],
   "source": [
    "with open('stackoverflow.html', 'wb') as f:\n",
    "    f.write(data)\n",
    "    f.close()"
   ]
  },
  {
   "cell_type": "markdown",
   "metadata": {},
   "source": [
    "### Parsing html data"
   ]
  },
  {
   "cell_type": "code",
   "execution_count": 18,
   "metadata": {},
   "outputs": [],
   "source": [
    "import lxml.html\n",
    "dom = lxml.html.fromstring(data)"
   ]
  },
  {
   "cell_type": "code",
   "execution_count": 19,
   "metadata": {},
   "outputs": [
    {
     "data": {
      "text/plain": [
       "<Element html at 0x1f785789680>"
      ]
     },
     "execution_count": 19,
     "metadata": {},
     "output_type": "execute_result"
    }
   ],
   "source": [
    "dom  # Document Object Model, in html"
   ]
  },
  {
   "cell_type": "markdown",
   "metadata": {},
   "source": [
    "#### select the url in href for all a tags(links)"
   ]
  },
  {
   "cell_type": "code",
   "execution_count": 20,
   "metadata": {},
   "outputs": [
    {
     "name": "stdout",
     "output_type": "stream",
     "text": [
      "https://stackoverflow.com\n",
      "https://stackoverflow.com/talent\n",
      "https://stackoverflow.com/advertising\n",
      "https://stackoverflow.com/users/login?ssrc=head&returnurl=https%3a%2f%2fstackoverflow.com%2f\n",
      "https://stackoverflow.com/users/signup?ssrc=head&returnurl=%2fusers%2fstory%2fcurrent\n",
      "https://stackoverflow.com\n",
      "https://stackoverflow.com\n",
      "https://stackoverflow.com/help\n",
      "https://chat.stackoverflow.com\n",
      "https://meta.stackoverflow.com\n",
      "https://stackoverflow.com/users/signup?ssrc=site_switcher&returnurl=%2fusers%2fstory%2fcurrent\n",
      "https://stackoverflow.com/users/login?ssrc=site_switcher&returnurl=https%3a%2f%2fstackoverflow.com%2f\n",
      "https://stackexchange.com/sites\n",
      "https://stackoverflow.blog\n",
      "https://stackoverflow.com/legal/cookie-policy\n",
      "https://stackoverflow.com/legal/privacy-policy\n",
      "https://stackoverflow.com/legal/terms-of-service/public\n",
      "https://stackoverflow.com/teams\n",
      "https://stackoverflow.com/teams\n",
      "https://stackoverflow.com/talent\n",
      "https://stackoverflow.com/advertising\n",
      "https://www.g2.com/products/stack-overflow-for-teams/\n",
      "https://www.g2.com/products/stack-overflow-for-teams/\n",
      "https://www.fastcompany.com/most-innovative-companies/2019/sectors/enterprise\n",
      "https://stackoverflow.com/talent\n",
      "https://stackoverflow.com/advertising\n",
      "https://stackoverflow.com/questions/55884514/what-is-the-incentive-for-curl-to-release-the-library-for-free/55885729#55885729\n",
      "https://insights.stackoverflow.com/\n",
      "https://stackoverflow.com\n",
      "https://stackoverflow.com\n",
      "https://stackoverflow.com/jobs\n",
      "https://stackoverflow.com/jobs/directory/developer-jobs\n",
      "https://stackoverflow.com/jobs/salary\n",
      "https://stackoverflowbusiness.com\n",
      "https://stackoverflow.com/teams\n",
      "https://stackoverflow.com/talent\n",
      "https://stackoverflow.com/advertising\n",
      "https://stackoverflow.com/enterprise\n",
      "https://stackoverflow.com/company/about\n",
      "https://stackoverflow.com/company/about\n",
      "https://stackoverflow.com/company/press\n",
      "https://stackoverflow.com/company/work-here\n",
      "https://stackoverflow.com/legal\n",
      "https://stackoverflow.com/legal/privacy-policy\n",
      "https://stackoverflow.com/company/contact\n",
      "https://stackexchange.com\n",
      "https://stackoverflow.com\n",
      "https://serverfault.com\n",
      "https://superuser.com\n",
      "https://webapps.stackexchange.com\n",
      "https://askubuntu.com\n",
      "https://webmasters.stackexchange.com\n",
      "https://gamedev.stackexchange.com\n",
      "https://tex.stackexchange.com\n",
      "https://softwareengineering.stackexchange.com\n",
      "https://unix.stackexchange.com\n",
      "https://apple.stackexchange.com\n",
      "https://wordpress.stackexchange.com\n",
      "https://gis.stackexchange.com\n",
      "https://electronics.stackexchange.com\n",
      "https://android.stackexchange.com\n",
      "https://security.stackexchange.com\n",
      "https://dba.stackexchange.com\n",
      "https://drupal.stackexchange.com\n",
      "https://sharepoint.stackexchange.com\n",
      "https://ux.stackexchange.com\n",
      "https://mathematica.stackexchange.com\n",
      "https://salesforce.stackexchange.com\n",
      "https://expressionengine.stackexchange.com\n",
      "https://pt.stackoverflow.com\n",
      "https://blender.stackexchange.com\n",
      "https://networkengineering.stackexchange.com\n",
      "https://crypto.stackexchange.com\n",
      "https://codereview.stackexchange.com\n",
      "https://magento.stackexchange.com\n",
      "https://softwarerecs.stackexchange.com\n",
      "https://dsp.stackexchange.com\n",
      "https://emacs.stackexchange.com\n",
      "https://raspberrypi.stackexchange.com\n",
      "https://ru.stackoverflow.com\n",
      "https://codegolf.stackexchange.com\n",
      "https://es.stackoverflow.com\n",
      "https://ethereum.stackexchange.com\n",
      "https://datascience.stackexchange.com\n",
      "https://arduino.stackexchange.com\n",
      "https://bitcoin.stackexchange.com\n",
      "https://sqa.stackexchange.com\n",
      "https://sound.stackexchange.com\n",
      "https://windowsphone.stackexchange.com\n",
      "https://stackexchange.com/sites#technology\n",
      "https://photo.stackexchange.com\n",
      "https://scifi.stackexchange.com\n",
      "https://graphicdesign.stackexchange.com\n",
      "https://movies.stackexchange.com\n",
      "https://music.stackexchange.com\n",
      "https://worldbuilding.stackexchange.com\n",
      "https://video.stackexchange.com\n",
      "https://cooking.stackexchange.com\n",
      "https://diy.stackexchange.com\n",
      "https://money.stackexchange.com\n",
      "https://academia.stackexchange.com\n",
      "https://law.stackexchange.com\n",
      "https://fitness.stackexchange.com\n",
      "https://gardening.stackexchange.com\n",
      "https://parenting.stackexchange.com\n",
      "https://stackexchange.com/sites#lifearts\n",
      "https://english.stackexchange.com\n",
      "https://skeptics.stackexchange.com\n",
      "https://judaism.stackexchange.com\n",
      "https://travel.stackexchange.com\n",
      "https://christianity.stackexchange.com\n",
      "https://ell.stackexchange.com\n",
      "https://japanese.stackexchange.com\n",
      "https://chinese.stackexchange.com\n",
      "https://french.stackexchange.com\n",
      "https://german.stackexchange.com\n",
      "https://hermeneutics.stackexchange.com\n",
      "https://history.stackexchange.com\n",
      "https://spanish.stackexchange.com\n",
      "https://islam.stackexchange.com\n",
      "https://rus.stackexchange.com\n",
      "https://russian.stackexchange.com\n",
      "https://gaming.stackexchange.com\n",
      "https://bicycles.stackexchange.com\n",
      "https://rpg.stackexchange.com\n",
      "https://anime.stackexchange.com\n",
      "https://puzzling.stackexchange.com\n",
      "https://mechanics.stackexchange.com\n",
      "https://boardgames.stackexchange.com\n",
      "https://bricks.stackexchange.com\n",
      "https://homebrew.stackexchange.com\n",
      "https://martialarts.stackexchange.com\n",
      "https://outdoors.stackexchange.com\n",
      "https://poker.stackexchange.com\n",
      "https://chess.stackexchange.com\n",
      "https://sports.stackexchange.com\n",
      "https://stackexchange.com/sites#culturerecreation\n",
      "https://mathoverflow.net\n",
      "https://math.stackexchange.com\n",
      "https://stats.stackexchange.com\n",
      "https://cstheory.stackexchange.com\n",
      "https://physics.stackexchange.com\n",
      "https://chemistry.stackexchange.com\n",
      "https://biology.stackexchange.com\n",
      "https://cs.stackexchange.com\n",
      "https://philosophy.stackexchange.com\n",
      "https://linguistics.stackexchange.com\n",
      "https://psychology.stackexchange.com\n",
      "https://scicomp.stackexchange.com\n",
      "https://stackexchange.com/sites#science\n",
      "https://meta.stackexchange.com\n",
      "https://stackapps.com\n",
      "https://api.stackexchange.com\n",
      "https://data.stackexchange.com\n",
      "https://stackoverflow.blog?blb=1\n",
      "https://www.facebook.com/officialstackoverflow/\n",
      "https://twitter.com/stackoverflow\n",
      "https://linkedin.com/company/stack-overflow\n",
      "https://creativecommons.org/licenses/by-sa/4.0/\n",
      "https://stackoverflow.blog/2009/06/25/attribution-required/\n"
     ]
    }
   ],
   "source": [
    "for link in dom.xpath('//a/@href'):\n",
    "    if str(link).startswith('https'):\n",
    "        print(link)"
   ]
  },
  {
   "cell_type": "markdown",
   "metadata": {},
   "source": [
    "### Task 3 - Get Image data"
   ]
  },
  {
   "cell_type": "code",
   "execution_count": 21,
   "metadata": {},
   "outputs": [],
   "source": [
    "URL = 'https://http.cat/200'\n",
    "connection = urllib.request.Request(URL)"
   ]
  },
  {
   "cell_type": "code",
   "execution_count": 48,
   "metadata": {},
   "outputs": [
    {
     "name": "stdout",
     "output_type": "stream",
     "text": [
      "\n",
      "    connection.unverifiable      =False\n",
      "    connection.type              ='https'\n",
      "    connection.full_url          ='https://http.cat/200'\n",
      "    connection.host              ='http.cat'\n",
      "    connection.origin_req_host   ='http.cat'\n",
      "    \n",
      "    connection.get_method()      ='GET'\n",
      "    connection.headers           ={}\n",
      "    connection.header_items()    =[]\n",
      "    connection.unredirected_hdrs ={}\n",
      "\n"
     ]
    }
   ],
   "source": [
    "print(f'''\n",
    "    {connection.unverifiable      =}\n",
    "    {connection.type              =}\n",
    "    {connection.full_url          =}\n",
    "    {connection.host              =}\n",
    "    {connection.origin_req_host   =}\n",
    "    \n",
    "    {connection.get_method()      =}\n",
    "    {connection.headers           =}\n",
    "    {connection.header_items()    =}\n",
    "    {connection.unredirected_hdrs =}\n",
    "''')"
   ]
  },
  {
   "cell_type": "code",
   "execution_count": 49,
   "metadata": {},
   "outputs": [],
   "source": [
    "connection.data"
   ]
  },
  {
   "cell_type": "code",
   "execution_count": 64,
   "metadata": {},
   "outputs": [],
   "source": [
    "URL = 'https://http.cat/200.jpg'\n",
    "connection = urllib.request.urlopen(URL)"
   ]
  },
  {
   "cell_type": "code",
   "execution_count": 65,
   "metadata": {},
   "outputs": [
    {
     "name": "stdout",
     "output_type": "stream",
     "text": [
      "\n",
      "    connection.url    = 'https://http.cat/200.jpg'\n",
      "    connection.status = 200\n",
      "    connection.reason = 'OK'\n",
      "    connection.msg    = 'OK'\n",
      "    connection.code   = 200\n",
      "\n"
     ]
    }
   ],
   "source": [
    "print(f'''\n",
    "    {connection.url    = }\n",
    "    {connection.status = }\n",
    "    {connection.reason = }\n",
    "    {connection.msg    = }\n",
    "    {connection.code   = }\n",
    "''')"
   ]
  },
  {
   "cell_type": "code",
   "execution_count": 67,
   "metadata": {},
   "outputs": [],
   "source": [
    "data = connection.read()"
   ]
  },
  {
   "cell_type": "code",
   "execution_count": 68,
   "metadata": {},
   "outputs": [
    {
     "name": "stdout",
     "output_type": "stream",
     "text": [
      "['__abstractmethods__', '__class__', '__del__', '__delattr__', '__dict__', '__dir__', '__doc__', '__enter__', '__eq__', '__exit__', '__format__', '__ge__', '__getattribute__', '__gt__', '__hash__', '__init__', '__init_subclass__', '__iter__', '__le__', '__lt__', '__module__', '__ne__', '__new__', '__next__', '__reduce__', '__reduce_ex__', '__repr__', '__setattr__', '__sizeof__', '__str__', '__subclasshook__', '_abc_impl', '_checkClosed', '_checkReadable', '_checkSeekable', '_checkWritable', '_check_close', '_close_conn', '_get_chunk_left', '_method', '_peek_chunked', '_read1_chunked', '_read_and_discard_trailer', '_read_next_chunk_size', '_read_status', '_readall_chunked', '_readinto_chunked', '_safe_read', '_safe_readinto', 'begin', 'chunk_left', 'chunked', 'close', 'closed', 'code', 'debuglevel', 'detach', 'fileno', 'flush', 'fp', 'getcode', 'getheader', 'getheaders', 'geturl', 'headers', 'info', 'isatty', 'isclosed', 'length', 'msg', 'peek', 'read', 'read1', 'readable', 'readinto', 'readinto1', 'readline', 'readlines', 'reason', 'seek', 'seekable', 'status', 'tell', 'truncate', 'url', 'version', 'will_close', 'writable', 'write', 'writelines']\n"
     ]
    }
   ],
   "source": [
    "print(dir(connection))"
   ]
  },
  {
   "cell_type": "code",
   "execution_count": 69,
   "metadata": {},
   "outputs": [
    {
     "data": {
      "text/plain": [
       "<http.client.HTTPMessage at 0x1f785859df0>"
      ]
     },
     "execution_count": 69,
     "metadata": {},
     "output_type": "execute_result"
    }
   ],
   "source": [
    "connection.headers"
   ]
  },
  {
   "cell_type": "code",
   "execution_count": 70,
   "metadata": {},
   "outputs": [
    {
     "data": {
      "text/plain": [
       "bytes"
      ]
     },
     "execution_count": 70,
     "metadata": {},
     "output_type": "execute_result"
    }
   ],
   "source": [
    "type(data)"
   ]
  },
  {
   "cell_type": "code",
   "execution_count": null,
   "metadata": {},
   "outputs": [],
   "source": []
  }
 ],
 "metadata": {
  "kernelspec": {
   "display_name": "Python 3.8.2 64-bit",
   "language": "python",
   "name": "python38264bit9d9bc96b9f9b47279ec6d81cef01a82e"
  },
  "language_info": {
   "codemirror_mode": {
    "name": "ipython",
    "version": 3
   },
   "file_extension": ".py",
   "mimetype": "text/x-python",
   "name": "python",
   "nbconvert_exporter": "python",
   "pygments_lexer": "ipython3",
   "version": "3.8.3"
  }
 },
 "nbformat": 4,
 "nbformat_minor": 4
}
