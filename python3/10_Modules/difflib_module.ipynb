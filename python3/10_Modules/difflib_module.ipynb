{
 "cells": [
  {
   "cell_type": "code",
   "execution_count": 1,
   "id": "5a024707",
   "metadata": {},
   "outputs": [],
   "source": [
    "import difflib\n",
    "from IPython.display import HTML"
   ]
  },
  {
   "cell_type": "code",
   "execution_count": 2,
   "id": "06bc97a5",
   "metadata": {},
   "outputs": [],
   "source": [
    "text1 = \"\"\"Python is simple language.\n",
    "It is easy to understand and run.\n",
    "\"\"\"\n",
    "\n",
    "text2 = \"\"\"Python is simple language,\n",
    " It is easy to understand and run\n",
    "\"\"\""
   ]
  },
  {
   "cell_type": "code",
   "execution_count": 3,
   "id": "8fe59494",
   "metadata": {},
   "outputs": [
    {
     "data": {
      "text/html": [
       "\n",
       "    <table class=\"diff\" id=\"difflib_chg_to0__top\"\n",
       "           cellspacing=\"0\" cellpadding=\"0\" rules=\"groups\" >\n",
       "        <colgroup></colgroup> <colgroup></colgroup> <colgroup></colgroup>\n",
       "        <colgroup></colgroup> <colgroup></colgroup> <colgroup></colgroup>\n",
       "        \n",
       "        <tbody>\n",
       "            <tr><td class=\"diff_next\" id=\"difflib_chg_to0__0\"><a href=\"#difflib_chg_to0__top\">t</a></td><td class=\"diff_header\" id=\"from0_1\">1</td><td nowrap=\"nowrap\">Python&nbsp;is&nbsp;simple&nbsp;language<span class=\"diff_chg\">.</span></td><td class=\"diff_next\"><a href=\"#difflib_chg_to0__top\">t</a></td><td class=\"diff_header\" id=\"to0_1\">1</td><td nowrap=\"nowrap\">Python&nbsp;is&nbsp;simple&nbsp;language<span class=\"diff_chg\">,</span></td></tr>\n",
       "            <tr><td class=\"diff_next\"></td><td class=\"diff_header\" id=\"from0_2\">2</td><td nowrap=\"nowrap\">It&nbsp;is&nbsp;easy&nbsp;to&nbsp;understand&nbsp;and&nbsp;run<span class=\"diff_sub\">.</span></td><td class=\"diff_next\"></td><td class=\"diff_header\" id=\"to0_2\">2</td><td nowrap=\"nowrap\"><span class=\"diff_add\">&nbsp;</span>It&nbsp;is&nbsp;easy&nbsp;to&nbsp;understand&nbsp;and&nbsp;run</td></tr>\n",
       "        </tbody>\n",
       "    </table>"
      ],
      "text/plain": [
       "<IPython.core.display.HTML object>"
      ]
     },
     "execution_count": 3,
     "metadata": {},
     "output_type": "execute_result"
    }
   ],
   "source": [
    "d = difflib.HtmlDiff()\n",
    "\n",
    "diff = d.make_table(text1.splitlines(), text2.splitlines())\n",
    "\n",
    "HTML(diff)"
   ]
  },
  {
   "cell_type": "code",
   "execution_count": 4,
   "id": "01685cb5",
   "metadata": {},
   "outputs": [],
   "source": [
    "text1 = \"\"\"Python is simple language.\n",
    "It is easy to understand and run.\n",
    "I am happy to learn it!\n",
    "\"\"\"\n",
    "\n",
    "text2 = \"\"\"Python is simple language,\n",
    " It is easy to understand and run\n",
    "I'm happy to learn it.\n",
    "\n",
    "\"\"\""
   ]
  },
  {
   "cell_type": "code",
   "execution_count": 5,
   "id": "cc1f3dcf",
   "metadata": {},
   "outputs": [
    {
     "data": {
      "text/html": [
       "\n",
       "    <table class=\"diff\" id=\"difflib_chg_to1__top\"\n",
       "           cellspacing=\"0\" cellpadding=\"0\" rules=\"groups\" >\n",
       "        <colgroup></colgroup> <colgroup></colgroup> <colgroup></colgroup>\n",
       "        <colgroup></colgroup> <colgroup></colgroup> <colgroup></colgroup>\n",
       "        \n",
       "        <tbody>\n",
       "            <tr><td class=\"diff_next\" id=\"difflib_chg_to1__0\"><a href=\"#difflib_chg_to1__top\">t</a></td><td class=\"diff_header\" id=\"from1_1\">1</td><td nowrap=\"nowrap\">Python&nbsp;is&nbsp;simple&nbsp;language<span class=\"diff_chg\">.</span></td><td class=\"diff_next\"><a href=\"#difflib_chg_to1__top\">t</a></td><td class=\"diff_header\" id=\"to1_1\">1</td><td nowrap=\"nowrap\">Python&nbsp;is&nbsp;simple&nbsp;language<span class=\"diff_chg\">,</span></td></tr>\n",
       "            <tr><td class=\"diff_next\"></td><td class=\"diff_header\" id=\"from1_2\">2</td><td nowrap=\"nowrap\">It&nbsp;is&nbsp;easy&nbsp;to&nbsp;understand&nbsp;and&nbsp;run<span class=\"diff_sub\">.</span></td><td class=\"diff_next\"></td><td class=\"diff_header\" id=\"to1_2\">2</td><td nowrap=\"nowrap\"><span class=\"diff_add\">&nbsp;</span>It&nbsp;is&nbsp;easy&nbsp;to&nbsp;understand&nbsp;and&nbsp;run</td></tr>\n",
       "            <tr><td class=\"diff_next\"></td><td class=\"diff_header\" id=\"from1_3\">3</td><td nowrap=\"nowrap\">I<span class=\"diff_chg\">&nbsp;a</span>m&nbsp;happy&nbsp;to&nbsp;learn&nbsp;it<span class=\"diff_chg\">!</span></td><td class=\"diff_next\"></td><td class=\"diff_header\" id=\"to1_3\">3</td><td nowrap=\"nowrap\">I<span class=\"diff_chg\">'</span>m&nbsp;happy&nbsp;to&nbsp;learn&nbsp;it<span class=\"diff_chg\">.</span></td></tr>\n",
       "            <tr><td class=\"diff_next\"></td><td class=\"diff_header\"></td><td nowrap=\"nowrap\"></td><td class=\"diff_next\"></td><td class=\"diff_header\" id=\"to1_4\">4</td><td nowrap=\"nowrap\"><span class=\"diff_add\">&nbsp;</span></td></tr>\n",
       "        </tbody>\n",
       "    </table>"
      ],
      "text/plain": [
       "<IPython.core.display.HTML object>"
      ]
     },
     "execution_count": 5,
     "metadata": {},
     "output_type": "execute_result"
    }
   ],
   "source": [
    "d = difflib.HtmlDiff()\n",
    "\n",
    "diff = d.make_table(text1.splitlines(), text2.splitlines())\n",
    "\n",
    "HTML(diff)"
   ]
  },
  {
   "cell_type": "code",
   "execution_count": 10,
   "id": "8fa4e509",
   "metadata": {},
   "outputs": [],
   "source": [
    "def diff_line_table(txt1, txt2, # compare texts\n",
    "                    from_head='', to_head='', # col headings\n",
    "                    num_lines = float('inf')):\n",
    "    \"\"\" Line by line differences in an Html table.\"\"\"\n",
    "    d = difflib.HtmlDiff()\n",
    "    diff = d.make_table(txt1.splitlines(), txt2.splitlines(), from_head, to_head)\n",
    "    style = \"\"\"\n",
    "        <style>\n",
    "            table.diff span.diff_add {color:green}\n",
    "            table.diff span.diff_sub {color:red}\n",
    "            table.diff span.diff_chg {color:orange}\n",
    "        </style>\n",
    "    \n",
    "    \"\"\"\n",
    "    return style + diff"
   ]
  },
  {
   "cell_type": "code",
   "execution_count": 11,
   "id": "ffabce16",
   "metadata": {},
   "outputs": [
    {
     "data": {
      "text/html": [
       "\n",
       "        <style>\n",
       "            table.diff span.diff_add {color:green}\n",
       "            table.diff span.diff_sub {color:red}\n",
       "            table.diff span.diff_chg {color:orange}\n",
       "        </style>\n",
       "    \n",
       "    \n",
       "    <table class=\"diff\" id=\"difflib_chg_to3__top\"\n",
       "           cellspacing=\"0\" cellpadding=\"0\" rules=\"groups\" >\n",
       "        <colgroup></colgroup> <colgroup></colgroup> <colgroup></colgroup>\n",
       "        <colgroup></colgroup> <colgroup></colgroup> <colgroup></colgroup>\n",
       "        \n",
       "        <tbody>\n",
       "            <tr><td class=\"diff_next\" id=\"difflib_chg_to3__0\"><a href=\"#difflib_chg_to3__top\">t</a></td><td class=\"diff_header\" id=\"from3_1\">1</td><td nowrap=\"nowrap\">Python&nbsp;is&nbsp;simple&nbsp;language<span class=\"diff_chg\">.</span></td><td class=\"diff_next\"><a href=\"#difflib_chg_to3__top\">t</a></td><td class=\"diff_header\" id=\"to3_1\">1</td><td nowrap=\"nowrap\">Python&nbsp;is&nbsp;simple&nbsp;language<span class=\"diff_chg\">,</span></td></tr>\n",
       "            <tr><td class=\"diff_next\"></td><td class=\"diff_header\" id=\"from3_2\">2</td><td nowrap=\"nowrap\">It&nbsp;is&nbsp;easy&nbsp;to&nbsp;understand&nbsp;and&nbsp;run<span class=\"diff_sub\">.</span></td><td class=\"diff_next\"></td><td class=\"diff_header\" id=\"to3_2\">2</td><td nowrap=\"nowrap\"><span class=\"diff_add\">&nbsp;</span>It&nbsp;is&nbsp;easy&nbsp;to&nbsp;understand&nbsp;and&nbsp;run</td></tr>\n",
       "            <tr><td class=\"diff_next\"></td><td class=\"diff_header\" id=\"from3_3\">3</td><td nowrap=\"nowrap\">I<span class=\"diff_chg\">&nbsp;a</span>m&nbsp;happy&nbsp;to&nbsp;learn&nbsp;it<span class=\"diff_chg\">!</span></td><td class=\"diff_next\"></td><td class=\"diff_header\" id=\"to3_3\">3</td><td nowrap=\"nowrap\">I<span class=\"diff_chg\">'</span>m&nbsp;happy&nbsp;to&nbsp;learn&nbsp;it<span class=\"diff_chg\">.</span></td></tr>\n",
       "            <tr><td class=\"diff_next\"></td><td class=\"diff_header\"></td><td nowrap=\"nowrap\"></td><td class=\"diff_next\"></td><td class=\"diff_header\" id=\"to3_4\">4</td><td nowrap=\"nowrap\"><span class=\"diff_add\">&nbsp;</span></td></tr>\n",
       "        </tbody>\n",
       "    </table>"
      ],
      "text/plain": [
       "<IPython.core.display.HTML object>"
      ]
     },
     "execution_count": 11,
     "metadata": {},
     "output_type": "execute_result"
    }
   ],
   "source": [
    "HTML(diff_line_table(text1, text2))"
   ]
  },
  {
   "cell_type": "code",
   "execution_count": null,
   "id": "5f290c0c",
   "metadata": {},
   "outputs": [],
   "source": []
  }
 ],
 "metadata": {
  "kernelspec": {
   "display_name": "Python 3 (ipykernel)",
   "language": "python",
   "name": "python3"
  },
  "language_info": {
   "codemirror_mode": {
    "name": "ipython",
    "version": 3
   },
   "file_extension": ".py",
   "mimetype": "text/x-python",
   "name": "python",
   "nbconvert_exporter": "python",
   "pygments_lexer": "ipython3",
   "version": "3.10.0"
  }
 },
 "nbformat": 4,
 "nbformat_minor": 5
}
