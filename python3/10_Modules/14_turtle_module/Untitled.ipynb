{
 "cells": [
  {
   "cell_type": "code",
   "execution_count": 1,
   "metadata": {},
   "outputs": [
    {
     "name": "stdout",
     "output_type": "stream",
     "text": [
      "Collecting ipyturtle\n",
      "  Downloading https://files.pythonhosted.org/packages/00/d0/5994984c1bf84c8f7acdd67787611088ad614266d4cc0b591d034def8092/ipyturtle-0.2.4-py2.py3-none-any.whl (427kB)\n",
      "Requirement already satisfied: ipywidgets>=7.0.0 in c:\\users\\udhayprakash\\appdata\\local\\programs\\python\\python37\\lib\\site-packages (from ipyturtle) (7.5.0)\n",
      "Requirement already satisfied: nbformat>=4.2.0 in c:\\users\\udhayprakash\\appdata\\local\\programs\\python\\python37\\lib\\site-packages (from ipywidgets>=7.0.0->ipyturtle) (4.4.0)\n",
      "Requirement already satisfied: widgetsnbextension~=3.5.0 in c:\\users\\udhayprakash\\appdata\\local\\programs\\python\\python37\\lib\\site-packages (from ipywidgets>=7.0.0->ipyturtle) (3.5.0)\n",
      "Requirement already satisfied: traitlets>=4.3.1 in c:\\users\\udhayprakash\\appdata\\local\\programs\\python\\python37\\lib\\site-packages (from ipywidgets>=7.0.0->ipyturtle) (4.3.2)\n",
      "Requirement already satisfied: ipykernel>=4.5.1 in c:\\users\\udhayprakash\\appdata\\local\\programs\\python\\python37\\lib\\site-packages (from ipywidgets>=7.0.0->ipyturtle) (5.1.1)\n",
      "Requirement already satisfied: ipython>=4.0.0; python_version >= \"3.3\" in c:\\users\\udhayprakash\\appdata\\local\\programs\\python\\python37\\lib\\site-packages (from ipywidgets>=7.0.0->ipyturtle) (7.7.0)\n",
      "Requirement already satisfied: ipython-genutils in c:\\users\\udhayprakash\\appdata\\local\\programs\\python\\python37\\lib\\site-packages (from nbformat>=4.2.0->ipywidgets>=7.0.0->ipyturtle) (0.2.0)\n",
      "Requirement already satisfied: jupyter-core in c:\\users\\udhayprakash\\appdata\\local\\programs\\python\\python37\\lib\\site-packages (from nbformat>=4.2.0->ipywidgets>=7.0.0->ipyturtle) (4.5.0)\n",
      "Requirement already satisfied: jsonschema!=2.5.0,>=2.4 in c:\\users\\udhayprakash\\appdata\\local\\programs\\python\\python37\\lib\\site-packages (from nbformat>=4.2.0->ipywidgets>=7.0.0->ipyturtle) (3.0.1)\n",
      "Requirement already satisfied: notebook>=4.4.1 in c:\\users\\udhayprakash\\appdata\\local\\programs\\python\\python37\\lib\\site-packages (from widgetsnbextension~=3.5.0->ipywidgets>=7.0.0->ipyturtle) (6.0.0)\n",
      "Requirement already satisfied: six in c:\\users\\udhayprakash\\appdata\\roaming\\python\\python37\\site-packages (from traitlets>=4.3.1->ipywidgets>=7.0.0->ipyturtle) (1.12.0)\n",
      "Requirement already satisfied: decorator in c:\\users\\udhayprakash\\appdata\\local\\programs\\python\\python37\\lib\\site-packages (from traitlets>=4.3.1->ipywidgets>=7.0.0->ipyturtle) (4.4.0)\n",
      "Requirement already satisfied: tornado>=4.2 in c:\\users\\udhayprakash\\appdata\\local\\programs\\python\\python37\\lib\\site-packages (from ipykernel>=4.5.1->ipywidgets>=7.0.0->ipyturtle) (6.0.3)\n",
      "Requirement already satisfied: jupyter-client in c:\\users\\udhayprakash\\appdata\\local\\programs\\python\\python37\\lib\\site-packages (from ipykernel>=4.5.1->ipywidgets>=7.0.0->ipyturtle) (5.3.1)\n",
      "Requirement already satisfied: colorama; sys_platform == \"win32\" in c:\\users\\udhayprakash\\appdata\\local\\programs\\python\\python37\\lib\\site-packages (from ipython>=4.0.0; python_version >= \"3.3\"->ipywidgets>=7.0.0->ipyturtle) (0.4.1)\n",
      "Requirement already satisfied: backcall in c:\\users\\udhayprakash\\appdata\\local\\programs\\python\\python37\\lib\\site-packages (from ipython>=4.0.0; python_version >= \"3.3\"->ipywidgets>=7.0.0->ipyturtle) (0.1.0)\n",
      "Requirement already satisfied: jedi>=0.10 in c:\\users\\udhayprakash\\appdata\\local\\programs\\python\\python37\\lib\\site-packages (from ipython>=4.0.0; python_version >= \"3.3\"->ipywidgets>=7.0.0->ipyturtle) (0.14.1)\n",
      "Requirement already satisfied: prompt-toolkit<2.1.0,>=2.0.0 in c:\\users\\udhayprakash\\appdata\\local\\programs\\python\\python37\\lib\\site-packages (from ipython>=4.0.0; python_version >= \"3.3\"->ipywidgets>=7.0.0->ipyturtle) (2.0.9)\n",
      "Requirement already satisfied: pickleshare in c:\\users\\udhayprakash\\appdata\\local\\programs\\python\\python37\\lib\\site-packages (from ipython>=4.0.0; python_version >= \"3.3\"->ipywidgets>=7.0.0->ipyturtle) (0.7.5)\n",
      "Requirement already satisfied: pygments in c:\\users\\udhayprakash\\appdata\\local\\programs\\python\\python37\\lib\\site-packages (from ipython>=4.0.0; python_version >= \"3.3\"->ipywidgets>=7.0.0->ipyturtle) (2.4.2)\n",
      "Requirement already satisfied: setuptools>=18.5 in c:\\users\\udhayprakash\\appdata\\local\\programs\\python\\python37\\lib\\site-packages (from ipython>=4.0.0; python_version >= \"3.3\"->ipywidgets>=7.0.0->ipyturtle) (41.6.0)\n",
      "Requirement already satisfied: attrs>=17.4.0 in c:\\users\\udhayprakash\\appdata\\local\\programs\\python\\python37\\lib\\site-packages (from jsonschema!=2.5.0,>=2.4->nbformat>=4.2.0->ipywidgets>=7.0.0->ipyturtle) (19.1.0)\n",
      "Requirement already satisfied: pyrsistent>=0.14.0 in c:\\users\\udhayprakash\\appdata\\local\\programs\\python\\python37\\lib\\site-packages (from jsonschema!=2.5.0,>=2.4->nbformat>=4.2.0->ipywidgets>=7.0.0->ipyturtle) (0.15.3)\n",
      "Requirement already satisfied: prometheus-client in c:\\users\\udhayprakash\\appdata\\local\\programs\\python\\python37\\lib\\site-packages (from notebook>=4.4.1->widgetsnbextension~=3.5.0->ipywidgets>=7.0.0->ipyturtle) (0.7.1)\n",
      "Requirement already satisfied: pyzmq>=17 in c:\\users\\udhayprakash\\appdata\\local\\programs\\python\\python37\\lib\\site-packages (from notebook>=4.4.1->widgetsnbextension~=3.5.0->ipywidgets>=7.0.0->ipyturtle) (18.0.2)\n",
      "Requirement already satisfied: terminado>=0.8.1 in c:\\users\\udhayprakash\\appdata\\local\\programs\\python\\python37\\lib\\site-packages (from notebook>=4.4.1->widgetsnbextension~=3.5.0->ipywidgets>=7.0.0->ipyturtle) (0.8.2)\n",
      "Requirement already satisfied: nbconvert in c:\\users\\udhayprakash\\appdata\\local\\programs\\python\\python37\\lib\\site-packages (from notebook>=4.4.1->widgetsnbextension~=3.5.0->ipywidgets>=7.0.0->ipyturtle) (5.5.0)\n",
      "Requirement already satisfied: jinja2 in c:\\users\\udhayprakash\\appdata\\local\\programs\\python\\python37\\lib\\site-packages (from notebook>=4.4.1->widgetsnbextension~=3.5.0->ipywidgets>=7.0.0->ipyturtle) (2.10.3)\n",
      "Requirement already satisfied: Send2Trash in c:\\users\\udhayprakash\\appdata\\local\\programs\\python\\python37\\lib\\site-packages (from notebook>=4.4.1->widgetsnbextension~=3.5.0->ipywidgets>=7.0.0->ipyturtle) (1.5.0)\n",
      "Requirement already satisfied: python-dateutil>=2.1 in c:\\users\\udhayprakash\\appdata\\local\\programs\\python\\python37\\lib\\site-packages (from jupyter-client->ipykernel>=4.5.1->ipywidgets>=7.0.0->ipyturtle) (2.8.0)\n",
      "Requirement already satisfied: parso>=0.5.0 in c:\\users\\udhayprakash\\appdata\\local\\programs\\python\\python37\\lib\\site-packages (from jedi>=0.10->ipython>=4.0.0; python_version >= \"3.3\"->ipywidgets>=7.0.0->ipyturtle) (0.5.1)\n",
      "Requirement already satisfied: wcwidth in c:\\users\\udhayprakash\\appdata\\local\\programs\\python\\python37\\lib\\site-packages (from prompt-toolkit<2.1.0,>=2.0.0->ipython>=4.0.0; python_version >= \"3.3\"->ipywidgets>=7.0.0->ipyturtle) (0.1.7)\n",
      "Requirement already satisfied: pywinpty>=0.5; os_name == \"nt\" in c:\\users\\udhayprakash\\appdata\\local\\programs\\python\\python37\\lib\\site-packages (from terminado>=0.8.1->notebook>=4.4.1->widgetsnbextension~=3.5.0->ipywidgets>=7.0.0->ipyturtle) (0.5.5)\n",
      "Requirement already satisfied: entrypoints>=0.2.2 in c:\\users\\udhayprakash\\appdata\\local\\programs\\python\\python37\\lib\\site-packages (from nbconvert->notebook>=4.4.1->widgetsnbextension~=3.5.0->ipywidgets>=7.0.0->ipyturtle) (0.3)\n",
      "Requirement already satisfied: testpath in c:\\users\\udhayprakash\\appdata\\local\\programs\\python\\python37\\lib\\site-packages (from nbconvert->notebook>=4.4.1->widgetsnbextension~=3.5.0->ipywidgets>=7.0.0->ipyturtle) (0.4.2)\n",
      "Requirement already satisfied: mistune>=0.8.1 in c:\\users\\udhayprakash\\appdata\\local\\programs\\python\\python37\\lib\\site-packages (from nbconvert->notebook>=4.4.1->widgetsnbextension~=3.5.0->ipywidgets>=7.0.0->ipyturtle) (0.8.4)\n",
      "Requirement already satisfied: pandocfilters>=1.4.1 in c:\\users\\udhayprakash\\appdata\\local\\programs\\python\\python37\\lib\\site-packages (from nbconvert->notebook>=4.4.1->widgetsnbextension~=3.5.0->ipywidgets>=7.0.0->ipyturtle) (1.4.2)\n",
      "Requirement already satisfied: defusedxml in c:\\users\\udhayprakash\\appdata\\local\\programs\\python\\python37\\lib\\site-packages (from nbconvert->notebook>=4.4.1->widgetsnbextension~=3.5.0->ipywidgets>=7.0.0->ipyturtle) (0.6.0)\n",
      "Requirement already satisfied: bleach in c:\\users\\udhayprakash\\appdata\\local\\programs\\python\\python37\\lib\\site-packages (from nbconvert->notebook>=4.4.1->widgetsnbextension~=3.5.0->ipywidgets>=7.0.0->ipyturtle) (3.1.0)\n",
      "Requirement already satisfied: MarkupSafe>=0.23 in c:\\users\\udhayprakash\\appdata\\local\\programs\\python\\python37\\lib\\site-packages (from jinja2->notebook>=4.4.1->widgetsnbextension~=3.5.0->ipywidgets>=7.0.0->ipyturtle) (1.1.1)\n",
      "Requirement already satisfied: webencodings in c:\\users\\udhayprakash\\appdata\\local\\programs\\python\\python37\\lib\\site-packages (from bleach->nbconvert->notebook>=4.4.1->widgetsnbextension~=3.5.0->ipywidgets>=7.0.0->ipyturtle) (0.5.1)\n",
      "Installing collected packages: ipyturtle\n",
      "Successfully installed ipyturtle-0.2.4\n"
     ]
    }
   ],
   "source": [
    "! pip install ipyturtle"
   ]
  },
  {
   "cell_type": "code",
   "execution_count": 2,
   "metadata": {},
   "outputs": [
    {
     "name": "stderr",
     "output_type": "stream",
     "text": [
      "Enabling notebook extension ipyturtle/extension...\n",
      "      - Validating: ok\n"
     ]
    }
   ],
   "source": [
    "! jupyter nbextension enable --py --sys-prefix ipyturtle"
   ]
  },
  {
   "cell_type": "code",
   "execution_count": 3,
   "metadata": {},
   "outputs": [],
   "source": [
    "# Step 1: Make all the \"turtle\" commands available to us.\n",
    "import turtle\n",
    "\n",
    "# Step 2: Create a new turtle. We'll call it \"bob\"\n",
    "bob = turtle.Turtle()\n",
    "\n",
    "# Step 3: Move in the direction Bob's facing for 50 pixels\n",
    "bob.forward(50)\n",
    "\n",
    "# Step 4: We're done!\n",
    "turtle.done()"
   ]
  },
  {
   "cell_type": "code",
   "execution_count": 4,
   "metadata": {},
   "outputs": [
    {
     "name": "stderr",
     "output_type": "stream",
     "text": [
      "Cloning into 'ipython-turtle-widget'...\n",
      "ERROR: File \"setup.py\" not found. Directory cannot be installed in editable mode: C:\\Users\\udhayPrakash\\Desktop\\PythonMaterial\\python3\\10_Modules\\14_turtle_module\n",
      "Installing c:\\users\\udhayprakash\\appdata\\local\\programs\\python\\python37\\lib\\site-packages\\ipyturtle\\static -> ipyturtle\n",
      "- Validating: ok\n",
      "\n",
      "    To initialize this nbextension in the browser every time the notebook (or other app) loads:\n",
      "    \n",
      "          jupyter nbextension enable ipyturtle --py --sys-prefix\n",
      "    \n",
      "Enabling notebook extension ipyturtle/extension...\n",
      "      - Validating: ok\n"
     ]
    }
   ],
   "source": [
    "! git clone https://github.com/gkvoelkl/ipython-turtle-widget.git\n",
    "! cd ipython-turtle-widget\n",
    "! pip install -e .\n",
    "! jupyter nbextension install --py --symlink --sys-prefix ipyturtle\n",
    "! jupyter nbextension enable --py --sys-prefix ipyturtle"
   ]
  },
  {
   "cell_type": "code",
   "execution_count": null,
   "metadata": {},
   "outputs": [],
   "source": []
  }
 ],
 "metadata": {
  "kernelspec": {
   "display_name": "Python 3",
   "language": "python",
   "name": "python3"
  },
  "language_info": {
   "codemirror_mode": {
    "name": "ipython",
    "version": 3
   },
   "file_extension": ".py",
   "mimetype": "text/x-python",
   "name": "python",
   "nbconvert_exporter": "python",
   "pygments_lexer": "ipython3",
   "version": "3.7.4"
  }
 },
 "nbformat": 4,
 "nbformat_minor": 2
}
