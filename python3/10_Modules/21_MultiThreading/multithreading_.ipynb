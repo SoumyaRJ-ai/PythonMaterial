{
 "cells": [
  {
   "cell_type": "code",
   "execution_count": 1,
   "id": "77240e8c-7858-41cd-9304-e544cdae9e7a",
   "metadata": {},
   "outputs": [
    {
     "name": "stdout",
     "output_type": "stream",
     "text": [
      "Hello World\n"
     ]
    }
   ],
   "source": [
    "import threading\n",
    "\n",
    "# A user defined function is created and\n",
    "# the function is called when a thread is initialized.\n",
    "\n",
    "\n",
    "def MyFunction():\n",
    "    \"\"\"This is a user defined function\"\"\"\n",
    "    print(\"Hello World\")\n",
    "    return\n",
    "\n",
    "\n",
    "def Main():\n",
    "    \"\"\"This is where we create a thread.\n",
    "    Target means run this function when a thread is initiated.\"\"\"\n",
    "    myThread = threading.Thread(target=MyFunction)\n",
    "    myThread.start()  # Starting a thread\n",
    "\n",
    "\n",
    "if __name__ == \"__main__\":\n",
    "    Main()"
   ]
  },
  {
   "cell_type": "code",
   "execution_count": 2,
   "id": "88dd0d45-4566-418b-b5c3-69dfc2b4afbf",
   "metadata": {},
   "outputs": [
    {
     "name": "stdout",
     "output_type": "stream",
     "text": [
      "Given numbers= 12, 13\n",
      "Result = 25\n"
     ]
    }
   ],
   "source": [
    "#!/usr/bin/python\n",
    "\n",
    "\n",
    "## This program adds two given numbers and prints the result.\n",
    "\n",
    "\n",
    "import threading\n",
    "\n",
    "\n",
    "def MyFunction(num1, num2):\n",
    "    \"\"\"This is user defined thread function\"\"\"\n",
    "    print(\"Given numbers= %s, %s\" % (num1, num2))\n",
    "    print(\"Result = %d\" % (int(num1) + int(num2)))\n",
    "    return\n",
    "\n",
    "\n",
    "def Main():\n",
    "    t = threading.Thread(target=MyFunction, args=(12, 13))\n",
    "    t.start()\n",
    "\n",
    "\n",
    "if __name__ == \"__main__\":\n",
    "    Main()"
   ]
  },
  {
   "cell_type": "code",
   "execution_count": 3,
   "id": "421564de-cc4f-4f92-9ec1-4de1d6be1143",
   "metadata": {},
   "outputs": [
    {
     "name": "stdout",
     "output_type": "stream",
     "text": [
      "Thread-10 (ThreadFunction) Starting\n"
     ]
    }
   ],
   "source": [
    "#!/usr/bin/python\n",
    "\n",
    "# default thread name\n",
    "# This multithreading program outputs default thread name\n",
    "# when the thread is being executed.\n",
    "\n",
    "\n",
    "import threading\n",
    "import time\n",
    "\n",
    "\n",
    "def ThreadFunction():\n",
    "    print(threading.current_thread().name, \"Starting\")\n",
    "    time.sleep(2)\n",
    "    print(threading.current_thread().name, \"Exiting\")\n",
    "\n",
    "\n",
    "def Main():\n",
    "    w = threading.Thread(target=ThreadFunction)\n",
    "    w.start()\n",
    "\n",
    "\n",
    "if __name__ == \"__main__\":\n",
    "    Main()"
   ]
  },
  {
   "cell_type": "code",
   "execution_count": 4,
   "id": "21f284ac-8c62-410a-94eb-3652849f747b",
   "metadata": {},
   "outputs": [
    {
     "name": "stdout",
     "output_type": "stream",
     "text": [
      "0 sleeping 5 sec from thread\n",
      "\n",
      "1 sleeping 5 sec from thread\n",
      "\n",
      "2 sleeping 5 sec from thread\n",
      "\n",
      "3 sleeping 5 sec from thread\n",
      "4 sleeping 5 sec from thread\n",
      "\n",
      "\n"
     ]
    }
   ],
   "source": [
    "# thread with function\n",
    "\n",
    "import time\n",
    "from threading import Thread\n",
    "\n",
    "# create function for thread\n",
    "def Tfunc(i):\n",
    "    print(\"%d sleeping 5 sec from thread\\n\" % i)\n",
    "    time.sleep(5)\n",
    "    print(\"\\n %d finished sleeping from thread\" % i)\n",
    "\n",
    "\n",
    "# start the thread for function\n",
    "for i in range(5):\n",
    "    t1 = Thread(target=Tfunc, args=(i,))\n",
    "    t1.start()"
   ]
  },
  {
   "cell_type": "code",
   "execution_count": 8,
   "id": "4b31ac27",
   "metadata": {},
   "outputs": [
    {
     "name": "stderr",
     "output_type": "stream",
     "text": [
      "C:\\Users\\Amma\\AppData\\Local\\Temp/ipykernel_16020/2791346813.py:27: DeprecationWarning: setName() is deprecated, set the name attribute instead\n",
      "  t1.setName('Timer 1')\n",
      "C:\\Users\\Amma\\AppData\\Local\\Temp/ipykernel_16020/2791346813.py:29: DeprecationWarning: setName() is deprecated, set the name attribute instead\n",
      "  t2.setName('Timer 2')\n",
      "(MainThread) Starting thread timers\n",
      "C:\\Users\\Amma\\AppData\\Local\\Temp/ipykernel_16020/2791346813.py:35: DeprecationWarning: getName() is deprecated, get the name attribute instead\n",
      "  logging.debug('We are waiting before canceling %s', t2.getName())\n",
      "(MainThread) We are waiting before canceling Timer 2\n",
      "C:\\Users\\Amma\\AppData\\Local\\Temp/ipykernel_16020/2791346813.py:37: DeprecationWarning: getName() is deprecated, get the name attribute instead\n",
      "  logging.debug('Now canceling %s', t2.getName())\n",
      "(MainThread) Now canceling Timer 2\n",
      "(Timer 1   ) Thread program still running\n"
     ]
    }
   ],
   "source": [
    "# timer.py\n",
    "\n",
    "#!/usr/bin/python\n",
    "\n",
    "\n",
    "## A Timer starts its work after a delay,\n",
    "## and can be canceled at any point within that delay time period.\n",
    "\n",
    "\n",
    "import threading\n",
    "import time\n",
    "import logging\n",
    "\n",
    "\n",
    "logging.basicConfig(\n",
    "    level=logging.DEBUG,\n",
    "    format=\"(%(threadName)-10s) %(message)s\",\n",
    ")\n",
    "\n",
    "\n",
    "def delayed():\n",
    "    logging.debug(\"Thread program still running\")\n",
    "    return\n",
    "\n",
    "\n",
    "def Main():\n",
    "    t1 = threading.Timer(3, delayed)\n",
    "    t1.setName(\"Timer 1\")\n",
    "    t2 = threading.Timer(3, delayed)\n",
    "    t2.setName(\"Timer 2\")\n",
    "\n",
    "    logging.debug(\"Starting thread timers\")\n",
    "    t1.start()\n",
    "    t2.start()\n",
    "\n",
    "    logging.debug(\"We are waiting before canceling %s\", t2.getName())\n",
    "    time.sleep(2)\n",
    "    logging.debug(\"Now canceling %s\", t2.getName())\n",
    "    t2.cancel()\n",
    "\n",
    "\n",
    "if __name__ == \"__main__\":\n",
    "    Main()"
   ]
  },
  {
   "cell_type": "code",
   "execution_count": 5,
   "id": "e1469c5a-86b3-483c-b00f-44ad4a524124",
   "metadata": {},
   "outputs": [
    {
     "name": "stderr",
     "output_type": "stream",
     "text": [
      "(daemon    ) Starting\n",
      "(non-daemon) Starting\n"
     ]
    }
   ],
   "source": [
    "# threading daemon\n",
    "\n",
    "import threading\n",
    "import time\n",
    "import logging\n",
    "\n",
    "\n",
    "def daemon():\n",
    "    logging.debug(\"Starting\")\n",
    "    time.sleep(0.2)\n",
    "    logging.debug(\"Exiting\")\n",
    "\n",
    "\n",
    "def non_daemon():\n",
    "    logging.debug(\"Starting\")\n",
    "    logging.debug(\"Exiting\")\n",
    "\n",
    "\n",
    "logging.basicConfig(\n",
    "    level=logging.DEBUG,\n",
    "    format=\"(%(threadName)-10s) %(message)s\",\n",
    ")\n",
    "\n",
    "d = threading.Thread(name=\"daemon\", target=daemon, daemon=True)\n",
    "\n",
    "t = threading.Thread(name=\"non-daemon\", target=non_daemon)\n",
    "\n",
    "d.start()\n",
    "t.start()"
   ]
  },
  {
   "cell_type": "code",
   "execution_count": 9,
   "id": "b8d17b0c",
   "metadata": {},
   "outputs": [
    {
     "name": "stdout",
     "output_type": "stream",
     "text": [
      "Timer: Timer1 Started\n",
      "Timer: Timer2 Started\n",
      "Main completed\n",
      "Timer1:Fri Apr 22 14:10:24 2022\n",
      "Timer2:Fri Apr 22 14:10:25 2022Timer1:Fri Apr 22 14:10:25 2022\n",
      "\n",
      "Timer1:Fri Apr 22 14:10:26 2022\n",
      "Timer2:Fri Apr 22 14:10:27 2022\n",
      "Timer1:Fri Apr 22 14:10:27 2022\n",
      "Timer1:Fri Apr 22 14:10:28 2022\n",
      "Timer: Timer1Completed\n",
      "Timer2:Fri Apr 22 14:10:29 2022\n",
      "Timer2:Fri Apr 22 14:10:31 2022\n",
      "Timer2:Fri Apr 22 14:10:33 2022\n",
      "Timer: Timer2Completed\n"
     ]
    }
   ],
   "source": [
    "# timer1\n",
    "\n",
    "#!/usr/bin/python\n",
    "\n",
    "\n",
    "from threading import Thread\n",
    "import time\n",
    "\n",
    "\n",
    "def timer(name, delay, repeat):\n",
    "    print(\"Timer: \" + name + \" Started\")\n",
    "\n",
    "    while repeat > 0:\n",
    "        time.sleep(delay)\n",
    "        print(name + \":\" + str(time.ctime(time.time())))\n",
    "        repeat -= 1\n",
    "    print(\"Timer: \" + name + \"Completed\")\n",
    "\n",
    "\n",
    "def Main():\n",
    "    thread1 = Thread(target=timer, args=(\"Timer1\", 1, 5))\n",
    "    thread2 = Thread(target=timer, args=(\"Timer2\", 2, 5))\n",
    "    thread1.start()\n",
    "    thread2.start()\n",
    "\n",
    "    print(\"Main completed\")\n",
    "\n",
    "\n",
    "if __name__ == \"__main__\":\n",
    "    Main()"
   ]
  },
  {
   "cell_type": "code",
   "execution_count": 6,
   "id": "656cc1b5-c68f-433b-ba75-e7ee97d927e9",
   "metadata": {},
   "outputs": [
    {
     "name": "stderr",
     "output_type": "stream",
     "text": [
      "(non-daemon) Exiting\n",
      "(daemon    ) Starting\n",
      "(non-daemon) Starting\n",
      "(non-daemon) Exiting\n",
      "(daemon    ) Exiting\n",
      "(daemon    ) Exiting\n"
     ]
    }
   ],
   "source": [
    "# thread daemon join\n",
    "\n",
    "import threading\n",
    "import time\n",
    "import logging\n",
    "\n",
    "\n",
    "def daemon():\n",
    "    logging.debug(\"Starting\")\n",
    "    time.sleep(0.2)\n",
    "    logging.debug(\"Exiting\")\n",
    "\n",
    "\n",
    "def non_daemon():\n",
    "    logging.debug(\"Starting\")\n",
    "    logging.debug(\"Exiting\")\n",
    "\n",
    "\n",
    "logging.basicConfig(\n",
    "    level=logging.DEBUG,\n",
    "    format=\"(%(threadName)-10s) %(message)s\",\n",
    ")\n",
    "\n",
    "d = threading.Thread(name=\"daemon\", target=daemon, daemon=True)\n",
    "\n",
    "t = threading.Thread(name=\"non-daemon\", target=non_daemon)\n",
    "\n",
    "d.start()\n",
    "t.start()\n",
    "\n",
    "d.join()\n",
    "t.join()"
   ]
  },
  {
   "cell_type": "code",
   "execution_count": 7,
   "id": "b56404b6-7e1b-4d63-8d1a-c58ab22a713b",
   "metadata": {},
   "outputs": [
    {
     "name": "stderr",
     "output_type": "stream",
     "text": [
      "(daemon    ) Starting\n",
      "(non-daemon) Starting\n",
      "(non-daemon) Exiting\n"
     ]
    },
    {
     "name": "stdout",
     "output_type": "stream",
     "text": [
      "d.is_alive() True\n"
     ]
    },
    {
     "name": "stderr",
     "output_type": "stream",
     "text": [
      "(daemon    ) Exiting\n"
     ]
    },
    {
     "name": "stdout",
     "output_type": "stream",
     "text": [
      "Thread-10 (ThreadFunction) Exiting\n",
      "\n",
      " 2 finished sleeping from thread\n",
      " 0 finished sleeping from thread\n",
      "\n",
      "\n",
      " 1 finished sleeping from thread\n",
      "\n",
      " 3 finished sleeping from thread\n",
      " 4 finished sleeping from thread\n",
      "\n"
     ]
    }
   ],
   "source": [
    "# threading_daemon_join_timeout\n",
    "\n",
    "import threading\n",
    "import time\n",
    "import logging\n",
    "\n",
    "\n",
    "def daemon():\n",
    "    logging.debug(\"Starting\")\n",
    "    time.sleep(0.2)\n",
    "    logging.debug(\"Exiting\")\n",
    "\n",
    "\n",
    "def non_daemon():\n",
    "    logging.debug(\"Starting\")\n",
    "    logging.debug(\"Exiting\")\n",
    "\n",
    "\n",
    "logging.basicConfig(\n",
    "    level=logging.DEBUG,\n",
    "    format=\"(%(threadName)-10s) %(message)s\",\n",
    ")\n",
    "\n",
    "d = threading.Thread(name=\"daemon\", target=daemon, daemon=True)\n",
    "\n",
    "t = threading.Thread(name=\"non-daemon\", target=non_daemon)\n",
    "\n",
    "d.start()\n",
    "t.start()\n",
    "\n",
    "d.join(0.1)\n",
    "print(\"d.is_alive()\", d.is_alive())"
   ]
  },
  {
   "cell_type": "code",
   "execution_count": null,
   "id": "edcf2d54-8cb9-4b1d-9500-3d6867895398",
   "metadata": {},
   "outputs": [],
   "source": []
  },
  {
   "cell_type": "code",
   "execution_count": null,
   "id": "4e9186f9-0dd1-4145-a896-f1695fa02793",
   "metadata": {},
   "outputs": [],
   "source": []
  }
 ],
 "metadata": {
  "kernelspec": {
   "display_name": "Python 3 (ipykernel)",
   "language": "python",
   "name": "python3"
  },
  "language_info": {
   "codemirror_mode": {
    "name": "ipython",
    "version": 3
   },
   "file_extension": ".py",
   "mimetype": "text/x-python",
   "name": "python",
   "nbconvert_exporter": "python",
   "pygments_lexer": "ipython3",
   "version": "3.10.0"
  }
 },
 "nbformat": 4,
 "nbformat_minor": 5
}
