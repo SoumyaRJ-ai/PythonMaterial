{
 "cells": [
  {
   "cell_type": "code",
   "execution_count": 1,
   "id": "d4414548-cb9b-48b1-b5c0-254acdb2ca44",
   "metadata": {},
   "outputs": [],
   "source": [
    "import bisect\n",
    "import heapq"
   ]
  },
  {
   "cell_type": "code",
   "execution_count": 2,
   "id": "9a601ca1-0361-4d14-a1af-4f6ed48e22d7",
   "metadata": {},
   "outputs": [
    {
     "data": {
      "text/plain": [
       "['Watermelon', 'loquat', 'Apple', 'Mango']"
      ]
     },
     "execution_count": 2,
     "metadata": {},
     "output_type": "execute_result"
    }
   ],
   "source": [
    "fruits = ['Watermelon', 'loquat', 'Apple', 'Mango']\n",
    "fruits"
   ]
  },
  {
   "cell_type": "code",
   "execution_count": 3,
   "id": "1f0fafc2-c152-421e-aa00-0ff74beea7f1",
   "metadata": {},
   "outputs": [
    {
     "data": {
      "text/plain": [
       "['Apple', 'Mango', 'Watermelon', 'loquat']"
      ]
     },
     "execution_count": 3,
     "metadata": {},
     "output_type": "execute_result"
    }
   ],
   "source": [
    "fruits.sort()\n",
    "fruits"
   ]
  },
  {
   "cell_type": "markdown",
   "id": "3f32e9ac-8049-48f3-899b-09c0de51d0c0",
   "metadata": {},
   "source": [
    "### Inserting an element into sorted list"
   ]
  },
  {
   "cell_type": "code",
   "execution_count": 4,
   "id": "8ebda515-b727-4e24-ab2c-0ed9986bec90",
   "metadata": {},
   "outputs": [
    {
     "data": {
      "text/plain": [
       "['Apple', 'Lemon', 'Mango', 'Watermelon', 'loquat']"
      ]
     },
     "execution_count": 4,
     "metadata": {},
     "output_type": "execute_result"
    }
   ],
   "source": [
    "bisect.insort(fruits, 'Lemon')\n",
    "fruits"
   ]
  },
  {
   "cell_type": "code",
   "execution_count": 5,
   "id": "1fd1e8f1-846d-4270-97ba-59b2d18171af",
   "metadata": {},
   "outputs": [
    {
     "data": {
      "text/plain": [
       "['Apple', 'Lemon', 'loquat', 'Mango', 'Watermelon']"
      ]
     },
     "execution_count": 5,
     "metadata": {},
     "output_type": "execute_result"
    }
   ],
   "source": [
    "fruits.sort(key=str.lower)\n",
    "fruits"
   ]
  },
  {
   "cell_type": "code",
   "execution_count": 6,
   "id": "5ca3ae36-cefb-4a31-a59b-05a891a81d1b",
   "metadata": {},
   "outputs": [
    {
     "data": {
      "text/plain": [
       "['Apple', 'Lemon', 'Lemon', 'loquat', 'Mango', 'Watermelon']"
      ]
     },
     "execution_count": 6,
     "metadata": {},
     "output_type": "execute_result"
    }
   ],
   "source": [
    "bisect.insort(fruits, 'Lemon', key=str.lower)\n",
    "fruits"
   ]
  },
  {
   "cell_type": "code",
   "execution_count": 7,
   "id": "94186a0c-7fcd-436d-beb2-213896b627af",
   "metadata": {},
   "outputs": [],
   "source": [
    "numbers = [1, 4, 7, 19, 34]"
   ]
  },
  {
   "cell_type": "code",
   "execution_count": 8,
   "id": "26f43aed-6758-4955-9f87-a6f8f4bbc17c",
   "metadata": {},
   "outputs": [
    {
     "data": {
      "text/plain": [
       "[1, 4, 7, 10, 19, 34]"
      ]
     },
     "execution_count": 8,
     "metadata": {},
     "output_type": "execute_result"
    }
   ],
   "source": [
    "bisect.insort(numbers, 10)\n",
    "numbers"
   ]
  },
  {
   "cell_type": "code",
   "execution_count": 9,
   "id": "df36f8e2-a22c-47cc-bd5d-4bbc6b4df06e",
   "metadata": {},
   "outputs": [
    {
     "data": {
      "text/plain": [
       "[-10, 1, 4, 7, 10, 19, 34]"
      ]
     },
     "execution_count": 9,
     "metadata": {},
     "output_type": "execute_result"
    }
   ],
   "source": [
    "bisect.insort(numbers, -10)\n",
    "numbers"
   ]
  },
  {
   "cell_type": "code",
   "execution_count": 10,
   "id": "67e295b7-5481-42b1-9714-14c47ae806e1",
   "metadata": {},
   "outputs": [
    {
     "data": {
      "text/plain": [
       "[-10, -10, 1, 4, 7, 10, 19, 34]"
      ]
     },
     "execution_count": 10,
     "metadata": {},
     "output_type": "execute_result"
    }
   ],
   "source": [
    "bisect.insort(numbers, -10)\n",
    "numbers"
   ]
  },
  {
   "cell_type": "markdown",
   "id": "195d2cb7-2d64-41d6-b4dc-c25a90dae540",
   "metadata": {},
   "source": [
    "### bisect"
   ]
  },
  {
   "cell_type": "code",
   "execution_count": 11,
   "id": "103008c5-cd52-4e74-b229-761a099c327b",
   "metadata": {},
   "outputs": [
    {
     "data": {
      "text/plain": [
       "[-10, -10, 1, 4, 7, 10, 19, 34]"
      ]
     },
     "execution_count": 11,
     "metadata": {},
     "output_type": "execute_result"
    }
   ],
   "source": [
    "numbers"
   ]
  },
  {
   "cell_type": "code",
   "execution_count": 12,
   "id": "d67ba53b-518b-4f8b-aff0-113b162ac1c5",
   "metadata": {},
   "outputs": [
    {
     "data": {
      "text/plain": [
       "7"
      ]
     },
     "execution_count": 12,
     "metadata": {},
     "output_type": "execute_result"
    }
   ],
   "source": [
    "bisect.bisect(numbers, 23)  # gives position to insert"
   ]
  },
  {
   "cell_type": "code",
   "execution_count": 13,
   "id": "40452014-b5d0-414f-b645-e90e87b44795",
   "metadata": {},
   "outputs": [
    {
     "data": {
      "text/plain": [
       "3"
      ]
     },
     "execution_count": 13,
     "metadata": {},
     "output_type": "execute_result"
    }
   ],
   "source": [
    "bisect.bisect(numbers, 3.5)"
   ]
  },
  {
   "cell_type": "code",
   "execution_count": 14,
   "id": "b419bce4-8adf-4397-87f6-86621271cfaa",
   "metadata": {},
   "outputs": [
    {
     "data": {
      "text/plain": [
       "2"
      ]
     },
     "execution_count": 14,
     "metadata": {},
     "output_type": "execute_result"
    }
   ],
   "source": [
    "bisect.bisect(numbers, -10)  # same as bisect_right"
   ]
  },
  {
   "cell_type": "code",
   "execution_count": 15,
   "id": "c12e6930-a1c0-4157-be38-2283ee6bfaea",
   "metadata": {},
   "outputs": [
    {
     "data": {
      "text/plain": [
       "0"
      ]
     },
     "execution_count": 15,
     "metadata": {},
     "output_type": "execute_result"
    }
   ],
   "source": [
    "bisect.bisect_left(numbers, -10)"
   ]
  },
  {
   "cell_type": "code",
   "execution_count": 16,
   "id": "bb888ce8-f0f0-4a97-9398-1633591e7e74",
   "metadata": {},
   "outputs": [
    {
     "data": {
      "text/plain": [
       "2"
      ]
     },
     "execution_count": 16,
     "metadata": {},
     "output_type": "execute_result"
    }
   ],
   "source": [
    "bisect.bisect_right(numbers, -10)"
   ]
  },
  {
   "cell_type": "markdown",
   "id": "e5ae1bfa-2326-4f5d-8ffc-399918a9da50",
   "metadata": {},
   "source": [
    "Assignment: Similarly, try 'insort_left' and 'insort_right'"
   ]
  }
 ],
 "metadata": {
  "kernelspec": {
   "display_name": "Python 3 (ipykernel)",
   "language": "python",
   "name": "python3"
  },
  "language_info": {
   "codemirror_mode": {
    "name": "ipython",
    "version": 3
   },
   "file_extension": ".py",
   "mimetype": "text/x-python",
   "name": "python",
   "nbconvert_exporter": "python",
   "pygments_lexer": "ipython3",
   "version": "3.10.0"
  }
 },
 "nbformat": 4,
 "nbformat_minor": 5
}
