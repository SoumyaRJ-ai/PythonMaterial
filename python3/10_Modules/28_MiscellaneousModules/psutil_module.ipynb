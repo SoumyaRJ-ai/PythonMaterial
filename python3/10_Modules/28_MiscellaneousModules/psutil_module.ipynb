{
 "cells": [
  {
   "cell_type": "code",
   "execution_count": 1,
   "metadata": {},
   "outputs": [],
   "source": [
    "import psutil"
   ]
  },
  {
   "cell_type": "code",
   "execution_count": 2,
   "metadata": {},
   "outputs": [
    {
     "name": "stdout",
     "output_type": "stream",
     "text": [
      "['ABOVE_NORMAL_PRIORITY_CLASS', 'AF_LINK', 'AIX', 'AccessDenied', 'BELOW_NORMAL_PRIORITY_CLASS', 'BSD', 'CONN_CLOSE', 'CONN_CLOSE_WAIT', 'CONN_CLOSING', 'CONN_DELETE_TCB', 'CONN_ESTABLISHED', 'CONN_FIN_WAIT1', 'CONN_FIN_WAIT2', 'CONN_LAST_ACK', 'CONN_LISTEN', 'CONN_NONE', 'CONN_SYN_RECV', 'CONN_SYN_SENT', 'CONN_TIME_WAIT', 'Error', 'FREEBSD', 'HIGH_PRIORITY_CLASS', 'IDLE_PRIORITY_CLASS', 'IOPRIO_HIGH', 'IOPRIO_LOW', 'IOPRIO_NORMAL', 'IOPRIO_VERYLOW', 'LINUX', 'MACOS', 'NETBSD', 'NIC_DUPLEX_FULL', 'NIC_DUPLEX_HALF', 'NIC_DUPLEX_UNKNOWN', 'NORMAL_PRIORITY_CLASS', 'NoSuchProcess', 'OPENBSD', 'OSX', 'POSIX', 'POWER_TIME_UNKNOWN', 'POWER_TIME_UNLIMITED', 'PermissionError', 'Popen', 'Process', 'ProcessLookupError', 'REALTIME_PRIORITY_CLASS', 'STATUS_DEAD', 'STATUS_DISK_SLEEP', 'STATUS_IDLE', 'STATUS_LOCKED', 'STATUS_PARKED', 'STATUS_RUNNING', 'STATUS_SLEEPING', 'STATUS_STOPPED', 'STATUS_TRACING_STOP', 'STATUS_WAITING', 'STATUS_WAKING', 'STATUS_ZOMBIE', 'SUNOS', 'TimeoutExpired', 'WINDOWS', 'ZombieProcess', '_LOWEST_PID', '_PY3', '_SENTINEL', '_SubprocessTimeoutExpired', '_TOTAL_PHYMEM', '__all__', '__author__', '__builtins__', '__cached__', '__doc__', '__file__', '__loader__', '__name__', '__package__', '__path__', '__spec__', '__version__', '_as_dict_attrnames', '_assert_pid_not_reused', '_common', '_compat', '_cpu_busy_time', '_cpu_times_deltas', '_cpu_tot_time', '_last_cpu_times', '_last_cpu_times_2', '_last_per_cpu_times', '_last_per_cpu_times_2', '_pmap', '_ppid_map', '_pprint_secs', '_psplatform', '_psutil_windows', '_pswindows', '_set_debug', '_timer', '_wrap_numbers', 'boot_time', 'collections', 'contextlib', 'cpu_count', 'cpu_freq', 'cpu_percent', 'cpu_stats', 'cpu_times', 'cpu_times_percent', 'datetime', 'disk_io_counters', 'disk_partitions', 'disk_usage', 'functools', 'getloadavg', 'long', 'net_connections', 'net_if_addrs', 'net_if_stats', 'net_io_counters', 'os', 'pid_exists', 'pids', 'process_iter', 'pwd', 'sensors_battery', 'signal', 'subprocess', 'swap_memory', 'sys', 'test', 'threading', 'time', 'users', 'version_info', 'virtual_memory', 'wait_procs', 'win_service_get', 'win_service_iter']\n"
     ]
    }
   ],
   "source": [
    "print(dir(psutil))"
   ]
  },
  {
   "cell_type": "code",
   "execution_count": 3,
   "metadata": {},
   "outputs": [
    {
     "name": "stdout",
     "output_type": "stream",
     "text": [
      " \n",
      "    psutil.LINUX   =False\n",
      "    psutil.MACOS   =False\n",
      "    psutil.NETBSD  =False\n",
      "    psutil.FREEBSD =False\n",
      "    psutil.AIX     =False\n",
      "    psutil.BSD     =False\n",
      "    psutil.OPENBSD =False\n",
      "    psutil.OSX     =False\n",
      "    psutil.POSIX   =False\n",
      "    psutil.WINDOWS =True\n",
      "    psutil.SUNOS   =False\n",
      "\n",
      "\n"
     ]
    }
   ],
   "source": [
    "print(\n",
    "    f\"\"\" \n",
    "    {psutil.LINUX   =}\n",
    "    {psutil.MACOS   =}\n",
    "    {psutil.NETBSD  =}\n",
    "    {psutil.FREEBSD =}\n",
    "    {psutil.AIX     =}\n",
    "    {psutil.BSD     =}\n",
    "    {psutil.OPENBSD =}\n",
    "    {psutil.OSX     =}\n",
    "    {psutil.POSIX   =}\n",
    "    {psutil.WINDOWS =}\n",
    "    {psutil.SUNOS   =}\n",
    "\n",
    "\"\"\"\n",
    ")"
   ]
  },
  {
   "cell_type": "code",
   "execution_count": 4,
   "metadata": {},
   "outputs": [
    {
     "data": {
      "text/plain": [
       "scputimes(user=176994.703125, system=95601.43750000047, idle=2400337.5468749995, interrupt=4453.78125, dpc=3230.765625)"
      ]
     },
     "execution_count": 4,
     "metadata": {},
     "output_type": "execute_result"
    }
   ],
   "source": [
    "psutil.cpu_times()  # returns system CPU times as a named tuple"
   ]
  },
  {
   "cell_type": "markdown",
   "metadata": {},
   "source": [
    "```\n",
    "    Parameters:\n",
    "\n",
    "        user – time spent by normal processes executing in user mode\n",
    "        system – time spent by processes executing in kernel mode\n",
    "        idle – time when system was idle\n",
    "        nice – time spent by priority processes executing in user mode\n",
    "        iowait – time spent waiting for I/O to complete. This is not accounted in idle time counter.\n",
    "        irq – time spent for servicing hardware interrupts\n",
    "        softirq – time spent for servicing software interrupts\n",
    "        steal – time spent by other operating systems running in a virtualized environment\n",
    "        guest – time spent running a virtual CPU for guest operating systems under the control of the Linux kernel\n",
    "```"
   ]
  },
  {
   "cell_type": "code",
   "execution_count": 5,
   "metadata": {},
   "outputs": [
    {
     "data": {
      "text/plain": [
       "39.0"
      ]
     },
     "execution_count": 5,
     "metadata": {},
     "output_type": "execute_result"
    }
   ],
   "source": [
    "psutil.cpu_percent(interval=1)"
   ]
  },
  {
   "cell_type": "code",
   "execution_count": 6,
   "metadata": {},
   "outputs": [
    {
     "name": "stdout",
     "output_type": "stream",
     "text": [
      "Number of cores in system           : 8\n",
      "Number of physical cores in system  : 4\n"
     ]
    }
   ],
   "source": [
    "print(\"Number of cores in system           :\", psutil.cpu_count(logical=True))\n",
    "print(\"Number of physical cores in system  :\", psutil.cpu_count(logical=False))"
   ]
  },
  {
   "cell_type": "markdown",
   "metadata": {},
   "source": [
    "- Logical core is calculated as the number of physical cores multiplied by the number of threads that can run on each core. \n",
    "- In the absence of logical core, it only counts a number of physical cores."
   ]
  },
  {
   "cell_type": "code",
   "execution_count": 7,
   "metadata": {},
   "outputs": [
    {
     "name": "stdout",
     "output_type": "stream",
     "text": [
      "CPU Statistics scpustats(ctx_switches=2444188354, interrupts=41139840, soft_interrupts=0, syscalls=64067510)\n"
     ]
    }
   ],
   "source": [
    "print(\"CPU Statistics\", psutil.cpu_stats())"
   ]
  },
  {
   "cell_type": "markdown",
   "metadata": {},
   "source": [
    "```\n",
    "    ctx_switches    – number of context switches since boot.\n",
    "    interrupts      – number of interrupts since boot.\n",
    "    soft_interrupts – number of software interrupts since boot.\n",
    "    syscalls        – number of system calls since boot. Always set to 0 in Ubuntu.\n",
    "```"
   ]
  },
  {
   "cell_type": "code",
   "execution_count": 8,
   "metadata": {},
   "outputs": [
    {
     "data": {
      "text/plain": [
       "scpufreq(current=1500.0, min=0.0, max=1800.0)"
      ]
     },
     "execution_count": 8,
     "metadata": {},
     "output_type": "execute_result"
    }
   ],
   "source": [
    "psutil.cpu_freq()"
   ]
  },
  {
   "cell_type": "markdown",
   "metadata": {},
   "source": [
    " - a tuple that includes current, min and max frequencies expressed in Mhz. \n",
    " - on ubuntu current frequency reports the real-time value. Whereas on all other platforms it represents the nominal “fixed” value."
   ]
  },
  {
   "cell_type": "code",
   "execution_count": 9,
   "metadata": {},
   "outputs": [
    {
     "data": {
      "text/plain": [
       "(0.0, 0.0, 0.0)"
      ]
     },
     "execution_count": 9,
     "metadata": {},
     "output_type": "execute_result"
    }
   ],
   "source": [
    "psutil.getloadavg()"
   ]
  },
  {
   "cell_type": "markdown",
   "metadata": {},
   "source": [
    "- This function gives the average system load in last 1, 5 and 15 minutes as a tuple. \n",
    "- The load represents the processes which are in a runnable state, either using the CPU or waiting to use the CPU (e.g. waiting for disk I/O)."
   ]
  },
  {
   "cell_type": "code",
   "execution_count": 10,
   "metadata": {},
   "outputs": [
    {
     "data": {
      "text/plain": [
       "svmem(total=8464355328, available=738025472, percent=91.3, used=7726329856, free=738025472)"
      ]
     },
     "execution_count": 10,
     "metadata": {},
     "output_type": "execute_result"
    }
   ],
   "source": [
    "psutil.virtual_memory()"
   ]
  },
  {
   "cell_type": "markdown",
   "metadata": {},
   "source": [
    "- gives system memory usage in bytes. \n",
    "- The sum of used and available may or may not be equal to total. \n",
    "- In order to get details of free physical memory this function is used.\n",
    "```\n",
    "    Parameters:\n",
    "\n",
    "    total     – total physical memory excluding swap.\n",
    "    available – the memory that can be given instantly to processes without the system going into swap.\n",
    "    used      – memory used.\n",
    "    free      – memory not used at and is readily available\n",
    "    active    – memory currently in use or very recently used.\n",
    "    inactive  – memory that is marked as not used.\n",
    "    buffers   – cache data like file system metadata.\n",
    "    cached    – cached data\n",
    "    shared    – memory that may be accessed by multiple processes.\n",
    "```"
   ]
  },
  {
   "cell_type": "code",
   "execution_count": 11,
   "metadata": {},
   "outputs": [
    {
     "data": {
      "text/plain": [
       "sswap(total=14824062976, used=10468253696, free=4355809280, percent=70.6, sin=0, sout=0)"
      ]
     },
     "execution_count": 11,
     "metadata": {},
     "output_type": "execute_result"
    }
   ],
   "source": [
    "psutil.swap_memory()"
   ]
  },
  {
   "cell_type": "markdown",
   "metadata": {},
   "source": [
    "This function provides details of swap memory statistics as a tuple.\n",
    "\n",
    "```\n",
    "Parameters:\n",
    "    total   – total swap memory in bytes\n",
    "    used    – used swap memory in bytes\n",
    "    free    – free swap memory in bytes\n",
    "    percent – the percentage usage that is calculated as (total – available) / total * 100\n",
    "    sin     – the number of bytes the system has swapped in from disk\n",
    "    sout    – the number of bytes the system has swapped out from disk\n",
    "```"
   ]
  },
  {
   "cell_type": "code",
   "execution_count": 12,
   "metadata": {},
   "outputs": [
    {
     "data": {
      "text/plain": [
       "[sdiskpart(device='C:\\\\', mountpoint='C:\\\\', fstype='NTFS', opts='rw,fixed', maxfile=255, maxpath=260),\n",
       " sdiskpart(device='D:\\\\', mountpoint='D:\\\\', fstype='NTFS', opts='rw,fixed', maxfile=255, maxpath=260),\n",
       " sdiskpart(device='G:\\\\', mountpoint='G:\\\\', fstype='FAT32', opts='rw,fixed', maxfile=256, maxpath=260)]"
      ]
     },
     "execution_count": 12,
     "metadata": {},
     "output_type": "execute_result"
    }
   ],
   "source": [
    "psutil.disk_partitions()"
   ]
  },
  {
   "cell_type": "markdown",
   "metadata": {},
   "source": [
    "- This function provides the details of all mounted disk partitions as a list of tuples including device, mount point and filesystem type."
   ]
  },
  {
   "cell_type": "code",
   "execution_count": 13,
   "metadata": {},
   "outputs": [
    {
     "data": {
      "text/plain": [
       "sdiskusage(total=1000187359232, used=472690073600, free=527497285632, percent=47.3)"
      ]
     },
     "execution_count": 13,
     "metadata": {},
     "output_type": "execute_result"
    }
   ],
   "source": [
    "psutil.disk_usage(\"/\")  # any path"
   ]
  },
  {
   "cell_type": "markdown",
   "metadata": {},
   "source": [
    "- This function gives disk usage statistics as a tuple for a given path. Total, used and free space are expressed in bytes, along with the percentage usage."
   ]
  },
  {
   "cell_type": "code",
   "execution_count": 14,
   "metadata": {},
   "outputs": [
    {
     "data": {
      "text/plain": [
       "snetio(bytes_sent=1145750436, bytes_recv=4595195461, packets_sent=2502529, packets_recv=4716540, errin=0, errout=0, dropin=0, dropout=0)"
      ]
     },
     "execution_count": 14,
     "metadata": {},
     "output_type": "execute_result"
    }
   ],
   "source": [
    "psutil.net_io_counters()"
   ]
  },
  {
   "cell_type": "markdown",
   "metadata": {},
   "source": [
    "- This function gives the details of network Input output statistics as a tuple.\n",
    "\n",
    "```\n",
    "    Parameters:\n",
    "\n",
    "        bytes_sent   – number of bytes sent\n",
    "        bytes_recv   – number of bytes received\n",
    "        packets_sent – number of packets sent\n",
    "        packets_recv – number of packets received\n",
    "        errin        – total number of errors while receiving\n",
    "        errout       – total number of errors while sending\n",
    "        dropin       – total number of incoming packets which were dropped\n",
    "        dropout      – total number of outgoing packets which were dropped\n",
    "```"
   ]
  },
  {
   "cell_type": "code",
   "execution_count": 15,
   "metadata": {},
   "outputs": [
    {
     "name": "stdout",
     "output_type": "stream",
     "text": [
      "sconn(fd=-1, family=<AddressFamily.AF_INET: 2>, type=<SocketKind.SOCK_STREAM: 1>, laddr=addr(ip='127.0.0.1', port=51162), raddr=addr(ip='127.0.0.1', port=51161), status='ESTABLISHED', pid=49928) \n",
      "\n",
      "\n",
      "sconn(fd=-1, family=<AddressFamily.AF_INET: 2>, type=<SocketKind.SOCK_STREAM: 1>, laddr=addr(ip='192.168.55.101', port=53625), raddr=addr(ip='34.127.27.84', port=443), status='ESTABLISHED', pid=24900) \n",
      "\n",
      "\n",
      "sconn(fd=-1, family=<AddressFamily.AF_INET: 2>, type=<SocketKind.SOCK_STREAM: 1>, laddr=addr(ip='127.0.0.1', port=51418), raddr=addr(ip='127.0.0.1', port=51419), status='ESTABLISHED', pid=35128) \n",
      "\n",
      "\n",
      "sconn(fd=-1, family=<AddressFamily.AF_INET: 2>, type=<SocketKind.SOCK_STREAM: 1>, laddr=addr(ip='192.168.55.101', port=51294), raddr=addr(ip='45.33.64.214', port=443), status='TIME_WAIT', pid=0) \n",
      "\n",
      "\n",
      "sconn(fd=-1, family=<AddressFamily.AF_INET: 2>, type=<SocketKind.SOCK_STREAM: 1>, laddr=addr(ip='127.0.0.1', port=51438), raddr=addr(ip='127.0.0.1', port=51437), status='ESTABLISHED', pid=49928) \n",
      "\n",
      "\n",
      "sconn(fd=-1, family=<AddressFamily.AF_INET: 2>, type=<SocketKind.SOCK_STREAM: 1>, laddr=addr(ip='0.0.0.0', port=6646), raddr=(), status='LISTEN', pid=2096) \n",
      "\n",
      "\n",
      "sconn(fd=-1, family=<AddressFamily.AF_INET: 2>, type=<SocketKind.SOCK_STREAM: 1>, laddr=addr(ip='127.0.0.1', port=51426), raddr=addr(ip='127.0.0.1', port=51427), status='ESTABLISHED', pid=35128) \n",
      "\n",
      "\n",
      "sconn(fd=-1, family=<AddressFamily.AF_INET6: 23>, type=<SocketKind.SOCK_STREAM: 1>, laddr=addr(ip='::', port=135), raddr=(), status='LISTEN', pid=1440) \n",
      "\n",
      "\n",
      "sconn(fd=-1, family=<AddressFamily.AF_INET: 2>, type=<SocketKind.SOCK_STREAM: 1>, laddr=addr(ip='127.0.0.1', port=6342), raddr=(), status='LISTEN', pid=21656) \n",
      "\n",
      "\n",
      "sconn(fd=-1, family=<AddressFamily.AF_INET: 2>, type=<SocketKind.SOCK_STREAM: 1>, laddr=addr(ip='127.0.0.1', port=51393), raddr=addr(ip='127.0.0.1', port=51392), status='ESTABLISHED', pid=35128) \n",
      "\n",
      "\n",
      "sconn(fd=-1, family=<AddressFamily.AF_INET: 2>, type=<SocketKind.SOCK_STREAM: 1>, laddr=addr(ip='127.0.0.1', port=55616), raddr=addr(ip='127.0.0.1', port=55615), status='ESTABLISHED', pid=24892) \n",
      "\n",
      "\n",
      "sconn(fd=-1, family=<AddressFamily.AF_INET: 2>, type=<SocketKind.SOCK_STREAM: 1>, laddr=addr(ip='127.0.0.1', port=51051), raddr=addr(ip='127.0.0.1', port=65481), status='ESTABLISHED', pid=21852) \n",
      "\n",
      "\n",
      "sconn(fd=-1, family=<AddressFamily.AF_INET: 2>, type=<SocketKind.SOCK_STREAM: 1>, laddr=addr(ip='127.0.0.1', port=1537), raddr=(), status='LISTEN', pid=3892) \n",
      "\n",
      "\n",
      "sconn(fd=-1, family=<AddressFamily.AF_INET: 2>, type=<SocketKind.SOCK_STREAM: 1>, laddr=addr(ip='192.168.55.101', port=51270), raddr=addr(ip='170.114.15.109', port=443), status='CLOSE_WAIT', pid=7288) \n",
      "\n",
      "\n",
      "sconn(fd=-1, family=<AddressFamily.AF_INET: 2>, type=<SocketKind.SOCK_STREAM: 1>, laddr=addr(ip='127.0.0.1', port=64658), raddr=addr(ip='127.0.0.1', port=64659), status='ESTABLISHED', pid=46932) \n",
      "\n",
      "\n",
      "sconn(fd=-1, family=<AddressFamily.AF_INET: 2>, type=<SocketKind.SOCK_DGRAM: 2>, laddr=addr(ip='127.0.0.1', port=64985), raddr=(), status='NONE', pid=24900) \n",
      "\n",
      "\n",
      "sconn(fd=-1, family=<AddressFamily.AF_INET: 2>, type=<SocketKind.SOCK_DGRAM: 2>, laddr=addr(ip='0.0.0.0', port=6646), raddr=(), status='NONE', pid=2096) \n",
      "\n",
      "\n",
      "sconn(fd=-1, family=<AddressFamily.AF_INET: 2>, type=<SocketKind.SOCK_STREAM: 1>, laddr=addr(ip='127.0.0.1', port=51441), raddr=addr(ip='127.0.0.1', port=51442), status='ESTABLISHED', pid=49928) \n",
      "\n",
      "\n",
      "sconn(fd=-1, family=<AddressFamily.AF_INET: 2>, type=<SocketKind.SOCK_STREAM: 1>, laddr=addr(ip='192.168.55.101', port=51449), raddr=addr(ip='104.16.125.175', port=443), status='ESTABLISHED', pid=37084) \n",
      "\n",
      "\n",
      "sconn(fd=-1, family=<AddressFamily.AF_INET: 2>, type=<SocketKind.SOCK_STREAM: 1>, laddr=addr(ip='127.0.0.1', port=51397), raddr=addr(ip='127.0.0.1', port=51396), status='ESTABLISHED', pid=35128) \n",
      "\n",
      "\n",
      "sconn(fd=-1, family=<AddressFamily.AF_INET: 2>, type=<SocketKind.SOCK_STREAM: 1>, laddr=addr(ip='192.168.55.101', port=51291), raddr=addr(ip='142.250.200.36', port=443), status='TIME_WAIT', pid=0) \n",
      "\n",
      "\n",
      "sconn(fd=-1, family=<AddressFamily.AF_INET: 2>, type=<SocketKind.SOCK_STREAM: 1>, laddr=addr(ip='192.168.55.101', port=51253), raddr=addr(ip='204.79.197.203', port=443), status='TIME_WAIT', pid=0) \n",
      "\n",
      "\n",
      "sconn(fd=-1, family=<AddressFamily.AF_INET: 2>, type=<SocketKind.SOCK_STREAM: 1>, laddr=addr(ip='127.0.0.1', port=51416), raddr=addr(ip='127.0.0.1', port=51417), status='ESTABLISHED', pid=35128) \n",
      "\n",
      "\n",
      "sconn(fd=-1, family=<AddressFamily.AF_INET: 2>, type=<SocketKind.SOCK_STREAM: 1>, laddr=addr(ip='192.168.55.101', port=64806), raddr=addr(ip='170.114.15.103', port=443), status='CLOSE_WAIT', pid=39248) \n",
      "\n",
      "\n",
      "sconn(fd=-1, family=<AddressFamily.AF_INET: 2>, type=<SocketKind.SOCK_STREAM: 1>, laddr=addr(ip='127.0.0.1', port=65427), raddr=addr(ip='127.0.0.1', port=65424), status='ESTABLISHED', pid=38512) \n",
      "\n",
      "\n",
      "sconn(fd=-1, family=<AddressFamily.AF_INET: 2>, type=<SocketKind.SOCK_STREAM: 1>, laddr=addr(ip='127.0.0.1', port=51403), raddr=addr(ip='127.0.0.1', port=51402), status='ESTABLISHED', pid=35128) \n",
      "\n",
      "\n",
      "sconn(fd=-1, family=<AddressFamily.AF_INET: 2>, type=<SocketKind.SOCK_STREAM: 1>, laddr=addr(ip='127.0.0.1', port=51185), raddr=addr(ip='127.0.0.1', port=51186), status='ESTABLISHED', pid=20896) \n",
      "\n",
      "\n",
      "sconn(fd=-1, family=<AddressFamily.AF_INET: 2>, type=<SocketKind.SOCK_STREAM: 1>, laddr=addr(ip='127.0.0.1', port=51422), raddr=addr(ip='127.0.0.1', port=51423), status='ESTABLISHED', pid=35128) \n",
      "\n",
      "\n",
      "sconn(fd=-1, family=<AddressFamily.AF_INET: 2>, type=<SocketKind.SOCK_STREAM: 1>, laddr=addr(ip='127.0.0.1', port=55372), raddr=addr(ip='127.0.0.1', port=55373), status='ESTABLISHED', pid=31968) \n",
      "\n",
      "\n",
      "sconn(fd=-1, family=<AddressFamily.AF_INET: 2>, type=<SocketKind.SOCK_DGRAM: 2>, laddr=addr(ip='127.0.0.1', port=64992), raddr=(), status='NONE', pid=24900) \n",
      "\n",
      "\n",
      "sconn(fd=-1, family=<AddressFamily.AF_INET: 2>, type=<SocketKind.SOCK_DGRAM: 2>, laddr=addr(ip='192.168.55.101', port=64996), raddr=(), status='NONE', pid=24900) \n",
      "\n",
      "\n",
      "sconn(fd=-1, family=<AddressFamily.AF_INET: 2>, type=<SocketKind.SOCK_STREAM: 1>, laddr=addr(ip='192.168.55.101', port=53602), raddr=addr(ip='170.114.14.67', port=443), status='ESTABLISHED', pid=7288) \n",
      "\n",
      "\n",
      "sconn(fd=-1, family=<AddressFamily.AF_INET: 2>, type=<SocketKind.SOCK_DGRAM: 2>, laddr=addr(ip='0.0.0.0', port=53646), raddr=(), status='NONE', pid=24900) \n",
      "\n",
      "\n",
      "sconn(fd=-1, family=<AddressFamily.AF_INET: 2>, type=<SocketKind.SOCK_STREAM: 1>, laddr=addr(ip='192.168.55.101', port=51293), raddr=addr(ip='45.33.64.214', port=443), status='TIME_WAIT', pid=0) \n",
      "\n",
      "\n",
      "sconn(fd=-1, family=<AddressFamily.AF_INET: 2>, type=<SocketKind.SOCK_STREAM: 1>, laddr=addr(ip='127.0.0.1', port=51406), raddr=addr(ip='127.0.0.1', port=9002), status='TIME_WAIT', pid=0) \n",
      "\n",
      "\n",
      "sconn(fd=-1, family=<AddressFamily.AF_INET: 2>, type=<SocketKind.SOCK_STREAM: 1>, laddr=addr(ip='127.0.0.1', port=51388), raddr=addr(ip='127.0.0.1', port=51389), status='ESTABLISHED', pid=35128) \n",
      "\n",
      "\n",
      "sconn(fd=-1, family=<AddressFamily.AF_INET: 2>, type=<SocketKind.SOCK_STREAM: 1>, laddr=addr(ip='127.0.0.1', port=51407), raddr=addr(ip='127.0.0.1', port=51408), status='ESTABLISHED', pid=35128) \n",
      "\n",
      "\n",
      "sconn(fd=-1, family=<AddressFamily.AF_INET: 2>, type=<SocketKind.SOCK_DGRAM: 2>, laddr=addr(ip='127.0.0.1', port=64984), raddr=(), status='NONE', pid=24900) \n",
      "\n",
      "\n",
      "sconn(fd=-1, family=<AddressFamily.AF_INET: 2>, type=<SocketKind.SOCK_STREAM: 1>, laddr=addr(ip='127.0.0.1', port=54178), raddr=addr(ip='127.0.0.1', port=54179), status='ESTABLISHED', pid=47960) \n",
      "\n",
      "\n",
      "sconn(fd=-1, family=<AddressFamily.AF_INET: 2>, type=<SocketKind.SOCK_STREAM: 1>, laddr=addr(ip='127.0.0.1', port=58266), raddr=addr(ip='127.0.0.1', port=58265), status='ESTABLISHED', pid=39224) \n",
      "\n",
      "\n",
      "sconn(fd=-1, family=<AddressFamily.AF_INET: 2>, type=<SocketKind.SOCK_STREAM: 1>, laddr=addr(ip='192.168.55.101', port=51296), raddr=addr(ip='216.58.213.14', port=443), status='TIME_WAIT', pid=0) \n",
      "\n",
      "\n",
      "sconn(fd=-1, family=<AddressFamily.AF_INET: 2>, type=<SocketKind.SOCK_STREAM: 1>, laddr=addr(ip='127.0.0.1', port=55803), raddr=addr(ip='127.0.0.1', port=55802), status='ESTABLISHED', pid=20504) \n",
      "\n",
      "\n",
      "sconn(fd=-1, family=<AddressFamily.AF_INET: 2>, type=<SocketKind.SOCK_DGRAM: 2>, laddr=addr(ip='127.0.0.1', port=65023), raddr=(), status='NONE', pid=24900) \n",
      "\n",
      "\n",
      "sconn(fd=-1, family=<AddressFamily.AF_INET: 2>, type=<SocketKind.SOCK_STREAM: 1>, laddr=addr(ip='127.0.0.1', port=58366), raddr=addr(ip='127.0.0.1', port=58367), status='ESTABLISHED', pid=7288) \n",
      "\n",
      "\n",
      "sconn(fd=-1, family=<AddressFamily.AF_INET: 2>, type=<SocketKind.SOCK_STREAM: 1>, laddr=addr(ip='192.168.55.101', port=51300), raddr=addr(ip='142.250.179.234', port=443), status='TIME_WAIT', pid=0) \n",
      "\n",
      "\n",
      "sconn(fd=-1, family=<AddressFamily.AF_INET: 2>, type=<SocketKind.SOCK_STREAM: 1>, laddr=addr(ip='127.0.0.1', port=51428), raddr=addr(ip='127.0.0.1', port=9004), status='TIME_WAIT', pid=0) \n",
      "\n",
      "\n",
      "sconn(fd=-1, family=<AddressFamily.AF_INET: 2>, type=<SocketKind.SOCK_STREAM: 1>, laddr=addr(ip='127.0.0.1', port=52912), raddr=addr(ip='127.0.0.1', port=52911), status='ESTABLISHED', pid=33264) \n",
      "\n",
      "\n",
      "sconn(fd=-1, family=<AddressFamily.AF_INET: 2>, type=<SocketKind.SOCK_STREAM: 1>, laddr=addr(ip='192.168.55.101', port=53639), raddr=addr(ip='66.203.125.15', port=443), status='ESTABLISHED', pid=21656) \n",
      "\n",
      "\n",
      "sconn(fd=-1, family=<AddressFamily.AF_INET: 2>, type=<SocketKind.SOCK_DGRAM: 2>, laddr=addr(ip='0.0.0.0', port=5353), raddr=(), status='NONE', pid=19160) \n",
      "\n",
      "\n",
      "sconn(fd=-1, family=<AddressFamily.AF_INET: 2>, type=<SocketKind.SOCK_STREAM: 1>, laddr=addr(ip='127.0.0.1', port=51425), raddr=addr(ip='127.0.0.1', port=51424), status='ESTABLISHED', pid=35128) \n",
      "\n",
      "\n",
      "sconn(fd=-1, family=<AddressFamily.AF_INET: 2>, type=<SocketKind.SOCK_DGRAM: 2>, laddr=addr(ip='127.0.0.1', port=64986), raddr=(), status='NONE', pid=24900) \n",
      "\n",
      "\n",
      "sconn(fd=-1, family=<AddressFamily.AF_INET: 2>, type=<SocketKind.SOCK_STREAM: 1>, laddr=addr(ip='127.0.0.1', port=9003), raddr=addr(ip='127.0.0.1', port=51446), status='ESTABLISHED', pid=35128) \n",
      "\n",
      "\n",
      "sconn(fd=-1, family=<AddressFamily.AF_INET: 2>, type=<SocketKind.SOCK_STREAM: 1>, laddr=addr(ip='0.0.0.0', port=135), raddr=(), status='LISTEN', pid=1440) \n",
      "\n",
      "\n",
      "sconn(fd=-1, family=<AddressFamily.AF_INET: 2>, type=<SocketKind.SOCK_DGRAM: 2>, laddr=addr(ip='127.0.0.1', port=1900), raddr=(), status='NONE', pid=5596) \n",
      "\n",
      "\n",
      "sconn(fd=-1, family=<AddressFamily.AF_INET: 2>, type=<SocketKind.SOCK_STREAM: 1>, laddr=addr(ip='127.0.0.1', port=51392), raddr=addr(ip='127.0.0.1', port=51393), status='ESTABLISHED', pid=35128) \n",
      "\n",
      "\n",
      "sconn(fd=-1, family=<AddressFamily.AF_INET: 2>, type=<SocketKind.SOCK_STREAM: 1>, laddr=addr(ip='127.0.0.1', port=51391), raddr=addr(ip='127.0.0.1', port=51390), status='ESTABLISHED', pid=35128) \n",
      "\n",
      "\n",
      "sconn(fd=-1, family=<AddressFamily.AF_INET: 2>, type=<SocketKind.SOCK_STREAM: 1>, laddr=addr(ip='127.0.0.1', port=53184), raddr=addr(ip='127.0.0.1', port=53185), status='ESTABLISHED', pid=43260) \n",
      "\n",
      "\n",
      "sconn(fd=-1, family=<AddressFamily.AF_INET: 2>, type=<SocketKind.SOCK_STREAM: 1>, laddr=addr(ip='127.0.0.1', port=63896), raddr=addr(ip='127.0.0.1', port=63895), status='ESTABLISHED', pid=27528) \n",
      "\n",
      "\n",
      "sconn(fd=-1, family=<AddressFamily.AF_INET6: 23>, type=<SocketKind.SOCK_STREAM: 1>, laddr=addr(ip='::', port=49670), raddr=(), status='LISTEN', pid=1092) \n",
      "\n",
      "\n",
      "sconn(fd=-1, family=<AddressFamily.AF_INET: 2>, type=<SocketKind.SOCK_DGRAM: 2>, laddr=addr(ip='127.0.0.1', port=64993), raddr=(), status='NONE', pid=24900) \n",
      "\n",
      "\n",
      "sconn(fd=-1, family=<AddressFamily.AF_INET: 2>, type=<SocketKind.SOCK_STREAM: 1>, laddr=addr(ip='127.0.0.1', port=51424), raddr=addr(ip='127.0.0.1', port=51425), status='ESTABLISHED', pid=35128) \n",
      "\n",
      "\n",
      "sconn(fd=-1, family=<AddressFamily.AF_INET: 2>, type=<SocketKind.SOCK_STREAM: 1>, laddr=addr(ip='127.0.0.1', port=63895), raddr=addr(ip='127.0.0.1', port=63896), status='ESTABLISHED', pid=27528) \n",
      "\n",
      "\n",
      "sconn(fd=-1, family=<AddressFamily.AF_INET: 2>, type=<SocketKind.SOCK_STREAM: 1>, laddr=addr(ip='127.0.0.1', port=51390), raddr=addr(ip='127.0.0.1', port=51391), status='ESTABLISHED', pid=35128) \n",
      "\n",
      "\n",
      "sconn(fd=-1, family=<AddressFamily.AF_INET: 2>, type=<SocketKind.SOCK_STREAM: 1>, laddr=addr(ip='127.0.0.1', port=51435), raddr=addr(ip='127.0.0.1', port=51436), status='ESTABLISHED', pid=49928) \n",
      "\n",
      "\n",
      "sconn(fd=-1, family=<AddressFamily.AF_INET: 2>, type=<SocketKind.SOCK_DGRAM: 2>, laddr=addr(ip='127.0.0.1', port=60081), raddr=(), status='NONE', pid=24900) \n",
      "\n",
      "\n",
      "sconn(fd=-1, family=<AddressFamily.AF_INET: 2>, type=<SocketKind.SOCK_DGRAM: 2>, laddr=addr(ip='0.0.0.0', port=59867), raddr=(), status='NONE', pid=12568) \n",
      "\n",
      "\n",
      "sconn(fd=-1, family=<AddressFamily.AF_INET: 2>, type=<SocketKind.SOCK_STREAM: 1>, laddr=addr(ip='0.0.0.0', port=49666), raddr=(), status='LISTEN', pid=2584) \n",
      "\n",
      "\n",
      "sconn(fd=-1, family=<AddressFamily.AF_INET: 2>, type=<SocketKind.SOCK_DGRAM: 2>, laddr=addr(ip='192.168.55.101', port=1900), raddr=(), status='NONE', pid=5596) \n",
      "\n",
      "\n",
      "sconn(fd=-1, family=<AddressFamily.AF_INET: 2>, type=<SocketKind.SOCK_STREAM: 1>, laddr=addr(ip='192.168.55.101', port=51303), raddr=addr(ip='142.250.200.35', port=443), status='TIME_WAIT', pid=0) \n",
      "\n",
      "\n",
      "sconn(fd=-1, family=<AddressFamily.AF_INET: 2>, type=<SocketKind.SOCK_STREAM: 1>, laddr=addr(ip='127.0.0.1', port=51186), raddr=addr(ip='127.0.0.1', port=51185), status='ESTABLISHED', pid=20896) \n",
      "\n",
      "\n",
      "sconn(fd=-1, family=<AddressFamily.AF_INET: 2>, type=<SocketKind.SOCK_STREAM: 1>, laddr=addr(ip='127.0.0.1', port=51050), raddr=addr(ip='127.0.0.1', port=51049), status='ESTABLISHED', pid=21852) \n",
      "\n",
      "\n",
      "sconn(fd=-1, family=<AddressFamily.AF_INET6: 23>, type=<SocketKind.SOCK_STREAM: 1>, laddr=addr(ip='::', port=49665), raddr=(), status='LISTEN', pid=860) \n",
      "\n",
      "\n",
      "sconn(fd=-1, family=<AddressFamily.AF_INET: 2>, type=<SocketKind.SOCK_STREAM: 1>, laddr=addr(ip='127.0.0.1', port=51404), raddr=addr(ip='127.0.0.1', port=9002), status='ESTABLISHED', pid=35128) \n",
      "\n",
      "\n",
      "sconn(fd=-1, family=<AddressFamily.AF_INET: 2>, type=<SocketKind.SOCK_STREAM: 1>, laddr=addr(ip='127.0.0.1', port=58367), raddr=addr(ip='127.0.0.1', port=58366), status='ESTABLISHED', pid=7288) \n",
      "\n",
      "\n",
      "sconn(fd=-1, family=<AddressFamily.AF_INET: 2>, type=<SocketKind.SOCK_STREAM: 1>, laddr=addr(ip='127.0.0.1', port=51423), raddr=addr(ip='127.0.0.1', port=51422), status='ESTABLISHED', pid=35128) \n",
      "\n",
      "\n",
      "sconn(fd=-1, family=<AddressFamily.AF_INET: 2>, type=<SocketKind.SOCK_STREAM: 1>, laddr=addr(ip='127.0.0.1', port=51410), raddr=addr(ip='127.0.0.1', port=51409), status='ESTABLISHED', pid=35128) \n",
      "\n",
      "\n",
      "sconn(fd=-1, family=<AddressFamily.AF_INET: 2>, type=<SocketKind.SOCK_STREAM: 1>, laddr=addr(ip='192.168.55.101', port=51331), raddr=addr(ip='172.65.10.226', port=443), status='TIME_WAIT', pid=0) \n",
      "\n",
      "\n",
      "sconn(fd=-1, family=<AddressFamily.AF_INET: 2>, type=<SocketKind.SOCK_STREAM: 1>, laddr=addr(ip='127.0.0.1', port=51442), raddr=addr(ip='127.0.0.1', port=51441), status='ESTABLISHED', pid=49928) \n",
      "\n",
      "\n",
      "sconn(fd=-1, family=<AddressFamily.AF_INET: 2>, type=<SocketKind.SOCK_DGRAM: 2>, laddr=addr(ip='127.0.0.1', port=49664), raddr=(), status='NONE', pid=3308) \n",
      "\n",
      "\n",
      "sconn(fd=-1, family=<AddressFamily.AF_INET: 2>, type=<SocketKind.SOCK_STREAM: 1>, laddr=addr(ip='192.168.55.101', port=53624), raddr=addr(ip='170.114.15.171', port=443), status='ESTABLISHED', pid=7288) \n",
      "\n",
      "\n",
      "sconn(fd=-1, family=<AddressFamily.AF_INET: 2>, type=<SocketKind.SOCK_DGRAM: 2>, laddr=addr(ip='127.0.0.1', port=65024), raddr=(), status='NONE', pid=24900) \n",
      "\n",
      "\n",
      "sconn(fd=-1, family=<AddressFamily.AF_INET: 2>, type=<SocketKind.SOCK_STREAM: 1>, laddr=addr(ip='127.0.0.1', port=55610), raddr=addr(ip='127.0.0.1', port=55609), status='ESTABLISHED', pid=24892) \n",
      "\n",
      "\n",
      "sconn(fd=-1, family=<AddressFamily.AF_INET: 2>, type=<SocketKind.SOCK_STREAM: 1>, laddr=addr(ip='127.0.0.1', port=55608), raddr=addr(ip='127.0.0.1', port=55607), status='ESTABLISHED', pid=24892) \n",
      "\n",
      "\n",
      "sconn(fd=-1, family=<AddressFamily.AF_INET: 2>, type=<SocketKind.SOCK_STREAM: 1>, laddr=addr(ip='127.0.0.1', port=55615), raddr=addr(ip='127.0.0.1', port=55616), status='ESTABLISHED', pid=24892) \n",
      "\n",
      "\n",
      "sconn(fd=-1, family=<AddressFamily.AF_INET: 2>, type=<SocketKind.SOCK_STREAM: 1>, laddr=addr(ip='127.0.0.1', port=61923), raddr=addr(ip='127.0.0.1', port=61924), status='ESTABLISHED', pid=28772) \n",
      "\n",
      "\n",
      "sconn(fd=-1, family=<AddressFamily.AF_INET: 2>, type=<SocketKind.SOCK_STREAM: 1>, laddr=addr(ip='127.0.0.1', port=9001), raddr=(), status='LISTEN', pid=35128) \n",
      "\n",
      "\n",
      "sconn(fd=-1, family=<AddressFamily.AF_INET: 2>, type=<SocketKind.SOCK_STREAM: 1>, laddr=addr(ip='127.0.0.1', port=61164), raddr=addr(ip='127.0.0.1', port=61165), status='ESTABLISHED', pid=16844) \n",
      "\n",
      "\n",
      "sconn(fd=-1, family=<AddressFamily.AF_INET6: 23>, type=<SocketKind.SOCK_DGRAM: 2>, laddr=addr(ip='::', port=500), raddr=(), status='NONE', pid=3956) \n",
      "\n",
      "\n",
      "sconn(fd=-1, family=<AddressFamily.AF_INET: 2>, type=<SocketKind.SOCK_STREAM: 1>, laddr=addr(ip='0.0.0.0', port=49667), raddr=(), status='LISTEN', pid=2540) \n",
      "\n",
      "\n",
      "sconn(fd=-1, family=<AddressFamily.AF_INET: 2>, type=<SocketKind.SOCK_STREAM: 1>, laddr=addr(ip='127.0.0.1', port=51421), raddr=addr(ip='127.0.0.1', port=51420), status='ESTABLISHED', pid=35128) \n",
      "\n",
      "\n",
      "sconn(fd=-1, family=<AddressFamily.AF_INET: 2>, type=<SocketKind.SOCK_STREAM: 1>, laddr=addr(ip='127.0.0.1', port=51389), raddr=addr(ip='127.0.0.1', port=51388), status='ESTABLISHED', pid=35128) \n",
      "\n",
      "\n",
      "sconn(fd=-1, family=<AddressFamily.AF_INET: 2>, type=<SocketKind.SOCK_STREAM: 1>, laddr=addr(ip='192.168.55.101', port=53604), raddr=addr(ip='20.90.153.243', port=443), status='ESTABLISHED', pid=4400) \n",
      "\n",
      "\n",
      "sconn(fd=-1, family=<AddressFamily.AF_INET: 2>, type=<SocketKind.SOCK_STREAM: 1>, laddr=addr(ip='127.0.0.1', port=55613), raddr=addr(ip='127.0.0.1', port=55614), status='ESTABLISHED', pid=24892) \n",
      "\n",
      "\n",
      "sconn(fd=-1, family=<AddressFamily.AF_INET: 2>, type=<SocketKind.SOCK_STREAM: 1>, laddr=addr(ip='127.0.0.1', port=51436), raddr=addr(ip='127.0.0.1', port=51435), status='ESTABLISHED', pid=49928) \n",
      "\n",
      "\n",
      "sconn(fd=-1, family=<AddressFamily.AF_INET: 2>, type=<SocketKind.SOCK_STREAM: 1>, laddr=addr(ip='0.0.0.0', port=445), raddr=(), status='LISTEN', pid=4) \n",
      "\n",
      "\n",
      "sconn(fd=-1, family=<AddressFamily.AF_INET: 2>, type=<SocketKind.SOCK_DGRAM: 2>, laddr=addr(ip='127.0.0.1', port=59352), raddr=(), status='NONE', pid=29060) \n",
      "\n",
      "\n",
      "sconn(fd=-1, family=<AddressFamily.AF_INET: 2>, type=<SocketKind.SOCK_STREAM: 1>, laddr=addr(ip='127.0.0.1', port=63631), raddr=addr(ip='127.0.0.1', port=63630), status='ESTABLISHED', pid=43664) \n",
      "\n",
      "\n",
      "sconn(fd=-1, family=<AddressFamily.AF_INET: 2>, type=<SocketKind.SOCK_STREAM: 1>, laddr=addr(ip='127.0.0.1', port=51443), raddr=addr(ip='127.0.0.1', port=9001), status='ESTABLISHED', pid=49928) \n",
      "\n",
      "\n",
      "sconn(fd=-1, family=<AddressFamily.AF_INET: 2>, type=<SocketKind.SOCK_STREAM: 1>, laddr=addr(ip='127.0.0.1', port=54179), raddr=addr(ip='127.0.0.1', port=54178), status='ESTABLISHED', pid=47960) \n",
      "\n",
      "\n",
      "sconn(fd=-1, family=<AddressFamily.AF_INET: 2>, type=<SocketKind.SOCK_STREAM: 1>, laddr=addr(ip='127.0.0.1', port=2015), raddr=(), status='LISTEN', pid=21852) \n",
      "\n",
      "\n",
      "sconn(fd=-1, family=<AddressFamily.AF_INET: 2>, type=<SocketKind.SOCK_DGRAM: 2>, laddr=addr(ip='127.0.0.1', port=64991), raddr=(), status='NONE', pid=24900) \n",
      "\n",
      "\n",
      "sconn(fd=-1, family=<AddressFamily.AF_INET: 2>, type=<SocketKind.SOCK_STREAM: 1>, laddr=addr(ip='127.0.0.1', port=51444), raddr=addr(ip='127.0.0.1', port=51445), status='ESTABLISHED', pid=49928) \n",
      "\n",
      "\n",
      "sconn(fd=-1, family=<AddressFamily.AF_INET: 2>, type=<SocketKind.SOCK_DGRAM: 2>, laddr=addr(ip='192.168.55.101', port=2177), raddr=(), status='NONE', pid=17708) \n",
      "\n",
      "\n",
      "sconn(fd=-1, family=<AddressFamily.AF_INET: 2>, type=<SocketKind.SOCK_STREAM: 1>, laddr=addr(ip='0.0.0.0', port=5040), raddr=(), status='LISTEN', pid=6588) \n",
      "\n",
      "\n",
      "sconn(fd=-1, family=<AddressFamily.AF_INET: 2>, type=<SocketKind.SOCK_STREAM: 1>, laddr=addr(ip='127.0.0.1', port=51394), raddr=addr(ip='127.0.0.1', port=51395), status='ESTABLISHED', pid=35128) \n",
      "\n",
      "\n",
      "sconn(fd=-1, family=<AddressFamily.AF_INET: 2>, type=<SocketKind.SOCK_STREAM: 1>, laddr=addr(ip='127.0.0.1', port=51445), raddr=addr(ip='127.0.0.1', port=51444), status='ESTABLISHED', pid=49928) \n",
      "\n",
      "\n",
      "sconn(fd=-1, family=<AddressFamily.AF_INET6: 23>, type=<SocketKind.SOCK_DGRAM: 2>, laddr=addr(ip='::1', port=65130), raddr=(), status='NONE', pid=5596) \n",
      "\n",
      "\n",
      "sconn(fd=-1, family=<AddressFamily.AF_INET: 2>, type=<SocketKind.SOCK_STREAM: 1>, laddr=addr(ip='127.0.0.1', port=57344), raddr=addr(ip='127.0.0.1', port=57343), status='ESTABLISHED', pid=11676) \n",
      "\n",
      "\n",
      "sconn(fd=-1, family=<AddressFamily.AF_INET: 2>, type=<SocketKind.SOCK_STREAM: 1>, laddr=addr(ip='127.0.0.1', port=64503), raddr=addr(ip='127.0.0.1', port=64504), status='ESTABLISHED', pid=14020) \n",
      "\n",
      "\n",
      "sconn(fd=-1, family=<AddressFamily.AF_INET6: 23>, type=<SocketKind.SOCK_STREAM: 1>, laddr=addr(ip='::', port=49664), raddr=(), status='LISTEN', pid=1136) \n",
      "\n",
      "\n",
      "sconn(fd=-1, family=<AddressFamily.AF_INET: 2>, type=<SocketKind.SOCK_DGRAM: 2>, laddr=addr(ip='192.168.55.101', port=65131), raddr=(), status='NONE', pid=5596) \n",
      "\n",
      "\n",
      "sconn(fd=-1, family=<AddressFamily.AF_INET6: 23>, type=<SocketKind.SOCK_DGRAM: 2>, laddr=addr(ip='::', port=50597), raddr=(), status='NONE', pid=2228) \n",
      "\n",
      "\n",
      "sconn(fd=-1, family=<AddressFamily.AF_INET: 2>, type=<SocketKind.SOCK_STREAM: 1>, laddr=addr(ip='127.0.0.1', port=49816), raddr=addr(ip='127.0.0.1', port=49815), status='ESTABLISHED', pid=8260) \n",
      "\n",
      "\n",
      "sconn(fd=-1, family=<AddressFamily.AF_INET: 2>, type=<SocketKind.SOCK_STREAM: 1>, laddr=addr(ip='127.0.0.1', port=51105), raddr=addr(ip='127.0.0.1', port=51104), status='ESTABLISHED', pid=19608) \n",
      "\n",
      "\n",
      "sconn(fd=-1, family=<AddressFamily.AF_INET: 2>, type=<SocketKind.SOCK_DGRAM: 2>, laddr=addr(ip='0.0.0.0', port=5355), raddr=(), status='NONE', pid=2228) \n",
      "\n",
      "\n",
      "sconn(fd=-1, family=<AddressFamily.AF_INET: 2>, type=<SocketKind.SOCK_DGRAM: 2>, laddr=addr(ip='127.0.0.1', port=64988), raddr=(), status='NONE', pid=24900) \n",
      "\n",
      "\n",
      "sconn(fd=-1, family=<AddressFamily.AF_INET: 2>, type=<SocketKind.SOCK_STREAM: 1>, laddr=addr(ip='0.0.0.0', port=50584), raddr=(), status='LISTEN', pid=12568) \n",
      "\n",
      "\n",
      "sconn(fd=-1, family=<AddressFamily.AF_INET: 2>, type=<SocketKind.SOCK_STREAM: 1>, laddr=addr(ip='127.0.0.1', port=51400), raddr=addr(ip='127.0.0.1', port=51401), status='ESTABLISHED', pid=35128) \n",
      "\n",
      "\n",
      "sconn(fd=-1, family=<AddressFamily.AF_INET: 2>, type=<SocketKind.SOCK_STREAM: 1>, laddr=addr(ip='127.0.0.1', port=9001), raddr=addr(ip='127.0.0.1', port=51443), status='ESTABLISHED', pid=35128) \n",
      "\n",
      "\n",
      "sconn(fd=-1, family=<AddressFamily.AF_INET: 2>, type=<SocketKind.SOCK_STREAM: 1>, laddr=addr(ip='127.0.0.1', port=58381), raddr=addr(ip='127.0.0.1', port=58382), status='ESTABLISHED', pid=40648) \n",
      "\n",
      "\n",
      "sconn(fd=-1, family=<AddressFamily.AF_INET: 2>, type=<SocketKind.SOCK_STREAM: 1>, laddr=addr(ip='127.0.0.1', port=62957), raddr=addr(ip='127.0.0.1', port=62956), status='ESTABLISHED', pid=23296) \n",
      "\n",
      "\n",
      "sconn(fd=-1, family=<AddressFamily.AF_INET: 2>, type=<SocketKind.SOCK_DGRAM: 2>, laddr=addr(ip='0.0.0.0', port=5050), raddr=(), status='NONE', pid=6588) \n",
      "\n",
      "\n",
      "sconn(fd=-1, family=<AddressFamily.AF_INET: 2>, type=<SocketKind.SOCK_STREAM: 1>, laddr=addr(ip='192.168.55.101', port=50863), raddr=addr(ip='13.107.42.14', port=443), status='ESTABLISHED', pid=19160) \n",
      "\n",
      "\n",
      "sconn(fd=-1, family=<AddressFamily.AF_INET: 2>, type=<SocketKind.SOCK_STREAM: 1>, laddr=addr(ip='127.0.0.1', port=9002), raddr=addr(ip='127.0.0.1', port=51440), status='ESTABLISHED', pid=35128) \n",
      "\n",
      "\n",
      "sconn(fd=-1, family=<AddressFamily.AF_INET: 2>, type=<SocketKind.SOCK_STREAM: 1>, laddr=addr(ip='127.0.0.1', port=51181), raddr=addr(ip='127.0.0.1', port=51182), status='ESTABLISHED', pid=37600) \n",
      "\n",
      "\n",
      "sconn(fd=-1, family=<AddressFamily.AF_INET: 2>, type=<SocketKind.SOCK_STREAM: 1>, laddr=addr(ip='127.0.0.1', port=51399), raddr=addr(ip='127.0.0.1', port=51398), status='ESTABLISHED', pid=35128) \n",
      "\n",
      "\n",
      "sconn(fd=-1, family=<AddressFamily.AF_INET: 2>, type=<SocketKind.SOCK_STREAM: 1>, laddr=addr(ip='127.0.0.1', port=59556), raddr=addr(ip='127.0.0.1', port=59557), status='ESTABLISHED', pid=33644) \n",
      "\n",
      "\n",
      "sconn(fd=-1, family=<AddressFamily.AF_INET: 2>, type=<SocketKind.SOCK_STREAM: 1>, laddr=addr(ip='127.0.0.1', port=61824), raddr=addr(ip='127.0.0.1', port=61825), status='ESTABLISHED', pid=22972) \n",
      "\n",
      "\n",
      "sconn(fd=-1, family=<AddressFamily.AF_INET: 2>, type=<SocketKind.SOCK_STREAM: 1>, laddr=addr(ip='127.0.0.1', port=64659), raddr=addr(ip='127.0.0.1', port=64658), status='ESTABLISHED', pid=46932) \n",
      "\n",
      "\n",
      "sconn(fd=-1, family=<AddressFamily.AF_INET: 2>, type=<SocketKind.SOCK_STREAM: 1>, laddr=addr(ip='127.0.0.1', port=51413), raddr=addr(ip='127.0.0.1', port=51414), status='ESTABLISHED', pid=35128) \n",
      "\n",
      "\n",
      "sconn(fd=-1, family=<AddressFamily.AF_INET6: 23>, type=<SocketKind.SOCK_STREAM: 1>, laddr=addr(ip='::1', port=7679), raddr=(), status='LISTEN', pid=19016) \n",
      "\n",
      "\n",
      "sconn(fd=-1, family=<AddressFamily.AF_INET: 2>, type=<SocketKind.SOCK_STREAM: 1>, laddr=addr(ip='127.0.0.1', port=51161), raddr=addr(ip='127.0.0.1', port=51162), status='ESTABLISHED', pid=49928) \n",
      "\n",
      "\n",
      "sconn(fd=-1, family=<AddressFamily.AF_INET: 2>, type=<SocketKind.SOCK_STREAM: 1>, laddr=addr(ip='127.0.0.1', port=49234), raddr=addr(ip='127.0.0.1', port=49233), status='ESTABLISHED', pid=20220) \n",
      "\n",
      "\n",
      "sconn(fd=-1, family=<AddressFamily.AF_INET: 2>, type=<SocketKind.SOCK_STREAM: 1>, laddr=addr(ip='127.0.0.1', port=55663), raddr=addr(ip='127.0.0.1', port=55664), status='ESTABLISHED', pid=48784) \n",
      "\n",
      "\n",
      "sconn(fd=-1, family=<AddressFamily.AF_INET: 2>, type=<SocketKind.SOCK_STREAM: 1>, laddr=addr(ip='192.168.55.101', port=63358), raddr=addr(ip='18.196.158.34', port=443), status='ESTABLISHED', pid=7188) \n",
      "\n",
      "\n",
      "sconn(fd=-1, family=<AddressFamily.AF_INET: 2>, type=<SocketKind.SOCK_STREAM: 1>, laddr=addr(ip='127.0.0.1', port=51218), raddr=addr(ip='127.0.0.1', port=51217), status='ESTABLISHED', pid=43388) \n",
      "\n",
      "\n",
      "sconn(fd=-1, family=<AddressFamily.AF_INET: 2>, type=<SocketKind.SOCK_STREAM: 1>, laddr=addr(ip='127.0.0.1', port=65481), raddr=(), status='LISTEN', pid=8300) \n",
      "\n",
      "\n",
      "sconn(fd=-1, family=<AddressFamily.AF_INET: 2>, type=<SocketKind.SOCK_STREAM: 1>, laddr=addr(ip='127.0.0.1', port=49531), raddr=addr(ip='127.0.0.1', port=49532), status='ESTABLISHED', pid=24824) \n",
      "\n",
      "\n",
      "sconn(fd=-1, family=<AddressFamily.AF_INET: 2>, type=<SocketKind.SOCK_DGRAM: 2>, laddr=addr(ip='0.0.0.0', port=5353), raddr=(), status='NONE', pid=39068) \n",
      "\n",
      "\n",
      "sconn(fd=-1, family=<AddressFamily.AF_INET: 2>, type=<SocketKind.SOCK_DGRAM: 2>, laddr=addr(ip='0.0.0.0', port=50001), raddr=(), status='NONE', pid=3832) \n",
      "\n",
      "\n",
      "sconn(fd=-1, family=<AddressFamily.AF_INET: 2>, type=<SocketKind.SOCK_STREAM: 1>, laddr=addr(ip='192.168.55.101', port=53617), raddr=addr(ip='157.240.240.61', port=443), status='ESTABLISHED', pid=42724) \n",
      "\n",
      "\n",
      "sconn(fd=-1, family=<AddressFamily.AF_INET: 2>, type=<SocketKind.SOCK_STREAM: 1>, laddr=addr(ip='127.0.0.1', port=51409), raddr=addr(ip='127.0.0.1', port=51410), status='ESTABLISHED', pid=35128) \n",
      "\n",
      "\n",
      "sconn(fd=-1, family=<AddressFamily.AF_INET: 2>, type=<SocketKind.SOCK_STREAM: 1>, laddr=addr(ip='192.168.55.101', port=53636), raddr=addr(ip='20.90.153.243', port=443), status='ESTABLISHED', pid=30120) \n",
      "\n",
      "\n",
      "sconn(fd=-1, family=<AddressFamily.AF_INET: 2>, type=<SocketKind.SOCK_STREAM: 1>, laddr=addr(ip='192.168.55.101', port=51295), raddr=addr(ip='18.165.227.27', port=443), status='TIME_WAIT', pid=0) \n",
      "\n",
      "\n",
      "sconn(fd=-1, family=<AddressFamily.AF_INET: 2>, type=<SocketKind.SOCK_DGRAM: 2>, laddr=addr(ip='127.0.0.1', port=64976), raddr=(), status='NONE', pid=24900) \n",
      "\n",
      "\n",
      "sconn(fd=-1, family=<AddressFamily.AF_INET: 2>, type=<SocketKind.SOCK_STREAM: 1>, laddr=addr(ip='127.0.0.1', port=55614), raddr=addr(ip='127.0.0.1', port=55613), status='ESTABLISHED', pid=24892) \n",
      "\n",
      "\n",
      "sconn(fd=-1, family=<AddressFamily.AF_INET: 2>, type=<SocketKind.SOCK_STREAM: 1>, laddr=addr(ip='127.0.0.1', port=51415), raddr=(), status='LISTEN', pid=35128) \n",
      "\n",
      "\n",
      "sconn(fd=-1, family=<AddressFamily.AF_INET: 2>, type=<SocketKind.SOCK_DGRAM: 2>, laddr=addr(ip='127.0.0.1', port=50262), raddr=(), status='NONE', pid=24900) \n",
      "\n",
      "\n",
      "sconn(fd=-1, family=<AddressFamily.AF_INET: 2>, type=<SocketKind.SOCK_STREAM: 1>, laddr=addr(ip='127.0.0.1', port=49532), raddr=addr(ip='127.0.0.1', port=49531), status='ESTABLISHED', pid=24824) \n",
      "\n",
      "\n",
      "sconn(fd=-1, family=<AddressFamily.AF_INET: 2>, type=<SocketKind.SOCK_STREAM: 1>, laddr=addr(ip='127.0.0.1', port=51437), raddr=addr(ip='127.0.0.1', port=51438), status='ESTABLISHED', pid=49928) \n",
      "\n",
      "\n",
      "sconn(fd=-1, family=<AddressFamily.AF_INET: 2>, type=<SocketKind.SOCK_STREAM: 1>, laddr=addr(ip='127.0.0.1', port=51180), raddr=addr(ip='127.0.0.1', port=51179), status='ESTABLISHED', pid=37600) \n",
      "\n",
      "\n",
      "sconn(fd=-1, family=<AddressFamily.AF_INET: 2>, type=<SocketKind.SOCK_STREAM: 1>, laddr=addr(ip='127.0.0.1', port=52911), raddr=addr(ip='127.0.0.1', port=52912), status='ESTABLISHED', pid=33264) \n",
      "\n",
      "\n",
      "sconn(fd=-1, family=<AddressFamily.AF_INET: 2>, type=<SocketKind.SOCK_STREAM: 1>, laddr=addr(ip='127.0.0.1', port=49233), raddr=addr(ip='127.0.0.1', port=49234), status='ESTABLISHED', pid=20220) \n",
      "\n",
      "\n",
      "sconn(fd=-1, family=<AddressFamily.AF_INET: 2>, type=<SocketKind.SOCK_STREAM: 1>, laddr=addr(ip='127.0.0.1', port=51053), raddr=addr(ip='127.0.0.1', port=52908), status='ESTABLISHED', pid=21852) \n",
      "\n",
      "\n",
      "sconn(fd=-1, family=<AddressFamily.AF_INET: 2>, type=<SocketKind.SOCK_DGRAM: 2>, laddr=addr(ip='0.0.0.0', port=50597), raddr=(), status='NONE', pid=2228) \n",
      "\n",
      "\n",
      "sconn(fd=-1, family=<AddressFamily.AF_INET: 2>, type=<SocketKind.SOCK_STREAM: 1>, laddr=addr(ip='127.0.0.1', port=55802), raddr=addr(ip='127.0.0.1', port=55803), status='ESTABLISHED', pid=20504) \n",
      "\n",
      "\n",
      "sconn(fd=-1, family=<AddressFamily.AF_INET6: 23>, type=<SocketKind.SOCK_STREAM: 1>, laddr=addr(ip='::1', port=49669), raddr=(), status='LISTEN', pid=4628) \n",
      "\n",
      "\n",
      "sconn(fd=-1, family=<AddressFamily.AF_INET: 2>, type=<SocketKind.SOCK_STREAM: 1>, laddr=addr(ip='127.0.0.1', port=51448), raddr=addr(ip='127.0.0.1', port=51447), status='ESTABLISHED', pid=35128) \n",
      "\n",
      "\n",
      "sconn(fd=-1, family=<AddressFamily.AF_INET: 2>, type=<SocketKind.SOCK_STREAM: 1>, laddr=addr(ip='127.0.0.1', port=49553), raddr=addr(ip='127.0.0.1', port=49552), status='ESTABLISHED', pid=23180) \n",
      "\n",
      "\n",
      "sconn(fd=-1, family=<AddressFamily.AF_INET: 2>, type=<SocketKind.SOCK_DGRAM: 2>, laddr=addr(ip='192.168.55.101', port=137), raddr=(), status='NONE', pid=4) \n",
      "\n",
      "\n",
      "sconn(fd=-1, family=<AddressFamily.AF_INET: 2>, type=<SocketKind.SOCK_STREAM: 1>, laddr=addr(ip='127.0.0.1', port=55607), raddr=addr(ip='127.0.0.1', port=55608), status='ESTABLISHED', pid=24892) \n",
      "\n",
      "\n",
      "sconn(fd=-1, family=<AddressFamily.AF_INET: 2>, type=<SocketKind.SOCK_STREAM: 1>, laddr=addr(ip='127.0.0.1', port=65424), raddr=addr(ip='127.0.0.1', port=65427), status='ESTABLISHED', pid=38512) \n",
      "\n",
      "\n",
      "sconn(fd=-1, family=<AddressFamily.AF_INET: 2>, type=<SocketKind.SOCK_DGRAM: 2>, laddr=addr(ip='127.0.0.1', port=65132), raddr=(), status='NONE', pid=5596) \n",
      "\n",
      "\n",
      "sconn(fd=-1, family=<AddressFamily.AF_INET: 2>, type=<SocketKind.SOCK_STREAM: 1>, laddr=addr(ip='0.0.0.0', port=7070), raddr=(), status='LISTEN', pid=3832) \n",
      "\n",
      "\n",
      "sconn(fd=-1, family=<AddressFamily.AF_INET: 2>, type=<SocketKind.SOCK_STREAM: 1>, laddr=addr(ip='127.0.0.1', port=51049), raddr=addr(ip='127.0.0.1', port=51050), status='ESTABLISHED', pid=21852) \n",
      "\n",
      "\n",
      "sconn(fd=-1, family=<AddressFamily.AF_INET: 2>, type=<SocketKind.SOCK_STREAM: 1>, laddr=addr(ip='127.0.0.1', port=49815), raddr=addr(ip='127.0.0.1', port=49816), status='ESTABLISHED', pid=8260) \n",
      "\n",
      "\n",
      "sconn(fd=-1, family=<AddressFamily.AF_INET: 2>, type=<SocketKind.SOCK_STREAM: 1>, laddr=addr(ip='192.168.55.101', port=51333), raddr=addr(ip='13.107.42.18', port=443), status='TIME_WAIT', pid=0) \n",
      "\n",
      "\n",
      "sconn(fd=-1, family=<AddressFamily.AF_INET: 2>, type=<SocketKind.SOCK_STREAM: 1>, laddr=addr(ip='127.0.0.1', port=55609), raddr=addr(ip='127.0.0.1', port=55610), status='ESTABLISHED', pid=24892) \n",
      "\n",
      "\n",
      "sconn(fd=-1, family=<AddressFamily.AF_INET: 2>, type=<SocketKind.SOCK_STREAM: 1>, laddr=addr(ip='127.0.0.1', port=61165), raddr=addr(ip='127.0.0.1', port=61164), status='ESTABLISHED', pid=16844) \n",
      "\n",
      "\n",
      "sconn(fd=-1, family=<AddressFamily.AF_INET: 2>, type=<SocketKind.SOCK_STREAM: 1>, laddr=addr(ip='192.168.55.101', port=51298), raddr=addr(ip='45.33.64.214', port=443), status='TIME_WAIT', pid=0) \n",
      "\n",
      "\n",
      "sconn(fd=-1, family=<AddressFamily.AF_INET: 2>, type=<SocketKind.SOCK_STREAM: 1>, laddr=addr(ip='127.0.0.1', port=51439), raddr=addr(ip='127.0.0.1', port=9004), status='ESTABLISHED', pid=49928) \n",
      "\n",
      "\n",
      "sconn(fd=-1, family=<AddressFamily.AF_INET: 2>, type=<SocketKind.SOCK_STREAM: 1>, laddr=addr(ip='127.0.0.1', port=51417), raddr=addr(ip='127.0.0.1', port=51416), status='ESTABLISHED', pid=35128) \n",
      "\n",
      "\n",
      "sconn(fd=-1, family=<AddressFamily.AF_INET: 2>, type=<SocketKind.SOCK_STREAM: 1>, laddr=addr(ip='127.0.0.1', port=51447), raddr=addr(ip='127.0.0.1', port=51448), status='ESTABLISHED', pid=35128) \n",
      "\n",
      "\n",
      "sconn(fd=-1, family=<AddressFamily.AF_INET: 2>, type=<SocketKind.SOCK_STREAM: 1>, laddr=addr(ip='127.0.0.1', port=16309), raddr=(), status='LISTEN', pid=24900) \n",
      "\n",
      "\n",
      "sconn(fd=-1, family=<AddressFamily.AF_INET: 2>, type=<SocketKind.SOCK_STREAM: 1>, laddr=addr(ip='127.0.0.1', port=49552), raddr=addr(ip='127.0.0.1', port=49553), status='ESTABLISHED', pid=23180) \n",
      "\n",
      "\n",
      "sconn(fd=-1, family=<AddressFamily.AF_INET: 2>, type=<SocketKind.SOCK_STREAM: 1>, laddr=addr(ip='127.0.0.1', port=51182), raddr=addr(ip='127.0.0.1', port=51181), status='ESTABLISHED', pid=37600) \n",
      "\n",
      "\n",
      "sconn(fd=-1, family=<AddressFamily.AF_INET: 2>, type=<SocketKind.SOCK_STREAM: 1>, laddr=addr(ip='127.0.0.1', port=51433), raddr=addr(ip='127.0.0.1', port=51434), status='ESTABLISHED', pid=49928) \n",
      "\n",
      "\n",
      "sconn(fd=-1, family=<AddressFamily.AF_INET: 2>, type=<SocketKind.SOCK_STREAM: 1>, laddr=addr(ip='127.0.0.1', port=53185), raddr=addr(ip='127.0.0.1', port=53184), status='ESTABLISHED', pid=43260) \n",
      "\n",
      "\n",
      "sconn(fd=-1, family=<AddressFamily.AF_INET: 2>, type=<SocketKind.SOCK_STREAM: 1>, laddr=addr(ip='127.0.0.1', port=58382), raddr=addr(ip='127.0.0.1', port=58381), status='ESTABLISHED', pid=40648) \n",
      "\n",
      "\n",
      "sconn(fd=-1, family=<AddressFamily.AF_INET: 2>, type=<SocketKind.SOCK_STREAM: 1>, laddr=addr(ip='127.0.0.1', port=64971), raddr=(), status='LISTEN', pid=24900) \n",
      "\n",
      "\n",
      "sconn(fd=-1, family=<AddressFamily.AF_INET: 2>, type=<SocketKind.SOCK_STREAM: 1>, laddr=addr(ip='127.0.0.1', port=51396), raddr=addr(ip='127.0.0.1', port=51397), status='ESTABLISHED', pid=35128) \n",
      "\n",
      "\n",
      "sconn(fd=-1, family=<AddressFamily.AF_INET: 2>, type=<SocketKind.SOCK_STREAM: 1>, laddr=addr(ip='127.0.0.1', port=9004), raddr=(), status='LISTEN', pid=35128) \n",
      "\n",
      "\n",
      "sconn(fd=-1, family=<AddressFamily.AF_INET: 2>, type=<SocketKind.SOCK_STREAM: 1>, laddr=addr(ip='0.0.0.0', port=49665), raddr=(), status='LISTEN', pid=860) \n",
      "\n",
      "\n",
      "sconn(fd=-1, family=<AddressFamily.AF_INET: 2>, type=<SocketKind.SOCK_STREAM: 1>, laddr=addr(ip='0.0.0.0', port=49668), raddr=(), status='LISTEN', pid=3564) \n",
      "\n",
      "\n",
      "sconn(fd=-1, family=<AddressFamily.AF_INET: 2>, type=<SocketKind.SOCK_STREAM: 1>, laddr=addr(ip='127.0.0.1', port=51427), raddr=addr(ip='127.0.0.1', port=51426), status='ESTABLISHED', pid=35128) \n",
      "\n",
      "\n",
      "sconn(fd=-1, family=<AddressFamily.AF_INET: 2>, type=<SocketKind.SOCK_STREAM: 1>, laddr=addr(ip='127.0.0.1', port=58265), raddr=addr(ip='127.0.0.1', port=58266), status='ESTABLISHED', pid=39224) \n",
      "\n",
      "\n",
      "sconn(fd=-1, family=<AddressFamily.AF_INET: 2>, type=<SocketKind.SOCK_STREAM: 1>, laddr=addr(ip='127.0.0.1', port=51432), raddr=addr(ip='127.0.0.1', port=51431), status='ESTABLISHED', pid=49928) \n",
      "\n",
      "\n",
      "sconn(fd=-1, family=<AddressFamily.AF_INET: 2>, type=<SocketKind.SOCK_STREAM: 1>, laddr=addr(ip='127.0.0.1', port=51402), raddr=addr(ip='127.0.0.1', port=51403), status='ESTABLISHED', pid=35128) \n",
      "\n",
      "\n",
      "sconn(fd=-1, family=<AddressFamily.AF_INET: 2>, type=<SocketKind.SOCK_STREAM: 1>, laddr=addr(ip='127.0.0.1', port=59557), raddr=addr(ip='127.0.0.1', port=59556), status='ESTABLISHED', pid=33644) \n",
      "\n",
      "\n",
      "sconn(fd=-1, family=<AddressFamily.AF_INET: 2>, type=<SocketKind.SOCK_STREAM: 1>, laddr=addr(ip='192.168.55.101', port=51271), raddr=addr(ip='52.168.117.173', port=443), status='TIME_WAIT', pid=0) \n",
      "\n",
      "\n",
      "sconn(fd=-1, family=<AddressFamily.AF_INET: 2>, type=<SocketKind.SOCK_STREAM: 1>, laddr=addr(ip='127.0.0.1', port=51420), raddr=addr(ip='127.0.0.1', port=51421), status='ESTABLISHED', pid=35128) \n",
      "\n",
      "\n",
      "sconn(fd=-1, family=<AddressFamily.AF_INET: 2>, type=<SocketKind.SOCK_STREAM: 1>, laddr=addr(ip='127.0.0.1', port=51414), raddr=addr(ip='127.0.0.1', port=51413), status='ESTABLISHED', pid=35128) \n",
      "\n",
      "\n",
      "sconn(fd=-1, family=<AddressFamily.AF_INET: 2>, type=<SocketKind.SOCK_DGRAM: 2>, laddr=addr(ip='127.0.0.1', port=64990), raddr=(), status='NONE', pid=24900) \n",
      "\n",
      "\n",
      "sconn(fd=-1, family=<AddressFamily.AF_INET: 2>, type=<SocketKind.SOCK_STREAM: 1>, laddr=addr(ip='127.0.0.1', port=51446), raddr=addr(ip='127.0.0.1', port=9003), status='ESTABLISHED', pid=49928) \n",
      "\n",
      "\n",
      "sconn(fd=-1, family=<AddressFamily.AF_INET: 2>, type=<SocketKind.SOCK_STREAM: 1>, laddr=addr(ip='127.0.0.1', port=51165), raddr=(), status='LISTEN', pid=49928) \n",
      "\n",
      "\n",
      "sconn(fd=-1, family=<AddressFamily.AF_INET: 2>, type=<SocketKind.SOCK_STREAM: 1>, laddr=addr(ip='127.0.0.1', port=52908), raddr=addr(ip='127.0.0.1', port=51053), status='ESTABLISHED', pid=11576) \n",
      "\n",
      "\n",
      "sconn(fd=-1, family=<AddressFamily.AF_INET: 2>, type=<SocketKind.SOCK_STREAM: 1>, laddr=addr(ip='192.168.55.101', port=53610), raddr=addr(ip='142.250.200.10', port=443), status='ESTABLISHED', pid=19016) \n",
      "\n",
      "\n",
      "sconn(fd=-1, family=<AddressFamily.AF_INET: 2>, type=<SocketKind.SOCK_DGRAM: 2>, laddr=addr(ip='0.0.0.0', port=500), raddr=(), status='NONE', pid=3956) \n",
      "\n",
      "\n",
      "sconn(fd=-1, family=<AddressFamily.AF_INET: 2>, type=<SocketKind.SOCK_STREAM: 1>, laddr=addr(ip='192.168.55.101', port=139), raddr=(), status='LISTEN', pid=4) \n",
      "\n",
      "\n",
      "sconn(fd=-1, family=<AddressFamily.AF_INET: 2>, type=<SocketKind.SOCK_STREAM: 1>, laddr=addr(ip='192.168.55.101', port=63361), raddr=addr(ip='18.196.158.34', port=443), status='ESTABLISHED', pid=7188) \n",
      "\n",
      "\n",
      "sconn(fd=-1, family=<AddressFamily.AF_INET: 2>, type=<SocketKind.SOCK_DGRAM: 2>, laddr=addr(ip='0.0.0.0', port=50253), raddr=(), status='NONE', pid=2228) \n",
      "\n",
      "\n",
      "sconn(fd=-1, family=<AddressFamily.AF_INET: 2>, type=<SocketKind.SOCK_STREAM: 1>, laddr=addr(ip='127.0.0.1', port=65481), raddr=addr(ip='127.0.0.1', port=51051), status='ESTABLISHED', pid=8300) \n",
      "\n",
      "\n",
      "sconn(fd=-1, family=<AddressFamily.AF_INET: 2>, type=<SocketKind.SOCK_STREAM: 1>, laddr=addr(ip='127.0.0.1', port=51440), raddr=addr(ip='127.0.0.1', port=9002), status='ESTABLISHED', pid=49928) \n",
      "\n",
      "\n",
      "sconn(fd=-1, family=<AddressFamily.AF_INET: 2>, type=<SocketKind.SOCK_STREAM: 1>, laddr=addr(ip='127.0.0.1', port=51412), raddr=addr(ip='127.0.0.1', port=51411), status='ESTABLISHED', pid=35128) \n",
      "\n",
      "\n",
      "sconn(fd=-1, family=<AddressFamily.AF_INET: 2>, type=<SocketKind.SOCK_STREAM: 1>, laddr=addr(ip='192.168.55.101', port=51087), raddr=addr(ip='140.82.113.25', port=443), status='ESTABLISHED', pid=19160) \n",
      "\n",
      "\n",
      "sconn(fd=-1, family=<AddressFamily.AF_INET: 2>, type=<SocketKind.SOCK_STREAM: 1>, laddr=addr(ip='127.0.0.1', port=57343), raddr=addr(ip='127.0.0.1', port=57344), status='ESTABLISHED', pid=11676) \n",
      "\n",
      "\n",
      "sconn(fd=-1, family=<AddressFamily.AF_INET: 2>, type=<SocketKind.SOCK_STREAM: 1>, laddr=addr(ip='127.0.0.1', port=64504), raddr=addr(ip='127.0.0.1', port=64503), status='ESTABLISHED', pid=14020) \n",
      "\n",
      "\n",
      "sconn(fd=-1, family=<AddressFamily.AF_INET: 2>, type=<SocketKind.SOCK_STREAM: 1>, laddr=addr(ip='127.0.0.1', port=51398), raddr=addr(ip='127.0.0.1', port=51399), status='ESTABLISHED', pid=35128) \n",
      "\n",
      "\n",
      "sconn(fd=-1, family=<AddressFamily.AF_INET: 2>, type=<SocketKind.SOCK_STREAM: 1>, laddr=addr(ip='127.0.0.1', port=9004), raddr=addr(ip='127.0.0.1', port=51439), status='ESTABLISHED', pid=35128) \n",
      "\n",
      "\n",
      "sconn(fd=-1, family=<AddressFamily.AF_INET: 2>, type=<SocketKind.SOCK_DGRAM: 2>, laddr=addr(ip='0.0.0.0', port=15207), raddr=(), status='NONE', pid=24900) \n",
      "\n",
      "\n",
      "sconn(fd=-1, family=<AddressFamily.AF_INET: 2>, type=<SocketKind.SOCK_STREAM: 1>, laddr=addr(ip='127.0.0.1', port=51104), raddr=addr(ip='127.0.0.1', port=51105), status='ESTABLISHED', pid=19608) \n",
      "\n",
      "\n",
      "sconn(fd=-1, family=<AddressFamily.AF_INET: 2>, type=<SocketKind.SOCK_STREAM: 1>, laddr=addr(ip='127.0.0.1', port=63630), raddr=addr(ip='127.0.0.1', port=63631), status='ESTABLISHED', pid=43664) \n",
      "\n",
      "\n",
      "sconn(fd=-1, family=<AddressFamily.AF_INET: 2>, type=<SocketKind.SOCK_STREAM: 1>, laddr=addr(ip='127.0.0.1', port=55612), raddr=addr(ip='127.0.0.1', port=55611), status='ESTABLISHED', pid=24892) \n",
      "\n",
      "\n",
      "sconn(fd=-1, family=<AddressFamily.AF_INET: 2>, type=<SocketKind.SOCK_STREAM: 1>, laddr=addr(ip='192.168.55.101', port=53646), raddr=addr(ip='207.188.6.17', port=443), status='ESTABLISHED', pid=3832) \n",
      "\n",
      "\n",
      "sconn(fd=-1, family=<AddressFamily.AF_INET: 2>, type=<SocketKind.SOCK_STREAM: 1>, laddr=addr(ip='127.0.0.1', port=64905), raddr=addr(ip='127.0.0.1', port=64904), status='ESTABLISHED', pid=43228) \n",
      "\n",
      "\n",
      "sconn(fd=-1, family=<AddressFamily.AF_INET: 2>, type=<SocketKind.SOCK_STREAM: 1>, laddr=addr(ip='127.0.0.1', port=6341), raddr=(), status='LISTEN', pid=21656) \n",
      "\n",
      "\n",
      "sconn(fd=-1, family=<AddressFamily.AF_INET: 2>, type=<SocketKind.SOCK_STREAM: 1>, laddr=addr(ip='0.0.0.0', port=49670), raddr=(), status='LISTEN', pid=1092) \n",
      "\n",
      "\n",
      "sconn(fd=-1, family=<AddressFamily.AF_INET6: 23>, type=<SocketKind.SOCK_DGRAM: 2>, laddr=addr(ip='::1', port=1900), raddr=(), status='NONE', pid=5596) \n",
      "\n",
      "\n",
      "sconn(fd=-1, family=<AddressFamily.AF_INET: 2>, type=<SocketKind.SOCK_STREAM: 1>, laddr=addr(ip='127.0.0.1', port=9000), raddr=(), status='LISTEN', pid=35128) \n",
      "\n",
      "\n",
      "sconn(fd=-1, family=<AddressFamily.AF_INET: 2>, type=<SocketKind.SOCK_DGRAM: 2>, laddr=addr(ip='127.0.0.1', port=64977), raddr=(), status='NONE', pid=24900) \n",
      "\n",
      "\n",
      "sconn(fd=-1, family=<AddressFamily.AF_INET: 2>, type=<SocketKind.SOCK_DGRAM: 2>, laddr=addr(ip='127.0.0.1', port=64987), raddr=(), status='NONE', pid=24900) \n",
      "\n",
      "\n",
      "sconn(fd=-1, family=<AddressFamily.AF_INET: 2>, type=<SocketKind.SOCK_STREAM: 1>, laddr=addr(ip='127.0.0.1', port=51434), raddr=addr(ip='127.0.0.1', port=51433), status='ESTABLISHED', pid=49928) \n",
      "\n",
      "\n",
      "sconn(fd=-1, family=<AddressFamily.AF_INET: 2>, type=<SocketKind.SOCK_STREAM: 1>, laddr=addr(ip='127.0.0.1', port=51419), raddr=addr(ip='127.0.0.1', port=51418), status='ESTABLISHED', pid=35128) \n",
      "\n",
      "\n",
      "sconn(fd=-1, family=<AddressFamily.AF_INET: 2>, type=<SocketKind.SOCK_STREAM: 1>, laddr=addr(ip='127.0.0.1', port=61924), raddr=addr(ip='127.0.0.1', port=61923), status='ESTABLISHED', pid=28772) \n",
      "\n",
      "\n",
      "sconn(fd=-1, family=<AddressFamily.AF_INET: 2>, type=<SocketKind.SOCK_STREAM: 1>, laddr=addr(ip='127.0.0.1', port=51408), raddr=addr(ip='127.0.0.1', port=51407), status='ESTABLISHED', pid=35128) \n",
      "\n",
      "\n",
      "sconn(fd=-1, family=<AddressFamily.AF_INET: 2>, type=<SocketKind.SOCK_STREAM: 1>, laddr=addr(ip='127.0.0.1', port=61825), raddr=addr(ip='127.0.0.1', port=61824), status='ESTABLISHED', pid=22972) \n",
      "\n",
      "\n",
      "sconn(fd=-1, family=<AddressFamily.AF_INET: 2>, type=<SocketKind.SOCK_DGRAM: 2>, laddr=addr(ip='127.0.0.1', port=59353), raddr=(), status='NONE', pid=29060) \n",
      "\n",
      "\n",
      "sconn(fd=-1, family=<AddressFamily.AF_INET: 2>, type=<SocketKind.SOCK_STREAM: 1>, laddr=addr(ip='127.0.0.1', port=51401), raddr=addr(ip='127.0.0.1', port=51400), status='ESTABLISHED', pid=35128) \n",
      "\n",
      "\n",
      "sconn(fd=-1, family=<AddressFamily.AF_INET: 2>, type=<SocketKind.SOCK_STREAM: 1>, laddr=addr(ip='127.0.0.1', port=64904), raddr=addr(ip='127.0.0.1', port=64905), status='ESTABLISHED', pid=43228) \n",
      "\n",
      "\n",
      "sconn(fd=-1, family=<AddressFamily.AF_INET: 2>, type=<SocketKind.SOCK_STREAM: 1>, laddr=addr(ip='127.0.0.1', port=55631), raddr=addr(ip='127.0.0.1', port=55632), status='ESTABLISHED', pid=10220) \n",
      "\n",
      "\n",
      "sconn(fd=-1, family=<AddressFamily.AF_INET: 2>, type=<SocketKind.SOCK_STREAM: 1>, laddr=addr(ip='127.0.0.1', port=55632), raddr=addr(ip='127.0.0.1', port=55631), status='ESTABLISHED', pid=10220) \n",
      "\n",
      "\n",
      "sconn(fd=-1, family=<AddressFamily.AF_INET: 2>, type=<SocketKind.SOCK_DGRAM: 2>, laddr=addr(ip='192.168.55.101', port=5646), raddr=(), status='NONE', pid=24900) \n",
      "\n",
      "\n",
      "sconn(fd=-1, family=<AddressFamily.AF_INET: 2>, type=<SocketKind.SOCK_DGRAM: 2>, laddr=addr(ip='0.0.0.0', port=5353), raddr=(), status='NONE', pid=2228) \n",
      "\n",
      "\n",
      "sconn(fd=-1, family=<AddressFamily.AF_INET6: 23>, type=<SocketKind.SOCK_DGRAM: 2>, laddr=addr(ip='::', port=4500), raddr=(), status='NONE', pid=3956) \n",
      "\n",
      "\n",
      "sconn(fd=-1, family=<AddressFamily.AF_INET: 2>, type=<SocketKind.SOCK_STREAM: 1>, laddr=addr(ip='127.0.0.1', port=9002), raddr=addr(ip='127.0.0.1', port=51404), status='ESTABLISHED', pid=35128) \n",
      "\n",
      "\n",
      "sconn(fd=-1, family=<AddressFamily.AF_INET: 2>, type=<SocketKind.SOCK_STREAM: 1>, laddr=addr(ip='127.0.0.1', port=51395), raddr=addr(ip='127.0.0.1', port=51394), status='ESTABLISHED', pid=35128) \n",
      "\n",
      "\n",
      "sconn(fd=-1, family=<AddressFamily.AF_INET: 2>, type=<SocketKind.SOCK_STREAM: 1>, laddr=addr(ip='127.0.0.1', port=51430), raddr=addr(ip='127.0.0.1', port=51429), status='ESTABLISHED', pid=35128) \n",
      "\n",
      "\n",
      "sconn(fd=-1, family=<AddressFamily.AF_INET: 2>, type=<SocketKind.SOCK_STREAM: 1>, laddr=addr(ip='127.0.0.1', port=9002), raddr=(), status='LISTEN', pid=35128) \n",
      "\n",
      "\n",
      "sconn(fd=-1, family=<AddressFamily.AF_INET: 2>, type=<SocketKind.SOCK_STREAM: 1>, laddr=addr(ip='127.0.0.1', port=55664), raddr=addr(ip='127.0.0.1', port=55663), status='ESTABLISHED', pid=48784) \n",
      "\n",
      "\n",
      "sconn(fd=-1, family=<AddressFamily.AF_INET: 2>, type=<SocketKind.SOCK_STREAM: 1>, laddr=addr(ip='127.0.0.1', port=51217), raddr=addr(ip='127.0.0.1', port=51218), status='ESTABLISHED', pid=43388) \n",
      "\n",
      "\n",
      "sconn(fd=-1, family=<AddressFamily.AF_INET: 2>, type=<SocketKind.SOCK_STREAM: 1>, laddr=addr(ip='127.0.0.1', port=62956), raddr=addr(ip='127.0.0.1', port=62957), status='ESTABLISHED', pid=23296) \n",
      "\n",
      "\n",
      "sconn(fd=-1, family=<AddressFamily.AF_INET6: 23>, type=<SocketKind.SOCK_STREAM: 1>, laddr=addr(ip='::', port=49667), raddr=(), status='LISTEN', pid=2540) \n",
      "\n",
      "\n",
      "sconn(fd=-1, family=<AddressFamily.AF_INET: 2>, type=<SocketKind.SOCK_DGRAM: 2>, laddr=addr(ip='127.0.0.1', port=50261), raddr=(), status='NONE', pid=24900) \n",
      "\n",
      "\n",
      "sconn(fd=-1, family=<AddressFamily.AF_INET: 2>, type=<SocketKind.SOCK_DGRAM: 2>, laddr=addr(ip='127.0.0.1', port=60080), raddr=(), status='NONE', pid=24900) \n",
      "\n",
      "\n",
      "sconn(fd=-1, family=<AddressFamily.AF_INET6: 23>, type=<SocketKind.SOCK_STREAM: 1>, laddr=addr(ip='::', port=445), raddr=(), status='LISTEN', pid=4) \n",
      "\n",
      "\n",
      "sconn(fd=-1, family=<AddressFamily.AF_INET: 2>, type=<SocketKind.SOCK_DGRAM: 2>, laddr=addr(ip='127.0.0.1', port=64989), raddr=(), status='NONE', pid=24900) \n",
      "\n",
      "\n",
      "sconn(fd=-1, family=<AddressFamily.AF_INET: 2>, type=<SocketKind.SOCK_STREAM: 1>, laddr=addr(ip='127.0.0.1', port=55373), raddr=addr(ip='127.0.0.1', port=55372), status='ESTABLISHED', pid=31968) \n",
      "\n",
      "\n",
      "sconn(fd=-1, family=<AddressFamily.AF_INET: 2>, type=<SocketKind.SOCK_STREAM: 1>, laddr=addr(ip='127.0.0.1', port=55611), raddr=addr(ip='127.0.0.1', port=55612), status='ESTABLISHED', pid=24892) \n",
      "\n",
      "\n",
      "sconn(fd=-1, family=<AddressFamily.AF_INET: 2>, type=<SocketKind.SOCK_STREAM: 1>, laddr=addr(ip='127.0.0.1', port=52908), raddr=(), status='LISTEN', pid=11576) \n",
      "\n",
      "\n",
      "sconn(fd=-1, family=<AddressFamily.AF_INET6: 23>, type=<SocketKind.SOCK_STREAM: 1>, laddr=addr(ip='::', port=49666), raddr=(), status='LISTEN', pid=2584) \n",
      "\n",
      "\n",
      "sconn(fd=-1, family=<AddressFamily.AF_INET6: 23>, type=<SocketKind.SOCK_STREAM: 1>, laddr=addr(ip='::', port=49668), raddr=(), status='LISTEN', pid=3564) \n",
      "\n",
      "\n",
      "sconn(fd=-1, family=<AddressFamily.AF_INET: 2>, type=<SocketKind.SOCK_DGRAM: 2>, laddr=addr(ip='192.168.55.101', port=138), raddr=(), status='NONE', pid=4) \n",
      "\n",
      "\n",
      "sconn(fd=-1, family=<AddressFamily.AF_INET6: 23>, type=<SocketKind.SOCK_STREAM: 1>, laddr=addr(ip='::1', port=42050), raddr=(), status='LISTEN', pid=14672) \n",
      "\n",
      "\n",
      "sconn(fd=-1, family=<AddressFamily.AF_INET6: 23>, type=<SocketKind.SOCK_DGRAM: 2>, laddr=addr(ip='::', port=50253), raddr=(), status='NONE', pid=2228) \n",
      "\n",
      "\n",
      "sconn(fd=-1, family=<AddressFamily.AF_INET: 2>, type=<SocketKind.SOCK_STREAM: 1>, laddr=addr(ip='127.0.0.1', port=9003), raddr=(), status='LISTEN', pid=35128) \n",
      "\n",
      "\n",
      "sconn(fd=-1, family=<AddressFamily.AF_INET: 2>, type=<SocketKind.SOCK_DGRAM: 2>, laddr=addr(ip='0.0.0.0', port=4500), raddr=(), status='NONE', pid=3956) \n",
      "\n",
      "\n",
      "sconn(fd=-1, family=<AddressFamily.AF_INET: 2>, type=<SocketKind.SOCK_STREAM: 1>, laddr=addr(ip='0.0.0.0', port=49664), raddr=(), status='LISTEN', pid=1136) \n",
      "\n",
      "\n",
      "sconn(fd=-1, family=<AddressFamily.AF_INET: 2>, type=<SocketKind.SOCK_STREAM: 1>, laddr=addr(ip='127.0.0.1', port=51431), raddr=addr(ip='127.0.0.1', port=51432), status='ESTABLISHED', pid=49928) \n",
      "\n",
      "\n",
      "sconn(fd=-1, family=<AddressFamily.AF_INET: 2>, type=<SocketKind.SOCK_STREAM: 1>, laddr=addr(ip='127.0.0.1', port=51429), raddr=addr(ip='127.0.0.1', port=51430), status='ESTABLISHED', pid=35128) \n",
      "\n",
      "\n",
      "sconn(fd=-1, family=<AddressFamily.AF_INET: 2>, type=<SocketKind.SOCK_STREAM: 1>, laddr=addr(ip='192.168.55.101', port=51246), raddr=addr(ip='172.217.169.74', port=443), status='ESTABLISHED', pid=19016) \n",
      "\n",
      "\n",
      "sconn(fd=-1, family=<AddressFamily.AF_INET: 2>, type=<SocketKind.SOCK_STREAM: 1>, laddr=addr(ip='127.0.0.1', port=51411), raddr=addr(ip='127.0.0.1', port=51412), status='ESTABLISHED', pid=35128) \n",
      "\n",
      "\n",
      "sconn(fd=-1, family=<AddressFamily.AF_INET: 2>, type=<SocketKind.SOCK_STREAM: 1>, laddr=addr(ip='192.168.55.101', port=51318), raddr=addr(ip='172.65.10.226', port=443), status='TIME_WAIT', pid=0) \n",
      "\n",
      "\n",
      "sconn(fd=-1, family=<AddressFamily.AF_INET: 2>, type=<SocketKind.SOCK_STREAM: 1>, laddr=addr(ip='127.0.0.1', port=51179), raddr=addr(ip='127.0.0.1', port=51180), status='ESTABLISHED', pid=37600) \n",
      "\n",
      "\n"
     ]
    }
   ],
   "source": [
    "for each_connection in psutil.net_connections():\n",
    "    print(each_connection, \"\\n\\n\")"
   ]
  },
  {
   "cell_type": "markdown",
   "metadata": {},
   "source": [
    "- This function gives the list of socket connections of a system as a named tuples.\n",
    "```\n",
    "    Parameters:\n",
    "\n",
    "        fd     – the socket file descriptor.\n",
    "        family – the socket family, either AF_INET, AF_INET6 or AF_UNIX.\n",
    "        type   – the socket type, either SOCK_STREAM, SOCK_DGRAM or SOCK_SEQPACKET.\n",
    "        laddr  – the local address as a (ip, port) named tuple\n",
    "        raddr  – the remote address as a (ip, port) named tuple\n",
    "        status – represents the status of a TCP connection.\n",
    "        pid    – the PID of the process which opened the socket, if retrievable, else None.\n",
    "```"
   ]
  },
  {
   "cell_type": "code",
   "execution_count": 16,
   "metadata": {},
   "outputs": [
    {
     "data": {
      "text/plain": [
       "{'Local Area Connection* 1': [snicaddr(family=<AddressFamily.AF_LINK: -1>, address='2A-39-26-5C-2E-17', netmask=None, broadcast=None, ptp=None),\n",
       "  snicaddr(family=<AddressFamily.AF_INET: 2>, address='169.254.58.181', netmask='255.255.0.0', broadcast=None, ptp=None)],\n",
       " 'Local Area Connection* 2': [snicaddr(family=<AddressFamily.AF_LINK: -1>, address='AA-39-26-F8-7C-3E', netmask=None, broadcast=None, ptp=None),\n",
       "  snicaddr(family=<AddressFamily.AF_INET: 2>, address='169.254.22.154', netmask='255.255.0.0', broadcast=None, ptp=None)],\n",
       " 'Wi-Fi': [snicaddr(family=<AddressFamily.AF_LINK: -1>, address='28-39-26-57-8E-D5', netmask=None, broadcast=None, ptp=None),\n",
       "  snicaddr(family=<AddressFamily.AF_INET: 2>, address='192.168.55.101', netmask='255.255.255.0', broadcast=None, ptp=None)],\n",
       " 'Local Area Connection': [snicaddr(family=<AddressFamily.AF_INET: 2>, address='169.254.65.238', netmask='255.255.0.0', broadcast=None, ptp=None)],\n",
       " 'Loopback Pseudo-Interface 1': [snicaddr(family=<AddressFamily.AF_INET: 2>, address='127.0.0.1', netmask='255.0.0.0', broadcast=None, ptp=None),\n",
       "  snicaddr(family=<AddressFamily.AF_INET6: 23>, address='::1', netmask=None, broadcast=None, ptp=None)]}"
      ]
     },
     "execution_count": 16,
     "metadata": {},
     "output_type": "execute_result"
    }
   ],
   "source": [
    "psutil.net_if_addrs()"
   ]
  },
  {
   "cell_type": "markdown",
   "metadata": {},
   "source": [
    "- This function is used to get the addresses of each network interface card installed on the system. \n",
    "- It is a dictionary whose keys are the Network Interface Card names and value is a list of named tuples for each address assigned to it. \n",
    "- Each tuple includes:\n",
    "```\n",
    "    family     – the socket family, either AF_INET or AF_INET6\n",
    "    address    – the primary NIC address\n",
    "    netmask    – the netmask address\n",
    "    broadcast  – the broadcast address.\n",
    "    ptp        – “point to point” it is the destination address on a point to point interface.\n",
    "```"
   ]
  },
  {
   "cell_type": "code",
   "execution_count": 17,
   "metadata": {},
   "outputs": [
    {
     "data": {
      "text/plain": [
       "sbattery(percent=84, secsleft=9866, power_plugged=False)"
      ]
     },
     "execution_count": 17,
     "metadata": {},
     "output_type": "execute_result"
    }
   ],
   "source": [
    "psutil.sensors_battery()"
   ]
  },
  {
   "cell_type": "markdown",
   "metadata": {},
   "source": [
    "- This function gives battery status information as a named tuple.\n",
    "```\n",
    "    - Parameters:\n",
    "        percent       – battery power left as a percentage.\n",
    "        secsleft      – an approximate time in seconds before battery is completely discharged.\n",
    "        power_plugged – True if the AC power cable is connected, False if it is not connected\n",
    "```    "
   ]
  },
  {
   "cell_type": "code",
   "execution_count": 20,
   "metadata": {},
   "outputs": [
    {
     "data": {
      "text/plain": [
       "1678878919.3886964"
      ]
     },
     "execution_count": 20,
     "metadata": {},
     "output_type": "execute_result"
    }
   ],
   "source": [
    "psutil.boot_time()  # system boot time which is expressed in seconds since the epoch."
   ]
  },
  {
   "cell_type": "code",
   "execution_count": 21,
   "metadata": {},
   "outputs": [
    {
     "data": {
      "text/plain": [
       "'2023-03-15 11:15:19'"
      ]
     },
     "execution_count": 21,
     "metadata": {},
     "output_type": "execute_result"
    }
   ],
   "source": [
    "from datetime import datetime\n",
    "\n",
    "datetime.fromtimestamp(psutil.boot_time()).strftime(\"%Y-%m-%d %H:%M:%S\")"
   ]
  },
  {
   "cell_type": "code",
   "execution_count": 19,
   "metadata": {},
   "outputs": [
    {
     "data": {
      "text/plain": [
       "[suser(name='Amma', terminal=None, host=None, started=1678878960.4412148, pid=None)]"
      ]
     },
     "execution_count": 19,
     "metadata": {},
     "output_type": "execute_result"
    }
   ],
   "source": [
    "psutil.users()"
   ]
  },
  {
   "cell_type": "markdown",
   "metadata": {},
   "source": [
    "- This function gives the list of users who are connected on the system as a named tuples.\n",
    "```\n",
    "Parameters:\n",
    "\n",
    "    user     – It is the system name of the user.\n",
    "    terminal – the tty of the user.\n",
    "    host     – the host name of the user.\n",
    "    started  – the creation time as a floating point number expressed in seconds since the epoch.\n",
    "    pid      – the PID of the login process.\n",
    "```"
   ]
  }
 ],
 "metadata": {
  "kernelspec": {
   "display_name": "Python 3",
   "language": "python",
   "name": "python3"
  },
  "language_info": {
   "codemirror_mode": {
    "name": "ipython",
    "version": 3
   },
   "file_extension": ".py",
   "mimetype": "text/x-python",
   "name": "python",
   "nbconvert_exporter": "python",
   "pygments_lexer": "ipython3",
   "version": "3.11.3"
  }
 },
 "nbformat": 4,
 "nbformat_minor": 4
}
