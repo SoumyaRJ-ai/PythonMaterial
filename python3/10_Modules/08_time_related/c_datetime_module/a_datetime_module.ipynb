{
 "cells": [
  {
   "cell_type": "code",
   "execution_count": 1,
   "metadata": {},
   "outputs": [],
   "source": [
    "import datetime"
   ]
  },
  {
   "cell_type": "code",
   "execution_count": 2,
   "metadata": {},
   "outputs": [
    {
     "name": "stdout",
     "output_type": "stream",
     "text": [
      "['MAXYEAR', 'MINYEAR', '__builtins__', '__cached__', '__doc__', '__file__', '__loader__', '__name__', '__package__', '__spec__', 'date', 'datetime', 'datetime_CAPI', 'sys', 'time', 'timedelta', 'timezone', 'tzinfo']\n"
     ]
    }
   ],
   "source": [
    "print(dir(datetime))"
   ]
  },
  {
   "cell_type": "code",
   "execution_count": 3,
   "metadata": {},
   "outputs": [
    {
     "name": "stdout",
     "output_type": "stream",
     "text": [
      "datetime.MAXYEAR: 9999\n",
      "datetime.MINYEAR: 1\n"
     ]
    }
   ],
   "source": [
    "print('datetime.MAXYEAR:', datetime.MAXYEAR)\n",
    "print('datetime.MINYEAR:', datetime.MINYEAR)"
   ]
  },
  {
   "cell_type": "code",
   "execution_count": 4,
   "metadata": {},
   "outputs": [
    {
     "name": "stdout",
     "output_type": "stream",
     "text": [
      "datetime.datetime.min        =datetime.datetime(1, 1, 1, 0, 0)\n",
      "datetime.datetime.max        =datetime.datetime(9999, 12, 31, 23, 59, 59, 999999)\n",
      "datetime.datetime.resolution =datetime.timedelta(microseconds=1)\n"
     ]
    }
   ],
   "source": [
    "print(f'{datetime.datetime.min        =}')\n",
    "print(f'{datetime.datetime.max        =}')\n",
    "print(f'{datetime.datetime.resolution =}')"
   ]
  },
  {
   "cell_type": "code",
   "execution_count": 5,
   "metadata": {},
   "outputs": [
    {
     "name": "stdout",
     "output_type": "stream",
     "text": [
      "datetime.date.min            =datetime.date(1, 1, 1)\n",
      "datetime.date.max            =datetime.date(9999, 12, 31)\n",
      "datetime.date.resolution     =datetime.timedelta(days=1)\n"
     ]
    }
   ],
   "source": [
    "print(f'{datetime.date.min            =}')\n",
    "print(f'{datetime.date.max            =}')\n",
    "print(f'{datetime.date.resolution     =}')"
   ]
  },
  {
   "cell_type": "code",
   "execution_count": 6,
   "metadata": {},
   "outputs": [
    {
     "name": "stdout",
     "output_type": "stream",
     "text": [
      "datetime.time.min            =datetime.time(0, 0)\n",
      "datetime.time.max            =datetime.time(23, 59, 59, 999999)\n",
      "datetime.time.resolution     =datetime.timedelta(microseconds=1)\n"
     ]
    }
   ],
   "source": [
    "print(f'{datetime.time.min            =}')\n",
    "print(f'{datetime.time.max            =}')\n",
    "print(f'{datetime.time.resolution     =}')"
   ]
  },
  {
   "cell_type": "code",
   "execution_count": 7,
   "metadata": {},
   "outputs": [
    {
     "name": "stdout",
     "output_type": "stream",
     "text": [
      "datetime.tzinfo: <class 'datetime.tzinfo'>\n"
     ]
    }
   ],
   "source": [
    "print('datetime.tzinfo:', datetime.tzinfo)"
   ]
  },
  {
   "cell_type": "code",
   "execution_count": 8,
   "metadata": {},
   "outputs": [
    {
     "data": {
      "text/plain": [
       "<datetime.tzinfo at 0x2389d90d240>"
      ]
     },
     "execution_count": 8,
     "metadata": {},
     "output_type": "execute_result"
    }
   ],
   "source": [
    "datetime.tzinfo()"
   ]
  },
  {
   "cell_type": "markdown",
   "metadata": {},
   "source": [
    "```\n",
    "datetime  has three different kinds of objects:\n",
    "    1. date object      :- stores the date \n",
    "    2. time object      :- stores the time \n",
    "    3. datetime object  :- stores both the date and time \n",
    "```"
   ]
  },
  {
   "cell_type": "code",
   "execution_count": 9,
   "metadata": {},
   "outputs": [
    {
     "name": "stdout",
     "output_type": "stream",
     "text": [
      "now                      : 2020-06-25 08:46:45.260077\n",
      "type(now)                : <class 'datetime.datetime'>\n"
     ]
    }
   ],
   "source": [
    "now = datetime.datetime.now()\n",
    "print('now                      :', now)\n",
    "print('type(now)                :', type(now))"
   ]
  },
  {
   "cell_type": "code",
   "execution_count": 10,
   "metadata": {},
   "outputs": [
    {
     "name": "stdout",
     "output_type": "stream",
     "text": [
      "today                    : 2020-06-25\n",
      "type(today)              : <class 'datetime.date'>\n"
     ]
    }
   ],
   "source": [
    "today = now.date()\n",
    "print('today                    :', today)\n",
    "print('type(today)              :', type(today))"
   ]
  },
  {
   "cell_type": "code",
   "execution_count": 11,
   "metadata": {},
   "outputs": [
    {
     "name": "stdout",
     "output_type": "stream",
     "text": [
      "moment                   : 08:46:45.260077\n",
      "type(moment)             : <class 'datetime.time'>\n"
     ]
    }
   ],
   "source": [
    "moment = now.time()\n",
    "print('moment                   :', moment)\n",
    "print('type(moment)             :', type(moment))"
   ]
  },
  {
   "cell_type": "code",
   "execution_count": 12,
   "metadata": {},
   "outputs": [
    {
     "name": "stdout",
     "output_type": "stream",
     "text": [
      "now_using_combine        : 2020-06-25 08:46:45.260077\n",
      "type(now_using_combine)  : <class 'datetime.datetime'>\n"
     ]
    }
   ],
   "source": [
    "now_using_combine = datetime.datetime.combine(today, moment)\n",
    "print('now_using_combine        :', now_using_combine)\n",
    "print('type(now_using_combine)  :', type(now_using_combine))"
   ]
  },
  {
   "cell_type": "code",
   "execution_count": 13,
   "metadata": {},
   "outputs": [
    {
     "name": "stdout",
     "output_type": "stream",
     "text": [
      "yesterday                : 2020-06-24\n",
      "type(yesterday)          : <class 'datetime.date'>\n"
     ]
    }
   ],
   "source": [
    "yesterday = today - datetime.timedelta(days=1)\n",
    "print('yesterday                :', yesterday)\n",
    "print('type(yesterday)          :', type(yesterday))"
   ]
  },
  {
   "cell_type": "code",
   "execution_count": 14,
   "metadata": {},
   "outputs": [
    {
     "name": "stdout",
     "output_type": "stream",
     "text": [
      "time_difference          : -1 day, 0:00:00\n",
      "type(time_difference)    : <class 'datetime.timedelta'>\n"
     ]
    }
   ],
   "source": [
    "# Getting the difference between two datetime objects\n",
    "time_difference = yesterday - today\n",
    "print('time_difference          :', time_difference)\n",
    "print('type(time_difference)    :', type(time_difference))"
   ]
  },
  {
   "cell_type": "code",
   "execution_count": 15,
   "metadata": {},
   "outputs": [
    {
     "name": "stdout",
     "output_type": "stream",
     "text": [
      "my_date                  : 1947-08-15\n",
      "type(my_date)            : <class 'datetime.date'>\n"
     ]
    }
   ],
   "source": [
    "# date object has three mandatory arguments\n",
    "my_date = datetime.date(1947, 8, 15)  # order YEAR, MONTH, DAY\n",
    "print('my_date                  :', my_date)\n",
    "print('type(my_date)            :', type(my_date))"
   ]
  },
  {
   "cell_type": "code",
   "execution_count": 16,
   "metadata": {},
   "outputs": [
    {
     "name": "stdout",
     "output_type": "stream",
     "text": [
      "my_date                  : 1947-08-15\n",
      "type(my_date)            : <class 'datetime.date'>\n"
     ]
    }
   ],
   "source": [
    "my_date = datetime.date(day=15, year=1947, month=8)  # order can be changed using keyword args\n",
    "print('my_date                  :', my_date)\n",
    "print('type(my_date)            :', type(my_date))"
   ]
  },
  {
   "cell_type": "code",
   "execution_count": 17,
   "metadata": {},
   "outputs": [
    {
     "name": "stdout",
     "output_type": "stream",
     "text": [
      "my_time                  : 00:00:00\n",
      "type(my_time)            : <class 'datetime.time'>\n"
     ]
    }
   ],
   "source": [
    "# time object don't have mandatory arguments\n",
    "my_time = datetime.time()\n",
    "print('my_time                  :', my_time)\n",
    "print('type(my_time)            :', type(my_time))"
   ]
  },
  {
   "cell_type": "code",
   "execution_count": 18,
   "metadata": {},
   "outputs": [
    {
     "name": "stdout",
     "output_type": "stream",
     "text": [
      "my_time                  : 00:00:00\n",
      "type(my_time)            : <class 'datetime.time'>\n"
     ]
    }
   ],
   "source": [
    "my_time = datetime.time(0, 0)  # first argument hour, minute, second\n",
    "print('my_time                  :', my_time)\n",
    "print('type(my_time)            :', type(my_time))"
   ]
  },
  {
   "cell_type": "code",
   "execution_count": 19,
   "metadata": {},
   "outputs": [
    {
     "name": "stdout",
     "output_type": "stream",
     "text": [
      "my_time                  : 00:00:00\n",
      "type(my_time)            : <class 'datetime.time'>\n"
     ]
    }
   ],
   "source": [
    "my_time = datetime.time(hour=0, minute=0)\n",
    "print('my_time                  :', my_time)\n",
    "print('type(my_time)            :', type(my_time))"
   ]
  },
  {
   "cell_type": "code",
   "execution_count": 20,
   "metadata": {},
   "outputs": [
    {
     "name": "stdout",
     "output_type": "stream",
     "text": [
      "my_datetime              : 1984-06-24 00:00:00\n",
      "type(my_datetime)        : <class 'datetime.datetime'>\n"
     ]
    }
   ],
   "source": [
    "# datetime objects have the same mandatory arguments as date object\n",
    "my_datetime = datetime.datetime(year=1984, month=6, day=24)  # Time is set to 0:00\n",
    "print('my_datetime              :', my_datetime)\n",
    "print('type(my_datetime)        :', type(my_datetime))"
   ]
  },
  {
   "cell_type": "code",
   "execution_count": 21,
   "metadata": {},
   "outputs": [
    {
     "name": "stdout",
     "output_type": "stream",
     "text": [
      "my_datetime              : 1984-06-24 18:30:00\n",
      "type(my_datetime)        : <class 'datetime.datetime'>\n"
     ]
    }
   ],
   "source": [
    "my_datetime = datetime.datetime(1984, 6, 24, 18, 30)\n",
    "print('my_datetime              :', my_datetime)\n",
    "print('type(my_datetime)        :', type(my_datetime))"
   ]
  },
  {
   "cell_type": "code",
   "execution_count": 22,
   "metadata": {},
   "outputs": [
    {
     "name": "stdout",
     "output_type": "stream",
     "text": [
      "my_datetime              : 1984-06-24 18:30:00\n",
      "type(my_datetime)        : <class 'datetime.datetime'>\n"
     ]
    }
   ],
   "source": [
    "my_datetime = datetime.datetime(year=1984, month=6, day=24, hour=18, minute=30)\n",
    "print('my_datetime              :', my_datetime)\n",
    "print('type(my_datetime)        :', type(my_datetime))"
   ]
  },
  {
   "cell_type": "code",
   "execution_count": 23,
   "metadata": {},
   "outputs": [
    {
     "name": "stdout",
     "output_type": "stream",
     "text": [
      "another_datetime         : 2019-01-24 18:30:00\n",
      "type(another_datetime)   : <class 'datetime.datetime'>\n"
     ]
    }
   ],
   "source": [
    "# Change one datetime object to obtain another using the replace method\n",
    "another_datetime = my_datetime.replace(year=2019, month=1)\n",
    "print('another_datetime         :', another_datetime)\n",
    "print('type(another_datetime)   :', type(another_datetime))"
   ]
  },
  {
   "cell_type": "code",
   "execution_count": 24,
   "metadata": {},
   "outputs": [
    {
     "name": "stdout",
     "output_type": "stream",
     "text": [
      "epoch                    : 1970-01-01 00:00:00\n",
      "type(epoch)              : <class 'datetime.datetime'>\n"
     ]
    }
   ],
   "source": [
    "# Obtain a datetime object representing the epoch: 1st Jan, 1970\n",
    "epoch = datetime.datetime.utcfromtimestamp(0)\n",
    "print('epoch                    :', epoch)\n",
    "print('type(epoch)              :', type(epoch))"
   ]
  },
  {
   "cell_type": "code",
   "execution_count": 25,
   "metadata": {},
   "outputs": [
    {
     "name": "stdout",
     "output_type": "stream",
     "text": [
      "now - epoch              : 18438 days, 8:46:45.260077\n"
     ]
    }
   ],
   "source": [
    "# Obtain difference between epoch time and now\n",
    "delta = now - epoch\n",
    "print('now - epoch              :', delta)"
   ]
  },
  {
   "cell_type": "code",
   "execution_count": 26,
   "metadata": {},
   "outputs": [
    {
     "name": "stdout",
     "output_type": "stream",
     "text": [
      "(now - epoch) diff days  : 18438\n"
     ]
    }
   ],
   "source": [
    "days = delta.days\n",
    "print('(now - epoch) diff days  :', days)"
   ]
  },
  {
   "cell_type": "code",
   "execution_count": 27,
   "metadata": {},
   "outputs": [
    {
     "name": "stdout",
     "output_type": "stream",
     "text": [
      "(now - epoch) diff secs  : 31605\n"
     ]
    }
   ],
   "source": [
    "seconds = delta.seconds\n",
    "print('(now - epoch) diff secs  :', seconds)"
   ]
  },
  {
   "cell_type": "code",
   "execution_count": 28,
   "metadata": {},
   "outputs": [
    {
     "name": "stdout",
     "output_type": "stream",
     "text": [
      "(now - epoch)total_seconds: 1593074805.260077\n"
     ]
    }
   ],
   "source": [
    "total_seconds = delta.total_seconds()\n",
    "print('(now - epoch)total_seconds:', total_seconds)"
   ]
  },
  {
   "cell_type": "code",
   "execution_count": 29,
   "metadata": {},
   "outputs": [
    {
     "name": "stdout",
     "output_type": "stream",
     "text": [
      "2020-06-25 08:46:45.260077\n"
     ]
    }
   ],
   "source": [
    "print(datetime.datetime.utcfromtimestamp(1593074805.260077))"
   ]
  },
  {
   "cell_type": "code",
   "execution_count": 30,
   "metadata": {},
   "outputs": [
    {
     "name": "stdout",
     "output_type": "stream",
     "text": [
      "1970-01-02 20:01:33\n"
     ]
    }
   ],
   "source": [
    "print(datetime.datetime.utcfromtimestamp(158493))"
   ]
  },
  {
   "cell_type": "markdown",
   "metadata": {},
   "source": [
    "### Time Information"
   ]
  },
  {
   "cell_type": "code",
   "execution_count": 31,
   "metadata": {},
   "outputs": [
    {
     "name": "stdout",
     "output_type": "stream",
     "text": [
      "local now: 2020-06-25 08:55:31.171454\n"
     ]
    }
   ],
   "source": [
    "local_now = datetime.datetime.now()\n",
    "print('local now: {}'.format(local_now))"
   ]
  },
  {
   "cell_type": "code",
   "execution_count": 32,
   "metadata": {},
   "outputs": [
    {
     "name": "stdout",
     "output_type": "stream",
     "text": [
      "utc now  : 2020-06-25 03:25:35.547852\n"
     ]
    }
   ],
   "source": [
    "utc_now = datetime.datetime.utcnow()\n",
    "print('utc now  : {}'.format(utc_now))"
   ]
  },
  {
   "cell_type": "code",
   "execution_count": 33,
   "metadata": {},
   "outputs": [
    {
     "name": "stdout",
     "output_type": "stream",
     "text": [
      "2020 6 25 8 55 31\n",
      "date: 2020-06-25\n",
      "time: 08:55:31.171454\n"
     ]
    }
   ],
   "source": [
    "# You can access any value separately:\n",
    "print('{} {} {} {} {} {}'.format(local_now.year, local_now.month,\n",
    "                                 local_now.day, local_now.hour,\n",
    "                                 local_now.minute, local_now.second))\n",
    "\n",
    "print('date: {}'.format(local_now.date()))\n",
    "print('time: {}'.format(local_now.time()))"
   ]
  },
  {
   "cell_type": "markdown",
   "metadata": {},
   "source": [
    "    datetime.strftime - For string formatting the datetime\n",
    "    For more datetime related string formatters, go to http://strftime.org/"
   ]
  },
  {
   "cell_type": "code",
   "execution_count": 34,
   "metadata": {},
   "outputs": [
    {
     "data": {
      "text/plain": [
       "'2020/06/25-08:55:31'"
      ]
     },
     "execution_count": 34,
     "metadata": {},
     "output_type": "execute_result"
    }
   ],
   "source": [
    "local_now.strftime('%Y/%m/%d-%H:%M:%S')"
   ]
  },
  {
   "cell_type": "code",
   "execution_count": 35,
   "metadata": {},
   "outputs": [
    {
     "data": {
      "text/plain": [
       "'20/06/25-08:55:31'"
      ]
     },
     "execution_count": 35,
     "metadata": {},
     "output_type": "execute_result"
    }
   ],
   "source": [
    "local_now.strftime('%y/%m/%d-%H:%M:%S')"
   ]
  },
  {
   "cell_type": "code",
   "execution_count": 36,
   "metadata": {},
   "outputs": [
    {
     "data": {
      "text/plain": [
       "'20 June 25-08:55:31'"
      ]
     },
     "execution_count": 36,
     "metadata": {},
     "output_type": "execute_result"
    }
   ],
   "source": [
    "local_now.strftime('%y %B %d-%H:%M:%S')"
   ]
  },
  {
   "cell_type": "code",
   "execution_count": 37,
   "metadata": {},
   "outputs": [
    {
     "data": {
      "text/plain": [
       "'2020 Jun 25-08:55:31 AM'"
      ]
     },
     "execution_count": 37,
     "metadata": {},
     "output_type": "execute_result"
    }
   ],
   "source": [
    "local_now.strftime('%Y %b %d-%I:%M:%S %p')"
   ]
  },
  {
   "cell_type": "code",
   "execution_count": 38,
   "metadata": {},
   "outputs": [
    {
     "data": {
      "text/plain": [
       "'2020 Jun 25 08:55:31 AM '"
      ]
     },
     "execution_count": 38,
     "metadata": {},
     "output_type": "execute_result"
    }
   ],
   "source": [
    "local_now.strftime('%Y %b %d %I:%M:%S %p %z')"
   ]
  },
  {
   "cell_type": "code",
   "execution_count": 39,
   "metadata": {},
   "outputs": [
    {
     "name": "stdout",
     "output_type": "stream",
     "text": [
      "formatted2 Today is : 25 Jun,2020 time:08:55:31\n"
     ]
    }
   ],
   "source": [
    "formatted2 = local_now.strftime('Today is : %d %b,%Y time:%H:%M:%S')\n",
    "print('formatted2', formatted2)"
   ]
  },
  {
   "cell_type": "markdown",
   "metadata": {},
   "source": [
    "#### datetime.strptime() - For converting a datetime string into a datetime object"
   ]
  },
  {
   "cell_type": "code",
   "execution_count": 40,
   "metadata": {},
   "outputs": [
    {
     "name": "stdout",
     "output_type": "stream",
     "text": [
      "my_dt      :2000-01-01 16:00:00 \n",
      "type(my_dt):<class 'datetime.datetime'>\n"
     ]
    }
   ],
   "source": [
    "my_dt = datetime.datetime.strptime('2000-01-01 16:00:00', '%Y-%m-%d %H:%M:%S')\n",
    "print(f'my_dt      :{my_dt} \\ntype(my_dt):{type(my_dt)}')"
   ]
  },
  {
   "cell_type": "code",
   "execution_count": 41,
   "metadata": {},
   "outputs": [
    {
     "data": {
      "text/plain": [
       "datetime.datetime(1945, 4, 8, 0, 0)"
      ]
     },
     "execution_count": 41,
     "metadata": {},
     "output_type": "execute_result"
    }
   ],
   "source": [
    "datetime.datetime.strptime('8 April 1945', '%d %B %Y')"
   ]
  },
  {
   "cell_type": "markdown",
   "metadata": {},
   "source": [
    "#### datetime.timedelta - For working with time difference."
   ]
  },
  {
   "cell_type": "code",
   "execution_count": 42,
   "metadata": {},
   "outputs": [
    {
     "data": {
      "text/plain": [
       "datetime.datetime(2020, 7, 18, 9, 14, 31, 171454)"
      ]
     },
     "execution_count": 42,
     "metadata": {},
     "output_type": "execute_result"
    }
   ],
   "source": [
    "local_now + datetime.timedelta(days=23, minutes=19)"
   ]
  },
  {
   "cell_type": "code",
   "execution_count": 43,
   "metadata": {},
   "outputs": [
    {
     "name": "stdout",
     "output_type": "stream",
     "text": [
      "tomorrow this time: 2020-07-15 08:55:31.171454\n"
     ]
    }
   ],
   "source": [
    "tomorrow = local_now + datetime.timedelta(days=20)\n",
    "print('tomorrow this time: {}'.format(tomorrow))"
   ]
  },
  {
   "cell_type": "code",
   "execution_count": 44,
   "metadata": {},
   "outputs": [
    {
     "name": "stdout",
     "output_type": "stream",
     "text": [
      "tomorrow - now : 20 days, 0:00:00\n",
      "days           : 20\n",
      "seconds        : 0\n",
      "total seconds  : 1728000.0\n"
     ]
    }
   ],
   "source": [
    "delta = tomorrow - local_now\n",
    "print(f'tomorrow - now : {delta}')\n",
    "print(f'days           : {delta.days}')\n",
    "print(f'seconds        : {delta.seconds}')\n",
    "print(f'total seconds  : {delta.total_seconds()}')"
   ]
  },
  {
   "cell_type": "markdown",
   "metadata": {},
   "source": [
    "### Working with time zones\n",
    "    pip install -U pytz --user"
   ]
  },
  {
   "cell_type": "code",
   "execution_count": 45,
   "metadata": {},
   "outputs": [
    {
     "name": "stdout",
     "output_type": "stream",
     "text": [
      "Requirement already up-to-date: pytz in c:\\users\\amma\\appdata\\roaming\\python\\python38\\site-packages (2020.1)\n"
     ]
    }
   ],
   "source": [
    "!pip install -U pytz --user"
   ]
  },
  {
   "cell_type": "code",
   "execution_count": 46,
   "metadata": {},
   "outputs": [],
   "source": [
    "import pytz"
   ]
  },
  {
   "cell_type": "code",
   "execution_count": 47,
   "metadata": {},
   "outputs": [
    {
     "name": "stdout",
     "output_type": "stream",
     "text": [
      "naive utc now       : 2020-06-25 03:36:37.943875\n",
      "tzinfo              : None\n"
     ]
    }
   ],
   "source": [
    "naive_utc_now = datetime.datetime.utcnow()\n",
    "print(f'naive utc now       : {naive_utc_now}')\n",
    "print(f'tzinfo              : {naive_utc_now.tzinfo}')"
   ]
  },
  {
   "cell_type": "code",
   "execution_count": 48,
   "metadata": {},
   "outputs": [],
   "source": [
    "# Localizing naive datetimes\n",
    "UTC_TZ = pytz.timezone('UTC')"
   ]
  },
  {
   "cell_type": "code",
   "execution_count": 49,
   "metadata": {},
   "outputs": [
    {
     "name": "stdout",
     "output_type": "stream",
     "text": [
      "utc now             : 2020-06-25 03:36:37.943875+00:00\n",
      "tzinfo              : UTC\n"
     ]
    }
   ],
   "source": [
    "utc_now = UTC_TZ.localize(naive_utc_now)\n",
    "print(f'utc now             : {utc_now}')\n",
    "print(f'tzinfo              : {utc_now.tzinfo}')"
   ]
  },
  {
   "cell_type": "code",
   "execution_count": 50,
   "metadata": {},
   "outputs": [],
   "source": [
    "# Converting localized datetimes to different timezone\n",
    "PARIS_TZ = pytz.timezone('Europe/Paris')"
   ]
  },
  {
   "cell_type": "code",
   "execution_count": 51,
   "metadata": {},
   "outputs": [
    {
     "name": "stdout",
     "output_type": "stream",
     "text": [
      "Paris now           : 2020-06-25 05:36:37.943875+02:00\n",
      "tzinfo              : Europe/Paris\n"
     ]
    }
   ],
   "source": [
    "paris_now = PARIS_TZ.normalize(utc_now)        # localize vs normalize\n",
    "print(f'Paris now           : {paris_now}')\n",
    "print(f'tzinfo              : {paris_now.tzinfo}')"
   ]
  },
  {
   "cell_type": "code",
   "execution_count": 52,
   "metadata": {},
   "outputs": [
    {
     "name": "stdout",
     "output_type": "stream",
     "text": [
      "New York now        : 2020-06-24 23:36:37.943875-04:00\n",
      "tzinfo              : America/New_York\n"
     ]
    }
   ],
   "source": [
    "NEW_YORK_TZ = pytz.timezone('America/New_York')\n",
    "ny_now = NEW_YORK_TZ.normalize(utc_now)\n",
    "\n",
    "print(f'New York now        : {ny_now}')\n",
    "print(f'tzinfo              : {ny_now.tzinfo}')"
   ]
  },
  {
   "cell_type": "code",
   "execution_count": 53,
   "metadata": {},
   "outputs": [
    {
     "name": "stdout",
     "output_type": "stream",
     "text": [
      "Los Angeles now     : 2020-06-24 20:36:37.943875-07:00\n",
      "tzinfo              : America/Los_Angeles\n"
     ]
    }
   ],
   "source": [
    "LOS_ANGELES_TZ = pytz.timezone('America/Los_Angeles')\n",
    "la_now = LOS_ANGELES_TZ.normalize(utc_now)\n",
    "\n",
    "print(f'Los Angeles now     : {la_now}')\n",
    "print(f'tzinfo              : {la_now.tzinfo}')"
   ]
  },
  {
   "cell_type": "code",
   "execution_count": 54,
   "metadata": {},
   "outputs": [
    {
     "name": "stdout",
     "output_type": "stream",
     "text": [
      "Africa/Abidjan\n",
      "Africa/Accra\n",
      "Africa/Addis_Ababa\n",
      "Africa/Algiers\n",
      "Africa/Asmara\n",
      "Africa/Asmera\n",
      "Africa/Bamako\n",
      "Africa/Bangui\n",
      "Africa/Banjul\n",
      "Africa/Bissau\n",
      "Africa/Blantyre\n",
      "Africa/Brazzaville\n",
      "Africa/Bujumbura\n",
      "Africa/Cairo\n",
      "Africa/Casablanca\n",
      "Africa/Ceuta\n",
      "Africa/Conakry\n",
      "Africa/Dakar\n",
      "Africa/Dar_es_Salaam\n",
      "Africa/Djibouti\n",
      "Africa/Douala\n",
      "Africa/El_Aaiun\n",
      "Africa/Freetown\n",
      "Africa/Gaborone\n",
      "Africa/Harare\n",
      "Africa/Johannesburg\n",
      "Africa/Juba\n",
      "Africa/Kampala\n",
      "Africa/Khartoum\n",
      "Africa/Kigali\n",
      "Africa/Kinshasa\n",
      "Africa/Lagos\n",
      "Africa/Libreville\n",
      "Africa/Lome\n",
      "Africa/Luanda\n",
      "Africa/Lubumbashi\n",
      "Africa/Lusaka\n",
      "Africa/Malabo\n",
      "Africa/Maputo\n",
      "Africa/Maseru\n",
      "Africa/Mbabane\n",
      "Africa/Mogadishu\n",
      "Africa/Monrovia\n",
      "Africa/Nairobi\n",
      "Africa/Ndjamena\n",
      "Africa/Niamey\n",
      "Africa/Nouakchott\n",
      "Africa/Ouagadougou\n",
      "Africa/Porto-Novo\n",
      "Africa/Sao_Tome\n",
      "Africa/Timbuktu\n",
      "Africa/Tripoli\n",
      "Africa/Tunis\n",
      "Africa/Windhoek\n",
      "America/Adak\n",
      "America/Anchorage\n",
      "America/Anguilla\n",
      "America/Antigua\n",
      "America/Araguaina\n",
      "America/Argentina/Buenos_Aires\n",
      "America/Argentina/Catamarca\n",
      "America/Argentina/ComodRivadavia\n",
      "America/Argentina/Cordoba\n",
      "America/Argentina/Jujuy\n",
      "America/Argentina/La_Rioja\n",
      "America/Argentina/Mendoza\n",
      "America/Argentina/Rio_Gallegos\n",
      "America/Argentina/Salta\n",
      "America/Argentina/San_Juan\n",
      "America/Argentina/San_Luis\n",
      "America/Argentina/Tucuman\n",
      "America/Argentina/Ushuaia\n",
      "America/Aruba\n",
      "America/Asuncion\n",
      "America/Atikokan\n",
      "America/Atka\n",
      "America/Bahia\n",
      "America/Bahia_Banderas\n",
      "America/Barbados\n",
      "America/Belem\n",
      "America/Belize\n",
      "America/Blanc-Sablon\n",
      "America/Boa_Vista\n",
      "America/Bogota\n",
      "America/Boise\n",
      "America/Buenos_Aires\n",
      "America/Cambridge_Bay\n",
      "America/Campo_Grande\n",
      "America/Cancun\n",
      "America/Caracas\n",
      "America/Catamarca\n",
      "America/Cayenne\n",
      "America/Cayman\n",
      "America/Chicago\n",
      "America/Chihuahua\n",
      "America/Coral_Harbour\n",
      "America/Cordoba\n",
      "America/Costa_Rica\n",
      "America/Creston\n",
      "America/Cuiaba\n",
      "America/Curacao\n",
      "America/Danmarkshavn\n",
      "America/Dawson\n",
      "America/Dawson_Creek\n",
      "America/Denver\n",
      "America/Detroit\n",
      "America/Dominica\n",
      "America/Edmonton\n",
      "America/Eirunepe\n",
      "America/El_Salvador\n",
      "America/Ensenada\n",
      "America/Fort_Nelson\n",
      "America/Fort_Wayne\n",
      "America/Fortaleza\n",
      "America/Glace_Bay\n",
      "America/Godthab\n",
      "America/Goose_Bay\n",
      "America/Grand_Turk\n",
      "America/Grenada\n",
      "America/Guadeloupe\n",
      "America/Guatemala\n",
      "America/Guayaquil\n",
      "America/Guyana\n",
      "America/Halifax\n",
      "America/Havana\n",
      "America/Hermosillo\n",
      "America/Indiana/Indianapolis\n",
      "America/Indiana/Knox\n",
      "America/Indiana/Marengo\n",
      "America/Indiana/Petersburg\n",
      "America/Indiana/Tell_City\n",
      "America/Indiana/Vevay\n",
      "America/Indiana/Vincennes\n",
      "America/Indiana/Winamac\n",
      "America/Indianapolis\n",
      "America/Inuvik\n",
      "America/Iqaluit\n",
      "America/Jamaica\n",
      "America/Jujuy\n",
      "America/Juneau\n",
      "America/Kentucky/Louisville\n",
      "America/Kentucky/Monticello\n",
      "America/Knox_IN\n",
      "America/Kralendijk\n",
      "America/La_Paz\n",
      "America/Lima\n",
      "America/Los_Angeles\n",
      "America/Louisville\n",
      "America/Lower_Princes\n",
      "America/Maceio\n",
      "America/Managua\n",
      "America/Manaus\n",
      "America/Marigot\n",
      "America/Martinique\n",
      "America/Matamoros\n",
      "America/Mazatlan\n",
      "America/Mendoza\n",
      "America/Menominee\n",
      "America/Merida\n",
      "America/Metlakatla\n",
      "America/Mexico_City\n",
      "America/Miquelon\n",
      "America/Moncton\n",
      "America/Monterrey\n",
      "America/Montevideo\n",
      "America/Montreal\n",
      "America/Montserrat\n",
      "America/Nassau\n",
      "America/New_York\n",
      "America/Nipigon\n",
      "America/Nome\n",
      "America/Noronha\n",
      "America/North_Dakota/Beulah\n",
      "America/North_Dakota/Center\n",
      "America/North_Dakota/New_Salem\n",
      "America/Nuuk\n",
      "America/Ojinaga\n",
      "America/Panama\n",
      "America/Pangnirtung\n",
      "America/Paramaribo\n",
      "America/Phoenix\n",
      "America/Port-au-Prince\n",
      "America/Port_of_Spain\n",
      "America/Porto_Acre\n",
      "America/Porto_Velho\n",
      "America/Puerto_Rico\n",
      "America/Punta_Arenas\n",
      "America/Rainy_River\n",
      "America/Rankin_Inlet\n",
      "America/Recife\n",
      "America/Regina\n",
      "America/Resolute\n",
      "America/Rio_Branco\n",
      "America/Rosario\n",
      "America/Santa_Isabel\n",
      "America/Santarem\n",
      "America/Santiago\n",
      "America/Santo_Domingo\n",
      "America/Sao_Paulo\n",
      "America/Scoresbysund\n",
      "America/Shiprock\n",
      "America/Sitka\n",
      "America/St_Barthelemy\n",
      "America/St_Johns\n",
      "America/St_Kitts\n",
      "America/St_Lucia\n",
      "America/St_Thomas\n",
      "America/St_Vincent\n",
      "America/Swift_Current\n",
      "America/Tegucigalpa\n",
      "America/Thule\n",
      "America/Thunder_Bay\n",
      "America/Tijuana\n",
      "America/Toronto\n",
      "America/Tortola\n",
      "America/Vancouver\n",
      "America/Virgin\n",
      "America/Whitehorse\n",
      "America/Winnipeg\n",
      "America/Yakutat\n",
      "America/Yellowknife\n",
      "Antarctica/Casey\n",
      "Antarctica/Davis\n",
      "Antarctica/DumontDUrville\n",
      "Antarctica/Macquarie\n",
      "Antarctica/Mawson\n",
      "Antarctica/McMurdo\n",
      "Antarctica/Palmer\n",
      "Antarctica/Rothera\n",
      "Antarctica/South_Pole\n",
      "Antarctica/Syowa\n",
      "Antarctica/Troll\n",
      "Antarctica/Vostok\n",
      "Arctic/Longyearbyen\n",
      "Asia/Aden\n",
      "Asia/Almaty\n",
      "Asia/Amman\n",
      "Asia/Anadyr\n",
      "Asia/Aqtau\n",
      "Asia/Aqtobe\n",
      "Asia/Ashgabat\n",
      "Asia/Ashkhabad\n",
      "Asia/Atyrau\n",
      "Asia/Baghdad\n",
      "Asia/Bahrain\n",
      "Asia/Baku\n",
      "Asia/Bangkok\n",
      "Asia/Barnaul\n",
      "Asia/Beirut\n",
      "Asia/Bishkek\n",
      "Asia/Brunei\n",
      "Asia/Calcutta\n",
      "Asia/Chita\n",
      "Asia/Choibalsan\n",
      "Asia/Chongqing\n",
      "Asia/Chungking\n",
      "Asia/Colombo\n",
      "Asia/Dacca\n",
      "Asia/Damascus\n",
      "Asia/Dhaka\n",
      "Asia/Dili\n",
      "Asia/Dubai\n",
      "Asia/Dushanbe\n",
      "Asia/Famagusta\n",
      "Asia/Gaza\n",
      "Asia/Harbin\n",
      "Asia/Hebron\n",
      "Asia/Ho_Chi_Minh\n",
      "Asia/Hong_Kong\n",
      "Asia/Hovd\n",
      "Asia/Irkutsk\n",
      "Asia/Istanbul\n",
      "Asia/Jakarta\n",
      "Asia/Jayapura\n",
      "Asia/Jerusalem\n",
      "Asia/Kabul\n",
      "Asia/Kamchatka\n",
      "Asia/Karachi\n",
      "Asia/Kashgar\n",
      "Asia/Kathmandu\n",
      "Asia/Katmandu\n",
      "Asia/Khandyga\n",
      "Asia/Kolkata\n",
      "Asia/Krasnoyarsk\n",
      "Asia/Kuala_Lumpur\n",
      "Asia/Kuching\n",
      "Asia/Kuwait\n",
      "Asia/Macao\n",
      "Asia/Macau\n",
      "Asia/Magadan\n",
      "Asia/Makassar\n",
      "Asia/Manila\n",
      "Asia/Muscat\n",
      "Asia/Nicosia\n",
      "Asia/Novokuznetsk\n",
      "Asia/Novosibirsk\n",
      "Asia/Omsk\n",
      "Asia/Oral\n",
      "Asia/Phnom_Penh\n",
      "Asia/Pontianak\n",
      "Asia/Pyongyang\n",
      "Asia/Qatar\n",
      "Asia/Qostanay\n",
      "Asia/Qyzylorda\n",
      "Asia/Rangoon\n",
      "Asia/Riyadh\n",
      "Asia/Saigon\n",
      "Asia/Sakhalin\n",
      "Asia/Samarkand\n",
      "Asia/Seoul\n",
      "Asia/Shanghai\n",
      "Asia/Singapore\n",
      "Asia/Srednekolymsk\n",
      "Asia/Taipei\n",
      "Asia/Tashkent\n",
      "Asia/Tbilisi\n",
      "Asia/Tehran\n",
      "Asia/Tel_Aviv\n",
      "Asia/Thimbu\n",
      "Asia/Thimphu\n",
      "Asia/Tokyo\n",
      "Asia/Tomsk\n",
      "Asia/Ujung_Pandang\n",
      "Asia/Ulaanbaatar\n",
      "Asia/Ulan_Bator\n",
      "Asia/Urumqi\n",
      "Asia/Ust-Nera\n",
      "Asia/Vientiane\n",
      "Asia/Vladivostok\n",
      "Asia/Yakutsk\n",
      "Asia/Yangon\n",
      "Asia/Yekaterinburg\n",
      "Asia/Yerevan\n",
      "Atlantic/Azores\n",
      "Atlantic/Bermuda\n",
      "Atlantic/Canary\n",
      "Atlantic/Cape_Verde\n",
      "Atlantic/Faeroe\n",
      "Atlantic/Faroe\n",
      "Atlantic/Jan_Mayen\n",
      "Atlantic/Madeira\n",
      "Atlantic/Reykjavik\n",
      "Atlantic/South_Georgia\n",
      "Atlantic/St_Helena\n",
      "Atlantic/Stanley\n",
      "Australia/ACT\n",
      "Australia/Adelaide\n",
      "Australia/Brisbane\n",
      "Australia/Broken_Hill\n",
      "Australia/Canberra\n",
      "Australia/Currie\n",
      "Australia/Darwin\n",
      "Australia/Eucla\n",
      "Australia/Hobart\n",
      "Australia/LHI\n",
      "Australia/Lindeman\n",
      "Australia/Lord_Howe\n",
      "Australia/Melbourne\n",
      "Australia/NSW\n",
      "Australia/North\n",
      "Australia/Perth\n",
      "Australia/Queensland\n",
      "Australia/South\n",
      "Australia/Sydney\n",
      "Australia/Tasmania\n",
      "Australia/Victoria\n",
      "Australia/West\n",
      "Australia/Yancowinna\n",
      "Brazil/Acre\n",
      "Brazil/DeNoronha\n",
      "Brazil/East\n",
      "Brazil/West\n",
      "CET\n",
      "CST6CDT\n",
      "Canada/Atlantic\n",
      "Canada/Central\n",
      "Canada/Eastern\n",
      "Canada/Mountain\n",
      "Canada/Newfoundland\n",
      "Canada/Pacific\n",
      "Canada/Saskatchewan\n",
      "Canada/Yukon\n",
      "Chile/Continental\n",
      "Chile/EasterIsland\n",
      "Cuba\n",
      "EET\n",
      "EST\n",
      "EST5EDT\n",
      "Egypt\n",
      "Eire\n",
      "Etc/GMT\n",
      "Etc/GMT+0\n",
      "Etc/GMT+1\n",
      "Etc/GMT+10\n",
      "Etc/GMT+11\n",
      "Etc/GMT+12\n",
      "Etc/GMT+2\n",
      "Etc/GMT+3\n",
      "Etc/GMT+4\n",
      "Etc/GMT+5\n",
      "Etc/GMT+6\n",
      "Etc/GMT+7\n",
      "Etc/GMT+8\n",
      "Etc/GMT+9\n",
      "Etc/GMT-0\n",
      "Etc/GMT-1\n",
      "Etc/GMT-10\n",
      "Etc/GMT-11\n",
      "Etc/GMT-12\n",
      "Etc/GMT-13\n",
      "Etc/GMT-14\n",
      "Etc/GMT-2\n",
      "Etc/GMT-3\n",
      "Etc/GMT-4\n",
      "Etc/GMT-5\n",
      "Etc/GMT-6\n",
      "Etc/GMT-7\n",
      "Etc/GMT-8\n",
      "Etc/GMT-9\n",
      "Etc/GMT0\n",
      "Etc/Greenwich\n",
      "Etc/UCT\n",
      "Etc/UTC\n",
      "Etc/Universal\n",
      "Etc/Zulu\n",
      "Europe/Amsterdam\n",
      "Europe/Andorra\n",
      "Europe/Astrakhan\n",
      "Europe/Athens\n",
      "Europe/Belfast\n",
      "Europe/Belgrade\n",
      "Europe/Berlin\n",
      "Europe/Bratislava\n",
      "Europe/Brussels\n",
      "Europe/Bucharest\n",
      "Europe/Budapest\n",
      "Europe/Busingen\n",
      "Europe/Chisinau\n",
      "Europe/Copenhagen\n",
      "Europe/Dublin\n",
      "Europe/Gibraltar\n",
      "Europe/Guernsey\n",
      "Europe/Helsinki\n",
      "Europe/Isle_of_Man\n",
      "Europe/Istanbul\n",
      "Europe/Jersey\n",
      "Europe/Kaliningrad\n",
      "Europe/Kiev\n",
      "Europe/Kirov\n",
      "Europe/Lisbon\n",
      "Europe/Ljubljana\n",
      "Europe/London\n",
      "Europe/Luxembourg\n",
      "Europe/Madrid\n",
      "Europe/Malta\n",
      "Europe/Mariehamn\n",
      "Europe/Minsk\n",
      "Europe/Monaco\n",
      "Europe/Moscow\n",
      "Europe/Nicosia\n",
      "Europe/Oslo\n",
      "Europe/Paris\n",
      "Europe/Podgorica\n",
      "Europe/Prague\n",
      "Europe/Riga\n",
      "Europe/Rome\n",
      "Europe/Samara\n",
      "Europe/San_Marino\n",
      "Europe/Sarajevo\n",
      "Europe/Saratov\n",
      "Europe/Simferopol\n",
      "Europe/Skopje\n",
      "Europe/Sofia\n",
      "Europe/Stockholm\n",
      "Europe/Tallinn\n",
      "Europe/Tirane\n",
      "Europe/Tiraspol\n",
      "Europe/Ulyanovsk\n",
      "Europe/Uzhgorod\n",
      "Europe/Vaduz\n",
      "Europe/Vatican\n",
      "Europe/Vienna\n",
      "Europe/Vilnius\n",
      "Europe/Volgograd\n",
      "Europe/Warsaw\n",
      "Europe/Zagreb\n",
      "Europe/Zaporozhye\n",
      "Europe/Zurich\n",
      "GB\n",
      "GB-Eire\n",
      "GMT\n",
      "GMT+0\n",
      "GMT-0\n",
      "GMT0\n",
      "Greenwich\n",
      "HST\n",
      "Hongkong\n",
      "Iceland\n",
      "Indian/Antananarivo\n",
      "Indian/Chagos\n",
      "Indian/Christmas\n",
      "Indian/Cocos\n",
      "Indian/Comoro\n",
      "Indian/Kerguelen\n",
      "Indian/Mahe\n",
      "Indian/Maldives\n",
      "Indian/Mauritius\n",
      "Indian/Mayotte\n",
      "Indian/Reunion\n",
      "Iran\n",
      "Israel\n",
      "Jamaica\n",
      "Japan\n",
      "Kwajalein\n",
      "Libya\n",
      "MET\n",
      "MST\n",
      "MST7MDT\n",
      "Mexico/BajaNorte\n",
      "Mexico/BajaSur\n",
      "Mexico/General\n",
      "NZ\n",
      "NZ-CHAT\n",
      "Navajo\n",
      "PRC\n",
      "PST8PDT\n",
      "Pacific/Apia\n",
      "Pacific/Auckland\n",
      "Pacific/Bougainville\n",
      "Pacific/Chatham\n",
      "Pacific/Chuuk\n",
      "Pacific/Easter\n",
      "Pacific/Efate\n",
      "Pacific/Enderbury\n",
      "Pacific/Fakaofo\n",
      "Pacific/Fiji\n",
      "Pacific/Funafuti\n",
      "Pacific/Galapagos\n",
      "Pacific/Gambier\n",
      "Pacific/Guadalcanal\n",
      "Pacific/Guam\n",
      "Pacific/Honolulu\n",
      "Pacific/Johnston\n",
      "Pacific/Kiritimati\n",
      "Pacific/Kosrae\n",
      "Pacific/Kwajalein\n",
      "Pacific/Majuro\n",
      "Pacific/Marquesas\n",
      "Pacific/Midway\n",
      "Pacific/Nauru\n",
      "Pacific/Niue\n",
      "Pacific/Norfolk\n",
      "Pacific/Noumea\n",
      "Pacific/Pago_Pago\n",
      "Pacific/Palau\n",
      "Pacific/Pitcairn\n",
      "Pacific/Pohnpei\n",
      "Pacific/Ponape\n",
      "Pacific/Port_Moresby\n",
      "Pacific/Rarotonga\n",
      "Pacific/Saipan\n",
      "Pacific/Samoa\n",
      "Pacific/Tahiti\n",
      "Pacific/Tarawa\n",
      "Pacific/Tongatapu\n",
      "Pacific/Truk\n",
      "Pacific/Wake\n",
      "Pacific/Wallis\n",
      "Pacific/Yap\n",
      "Poland\n",
      "Portugal\n",
      "ROC\n",
      "ROK\n",
      "Singapore\n",
      "Turkey\n",
      "UCT\n",
      "US/Alaska\n",
      "US/Aleutian\n",
      "US/Arizona\n",
      "US/Central\n",
      "US/East-Indiana\n",
      "US/Eastern\n",
      "US/Hawaii\n",
      "US/Indiana-Starke\n",
      "US/Michigan\n",
      "US/Mountain\n",
      "US/Pacific\n",
      "US/Samoa\n",
      "UTC\n",
      "Universal\n",
      "W-SU\n",
      "WET\n",
      "Zulu\n"
     ]
    }
   ],
   "source": [
    "for tz in pytz.all_timezones:\n",
    "    print(tz)"
   ]
  },
  {
   "cell_type": "code",
   "execution_count": 55,
   "metadata": {},
   "outputs": [
    {
     "name": "stdout",
     "output_type": "stream",
     "text": [
      "India now           : 2020-06-25 09:06:37.943875+05:30\n",
      "tzinfo              : Asia/Kolkata\n"
     ]
    }
   ],
   "source": [
    "IST_TZ = pytz.timezone('Asia/Kolkata')\n",
    "ist_now = IST_TZ.normalize(utc_now)\n",
    "\n",
    "print(f'India now           : {ist_now}')\n",
    "print(f'tzinfo              : {ist_now.tzinfo}')"
   ]
  },
  {
   "cell_type": "code",
   "execution_count": 56,
   "metadata": {},
   "outputs": [
    {
     "data": {
      "text/plain": [
       "593"
      ]
     },
     "execution_count": 56,
     "metadata": {},
     "output_type": "execute_result"
    }
   ],
   "source": [
    "len(pytz.all_timezones)"
   ]
  },
  {
   "cell_type": "code",
   "execution_count": 57,
   "metadata": {},
   "outputs": [
    {
     "data": {
      "text/plain": [
       "440"
      ]
     },
     "execution_count": 57,
     "metadata": {},
     "output_type": "execute_result"
    }
   ],
   "source": [
    "len(pytz.common_timezones)"
   ]
  },
  {
   "cell_type": "code",
   "execution_count": 58,
   "metadata": {},
   "outputs": [
    {
     "name": "stdout",
     "output_type": "stream",
     "text": [
      "kiev_tz.zone           :Europe/Kiev\n",
      "dt.strftime(fmt)       :2014-11-02 15:25:00 EET+0200\n",
      "dt.strftime(fmt)       :2014-11-02 17:25:00 EET+0200\n",
      "now.astimezone(kiev_tz):2020-06-25 06:42:13.587355+03:00\n"
     ]
    }
   ],
   "source": [
    "# Method 1\n",
    "kiev_tz = pytz.timezone('Europe/Kiev')\n",
    "print(f'kiev_tz.zone           :{kiev_tz.zone}')\n",
    "\n",
    "dt = kiev_tz.localize(datetime.datetime(2014, 11, 2, 15, 25, 0))\n",
    "\n",
    "fmt = '%Y-%m-%d %H:%M:%S %Z%z'\n",
    "print(f'dt.strftime(fmt)       :{dt.strftime(fmt)}')\n",
    "\n",
    "# Method 2\n",
    "utc_dt = datetime.datetime(2014, 11, 2, 15, 25, 0, tzinfo=pytz.utc)\n",
    "dt = utc_dt.astimezone(kiev_tz)\n",
    "print(f'dt.strftime(fmt)       :{dt.strftime(fmt)}')\n",
    "\n",
    "# Method 3\n",
    "now = datetime.datetime.utcnow().replace(tzinfo=pytz.utc)\n",
    "print(f'now.astimezone(kiev_tz):{now.astimezone(kiev_tz)}')"
   ]
  },
  {
   "cell_type": "code",
   "execution_count": 59,
   "metadata": {},
   "outputs": [],
   "source": [
    "utc_now_1 = datetime.datetime.now(tz=pytz.UTC)\n",
    "# utc_now_2 = datetime.datetime.utcnow(tz=pytz.UTC)  # utcnow doesnt accept any keywords\n",
    "\n",
    "UTC_TZ = pytz.timezone('UTC')\n",
    "naive_utc_now = datetime.datetime.utcnow()\n",
    "utc_now_2 = UTC_TZ.localize(naive_utc_now)"
   ]
  },
  {
   "cell_type": "code",
   "execution_count": 60,
   "metadata": {},
   "outputs": [],
   "source": [
    "assert utc_now_1 == utc_now_2"
   ]
  },
  {
   "cell_type": "code",
   "execution_count": 61,
   "metadata": {},
   "outputs": [
    {
     "data": {
      "text/plain": [
       "datetime.datetime(2020, 6, 25, 3, 42, 42, 887316, tzinfo=<UTC>)"
      ]
     },
     "execution_count": 61,
     "metadata": {},
     "output_type": "execute_result"
    }
   ],
   "source": [
    "utc_now_1"
   ]
  },
  {
   "cell_type": "markdown",
   "metadata": {},
   "source": [
    "__Problem:__ For a given date, tell the week of the day"
   ]
  },
  {
   "cell_type": "code",
   "execution_count": 62,
   "metadata": {},
   "outputs": [
    {
     "name": "stdout",
     "output_type": "stream",
     "text": [
      "Today is day number 3\n",
      "which is a thursday\n"
     ]
    }
   ],
   "source": [
    "local_now = datetime.datetime.now()\n",
    "\n",
    "# weekday returns 0 (monday) through 6 (sunday)\n",
    "wd = datetime.date.weekday(today)\n",
    "\n",
    "# Days start at 0 for monday\n",
    "days = ('monday', 'tuesday', 'wednesday', 'thursday', 'friday', 'saturday', 'sunday')\n",
    "print(f'Today is day number {wd}' )\n",
    "print(f'which is a {days[wd]}')"
   ]
  },
  {
   "cell_type": "code",
   "execution_count": 63,
   "metadata": {},
   "outputs": [],
   "source": [
    "DAYS = ('monday', 'tuesday', 'wednesday', 'thursday', 'friday', 'saturday', 'sunday')\n",
    "\n",
    "def get_week_of_day(given_date, date_frmt):\n",
    "    date_obj = datetime.datetime.strptime(given_date, date_frmt)\n",
    "    #print(date_obj)\n",
    "    wd = datetime.date.weekday(date_obj)\n",
    "    return f'week of day for {given_date} is {DAYS[wd]}' "
   ]
  },
  {
   "cell_type": "code",
   "execution_count": 64,
   "metadata": {},
   "outputs": [
    {
     "data": {
      "text/plain": [
       "'week of day for 23-03-1978 is thursday'"
      ]
     },
     "execution_count": 64,
     "metadata": {},
     "output_type": "execute_result"
    }
   ],
   "source": [
    "get_week_of_day('23-03-1978', '%d-%m-%Y')"
   ]
  },
  {
   "cell_type": "code",
   "execution_count": 65,
   "metadata": {},
   "outputs": [
    {
     "data": {
      "text/plain": [
       "'week of day for 11/09/1988 is wednesday'"
      ]
     },
     "execution_count": 65,
     "metadata": {},
     "output_type": "execute_result"
    }
   ],
   "source": [
    "get_week_of_day('11/09/1988', '%m/%d/%Y')"
   ]
  },
  {
   "cell_type": "code",
   "execution_count": 66,
   "metadata": {},
   "outputs": [
    {
     "data": {
      "text/plain": [
       "'week of day for 23 March 2020 is monday'"
      ]
     },
     "execution_count": 66,
     "metadata": {},
     "output_type": "execute_result"
    }
   ],
   "source": [
    "get_week_of_day('23 March 2020', '%d %B %Y')"
   ]
  }
 ],
 "metadata": {
  "kernelspec": {
   "display_name": "Python 3",
   "language": "python",
   "name": "python3"
  },
  "language_info": {
   "codemirror_mode": {
    "name": "ipython",
    "version": 3
   },
   "file_extension": ".py",
   "mimetype": "text/x-python",
   "name": "python",
   "nbconvert_exporter": "python",
   "pygments_lexer": "ipython3",
   "version": "3.8.3"
  }
 },
 "nbformat": 4,
 "nbformat_minor": 2
}
