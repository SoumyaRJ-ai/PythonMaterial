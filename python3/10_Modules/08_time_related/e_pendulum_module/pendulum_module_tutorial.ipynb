{
 "cells": [
  {
   "cell_type": "code",
   "execution_count": 1,
   "metadata": {},
   "outputs": [
    {
     "data": {
      "text/plain": [
       "0"
      ]
     },
     "execution_count": 1,
     "metadata": {},
     "output_type": "execute_result"
    }
   ],
   "source": [
    "from os import system\n",
    "\n",
    "system(\"pip install pendulum\")"
   ]
  },
  {
   "cell_type": "code",
   "execution_count": 2,
   "metadata": {},
   "outputs": [],
   "source": [
    "from datetime import datetime\n",
    "import pendulum"
   ]
  },
  {
   "cell_type": "code",
   "execution_count": 3,
   "metadata": {},
   "outputs": [],
   "source": [
    "utc = pendulum.timezone(\"UTC\")\n",
    "pst = pendulum.timezone(\"America/Los_Angeles\")\n",
    "ist = pendulum.timezone(\"Asia/Calcutta\")"
   ]
  },
  {
   "cell_type": "code",
   "execution_count": 4,
   "metadata": {},
   "outputs": [
    {
     "name": "stdout",
     "output_type": "stream",
     "text": [
      "<class 'pendulum.tz.timezone.FixedTimezone'>\n"
     ]
    }
   ],
   "source": [
    "print(type(utc))"
   ]
  },
  {
   "cell_type": "code",
   "execution_count": 5,
   "metadata": {},
   "outputs": [
    {
     "data": {
      "text/plain": [
       "Timezone('UTC')"
      ]
     },
     "execution_count": 5,
     "metadata": {},
     "output_type": "execute_result"
    }
   ],
   "source": [
    "utc"
   ]
  },
  {
   "cell_type": "code",
   "execution_count": 6,
   "metadata": {},
   "outputs": [
    {
     "name": "stdout",
     "output_type": "stream",
     "text": [
      "Current Date Time in UTC = 2022-05-25 12:17:12.207007+00:00\n",
      "Current Date Time in PST = 2022-05-25 05:17:12.207994-07:00\n",
      "Current Date Time in IST = 2022-05-25 17:47:12.209004+05:30\n"
     ]
    }
   ],
   "source": [
    "print(\"Current Date Time in UTC =\", datetime.now(utc))\n",
    "print(\"Current Date Time in PST =\", datetime.now(pst))\n",
    "print(\"Current Date Time in IST =\", datetime.now(ist))"
   ]
  },
  {
   "cell_type": "code",
   "execution_count": 7,
   "metadata": {},
   "outputs": [
    {
     "name": "stdout",
     "output_type": "stream",
     "text": [
      "<class 'datetime.datetime'>\n"
     ]
    }
   ],
   "source": [
    "print(type(datetime.now(ist)))"
   ]
  },
  {
   "cell_type": "code",
   "execution_count": 8,
   "metadata": {},
   "outputs": [
    {
     "name": "stdout",
     "output_type": "stream",
     "text": [
      "<class 'pendulum.datetime.DateTime'>\n",
      "Current Date Time in UTC = 2022-05-25T12:17:12.447807+00:00\n"
     ]
    }
   ],
   "source": [
    "utc_time = pendulum.now(\"UTC\")\n",
    "print(type(utc_time))\n",
    "print(\"Current Date Time in UTC =\", utc_time)"
   ]
  },
  {
   "cell_type": "markdown",
   "metadata": {},
   "source": [
    "### Converting Timezones\n"
   ]
  },
  {
   "cell_type": "code",
   "execution_count": 9,
   "metadata": {},
   "outputs": [
    {
     "name": "stdout",
     "output_type": "stream",
     "text": [
      "<class 'pendulum.datetime.DateTime'>\n",
      "Current Date Time in IST = 2022-05-25T17:47:12.632483+05:30\n"
     ]
    }
   ],
   "source": [
    "utc_time = pendulum.now(\"UTC\")\n",
    "ist_time = utc_time.in_timezone(\"Asia/Calcutta\")\n",
    "print(type(ist_time))\n",
    "print(\"Current Date Time in IST =\", ist_time)"
   ]
  },
  {
   "cell_type": "code",
   "execution_count": 10,
   "metadata": {},
   "outputs": [
    {
     "name": "stdout",
     "output_type": "stream",
     "text": [
      "Current Date Time in Paris = 2022-05-25T14:17:12.632483+02:00\n"
     ]
    }
   ],
   "source": [
    "tz = pendulum.timezone(\"Europe/Paris\")\n",
    "paris_time = tz.convert(ist_time)\n",
    "print(\"Current Date Time in Paris =\", paris_time)"
   ]
  },
  {
   "cell_type": "markdown",
   "metadata": {},
   "source": [
    "### Date Time Manipulations\n"
   ]
  },
  {
   "cell_type": "code",
   "execution_count": 11,
   "metadata": {},
   "outputs": [
    {
     "name": "stdout",
     "output_type": "stream",
     "text": [
      "Updated UTC Time 2022-05-25T12:17:12.632483+00:00\n"
     ]
    }
   ],
   "source": [
    "utc_time.add(years=1)\n",
    "utc_time.subtract(months=2)\n",
    "print(\"Updated UTC Time\", utc_time)"
   ]
  },
  {
   "cell_type": "markdown",
   "metadata": {},
   "source": [
    "### Date Time Formatting\n"
   ]
  },
  {
   "cell_type": "code",
   "execution_count": 12,
   "metadata": {},
   "outputs": [
    {
     "data": {
      "text/plain": [
       "'2022-05-25T12:17:12.632483Z'"
      ]
     },
     "execution_count": 12,
     "metadata": {},
     "output_type": "execute_result"
    }
   ],
   "source": [
    "utc_time.to_iso8601_string()"
   ]
  },
  {
   "cell_type": "code",
   "execution_count": 13,
   "metadata": {},
   "outputs": [
    {
     "data": {
      "text/plain": [
       "'May 25, 2022'"
      ]
     },
     "execution_count": 13,
     "metadata": {},
     "output_type": "execute_result"
    }
   ],
   "source": [
    "utc_time.to_formatted_date_string()"
   ]
  },
  {
   "cell_type": "code",
   "execution_count": 14,
   "metadata": {},
   "outputs": [
    {
     "data": {
      "text/plain": [
       "'2022-05-25T12:17:12+00:00'"
      ]
     },
     "execution_count": 14,
     "metadata": {},
     "output_type": "execute_result"
    }
   ],
   "source": [
    "utc_time.to_w3c_string()"
   ]
  },
  {
   "cell_type": "code",
   "execution_count": 15,
   "metadata": {},
   "outputs": [
    {
     "data": {
      "text/plain": [
       "'2022-05-25'"
      ]
     },
     "execution_count": 15,
     "metadata": {},
     "output_type": "execute_result"
    }
   ],
   "source": [
    "utc_time.to_date_string()"
   ]
  },
  {
   "cell_type": "code",
   "execution_count": 16,
   "metadata": {},
   "outputs": [
    {
     "data": {
      "text/plain": [
       "'2022-05-25 12:17:12 UTC+0000'"
      ]
     },
     "execution_count": 16,
     "metadata": {},
     "output_type": "execute_result"
    }
   ],
   "source": [
    "# supports strftime() too\n",
    "utc_time.strftime(\"%Y-%m-%d %H:%M:%S %Z%z\")"
   ]
  },
  {
   "cell_type": "markdown",
   "metadata": {},
   "source": [
    "### Parse String to Date Time\n"
   ]
  },
  {
   "cell_type": "code",
   "execution_count": 17,
   "metadata": {},
   "outputs": [
    {
     "data": {
      "text/plain": [
       "DateTime(2018, 5, 21, 22, 0, 0, tzinfo=Timezone('UTC'))"
      ]
     },
     "execution_count": 17,
     "metadata": {},
     "output_type": "execute_result"
    }
   ],
   "source": [
    "dt = pendulum.parse(\"2018-05-21T22:00:00\")\n",
    "dt"
   ]
  },
  {
   "cell_type": "code",
   "execution_count": 18,
   "metadata": {},
   "outputs": [
    {
     "data": {
      "text/plain": [
       "pendulum.datetime.DateTime"
      ]
     },
     "execution_count": 18,
     "metadata": {},
     "output_type": "execute_result"
    }
   ],
   "source": [
    "type(dt)"
   ]
  },
  {
   "cell_type": "code",
   "execution_count": 19,
   "metadata": {},
   "outputs": [
    {
     "data": {
      "text/plain": [
       "DateTime(2018, 5, 21, 22, 0, 0, tzinfo=Timezone('Europe/Paris'))"
      ]
     },
     "execution_count": 19,
     "metadata": {},
     "output_type": "execute_result"
    }
   ],
   "source": [
    "pendulum.parse(\"2018-05-21T22:00:00\", tz=\"Europe/Paris\")"
   ]
  },
  {
   "cell_type": "code",
   "execution_count": 20,
   "metadata": {},
   "outputs": [
    {
     "data": {
      "text/plain": [
       "DateTime(2018, 5, 21, 0, 0, 0, tzinfo=Timezone('UTC'))"
      ]
     },
     "execution_count": 20,
     "metadata": {},
     "output_type": "execute_result"
    }
   ],
   "source": [
    "# parsing using specified format string\n",
    "pendulum.from_format(\"2018/05/21\", \"YYYY/MM/DD\")"
   ]
  },
  {
   "cell_type": "markdown",
   "metadata": {},
   "source": [
    "### Duration – timedelta replacement\n"
   ]
  },
  {
   "cell_type": "code",
   "execution_count": 21,
   "metadata": {},
   "outputs": [
    {
     "name": "stdout",
     "output_type": "stream",
     "text": [
      "2 years 1 day 10 hours\n"
     ]
    }
   ],
   "source": [
    "time_delta = pendulum.duration(days=1, hours=10, years=2)\n",
    "print(time_delta)"
   ]
  },
  {
   "cell_type": "code",
   "execution_count": 22,
   "metadata": {},
   "outputs": [
    {
     "name": "stdout",
     "output_type": "stream",
     "text": [
      "time_delta years = 2\n"
     ]
    }
   ],
   "source": [
    "print(\"time_delta years =\", time_delta.years)"
   ]
  },
  {
   "cell_type": "code",
   "execution_count": 23,
   "metadata": {},
   "outputs": [
    {
     "name": "stdout",
     "output_type": "stream",
     "text": [
      "time_delta in seconds = 63194400\n"
     ]
    }
   ],
   "source": [
    "print(\"time_delta in seconds =\", time_delta.in_seconds())"
   ]
  },
  {
   "cell_type": "code",
   "execution_count": 24,
   "metadata": {},
   "outputs": [
    {
     "name": "stdout",
     "output_type": "stream",
     "text": [
      "time_delta in words = 2 years 1 day 10 hours\n"
     ]
    }
   ],
   "source": [
    "print(\"time_delta in words =\", time_delta.in_words())"
   ]
  },
  {
   "cell_type": "code",
   "execution_count": 25,
   "metadata": {},
   "outputs": [
    {
     "name": "stdout",
     "output_type": "stream",
     "text": [
      "future date = 2024-05-27T03:47:14.204132+05:30\n"
     ]
    }
   ],
   "source": [
    "print(\"future date =\", pendulum.now() + time_delta)"
   ]
  },
  {
   "cell_type": "markdown",
   "metadata": {},
   "source": [
    "### Period of Time\n"
   ]
  },
  {
   "cell_type": "code",
   "execution_count": 26,
   "metadata": {},
   "outputs": [
    {
     "name": "stdout",
     "output_type": "stream",
     "text": [
      "period in words = 4 days\n",
      "2022-05-25T17:47:14.293180+05:30\n",
      "2022-05-26T17:47:14.293180+05:30\n",
      "2022-05-27T17:47:14.293180+05:30\n",
      "2022-05-28T17:47:14.293180+05:30\n",
      "2022-05-29T17:47:14.293180+05:30\n"
     ]
    }
   ],
   "source": [
    "current_date = pendulum.now()\n",
    "future_date = current_date.add(days=4)\n",
    "\n",
    "period_time = future_date - current_date\n",
    "\n",
    "print(\"period in words =\", period_time.in_words())\n",
    "\n",
    "# period is iterable with days\n",
    "for dt in period_time:\n",
    "    print(dt)"
   ]
  }
 ],
 "metadata": {
  "interpreter": {
   "hash": "af5fea1c444866fd811ab1931cfd4c7d38bb70c8c6a7e77097d94e83671d0e23"
  },
  "kernelspec": {
   "display_name": "Python 3.10.4 64-bit",
   "language": "python",
   "name": "python3"
  },
  "language_info": {
   "codemirror_mode": {
    "name": "ipython",
    "version": 3
   },
   "file_extension": ".py",
   "mimetype": "text/x-python",
   "name": "python",
   "nbconvert_exporter": "python",
   "pygments_lexer": "ipython3",
   "version": "3.10.4"
  }
 },
 "nbformat": 4,
 "nbformat_minor": 2
}
