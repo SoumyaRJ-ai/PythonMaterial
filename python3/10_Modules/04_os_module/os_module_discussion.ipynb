{
 "cells": [
  {
   "cell_type": "code",
   "execution_count": 1,
   "metadata": {},
   "outputs": [],
   "source": [
    "import os"
   ]
  },
  {
   "cell_type": "code",
   "execution_count": 2,
   "metadata": {},
   "outputs": [
    {
     "data": {
      "text/plain": [
       "<module 'os' from 'c:\\\\users\\\\amma\\\\appdata\\\\local\\\\programs\\\\python\\\\python38\\\\lib\\\\os.py'>"
      ]
     },
     "execution_count": 2,
     "metadata": {},
     "output_type": "execute_result"
    }
   ],
   "source": [
    "os"
   ]
  },
  {
   "cell_type": "code",
   "execution_count": 3,
   "metadata": {},
   "outputs": [
    {
     "name": "stdout",
     "output_type": "stream",
     "text": [
      "c:\\users\\amma\\appdata\\local\\programs\\python\\python38\\lib\\os.py\n"
     ]
    }
   ],
   "source": [
    "print(\"c:\\\\users\\\\amma\\\\appdata\\\\local\\\\programs\\\\python\\\\python38\\\\lib\\\\os.py\")"
   ]
  },
  {
   "cell_type": "code",
   "execution_count": 4,
   "metadata": {},
   "outputs": [
    {
     "name": "stdout",
     "output_type": "stream",
     "text": [
      "OS routines for NT or Posix depending on what system we're on.\n",
      "\n",
      "This exports:\n",
      "  - all functions from posix or nt, e.g. unlink, stat, etc.\n",
      "  - os.path is either posixpath or ntpath\n",
      "  - os.name is either 'posix' or 'nt'\n",
      "  - os.curdir is a string representing the current directory (always '.')\n",
      "  - os.pardir is a string representing the parent directory (always '..')\n",
      "  - os.sep is the (or a most common) pathname separator ('/' or '\\\\')\n",
      "  - os.extsep is the extension separator (always '.')\n",
      "  - os.altsep is the alternate pathname separator (None or '/')\n",
      "  - os.pathsep is the component separator used in $PATH etc\n",
      "  - os.linesep is the line separator in text files ('\\r' or '\\n' or '\\r\\n')\n",
      "  - os.defpath is the default search path for executables\n",
      "  - os.devnull is the file path of the null device ('/dev/null', etc.)\n",
      "\n",
      "Programs that import and use 'os' stand a better chance of being\n",
      "portable between different platforms.  Of course, they must then\n",
      "only use functions that are defined by all platforms (e.g., unlink\n",
      "and opendir), and leave all pathname manipulation to os.path\n",
      "(e.g., split and join).\n",
      "\n"
     ]
    }
   ],
   "source": [
    "print(os.__doc__)"
   ]
  },
  {
   "cell_type": "code",
   "execution_count": 5,
   "metadata": {},
   "outputs": [
    {
     "name": "stdout",
     "output_type": "stream",
     "text": [
      "['DirEntry', 'F_OK', 'MutableMapping', 'O_APPEND', 'O_BINARY', 'O_CREAT', 'O_EXCL', 'O_NOINHERIT', 'O_RANDOM', 'O_RDONLY', 'O_RDWR', 'O_SEQUENTIAL', 'O_SHORT_LIVED', 'O_TEMPORARY', 'O_TEXT', 'O_TRUNC', 'O_WRONLY', 'P_DETACH', 'P_NOWAIT', 'P_NOWAITO', 'P_OVERLAY', 'P_WAIT', 'PathLike', 'R_OK', 'SEEK_CUR', 'SEEK_END', 'SEEK_SET', 'TMP_MAX', 'W_OK', 'X_OK', '_AddedDllDirectory', '_Environ', '__all__', '__builtins__', '__cached__', '__doc__', '__file__', '__loader__', '__name__', '__package__', '__spec__', '_check_methods', '_execvpe', '_exists', '_exit', '_fspath', '_get_exports_list', '_putenv', '_unsetenv', '_wrap_close', 'abc', 'abort', 'access', 'add_dll_directory', 'altsep', 'chdir', 'chmod', 'close', 'closerange', 'cpu_count', 'curdir', 'defpath', 'device_encoding', 'devnull', 'dup', 'dup2', 'environ', 'error', 'execl', 'execle', 'execlp', 'execlpe', 'execv', 'execve', 'execvp', 'execvpe', 'extsep', 'fdopen', 'fsdecode', 'fsencode', 'fspath', 'fstat', 'fsync', 'ftruncate', 'get_exec_path', 'get_handle_inheritable', 'get_inheritable', 'get_terminal_size', 'getcwd', 'getcwdb', 'getenv', 'getlogin', 'getpid', 'getppid', 'isatty', 'kill', 'linesep', 'link', 'listdir', 'lseek', 'lstat', 'makedirs', 'mkdir', 'name', 'open', 'pardir', 'path', 'pathsep', 'pipe', 'popen', 'putenv', 'read', 'readlink', 'remove', 'removedirs', 'rename', 'renames', 'replace', 'rmdir', 'scandir', 'sep', 'set_handle_inheritable', 'set_inheritable', 'spawnl', 'spawnle', 'spawnv', 'spawnve', 'st', 'startfile', 'stat', 'stat_result', 'statvfs_result', 'strerror', 'supports_bytes_environ', 'supports_dir_fd', 'supports_effective_ids', 'supports_fd', 'supports_follow_symlinks', 'symlink', 'sys', 'system', 'terminal_size', 'times', 'times_result', 'truncate', 'umask', 'uname_result', 'unlink', 'urandom', 'utime', 'waitpid', 'walk', 'write']\n"
     ]
    }
   ],
   "source": [
    "print(dir(os))"
   ]
  },
  {
   "cell_type": "code",
   "execution_count": 6,
   "metadata": {},
   "outputs": [
    {
     "name": "stdout",
     "output_type": "stream",
     "text": [
      " \n",
      "os.altsep ='/'\n",
      "os.curdir ='.'\n",
      "os.extsep ='.'\n",
      "os.linesep='\\r\\n'\n",
      "os.name   ='nt'\n",
      "os.pardir ='..'\n",
      "os.pathsep=';'\n",
      "os.sep    ='\\\\'\n",
      "\n"
     ]
    }
   ],
   "source": [
    "print(\n",
    "    f\"\"\" \n",
    "{os.altsep =}\n",
    "{os.curdir =}\n",
    "{os.extsep =}\n",
    "{os.linesep=}\n",
    "{os.name   =}\n",
    "{os.pardir =}\n",
    "{os.pathsep=}\n",
    "{os.sep    =}\n",
    "\"\"\"\n",
    ")"
   ]
  },
  {
   "cell_type": "code",
   "execution_count": 7,
   "metadata": {},
   "outputs": [
    {
     "data": {
      "text/plain": [
       "'nt'"
      ]
     },
     "execution_count": 7,
     "metadata": {},
     "output_type": "execute_result"
    }
   ],
   "source": [
    "os.name\n",
    "# The name of the operating system dependent module imported.\n",
    "# The following names have currently been registered: 'posix', 'nt', 'java'."
   ]
  },
  {
   "cell_type": "code",
   "execution_count": 8,
   "metadata": {},
   "outputs": [
    {
     "data": {
      "text/plain": [
       "'nul'"
      ]
     },
     "execution_count": 8,
     "metadata": {},
     "output_type": "execute_result"
    }
   ],
   "source": [
    "os.devnull  # The file path of the null device. For example: '/dev/null' for POSIX, 'nul' for Windows"
   ]
  },
  {
   "cell_type": "code",
   "execution_count": 9,
   "metadata": {},
   "outputs": [
    {
     "data": {
      "text/plain": [
       "'.;C:\\\\bin'"
      ]
     },
     "execution_count": 9,
     "metadata": {},
     "output_type": "execute_result"
    }
   ],
   "source": [
    "os.defpath"
   ]
  },
  {
   "cell_type": "markdown",
   "metadata": {},
   "source": [
    "os.times\n",
    "\n",
    "    user            - user time\n",
    "    system          - system time\n",
    "    children_user   - user time of all child processes\n",
    "    children_system - system time of all child processes\n",
    "    elapsed         - elapsed real time since a fixed point in the past"
   ]
  },
  {
   "cell_type": "code",
   "execution_count": 10,
   "metadata": {},
   "outputs": [
    {
     "data": {
      "text/plain": [
       "nt.times_result(user=0.71875, system=0.578125, children_user=0.0, children_system=0.0, elapsed=0.0)"
      ]
     },
     "execution_count": 10,
     "metadata": {},
     "output_type": "execute_result"
    }
   ],
   "source": [
    "os.times()"
   ]
  },
  {
   "cell_type": "code",
   "execution_count": 11,
   "metadata": {},
   "outputs": [
    {
     "data": {
      "text/plain": [
       "b'\\xa9\\x1f\\x03\\xe4>\\xef\\xdch\\xb8('"
      ]
     },
     "execution_count": 11,
     "metadata": {},
     "output_type": "execute_result"
    }
   ],
   "source": [
    "os.urandom(10)"
   ]
  },
  {
   "cell_type": "code",
   "execution_count": 12,
   "metadata": {},
   "outputs": [
    {
     "name": "stdout",
     "output_type": "stream",
     "text": [
      "0 b''\n",
      "1 b'\\xe3'\n",
      "2 b'\\xba\\x88'\n",
      "3 b'(\\x1d\\x99'\n",
      "4 b'\\x00\\xb4\\xb6\\x98'\n",
      "5 b'\\xe0\\xaaQ0\\xb1'\n",
      "6 b'\\x85C\\xd7V\\x96\\xc5'\n",
      "7 b'\\xee\\xdc\\r\\xfb\\x1b\\xfe\\x98'\n",
      "8 b'\\x17r\\x8c~\\xa0J\\x9c\\x1e'\n"
     ]
    }
   ],
   "source": [
    "for i in range(0, 9):\n",
    "    print(i, os.urandom(i))"
   ]
  },
  {
   "cell_type": "code",
   "execution_count": 13,
   "metadata": {},
   "outputs": [
    {
     "name": "stdout",
     "output_type": "stream",
     "text": [
      "\n",
      "os.environ['OS']                    : Windows_NT\n",
      "os.environ['PROCESSOR_ARCHITECTURE']: AMD64\n",
      "os.environ['PROCESSOR_IDENTIFIER']  : Intel64 Family 6 Model 142 Stepping 12, GenuineIntel\n",
      "os.environ['PROCESSOR_LEVEL']       : 6\n",
      "\n",
      "\n",
      "os.environ['PYTHON_PATH']           : C:\\Users\\Amma\\AppData\\Local\\Programs\\Python\\Python37\n",
      "\n",
      "os.environ['TEMP']                  : C:\\Users\\Amma\\AppData\\Local\\Temp\n",
      "os.environ['TMP']                   : C:\\Users\\Amma\\AppData\\Local\\Temp\n",
      "\n",
      "os.environ['COMPUTERNAME']          : LAPTOP-5GJT9887\n",
      "os.environ['HOMEDRIVE']             : C:\n",
      "os.environ['USERNAME']              : Amma\n",
      "os.environ['USERDOMAIN']            : LAPTOP-5GJT9887\n",
      "\n"
     ]
    }
   ],
   "source": [
    "print(\n",
    "    f\"\"\"\n",
    "os.environ['OS']                    : {os.environ['OS']}\n",
    "os.environ['PROCESSOR_ARCHITECTURE']: {os.environ['PROCESSOR_ARCHITECTURE']}\n",
    "os.environ['PROCESSOR_IDENTIFIER']  : {os.environ['PROCESSOR_IDENTIFIER']}\n",
    "os.environ['PROCESSOR_LEVEL']       : {os.environ['PROCESSOR_LEVEL']}\n",
    "\n",
    "\n",
    "os.environ['PYTHON_PATH']           : {os.environ['PYTHON_PATH']}\n",
    "\n",
    "os.environ['TEMP']                  : {os.environ['TEMP']}\n",
    "os.environ['TMP']                   : {os.environ['TMP']}\n",
    "\n",
    "os.environ['COMPUTERNAME']          : {os.environ['COMPUTERNAME']}\n",
    "os.environ['HOMEDRIVE']             : {os.environ['HOMEDRIVE']}\n",
    "os.environ['USERNAME']              : {os.environ['USERNAME']}\n",
    "os.environ['USERDOMAIN']            : {os.environ['USERDOMAIN']}\n",
    "\"\"\"\n",
    ")"
   ]
  },
  {
   "cell_type": "code",
   "execution_count": 14,
   "metadata": {},
   "outputs": [
    {
     "data": {
      "text/plain": [
       "'C:\\\\Users\\\\Amma\\\\AppData\\\\Local\\\\Temp'"
      ]
     },
     "execution_count": 14,
     "metadata": {},
     "output_type": "execute_result"
    }
   ],
   "source": [
    "os.getenv(\"TEMP\")"
   ]
  },
  {
   "cell_type": "markdown",
   "metadata": {},
   "source": [
    "Adding new environment variable"
   ]
  },
  {
   "cell_type": "code",
   "execution_count": 15,
   "metadata": {},
   "outputs": [],
   "source": [
    "os.putenv(\"A\", \"Apple\")  # wont change the"
   ]
  },
  {
   "cell_type": "code",
   "execution_count": 16,
   "metadata": {},
   "outputs": [
    {
     "data": {
      "text/plain": [
       "'No such key'"
      ]
     },
     "execution_count": 16,
     "metadata": {},
     "output_type": "execute_result"
    }
   ],
   "source": [
    "os.getenv(\"A\", \"No such key\")"
   ]
  },
  {
   "cell_type": "code",
   "execution_count": 17,
   "metadata": {},
   "outputs": [],
   "source": [
    "os.environ[\"A\"] = \"Apple\"  # modifies environment variables"
   ]
  },
  {
   "cell_type": "code",
   "execution_count": 18,
   "metadata": {},
   "outputs": [
    {
     "data": {
      "text/plain": [
       "'Apple'"
      ]
     },
     "execution_count": 18,
     "metadata": {},
     "output_type": "execute_result"
    }
   ],
   "source": [
    "os.getenv(\"A\", \"No such key\")"
   ]
  },
  {
   "cell_type": "code",
   "execution_count": 19,
   "metadata": {},
   "outputs": [
    {
     "name": "stdout",
     "output_type": "stream",
     "text": [
      "\n",
      "C:\\Go\\bin\n",
      "C:\\Go\\bin\n",
      "C:\\Program Files (x86)\\ActiveState Komodo IDE 12\\\n",
      "C:\\Program Files (x86)\\ActiveState Komodo IDE 12\\\n",
      "C:\\Program Files (x86)\\Common Files\\Oracle\\Java\\javapath\n",
      "C:\\Program Files (x86)\\Common Files\\Oracle\\Java\\javapath\n",
      "C:\\Program Files\\Git\\cmd\n",
      "C:\\Program Files\\Git\\cmd\n",
      "C:\\Program Files\\Java\\jdk-11\\bin\n",
      "C:\\Program Files\\Java\\jdk1.8.0_211\\bin\n",
      "C:\\Program Files\\Java\\jdk1.8.0_241\\bin\n",
      "C:\\Program Files\\JetBrains\\PyCharm 2019.3.4\\bin\n",
      "C:\\Program Files\\MySQL\\MySQL Shell 8.0\\bin\\\n",
      "C:\\Program Files\\nodejs\\\n",
      "C:\\ProgramData\\chocolatey\\bin\n",
      "C:\\Users\\Amma\\AppData\\Local\\Microsoft\\WindowsApps\n",
      "C:\\Users\\Amma\\AppData\\Local\\Programs\\Microsoft VS Code\\bin\n",
      "C:\\Users\\Amma\\AppData\\Local\\Programs\\Python\\Python38\\\n",
      "C:\\Users\\Amma\\AppData\\Local\\Programs\\Python\\Python38\\Scripts\\\n",
      "C:\\Users\\Amma\\AppData\\Roaming\\ActiveState\\bin\n",
      "C:\\Users\\Amma\\AppData\\Roaming\\npm\n",
      "C:\\Users\\Amma\\go\\bin\n",
      "C:\\WINDOWS\n",
      "C:\\WINDOWS\\System32\\OpenSSH\\\n",
      "C:\\WINDOWS\\System32\\Wbem\n",
      "C:\\WINDOWS\\System32\\WindowsPowerShell\\v1.0\\\n",
      "C:\\WINDOWS\\system32\n",
      "C:\\Windows\n",
      "C:\\Windows\\System32\\OpenSSH\\\n",
      "C:\\Windows\\System32\\Wbem\n",
      "C:\\Windows\\System32\\WindowsPowerShell\\v1.0\\\n",
      "C:\\Windows\\system32\n",
      "C:\\elasticsearch-7.6.2\\bin\\\n",
      "C:\\spark-2.4.4-bin-hadoop2.7\\bin\n",
      "C:\\webdrivers\\\n"
     ]
    }
   ],
   "source": [
    "for each_path in sorted(os.get_exec_path()):\n",
    "    print(each_path)\n",
    "# Returns the list of directories that will be searched for a named executable, when launching a process."
   ]
  },
  {
   "cell_type": "code",
   "execution_count": 20,
   "metadata": {},
   "outputs": [
    {
     "data": {
      "text/plain": [
       "'Amma'"
      ]
     },
     "execution_count": 20,
     "metadata": {},
     "output_type": "execute_result"
    }
   ],
   "source": [
    "os.getlogin()  # Return the name of the user logged in on the controlling terminal of the process."
   ]
  },
  {
   "cell_type": "code",
   "execution_count": 21,
   "metadata": {},
   "outputs": [],
   "source": [
    "import getpass\n",
    "\n",
    "assert (\n",
    "    getpass.getuser()\n",
    "    == os.getlogin()\n",
    "    == os.environ[\"USERNAME\"]\n",
    "    == os.getenv(\"USERNAME\")\n",
    ")"
   ]
  },
  {
   "cell_type": "code",
   "execution_count": 22,
   "metadata": {},
   "outputs": [
    {
     "data": {
      "text/plain": [
       "20396"
      ]
     },
     "execution_count": 22,
     "metadata": {},
     "output_type": "execute_result"
    }
   ],
   "source": [
    "os.getpid()  # Return the parent’s process id."
   ]
  },
  {
   "cell_type": "code",
   "execution_count": 23,
   "metadata": {},
   "outputs": [
    {
     "data": {
      "text/plain": [
       "'D:\\\\MEGAsync\\\\Python-related\\\\training\\\\python_related\\\\python_batch154\\\\10_Modules\\\\08_os_module'"
      ]
     },
     "execution_count": 23,
     "metadata": {},
     "output_type": "execute_result"
    }
   ],
   "source": [
    "os.getcwd()"
   ]
  },
  {
   "cell_type": "code",
   "execution_count": 24,
   "metadata": {},
   "outputs": [
    {
     "name": "stdout",
     "output_type": "stream",
     "text": [
      "my\n",
      "ewfolder\n"
     ]
    }
   ],
   "source": [
    "print(\"my\\newfolder\")"
   ]
  },
  {
   "cell_type": "code",
   "execution_count": 25,
   "metadata": {},
   "outputs": [
    {
     "name": "stdout",
     "output_type": "stream",
     "text": [
      "my\\newfolder\n"
     ]
    }
   ],
   "source": [
    "print(\"my\\\\newfolder\")"
   ]
  },
  {
   "cell_type": "code",
   "execution_count": 26,
   "metadata": {},
   "outputs": [
    {
     "name": "stdout",
     "output_type": "stream",
     "text": [
      "my\\newfolde\\sdas\\asd\\asd\\asd\\asdasd\\asd\\asd\n"
     ]
    }
   ],
   "source": [
    "print(r\"my\\newfolde\\sdas\\asd\\asd\\asd\\asdasd\\asd\\asd\")"
   ]
  },
  {
   "cell_type": "code",
   "execution_count": 27,
   "metadata": {},
   "outputs": [
    {
     "name": "stdout",
     "output_type": "stream",
     "text": [
      "my/newfol/der\n"
     ]
    }
   ],
   "source": [
    "print(\"my/newfol/der\")  # POSIX paths works in NT also"
   ]
  },
  {
   "cell_type": "code",
   "execution_count": 28,
   "metadata": {},
   "outputs": [
    {
     "name": "stdout",
     "output_type": "stream",
     "text": [
      "my\n",
      "ewfolder\n"
     ]
    }
   ],
   "source": [
    "print(\"my\\newfolder\")"
   ]
  },
  {
   "cell_type": "code",
   "execution_count": 29,
   "metadata": {},
   "outputs": [
    {
     "name": "stdout",
     "output_type": "stream",
     "text": [
      "my\\newfolder\n"
     ]
    }
   ],
   "source": [
    "print(\"my\\\\newfolder\")"
   ]
  },
  {
   "cell_type": "code",
   "execution_count": 30,
   "metadata": {},
   "outputs": [
    {
     "name": "stdout",
     "output_type": "stream",
     "text": [
      "my/newfolder\n"
     ]
    }
   ],
   "source": [
    "print(\"my/newfolder\")"
   ]
  },
  {
   "cell_type": "code",
   "execution_count": 31,
   "metadata": {},
   "outputs": [
    {
     "name": "stdout",
     "output_type": "stream",
     "text": [
      "my\\newfolder\n"
     ]
    }
   ],
   "source": [
    "print(r\"my\\newfolder\")"
   ]
  },
  {
   "cell_type": "code",
   "execution_count": 32,
   "metadata": {},
   "outputs": [
    {
     "data": {
      "text/plain": [
       "['00_Demo',\n",
       " '01_Introduction',\n",
       " '02_Basics',\n",
       " '03_Language_Components',\n",
       " '04_Exceptions',\n",
       " '05_Debugging',\n",
       " '06_Collections',\n",
       " '07_Functions',\n",
       " '08_Decorators',\n",
       " '09_Iterators_generators_coroutines',\n",
       " '10_Modules',\n",
       " '11_File_Operations',\n",
       " '12_Logging',\n",
       " '13_OOP',\n",
       " '14_Code_Quality',\n",
       " '15_Regular_Expressions',\n",
       " '16_Web_Services',\n",
       " '17_Data_science_modules',\n",
       " 'Anti_patterns',\n",
       " 'Arc_Listener.py',\n",
       " 'asd.py',\n",
       " 'datasets',\n",
       " 'git cheat sheet.jpeg',\n",
       " 'git___commit_vs_merge_vs_Rebase.png',\n",
       " 'gotchas_n_hiddenFeatures.txt',\n",
       " 'hangman.py',\n",
       " 'IMG_20190213_223837.jpg',\n",
       " 'jinja_templating',\n",
       " 'one_liners.py',\n",
       " 'Python Assessment Tests',\n",
       " 'python_2to3_ex.py',\n",
       " 'python_email_sending_script_using_ssl.py',\n",
       " 'Python_Recommended_Material.txt',\n",
       " 'TODO.py',\n",
       " 'TODO.txt',\n",
       " 'youtubeSentiment.py',\n",
       " 'youtubeVideosDownloading.py',\n",
       " 'youtubeVideosDownloading2.py']"
      ]
     },
     "execution_count": 32,
     "metadata": {},
     "output_type": "execute_result"
    }
   ],
   "source": [
    "os.listdir(r\"D:\\MEGAsync\\Python-related\\PythonMaterial\\python3\")"
   ]
  },
  {
   "cell_type": "code",
   "execution_count": 33,
   "metadata": {},
   "outputs": [
    {
     "data": {
      "text/plain": [
       "['.ipynb_checkpoints',\n",
       " '01_os_module.py',\n",
       " '02_file_ops.py',\n",
       " '03_clear_screen.py',\n",
       " '03_StopAppsShutdown.py',\n",
       " '04_scan_files.py',\n",
       " '04_scan_python_files.py',\n",
       " '05_glob_MODULE.PNG',\n",
       " '06_text_size.py',\n",
       " 'delete_pyc_files.py',\n",
       " 'display_tree_of_dirs.py',\n",
       " 'os_module_discussion.ipynb',\n",
       " 'scan_pdf.py',\n",
       " 'sysandos.py',\n",
       " 'txtmd5.py',\n",
       " 'workingWithFilesAndFolders.py']"
      ]
     },
     "execution_count": 33,
     "metadata": {},
     "output_type": "execute_result"
    }
   ],
   "source": [
    "os.listdir(os.getcwd())"
   ]
  },
  {
   "cell_type": "code",
   "execution_count": 34,
   "metadata": {},
   "outputs": [
    {
     "data": {
      "text/plain": [
       "os.stat_result(st_mode=16895, st_ino=562949953532810, st_dev=2631168316, st_nlink=1, st_uid=0, st_gid=0, st_size=4096, st_atime=1593142009, st_mtime=1593142009, st_ctime=1593015360)"
      ]
     },
     "execution_count": 34,
     "metadata": {},
     "output_type": "execute_result"
    }
   ],
   "source": [
    "os.lstat(\".\")"
   ]
  },
  {
   "cell_type": "code",
   "execution_count": 35,
   "metadata": {},
   "outputs": [
    {
     "name": "stdout",
     "output_type": "stream",
     "text": [
      "2020-06-26 03:26:49.477490\n"
     ]
    }
   ],
   "source": [
    "from datetime import datetime\n",
    "\n",
    "time_stamp = os.lstat(\".\").st_mtime\n",
    "\n",
    "print(datetime.utcfromtimestamp(time_stamp))"
   ]
  },
  {
   "cell_type": "code",
   "execution_count": 36,
   "metadata": {},
   "outputs": [
    {
     "data": {
      "text/plain": [
       "os.stat_result(st_mode=16895, st_ino=562949953532810, st_dev=2631168316, st_nlink=1, st_uid=0, st_gid=0, st_size=4096, st_atime=1593142009, st_mtime=1593142009, st_ctime=1593015360)"
      ]
     },
     "execution_count": 36,
     "metadata": {},
     "output_type": "execute_result"
    }
   ],
   "source": [
    "os.stat(\".\")"
   ]
  },
  {
   "cell_type": "markdown",
   "metadata": {},
   "source": [
    "### working with paths"
   ]
  },
  {
   "cell_type": "code",
   "execution_count": 37,
   "metadata": {},
   "outputs": [
    {
     "name": "stdout",
     "output_type": "stream",
     "text": [
      "\n",
      "    os.curdir : .\n",
      "    os.pardir : ..\n",
      "    os.sep    : \\\n",
      "    os.altsep : /\n",
      "    os.extsep : .\n",
      "    os.pathsep: ;  # ':' for POSIX or ';' for Windows\n",
      "\n"
     ]
    }
   ],
   "source": [
    "print(\n",
    "    f\"\"\"\n",
    "    os.curdir : {os.curdir}\n",
    "    os.pardir : {os.pardir}\n",
    "    os.sep    : {os.sep}\n",
    "    os.altsep : {os.altsep}\n",
    "    os.extsep : {os.extsep}\n",
    "    os.pathsep: {os.pathsep}  # ':' for POSIX or ';' for Windows\n",
    "\"\"\"\n",
    ")"
   ]
  },
  {
   "cell_type": "code",
   "execution_count": 38,
   "metadata": {},
   "outputs": [
    {
     "data": {
      "text/plain": [
       "'\\r\\n'"
      ]
     },
     "execution_count": 38,
     "metadata": {},
     "output_type": "execute_result"
    }
   ],
   "source": [
    "os.linesep  # '\\n' for POSIX, '\\r\\n' for Windows"
   ]
  },
  {
   "cell_type": "code",
   "execution_count": 39,
   "metadata": {},
   "outputs": [
    {
     "data": {
      "text/plain": [
       "['.ipynb_checkpoints',\n",
       " '01_os_module.py',\n",
       " '02_file_ops.py',\n",
       " '03_clear_screen.py',\n",
       " '03_StopAppsShutdown.py',\n",
       " '04_scan_files.py',\n",
       " '04_scan_python_files.py',\n",
       " '05_glob_MODULE.PNG',\n",
       " '06_text_size.py',\n",
       " 'delete_pyc_files.py',\n",
       " 'display_tree_of_dirs.py',\n",
       " 'os_module_discussion.ipynb',\n",
       " 'scan_pdf.py',\n",
       " 'sysandos.py',\n",
       " 'txtmd5.py',\n",
       " 'workingWithFilesAndFolders.py']"
      ]
     },
     "execution_count": 39,
     "metadata": {},
     "output_type": "execute_result"
    }
   ],
   "source": [
    "os.listdir(os.getcwd())"
   ]
  },
  {
   "cell_type": "code",
   "execution_count": 40,
   "metadata": {},
   "outputs": [
    {
     "data": {
      "text/plain": [
       "['.ipynb_checkpoints',\n",
       " '01_os_module.py',\n",
       " '02_file_ops.py',\n",
       " '03_clear_screen.py',\n",
       " '03_StopAppsShutdown.py',\n",
       " '04_scan_files.py',\n",
       " '04_scan_python_files.py',\n",
       " '05_glob_MODULE.PNG',\n",
       " '06_text_size.py',\n",
       " 'delete_pyc_files.py',\n",
       " 'display_tree_of_dirs.py',\n",
       " 'os_module_discussion.ipynb',\n",
       " 'scan_pdf.py',\n",
       " 'sysandos.py',\n",
       " 'txtmd5.py',\n",
       " 'workingWithFilesAndFolders.py']"
      ]
     },
     "execution_count": 40,
     "metadata": {},
     "output_type": "execute_result"
    }
   ],
   "source": [
    "os.listdir(os.curdir)"
   ]
  },
  {
   "cell_type": "code",
   "execution_count": 41,
   "metadata": {},
   "outputs": [
    {
     "data": {
      "text/plain": [
       "['.ipynb_checkpoints',\n",
       " '01_os_module.py',\n",
       " '02_file_ops.py',\n",
       " '03_clear_screen.py',\n",
       " '03_StopAppsShutdown.py',\n",
       " '04_scan_files.py',\n",
       " '04_scan_python_files.py',\n",
       " '05_glob_MODULE.PNG',\n",
       " '06_text_size.py',\n",
       " 'delete_pyc_files.py',\n",
       " 'display_tree_of_dirs.py',\n",
       " 'os_module_discussion.ipynb',\n",
       " 'scan_pdf.py',\n",
       " 'sysandos.py',\n",
       " 'txtmd5.py',\n",
       " 'workingWithFilesAndFolders.py']"
      ]
     },
     "execution_count": 41,
     "metadata": {},
     "output_type": "execute_result"
    }
   ],
   "source": [
    "os.listdir(\".\")"
   ]
  },
  {
   "cell_type": "code",
   "execution_count": 42,
   "metadata": {},
   "outputs": [
    {
     "data": {
      "text/plain": [
       "['01_math',\n",
       " '02_get_pass',\n",
       " '03_sys_module',\n",
       " '04_argparse',\n",
       " '05_time_related',\n",
       " '06_atexit_module',\n",
       " '07_base64_module',\n",
       " '08_os_module',\n",
       " '09_shutil',\n",
       " '10_subprocess',\n",
       " '11_collections_module',\n",
       " '12_random',\n",
       " '13_turtle_module',\n",
       " '14_multiprocessing']"
      ]
     },
     "execution_count": 42,
     "metadata": {},
     "output_type": "execute_result"
    }
   ],
   "source": [
    "os.listdir(os.pardir)"
   ]
  },
  {
   "cell_type": "code",
   "execution_count": 43,
   "metadata": {},
   "outputs": [
    {
     "data": {
      "text/plain": [
       "['01_math',\n",
       " '02_get_pass',\n",
       " '03_sys_module',\n",
       " '04_argparse',\n",
       " '05_time_related',\n",
       " '06_atexit_module',\n",
       " '07_base64_module',\n",
       " '08_os_module',\n",
       " '09_shutil',\n",
       " '10_subprocess',\n",
       " '11_collections_module',\n",
       " '12_random',\n",
       " '13_turtle_module',\n",
       " '14_multiprocessing']"
      ]
     },
     "execution_count": 43,
     "metadata": {},
     "output_type": "execute_result"
    }
   ],
   "source": [
    "os.listdir(\"..\")"
   ]
  },
  {
   "cell_type": "code",
   "execution_count": 44,
   "metadata": {},
   "outputs": [
    {
     "data": {
      "text/plain": [
       "['00_Demo',\n",
       " '01_Introduction',\n",
       " '02_Basics',\n",
       " '03_Language_Components',\n",
       " '04_Exceptions',\n",
       " '05_Debugging',\n",
       " '06_Collections',\n",
       " '07_Functions',\n",
       " '08_Decorators',\n",
       " '09_Iterators_generators_coroutines',\n",
       " '10_Modules',\n",
       " 'assignments.txt',\n",
       " 'explanation.txt',\n",
       " 'myfile.py',\n",
       " 'python_batch154.zip',\n",
       " 'questions_to_answer.txt',\n",
       " 'something.py']"
      ]
     },
     "execution_count": 44,
     "metadata": {},
     "output_type": "execute_result"
    }
   ],
   "source": [
    "os.listdir(\"../..\")  # parent's parent directory"
   ]
  },
  {
   "cell_type": "code",
   "execution_count": 45,
   "metadata": {},
   "outputs": [
    {
     "data": {
      "text/plain": [
       "'D:\\\\MEGAsync\\\\Python-related\\\\training\\\\python_related\\\\python_batch154\\\\10_Modules\\\\08_os_module'"
      ]
     },
     "execution_count": 45,
     "metadata": {},
     "output_type": "execute_result"
    }
   ],
   "source": [
    "os.getcwd()"
   ]
  },
  {
   "cell_type": "code",
   "execution_count": 46,
   "metadata": {},
   "outputs": [],
   "source": [
    "os.chdir(\".\")"
   ]
  },
  {
   "cell_type": "code",
   "execution_count": 47,
   "metadata": {},
   "outputs": [
    {
     "data": {
      "text/plain": [
       "'D:\\\\MEGAsync\\\\Python-related\\\\training\\\\python_related\\\\python_batch154\\\\10_Modules\\\\08_os_module'"
      ]
     },
     "execution_count": 47,
     "metadata": {},
     "output_type": "execute_result"
    }
   ],
   "source": [
    "os.getcwd()"
   ]
  },
  {
   "cell_type": "code",
   "execution_count": 48,
   "metadata": {},
   "outputs": [],
   "source": [
    "os.chdir(\"..\")"
   ]
  },
  {
   "cell_type": "code",
   "execution_count": 49,
   "metadata": {},
   "outputs": [
    {
     "data": {
      "text/plain": [
       "'D:\\\\MEGAsync\\\\Python-related\\\\training\\\\python_related\\\\python_batch154\\\\10_Modules'"
      ]
     },
     "execution_count": 49,
     "metadata": {},
     "output_type": "execute_result"
    }
   ],
   "source": [
    "os.getcwd()"
   ]
  },
  {
   "cell_type": "code",
   "execution_count": 50,
   "metadata": {},
   "outputs": [],
   "source": [
    "os.chdir(\"..\\..\\..\")  # 3 levels up"
   ]
  },
  {
   "cell_type": "code",
   "execution_count": 51,
   "metadata": {},
   "outputs": [
    {
     "data": {
      "text/plain": [
       "'D:\\\\MEGAsync\\\\Python-related\\\\training'"
      ]
     },
     "execution_count": 51,
     "metadata": {},
     "output_type": "execute_result"
    }
   ],
   "source": [
    "os.getcwd()"
   ]
  },
  {
   "cell_type": "code",
   "execution_count": 52,
   "metadata": {},
   "outputs": [],
   "source": [
    "os.chdir(os.pardir)"
   ]
  },
  {
   "cell_type": "code",
   "execution_count": 53,
   "metadata": {},
   "outputs": [
    {
     "data": {
      "text/plain": [
       "'D:\\\\MEGAsync\\\\Python-related'"
      ]
     },
     "execution_count": 53,
     "metadata": {},
     "output_type": "execute_result"
    }
   ],
   "source": [
    "os.getcwd()"
   ]
  },
  {
   "cell_type": "code",
   "execution_count": 54,
   "metadata": {},
   "outputs": [],
   "source": [
    "os.chdir(\n",
    "    \"D:\\\\MEGAsync\\\\Python-related\\\\PythonMaterial\\\\python3\\\\10_Modules\\\\04_os_module\"\n",
    ")"
   ]
  },
  {
   "cell_type": "code",
   "execution_count": 55,
   "metadata": {},
   "outputs": [
    {
     "data": {
      "text/plain": [
       "'D:\\\\MEGAsync\\\\Python-related\\\\PythonMaterial\\\\python3\\\\10_Modules\\\\04_os_module'"
      ]
     },
     "execution_count": 55,
     "metadata": {},
     "output_type": "execute_result"
    }
   ],
   "source": [
    "os.getcwd()"
   ]
  },
  {
   "cell_type": "markdown",
   "metadata": {},
   "source": [
    "### working with directories/folder"
   ]
  },
  {
   "cell_type": "code",
   "execution_count": 56,
   "metadata": {},
   "outputs": [],
   "source": [
    "os.mkdir(\"myFolder\")"
   ]
  },
  {
   "cell_type": "code",
   "execution_count": 57,
   "metadata": {},
   "outputs": [
    {
     "data": {
      "text/plain": [
       "['.ipynb_checkpoints',\n",
       " '01_os_module.py',\n",
       " '02_file_ops.py',\n",
       " '03_clear_screen.py',\n",
       " '03_StopAppsShutdown.py',\n",
       " '04_scan_files.py',\n",
       " '04_scan_python_files.py',\n",
       " '05_glob_MODULE.PNG',\n",
       " '06_text_size.py',\n",
       " 'delete_pyc_files.py',\n",
       " 'display_tree_of_dirs.py',\n",
       " 'myFolder',\n",
       " 'os_module_discussion.ipynb',\n",
       " 'PythonFolder1',\n",
       " 'scan_pdf.py',\n",
       " 'sysandos.py',\n",
       " 'txtmd5.py',\n",
       " 'workingWithFilesAndFolders.py']"
      ]
     },
     "execution_count": 57,
     "metadata": {},
     "output_type": "execute_result"
    }
   ],
   "source": [
    "os.listdir(\".\")"
   ]
  },
  {
   "cell_type": "code",
   "execution_count": 58,
   "metadata": {},
   "outputs": [],
   "source": [
    "os.makedirs(\"First/second/third\")"
   ]
  },
  {
   "cell_type": "code",
   "execution_count": 59,
   "metadata": {},
   "outputs": [],
   "source": [
    "# creating a file\n",
    "f = open(\"myfile.txt\", \"w\")\n",
    "f.write(\"my data\")\n",
    "f.close()"
   ]
  },
  {
   "cell_type": "code",
   "execution_count": 60,
   "metadata": {},
   "outputs": [
    {
     "data": {
      "text/plain": [
       "['.ipynb_checkpoints',\n",
       " '01_os_module.py',\n",
       " '02_file_ops.py',\n",
       " '03_clear_screen.py',\n",
       " '03_StopAppsShutdown.py',\n",
       " '04_scan_files.py',\n",
       " '04_scan_python_files.py',\n",
       " '05_glob_MODULE.PNG',\n",
       " '06_text_size.py',\n",
       " 'delete_pyc_files.py',\n",
       " 'display_tree_of_dirs.py',\n",
       " 'First',\n",
       " 'myfile.txt',\n",
       " 'myFolder',\n",
       " 'os_module_discussion.ipynb',\n",
       " 'PythonFolder1',\n",
       " 'scan_pdf.py',\n",
       " 'sysandos.py',\n",
       " 'txtmd5.py',\n",
       " 'workingWithFilesAndFolders.py']"
      ]
     },
     "execution_count": 60,
     "metadata": {},
     "output_type": "execute_result"
    }
   ],
   "source": [
    "os.listdir(\".\")"
   ]
  },
  {
   "cell_type": "code",
   "execution_count": 61,
   "metadata": {},
   "outputs": [],
   "source": [
    "os.rename(\"myfile.txt\", \"otherfile.tsf\")"
   ]
  },
  {
   "cell_type": "code",
   "execution_count": 62,
   "metadata": {},
   "outputs": [
    {
     "data": {
      "text/plain": [
       "['.ipynb_checkpoints',\n",
       " '01_os_module.py',\n",
       " '02_file_ops.py',\n",
       " '03_clear_screen.py',\n",
       " '03_StopAppsShutdown.py',\n",
       " '04_scan_files.py',\n",
       " '04_scan_python_files.py',\n",
       " '05_glob_MODULE.PNG',\n",
       " '06_text_size.py',\n",
       " 'delete_pyc_files.py',\n",
       " 'display_tree_of_dirs.py',\n",
       " 'First',\n",
       " 'myFolder',\n",
       " 'os_module_discussion.ipynb',\n",
       " 'otherfile.tsf',\n",
       " 'PythonFolder1',\n",
       " 'scan_pdf.py',\n",
       " 'sysandos.py',\n",
       " 'txtmd5.py',\n",
       " 'workingWithFilesAndFolders.py']"
      ]
     },
     "execution_count": 62,
     "metadata": {},
     "output_type": "execute_result"
    }
   ],
   "source": [
    "os.listdir(\".\")"
   ]
  },
  {
   "cell_type": "code",
   "execution_count": 63,
   "metadata": {},
   "outputs": [],
   "source": [
    "os.rename(\"First\", \"PythonFolder\")"
   ]
  },
  {
   "cell_type": "code",
   "execution_count": 64,
   "metadata": {},
   "outputs": [],
   "source": [
    "?os.renames"
   ]
  },
  {
   "cell_type": "code",
   "execution_count": 65,
   "metadata": {},
   "outputs": [
    {
     "data": {
      "text/plain": [
       "['.ipynb_checkpoints',\n",
       " '01_os_module.py',\n",
       " '02_file_ops.py',\n",
       " '03_clear_screen.py',\n",
       " '03_StopAppsShutdown.py',\n",
       " '04_scan_files.py',\n",
       " '04_scan_python_files.py',\n",
       " '05_glob_MODULE.PNG',\n",
       " '06_text_size.py',\n",
       " 'delete_pyc_files.py',\n",
       " 'display_tree_of_dirs.py',\n",
       " 'myFolder',\n",
       " 'os_module_discussion.ipynb',\n",
       " 'otherfile.tsf',\n",
       " 'PythonFolder',\n",
       " 'PythonFolder1',\n",
       " 'scan_pdf.py',\n",
       " 'sysandos.py',\n",
       " 'txtmd5.py',\n",
       " 'workingWithFilesAndFolders.py']"
      ]
     },
     "execution_count": 65,
     "metadata": {},
     "output_type": "execute_result"
    }
   ],
   "source": [
    "os.listdir(\".\")"
   ]
  },
  {
   "cell_type": "code",
   "execution_count": 66,
   "metadata": {},
   "outputs": [],
   "source": [
    "os.remove(\"otherfile.tsf\")"
   ]
  },
  {
   "cell_type": "code",
   "execution_count": 67,
   "metadata": {},
   "outputs": [
    {
     "name": "stdout",
     "output_type": "stream",
     "text": [
      "PermissionError(13, 'Access is denied')\n"
     ]
    }
   ],
   "source": [
    "try:\n",
    "    os.remove(\"myFolder\")\n",
    "except PermissionError as ex:\n",
    "    print(repr(ex))"
   ]
  },
  {
   "cell_type": "code",
   "execution_count": 68,
   "metadata": {},
   "outputs": [],
   "source": [
    "os.rmdir(\"myFolder\")\n",
    "os.rmdir(\"PythonFolder1\")"
   ]
  },
  {
   "cell_type": "code",
   "execution_count": 69,
   "metadata": {},
   "outputs": [],
   "source": [
    "os.removedirs(\"PythonFolder/second/third\")\n",
    "# first removes 'PythonFolder/second/third', then 'PythonFolder/second' and then 'PythonFolder'"
   ]
  },
  {
   "cell_type": "code",
   "execution_count": 70,
   "metadata": {},
   "outputs": [
    {
     "data": {
      "text/plain": [
       "['.ipynb_checkpoints',\n",
       " '01_os_module.py',\n",
       " '02_file_ops.py',\n",
       " '03_clear_screen.py',\n",
       " '03_StopAppsShutdown.py',\n",
       " '04_scan_files.py',\n",
       " '04_scan_python_files.py',\n",
       " '05_glob_MODULE.PNG',\n",
       " '06_text_size.py',\n",
       " 'delete_pyc_files.py',\n",
       " 'display_tree_of_dirs.py',\n",
       " 'os_module_discussion.ipynb',\n",
       " 'scan_pdf.py',\n",
       " 'sysandos.py',\n",
       " 'txtmd5.py',\n",
       " 'workingWithFilesAndFolders.py']"
      ]
     },
     "execution_count": 70,
     "metadata": {},
     "output_type": "execute_result"
    }
   ],
   "source": [
    "os.listdir(\".\")"
   ]
  },
  {
   "cell_type": "markdown",
   "metadata": {},
   "source": [
    "### Executing commands"
   ]
  },
  {
   "cell_type": "code",
   "execution_count": 109,
   "metadata": {},
   "outputs": [
    {
     "data": {
      "text/plain": [
       "0"
      ]
     },
     "execution_count": 109,
     "metadata": {},
     "output_type": "execute_result"
    }
   ],
   "source": [
    "os.system(\"ipconfig\")  # 0 - successfully executed command"
   ]
  },
  {
   "cell_type": "code",
   "execution_count": 110,
   "metadata": {},
   "outputs": [
    {
     "data": {
      "text/plain": [
       "1"
      ]
     },
     "execution_count": 110,
     "metadata": {},
     "output_type": "execute_result"
    }
   ],
   "source": [
    "os.system(\"ipconfig111\")  # 1 - unsuccessful execution"
   ]
  },
  {
   "cell_type": "code",
   "execution_count": 111,
   "metadata": {},
   "outputs": [
    {
     "data": {
      "text/plain": [
       "0"
      ]
     },
     "execution_count": 111,
     "metadata": {},
     "output_type": "execute_result"
    }
   ],
   "source": [
    "os.system(\"ping google.com\")"
   ]
  },
  {
   "cell_type": "code",
   "execution_count": 112,
   "metadata": {},
   "outputs": [
    {
     "data": {
      "text/plain": [
       "1"
      ]
     },
     "execution_count": 112,
     "metadata": {},
     "output_type": "execute_result"
    }
   ],
   "source": [
    "os.system(\"pong google.com\")"
   ]
  },
  {
   "cell_type": "markdown",
   "metadata": {},
   "source": [
    "#### Get all the python files in our material "
   ]
  },
  {
   "cell_type": "code",
   "execution_count": 73,
   "metadata": {},
   "outputs": [
    {
     "data": {
      "text/plain": [
       "'D:\\\\MEGAsync\\\\Python-related\\\\PythonMaterial\\\\python3\\\\10_Modules\\\\04_os_module'"
      ]
     },
     "execution_count": 73,
     "metadata": {},
     "output_type": "execute_result"
    }
   ],
   "source": [
    "os.getcwd()"
   ]
  },
  {
   "cell_type": "code",
   "execution_count": 74,
   "metadata": {},
   "outputs": [],
   "source": [
    "os.chdir(\"D:\\\\MEGAsync\\\\Python-related\\\\PythonMaterial\\\\python3\")"
   ]
  },
  {
   "cell_type": "code",
   "execution_count": 75,
   "metadata": {},
   "outputs": [
    {
     "data": {
      "text/plain": [
       "'D:\\\\MEGAsync\\\\Python-related\\\\PythonMaterial\\\\python3'"
      ]
     },
     "execution_count": 75,
     "metadata": {},
     "output_type": "execute_result"
    }
   ],
   "source": [
    "os.getcwd()"
   ]
  },
  {
   "cell_type": "code",
   "execution_count": 76,
   "metadata": {},
   "outputs": [
    {
     "data": {
      "text/plain": [
       "['00_Demo',\n",
       " '01_Introduction',\n",
       " '02_Basics',\n",
       " '03_Language_Components',\n",
       " '04_Exceptions',\n",
       " '05_Debugging',\n",
       " '06_Collections',\n",
       " '07_Functions',\n",
       " '08_Decorators',\n",
       " '09_Iterators_generators_coroutines',\n",
       " '10_Modules',\n",
       " '11_File_Operations',\n",
       " '12_Logging',\n",
       " '13_OOP',\n",
       " '14_Code_Quality',\n",
       " '15_Regular_Expressions',\n",
       " '16_Web_Services',\n",
       " '17_Data_science_modules',\n",
       " 'Anti_patterns',\n",
       " 'Arc_Listener.py',\n",
       " 'asd.py',\n",
       " 'datasets',\n",
       " 'git cheat sheet.jpeg',\n",
       " 'git___commit_vs_merge_vs_Rebase.png',\n",
       " 'gotchas_n_hiddenFeatures.txt',\n",
       " 'hangman.py',\n",
       " 'IMG_20190213_223837.jpg',\n",
       " 'jinja_templating',\n",
       " 'one_liners.py',\n",
       " 'Python Assessment Tests',\n",
       " 'python_2to3_ex.py',\n",
       " 'python_email_sending_script_using_ssl.py',\n",
       " 'Python_Recommended_Material.txt',\n",
       " 'TODO.py',\n",
       " 'TODO.txt',\n",
       " 'youtubeSentiment.py',\n",
       " 'youtubeVideosDownloading.py',\n",
       " 'youtubeVideosDownloading2.py']"
      ]
     },
     "execution_count": 76,
     "metadata": {},
     "output_type": "execute_result"
    }
   ],
   "source": [
    "os.listdir(\".\")"
   ]
  },
  {
   "cell_type": "markdown",
   "metadata": {},
   "source": [
    "__os.walk(top, topdown=True, onerror=None, followlinks=False)__"
   ]
  },
  {
   "cell_type": "code",
   "execution_count": 77,
   "metadata": {},
   "outputs": [
    {
     "data": {
      "text/plain": [
       "<generator object walk at 0x00000274BB178660>"
      ]
     },
     "execution_count": 77,
     "metadata": {},
     "output_type": "execute_result"
    }
   ],
   "source": [
    "os.walk(\".\")"
   ]
  },
  {
   "cell_type": "code",
   "execution_count": 115,
   "metadata": {},
   "outputs": [
    {
     "name": "stdout",
     "output_type": "stream",
     "text": [
      "3 ('.', ['00_Demo', '01_Introduction', '02_Basics', '03_Language_Components', '04_Exceptions', '05_Debugging', '06_Collections', '07_Functions', '08_Decorators', '09_Iterators_generators_coroutines', '10_Modules', '11_File_Operations', '12_Logging', '13_OOP', '14_Code_Quality', '15_Regular_Expressions', '16_Web_Services', '17_Data_science_modules', 'Anti_patterns', 'datasets', 'jinja_templating', 'Python Assessment Tests'], ['Arc_Listener.py', 'asd.py', 'git cheat sheet.jpeg', 'git___commit_vs_merge_vs_Rebase.png', 'gotchas_n_hiddenFeatures.txt', 'hangman.py', 'IMG_20190213_223837.jpg', 'one_liners.py', 'python_2to3_ex.py', 'python_email_sending_script_using_ssl.py', 'Python_Recommended_Material.txt', 'TODO.py', 'TODO.txt', 'youtubeSentiment.py', 'youtubeVideosDownloading.py', 'youtubeVideosDownloading2.py'])\n"
     ]
    }
   ],
   "source": [
    "for each in os.walk(\".\"):\n",
    "    print(len(each), each)\n",
    "    break"
   ]
  },
  {
   "cell_type": "code",
   "execution_count": 116,
   "metadata": {},
   "outputs": [
    {
     "name": "stdout",
     "output_type": "stream",
     "text": [
      ".\n",
      ".\\00_Demo\n",
      ".\\01_Introduction\n",
      ".\\02_Basics\n",
      ".\\02_Basics\\01_Arithmetic_Operations\n",
      ".\\02_Basics\\01_Arithmetic_Operations\\.ipynb_checkpoints\n",
      ".\\02_Basics\\02_String_Operations\n",
      ".\\03_Language_Components\n",
      ".\\03_Language_Components\\01_Relational_Operations\n",
      ".\\03_Language_Components\\02_Logical_Operations\n",
      ".\\03_Language_Components\\03_Boolean_Operations\n",
      ".\\03_Language_Components\\04_Bitwise_Operations\n",
      ".\\03_Language_Components\\05_Identity_Operations\n",
      ".\\03_Language_Components\\06_Range_Function\n",
      ".\\03_Language_Components\\07_Conditional_Operations\n",
      ".\\03_Language_Components\\08_Loops\n",
      ".\\04_Exceptions\n",
      ".\\05_Debugging\n",
      ".\\06_Collections\n",
      ".\\06_Collections\\01_Lists\n",
      ".\\06_Collections\\02_Tuples\n",
      ".\\06_Collections\\03_Sets\n",
      ".\\06_Collections\\04_Dictionaries\n",
      ".\\07_Functions\n",
      ".\\07_Functions\\practical\n",
      ".\\08_Decorators\n",
      ".\\09_Iterators_generators_coroutines\n",
      ".\\09_Iterators_generators_coroutines\\01_Iterables\n",
      ".\\09_Iterators_generators_coroutines\\02_iterators\n",
      ".\\09_Iterators_generators_coroutines\\03_generators\n",
      ".\\09_Iterators_generators_coroutines\\04_coroutines\n",
      ".\\09_Iterators_generators_coroutines\\05_asyncio_module\n",
      ".\\10_Modules\n",
      ".\\10_Modules\\.ipynb_checkpoints\n",
      ".\\10_Modules\\01_math\n",
      ".\\10_Modules\\01_math\\.ipynb_checkpoints\n",
      ".\\10_Modules\\02_sys\n",
      ".\\10_Modules\\03_argparse\n",
      ".\\10_Modules\\04_os_module\n",
      ".\\10_Modules\\04_os_module\\.ipynb_checkpoints\n",
      ".\\10_Modules\\05_shutil\n",
      ".\\10_Modules\\05_shutil\\test_dir_1\n",
      ".\\10_Modules\\05_shutil\\test_dir_2\n",
      ".\\10_Modules\\06_subprocess\n",
      ".\\10_Modules\\07_getpass\n",
      ".\\10_Modules\\07_getpass\\.ipynb_checkpoints\n",
      ".\\10_Modules\\08_time_related\n",
      ".\\10_Modules\\08_time_related\\a_time_module\n",
      ".\\10_Modules\\08_time_related\\b_timeit_module\n",
      ".\\10_Modules\\08_time_related\\b_timeit_module\\.ipynb_checkpoints\n",
      ".\\10_Modules\\08_time_related\\c_datetime_module\n",
      ".\\10_Modules\\08_time_related\\c_datetime_module\\.ipynb_checkpoints\n",
      ".\\10_Modules\\08_time_related\\d_calendar_module\n",
      ".\\10_Modules\\08_time_related\\d_calendar_module\\.ipynb_checkpoints\n",
      ".\\10_Modules\\08_time_related\\e_pendulum_module\n",
      ".\\10_Modules\\08_time_related\\e_pendulum_module\\.ipynb_checkpoints\n",
      ".\\10_Modules\\09_random\n",
      ".\\10_Modules\\10_collections_module\n",
      ".\\10_Modules\\11_pyttsx3\n",
      ".\\10_Modules\\12_qr_code_generation\n",
      ".\\10_Modules\\13_console_coloring\n",
      ".\\10_Modules\\14_turtle_module\n",
      ".\\10_Modules\\15_reportlab\n",
      ".\\10_Modules\\16_multiprocessing\n",
      ".\\10_Modules\\atexit_module\n",
      ".\\10_Modules\\base64_module\n",
      ".\\10_Modules\\nltk_module\n",
      ".\\10_Modules\\Parallel_Processing\n",
      ".\\10_Modules\\socket_programming\n",
      ".\\10_Modules\\socket_programming\\chat_examples\n",
      ".\\10_Modules\\spacy_module\n",
      ".\\10_Modules\\user_defined_modules\n",
      ".\\10_Modules\\user_defined_modules\\docs\n",
      ".\\10_Modules\\user_defined_modules\\my_module\n",
      ".\\10_Modules\\user_defined_modules\\my_module\\__pycache__\n",
      ".\\11_File_Operations\n",
      ".\\11_File_Operations\\01_unstructured_file\n",
      ".\\11_File_Operations\\02_structured_files\n",
      ".\\11_File_Operations\\02_structured_files\\01_pickle\n",
      ".\\11_File_Operations\\02_structured_files\\02_shelve\n",
      ".\\11_File_Operations\\02_structured_files\\03_xml\n",
      ".\\11_File_Operations\\02_structured_files\\04_csv\n",
      ".\\11_File_Operations\\02_structured_files\\04_html_files\n",
      ".\\11_File_Operations\\02_structured_files\\05_xls_files\n",
      ".\\11_File_Operations\\02_structured_files\\05_xls_files\\xlrd_module\n",
      ".\\11_File_Operations\\02_structured_files\\05_xls_files\\xlsxwriter\n",
      ".\\11_File_Operations\\02_structured_files\\05_xls_files\\xlsxwriter\\excels\n",
      ".\\11_File_Operations\\02_structured_files\\06_json_files\n",
      ".\\11_File_Operations\\02_structured_files\\07_yml_files\n",
      ".\\11_File_Operations\\03_image_files\n",
      ".\\11_File_Operations\\03_image_files\\image2BinaryData\n",
      ".\\11_File_Operations\\04_zipping_files\n",
      ".\\11_File_Operations\\04_zipping_files\\tar_files\n",
      ".\\11_File_Operations\\04_zipping_files\\zip_files\n",
      ".\\11_File_Operations\\05_pdf_files\n",
      ".\\11_File_Operations\\06_config_files\n",
      ".\\11_File_Operations\\06_config_files\\a_cfg_files\n",
      ".\\11_File_Operations\\06_config_files\\b_ini_files\n",
      ".\\11_File_Operations\\07_db_files\n",
      ".\\11_File_Operations\\08_pyw files\n",
      ".\\11_File_Operations\\09_temp_files\n",
      ".\\11_File_Operations\\09_temp_files\\temp\n",
      ".\\11_File_Operations\\remove_lines_of_one_file_if_present_in_another\n",
      ".\\12_Logging\n",
      ".\\13_OOP\n",
      ".\\13_OOP\\Practical\n",
      ".\\13_OOP\\Practical\\word_count\n",
      ".\\14_Code_Quality\n",
      ".\\14_Code_Quality\\01_static_typing\n",
      ".\\14_Code_Quality\\02_doctests\n",
      ".\\14_Code_Quality\\03_unit_tests\n",
      ".\\14_Code_Quality\\03_unit_tests\\a_using_asserts\n",
      ".\\14_Code_Quality\\03_unit_tests\\b_using_unittest_module\n",
      ".\\14_Code_Quality\\03_unit_tests\\b_using_unittest_module\\exampleA\n",
      ".\\14_Code_Quality\\03_unit_tests\\b_using_unittest_module\\exampleB\n",
      ".\\14_Code_Quality\\03_unit_tests\\b_using_unittest_module\\exampleB\\__pycache__\n",
      ".\\14_Code_Quality\\03_unit_tests\\b_using_unittest_module\\exampleC\n",
      ".\\14_Code_Quality\\03_unit_tests\\b_using_unittest_module\\exampleC\\__pycache__\n",
      ".\\14_Code_Quality\\03_unit_tests\\b_using_unittest_module\\exampleD\n",
      ".\\14_Code_Quality\\03_unit_tests\\b_using_unittest_module\\exampleD\\__pycache__\n",
      ".\\14_Code_Quality\\03_unit_tests\\b_using_unittest_module\\exampleE\n",
      ".\\14_Code_Quality\\03_unit_tests\\b_using_unittest_module\\exampleE\\test\n",
      ".\\14_Code_Quality\\03_unit_tests\\b_using_unittest_module\\exampleE\\__pycache__\n",
      ".\\14_Code_Quality\\03_unit_tests\\b_using_unittest_module\\exampleF\n",
      ".\\14_Code_Quality\\03_unit_tests\\b_using_unittest_module\\exampleF\\__pycache__\n",
      ".\\14_Code_Quality\\03_unit_tests\\b_using_unittest_module\\exampleG\n",
      ".\\14_Code_Quality\\03_unit_tests\\c_using_nosttest_module\n",
      ".\\14_Code_Quality\\03_unit_tests\\d_using_pytest_module\n",
      ".\\14_Code_Quality\\03_unit_tests\\d_using_pytest_module\\exampleA\n",
      ".\\14_Code_Quality\\03_unit_tests\\d_using_pytest_module\\exampleA\\.pytest_cache\n",
      ".\\14_Code_Quality\\03_unit_tests\\d_using_pytest_module\\exampleA\\.pytest_cache\\v\n",
      ".\\14_Code_Quality\\03_unit_tests\\d_using_pytest_module\\exampleA\\.pytest_cache\\v\\cache\n",
      ".\\14_Code_Quality\\03_unit_tests\\d_using_pytest_module\\exampleA\\__pycache__\n",
      ".\\14_Code_Quality\\04_mocking\n",
      ".\\14_Code_Quality\\04_mocking\\example_0\n",
      ".\\14_Code_Quality\\04_mocking\\example_1\n",
      ".\\14_Code_Quality\\04_mocking\\example_1\\__pycache__\n",
      ".\\14_Code_Quality\\04_mocking\\example_2\n",
      ".\\14_Code_Quality\\04_mocking\\example_2\\__pycache__\n",
      ".\\14_Code_Quality\\04_mocking\\example_3\n",
      ".\\14_Code_Quality\\04_mocking\\example_3\\__pycache__\n",
      ".\\14_Code_Quality\\04_mocking\\example_4\n",
      ".\\14_Code_Quality\\04_mocking\\example_4\\__pycache__\n",
      ".\\14_Code_Quality\\04_mocking\\example_5\n",
      ".\\14_Code_Quality\\04_mocking\\example_6\n",
      ".\\14_Code_Quality\\04_mocking\\example_7\n",
      ".\\14_Code_Quality\\05_selenium_testing\n",
      ".\\14_Code_Quality\\06_autopy_module\n",
      ".\\15_Regular_Expressions\n",
      ".\\15_Regular_Expressions\\d\n",
      ".\\16_Web_Services\n",
      ".\\16_Web_Services\\a_web_scraping\n",
      ".\\16_Web_Services\\a_web_scraping\\a_get_webpage\n",
      ".\\16_Web_Services\\a_web_scraping\\b_get_my_public_ip\n",
      ".\\16_Web_Services\\b_consuming_APIs\n",
      ".\\16_Web_Services\\b_consuming_APIs\\a_get_ip_and_details\n",
      ".\\16_Web_Services\\b_consuming_APIs\\b_ISS\n",
      ".\\16_Web_Services\\b_consuming_APIs\\c_managing_headers\n",
      ".\\16_Web_Services\\b_consuming_APIs\\d_http_status_codes\n",
      ".\\16_Web_Services\\b_consuming_APIs\\e_request_methods\n",
      ".\\16_Web_Services\\c_web_application\n",
      ".\\16_Web_Services\\c_web_application\\using_bottle\n",
      ".\\16_Web_Services\\c_web_application\\using_flask\n",
      ".\\16_Web_Services\\others\n",
      ".\\16_Web_Services\\others\\01_urllib.request\n",
      ".\\16_Web_Services\\others\\01_urllib.request\\.ipynb_checkpoints\n",
      ".\\16_Web_Services\\others\\02_requests\n",
      ".\\16_Web_Services\\others\\02_requests\\NASA\n",
      ".\\16_Web_Services\\others\\03_web_scrapping\n",
      ".\\16_Web_Services\\others\\04_ftp\n",
      ".\\16_Web_Services\\others\\04_ftp\\.ipynb_checkpoints\n",
      ".\\16_Web_Services\\others\\05_pyselenium\n",
      ".\\17_Data_science_modules\n",
      ".\\17_Data_science_modules\\.ipynb_checkpoints\n",
      ".\\17_Data_science_modules\\00_statistics\n",
      ".\\17_Data_science_modules\\00_statistics\\.ipynb_checkpoints\n",
      ".\\17_Data_science_modules\\01_numpy\n",
      ".\\17_Data_science_modules\\01_numpy\\.ipynb_checkpoints\n",
      ".\\17_Data_science_modules\\02_pandas\n",
      ".\\17_Data_science_modules\\02_pandas\\.ipynb_checkpoints\n",
      ".\\17_Data_science_modules\\02_pandas\\Practical Data Analysis with Python and Pandas ,Real Project [FTU]\n",
      ".\\17_Data_science_modules\\02_pandas\\Practical Data Analysis with Python and Pandas ,Real Project [FTU]\\.ipynb_checkpoints\n",
      ".\\17_Data_science_modules\\03_matplotlib\n",
      ".\\17_Data_science_modules\\03_matplotlib\\.ipynb_checkpoints\n",
      ".\\17_Data_science_modules\\04_nltk\n",
      ".\\17_Data_science_modules\\05_finance\n",
      ".\\Anti_patterns\n",
      ".\\datasets\n",
      ".\\datasets\\.ipynb_checkpoints\n",
      ".\\datasets\\formula-1-race-data-19502017\n",
      ".\\datasets\\google-play-store-apps\n",
      ".\\jinja_templating\n",
      ".\\jinja_templating\\templates\n",
      ".\\Python Assessment Tests\n"
     ]
    }
   ],
   "source": [
    "for each_dir, each_2, each_3 in os.walk(\".\"):\n",
    "    print(each_dir)"
   ]
  },
  {
   "cell_type": "code",
   "execution_count": 118,
   "metadata": {},
   "outputs": [
    {
     "name": "stdout",
     "output_type": "stream",
     "text": [
      "['00_Demo', '01_Introduction', '02_Basics', '03_Language_Components', '04_Exceptions', '05_Debugging', '06_Collections', '07_Functions', '08_Decorators', '09_Iterators_generators_coroutines', '10_Modules', '11_File_Operations', '12_Logging', '13_OOP', '14_Code_Quality', '15_Regular_Expressions', '16_Web_Services', '17_Data_science_modules', 'Anti_patterns', 'datasets', 'jinja_templating', 'Python Assessment Tests']\n",
      "['01_Arithmetic_Operations', '02_String_Operations']\n",
      "['.ipynb_checkpoints']\n",
      "['01_Relational_Operations', '02_Logical_Operations', '03_Boolean_Operations', '04_Bitwise_Operations', '05_Identity_Operations', '06_Range_Function', '07_Conditional_Operations', '08_Loops']\n",
      "['01_Lists', '02_Tuples', '03_Sets', '04_Dictionaries']\n",
      "['practical']\n",
      "['01_Iterables', '02_iterators', '03_generators', '04_coroutines', '05_asyncio_module']\n",
      "['.ipynb_checkpoints', '01_math', '02_sys', '03_argparse', '04_os_module', '05_shutil', '06_subprocess', '07_getpass', '08_time_related', '09_random', '10_collections_module', '11_pyttsx3', '12_qr_code_generation', '13_console_coloring', '14_turtle_module', '15_reportlab', '16_multiprocessing', 'atexit_module', 'base64_module', 'nltk_module', 'Parallel_Processing', 'socket_programming', 'spacy_module', 'user_defined_modules']\n",
      "['.ipynb_checkpoints']\n",
      "['.ipynb_checkpoints']\n",
      "['test_dir_1', 'test_dir_2']\n",
      "['.ipynb_checkpoints']\n",
      "['a_time_module', 'b_timeit_module', 'c_datetime_module', 'd_calendar_module', 'e_pendulum_module']\n",
      "['.ipynb_checkpoints']\n",
      "['.ipynb_checkpoints']\n",
      "['.ipynb_checkpoints']\n",
      "['.ipynb_checkpoints']\n",
      "['chat_examples']\n",
      "['docs', 'my_module']\n",
      "['__pycache__']\n",
      "['01_unstructured_file', '02_structured_files', '03_image_files', '04_zipping_files', '05_pdf_files', '06_config_files', '07_db_files', '08_pyw files', '09_temp_files', 'remove_lines_of_one_file_if_present_in_another']\n",
      "['01_pickle', '02_shelve', '03_xml', '04_csv', '04_html_files', '05_xls_files', '06_json_files', '07_yml_files']\n",
      "['xlrd_module', 'xlsxwriter']\n",
      "['excels']\n",
      "['image2BinaryData']\n",
      "['tar_files', 'zip_files']\n",
      "['a_cfg_files', 'b_ini_files']\n",
      "['temp']\n",
      "['Practical']\n",
      "['word_count']\n",
      "['01_static_typing', '02_doctests', '03_unit_tests', '04_mocking', '05_selenium_testing', '06_autopy_module']\n",
      "['a_using_asserts', 'b_using_unittest_module', 'c_using_nosttest_module', 'd_using_pytest_module']\n",
      "['exampleA', 'exampleB', 'exampleC', 'exampleD', 'exampleE', 'exampleF', 'exampleG']\n",
      "['__pycache__']\n",
      "['__pycache__']\n",
      "['__pycache__']\n",
      "['test', '__pycache__']\n",
      "['__pycache__']\n",
      "['exampleA']\n",
      "['.pytest_cache', '__pycache__']\n",
      "['v']\n",
      "['cache']\n",
      "['example_0', 'example_1', 'example_2', 'example_3', 'example_4', 'example_5', 'example_6', 'example_7']\n",
      "['__pycache__']\n",
      "['__pycache__']\n",
      "['__pycache__']\n",
      "['__pycache__']\n",
      "['d']\n",
      "['a_web_scraping', 'b_consuming_APIs', 'c_web_application', 'others']\n",
      "['a_get_webpage', 'b_get_my_public_ip']\n",
      "['a_get_ip_and_details', 'b_ISS', 'c_managing_headers', 'd_http_status_codes', 'e_request_methods']\n",
      "['using_bottle', 'using_flask']\n",
      "['01_urllib.request', '02_requests', '03_web_scrapping', '04_ftp', '05_pyselenium']\n",
      "['.ipynb_checkpoints']\n",
      "['NASA']\n",
      "['.ipynb_checkpoints']\n",
      "['.ipynb_checkpoints', '00_statistics', '01_numpy', '02_pandas', '03_matplotlib', '04_nltk', '05_finance']\n",
      "['.ipynb_checkpoints']\n",
      "['.ipynb_checkpoints']\n",
      "['.ipynb_checkpoints', 'Practical Data Analysis with Python and Pandas ,Real Project [FTU]']\n",
      "['.ipynb_checkpoints']\n",
      "['.ipynb_checkpoints']\n",
      "['.ipynb_checkpoints', 'formula-1-race-data-19502017', 'google-play-store-apps']\n",
      "['templates']\n"
     ]
    }
   ],
   "source": [
    "for each_dir, dirs, each_3 in os.walk(\".\"):\n",
    "    if dirs:\n",
    "        # if that directory has sub-directories\n",
    "        print(dirs)"
   ]
  },
  {
   "cell_type": "code",
   "execution_count": 121,
   "metadata": {},
   "outputs": [
    {
     "name": "stdout",
     "output_type": "stream",
     "text": [
      "['Arc_Listener.py', 'asd.py', 'git cheat sheet.jpeg', 'git___commit_vs_merge_vs_Rebase.png', 'gotchas_n_hiddenFeatures.txt', 'hangman.py', 'IMG_20190213_223837.jpg', 'one_liners.py', 'python_2to3_ex.py', 'python_email_sending_script_using_ssl.py', 'Python_Recommended_Material.txt', 'TODO.py', 'TODO.txt', 'youtubeSentiment.py', 'youtubeVideosDownloading.py', 'youtubeVideosDownloading2.py']\n",
      "['a_IEEE_Spectrum_ranking_2019.png', 'b_language_trends.jpg', 'course_content.txt', 'c_ranking_history.JPG', 'demo.py', 'discussion.txt', 'd_octoverse_languages.JPG', 'e_Python_vs_other_languages_2018.jpg', 'f_comparision of languages-analogy.jpg', 'g_programming paradigm.PNG', 'h_python_philosophy.py', 'i_best-python-cheatsheet.png', 'j_python trends.txt', 'pep_20.py', 'popularity_in_last_5_years.JPG', 'PYPL_top_10_languages.PNG', 'python_cheatsheet.png', 'python_package_trends.jpg']\n",
      "['0_Python important links.txt', '0_Python(Anaconda)_Installation_procedure.txt', '0_python36_installation_in_redhat_linux.sh', 'a_first.py', 'b_hello_world.py', 'c_indentation_issue.py', 'd_built_in_functions.txt', 'd_print_syntax.py', 'e_print_syntax.py', 'f_comments.py', 'f_Reserve_keywords.txt', 'g_keywords.txt', 'h_Identifiers.py', 'i_Identifier_casing.py', 'j_multiline_statements.py', 'k_multiline_statement_in_same_line.py', 'l_dynamic_typing.py']\n",
      "['usage_of_help.html', 'usage_of_help.py', 'usage_of_pydoc.txt']\n",
      "['arithmetic_operations.ipynb', 'Assignment_Expression_OR_Walrus_Operator.ipynb', 'a_arithmetic_operations.py', 'b_arithmetic_operations.py', 'c_compound_operations.py', 'd_number_format.py', 'e_ration_store.py', 'f_fruit_store.py', 'g_grocery_store.py', 'h_savings_bank.py', 'i1_feet_to_cms_conversion.py', 'i_bank_loan.py', 'j_type_conversions.py', 'k_complex_numbers.py', 'l_complex_numbers.py', 'l_complex_numbers_ops.ipynb', 'm_abs_function.py', 'n_divmod.py', 'o_operator_precedence.py', 'o_operator_precedence.txt', 'type-casting.txt']\n",
      "['Assignment_Expression_OR_Walrus_Operator-checkpoint.ipynb']\n",
      "['10_bytearray_string.py', '11_bytearray_string.py', '12_byte_string.py', '13_byte_string.py', '13_unicode_ex.py', 'assignment1.txt', 'a_string_operations.py', 'b_importance_of_quotes.py', 'c_string_indexing.py', 'd_string_slicing.py', 'e2_palindrome_check.py', 'e_string_slicing.py', 'f_string_attributes.py', 'g_string_attributes.py', 'h_old_style_string_formatting.py', 'i_new_style_formatting.py', 'j_f_strings.py', 'k_f_string_assignements.py', 'l_string_formatting.txt', 'm_string_attributes.py', 'n_unicode_characters.py', 'o_byte_strings.py', 'p_byte_string_operations.py', 'stringdemo.py', 'Supermarket_bill.py']\n",
      "['a_relational_operations.py']\n",
      "['a_logical_operations.py', 'b_logical_operations.py']\n",
      "['a_boolean_operations.py', 'b_boolean_operations.py', 'c_bool_function.py', 'd_bool_function_usage.py', 'e_bool_love.py']\n",
      "['a_bitwise_operations.py']\n",
      "['a_identity_operations.py']\n",
      "['a_range_function.py', 'b_range_function.py']\n",
      "['a_even_or_odd.py', 'b_number_guessing_game.py', 'c_office_schedule.py', 'd_vowels_n_consonants.py', 'e_celsius_to_fahrenheit_conversion.py', 'f_temperature_conversion.py', 'g_electricity_bill_generation.py', 'h_leap_years_calculation.py', 'i_prime_number_check.py', 'j_grocery_store.py', 'k_supermarket_bill.txt', 'l_ternary_operations.py']\n",
      "['a_for_loop.py', 'b_progress_bar_implementation.py', 'c_while_loop.py', 'd_multiplication_table.py', 'e1_pronic_numbers.py', 'e_pronic_numbers.py', 'f_number_guessing_game.py', 'g_half_diamond.py', 'h_loops.py', 'i_loops.py', 'j_average.py', 'k_prime_numbers_btwn_interval.py', 'l_calculator.py', 'm_binary_to_decimal.py', 'n_palindrome_string_check.py', 'o_hcf.py']\n",
      "['00_explanation.txt', '01_exceptions_hierarchy.txt', '02_exceptions_handling.py', '03_exception_handling.py', '04_excpetion_handling.py', '05_exception_handling.py', '06_exception_handling.py', '07_exception_handling.py', '08_handling_multiple_exceptions.py', '09_exception_precendence.py', '10_assertions.py', '11_raising_exception.py', '12_get_traceback.py', '13_custom_exceptions.py', '13_exception_hooks.py', '14_warnings.py']\n",
      "['01_example.py', '02_example.py', '03_example.py', '04_example.py', 'explanation.txt', 'Python Debugger Cheatsheet.pdf']\n",
      "['Collections___sets_n_Dictionaries.ipynb', 'comprehensions.py', 'comprehensions_ex.py']\n",
      "['01_lists.py', '02_lists.py', '03_lists.py', '04_list.py', '05_lists.py', '06_copy_problem.py', '06_list_referencing_issue.py', 'collections_ex.py', 'explanation.txt', 'new.py']\n",
      "['01_tuples.py', '02_tuple_attributes.py', '03_tuple_operations.py', '04_immutability.py', '05_named_tuples.py', '06_cartesian_coordinate_system.py', '07_named_tuple_ops.py', '08_unpacking.py']\n",
      "['01_sets_usage.py', '02_sets.py', '03_set_atrributes.py', '04_set_operations.py', '05_mutability.py', '06_frozenset.py', '07_hashables.py', '08_sets_faqs.py']\n",
      "['01_dicts.py', '02_dicts.py', '03_dicts.py', '04_dicts.py', '05_dicts.py', '06_dicts.py', '07_dicts.py', '08_dicts.py', '09_frequency_analyses.py', '10_progress_bar.py', '11_switch_case_equivalent.py', '12_using_format_map.py']\n",
      "['001_necessity_of_functions.py', '002_simple_function.py', '003_function_with_args.py', '004_function_with_two_args.py', '005_function_with_return_value.py', '006_return_values_unpacking.py', '007_sum_function.py', '008_function_overwriting.py', '009_default_args_1.py', '010_default_args_leakage_issue.py', '011_function_with_variable_args.py', '012_function_with_variable_n_keyword_args.py', '013_postion_only_args.py', '014_keyword_only_args.py', '015_global_vs_local_scope.py', '016_scope_resolution.py', '017_partial_function_ex.py', '018_partical_euclidean_distance.py', '019_lambda_functions.py', '020_higher_order_functions.py', '021_higher_order_functions.py', '022_higher_order_functions.py', '023_recursions.py', '024_recursions.py', '025_fibonacci_series.py', '026_infinite_recursions.py', '027_inner_functions.py', '028_closures_ex.py', '029_closures_ex.py', 'assignment.txt', 'Functional_Programming_in_Python.ipynb', 'Functional_Programming_in_Python.pdf', 'README.md']\n",
      "['001_string_range_n_jump_index.py', '002_price_format.py', 'addition6.py', 'args_and_kwargs.py', 'args_kargs.py', 'calculator1.py', 'crazy_numbers.py', 'display_number_pattern.py', 'divisibility_test.py', 'door_mat.py', 'leapYear.py', 'pascal_triangle.py', 'pyramid_pattern.py', 'rangoli_string.py', 'tic_tic_toe.py']\n",
      "['00_without_decorators.py', '01_with_decorators.py', '02_with_decorators.py', '03_decorator_syntax_sugar.py', '04_decorator_for_prints.py', '05_time_taken_decorator.py', '06_multiple_decorators.py', '07_multiple_decorators.py', '08b_count_call_wraps.py', '08_functools_wrap.py', '09_class_as_decorator.py', '10a_class_as_decorator_wraps.py', '10_class_as_decorator.py', '11_method_as_decorator.py', '12_consumed_coroutine.py', '13_phone_number_formatter.py', '14_tracing_functions_decorator.py', '15_debugging_decorator.py', '16_decorator_with_args.py', '17_functools_lru_cache.py', 'Decorators.ipynb']\n",
      "['001 Iteration vs Generation.mp4', 'assignment']\n",
      "['a_iterables.py', 'b_enumerate_function.py', 'c_all_and_any_functions.py', 'd_sorting.py', 'explanation.txt', 'e_sorting.py']\n",
      "['a_range.py', 'b_zip_map_filter.py', 'c_user_defined_iterators.py', 'd_user_defined_iterators.py', 'explanation.txt', 'e_user_defined_iterators.png', 'e_user_defined_iterators.py', 'f_itertools.py', 'Itertools_module.ipynb']\n",
      "['01_generators.py', '02_generators.py', '03_fibonacci_generator.py', '04_generators.py', '05_generator_pipeline_ex.py', '06_chained_generator_expressions.py', 'assignments.txt', 'generators.py']\n",
      "['a_basic_coroutine.py', 'b_coroutine.py', 'c_coroutines.py', 'd_coroutines.py', 'e_chained_coroutines_ex.py', 'f_coroutine_based_asyncio.py']\n",
      "['a_asynchronous_function.py', 'b_asynchronous_sleep.py', 'c_asynchrnous_sleep.py', 'd_async_tasks.py', 'e1_cancel_task.py', 'e_callback_for_tasks.py', 'f_asyncio_ex.py', 'g_asyncio_gather.py', 'h_asyncio_wait.py', 'i_asyncio_wait_for.py', 'j_asyncio_as_completed.py', 'k_asyncio_ex.py', 'l_asyncio_ex.py', 'm_asyncio_ex.py', 'n_asyncio_ex.py', 'README.md']\n",
      "['ast_module_ex.py', 'bytearraydemo.py', 'contextlib_ex.py', 'DisplayProgressBar.py', 'hashlib_module.py', 'memcach_ex.py', 'parse_ex.py', 'sched_basic.py', 'shlex_module.py', 'tqdm_ex.py', 'uuid_module.py']\n",
      "['base64_module-checkpoint.ipynb']\n",
      "['01_math_module.ipynb', '01_math_module.pdf', 'specialnumbers.py']\n",
      "['01_math_module-checkpoint.ipynb']\n",
      "['05_sys_module.ipynb', 'a_sys_module.py', 'b_sys_module.py', 'calculator.py', 'c_sys_module.py', 'd_sys_get_size_of.py', 'e_sys_get_refcount.py', 'f_stdout_stderr.py', 'g_sys_module.py', 'h_sys_platform.py', 'i_platform_module.py', 'j_sys_path.py', 'k_sysconfig_module.py', 'l_command_line_args.py', 'm_loterry_ticket_check.py']\n",
      "['a_arg_parse.py', 'b_calculator.py', 'c_arg_parse.py', 'd_nargs_example.py']\n",
      "['01_os_module.py', '02_file_ops.py', '03_clear_screen.py', '03_StopAppsShutdown.py', '04_scan_files.py', '04_scan_python_files.py', '05_glob_MODULE.PNG', '06_text_size.py', 'delete_pyc_files.py', 'display_tree_of_dirs.py', 'os_module_discussion.ipynb', 'scan_pdf.py', 'sysandos.py', 'txtmd5.py', 'workingWithFilesAndFolders.py']\n",
      "['os_module_discussion-checkpoint.ipynb']\n",
      "['01_copy_file.py', 'explanation', 'shutil-example-1.py', 'shutil-example-2.py', 'shutil_copy2.py', 'shutil_copyfile.py', 'shutil_copyfile1.py', 'shutil_copyfileobj.py', 'shutil_copymode.py', 'shutil_copystat.py', 'shutil_ex.py']\n",
      "['test_file_1.txt']\n",
      "['test_file_1.txt', 'test_file_2.txt']\n",
      "['00_subprocess_ex.py', '01_subprocess_ex.py', '02_subprocess_ex.py', '03_ping_site.py', 'cleanup_pid.py', 'explanation.txt']\n",
      "['a_getpass_module.ipynb', 'a_get_pass.py']\n",
      "['a_getpass_module-checkpoint.ipynb']\n",
      "['a_time_module.py', 'b_time_perf_counter.py', 'c_time_sleep.py']\n",
      "['a_timeit_module.py', 'b_timeit_string_formatting.py', 'c_timeit_module.ipynb']\n",
      "['c_timeit_module-checkpoint.ipynb']\n",
      "['a_datetime_module.ipynb', 'b_datetime_module.py', 'c_Dates and Times.htm']\n",
      "['a_datetime_module-checkpoint.ipynb']\n",
      "['a_calendar_module.ipynb', 'b_display_second_thursday.py']\n",
      "['a_calendar_module-checkpoint.ipynb']\n",
      "['pendulum_module_tutorial.ipynb']\n",
      "['pendulum_module_tutorial-checkpoint.ipynb']\n",
      "['01_random_numbers.1.py', '01_random_numbers.2.py', '02_tossing_coin.py', '03_random_name_generator.py', '04_cards_game.py', '05_password_generator.py', '06_password_generator.py', '07_random_gaussion_numbers.py', 'cipherwheel.py', 'random_module.ipynb', 'secrets_module.ipynb']\n",
      "['collections_Counter.1.py', 'collections_Counter.2.py', 'collections_Counter.3.py', 'collections_defaultdict_1.py', 'collections_defaultdict_2.py', 'collections_defaultdict_3.py', 'collections_deque_ex.py', 'collections_module.ipynb', 'collections_namedtuple.py', 'collections_OrderedDict.py']\n",
      "['a_num2lettrs.py', 'b_speaking_text.py', 'c_listening_for_events.py', 'd_Interrupting_utterance.py', 'e_changing_voices.py', 'f_changing_speech_rate.py', 'g_changing_volume.py']\n",
      "['qrcode_generation.py', 'url.png']\n",
      "['bankConsoleUI.py', 'consoleColor.py', 'test_color_console_py30.py']\n",
      "['00_turtle_example.py', '01_square.py', '02_star.py', '03_hexagon.py', '04_drawSpiral.py', '04_spiral_square_outside_in.py', '05_spiral_square_inside_out.py', '06_spirals.py', '07_spirals.py', '08_circular_patterns_with_sqaures.py', '09_drawTriangle.py', '10_Pythagoras_tree.pyw', '11_christmas_tree.py', '12_user_input_pattern.py', '13_rainbow_benzene.py', '14_spiral_helix_pattern.py', '15_spiral_fractal.py', '16_Indian_Flag.py', '16_USA_flag.py', 'chap13.pdf', 'circlefill.py', 'new.py', 'paramcurve.py', 'polygon.py', 'polysub.py', 'SevenWaysToUseTurtle-PyCon2009.pdf', 'state_change.py', 'traffic_light.py', 'traffic_light2.py', 'turtle graphocs.pdf', 'turtle_draw_triangle.py', 'Untitled.ipynb']\n",
      "['01_reportlab_ex.py', '02_reportlab_ex.py', '03_reportlab_ex.py', 'form.pdf', 'form_letter.pdf', 'hello.pdf', 'python_logo.png']\n",
      "['a_multiprocessing.py']\n",
      "['01_atexit_module.py', '02_atexit_module.py', '03_atexit_module.py']\n",
      "['base64_ex.py', 'base64_module.ipynb', 'decoded_image.png', 'python_logo.png']\n",
      "['a_nltk_ex.py', 'b_nltk_ex.py', 'c_nltk_ex.py', 'd_nltk_ex.py']\n",
      "['0_parallel_processng.txt', 'a_get_cpu_count.py', 'a_mutliprocessing_ex.py', 'b_concurrent_futures_ex.py', 'b_without_multiprocessing.py', 'concurrent_ex.py', 'c_pool_apply.py', 'd_pool_map.py', 'e_pool_starmap.py', 'multi_threading_download.py', 'multi_threading_ex1.py']\n",
      "['01_sockets.py', '02_sockets.py', '03_sockets.py', '04_sockets.py', '05_sockets.py', '06_sockets.py', 'creating_http_server.py', 'first.py', 'ftp_server.py', 'HClive_server.py', 'live_server.py', 'port_scanner.py', 'send.py', 'server.py', 'Socket Programming in Python.pdf', 'socket1.py', 'socket2.py', 'socket7.py', 'soket8.py', 'start_http_server_in_cmd_line.txt', 'threaded_simple_httpserver.py']\n",
      "['chat_client.py', 'chat_server.py', 'notes.txt']\n",
      "['spacy_module.ipynb']\n",
      "['module_usage.py', 'README.md', 'saving_pydoc_output.py']\n",
      "['calculator.txt', 're.txt', '__name__.txt', '__name__2.txt']\n",
      "['calculator.py', 'cal_usage.py', 'newScript.py', 'newscript_usage.py', '__init__.py']\n",
      "['calculator.cpython-38.pyc', 'newScript.cpython-38.pyc', '__init__.cpython-38.pyc']\n",
      "['sounddemo.py', 'tablib___file_format_conversion.PNG']\n",
      "['a_create_file.py', 'b_write_multiple_lines.py', 'c_read_operations.py', 'd_read_muliple_lines.py', 'f_with_context_manager.py', 'g_stringIO_module.py', 'myfile.txt', 'something.tsf', 'someTHing.txt']\n",
      "['airports.dat', 'docx_files_ex.py', 'explanation.txt', 'result.docx']\n",
      "['a_write_pickle.py', 'b_dumps_loads.py', 'c_dump_load.py', 'first_line.pickle', 'serialized_data.pkl']\n",
      "['michelShelve.db.bak', 'michelShelve.db.dat', 'michelShelve.db.dir', 'using_shelve.py']\n",
      "['a_write_xml.py', 'books.xml', 'b_write_xml.py', 'c_parsing_xml.py', 'd_parsing_xml_string.py', 'e_parsing_xml_string.py', 'first.xml', 'f_parse_xml.py', 'g_xml_to_dict.py', 'result.xml']\n",
      "['a_write_csv.py', 'b_read_cv.py', 'c_read_csv_using_module.py', 'd_read_csv_using_module.py', 'e_read_csv_using_pandas.py', 'f_writing_csv_using_module.py', 'g_writing_csv_using_module.py', 'h_writing_csv_with_different_delimiter.py', 'i_writing_non_english_characters.py', 'j_read_csv_numeric_data.py', 'k_creating_own_dialect.py', 'my_file.csv', 'non_english.csv', 'other_file.csv', 'other_file2.csv', 'other_file3.csv', 'quote_all.csv', 'quote_minimal.csv', 'quote_none.csv', 'quote_nonnumeric.csv']\n",
      "['01_html_parsing.py', 'html cheatsheet.jpg']\n",
      "['01_excel_files.py', '01_read_excelsheet.py', '02_read_excelsheets.py', 'bench_excel_writers.py', 'explanation.txt', 'movies.xls', 'openpyxl_opt.xlsx', 'pandas_excel.py', 'pyexcelerate.xlsx', 'test.xlsx', 'workingWithXLS.py', 'xlsxwriter.xlsx', 'xlsxwriter_opt.xlsx', 'xlwt.xls']\n",
      "['my_read.py', 'new.xls']\n",
      "['01_excel.py', '02_excel.py', '03_excel.py', '04_excel.py', '05_excel.py', '06_excel.py', '07_excel.py', '08_excel.py', '09_excel.py', '10_excel.py', '11_excel.py', '12_excel.py', '13_excel.py', 'create_xlsx.py', 'date_examples.xlsx', 'Expenses01.xlsx', 'Expenses02.xlsx', 'hello.xlsx', 'pandas_example.xlsx', 'three.xlsx']\n",
      "['chart_line.xlsx', 'datetimes.xlsx', 'date_examples.xlsx', 'Expenses01.xlsx', 'Expenses02.xlsx', 'Expenses03.xlsx', 'hello.xlsx', 'memory_ex.xlsx', 'mybook.xlsx', 'pandas_example.xlsx', 'three.xlsx']\n",
      "['countries.json', 'countries.py', 'country_code.py', 'country_codes.csv', 'country_codes.json', 'ebook.json', 'json_ex.py', 'mountains.json', 'mountains.py', 'test.json', 'workingWithJson.py', 'workingWithJson1.py', 'workingWithJson_geocoding.py']\n",
      "['a_read_yaml.py', 'b_read_multiple_yaml_docs.py', 'c_write_yaml_string.py', 'data.yaml', 'd_write_yaml_file.py', 'e_sort_keys.py', 'f_json_to_yaml.py', 'items.yaml', 'json_test.json', 'users.yaml', 'yaml-test.yml']\n",
      "['00_show_image.py', '01_create_image.py', '02_create_image.py', '03_image_with_text.py', '04_image_with_text_font.py', '05_resize_image.py', '06_crop_image.py', '07_rotate_image.py', '08_edge_detection.py', '09_pixel_management.py', '10_change_desktop_background.py', '11_modify_exif_data.py', '8-Motivational-Quotes.png', 'ariali.ttf', 'cameraman.jpg', 'cameraman_with_modified_exif.jpg', 'imageExample1.py', 'image_Steganography_ex.py', 'MotivationalQuote.png', 'pil_color.png', 'pil_red.png', 'pil_text.png', 'pil_text_font.png', 'python.jpg', 'resized_cameraman.jpg', 'resized_python.jpg', 'resized_strawberries.png', 'strawberries.png', 'z_optimize_images_with_wand.py']\n",
      "['A.png', 'test.py']\n",
      "['fileThree.txt', 'tarFileOne.tar', 'tarfile_ex_1.py', 'tar_files_ex.txt']\n",
      "['zipper_ex_1.py', 'zipper_ex_2.py']\n",
      "['01_create_barcode_pdf.py', 'creating_pdf_file.py', 'free3of9.ttf']\n",
      "['a_create_config_files.py', 'b_read_config_files.py', 'c_read_config_files.py', 'd_config_files.py', 'example.cfg']\n",
      "['a_read_ini_file.py', 'b_has_section.py', 'c_has_option.py', 'd_read_many.py', 'e_structure.py', 'f_interpolation_defaults.py', 'g_parse_unicode.py', 'h_parse_value_types.py', 'interpolation_defaults.ini', 'multisection.ini', 'simple.ini', 'types.ini', 'unicode.ini']\n",
      "['a_explanation.txt', 'createdb2.py', 'create_db_in_memory.py', 'db1.py', 'db2.py', 'emaildb.py', 'population.db', 'pythonsqlite.db', 'working_sqlite_db.ipynb', 'working_sqlite_db.pdf', 'working_with_sqlite3.txt']\n",
      "['myfile.pyw', 'smallDistrictsAnalysesProjectCreator.pyw']\n",
      "['a_create_temp_file.py']\n",
      "['dir_scan.py', 'file1.txt', 'file2.txt', 'file2_formatted.txt', 'README.md', 'RemoveLines_of_file2_if_present_in_file1.py']\n",
      "['00_logging.PNG', '01_logging.PNG', '01_logging.py', '02_logging_configuration.py', '03_disabling_logging.py', '03_logging.log', '04_logging.log', '04_logging_to_file.py', '05_logging.log', '05_logging_configuration.py', '06_custom_logging_configuration.py', '06_logging.log', '07_logging_exceptions.py', '08_disk_space_management.py', '08_logging.log', '09_disk_space_management.py', '09_logging.log', '10_pformat_in_logging.py', '11_streamhandler_logging.py', '12_filehandler_logging.py', '13_filehandler_logging.py', '14_multiple_handlers.log', '14_multiple_handlers.py', '15_logging.py', '16_advancedLogging.py', '17_loggingExample.py', '18_logging_in_json_format.py', '19_rotational_handler.log', '19_rotational_handler.log.1', '19_rotational_handler.log.2', '19_rotational_handler.py', '20_TimedRotatingFileHandler.log', '20_TimedRotatingFileHandler.log.2020-05-02_22-17-00', '20_TimedRotatingFileHandler.log.2020-05-02_22-17-05', '20_TimedRotatingFileHandler.log.2020-05-02_22-17-10', '20_TimedRotatingFileHandler.log.2020-05-02_22-17-15', '20_TimedRotatingFileHandler.log.2020-05-02_22-17-20', '20_TimedRotatingFileHandler.py', '21_color_log_in_terminal.py', '22_logging.conf', '22_using_log_config_file.py', 'log2.txt', 'README.md', 'using_memory_handler.py', 'using_SMTP_handler.py']\n",
      "['00_without_classes.py', '01_without_classes.py', '02_Instantiation.py', '03_Instantiation.py', '04_constructor.py', '05_constructor_with_args.py', '06_importance_of_self.py', '07_with_classes.py', '08_class_variables.py', '09_Encapsulation.py', '0_explanation.txt', '10_mro.PNG', '10_mro_2.PNG', '10_Single_inheritance.py', '11_single_inheritance.py', '12_custom_exception.py', '13_multiple_inheritance.py', '14_Composition.py', '15_magicmethods.pdf', '15_Method_Overwriting.py', '16_Operator_Overloading.py', '17_class_method_n_variables.py', '18_static_n_class_methods.py', '19_property_decorator1.py', '20_property_decoraror.py', '21b_partial_method.py', '21_property_decorator.py', '22_add_dunder_method.py', '22_Dunder_methods.py', '22_slots.py', '23_new_dunder_method.py', '24_Dunder_methods.py', '25_call_dunder_method.py', '26_Dunder_methods.py', '27_Dunder_methods.txt', '28_repr_dunder_method.py', '29_context_manager.py', '29_custom_iterator.py', '30_singleton_design_pattern.py', '31_singleton_design_pattern.py', '32_singleton_design_pattern.py', '33_data_classes.py', '34_data_classes.py', '35_data_classes.py', '36_data_classes.py', '37_data_classes.py', '38_namedtuple_with_defaults.py', '40_Memento_pattern.py', '41_Stack_Implementation.py', '42_Stack_Implementation.py', '43_Linked_List_creation.py', '44_Double_Linked_list.py', '45_abc_classes.py', '46_abc_classes.py', 'python_classes_objects.pdf']\n",
      "['06_Execution_Time.py', '06_OOP.py', 'binarySearchTree.py', 'temperature.py', 'web_crawler_threading.py']\n",
      "['input.txt', 'input2.txt', 'word_count.py']\n",
      "['others.txt', 'test__puwinauto.py', 'test__puwinauto__calc.py']\n",
      "['a_example.py', 'b_example.py', 'c_example.py', 'd_example.py', 'explanation.txt', 'e_example.py', 'f_example.py', 'g_example.py', 'h_type_aliases.py', 'i_new_types.py']\n",
      "['a_example.py', 'b_example.py', 'c_example.py', 'd_example.py', 'example.txt', 'explanation.txt', 'e_example.py']\n",
      "['explanation.txt']\n",
      "['a_example.py', 'b_example.py', 'c_example.py', 'd_example.py']\n",
      "['a_example.py', 'b_example.py', 'c_example.py', 'd_example.py', 'e_example.py', 'f_test_setup.py', 'g_test_setup.py', 'h_test_classes.py', 'i_multiple_test_suites.py']\n",
      "['script.py', 'test_script.py']\n",
      "['script.cpython-38.pyc']\n",
      "['person.py', 'test_person.py']\n",
      "['person.cpython-38.pyc']\n",
      "['explanation.txt', 'mymod.py', 'test_mymod.py', 'test_mymod2.py']\n",
      "['mymod.cpython-38.pyc', 'test_mymod.cpython-38.pyc', 'test_mymod2.cpython-38.pyc']\n",
      "['calculator.py']\n",
      "['test_addition.py', 'test_division.py', 'test_multiplication.py', 'test_subtraction.py']\n",
      "['calculator.cpython-38.pyc']\n",
      "['calculate.py', 'test_calculate.py']\n",
      "['calculate.cpython-38.pyc']\n",
      "['online_shopping.py', 'test_online_shopping.py']\n",
      "['mymath.py', 'test_mymath.py']\n",
      "['README.md']\n",
      "['test_sample.py']\n",
      "['.gitignore', 'CACHEDIR.TAG', 'README.md']\n",
      "['lastfailed', 'nodeids', 'stepwise']\n",
      "['test_sample.cpython-38-pytest-5.4.2.pyc']\n",
      "['example_2.py', 'example_3.py', 'README.md']\n",
      "['exampleA.py', 'exampleB.py', 'exampleC.py', 'exampleD_patching.py', 'exampleE.py']\n",
      "['main.py', 'test_main.py']\n",
      "['main.cpython-38.pyc', 'test_main.cpython-38.pyc']\n",
      "['main.py', 'test_calculator.py', 'test_mocking.py', 'test_mock_sideeffect.py']\n",
      "['main.cpython-38.pyc', 'test_calculator.cpython-38.pyc', 'test_mocking.cpython-38.pyc', 'test_mock_sideeffect.cpython-38.pyc']\n",
      "['main.py', 'test_main.py', 'test_main_mock.py']\n",
      "['main.cpython-38.pyc', 'test_main.cpython-38.pyc', 'test_main_mock.cpython-38.pyc']\n",
      "['main.py', 'test_main.py', 'test_main2.py']\n",
      "['main.cpython-38.pyc', 'test_main.cpython-38.pyc', 'test_main2.cpython-38.pyc']\n",
      "['mymodule.py', 'test_mymodule.py', 'test_mymodule2.py']\n",
      "['fs.py', 'test_fs.py']\n",
      "['0_patching_styles.txt', '1_magic_mock.py', '2_spec_importance.py', '3_autospec.py', '4_autospec_limitation.py', '5_specset.py', '6_newCallable.py', '7_new.py', '8_create.py', '9_kwargs.py']\n",
      "['facebookLogin.py', 'OU_results.py', 'ou_results1.py', 'quoraBot.py']\n",
      "['new.py', 'new2.py', 'screenshot.png']\n",
      "['ip_addresses_info.txt', 'Python+-+Advanced+-+Regular+Expressions.pdf', 'reg todo.txt', 'regex_online_resoures.txt', 'reg_ex_1.py', 'reg_ex_10.py', 'reg_ex_11.py', 'reg_ex_12.py', 'reg_ex_13.py', 'reg_ex_14.py', 'reg_ex_15.py', 'reg_ex_16.py', 'reg_ex_17.py', 'reg_ex_18.py', 'reg_ex_19.py', 'reg_ex_2.py', 'reg_ex_20.py', 'reg_ex_21.py', 'reg_ex_22.py', 'reg_ex_23.py', 'reg_ex_24.py', 'reg_ex_25.py', 'reg_ex_26.py', 'reg_ex_27.py', 'reg_ex_28.py', 'reg_ex_29.py', 'reg_ex_3.py', 'reg_ex_4.py', 'reg_ex_5.py', 'reg_ex_6.py', 'reg_ex_7.py', 'reg_ex_8.py', 'reg_ex_9.py', 'summary.txt']\n",
      "['02_find_all_links.py', '03_example.py', 'basic_email_web_crawler.py', 'books.xml', 'f1.py', 'parsing_xml.py', 're.txt', 're05.py', 'search_occurrences.py', 'second.py', 'string_validation.py', 'Untitled-2.txt']\n",
      "['a_requests.py', 'b_streaming_request.py', 'explanation.txt']\n",
      "['a1_get_hrefs_in_webpage.py', 'a_get_webpage.py', 'google.html', 'rediff.html', 'rediff_hrefs.txt', 'webpage.html']\n",
      "['0_urllib_module.py', 'a_get_my_public_ip.py']\n",
      "['a_get_my_ip_details.py', 'b_get_my_ip_details.py', 'c_get_my_ip_details.py', 'd_get_specific_ip_details.py']\n",
      "['a_iss_now.py', 'b_astros_on_ISS_now.py', 'c_iss_passage_info.py']\n",
      "['a_get_ip.py', 'b_get_user_agent.py', 'c_changed_user_agent.py']\n",
      "['a_cats.py', 'b_dogs.py']\n",
      "['a_example.py', 'b_json_test_api.py']\n",
      "['web_page_creation.py']\n",
      "['01_example.py']\n",
      "['example.py', 'hello_1.py', 'hello_2.py']\n",
      "['feed_parsing_ex.py', 'parse_RSS_feed.py', 'reddit_api_usage.py', 'result.json', 'soap_ex.py', 'TODO', 'twiiter_scrapping.py', 'twitter_scrapping.py', 'weather_info.py']\n",
      "['0_parse_url.py', 'a_parse_url.py', 'b_robot_parser.py', 'get_python_peps.py', 'urllib_request_module.ipynb', 'weather.ini', 'weather.json', 'weather.py', 'workingWithJson_geocoding.py']\n",
      "['urllib_request_module-checkpoint.ipynb']\n",
      "['01weatherWithOutAuthentication.py', 'currency_ex.py', 'downloadWebPage.py', 'duckduckgo_ex.py', 'duckduckgo_ex2.py', 'example.py', 'example2.py', 'example_1.py', 'financial_status.py', 'flight_schedules.py', 'google_search.py', 'income_tax_calculator.py', 'ip2geolocation.py', 'new.py', 'openstreetmap.py', 'openstreetmap2.py', 'twitter_bot.py', 'twython_ex.py', 'world_bank.py', 'xml-vs-json-api.png', 'z_bitcoin_status.py']\n",
      "['as11-40-5874', 'as11-40-5874~orig.jpg', 'nasa_client.py', 'nasa_search_response.json']\n",
      "['crawling_all_emails_from_a_website.py', 'find_emails_on_a_web_page.py', 'geoipy.py', 'get_top10_google_searches.py', 'introduction.txt', 'Learning Scrapy.pdf', 'linkedin_scraper.py', 'one_million_websites.py', 'stackoverflow_tags.py', 'stock_scraper.py', 'stock_scraper1.py', 'TODO', 'tweets_scrapper.py', 'Untitled.ipynb', 'webScraping.py', 'webScraping1.py', 'webScraping2.py', 'webScraping3.py', 'webScraping4.py', 'webScraping5.py']\n",
      "['example.txt', 'ftplib_module.ipynb', 'README.nluug', 'WhereToFindWhat.txt']\n",
      "['ftplib_module-checkpoint.ipynb']\n",
      "['scraper_tripadvisor.py', 'temp.py']\n",
      "['Applied_text_mining.ipynb', 'covid_1.jpg', 'covid_2.jpg', 'project_1.txt', 'python_data_science_cheat_sheet.pdf', 'sklearn_algorithms.png', 'twitter_analyses.ipynb']\n",
      "['00_statistics-checkpoint.ipynb']\n",
      "['00_statistics.ipynb']\n",
      "['00_statistics-checkpoint.ipynb']\n",
      "['numpydemo.py', 'numpy_examples.py', 'numpy_module.ipynb', 'scipywords.py']\n",
      "['numpy_module-checkpoint.ipynb']\n",
      "['01_Loading_data_from_different_data_sources.ipynb', '02_Overview_of_data.ipynb', '03_Selecting_in_data.ipynb', '04_Sorting_data.ipynb', '05_Filtering_data.ipynb', '06_Aggregation_Of_Data.ipynb', '07_Groupby.ipynb', '08_Apply.ipynb', '09_Merge_dataframes.ipynb', '10_Visualization_Of_Data.ipynb', '11_Saving_data.ipynb', '12_Cleanup_Data.ipynb', '13. Time series solution.ipynb', 'additional_references.txt', 'IMDB_Movie_3columns.html', 'IMDB_Movie_3columns.json', 'IMDB_Movie_3columns.xls', 'IMDB_Movie_3columns_without_index.csv', 'IMDB_Movie_3columns_with_index.csv', 'Pandas DataFrame Notes.pdf', 'PandasPythonForDataScience.pdf', 'Pandas_Cheat_Sheet.pdf', 'pandas_csv (2).py', 'pandas_csv.py', 'pandas_dataframe.ipynb', 'pandas_ex1.py', 'pandas_ex2.py', 'pandas_material.ipynb', 'persons.json', 'Project 1 - google apps store.ipynb', 'Project 2 - ted talk dataset.ipynb', 'Project 3 - fifa19.ipynb', 'Python_Pandas_Cheat_Sheet_2.pdf', 'Scikit_Learn_Cheat_Sheet_Python.pdf', 'Ted talk dataset.ipynb', 'TODO']\n",
      "['01_Loading_data_from_different_data_sources-checkpoint.ipynb', '02_Overview_of_data-checkpoint.ipynb', '03_Selecting_in_data-checkpoint.ipynb', '04_Sorting_data-checkpoint.ipynb', '05_Filtering_data-checkpoint.ipynb', '06_Aggregation_Of_Data-checkpoint.ipynb', '07_Groupby-checkpoint.ipynb', '08_Apply-checkpoint.ipynb', '09_Merge_dataframes-checkpoint.ipynb', '10_Visualization_Of_Data-checkpoint.ipynb', '11_Saving_data-checkpoint.ipynb', '12_Cleanup_Data-checkpoint.ipynb', 'pandas_material-checkpoint.ipynb']\n",
      "['.DS_Store', '00.The big picture.ipynb', '01. Loading data excercise.ipynb', '016 Clean up 3  handle missing data.mp4', '017 Clean up 4  handle duplicate data.mp4', '018 Clean up 5  modify column data.mp4', '019 Time series 1  convert column to date time type.mp4', '02. Overview data excercise.ipynb', '020 Time series 2  selection in time series.mp4', '021 Time series 3  resampling.mp4', '022 Hand on 1  google apps data set.mp4', '03. Selecting excercise.ipynb', '04. Sorting excercise.ipynb', '05. Filtering excercise.ipynb', '06. Aggregation excercise.ipynb', '07. Groupby excercise.ipynb', '08. Apply excercise.ipynb', '09. Merge excercise.ipynb', '12. Cleanup excercise.ipynb', 'projects.txt']\n",
      "['00.The big picture-checkpoint.ipynb', '01. Loading data excercise-checkpoint.ipynb', '01. Loading data solution-checkpoint.ipynb', '02. Overview data excercise-checkpoint.ipynb', '02. Overview data solution-checkpoint.ipynb', '03. Selecting solution-checkpoint.ipynb', '04. Sorting excercise-checkpoint.ipynb', '04. Sorting solution-checkpoint.ipynb', '05. Filtering excercise-checkpoint.ipynb', '05. Filtering solution-checkpoint.ipynb', '06. Aggregation excercise-checkpoint.ipynb', '06. Aggregation solution-checkpoint.ipynb', '07. Groupby excercise-checkpoint.ipynb', '07. Groupby solution-checkpoint.ipynb', '08. Apply excercise-checkpoint.ipynb', '08. Apply solution-checkpoint.ipynb', '09. Merge excercise-checkpoint.ipynb', '09. Merge solution-checkpoint.ipynb', '10. Visualization solution-checkpoint.ipynb', '11. Saving data solution-checkpoint.ipynb', '12. Cleanup excercise-checkpoint.ipynb', '13. Time series solution-checkpoint.ipynb', 'Project 1 - google apps store-checkpoint.ipynb', 'Project 3 - fifa19-checkpoint.ipynb', 'Project google app-checkpoint.ipynb']\n",
      "['Basic_Plots.ipynb', 'fractals.py', 'matplotdemo.py', 'Matplotlib - for Data Visualization.ipynb', 'matplotlib-talk.pdf', 'matplotlib_ex1.py', 'matplotlib_ex2.py', 'matplotlib_ex3.py', 'matplotlib_ex4.py', 'matplotlib_histograms.py']\n",
      "['Basic_Plots-checkpoint.ipynb', 'Matplotlib - for Data Visualization-checkpoint.ipynb']\n",
      "['NLTK_examples.ipynb', 'textblob_module.py']\n",
      "['anti_pattern1.ipynb']\n",
      "['.DS_Store', '107983_aariclist_25k.csv', 'crime.h5', 'customer.csv', 'customers.csv', 'example.csv', 'fifa19.csv', 'fifa19.zip', 'file_example_CSV_5000.csv', 'Fremont_Bridge_Hourly_Bicycle_Counts_by_Month_October_2012_to_present.csv', 'IFSC.csv', 'IMDB_Movie.csv', 'IMDB_Movie.html', 'IMDB_Movie.json', 'IMDB_Movie.xlsx', 'IMDB_Movie_2columns.csv', 'IMDB_Movie_3columns.csv', 'IMDB_Movie_3columns.html', 'IMDB_Movie_3columns.json', 'IMDB_Movie_3columns.xls', 'IMDB_Movie_3columns_without_index.csv', 'IMDB_Movie_3columns_with_index.csv', 'IMDB_Movie_Apply.csv', 'imdb_movie_cleanup.csv', 'IMDB_Movie_Facebook_Like.csv', 'IMDB_Movie_Filter.csv', 'IMDB_Movie_Overview.csv', 'IMDB_Movie_Sorting.csv', 'international-airline-passengers.csv', 'Land Usage Report.csv', 'Live_Street_Address_Management_SAM_Addresses.csv', 'lynda.com Courses.csv', 'MplsStops.csv', 'multiTimeline.csv', 'opsd_germany_daily.csv', 'orders.csv', 'output-1.csv', 'pandas_created_file.csv', 'pivot-tables.xlsx', 'PJME_hourly.csv', 'Sales_Data.json', 'Sales_Data.xlsx', 'ted_main.csv', 'Titanic_Desaster.csv', 'Weather_2012.csv', 'weight-height.zip', 'world-happiness-report-2019.csv']\n",
      "['customer-checkpoint.csv', 'fifa19-checkpoint.csv', 'IMDB_Movie-checkpoint.csv', 'IMDB_Movie-checkpoint.html', 'IMDB_Movie-checkpoint.json', 'IMDB_Movie_2columns-checkpoint.csv', 'IMDB_Movie_3columns-checkpoint.csv', 'orders-checkpoint.csv']\n",
      "['circuits.csv', 'constructorResults.csv', 'constructors.csv', 'constructorStandings.csv', 'drivers.csv', 'driverStandings.csv', 'lapTimes.csv', 'pitStops.csv', 'qualifying.csv', 'races.csv', 'results.csv', 'seasons.csv', 'status.csv']\n",
      "['googleplaystore.csv', 'googleplaystore_user_reviews.csv', 'license.txt']\n",
      "['a_simple.py', 'b_example.py', 'c_jinja_object.py', 'd_jinja_dictionaries.py', 'e_jinja_rawdata.py', 'f_escape_data.py', 'g_expresssion_from_template.py', 'h_sum_filter.py', 'i_template_inheritance.py', 'j_jinja_flask.py', 'README.md']\n",
      "['about.html', 'base.html', 'index.html', 'showpersons.txt', 'sumprices.txt']\n",
      "['Final Assessment Test -1.ipynb', 'Final Assessment Test -1.pdf', 'Final Assessment Test -2.ipynb', 'Final Assessment Test -2.pdf', 'Interview Question paper Set-1.ipynb', 'Interview Question paper Set-1.pdf', 'Interview Question paper Set-2.ipynb', 'Interview Question paper Set-2.pdf', 'Interview Question paper Set-3.ipynb', 'Interview Question paper Set-3.pdf', 'Interview Question paper Set-4.ipynb', 'Interview Question paper Set-4.pdf', 'Post-Assessment Answers.ipynb', 'Post-Assessment Answers.pdf', 'Post-Assessment.ipynb', 'Post-Assessment.pdf', 'Pre-Assessment Test Answers.ipynb', 'Pre-Assessment Test Answers.pdf', 'Pre-Assessment Test.ipynb', 'Pre-Assessment Test.pdf']\n"
     ]
    }
   ],
   "source": [
    "for each_dir, dirs, files in os.walk(\".\"):\n",
    "    if files:\n",
    "        # If that directory has files\n",
    "        print(files)"
   ]
  },
  {
   "cell_type": "code",
   "execution_count": 125,
   "metadata": {},
   "outputs": [
    {
     "name": "stdout",
     "output_type": "stream",
     "text": [
      "In this course, there are 847 python files & 127 jupyter notebook files\n"
     ]
    }
   ],
   "source": [
    "py_files = []\n",
    "juypter_notebook_files = []\n",
    "for each_dir, dirs, files in os.walk(\".\"):\n",
    "    for each_file in files:\n",
    "        file_name, file_extn = os.path.splitext(each_file)\n",
    "        if file_extn == \".py\":\n",
    "            py_files.append(each_file)\n",
    "        elif file_extn == \".ipynb\":\n",
    "            juypter_notebook_files.append(each_file)\n",
    "\n",
    "print(\n",
    "    f\"In this course, there are {len(py_files)} python files & {len(juypter_notebook_files)} jupyter notebook files\"\n",
    ")"
   ]
  },
  {
   "cell_type": "markdown",
   "metadata": {},
   "source": [
    "### Working with paths"
   ]
  },
  {
   "cell_type": "code",
   "execution_count": 126,
   "metadata": {},
   "outputs": [
    {
     "data": {
      "text/plain": [
       "'temp.txt'"
      ]
     },
     "execution_count": 126,
     "metadata": {},
     "output_type": "execute_result"
    }
   ],
   "source": [
    "os.path.basename(\"/home/user/temp.txt\")  # doesnt check for presence of file"
   ]
  },
  {
   "cell_type": "code",
   "execution_count": 127,
   "metadata": {},
   "outputs": [
    {
     "data": {
      "text/plain": [
       "'/home/user'"
      ]
     },
     "execution_count": 127,
     "metadata": {},
     "output_type": "execute_result"
    }
   ],
   "source": [
    "os.path.dirname(\"/home/user/temp.txt\")"
   ]
  },
  {
   "cell_type": "code",
   "execution_count": 128,
   "metadata": {},
   "outputs": [
    {
     "data": {
      "text/plain": [
       "'D:\\\\MEGAsync\\\\Python-related\\\\PythonMaterial\\\\python3\\\\temp.txt'"
      ]
     },
     "execution_count": 128,
     "metadata": {},
     "output_type": "execute_result"
    }
   ],
   "source": [
    "os.path.abspath(\"temp.txt\")"
   ]
  },
  {
   "cell_type": "code",
   "execution_count": 129,
   "metadata": {},
   "outputs": [
    {
     "data": {
      "text/plain": [
       "'D:\\\\MEGAsync\\\\Python-related\\\\PythonMaterial\\\\python3\\\\temp.txt'"
      ]
     },
     "execution_count": 129,
     "metadata": {},
     "output_type": "execute_result"
    }
   ],
   "source": [
    "assert os.path.abspath(\"temp.txt\") == os.getcwd() + os.sep + \"temp.txt\"\n",
    "\n",
    "os.getcwd() + os.sep + \"temp.txt\""
   ]
  },
  {
   "cell_type": "code",
   "execution_count": 130,
   "metadata": {},
   "outputs": [
    {
     "data": {
      "text/plain": [
       "'D:\\\\home\\\\user\\\\temp.txt'"
      ]
     },
     "execution_count": 130,
     "metadata": {},
     "output_type": "execute_result"
    }
   ],
   "source": [
    "os.path.realpath(\"/home/user/temp.txt\")  # no validation for presence of file"
   ]
  },
  {
   "cell_type": "code",
   "execution_count": 131,
   "metadata": {},
   "outputs": [
    {
     "data": {
      "text/plain": [
       "('/home/user/temp', '.log')"
      ]
     },
     "execution_count": 131,
     "metadata": {},
     "output_type": "execute_result"
    }
   ],
   "source": [
    "os.path.splitext(\"/home/user/temp.log\")"
   ]
  },
  {
   "cell_type": "code",
   "execution_count": 132,
   "metadata": {},
   "outputs": [
    {
     "data": {
      "text/plain": [
       "('temp', '.log')"
      ]
     },
     "execution_count": 132,
     "metadata": {},
     "output_type": "execute_result"
    }
   ],
   "source": [
    "os.path.splitext(\"temp.log\")"
   ]
  },
  {
   "cell_type": "code",
   "execution_count": 133,
   "metadata": {},
   "outputs": [
    {
     "data": {
      "text/plain": [
       "('', '/home/user/temp.txt')"
      ]
     },
     "execution_count": 133,
     "metadata": {},
     "output_type": "execute_result"
    }
   ],
   "source": [
    "os.path.splitdrive(\"/home/user/temp.txt\")"
   ]
  },
  {
   "cell_type": "code",
   "execution_count": 134,
   "metadata": {},
   "outputs": [
    {
     "data": {
      "text/plain": [
       "('c:', '/home/user/temp.txt')"
      ]
     },
     "execution_count": 134,
     "metadata": {},
     "output_type": "execute_result"
    }
   ],
   "source": [
    "os.path.splitdrive(\"c:/home/user/temp.txt\")"
   ]
  },
  {
   "cell_type": "code",
   "execution_count": 135,
   "metadata": {},
   "outputs": [
    {
     "data": {
      "text/plain": [
       "'.'"
      ]
     },
     "execution_count": 135,
     "metadata": {},
     "output_type": "execute_result"
    }
   ],
   "source": [
    "os.path.extsep"
   ]
  },
  {
   "cell_type": "code",
   "execution_count": 137,
   "metadata": {},
   "outputs": [
    {
     "name": "stdout",
     "output_type": "stream",
     "text": [
      "\\ \\\n"
     ]
    }
   ],
   "source": [
    "import sys\n",
    "\n",
    "if sys.platform == \"win32\":\n",
    "    path_joiner = \"\\\\\"\n",
    "else:\n",
    "    path_joiner = \"/\"\n",
    "\n",
    "print(path_joiner, os.sep)"
   ]
  },
  {
   "cell_type": "code",
   "execution_count": 138,
   "metadata": {},
   "outputs": [],
   "source": [
    "assert path_joiner == os.sep"
   ]
  },
  {
   "cell_type": "code",
   "execution_count": 94,
   "metadata": {},
   "outputs": [
    {
     "data": {
      "text/plain": [
       "'css\\\\america'"
      ]
     },
     "execution_count": 94,
     "metadata": {},
     "output_type": "execute_result"
    }
   ],
   "source": [
    "os.path.join(\"css\", \"america\")"
   ]
  },
  {
   "cell_type": "code",
   "execution_count": 95,
   "metadata": {},
   "outputs": [
    {
     "data": {
      "text/plain": [
       "'css\\\\america\\\\asdas\\\\sad\\\\dfgd'"
      ]
     },
     "execution_count": 95,
     "metadata": {},
     "output_type": "execute_result"
    }
   ],
   "source": [
    "os.path.join(\"css\", \"america\", \"asdas\", \"sad\", \"dfgd\")"
   ]
  },
  {
   "cell_type": "code",
   "execution_count": 96,
   "metadata": {},
   "outputs": [
    {
     "data": {
      "text/plain": [
       "'css\\\\america\\\\asdas\\\\sad\\\\dfgd'"
      ]
     },
     "execution_count": 96,
     "metadata": {},
     "output_type": "execute_result"
    }
   ],
   "source": [
    "\"\\\\\".join((\"css\", \"america\", \"asdas\", \"sad\", \"dfgd\"))"
   ]
  },
  {
   "cell_type": "code",
   "execution_count": 97,
   "metadata": {},
   "outputs": [
    {
     "data": {
      "text/plain": [
       "'css\\\\america\\\\asdas\\\\sad\\\\dfgd'"
      ]
     },
     "execution_count": 97,
     "metadata": {},
     "output_type": "execute_result"
    }
   ],
   "source": [
    "(os.sep).join((\"css\", \"america\", \"asdas\", \"sad\", \"dfgd\"))"
   ]
  },
  {
   "cell_type": "code",
   "execution_count": 98,
   "metadata": {},
   "outputs": [],
   "source": [
    "assert os.path.join(\"css\", \"america\", \"asdas\", \"sad\", \"dfgd\") == (os.sep).join(\n",
    "    (\"css\", \"america\", \"asdas\", \"sad\", \"dfgd\")\n",
    ")"
   ]
  },
  {
   "cell_type": "code",
   "execution_count": 99,
   "metadata": {},
   "outputs": [
    {
     "data": {
      "text/plain": [
       "'css\\\\america\\\\asdas\\\\sad\\\\dfgd'"
      ]
     },
     "execution_count": 99,
     "metadata": {},
     "output_type": "execute_result"
    }
   ],
   "source": [
    "new_path = os.path.join(\"css\", \"america\", \"asdas\", \"sad\", \"dfgd\")\n",
    "new_path"
   ]
  },
  {
   "cell_type": "code",
   "execution_count": 100,
   "metadata": {},
   "outputs": [
    {
     "data": {
      "text/plain": [
       "False"
      ]
     },
     "execution_count": 100,
     "metadata": {},
     "output_type": "execute_result"
    }
   ],
   "source": [
    "os.path.exists(new_path)"
   ]
  },
  {
   "cell_type": "code",
   "execution_count": 101,
   "metadata": {},
   "outputs": [
    {
     "data": {
      "text/plain": [
       "['00_Demo',\n",
       " '01_Introduction',\n",
       " '02_Basics',\n",
       " '03_Language_Components',\n",
       " '04_Exceptions',\n",
       " '05_Debugging',\n",
       " '06_Collections',\n",
       " '07_Functions',\n",
       " '08_Decorators',\n",
       " '09_Iterators_generators_coroutines',\n",
       " '10_Modules',\n",
       " '11_File_Operations',\n",
       " '12_Logging',\n",
       " '13_OOP',\n",
       " '14_Code_Quality',\n",
       " '15_Regular_Expressions',\n",
       " '16_Web_Services',\n",
       " '17_Data_science_modules',\n",
       " 'Anti_patterns',\n",
       " 'Arc_Listener.py',\n",
       " 'asd.py',\n",
       " 'datasets',\n",
       " 'git cheat sheet.jpeg',\n",
       " 'git___commit_vs_merge_vs_Rebase.png',\n",
       " 'gotchas_n_hiddenFeatures.txt',\n",
       " 'hangman.py',\n",
       " 'IMG_20190213_223837.jpg',\n",
       " 'jinja_templating',\n",
       " 'one_liners.py',\n",
       " 'Python Assessment Tests',\n",
       " 'python_2to3_ex.py',\n",
       " 'python_email_sending_script_using_ssl.py',\n",
       " 'Python_Recommended_Material.txt',\n",
       " 'TODO.py',\n",
       " 'TODO.txt',\n",
       " 'youtubeSentiment.py',\n",
       " 'youtubeVideosDownloading.py',\n",
       " 'youtubeVideosDownloading2.py']"
      ]
     },
     "execution_count": 101,
     "metadata": {},
     "output_type": "execute_result"
    }
   ],
   "source": [
    "os.listdir(\".\")"
   ]
  },
  {
   "cell_type": "code",
   "execution_count": 139,
   "metadata": {},
   "outputs": [],
   "source": [
    "if not os.path.exists(new_path):\n",
    "    os.makedirs(new_path)"
   ]
  },
  {
   "cell_type": "code",
   "execution_count": 140,
   "metadata": {},
   "outputs": [
    {
     "data": {
      "text/plain": [
       "['00_Demo',\n",
       " '01_Introduction',\n",
       " '02_Basics',\n",
       " '03_Language_Components',\n",
       " '04_Exceptions',\n",
       " '05_Debugging',\n",
       " '06_Collections',\n",
       " '07_Functions',\n",
       " '08_Decorators',\n",
       " '09_Iterators_generators_coroutines',\n",
       " '10_Modules',\n",
       " '11_File_Operations',\n",
       " '12_Logging',\n",
       " '13_OOP',\n",
       " '14_Code_Quality',\n",
       " '15_Regular_Expressions',\n",
       " '16_Web_Services',\n",
       " '17_Data_science_modules',\n",
       " 'Anti_patterns',\n",
       " 'Arc_Listener.py',\n",
       " 'asd.py',\n",
       " 'css',\n",
       " 'datasets',\n",
       " 'git cheat sheet.jpeg',\n",
       " 'git___commit_vs_merge_vs_Rebase.png',\n",
       " 'gotchas_n_hiddenFeatures.txt',\n",
       " 'hangman.py',\n",
       " 'IMG_20190213_223837.jpg',\n",
       " 'jinja_templating',\n",
       " 'one_liners.py',\n",
       " 'Python Assessment Tests',\n",
       " 'python_2to3_ex.py',\n",
       " 'python_email_sending_script_using_ssl.py',\n",
       " 'Python_Recommended_Material.txt',\n",
       " 'TODO.py',\n",
       " 'TODO.txt',\n",
       " 'youtubeSentiment.py',\n",
       " 'youtubeVideosDownloading.py',\n",
       " 'youtubeVideosDownloading2.py']"
      ]
     },
     "execution_count": 140,
     "metadata": {},
     "output_type": "execute_result"
    }
   ],
   "source": [
    "os.listdir()"
   ]
  },
  {
   "cell_type": "code",
   "execution_count": 141,
   "metadata": {},
   "outputs": [
    {
     "data": {
      "text/plain": [
       "80137"
      ]
     },
     "execution_count": 141,
     "metadata": {},
     "output_type": "execute_result"
    }
   ],
   "source": [
    "os.path.getsize(\"git cheat sheet.jpeg\")"
   ]
  },
  {
   "cell_type": "code",
   "execution_count": 142,
   "metadata": {},
   "outputs": [
    {
     "data": {
      "text/plain": [
       "os.stat_result(st_mode=33206, st_ino=844424930139071, st_dev=2631168316, st_nlink=1, st_uid=0, st_gid=0, st_size=80137, st_atime=1586399448, st_mtime=1579735353, st_ctime=1586399448)"
      ]
     },
     "execution_count": 142,
     "metadata": {},
     "output_type": "execute_result"
    }
   ],
   "source": [
    "os.stat(\"git cheat sheet.jpeg\")"
   ]
  },
  {
   "cell_type": "code",
   "execution_count": 143,
   "metadata": {},
   "outputs": [
    {
     "data": {
      "text/plain": [
       "1579735353.4443793"
      ]
     },
     "execution_count": 143,
     "metadata": {},
     "output_type": "execute_result"
    }
   ],
   "source": [
    "os.stat(\"git cheat sheet.jpeg\").st_mtime"
   ]
  },
  {
   "cell_type": "code",
   "execution_count": 105,
   "metadata": {},
   "outputs": [
    {
     "data": {
      "text/plain": [
       "<nt.ScandirIterator at 0x274b95972c0>"
      ]
     },
     "execution_count": 105,
     "metadata": {},
     "output_type": "execute_result"
    }
   ],
   "source": [
    "os.scandir()  # Using scandir() instead of listdir() can significantly increase the performance of code"
   ]
  },
  {
   "cell_type": "code",
   "execution_count": 106,
   "metadata": {},
   "outputs": [
    {
     "data": {
      "text/plain": [
       "[<DirEntry '00_Demo'>,\n",
       " <DirEntry '01_Introduction'>,\n",
       " <DirEntry '02_Basics'>,\n",
       " <DirEntry '03_Language_Components'>,\n",
       " <DirEntry '04_Exceptions'>,\n",
       " <DirEntry '05_Debugging'>,\n",
       " <DirEntry '06_Collections'>,\n",
       " <DirEntry '07_Functions'>,\n",
       " <DirEntry '08_Decorators'>,\n",
       " <DirEntry '09_Iterators_generators_coroutines'>,\n",
       " <DirEntry '10_Modules'>,\n",
       " <DirEntry '11_File_Operations'>,\n",
       " <DirEntry '12_Logging'>,\n",
       " <DirEntry '13_OOP'>,\n",
       " <DirEntry '14_Code_Quality'>,\n",
       " <DirEntry '15_Regular_Expressions'>,\n",
       " <DirEntry '16_Web_Services'>,\n",
       " <DirEntry '17_Data_science_modules'>,\n",
       " <DirEntry 'Anti_patterns'>,\n",
       " <DirEntry 'Arc_Listener.py'>,\n",
       " <DirEntry 'asd.py'>,\n",
       " <DirEntry 'datasets'>,\n",
       " <DirEntry 'git cheat sheet.jpeg'>,\n",
       " <DirEntry 'git___commit_vs_merge_vs_Rebase.png'>,\n",
       " <DirEntry 'gotchas_n_hiddenFeatures.txt'>,\n",
       " <DirEntry 'hangman.py'>,\n",
       " <DirEntry 'IMG_20190213_223837.jpg'>,\n",
       " <DirEntry 'jinja_templating'>,\n",
       " <DirEntry 'one_liners.py'>,\n",
       " <DirEntry 'Python Assessment Tests'>,\n",
       " <DirEntry 'python_2to3_ex.py'>,\n",
       " <DirEntry 'python_email_sending_script_using_ssl.py'>,\n",
       " <DirEntry 'Python_Recommended_Material.txt'>,\n",
       " <DirEntry 'TODO.py'>,\n",
       " <DirEntry 'TODO.txt'>,\n",
       " <DirEntry 'youtubeSentiment.py'>,\n",
       " <DirEntry 'youtubeVideosDownloading.py'>,\n",
       " <DirEntry 'youtubeVideosDownloading2.py'>]"
      ]
     },
     "execution_count": 106,
     "metadata": {},
     "output_type": "execute_result"
    }
   ],
   "source": [
    "list(os.scandir())"
   ]
  },
  {
   "cell_type": "code",
   "execution_count": 107,
   "metadata": {},
   "outputs": [
    {
     "data": {
      "text/plain": [
       "nt.DirEntry"
      ]
     },
     "execution_count": 107,
     "metadata": {},
     "output_type": "execute_result"
    }
   ],
   "source": [
    "os.DirEntry"
   ]
  },
  {
   "cell_type": "code",
   "execution_count": 108,
   "metadata": {},
   "outputs": [
    {
     "data": {
      "text/plain": [
       "<member 'name' of 'nt.DirEntry' objects>"
      ]
     },
     "execution_count": 108,
     "metadata": {},
     "output_type": "execute_result"
    }
   ],
   "source": [
    "os.DirEntry.name"
   ]
  }
 ],
 "metadata": {
  "kernelspec": {
   "display_name": "Python 3",
   "language": "python",
   "name": "python3"
  },
  "language_info": {
   "codemirror_mode": {
    "name": "ipython",
    "version": 3
   },
   "file_extension": ".py",
   "mimetype": "text/x-python",
   "name": "python",
   "nbconvert_exporter": "python",
   "pygments_lexer": "ipython3",
   "version": "3.8.3"
  }
 },
 "nbformat": 4,
 "nbformat_minor": 2
}
