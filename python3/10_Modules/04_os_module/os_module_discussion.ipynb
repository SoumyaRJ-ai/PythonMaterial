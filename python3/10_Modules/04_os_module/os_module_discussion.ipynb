{
 "cells": [
  {
   "cell_type": "code",
   "execution_count": 1,
   "metadata": {},
   "outputs": [],
   "source": [
    "import os"
   ]
  },
  {
   "cell_type": "code",
   "execution_count": 2,
   "metadata": {},
   "outputs": [
    {
     "name": "stdout",
     "output_type": "stream",
     "text": [
      "['DirEntry', 'F_OK', 'MutableMapping', 'O_APPEND', 'O_BINARY', 'O_CREAT', 'O_EXCL', 'O_NOINHERIT', 'O_RANDOM', 'O_RDONLY', 'O_RDWR', 'O_SEQUENTIAL', 'O_SHORT_LIVED', 'O_TEMPORARY', 'O_TEXT', 'O_TRUNC', 'O_WRONLY', 'P_DETACH', 'P_NOWAIT', 'P_NOWAITO', 'P_OVERLAY', 'P_WAIT', 'PathLike', 'R_OK', 'SEEK_CUR', 'SEEK_END', 'SEEK_SET', 'TMP_MAX', 'W_OK', 'X_OK', '_Environ', '__all__', '__builtins__', '__cached__', '__doc__', '__file__', '__loader__', '__name__', '__package__', '__spec__', '_execvpe', '_exists', '_exit', '_fspath', '_get_exports_list', '_putenv', '_unsetenv', '_wrap_close', 'abc', 'abort', 'access', 'altsep', 'chdir', 'chmod', 'close', 'closerange', 'cpu_count', 'curdir', 'defpath', 'device_encoding', 'devnull', 'dup', 'dup2', 'environ', 'error', 'execl', 'execle', 'execlp', 'execlpe', 'execv', 'execve', 'execvp', 'execvpe', 'extsep', 'fdopen', 'fsdecode', 'fsencode', 'fspath', 'fstat', 'fsync', 'ftruncate', 'get_exec_path', 'get_handle_inheritable', 'get_inheritable', 'get_terminal_size', 'getcwd', 'getcwdb', 'getenv', 'getlogin', 'getpid', 'getppid', 'isatty', 'kill', 'linesep', 'link', 'listdir', 'lseek', 'lstat', 'makedirs', 'mkdir', 'name', 'open', 'pardir', 'path', 'pathsep', 'pipe', 'popen', 'putenv', 'read', 'readlink', 'remove', 'removedirs', 'rename', 'renames', 'replace', 'rmdir', 'scandir', 'sep', 'set_handle_inheritable', 'set_inheritable', 'spawnl', 'spawnle', 'spawnv', 'spawnve', 'st', 'startfile', 'stat', 'stat_result', 'statvfs_result', 'strerror', 'supports_bytes_environ', 'supports_dir_fd', 'supports_effective_ids', 'supports_fd', 'supports_follow_symlinks', 'symlink', 'sys', 'system', 'terminal_size', 'times', 'times_result', 'truncate', 'umask', 'uname_result', 'unlink', 'urandom', 'utime', 'waitpid', 'walk', 'write']\n"
     ]
    }
   ],
   "source": [
    "print(dir(os))"
   ]
  },
  {
   "cell_type": "code",
   "execution_count": 3,
   "metadata": {},
   "outputs": [
    {
     "data": {
      "text/plain": [
       "'C:\\\\Users\\\\udhayPrakash\\\\Desktop\\\\PythonMaterial\\\\python3\\\\10_Modules\\\\04_os_module'"
      ]
     },
     "execution_count": 3,
     "metadata": {},
     "output_type": "execute_result"
    }
   ],
   "source": [
    "os.getcwd()"
   ]
  },
  {
   "cell_type": "code",
   "execution_count": 4,
   "metadata": {},
   "outputs": [
    {
     "name": "stdout",
     "output_type": "stream",
     "text": [
      "my\n",
      "ewfolder\n"
     ]
    }
   ],
   "source": [
    "print('my\\newfolder')"
   ]
  },
  {
   "cell_type": "code",
   "execution_count": 5,
   "metadata": {},
   "outputs": [
    {
     "name": "stdout",
     "output_type": "stream",
     "text": [
      "my\\newfolder\n"
     ]
    }
   ],
   "source": [
    "print('my\\\\newfolder')"
   ]
  },
  {
   "cell_type": "code",
   "execution_count": 6,
   "metadata": {},
   "outputs": [
    {
     "name": "stdout",
     "output_type": "stream",
     "text": [
      "my\\newfolde\\sdas\\asd\\asd\\asd\\asdasd\\asd\\asd\n"
     ]
    }
   ],
   "source": [
    "print(r'my\\newfolde\\sdas\\asd\\asd\\asd\\asdasd\\asd\\asd')"
   ]
  },
  {
   "cell_type": "code",
   "execution_count": 7,
   "metadata": {},
   "outputs": [
    {
     "name": "stdout",
     "output_type": "stream",
     "text": [
      "my/newfol/der\n"
     ]
    }
   ],
   "source": [
    "print('my/newfol/der')"
   ]
  },
  {
   "cell_type": "code",
   "execution_count": 8,
   "metadata": {},
   "outputs": [
    {
     "data": {
      "text/plain": [
       "['.idea',\n",
       " '.pytest_cache',\n",
       " '.vscode',\n",
       " '00_Demo',\n",
       " '01_Introduction',\n",
       " '02_Basics',\n",
       " '03_Language_Components',\n",
       " '04_Exceptions',\n",
       " '05_Debugging',\n",
       " '06_Collections',\n",
       " '07_Functions',\n",
       " '08_Decorators',\n",
       " '09_Iterators_generators_coroutines',\n",
       " '10_Modules',\n",
       " '11_File_Operations',\n",
       " '12_Logging',\n",
       " '13_OOP',\n",
       " '14_Code_Quality',\n",
       " '15_Regular_Expressions',\n",
       " '16_Web_Services',\n",
       " '17_Data_science_modules',\n",
       " 'Anti_patterns',\n",
       " 'git cheat sheet.jpeg',\n",
       " 'git___commit_vs_merge_vs_Rebase.png',\n",
       " 'gotchas_n_hiddenFeatures.txt',\n",
       " 'new.py',\n",
       " 'one_liners.py',\n",
       " 'Python Assessment Tests',\n",
       " 'python_2to3_ex.py',\n",
       " 'python_batch_planned_schedule.txt']"
      ]
     },
     "execution_count": 8,
     "metadata": {},
     "output_type": "execute_result"
    }
   ],
   "source": [
    "os.listdir('C:\\\\Users\\\\udhayPrakash\\\\Desktop\\\\PythonMaterial\\\\python3')"
   ]
  },
  {
   "cell_type": "code",
   "execution_count": 6,
   "metadata": {},
   "outputs": [
    {
     "name": "stdout",
     "output_type": "stream",
     "text": [
      "my\n",
      "ewfolder\n"
     ]
    }
   ],
   "source": [
    "print('my\\newfolder')"
   ]
  },
  {
   "cell_type": "code",
   "execution_count": 7,
   "metadata": {},
   "outputs": [
    {
     "name": "stdout",
     "output_type": "stream",
     "text": [
      "my\\newfolder\n"
     ]
    }
   ],
   "source": [
    "print('my\\\\newfolder')"
   ]
  },
  {
   "cell_type": "code",
   "execution_count": 8,
   "metadata": {},
   "outputs": [
    {
     "name": "stdout",
     "output_type": "stream",
     "text": [
      "my/newfolder\n"
     ]
    }
   ],
   "source": [
    "print('my/newfolder')"
   ]
  },
  {
   "cell_type": "code",
   "execution_count": 9,
   "metadata": {},
   "outputs": [
    {
     "name": "stdout",
     "output_type": "stream",
     "text": [
      "my\\newfolder\n"
     ]
    }
   ],
   "source": [
    "print(r'my\\newfolder')"
   ]
  },
  {
   "cell_type": "code",
   "execution_count": 9,
   "metadata": {},
   "outputs": [
    {
     "data": {
      "text/plain": [
       "['.ipynb_checkpoints',\n",
       " '01_os_module.py',\n",
       " '02_file_ops.py',\n",
       " '03_clear_screen.py',\n",
       " '03_StopAppsShutdown.py',\n",
       " '04_scan_files.py',\n",
       " '04_scan_python_files.py',\n",
       " '05_glob_MODULE.PNG',\n",
       " '06_text_size.py',\n",
       " 'delete_pyc_files.py',\n",
       " 'display_tree_of_dirs.py',\n",
       " 'os_module_discussion.ipynb',\n",
       " 'otherfile.tsf',\n",
       " 'scan_pdf.py',\n",
       " 'txtmd5.py',\n",
       " 'workingWithFilesAndFolders.py']"
      ]
     },
     "execution_count": 9,
     "metadata": {},
     "output_type": "execute_result"
    }
   ],
   "source": [
    "os.listdir(os.getcwd())"
   ]
  },
  {
   "cell_type": "code",
   "execution_count": 10,
   "metadata": {},
   "outputs": [
    {
     "data": {
      "text/plain": [
       "'.'"
      ]
     },
     "execution_count": 10,
     "metadata": {},
     "output_type": "execute_result"
    }
   ],
   "source": [
    "os.curdir"
   ]
  },
  {
   "cell_type": "code",
   "execution_count": 11,
   "metadata": {},
   "outputs": [
    {
     "data": {
      "text/plain": [
       "'..'"
      ]
     },
     "execution_count": 11,
     "metadata": {},
     "output_type": "execute_result"
    }
   ],
   "source": [
    "os.pardir"
   ]
  },
  {
   "cell_type": "code",
   "execution_count": 12,
   "metadata": {},
   "outputs": [
    {
     "data": {
      "text/plain": [
       "['.ipynb_checkpoints',\n",
       " '01_os_module.py',\n",
       " '02_file_ops.py',\n",
       " '03_clear_screen.py',\n",
       " '03_StopAppsShutdown.py',\n",
       " '04_scan_files.py',\n",
       " '04_scan_python_files.py',\n",
       " '05_glob_MODULE.PNG',\n",
       " '06_text_size.py',\n",
       " 'delete_pyc_files.py',\n",
       " 'display_tree_of_dirs.py',\n",
       " 'os_module_discussion.ipynb',\n",
       " 'otherfile.tsf',\n",
       " 'scan_pdf.py',\n",
       " 'txtmd5.py',\n",
       " 'workingWithFilesAndFolders.py']"
      ]
     },
     "execution_count": 12,
     "metadata": {},
     "output_type": "execute_result"
    }
   ],
   "source": [
    "os.listdir(os.curdir)"
   ]
  },
  {
   "cell_type": "code",
   "execution_count": 17,
   "metadata": {},
   "outputs": [
    {
     "data": {
      "text/plain": [
       "['01_sys',\n",
       " '02_os',\n",
       " '02_shutil',\n",
       " '03_random',\n",
       " '04_argparse',\n",
       " '05_time_related',\n",
       " '06_getpass',\n",
       " '07_subprocess',\n",
       " '08_coloroma',\n",
       " '09_math',\n",
       " '10_reportlab',\n",
       " '11_pyttsx3',\n",
       " '12_multiprocessing',\n",
       " '13_collections_module',\n",
       " '14_turtle_module',\n",
       " '15_Tkinter_examples',\n",
       " '16_custom_commandline',\n",
       " 'concurrent_ex.py',\n",
       " 'consoleDisplayBeautifier',\n",
       " 'div_test.py',\n",
       " 'explanation.txt',\n",
       " 'multiprocessing_ex2.py',\n",
       " 'multi_threading_download.py',\n",
       " 'multi_threading_ex1.py',\n",
       " 'myfile.pyw',\n",
       " 'Parallel_Processing',\n",
       " 'qrcode_generation.py',\n",
       " 'test__puwinauto.py',\n",
       " 'test__puwinauto__calc.py',\n",
       " 'turtleExample1.py',\n",
       " 'url.png',\n",
       " 'user_defined_modules']"
      ]
     },
     "execution_count": 17,
     "metadata": {},
     "output_type": "execute_result"
    }
   ],
   "source": [
    "os.listdir(os.pardir)"
   ]
  },
  {
   "cell_type": "code",
   "execution_count": 13,
   "metadata": {},
   "outputs": [
    {
     "data": {
      "text/plain": [
       "['.ipynb_checkpoints',\n",
       " '01_os_module.py',\n",
       " '02_file_ops.py',\n",
       " '03_clear_screen.py',\n",
       " '03_StopAppsShutdown.py',\n",
       " '04_scan_files.py',\n",
       " '04_scan_python_files.py',\n",
       " '05_glob_MODULE.PNG',\n",
       " '06_text_size.py',\n",
       " 'delete_pyc_files.py',\n",
       " 'display_tree_of_dirs.py',\n",
       " 'os_module_discussion.ipynb',\n",
       " 'otherfile.tsf',\n",
       " 'scan_pdf.py',\n",
       " 'txtmd5.py',\n",
       " 'workingWithFilesAndFolders.py']"
      ]
     },
     "execution_count": 13,
     "metadata": {},
     "output_type": "execute_result"
    }
   ],
   "source": [
    "os.listdir('.')"
   ]
  },
  {
   "cell_type": "code",
   "execution_count": 14,
   "metadata": {},
   "outputs": [
    {
     "data": {
      "text/plain": [
       "['01_math',\n",
       " '02_sys',\n",
       " '03_argparse',\n",
       " '04_os_module',\n",
       " '05_shutil',\n",
       " '06_subprocess',\n",
       " '07_getpass',\n",
       " '08_time_related',\n",
       " '09_random',\n",
       " '10_collections_module',\n",
       " '11_pyttsx3',\n",
       " '12_qr_code_generation',\n",
       " '13_console_coloring',\n",
       " '14_turtle_module',\n",
       " '15_reportlab',\n",
       " '16_multiprocessing',\n",
       " 'ast_module_ex.py',\n",
       " 'base64_ex.py',\n",
       " 'contextlib_ex.py',\n",
       " 'DisplayProgressBar.py',\n",
       " 'itertools_module',\n",
       " 'memcach_ex.py',\n",
       " 'nltk_module',\n",
       " 'Parallel_Processing',\n",
       " 'parse_ex.py',\n",
       " 'sched_basic.py',\n",
       " 'socket_programming',\n",
       " 'spacy_module',\n",
       " 'tqdm_ex.py',\n",
       " 'user_defined_modules']"
      ]
     },
     "execution_count": 14,
     "metadata": {},
     "output_type": "execute_result"
    }
   ],
   "source": [
    "os.listdir('..')"
   ]
  },
  {
   "cell_type": "code",
   "execution_count": 15,
   "metadata": {},
   "outputs": [
    {
     "data": {
      "text/plain": [
       "['.idea',\n",
       " '.pytest_cache',\n",
       " '.vscode',\n",
       " '00_Demo',\n",
       " '01_Introduction',\n",
       " '02_Basics',\n",
       " '03_Language_Components',\n",
       " '04_Exceptions',\n",
       " '05_Debugging',\n",
       " '06_Collections',\n",
       " '07_Functions',\n",
       " '08_Decorators',\n",
       " '09_Iterators_generators_coroutines',\n",
       " '10_Modules',\n",
       " '11_File_Operations',\n",
       " '12_Logging',\n",
       " '13_OOP',\n",
       " '14_Code_Quality',\n",
       " '15_Regular_Expressions',\n",
       " '16_Web_Services',\n",
       " '17_Data_science_modules',\n",
       " 'Anti_patterns',\n",
       " 'git cheat sheet.jpeg',\n",
       " 'git___commit_vs_merge_vs_Rebase.png',\n",
       " 'gotchas_n_hiddenFeatures.txt',\n",
       " 'new.py',\n",
       " 'one_liners.py',\n",
       " 'Python Assessment Tests',\n",
       " 'python_2to3_ex.py',\n",
       " 'python_batch_planned_schedule.txt']"
      ]
     },
     "execution_count": 15,
     "metadata": {},
     "output_type": "execute_result"
    }
   ],
   "source": [
    "os.listdir('../..')"
   ]
  },
  {
   "cell_type": "code",
   "execution_count": 16,
   "metadata": {},
   "outputs": [
    {
     "data": {
      "text/plain": [
       "'C:\\\\Users\\\\udhayPrakash\\\\Desktop\\\\PythonMaterial\\\\python3\\\\10_Modules\\\\04_os_module'"
      ]
     },
     "execution_count": 16,
     "metadata": {},
     "output_type": "execute_result"
    }
   ],
   "source": [
    "os.getcwd()"
   ]
  },
  {
   "cell_type": "code",
   "execution_count": 17,
   "metadata": {},
   "outputs": [],
   "source": [
    "os.chdir('.')"
   ]
  },
  {
   "cell_type": "code",
   "execution_count": 18,
   "metadata": {},
   "outputs": [
    {
     "data": {
      "text/plain": [
       "'C:\\\\Users\\\\udhayPrakash\\\\Desktop\\\\PythonMaterial\\\\python3\\\\10_Modules\\\\04_os_module'"
      ]
     },
     "execution_count": 18,
     "metadata": {},
     "output_type": "execute_result"
    }
   ],
   "source": [
    "os.getcwd()"
   ]
  },
  {
   "cell_type": "code",
   "execution_count": 19,
   "metadata": {},
   "outputs": [],
   "source": [
    "os.chdir('..')"
   ]
  },
  {
   "cell_type": "code",
   "execution_count": 20,
   "metadata": {},
   "outputs": [
    {
     "data": {
      "text/plain": [
       "'C:\\\\Users\\\\udhayPrakash\\\\Desktop\\\\PythonMaterial\\\\python3\\\\10_Modules'"
      ]
     },
     "execution_count": 20,
     "metadata": {},
     "output_type": "execute_result"
    }
   ],
   "source": [
    "os.getcwd()"
   ]
  },
  {
   "cell_type": "code",
   "execution_count": 25,
   "metadata": {},
   "outputs": [],
   "source": [
    "os.chdir('..\\..\\..')"
   ]
  },
  {
   "cell_type": "code",
   "execution_count": 26,
   "metadata": {},
   "outputs": [
    {
     "data": {
      "text/plain": [
       "'C:\\\\Users\\\\udhayPrakash\\\\Desktop'"
      ]
     },
     "execution_count": 26,
     "metadata": {},
     "output_type": "execute_result"
    }
   ],
   "source": [
    "os.getcwd()"
   ]
  },
  {
   "cell_type": "code",
   "execution_count": 27,
   "metadata": {},
   "outputs": [],
   "source": [
    "os.chdir(os.pardir)"
   ]
  },
  {
   "cell_type": "code",
   "execution_count": 28,
   "metadata": {},
   "outputs": [
    {
     "data": {
      "text/plain": [
       "'C:\\\\Users\\\\udhayPrakash'"
      ]
     },
     "execution_count": 28,
     "metadata": {},
     "output_type": "execute_result"
    }
   ],
   "source": [
    "os.getcwd()"
   ]
  },
  {
   "cell_type": "code",
   "execution_count": 29,
   "metadata": {},
   "outputs": [],
   "source": [
    "os.chdir('C:\\\\Users\\\\udhayPrakash\\\\Desktop\\\\PythonMaterial\\\\python3\\\\10_Modules\\\\02_os')"
   ]
  },
  {
   "cell_type": "code",
   "execution_count": 30,
   "metadata": {},
   "outputs": [
    {
     "data": {
      "text/plain": [
       "'C:\\\\Users\\\\udhayPrakash\\\\Desktop\\\\PythonMaterial\\\\python3\\\\10_Modules\\\\02_os'"
      ]
     },
     "execution_count": 30,
     "metadata": {},
     "output_type": "execute_result"
    }
   ],
   "source": [
    "os.getcwd()"
   ]
  },
  {
   "cell_type": "markdown",
   "metadata": {},
   "source": [
    "creating directories"
   ]
  },
  {
   "cell_type": "code",
   "execution_count": 31,
   "metadata": {},
   "outputs": [],
   "source": [
    "os.mkdir('myFolder')"
   ]
  },
  {
   "cell_type": "code",
   "execution_count": 32,
   "metadata": {},
   "outputs": [
    {
     "data": {
      "text/plain": [
       "['.ipynb_checkpoints',\n",
       " '01_os_module.py',\n",
       " '02_os_module.py',\n",
       " 'clear_screen.py',\n",
       " 'delete_pyc_files.py',\n",
       " 'myFolder',\n",
       " 'os_module_discussion.ipynb',\n",
       " 'scan_pdf.py',\n",
       " 'scan_python_files.py',\n",
       " 'smallDistrictsAnalysesProjectCreator.pyw',\n",
       " 'txtmd5.py',\n",
       " 'txtsize.py',\n",
       " '__pycache__']"
      ]
     },
     "execution_count": 32,
     "metadata": {},
     "output_type": "execute_result"
    }
   ],
   "source": [
    "os.listdir('.')"
   ]
  },
  {
   "cell_type": "code",
   "execution_count": 33,
   "metadata": {},
   "outputs": [
    {
     "ename": "FileNotFoundError",
     "evalue": "[WinError 3] The system cannot find the path specified: 'First/second'",
     "output_type": "error",
     "traceback": [
      "\u001b[1;31m---------------------------------------------------------------------------\u001b[0m",
      "\u001b[1;31mFileNotFoundError\u001b[0m                         Traceback (most recent call last)",
      "\u001b[1;32m<ipython-input-33-bf31c33200f7>\u001b[0m in \u001b[0;36m<module>\u001b[1;34m\u001b[0m\n\u001b[1;32m----> 1\u001b[1;33m \u001b[0mos\u001b[0m\u001b[1;33m.\u001b[0m\u001b[0mmkdir\u001b[0m\u001b[1;33m(\u001b[0m\u001b[1;34m'First/second'\u001b[0m\u001b[1;33m)\u001b[0m\u001b[1;33m\u001b[0m\u001b[1;33m\u001b[0m\u001b[0m\n\u001b[0m",
      "\u001b[1;31mFileNotFoundError\u001b[0m: [WinError 3] The system cannot find the path specified: 'First/second'"
     ]
    }
   ],
   "source": [
    "os.mkdir('First/second')"
   ]
  },
  {
   "cell_type": "code",
   "execution_count": 34,
   "metadata": {},
   "outputs": [
    {
     "ename": "FileNotFoundError",
     "evalue": "[WinError 3] The system cannot find the path specified: 'First\\\\second'",
     "output_type": "error",
     "traceback": [
      "\u001b[1;31m---------------------------------------------------------------------------\u001b[0m",
      "\u001b[1;31mFileNotFoundError\u001b[0m                         Traceback (most recent call last)",
      "\u001b[1;32m<ipython-input-34-a3c1c3fc0479>\u001b[0m in \u001b[0;36m<module>\u001b[1;34m\u001b[0m\n\u001b[1;32m----> 1\u001b[1;33m \u001b[0mos\u001b[0m\u001b[1;33m.\u001b[0m\u001b[0mmkdir\u001b[0m\u001b[1;33m(\u001b[0m\u001b[1;34m'First\\second'\u001b[0m\u001b[1;33m)\u001b[0m\u001b[1;33m\u001b[0m\u001b[1;33m\u001b[0m\u001b[0m\n\u001b[0m",
      "\u001b[1;31mFileNotFoundError\u001b[0m: [WinError 3] The system cannot find the path specified: 'First\\\\second'"
     ]
    }
   ],
   "source": [
    "os.mkdir('First\\second')"
   ]
  },
  {
   "cell_type": "code",
   "execution_count": 35,
   "metadata": {},
   "outputs": [],
   "source": [
    "os.makedirs('First/second/third')"
   ]
  },
  {
   "cell_type": "code",
   "execution_count": 38,
   "metadata": {},
   "outputs": [],
   "source": [
    "# creating a file\n",
    "f = open('myfile.txt', 'w')\n",
    "f.write('my data')\n",
    "f.close()"
   ]
  },
  {
   "cell_type": "code",
   "execution_count": 39,
   "metadata": {},
   "outputs": [
    {
     "data": {
      "text/plain": [
       "['.ipynb_checkpoints',\n",
       " '01_os_module.py',\n",
       " '02_os_module.py',\n",
       " 'clear_screen.py',\n",
       " 'delete_pyc_files.py',\n",
       " 'First',\n",
       " 'myfile.txt',\n",
       " 'myFolder',\n",
       " 'os_module_discussion.ipynb',\n",
       " 'scan_pdf.py',\n",
       " 'scan_python_files.py',\n",
       " 'smallDistrictsAnalysesProjectCreator.pyw',\n",
       " 'txtmd5.py',\n",
       " 'txtsize.py',\n",
       " '__pycache__']"
      ]
     },
     "execution_count": 39,
     "metadata": {},
     "output_type": "execute_result"
    }
   ],
   "source": [
    "os.listdir('.')"
   ]
  },
  {
   "cell_type": "code",
   "execution_count": 40,
   "metadata": {},
   "outputs": [],
   "source": [
    "os.rename('myfile.txt', 'otherfile.tsf')"
   ]
  },
  {
   "cell_type": "code",
   "execution_count": 41,
   "metadata": {},
   "outputs": [
    {
     "data": {
      "text/plain": [
       "['.ipynb_checkpoints',\n",
       " '01_os_module.py',\n",
       " '02_os_module.py',\n",
       " 'clear_screen.py',\n",
       " 'delete_pyc_files.py',\n",
       " 'First',\n",
       " 'myFolder',\n",
       " 'os_module_discussion.ipynb',\n",
       " 'otherfile.tsf',\n",
       " 'scan_pdf.py',\n",
       " 'scan_python_files.py',\n",
       " 'smallDistrictsAnalysesProjectCreator.pyw',\n",
       " 'txtmd5.py',\n",
       " 'txtsize.py',\n",
       " '__pycache__']"
      ]
     },
     "execution_count": 41,
     "metadata": {},
     "output_type": "execute_result"
    }
   ],
   "source": [
    "os.listdir('.')"
   ]
  },
  {
   "cell_type": "code",
   "execution_count": 42,
   "metadata": {},
   "outputs": [],
   "source": [
    "os.rename('First', 'PythonFolder')"
   ]
  },
  {
   "cell_type": "code",
   "execution_count": 43,
   "metadata": {},
   "outputs": [
    {
     "data": {
      "text/plain": [
       "['.ipynb_checkpoints',\n",
       " '01_os_module.py',\n",
       " '02_os_module.py',\n",
       " 'clear_screen.py',\n",
       " 'delete_pyc_files.py',\n",
       " 'myFolder',\n",
       " 'os_module_discussion.ipynb',\n",
       " 'otherfile.tsf',\n",
       " 'PythonFolder',\n",
       " 'scan_pdf.py',\n",
       " 'scan_python_files.py',\n",
       " 'smallDistrictsAnalysesProjectCreator.pyw',\n",
       " 'txtmd5.py',\n",
       " 'txtsize.py',\n",
       " '__pycache__']"
      ]
     },
     "execution_count": 43,
     "metadata": {},
     "output_type": "execute_result"
    }
   ],
   "source": [
    "os.listdir('.')"
   ]
  },
  {
   "cell_type": "code",
   "execution_count": 44,
   "metadata": {},
   "outputs": [
    {
     "ename": "PermissionError",
     "evalue": "[WinError 5] Access is denied: 'myFolder'",
     "output_type": "error",
     "traceback": [
      "\u001b[1;31m---------------------------------------------------------------------------\u001b[0m",
      "\u001b[1;31mPermissionError\u001b[0m                           Traceback (most recent call last)",
      "\u001b[1;32m<ipython-input-44-cc11715459ce>\u001b[0m in \u001b[0;36m<module>\u001b[1;34m\u001b[0m\n\u001b[1;32m----> 1\u001b[1;33m \u001b[0mos\u001b[0m\u001b[1;33m.\u001b[0m\u001b[0mremove\u001b[0m\u001b[1;33m(\u001b[0m\u001b[1;34m'myFolder'\u001b[0m\u001b[1;33m)\u001b[0m\u001b[1;33m\u001b[0m\u001b[1;33m\u001b[0m\u001b[0m\n\u001b[0m",
      "\u001b[1;31mPermissionError\u001b[0m: [WinError 5] Access is denied: 'myFolder'"
     ]
    }
   ],
   "source": [
    "os.remove('myFolder')"
   ]
  },
  {
   "cell_type": "code",
   "execution_count": 45,
   "metadata": {},
   "outputs": [
    {
     "data": {
      "text/plain": [
       "0"
      ]
     },
     "execution_count": 45,
     "metadata": {},
     "output_type": "execute_result"
    }
   ],
   "source": [
    "os.system('ipconfig')"
   ]
  },
  {
   "cell_type": "code",
   "execution_count": 46,
   "metadata": {},
   "outputs": [
    {
     "data": {
      "text/plain": [
       "1"
      ]
     },
     "execution_count": 46,
     "metadata": {},
     "output_type": "execute_result"
    }
   ],
   "source": [
    "os.system('ipconfig111')"
   ]
  },
  {
   "cell_type": "markdown",
   "metadata": {},
   "source": [
    "#### Get all the python files in our material "
   ]
  },
  {
   "cell_type": "code",
   "execution_count": 21,
   "metadata": {},
   "outputs": [
    {
     "data": {
      "text/plain": [
       "'C:\\\\Users\\\\udhayPrakash\\\\Desktop\\\\PythonMaterial\\\\python3\\\\10_Modules'"
      ]
     },
     "execution_count": 21,
     "metadata": {},
     "output_type": "execute_result"
    }
   ],
   "source": [
    "os.getcwd()"
   ]
  },
  {
   "cell_type": "code",
   "execution_count": 22,
   "metadata": {},
   "outputs": [],
   "source": [
    "os.chdir('C:\\\\Users\\\\udhayPrakash\\\\Desktop\\\\PythonMaterial\\\\python3')"
   ]
  },
  {
   "cell_type": "code",
   "execution_count": 23,
   "metadata": {},
   "outputs": [
    {
     "data": {
      "text/plain": [
       "'C:\\\\Users\\\\udhayPrakash\\\\Desktop\\\\PythonMaterial\\\\python3'"
      ]
     },
     "execution_count": 23,
     "metadata": {},
     "output_type": "execute_result"
    }
   ],
   "source": [
    "os.getcwd()"
   ]
  },
  {
   "cell_type": "code",
   "execution_count": 24,
   "metadata": {},
   "outputs": [
    {
     "data": {
      "text/plain": [
       "['.idea',\n",
       " '.pytest_cache',\n",
       " '.vscode',\n",
       " '00_Demo',\n",
       " '01_Introduction',\n",
       " '02_Basics',\n",
       " '03_Language_Components',\n",
       " '04_Exceptions',\n",
       " '05_Debugging',\n",
       " '06_Collections',\n",
       " '07_Functions',\n",
       " '08_Decorators',\n",
       " '09_Iterators_generators_coroutines',\n",
       " '10_Modules',\n",
       " '11_File_Operations',\n",
       " '12_Logging',\n",
       " '13_OOP',\n",
       " '14_Code_Quality',\n",
       " '15_Regular_Expressions',\n",
       " '16_Web_Services',\n",
       " '17_Data_science_modules',\n",
       " 'Anti_patterns',\n",
       " 'git cheat sheet.jpeg',\n",
       " 'git___commit_vs_merge_vs_Rebase.png',\n",
       " 'gotchas_n_hiddenFeatures.txt',\n",
       " 'new.py',\n",
       " 'one_liners.py',\n",
       " 'Python Assessment Tests',\n",
       " 'python_2to3_ex.py',\n",
       " 'python_batch_planned_schedule.txt']"
      ]
     },
     "execution_count": 24,
     "metadata": {},
     "output_type": "execute_result"
    }
   ],
   "source": [
    "os.listdir('.')"
   ]
  },
  {
   "cell_type": "code",
   "execution_count": 25,
   "metadata": {},
   "outputs": [
    {
     "data": {
      "text/plain": [
       "<generator object walk at 0x00000000054BBB48>"
      ]
     },
     "execution_count": 25,
     "metadata": {},
     "output_type": "execute_result"
    }
   ],
   "source": [
    "os.walk('.')"
   ]
  },
  {
   "cell_type": "code",
   "execution_count": 28,
   "metadata": {},
   "outputs": [
    {
     "name": "stdout",
     "output_type": "stream",
     "text": [
      "3 ('.', ['.idea', '.pytest_cache', '.vscode', '00_Demo', '01_Introduction', '02_Basics', '03_Language_Components', '04_Exceptions', '05_Debugging', '06_Collections', '07_Functions', '08_Decorators', '09_Iterators_generators_coroutines', '10_Modules', '11_File_Operations', '12_Logging', '13_OOP', '14_Code_Quality', '15_Regular_Expressions', '16_Web_Services', '17_Data_science_modules', 'Anti_patterns', 'Python Assessment Tests'], ['git cheat sheet.jpeg', 'git___commit_vs_merge_vs_Rebase.png', 'gotchas_n_hiddenFeatures.txt', 'new.py', 'one_liners.py', 'python_2to3_ex.py', 'python_batch_planned_schedule.txt'])\n"
     ]
    }
   ],
   "source": [
    "for each in os.walk('.'):\n",
    "    print(len(each), each)\n",
    "    break\n",
    "    "
   ]
  },
  {
   "cell_type": "code",
   "execution_count": 31,
   "metadata": {},
   "outputs": [
    {
     "name": "stdout",
     "output_type": "stream",
     "text": [
      ".\n",
      ".\\.idea\n",
      ".\\.idea\\inspectionProfiles\n",
      ".\\.pytest_cache\n",
      ".\\.pytest_cache\\v\n",
      ".\\.pytest_cache\\v\\cache\n",
      ".\\.vscode\n",
      ".\\00_Demo\n",
      ".\\01_Introduction\n",
      ".\\02_Basics\n",
      ".\\02_Basics\\01_Arithmetic_Operations\n",
      ".\\02_Basics\\01_Arithmetic_Operations\\.ipynb_checkpoints\n",
      ".\\02_Basics\\02_String_Operations\n",
      ".\\03_Language_Components\n",
      ".\\03_Language_Components\\01_Relational_Operations\n",
      ".\\03_Language_Components\\02_Logical_Operations\n",
      ".\\03_Language_Components\\03_Boolean_Operations\n",
      ".\\03_Language_Components\\04_Bitwise_Operations\n",
      ".\\03_Language_Components\\05_range\n",
      ".\\03_Language_Components\\06_Identity_Operations\n",
      ".\\03_Language_Components\\07_Conditional_Operations\n",
      ".\\03_Language_Components\\08_Loops\n",
      ".\\03_Language_Components\\08_Loops\\.ipynb_checkpoints\n",
      ".\\04_Exceptions\n",
      ".\\05_Debugging\n",
      ".\\06_Collections\n",
      ".\\06_Collections\\.ipynb_checkpoints\n",
      ".\\06_Collections\\01_Lists\n",
      ".\\06_Collections\\02_Tuples\n",
      ".\\06_Collections\\03_Sets\n",
      ".\\06_Collections\\04_Dictionaries\n",
      ".\\07_Functions\n",
      ".\\07_Functions\\.ipynb_checkpoints\n",
      ".\\07_Functions\\practical\n",
      ".\\07_Functions\\__pycache__\n",
      ".\\08_Decorators\n",
      ".\\08_Decorators\\.ipynb_checkpoints\n",
      ".\\09_Iterators_generators_coroutines\n",
      ".\\09_Iterators_generators_coroutines\\01_Iterables\n",
      ".\\09_Iterators_generators_coroutines\\02_iterators\n",
      ".\\09_Iterators_generators_coroutines\\03_generators\n",
      ".\\09_Iterators_generators_coroutines\\04_coroutines\n",
      ".\\10_Modules\n",
      ".\\10_Modules\\01_math\n",
      ".\\10_Modules\\01_math\\.ipynb_checkpoints\n",
      ".\\10_Modules\\02_sys\n",
      ".\\10_Modules\\02_sys\\.ipynb_checkpoints\n",
      ".\\10_Modules\\02_sys\\__pycache__\n",
      ".\\10_Modules\\03_argparse\n",
      ".\\10_Modules\\04_os_module\n",
      ".\\10_Modules\\04_os_module\\.ipynb_checkpoints\n",
      ".\\10_Modules\\05_shutil\n",
      ".\\10_Modules\\05_shutil\\Shutil\n",
      ".\\10_Modules\\05_shutil\\test_dir_1\n",
      ".\\10_Modules\\05_shutil\\test_dir_2\n",
      ".\\10_Modules\\06_subprocess\n",
      ".\\10_Modules\\07_getpass\n",
      ".\\10_Modules\\08_time_related\n",
      ".\\10_Modules\\08_time_related\\.ipynb_checkpoints\n",
      ".\\10_Modules\\09_random\n",
      ".\\10_Modules\\10_collections_module\n",
      ".\\10_Modules\\11_pyttsx3\n",
      ".\\10_Modules\\12_qr_code_generation\n",
      ".\\10_Modules\\13_console_coloring\n",
      ".\\10_Modules\\13_console_coloring\\__pycache__\n",
      ".\\10_Modules\\14_turtle_module\n",
      ".\\10_Modules\\15_reportlab\n",
      ".\\10_Modules\\16_multiprocessing\n",
      ".\\10_Modules\\itertools_module\n",
      ".\\10_Modules\\itertools_module\\.ipynb_checkpoints\n",
      ".\\10_Modules\\nltk_module\n",
      ".\\10_Modules\\Parallel_Processing\n",
      ".\\10_Modules\\socket_programming\n",
      ".\\10_Modules\\socket_programming\\chat_examples\n",
      ".\\10_Modules\\spacy_module\n",
      ".\\10_Modules\\spacy_module\\.ipynb_checkpoints\n",
      ".\\10_Modules\\user_defined_modules\n",
      ".\\10_Modules\\user_defined_modules\\__pycache__\n",
      ".\\11_File_Operations\n",
      ".\\11_File_Operations\\01_flat_files\n",
      ".\\11_File_Operations\\02_non_flat_files\n",
      ".\\11_File_Operations\\02_non_flat_files\\01_pickle_files\n",
      ".\\11_File_Operations\\02_non_flat_files\\02_shelve_files\n",
      ".\\11_File_Operations\\02_non_flat_files\\03_xml_files\n",
      ".\\11_File_Operations\\02_non_flat_files\\04_csv_files\n",
      ".\\11_File_Operations\\02_non_flat_files\\04_csv_files\\.ipynb_checkpoints\n",
      ".\\11_File_Operations\\02_non_flat_files\\04_html_files\n",
      ".\\11_File_Operations\\02_non_flat_files\\05_xls_files\n",
      ".\\11_File_Operations\\02_non_flat_files\\05_xls_files\\xlrd_module\n",
      ".\\11_File_Operations\\02_non_flat_files\\05_xls_files\\xlsxwriter\n",
      ".\\11_File_Operations\\02_non_flat_files\\05_xls_files\\xlsxwriter\\excels\n",
      ".\\11_File_Operations\\02_non_flat_files\\06_json_files\n",
      ".\\11_File_Operations\\02_non_flat_files\\07_yml_files\n",
      ".\\11_File_Operations\\03_image_files\n",
      ".\\11_File_Operations\\03_image_files\\image2BinaryData\n",
      ".\\11_File_Operations\\04_zipping_files\n",
      ".\\11_File_Operations\\05_pdf_files\n",
      ".\\11_File_Operations\\06_config_files\n",
      ".\\11_File_Operations\\06_config_files\\configParse\n",
      ".\\11_File_Operations\\07_db_files\n",
      ".\\11_File_Operations\\07_db_files\\.ipynb_checkpoints\n",
      ".\\11_File_Operations\\pyw files\n",
      ".\\11_File_Operations\\remove_lines_of_one_file_if_present_in_another\n",
      ".\\12_Logging\n",
      ".\\13_OOP\n",
      ".\\13_OOP\\Practical\n",
      ".\\13_OOP\\Practical\\word_count\n",
      ".\\14_Code_Quality\n",
      ".\\14_Code_Quality\\01_doctest\n",
      ".\\14_Code_Quality\\02_unit_test\n",
      ".\\14_Code_Quality\\02_unit_test\\example_1\n",
      ".\\14_Code_Quality\\02_unit_test\\example_1\\__pycache__\n",
      ".\\14_Code_Quality\\02_unit_test\\example_2\n",
      ".\\14_Code_Quality\\02_unit_test\\example_3\n",
      ".\\14_Code_Quality\\02_unit_test\\example_3\\__pycache__\n",
      ".\\14_Code_Quality\\02_unit_test\\example_4\n",
      ".\\14_Code_Quality\\02_unit_test\\example_5\n",
      ".\\14_Code_Quality\\02_unit_test\\unitTesting\n",
      ".\\14_Code_Quality\\03_static_typing\n",
      ".\\14_Code_Quality\\04_selenium_testing\n",
      ".\\14_Code_Quality\\05_autopy_module\n",
      ".\\15_Regular_Expressions\n",
      ".\\15_Regular_Expressions\\d\n",
      ".\\15_Regular_Expressions\\d\\reg_exp\n",
      ".\\16_Web_Services\n",
      ".\\16_Web_Services\\01_urllib.request\n",
      ".\\16_Web_Services\\01_urllib.request\\02_get_ip_and_details\n",
      ".\\16_Web_Services\\02_requests\n",
      ".\\16_Web_Services\\02_requests\\http response code images\n",
      ".\\16_Web_Services\\02_requests\\ISS\n",
      ".\\16_Web_Services\\02_requests\\NASA\n",
      ".\\16_Web_Services\\03_bs4_ex\n",
      ".\\16_Web_Services\\03_web_scrapping\n",
      ".\\16_Web_Services\\03_web_scrapping\\.ipynb_checkpoints\n",
      ".\\16_Web_Services\\05_pyselenium\n",
      ".\\16_Web_Services\\web_application\n",
      ".\\17_Data_science_modules\n",
      ".\\17_Data_science_modules\\.ipynb_checkpoints\n",
      ".\\17_Data_science_modules\\01_numpy\n",
      ".\\17_Data_science_modules\\01_numpy\\.ipynb_checkpoints\n",
      ".\\17_Data_science_modules\\02_pandas\n",
      ".\\17_Data_science_modules\\02_pandas\\.ipynb_checkpoints\n",
      ".\\17_Data_science_modules\\03_matplotlib\n",
      ".\\17_Data_science_modules\\03_matplotlib\\.ipynb_checkpoints\n",
      ".\\17_Data_science_modules\\04_nltk\n",
      ".\\17_Data_science_modules\\04_nltk\\.ipynb_checkpoints\n",
      ".\\Anti_patterns\n",
      ".\\Anti_patterns\\.ipynb_checkpoints\n",
      ".\\Python Assessment Tests\n",
      ".\\Python Assessment Tests\\.ipynb_checkpoints\n"
     ]
    }
   ],
   "source": [
    "for each_dir, each_2, each_3 in os.walk('.'):\n",
    "    print(each_dir)\n",
    "#     break\n",
    "    "
   ]
  },
  {
   "cell_type": "code",
   "execution_count": 33,
   "metadata": {},
   "outputs": [
    {
     "name": "stdout",
     "output_type": "stream",
     "text": [
      "['.idea', '.pytest_cache', '.vscode', '00_Demo', '01_Introduction', '02_Basics', '03_Language_Components', '04_Exceptions', '05_Debugging', '06_Collections', '07_Functions', '08_Decorators', '09_Iterators_generators_coroutines', '10_Modules', '11_File_Operations', '12_Logging', '13_OOP', '14_Code_Quality', '15_Regular_Expressions', '16_Web_Services', '17_Data_science_modules', 'Anti_patterns', 'Python Assessment Tests']\n",
      "['inspectionProfiles']\n",
      "[]\n",
      "['v']\n",
      "['cache']\n",
      "[]\n",
      "[]\n",
      "[]\n",
      "[]\n",
      "['01_Arithmetic_Operations', '02_String_Operations']\n",
      "['.ipynb_checkpoints']\n",
      "[]\n",
      "[]\n",
      "['01_Relational_Operations', '02_Logical_Operations', '03_Boolean_Operations', '04_Bitwise_Operations', '05_range', '06_Identity_Operations', '07_Conditional_Operations', '08_Loops']\n",
      "[]\n",
      "[]\n",
      "[]\n",
      "[]\n",
      "[]\n",
      "[]\n",
      "[]\n",
      "['.ipynb_checkpoints']\n",
      "[]\n",
      "[]\n",
      "[]\n",
      "['.ipynb_checkpoints', '01_Lists', '02_Tuples', '03_Sets', '04_Dictionaries']\n",
      "[]\n",
      "[]\n",
      "[]\n",
      "[]\n",
      "[]\n",
      "['.ipynb_checkpoints', 'practical', '__pycache__']\n",
      "[]\n",
      "[]\n",
      "[]\n",
      "['.ipynb_checkpoints']\n",
      "[]\n",
      "['01_Iterables', '02_iterators', '03_generators', '04_coroutines']\n",
      "[]\n",
      "[]\n",
      "[]\n",
      "[]\n",
      "['01_math', '02_sys', '03_argparse', '04_os_module', '05_shutil', '06_subprocess', '07_getpass', '08_time_related', '09_random', '10_collections_module', '11_pyttsx3', '12_qr_code_generation', '13_console_coloring', '14_turtle_module', '15_reportlab', '16_multiprocessing', 'itertools_module', 'nltk_module', 'Parallel_Processing', 'socket_programming', 'spacy_module', 'user_defined_modules']\n",
      "['.ipynb_checkpoints']\n",
      "[]\n",
      "['.ipynb_checkpoints', '__pycache__']\n",
      "[]\n",
      "[]\n",
      "[]\n",
      "['.ipynb_checkpoints']\n",
      "[]\n",
      "['Shutil', 'test_dir_1', 'test_dir_2']\n",
      "[]\n",
      "[]\n",
      "[]\n",
      "[]\n",
      "[]\n",
      "['.ipynb_checkpoints']\n",
      "[]\n",
      "[]\n",
      "[]\n",
      "[]\n",
      "[]\n",
      "['__pycache__']\n",
      "[]\n",
      "[]\n",
      "[]\n",
      "[]\n",
      "['.ipynb_checkpoints']\n",
      "[]\n",
      "[]\n",
      "[]\n",
      "['chat_examples']\n",
      "[]\n",
      "['.ipynb_checkpoints']\n",
      "[]\n",
      "['__pycache__']\n",
      "[]\n",
      "['01_flat_files', '02_non_flat_files', '03_image_files', '04_zipping_files', '05_pdf_files', '06_config_files', '07_db_files', 'pyw files', 'remove_lines_of_one_file_if_present_in_another']\n",
      "[]\n",
      "['01_pickle_files', '02_shelve_files', '03_xml_files', '04_csv_files', '04_html_files', '05_xls_files', '06_json_files', '07_yml_files']\n",
      "[]\n",
      "[]\n",
      "[]\n",
      "['.ipynb_checkpoints']\n",
      "[]\n",
      "[]\n",
      "['xlrd_module', 'xlsxwriter']\n",
      "[]\n",
      "['excels']\n",
      "[]\n",
      "[]\n",
      "[]\n",
      "['image2BinaryData']\n",
      "[]\n",
      "[]\n",
      "[]\n",
      "['configParse']\n",
      "[]\n",
      "['.ipynb_checkpoints']\n",
      "[]\n",
      "[]\n",
      "[]\n",
      "[]\n",
      "['Practical']\n",
      "['word_count']\n",
      "[]\n",
      "['01_doctest', '02_unit_test', '03_static_typing', '04_selenium_testing', '05_autopy_module']\n",
      "[]\n",
      "['example_1', 'example_2', 'example_3', 'example_4', 'example_5', 'unitTesting']\n",
      "['__pycache__']\n",
      "[]\n",
      "[]\n",
      "['__pycache__']\n",
      "[]\n",
      "[]\n",
      "[]\n",
      "[]\n",
      "[]\n",
      "[]\n",
      "[]\n",
      "['d']\n",
      "['reg_exp']\n",
      "[]\n",
      "['01_urllib.request', '02_requests', '03_bs4_ex', '03_web_scrapping', '05_pyselenium', 'web_application']\n",
      "['02_get_ip_and_details']\n",
      "[]\n",
      "['http response code images', 'ISS', 'NASA']\n",
      "[]\n",
      "[]\n",
      "[]\n",
      "[]\n",
      "['.ipynb_checkpoints']\n",
      "[]\n",
      "[]\n",
      "[]\n",
      "['.ipynb_checkpoints', '01_numpy', '02_pandas', '03_matplotlib', '04_nltk']\n",
      "[]\n",
      "['.ipynb_checkpoints']\n",
      "[]\n",
      "['.ipynb_checkpoints']\n",
      "[]\n",
      "['.ipynb_checkpoints']\n",
      "[]\n",
      "['.ipynb_checkpoints']\n",
      "[]\n",
      "['.ipynb_checkpoints']\n",
      "[]\n",
      "['.ipynb_checkpoints']\n",
      "[]\n"
     ]
    }
   ],
   "source": [
    "for each_dir, dirs, each_3 in os.walk('.'):\n",
    "    print(dirs)\n",
    "#     break"
   ]
  },
  {
   "cell_type": "code",
   "execution_count": 35,
   "metadata": {},
   "outputs": [
    {
     "name": "stdout",
     "output_type": "stream",
     "text": [
      "['git cheat sheet.jpeg', 'git___commit_vs_merge_vs_Rebase.png', 'gotchas_n_hiddenFeatures.txt', 'new.py', 'one_liners.py', 'python_2to3_ex.py', 'python_batch_planned_schedule.txt']\n"
     ]
    }
   ],
   "source": [
    "for each_dir, dirs, files in os.walk('.'):\n",
    "    print(each_3)\n",
    "    break"
   ]
  },
  {
   "cell_type": "code",
   "execution_count": 46,
   "metadata": {},
   "outputs": [
    {
     "name": "stdout",
     "output_type": "stream",
     "text": [
      "In this course, there are 669 python files & 73 jupyter notebook files\n"
     ]
    }
   ],
   "source": [
    "py_files = []\n",
    "juypter_notebook_files = []\n",
    "for each_dir, dirs, files in os.walk('.'):\n",
    "    for each_file in files:\n",
    "        file_name, file_extn = os.path.splitext(each_file)\n",
    "        if file_extn == '.py':\n",
    "            py_files.append(each_file)\n",
    "        elif file_extn == '.ipynb':\n",
    "            juypter_notebook_files.append(each_file)\n",
    "            \n",
    "print(f'In this course, there are {len(py_files)} python files & {len(juypter_notebook_files)} jupyter notebook files')"
   ]
  },
  {
   "cell_type": "markdown",
   "metadata": {},
   "source": [
    "Working with paths"
   ]
  },
  {
   "cell_type": "code",
   "execution_count": 47,
   "metadata": {},
   "outputs": [
    {
     "data": {
      "text/plain": [
       "'temp.txt'"
      ]
     },
     "execution_count": 47,
     "metadata": {},
     "output_type": "execute_result"
    }
   ],
   "source": [
    "os.path.basename(\"/home/user/temp.txt\")"
   ]
  },
  {
   "cell_type": "code",
   "execution_count": 48,
   "metadata": {},
   "outputs": [
    {
     "data": {
      "text/plain": [
       "'/home/user'"
      ]
     },
     "execution_count": 48,
     "metadata": {},
     "output_type": "execute_result"
    }
   ],
   "source": [
    "os.path.dirname(\"/home/user/temp.txt\")"
   ]
  },
  {
   "cell_type": "code",
   "execution_count": 49,
   "metadata": {},
   "outputs": [
    {
     "data": {
      "text/plain": [
       "'C:\\\\Users\\\\udhayPrakash\\\\Desktop\\\\PythonMaterial\\\\python3\\\\temp.txt'"
      ]
     },
     "execution_count": 49,
     "metadata": {},
     "output_type": "execute_result"
    }
   ],
   "source": [
    "os.path.abspath('temp.txt')"
   ]
  },
  {
   "cell_type": "code",
   "execution_count": 50,
   "metadata": {},
   "outputs": [
    {
     "data": {
      "text/plain": [
       "'C:\\\\home\\\\user\\\\temp.txt'"
      ]
     },
     "execution_count": 50,
     "metadata": {},
     "output_type": "execute_result"
    }
   ],
   "source": [
    "os.path.realpath(\"/home/user/temp.txt\")"
   ]
  },
  {
   "cell_type": "code",
   "execution_count": 51,
   "metadata": {},
   "outputs": [
    {
     "data": {
      "text/plain": [
       "('/home/user/temp', '.log')"
      ]
     },
     "execution_count": 51,
     "metadata": {},
     "output_type": "execute_result"
    }
   ],
   "source": [
    "os.path.splitext(\"/home/user/temp.log\")"
   ]
  },
  {
   "cell_type": "code",
   "execution_count": 52,
   "metadata": {},
   "outputs": [
    {
     "data": {
      "text/plain": [
       "('temp', '.log')"
      ]
     },
     "execution_count": 52,
     "metadata": {},
     "output_type": "execute_result"
    }
   ],
   "source": [
    "os.path.splitext(\"temp.log\")"
   ]
  },
  {
   "cell_type": "code",
   "execution_count": 53,
   "metadata": {},
   "outputs": [
    {
     "data": {
      "text/plain": [
       "('', '/home/user/temp.txt')"
      ]
     },
     "execution_count": 53,
     "metadata": {},
     "output_type": "execute_result"
    }
   ],
   "source": [
    "os.path.splitdrive(\"/home/user/temp.txt\")"
   ]
  },
  {
   "cell_type": "code",
   "execution_count": 54,
   "metadata": {},
   "outputs": [
    {
     "data": {
      "text/plain": [
       "('c:', '/home/user/temp.txt')"
      ]
     },
     "execution_count": 54,
     "metadata": {},
     "output_type": "execute_result"
    }
   ],
   "source": [
    "os.path.splitdrive(\"c:/home/user/temp.txt\")"
   ]
  },
  {
   "cell_type": "code",
   "execution_count": 55,
   "metadata": {},
   "outputs": [
    {
     "data": {
      "text/plain": [
       "'.'"
      ]
     },
     "execution_count": 55,
     "metadata": {},
     "output_type": "execute_result"
    }
   ],
   "source": [
    "os.path.extsep"
   ]
  },
  {
   "cell_type": "code",
   "execution_count": 56,
   "metadata": {},
   "outputs": [
    {
     "name": "stdout",
     "output_type": "stream",
     "text": [
      "\\ \\\n"
     ]
    }
   ],
   "source": [
    "import sys\n",
    "\n",
    "if sys.platform == 'win32':\n",
    "    path_joiner = '\\\\'\n",
    "else:\n",
    "    path_joiner = '/'\n",
    "\n",
    "print(path_joiner, os.sep)"
   ]
  },
  {
   "cell_type": "code",
   "execution_count": 57,
   "metadata": {},
   "outputs": [],
   "source": [
    "assert path_joiner == os.sep"
   ]
  },
  {
   "cell_type": "code",
   "execution_count": 58,
   "metadata": {},
   "outputs": [
    {
     "data": {
      "text/plain": [
       "'css\\\\america'"
      ]
     },
     "execution_count": 58,
     "metadata": {},
     "output_type": "execute_result"
    }
   ],
   "source": [
    "os.path.join('css', 'america')"
   ]
  },
  {
   "cell_type": "code",
   "execution_count": 59,
   "metadata": {},
   "outputs": [
    {
     "data": {
      "text/plain": [
       "'css\\\\america\\\\asdas\\\\sad\\\\dfgd'"
      ]
     },
     "execution_count": 59,
     "metadata": {},
     "output_type": "execute_result"
    }
   ],
   "source": [
    "os.path.join('css', 'america', 'asdas', 'sad', 'dfgd')"
   ]
  },
  {
   "cell_type": "code",
   "execution_count": 60,
   "metadata": {},
   "outputs": [
    {
     "data": {
      "text/plain": [
       "'css\\\\america\\\\asdas\\\\sad\\\\dfgd'"
      ]
     },
     "execution_count": 60,
     "metadata": {},
     "output_type": "execute_result"
    }
   ],
   "source": [
    "'\\\\'.join(('css', 'america', 'asdas', 'sad', 'dfgd'))"
   ]
  },
  {
   "cell_type": "code",
   "execution_count": 61,
   "metadata": {},
   "outputs": [
    {
     "data": {
      "text/plain": [
       "'css\\\\america\\\\asdas\\\\sad\\\\dfgd'"
      ]
     },
     "execution_count": 61,
     "metadata": {},
     "output_type": "execute_result"
    }
   ],
   "source": [
    "(os.sep).join(('css', 'america', 'asdas', 'sad', 'dfgd'))"
   ]
  },
  {
   "cell_type": "code",
   "execution_count": 62,
   "metadata": {},
   "outputs": [],
   "source": [
    "assert os.path.join('css', 'america', 'asdas', 'sad', 'dfgd') == (os.sep).join(('css', 'america', 'asdas', 'sad', 'dfgd'))"
   ]
  },
  {
   "cell_type": "code",
   "execution_count": 63,
   "metadata": {},
   "outputs": [
    {
     "data": {
      "text/plain": [
       "'css\\\\america\\\\asdas\\\\sad\\\\dfgd'"
      ]
     },
     "execution_count": 63,
     "metadata": {},
     "output_type": "execute_result"
    }
   ],
   "source": [
    "new_path = os.path.join('css', 'america', 'asdas', 'sad', 'dfgd')\n",
    "new_path"
   ]
  },
  {
   "cell_type": "code",
   "execution_count": 64,
   "metadata": {},
   "outputs": [
    {
     "data": {
      "text/plain": [
       "False"
      ]
     },
     "execution_count": 64,
     "metadata": {},
     "output_type": "execute_result"
    }
   ],
   "source": [
    "os.path.exists(new_path)"
   ]
  },
  {
   "cell_type": "code",
   "execution_count": 65,
   "metadata": {},
   "outputs": [
    {
     "data": {
      "text/plain": [
       "['.idea',\n",
       " '.pytest_cache',\n",
       " '.vscode',\n",
       " '00_Demo',\n",
       " '01_Introduction',\n",
       " '02_Basics',\n",
       " '03_Language_Components',\n",
       " '04_Exceptions',\n",
       " '05_Debugging',\n",
       " '06_Collections',\n",
       " '07_Functions',\n",
       " '08_Decorators',\n",
       " '09_Iterators_generators_coroutines',\n",
       " '10_Modules',\n",
       " '11_File_Operations',\n",
       " '12_Logging',\n",
       " '13_OOP',\n",
       " '14_Code_Quality',\n",
       " '15_Regular_Expressions',\n",
       " '16_Web_Services',\n",
       " '17_Data_science_modules',\n",
       " 'Anti_patterns',\n",
       " 'git cheat sheet.jpeg',\n",
       " 'git___commit_vs_merge_vs_Rebase.png',\n",
       " 'gotchas_n_hiddenFeatures.txt',\n",
       " 'new.py',\n",
       " 'one_liners.py',\n",
       " 'Python Assessment Tests',\n",
       " 'python_2to3_ex.py',\n",
       " 'python_batch_planned_schedule.txt']"
      ]
     },
     "execution_count": 65,
     "metadata": {},
     "output_type": "execute_result"
    }
   ],
   "source": [
    "os.listdir('.')"
   ]
  },
  {
   "cell_type": "code",
   "execution_count": 66,
   "metadata": {},
   "outputs": [
    {
     "data": {
      "text/plain": [
       "80137"
      ]
     },
     "execution_count": 66,
     "metadata": {},
     "output_type": "execute_result"
    }
   ],
   "source": [
    "os.path.getsize('git cheat sheet.jpeg')"
   ]
  },
  {
   "cell_type": "code",
   "execution_count": 72,
   "metadata": {},
   "outputs": [
    {
     "data": {
      "text/plain": [
       "os.stat_result(st_mode=33206, st_ino=11540474045958833, st_dev=2156456585, st_nlink=1, st_uid=0, st_gid=0, st_size=80137, st_atime=1569150637, st_mtime=1521825825, st_ctime=1521825825)"
      ]
     },
     "execution_count": 72,
     "metadata": {},
     "output_type": "execute_result"
    }
   ],
   "source": [
    "os.stat('git cheat sheet.jpeg')"
   ]
  },
  {
   "cell_type": "code",
   "execution_count": 73,
   "metadata": {},
   "outputs": [
    {
     "data": {
      "text/plain": [
       "1521825825.6238935"
      ]
     },
     "execution_count": 73,
     "metadata": {},
     "output_type": "execute_result"
    }
   ],
   "source": [
    "os.stat('git cheat sheet.jpeg').st_mtime"
   ]
  },
  {
   "cell_type": "code",
   "execution_count": 74,
   "metadata": {},
   "outputs": [],
   "source": [
    "# Epoch time - 1970 jan 1st 00:00:00"
   ]
  }
 ],
 "metadata": {
  "kernelspec": {
   "display_name": "Python 3",
   "language": "python",
   "name": "python3"
  },
  "language_info": {
   "codemirror_mode": {
    "name": "ipython",
    "version": 3
   },
   "file_extension": ".py",
   "mimetype": "text/x-python",
   "name": "python",
   "nbconvert_exporter": "python",
   "pygments_lexer": "ipython3",
   "version": "3.7.4"
  }
 },
 "nbformat": 4,
 "nbformat_minor": 2
}
