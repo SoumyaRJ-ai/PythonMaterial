{
 "cells": [
  {
   "cell_type": "code",
   "execution_count": 1,
   "metadata": {},
   "outputs": [],
   "source": [
    "import os"
   ]
  },
  {
   "cell_type": "code",
   "execution_count": 2,
   "metadata": {},
   "outputs": [
    {
     "name": "stdout",
     "output_type": "stream",
     "text": [
      "['DirEntry', 'F_OK', 'MutableMapping', 'O_APPEND', 'O_BINARY', 'O_CREAT', 'O_EXCL', 'O_NOINHERIT', 'O_RANDOM', 'O_RDONLY', 'O_RDWR', 'O_SEQUENTIAL', 'O_SHORT_LIVED', 'O_TEMPORARY', 'O_TEXT', 'O_TRUNC', 'O_WRONLY', 'P_DETACH', 'P_NOWAIT', 'P_NOWAITO', 'P_OVERLAY', 'P_WAIT', 'PathLike', 'R_OK', 'SEEK_CUR', 'SEEK_END', 'SEEK_SET', 'TMP_MAX', 'W_OK', 'X_OK', '_AddedDllDirectory', '_Environ', '__all__', '__builtins__', '__cached__', '__doc__', '__file__', '__loader__', '__name__', '__package__', '__spec__', '_check_methods', '_execvpe', '_exists', '_exit', '_fspath', '_get_exports_list', '_putenv', '_unsetenv', '_wrap_close', 'abc', 'abort', 'access', 'add_dll_directory', 'altsep', 'chdir', 'chmod', 'close', 'closerange', 'cpu_count', 'curdir', 'defpath', 'device_encoding', 'devnull', 'dup', 'dup2', 'environ', 'error', 'execl', 'execle', 'execlp', 'execlpe', 'execv', 'execve', 'execvp', 'execvpe', 'extsep', 'fdopen', 'fsdecode', 'fsencode', 'fspath', 'fstat', 'fsync', 'ftruncate', 'get_exec_path', 'get_handle_inheritable', 'get_inheritable', 'get_terminal_size', 'getcwd', 'getcwdb', 'getenv', 'getlogin', 'getpid', 'getppid', 'isatty', 'kill', 'linesep', 'link', 'listdir', 'lseek', 'lstat', 'makedirs', 'mkdir', 'name', 'open', 'pardir', 'path', 'pathsep', 'pipe', 'popen', 'putenv', 'read', 'readlink', 'remove', 'removedirs', 'rename', 'renames', 'replace', 'rmdir', 'scandir', 'sep', 'set_handle_inheritable', 'set_inheritable', 'spawnl', 'spawnle', 'spawnv', 'spawnve', 'st', 'startfile', 'stat', 'stat_result', 'statvfs_result', 'strerror', 'supports_bytes_environ', 'supports_dir_fd', 'supports_effective_ids', 'supports_fd', 'supports_follow_symlinks', 'symlink', 'sys', 'system', 'terminal_size', 'times', 'times_result', 'truncate', 'umask', 'uname_result', 'unlink', 'urandom', 'utime', 'waitpid', 'walk', 'write']\n"
     ]
    }
   ],
   "source": [
    "print(dir(os))"
   ]
  },
  {
   "cell_type": "code",
   "execution_count": 3,
   "metadata": {},
   "outputs": [
    {
     "data": {
      "text/plain": [
       "b'\\x17\\x80\\x0by^[\\x81\\x86\\xc7\\xa7'"
      ]
     },
     "execution_count": 3,
     "metadata": {},
     "output_type": "execute_result"
    }
   ],
   "source": [
    "os.urandom(10)"
   ]
  },
  {
   "cell_type": "code",
   "execution_count": 4,
   "metadata": {},
   "outputs": [
    {
     "name": "stdout",
     "output_type": "stream",
     "text": [
      "b''\n",
      "b'\\x1d'\n",
      "b'!\\xef'\n",
      "b'\\x94\\x1e\\x99'\n",
      "b'\\x84:\\xdd\\xdd'\n",
      "b'ef\\xc2\\xf3\\x1b'\n",
      "b'N\\xce\\xae\\x06\\xf4\\xa8'\n",
      "b'\\xd3y\\xa8\\xf0/aK'\n",
      "b'\\xf2\\xc3aN\\x8b\\xcaf\\x11'\n"
     ]
    }
   ],
   "source": [
    "for i in range(9):\n",
    "    print(os.urandom(i))"
   ]
  },
  {
   "cell_type": "code",
   "execution_count": 5,
   "metadata": {},
   "outputs": [
    {
     "data": {
      "text/plain": [
       "'nt'"
      ]
     },
     "execution_count": 5,
     "metadata": {},
     "output_type": "execute_result"
    }
   ],
   "source": [
    "os.name\n",
    "# The name of the operating system dependent module imported. \n",
    "# The following names have currently been registered: 'posix', 'nt', 'java'."
   ]
  },
  {
   "cell_type": "code",
   "execution_count": 6,
   "metadata": {},
   "outputs": [
    {
     "name": "stdout",
     "output_type": "stream",
     "text": [
      "\n",
      "os.environ['OS']                    : Windows_NT\n",
      "os.environ['PROCESSOR_ARCHITECTURE']: AMD64\n",
      "os.environ['PROCESSOR_IDENTIFIER']  : Intel64 Family 6 Model 142 Stepping 12, GenuineIntel\n",
      "os.environ['PROCESSOR_LEVEL']       : 6\n",
      "\n",
      "\n",
      "os.environ['PYTHON_PATH']           : C:\\Users\\Amma\\AppData\\Local\\Programs\\Python\\Python37\n",
      "\n",
      "os.environ['TEMP']                  : C:\\Users\\Amma\\AppData\\Local\\Temp\n",
      "os.environ['TMP']                   : C:\\Users\\Amma\\AppData\\Local\\Temp\n",
      "\n",
      "os.environ['COMPUTERNAME']          : LAPTOP-5GJT9887\n",
      "os.environ['HOMEDRIVE']             : C:\n",
      "os.environ['USERNAME']              : Amma\n",
      "os.environ['USERDOMAIN']            : LAPTOP-5GJT9887\n",
      "\n"
     ]
    }
   ],
   "source": [
    "print(f\"\"\"\n",
    "os.environ['OS']                    : {os.environ['OS']}\n",
    "os.environ['PROCESSOR_ARCHITECTURE']: {os.environ['PROCESSOR_ARCHITECTURE']}\n",
    "os.environ['PROCESSOR_IDENTIFIER']  : {os.environ['PROCESSOR_IDENTIFIER']}\n",
    "os.environ['PROCESSOR_LEVEL']       : {os.environ['PROCESSOR_LEVEL']}\n",
    "\n",
    "\n",
    "os.environ['PYTHON_PATH']           : {os.environ['PYTHON_PATH']}\n",
    "\n",
    "os.environ['TEMP']                  : {os.environ['TEMP']}\n",
    "os.environ['TMP']                   : {os.environ['TMP']}\n",
    "\n",
    "os.environ['COMPUTERNAME']          : {os.environ['COMPUTERNAME']}\n",
    "os.environ['HOMEDRIVE']             : {os.environ['HOMEDRIVE']}\n",
    "os.environ['USERNAME']              : {os.environ['USERNAME']}\n",
    "os.environ['USERDOMAIN']            : {os.environ['USERDOMAIN']}\n",
    "\"\"\")"
   ]
  },
  {
   "cell_type": "code",
   "execution_count": 7,
   "metadata": {},
   "outputs": [
    {
     "data": {
      "text/plain": [
       "'C:\\\\Users\\\\Amma\\\\AppData\\\\Local\\\\Temp'"
      ]
     },
     "execution_count": 7,
     "metadata": {},
     "output_type": "execute_result"
    }
   ],
   "source": [
    "os.getenv('TEMP')"
   ]
  },
  {
   "cell_type": "markdown",
   "metadata": {},
   "source": [
    "Adding new environment variable"
   ]
  },
  {
   "cell_type": "code",
   "execution_count": 8,
   "metadata": {},
   "outputs": [],
   "source": [
    "os.putenv('A',  'Apple') # wont change the "
   ]
  },
  {
   "cell_type": "code",
   "execution_count": 9,
   "metadata": {},
   "outputs": [
    {
     "data": {
      "text/plain": [
       "'No such key'"
      ]
     },
     "execution_count": 9,
     "metadata": {},
     "output_type": "execute_result"
    }
   ],
   "source": [
    "os.getenv('A', 'No such key')"
   ]
  },
  {
   "cell_type": "code",
   "execution_count": 10,
   "metadata": {},
   "outputs": [],
   "source": [
    "os.environ['A'] = 'Apple' # modifies environment variables"
   ]
  },
  {
   "cell_type": "code",
   "execution_count": 11,
   "metadata": {},
   "outputs": [
    {
     "data": {
      "text/plain": [
       "'Apple'"
      ]
     },
     "execution_count": 11,
     "metadata": {},
     "output_type": "execute_result"
    }
   ],
   "source": [
    "os.getenv('A', 'No such key')"
   ]
  },
  {
   "cell_type": "code",
   "execution_count": 12,
   "metadata": {},
   "outputs": [
    {
     "data": {
      "text/plain": [
       "['C:\\\\Program Files (x86)\\\\Common Files\\\\Oracle\\\\Java\\\\javapath',\n",
       " 'C:\\\\Program Files (x86)\\\\ActiveState Komodo IDE 12\\\\',\n",
       " 'C:\\\\Windows\\\\system32',\n",
       " 'C:\\\\Windows',\n",
       " 'C:\\\\Windows\\\\System32\\\\Wbem',\n",
       " 'C:\\\\Windows\\\\System32\\\\WindowsPowerShell\\\\v1.0\\\\',\n",
       " 'C:\\\\Windows\\\\System32\\\\OpenSSH\\\\',\n",
       " 'C:\\\\Go\\\\bin',\n",
       " 'C:\\\\Program Files\\\\Java\\\\jdk-11\\\\bin',\n",
       " 'C:\\\\spark-2.4.4-bin-hadoop2.7\\\\bin',\n",
       " 'C:\\\\ProgramData\\\\chocolatey\\\\bin',\n",
       " 'C:\\\\Program Files\\\\nodejs\\\\',\n",
       " 'C:\\\\Program Files\\\\Git\\\\cmd',\n",
       " 'C:\\\\Program Files\\\\Java\\\\jdk1.8.0_211\\\\bin',\n",
       " 'C:\\\\Users\\\\Amma\\\\AppData\\\\Local\\\\Programs\\\\Python\\\\Python38\\\\Scripts\\\\',\n",
       " 'C:\\\\Users\\\\Amma\\\\AppData\\\\Local\\\\Programs\\\\Python\\\\Python38\\\\',\n",
       " 'C:\\\\Users\\\\Amma\\\\AppData\\\\Roaming\\\\ActiveState\\\\bin',\n",
       " 'C:\\\\Program Files (x86)\\\\ActiveState Komodo IDE 12\\\\',\n",
       " 'C:\\\\Program Files (x86)\\\\Common Files\\\\Oracle\\\\Java\\\\javapath',\n",
       " 'C:\\\\Windows\\\\system32',\n",
       " 'C:\\\\Windows',\n",
       " 'C:\\\\Windows\\\\System32\\\\Wbem',\n",
       " 'C:\\\\Windows\\\\System32\\\\WindowsPowerShell\\\\v1.0\\\\',\n",
       " 'C:\\\\Windows\\\\System32\\\\OpenSSH\\\\',\n",
       " 'C:\\\\Go\\\\bin',\n",
       " 'C:\\\\Program Files\\\\Git\\\\cmd',\n",
       " 'C:\\\\Program Files\\\\Java\\\\jdk1.8.0_241\\\\bin',\n",
       " 'C:\\\\Users\\\\Amma\\\\AppData\\\\Local\\\\Programs\\\\Microsoft VS Code\\\\bin',\n",
       " 'C:\\\\Users\\\\Amma\\\\AppData\\\\Roaming\\\\npm',\n",
       " 'C:\\\\webdrivers\\\\',\n",
       " 'C:\\\\Program Files\\\\JetBrains\\\\PyCharm 2019.3.4\\\\bin',\n",
       " '',\n",
       " 'C:\\\\elasticsearch-7.6.2\\\\bin\\\\',\n",
       " '']"
      ]
     },
     "execution_count": 12,
     "metadata": {},
     "output_type": "execute_result"
    }
   ],
   "source": [
    "os.get_exec_path()\n",
    "# Returns the list of directories that will be searched for a named executable, when launching a process."
   ]
  },
  {
   "cell_type": "code",
   "execution_count": 13,
   "metadata": {},
   "outputs": [
    {
     "data": {
      "text/plain": [
       "'Amma'"
      ]
     },
     "execution_count": 13,
     "metadata": {},
     "output_type": "execute_result"
    }
   ],
   "source": [
    "os.getlogin() # Return the name of the user logged in on the controlling terminal of the process."
   ]
  },
  {
   "cell_type": "code",
   "execution_count": 14,
   "metadata": {},
   "outputs": [],
   "source": [
    "import getpass\n",
    "\n",
    "assert getpass.getuser() == os.getlogin() == os.environ['USERNAME']  == os.getenv('USERNAME') "
   ]
  },
  {
   "cell_type": "code",
   "execution_count": 15,
   "metadata": {},
   "outputs": [
    {
     "data": {
      "text/plain": [
       "14460"
      ]
     },
     "execution_count": 15,
     "metadata": {},
     "output_type": "execute_result"
    }
   ],
   "source": [
    "os.getpid() # Return the parent’s process id. "
   ]
  },
  {
   "cell_type": "code",
   "execution_count": 16,
   "metadata": {},
   "outputs": [
    {
     "data": {
      "text/plain": [
       "'D:\\\\MEGAsync\\\\Python-related\\\\PythonMaterial\\\\python3\\\\10_Modules\\\\04_os_module'"
      ]
     },
     "execution_count": 16,
     "metadata": {},
     "output_type": "execute_result"
    }
   ],
   "source": [
    "os.getcwd()"
   ]
  },
  {
   "cell_type": "code",
   "execution_count": 17,
   "metadata": {},
   "outputs": [
    {
     "name": "stdout",
     "output_type": "stream",
     "text": [
      "my\n",
      "ewfolder\n"
     ]
    }
   ],
   "source": [
    "print('my\\newfolder')"
   ]
  },
  {
   "cell_type": "code",
   "execution_count": 18,
   "metadata": {},
   "outputs": [
    {
     "name": "stdout",
     "output_type": "stream",
     "text": [
      "my\\newfolder\n"
     ]
    }
   ],
   "source": [
    "print('my\\\\newfolder')"
   ]
  },
  {
   "cell_type": "code",
   "execution_count": 19,
   "metadata": {},
   "outputs": [
    {
     "name": "stdout",
     "output_type": "stream",
     "text": [
      "my\\newfolde\\sdas\\asd\\asd\\asd\\asdasd\\asd\\asd\n"
     ]
    }
   ],
   "source": [
    "print(r'my\\newfolde\\sdas\\asd\\asd\\asd\\asdasd\\asd\\asd')"
   ]
  },
  {
   "cell_type": "code",
   "execution_count": 20,
   "metadata": {},
   "outputs": [
    {
     "name": "stdout",
     "output_type": "stream",
     "text": [
      "my/newfol/der\n"
     ]
    }
   ],
   "source": [
    "print('my/newfol/der')"
   ]
  },
  {
   "cell_type": "code",
   "execution_count": 21,
   "metadata": {},
   "outputs": [
    {
     "name": "stdout",
     "output_type": "stream",
     "text": [
      "my\n",
      "ewfolder\n"
     ]
    }
   ],
   "source": [
    "print('my\\newfolder')"
   ]
  },
  {
   "cell_type": "code",
   "execution_count": 22,
   "metadata": {},
   "outputs": [
    {
     "name": "stdout",
     "output_type": "stream",
     "text": [
      "my\\newfolder\n"
     ]
    }
   ],
   "source": [
    "print('my\\\\newfolder')"
   ]
  },
  {
   "cell_type": "code",
   "execution_count": 23,
   "metadata": {},
   "outputs": [
    {
     "name": "stdout",
     "output_type": "stream",
     "text": [
      "my/newfolder\n"
     ]
    }
   ],
   "source": [
    "print('my/newfolder')"
   ]
  },
  {
   "cell_type": "code",
   "execution_count": 24,
   "metadata": {},
   "outputs": [
    {
     "name": "stdout",
     "output_type": "stream",
     "text": [
      "my\\newfolder\n"
     ]
    }
   ],
   "source": [
    "print(r'my\\newfolder')"
   ]
  },
  {
   "cell_type": "code",
   "execution_count": 25,
   "metadata": {},
   "outputs": [
    {
     "data": {
      "text/plain": [
       "['.idea',\n",
       " '00_Demo',\n",
       " '01_Introduction',\n",
       " '02_Basics',\n",
       " '03_Language_Components',\n",
       " '04_Exceptions',\n",
       " '05_Debugging',\n",
       " '06_Collections',\n",
       " '07_Functions',\n",
       " '08_Decorators',\n",
       " '09_Iterators_generators_coroutines',\n",
       " '10_Modules',\n",
       " '11_File_Operations',\n",
       " '12_Logging',\n",
       " '13_OOP',\n",
       " '14_Code_Quality',\n",
       " '15_Regular_Expressions',\n",
       " '16_Web_Services',\n",
       " '17_Data_science_modules',\n",
       " 'Anti_patterns',\n",
       " 'datasets',\n",
       " 'git cheat sheet.jpeg',\n",
       " 'git___commit_vs_merge_vs_Rebase.png',\n",
       " 'gotchas_n_hiddenFeatures.txt',\n",
       " 'hangman.py',\n",
       " 'http response code images',\n",
       " 'IMG_20190213_223837.jpg',\n",
       " 'jinja_templating',\n",
       " 'one_liners.py',\n",
       " 'Python Assessment Tests',\n",
       " 'python_2to3_ex.py',\n",
       " 'Python_Recommended_Material.txt',\n",
       " 'TODO.py']"
      ]
     },
     "execution_count": 25,
     "metadata": {},
     "output_type": "execute_result"
    }
   ],
   "source": [
    "os.listdir(r'D:\\MEGAsync\\Python-related\\PythonMaterial\\python3')"
   ]
  },
  {
   "cell_type": "code",
   "execution_count": 26,
   "metadata": {},
   "outputs": [
    {
     "data": {
      "text/plain": [
       "['.ipynb_checkpoints',\n",
       " '01_os_module.py',\n",
       " '02_file_ops.py',\n",
       " '03_clear_screen.py',\n",
       " '03_StopAppsShutdown.py',\n",
       " '04_scan_files.py',\n",
       " '04_scan_python_files.py',\n",
       " '05_glob_MODULE.PNG',\n",
       " '06_text_size.py',\n",
       " 'delete_pyc_files.py',\n",
       " 'display_tree_of_dirs.py',\n",
       " 'myFolder',\n",
       " 'os_module_discussion.ipynb',\n",
       " 'otherfile.tsf',\n",
       " 'scan_pdf.py',\n",
       " 'sysandos.py',\n",
       " 'txtmd5.py',\n",
       " 'workingWithFilesAndFolders.py']"
      ]
     },
     "execution_count": 26,
     "metadata": {},
     "output_type": "execute_result"
    }
   ],
   "source": [
    "os.listdir(os.getcwd())"
   ]
  },
  {
   "cell_type": "code",
   "execution_count": 27,
   "metadata": {},
   "outputs": [
    {
     "data": {
      "text/plain": [
       "os.stat_result(st_mode=16895, st_ino=281474976772791, st_dev=2631168316, st_nlink=1, st_uid=0, st_gid=0, st_size=4096, st_atime=1588014198, st_mtime=1588014198, st_ctime=1579735352)"
      ]
     },
     "execution_count": 27,
     "metadata": {},
     "output_type": "execute_result"
    }
   ],
   "source": [
    "os.lstat('.' )"
   ]
  },
  {
   "cell_type": "code",
   "execution_count": 28,
   "metadata": {},
   "outputs": [
    {
     "name": "stdout",
     "output_type": "stream",
     "text": [
      "\n",
      "    os.curdir : .\n",
      "    os.pardir : ..\n",
      "    os.sep    : \\\n",
      "    os.altsep : /\n",
      "    os.extsep : .\n",
      "    os.pathsep: ;  # ':' for POSIX or ';' for Windows\n",
      "\n"
     ]
    }
   ],
   "source": [
    "print(f'''\n",
    "    os.curdir : {os.curdir}\n",
    "    os.pardir : {os.pardir}\n",
    "    os.sep    : {os.sep}\n",
    "    os.altsep : {os.altsep}\n",
    "    os.extsep : {os.extsep}\n",
    "    os.pathsep: {os.pathsep}  # ':' for POSIX or ';' for Windows\n",
    "''')"
   ]
  },
  {
   "cell_type": "code",
   "execution_count": 29,
   "metadata": {},
   "outputs": [
    {
     "data": {
      "text/plain": [
       "'\\r\\n'"
      ]
     },
     "execution_count": 29,
     "metadata": {},
     "output_type": "execute_result"
    }
   ],
   "source": [
    "os.linesep  # '\\n' for POSIX, '\\r\\n' for Windows"
   ]
  },
  {
   "cell_type": "code",
   "execution_count": 30,
   "metadata": {},
   "outputs": [
    {
     "data": {
      "text/plain": [
       "['.ipynb_checkpoints',\n",
       " '01_os_module.py',\n",
       " '02_file_ops.py',\n",
       " '03_clear_screen.py',\n",
       " '03_StopAppsShutdown.py',\n",
       " '04_scan_files.py',\n",
       " '04_scan_python_files.py',\n",
       " '05_glob_MODULE.PNG',\n",
       " '06_text_size.py',\n",
       " 'delete_pyc_files.py',\n",
       " 'display_tree_of_dirs.py',\n",
       " 'myFolder',\n",
       " 'os_module_discussion.ipynb',\n",
       " 'otherfile.tsf',\n",
       " 'scan_pdf.py',\n",
       " 'sysandos.py',\n",
       " 'txtmd5.py',\n",
       " 'workingWithFilesAndFolders.py']"
      ]
     },
     "execution_count": 30,
     "metadata": {},
     "output_type": "execute_result"
    }
   ],
   "source": [
    "os.listdir(os.curdir)"
   ]
  },
  {
   "cell_type": "code",
   "execution_count": 31,
   "metadata": {},
   "outputs": [
    {
     "data": {
      "text/plain": [
       "['01_math',\n",
       " '02_sys',\n",
       " '03_argparse',\n",
       " '04_os_module',\n",
       " '05_shutil',\n",
       " '06_subprocess',\n",
       " '07_getpass',\n",
       " '08_time_related',\n",
       " '09_random',\n",
       " '10_collections_module',\n",
       " '11_pyttsx3',\n",
       " '12_qr_code_generation',\n",
       " '13_console_coloring',\n",
       " '14_turtle_module',\n",
       " '15_reportlab',\n",
       " '16_multiprocessing',\n",
       " 'ast_module_ex.py',\n",
       " 'base64_ex.py',\n",
       " 'bytearraydemo.py',\n",
       " 'contextlib_ex.py',\n",
       " 'DisplayProgressBar.py',\n",
       " 'memcach_ex.py',\n",
       " 'nltk_module',\n",
       " 'Parallel_Processing',\n",
       " 'parse_ex.py',\n",
       " 'sched_basic.py',\n",
       " 'socket_programming',\n",
       " 'spacy_module',\n",
       " 'tqdm_ex.py',\n",
       " 'user_defined_modules',\n",
       " 'uuid_module.py']"
      ]
     },
     "execution_count": 31,
     "metadata": {},
     "output_type": "execute_result"
    }
   ],
   "source": [
    "os.listdir(os.pardir)"
   ]
  },
  {
   "cell_type": "code",
   "execution_count": 32,
   "metadata": {},
   "outputs": [
    {
     "data": {
      "text/plain": [
       "['.ipynb_checkpoints',\n",
       " '01_os_module.py',\n",
       " '02_file_ops.py',\n",
       " '03_clear_screen.py',\n",
       " '03_StopAppsShutdown.py',\n",
       " '04_scan_files.py',\n",
       " '04_scan_python_files.py',\n",
       " '05_glob_MODULE.PNG',\n",
       " '06_text_size.py',\n",
       " 'delete_pyc_files.py',\n",
       " 'display_tree_of_dirs.py',\n",
       " 'myFolder',\n",
       " 'os_module_discussion.ipynb',\n",
       " 'otherfile.tsf',\n",
       " 'scan_pdf.py',\n",
       " 'sysandos.py',\n",
       " 'txtmd5.py',\n",
       " 'workingWithFilesAndFolders.py']"
      ]
     },
     "execution_count": 32,
     "metadata": {},
     "output_type": "execute_result"
    }
   ],
   "source": [
    "os.listdir('.')"
   ]
  },
  {
   "cell_type": "code",
   "execution_count": 33,
   "metadata": {},
   "outputs": [
    {
     "data": {
      "text/plain": [
       "['01_math',\n",
       " '02_sys',\n",
       " '03_argparse',\n",
       " '04_os_module',\n",
       " '05_shutil',\n",
       " '06_subprocess',\n",
       " '07_getpass',\n",
       " '08_time_related',\n",
       " '09_random',\n",
       " '10_collections_module',\n",
       " '11_pyttsx3',\n",
       " '12_qr_code_generation',\n",
       " '13_console_coloring',\n",
       " '14_turtle_module',\n",
       " '15_reportlab',\n",
       " '16_multiprocessing',\n",
       " 'ast_module_ex.py',\n",
       " 'base64_ex.py',\n",
       " 'bytearraydemo.py',\n",
       " 'contextlib_ex.py',\n",
       " 'DisplayProgressBar.py',\n",
       " 'memcach_ex.py',\n",
       " 'nltk_module',\n",
       " 'Parallel_Processing',\n",
       " 'parse_ex.py',\n",
       " 'sched_basic.py',\n",
       " 'socket_programming',\n",
       " 'spacy_module',\n",
       " 'tqdm_ex.py',\n",
       " 'user_defined_modules',\n",
       " 'uuid_module.py']"
      ]
     },
     "execution_count": 33,
     "metadata": {},
     "output_type": "execute_result"
    }
   ],
   "source": [
    "os.listdir('..')"
   ]
  },
  {
   "cell_type": "code",
   "execution_count": 34,
   "metadata": {},
   "outputs": [
    {
     "data": {
      "text/plain": [
       "['.idea',\n",
       " '00_Demo',\n",
       " '01_Introduction',\n",
       " '02_Basics',\n",
       " '03_Language_Components',\n",
       " '04_Exceptions',\n",
       " '05_Debugging',\n",
       " '06_Collections',\n",
       " '07_Functions',\n",
       " '08_Decorators',\n",
       " '09_Iterators_generators_coroutines',\n",
       " '10_Modules',\n",
       " '11_File_Operations',\n",
       " '12_Logging',\n",
       " '13_OOP',\n",
       " '14_Code_Quality',\n",
       " '15_Regular_Expressions',\n",
       " '16_Web_Services',\n",
       " '17_Data_science_modules',\n",
       " 'Anti_patterns',\n",
       " 'datasets',\n",
       " 'git cheat sheet.jpeg',\n",
       " 'git___commit_vs_merge_vs_Rebase.png',\n",
       " 'gotchas_n_hiddenFeatures.txt',\n",
       " 'hangman.py',\n",
       " 'http response code images',\n",
       " 'IMG_20190213_223837.jpg',\n",
       " 'jinja_templating',\n",
       " 'one_liners.py',\n",
       " 'Python Assessment Tests',\n",
       " 'python_2to3_ex.py',\n",
       " 'Python_Recommended_Material.txt',\n",
       " 'TODO.py']"
      ]
     },
     "execution_count": 34,
     "metadata": {},
     "output_type": "execute_result"
    }
   ],
   "source": [
    "os.listdir('../..')"
   ]
  },
  {
   "cell_type": "code",
   "execution_count": 35,
   "metadata": {},
   "outputs": [
    {
     "data": {
      "text/plain": [
       "'D:\\\\MEGAsync\\\\Python-related\\\\PythonMaterial\\\\python3\\\\10_Modules\\\\04_os_module'"
      ]
     },
     "execution_count": 35,
     "metadata": {},
     "output_type": "execute_result"
    }
   ],
   "source": [
    "os.getcwd()"
   ]
  },
  {
   "cell_type": "code",
   "execution_count": 36,
   "metadata": {},
   "outputs": [],
   "source": [
    "os.chdir('.')"
   ]
  },
  {
   "cell_type": "code",
   "execution_count": 37,
   "metadata": {},
   "outputs": [
    {
     "data": {
      "text/plain": [
       "'D:\\\\MEGAsync\\\\Python-related\\\\PythonMaterial\\\\python3\\\\10_Modules\\\\04_os_module'"
      ]
     },
     "execution_count": 37,
     "metadata": {},
     "output_type": "execute_result"
    }
   ],
   "source": [
    "os.getcwd()"
   ]
  },
  {
   "cell_type": "code",
   "execution_count": 38,
   "metadata": {},
   "outputs": [],
   "source": [
    "os.chdir('..')"
   ]
  },
  {
   "cell_type": "code",
   "execution_count": 39,
   "metadata": {},
   "outputs": [
    {
     "data": {
      "text/plain": [
       "'D:\\\\MEGAsync\\\\Python-related\\\\PythonMaterial\\\\python3\\\\10_Modules'"
      ]
     },
     "execution_count": 39,
     "metadata": {},
     "output_type": "execute_result"
    }
   ],
   "source": [
    "os.getcwd()"
   ]
  },
  {
   "cell_type": "code",
   "execution_count": 40,
   "metadata": {},
   "outputs": [],
   "source": [
    "os.chdir('..\\..\\..')"
   ]
  },
  {
   "cell_type": "code",
   "execution_count": 41,
   "metadata": {},
   "outputs": [
    {
     "data": {
      "text/plain": [
       "'D:\\\\MEGAsync\\\\Python-related'"
      ]
     },
     "execution_count": 41,
     "metadata": {},
     "output_type": "execute_result"
    }
   ],
   "source": [
    "os.getcwd()"
   ]
  },
  {
   "cell_type": "code",
   "execution_count": 42,
   "metadata": {},
   "outputs": [],
   "source": [
    "os.chdir(os.pardir)"
   ]
  },
  {
   "cell_type": "code",
   "execution_count": 43,
   "metadata": {},
   "outputs": [
    {
     "data": {
      "text/plain": [
       "'D:\\\\MEGAsync'"
      ]
     },
     "execution_count": 43,
     "metadata": {},
     "output_type": "execute_result"
    }
   ],
   "source": [
    "os.getcwd()"
   ]
  },
  {
   "cell_type": "code",
   "execution_count": 44,
   "metadata": {},
   "outputs": [],
   "source": [
    "os.chdir('D:\\\\MEGAsync\\\\Python-related\\\\PythonMaterial\\\\python3\\\\10_Modules\\\\04_os_module')"
   ]
  },
  {
   "cell_type": "code",
   "execution_count": 45,
   "metadata": {},
   "outputs": [
    {
     "data": {
      "text/plain": [
       "'D:\\\\MEGAsync\\\\Python-related\\\\PythonMaterial\\\\python3\\\\10_Modules\\\\04_os_module'"
      ]
     },
     "execution_count": 45,
     "metadata": {},
     "output_type": "execute_result"
    }
   ],
   "source": [
    "os.getcwd()"
   ]
  },
  {
   "cell_type": "markdown",
   "metadata": {},
   "source": [
    "creating directories"
   ]
  },
  {
   "cell_type": "code",
   "execution_count": 46,
   "metadata": {},
   "outputs": [
    {
     "ename": "FileExistsError",
     "evalue": "[WinError 183] Cannot create a file when that file already exists: 'myFolder'",
     "output_type": "error",
     "traceback": [
      "\u001b[1;31m---------------------------------------------------------------------------\u001b[0m",
      "\u001b[1;31mFileExistsError\u001b[0m                           Traceback (most recent call last)",
      "\u001b[1;32m<ipython-input-46-1839ddd36b91>\u001b[0m in \u001b[0;36m<module>\u001b[1;34m\u001b[0m\n\u001b[1;32m----> 1\u001b[1;33m \u001b[0mos\u001b[0m\u001b[1;33m.\u001b[0m\u001b[0mmkdir\u001b[0m\u001b[1;33m(\u001b[0m\u001b[1;34m'myFolder'\u001b[0m\u001b[1;33m)\u001b[0m\u001b[1;33m\u001b[0m\u001b[1;33m\u001b[0m\u001b[0m\n\u001b[0m",
      "\u001b[1;31mFileExistsError\u001b[0m: [WinError 183] Cannot create a file when that file already exists: 'myFolder'"
     ]
    }
   ],
   "source": [
    "os.mkdir('myFolder')"
   ]
  },
  {
   "cell_type": "code",
   "execution_count": null,
   "metadata": {},
   "outputs": [],
   "source": [
    "os.listdir('.')"
   ]
  },
  {
   "cell_type": "code",
   "execution_count": null,
   "metadata": {},
   "outputs": [],
   "source": [
    "os.makedirs('First/second/third')"
   ]
  },
  {
   "cell_type": "code",
   "execution_count": null,
   "metadata": {},
   "outputs": [],
   "source": [
    "# creating a file\n",
    "f = open('myfile.txt', 'w')\n",
    "f.write('my data')\n",
    "f.close()"
   ]
  },
  {
   "cell_type": "code",
   "execution_count": null,
   "metadata": {},
   "outputs": [],
   "source": [
    "os.listdir('.')"
   ]
  },
  {
   "cell_type": "code",
   "execution_count": null,
   "metadata": {},
   "outputs": [],
   "source": [
    "os.rename('myfile.txt', 'otherfile.tsf')"
   ]
  },
  {
   "cell_type": "code",
   "execution_count": null,
   "metadata": {},
   "outputs": [],
   "source": [
    "os.listdir('.')"
   ]
  },
  {
   "cell_type": "code",
   "execution_count": null,
   "metadata": {},
   "outputs": [],
   "source": [
    "os.rename('First', 'PythonFolder')"
   ]
  },
  {
   "cell_type": "code",
   "execution_count": null,
   "metadata": {},
   "outputs": [],
   "source": [
    "os.listdir('.')"
   ]
  },
  {
   "cell_type": "code",
   "execution_count": null,
   "metadata": {},
   "outputs": [],
   "source": [
    "os.remove('myFolder')"
   ]
  },
  {
   "cell_type": "code",
   "execution_count": null,
   "metadata": {},
   "outputs": [],
   "source": [
    "os.system('ipconfig')"
   ]
  },
  {
   "cell_type": "code",
   "execution_count": null,
   "metadata": {},
   "outputs": [],
   "source": [
    "os.system('ipconfig111')"
   ]
  },
  {
   "cell_type": "markdown",
   "metadata": {},
   "source": [
    "#### Get all the python files in our material "
   ]
  },
  {
   "cell_type": "code",
   "execution_count": null,
   "metadata": {},
   "outputs": [],
   "source": [
    "os.getcwd()"
   ]
  },
  {
   "cell_type": "code",
   "execution_count": null,
   "metadata": {},
   "outputs": [],
   "source": [
    "os.chdir('C:\\\\Users\\\\udhayPrakash\\\\Desktop\\\\PythonMaterial\\\\python3')"
   ]
  },
  {
   "cell_type": "code",
   "execution_count": null,
   "metadata": {},
   "outputs": [],
   "source": [
    "os.getcwd()"
   ]
  },
  {
   "cell_type": "code",
   "execution_count": null,
   "metadata": {},
   "outputs": [],
   "source": [
    "os.listdir('.')"
   ]
  },
  {
   "cell_type": "code",
   "execution_count": null,
   "metadata": {},
   "outputs": [],
   "source": [
    "os.walk('.')"
   ]
  },
  {
   "cell_type": "code",
   "execution_count": null,
   "metadata": {},
   "outputs": [],
   "source": [
    "for each in os.walk('.'):\n",
    "    print(len(each), each)\n",
    "    break\n",
    "    "
   ]
  },
  {
   "cell_type": "code",
   "execution_count": null,
   "metadata": {},
   "outputs": [],
   "source": [
    "for each_dir, each_2, each_3 in os.walk('.'):\n",
    "    print(each_dir)\n",
    "#     break\n",
    "    "
   ]
  },
  {
   "cell_type": "code",
   "execution_count": null,
   "metadata": {},
   "outputs": [],
   "source": [
    "for each_dir, dirs, each_3 in os.walk('.'):\n",
    "    print(dirs)\n",
    "#     break"
   ]
  },
  {
   "cell_type": "code",
   "execution_count": null,
   "metadata": {},
   "outputs": [],
   "source": [
    "for each_dir, dirs, files in os.walk('.'):\n",
    "    print(each_3)\n",
    "    break"
   ]
  },
  {
   "cell_type": "code",
   "execution_count": null,
   "metadata": {},
   "outputs": [],
   "source": [
    "py_files = []\n",
    "juypter_notebook_files = []\n",
    "for each_dir, dirs, files in os.walk('.'):\n",
    "    for each_file in files:\n",
    "        file_name, file_extn = os.path.splitext(each_file)\n",
    "        if file_extn == '.py':\n",
    "            py_files.append(each_file)\n",
    "        elif file_extn == '.ipynb':\n",
    "            juypter_notebook_files.append(each_file)\n",
    "            \n",
    "print(f'In this course, there are {len(py_files)} python files & {len(juypter_notebook_files)} jupyter notebook files')"
   ]
  },
  {
   "cell_type": "markdown",
   "metadata": {},
   "source": [
    "Working with paths"
   ]
  },
  {
   "cell_type": "code",
   "execution_count": null,
   "metadata": {},
   "outputs": [],
   "source": [
    "os.path.basename(\"/home/user/temp.txt\")"
   ]
  },
  {
   "cell_type": "code",
   "execution_count": null,
   "metadata": {},
   "outputs": [],
   "source": [
    "os.path.dirname(\"/home/user/temp.txt\")"
   ]
  },
  {
   "cell_type": "code",
   "execution_count": null,
   "metadata": {},
   "outputs": [],
   "source": [
    "os.path.abspath('temp.txt')"
   ]
  },
  {
   "cell_type": "code",
   "execution_count": null,
   "metadata": {},
   "outputs": [],
   "source": [
    "os.path.realpath(\"/home/user/temp.txt\")"
   ]
  },
  {
   "cell_type": "code",
   "execution_count": null,
   "metadata": {},
   "outputs": [],
   "source": [
    "os.path.splitext(\"/home/user/temp.log\")"
   ]
  },
  {
   "cell_type": "code",
   "execution_count": null,
   "metadata": {},
   "outputs": [],
   "source": [
    "os.path.splitext(\"temp.log\")"
   ]
  },
  {
   "cell_type": "code",
   "execution_count": null,
   "metadata": {},
   "outputs": [],
   "source": [
    "os.path.splitdrive(\"/home/user/temp.txt\")"
   ]
  },
  {
   "cell_type": "code",
   "execution_count": null,
   "metadata": {},
   "outputs": [],
   "source": [
    "os.path.splitdrive(\"c:/home/user/temp.txt\")"
   ]
  },
  {
   "cell_type": "code",
   "execution_count": null,
   "metadata": {},
   "outputs": [],
   "source": [
    "os.path.extsep"
   ]
  },
  {
   "cell_type": "code",
   "execution_count": null,
   "metadata": {},
   "outputs": [],
   "source": [
    "import sys\n",
    "\n",
    "if sys.platform == 'win32':\n",
    "    path_joiner = '\\\\'\n",
    "else:\n",
    "    path_joiner = '/'\n",
    "\n",
    "print(path_joiner, os.sep)"
   ]
  },
  {
   "cell_type": "code",
   "execution_count": null,
   "metadata": {},
   "outputs": [],
   "source": [
    "assert path_joiner == os.sep"
   ]
  },
  {
   "cell_type": "code",
   "execution_count": null,
   "metadata": {},
   "outputs": [],
   "source": [
    "os.path.join('css', 'america')"
   ]
  },
  {
   "cell_type": "code",
   "execution_count": null,
   "metadata": {},
   "outputs": [],
   "source": [
    "os.path.join('css', 'america', 'asdas', 'sad', 'dfgd')"
   ]
  },
  {
   "cell_type": "code",
   "execution_count": null,
   "metadata": {},
   "outputs": [],
   "source": [
    "'\\\\'.join(('css', 'america', 'asdas', 'sad', 'dfgd'))"
   ]
  },
  {
   "cell_type": "code",
   "execution_count": null,
   "metadata": {},
   "outputs": [],
   "source": [
    "(os.sep).join(('css', 'america', 'asdas', 'sad', 'dfgd'))"
   ]
  },
  {
   "cell_type": "code",
   "execution_count": null,
   "metadata": {},
   "outputs": [],
   "source": [
    "assert os.path.join('css', 'america', 'asdas', 'sad', 'dfgd') == (os.sep).join(('css', 'america', 'asdas', 'sad', 'dfgd'))"
   ]
  },
  {
   "cell_type": "code",
   "execution_count": null,
   "metadata": {},
   "outputs": [],
   "source": [
    "new_path = os.path.join('css', 'america', 'asdas', 'sad', 'dfgd')\n",
    "new_path"
   ]
  },
  {
   "cell_type": "code",
   "execution_count": null,
   "metadata": {},
   "outputs": [],
   "source": [
    "os.path.exists(new_path)"
   ]
  },
  {
   "cell_type": "code",
   "execution_count": null,
   "metadata": {},
   "outputs": [],
   "source": [
    "os.listdir('.')"
   ]
  },
  {
   "cell_type": "code",
   "execution_count": null,
   "metadata": {},
   "outputs": [],
   "source": [
    "os.path.getsize('git cheat sheet.jpeg')"
   ]
  },
  {
   "cell_type": "code",
   "execution_count": null,
   "metadata": {},
   "outputs": [],
   "source": [
    "os.stat('git cheat sheet.jpeg')"
   ]
  },
  {
   "cell_type": "code",
   "execution_count": null,
   "metadata": {},
   "outputs": [],
   "source": [
    "os.stat('git cheat sheet.jpeg').st_mtime"
   ]
  },
  {
   "cell_type": "code",
   "execution_count": null,
   "metadata": {},
   "outputs": [],
   "source": [
    "# Epoch time - 1970 jan 1st 00:00:00"
   ]
  },
  {
   "cell_type": "code",
   "execution_count": null,
   "metadata": {},
   "outputs": [],
   "source": [
    "os.remove"
   ]
  },
  {
   "cell_type": "code",
   "execution_count": null,
   "metadata": {},
   "outputs": [],
   "source": [
    "os.removedirs('foo/bar/baz')\n",
    "# first removes 'foo/bar/baz', then 'foo/bar' and then 'foo'"
   ]
  },
  {
   "cell_type": "code",
   "execution_count": null,
   "metadata": {},
   "outputs": [],
   "source": [
    "os.rename(src, dst)"
   ]
  },
  {
   "cell_type": "code",
   "execution_count": null,
   "metadata": {},
   "outputs": [],
   "source": [
    "os.renames"
   ]
  },
  {
   "cell_type": "code",
   "execution_count": null,
   "metadata": {},
   "outputs": [],
   "source": [
    "os.replace"
   ]
  },
  {
   "cell_type": "code",
   "execution_count": null,
   "metadata": {},
   "outputs": [],
   "source": [
    "os.rmdir(path)"
   ]
  },
  {
   "cell_type": "code",
   "execution_count": null,
   "metadata": {},
   "outputs": [],
   "source": [
    "os.scandir() # Using scandir() instead of listdir() can significantly increase the performance of code"
   ]
  },
  {
   "cell_type": "code",
   "execution_count": null,
   "metadata": {},
   "outputs": [],
   "source": [
    "list(os.scandir())"
   ]
  },
  {
   "cell_type": "code",
   "execution_count": null,
   "metadata": {},
   "outputs": [],
   "source": [
    "os.DirEntry"
   ]
  },
  {
   "cell_type": "code",
   "execution_count": null,
   "metadata": {},
   "outputs": [],
   "source": [
    "os.DirEntry.name"
   ]
  },
  {
   "cell_type": "code",
   "execution_count": null,
   "metadata": {},
   "outputs": [],
   "source": [
    "os.DirEntry.path"
   ]
  },
  {
   "cell_type": "code",
   "execution_count": null,
   "metadata": {},
   "outputs": [],
   "source": [
    "os.stat('.')"
   ]
  },
  {
   "cell_type": "code",
   "execution_count": null,
   "metadata": {},
   "outputs": [],
   "source": [
    "stat_info = os.stat('os_module_discussion.ipynb')\n",
    "\n",
    "stat_info"
   ]
  },
  {
   "cell_type": "code",
   "execution_count": null,
   "metadata": {},
   "outputs": [],
   "source": [
    "stat_info.st_size"
   ]
  },
  {
   "cell_type": "code",
   "execution_count": null,
   "metadata": {},
   "outputs": [],
   "source": [
    "os.walk(top, topdown=True, onerror=None, followlinks=False)"
   ]
  },
  {
   "cell_type": "markdown",
   "metadata": {},
   "source": [
    "os.times\n",
    "\n",
    "    user            - user time\n",
    "    system          - system time\n",
    "    children_user   - user time of all child processes\n",
    "    children_system - system time of all child processes\n",
    "    elapsed         - elapsed real time since a fixed point in the past"
   ]
  },
  {
   "cell_type": "code",
   "execution_count": null,
   "metadata": {},
   "outputs": [],
   "source": [
    "os.times()"
   ]
  },
  {
   "cell_type": "code",
   "execution_count": null,
   "metadata": {},
   "outputs": [],
   "source": [
    "os.defpath"
   ]
  },
  {
   "cell_type": "code",
   "execution_count": null,
   "metadata": {},
   "outputs": [],
   "source": [
    "os.devnull # The file path of the null device. For example: '/dev/null' for POSIX, 'nul' for Windows"
   ]
  },
  {
   "cell_type": "code",
   "execution_count": null,
   "metadata": {},
   "outputs": [],
   "source": [
    "os.system"
   ]
  }
 ],
 "metadata": {
  "kernelspec": {
   "display_name": "Python 3",
   "language": "python",
   "name": "python3"
  },
  "language_info": {
   "codemirror_mode": {
    "name": "ipython",
    "version": 3
   },
   "file_extension": ".py",
   "mimetype": "text/x-python",
   "name": "python",
   "nbconvert_exporter": "python",
   "pygments_lexer": "ipython3",
   "version": "3.8.2"
  }
 },
 "nbformat": 4,
 "nbformat_minor": 2
}
