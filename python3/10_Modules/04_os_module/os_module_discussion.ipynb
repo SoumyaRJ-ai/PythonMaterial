{
 "cells": [
  {
   "cell_type": "code",
   "execution_count": 1,
   "metadata": {},
   "outputs": [],
   "source": [
    "import os"
   ]
  },
  {
   "cell_type": "code",
   "execution_count": 2,
   "metadata": {},
   "outputs": [
    {
     "name": "stdout",
     "output_type": "stream",
     "text": [
      "['DirEntry', 'F_OK', 'MutableMapping', 'O_APPEND', 'O_BINARY', 'O_CREAT', 'O_EXCL', 'O_NOINHERIT', 'O_RANDOM', 'O_RDONLY', 'O_RDWR', 'O_SEQUENTIAL', 'O_SHORT_LIVED', 'O_TEMPORARY', 'O_TEXT', 'O_TRUNC', 'O_WRONLY', 'P_DETACH', 'P_NOWAIT', 'P_NOWAITO', 'P_OVERLAY', 'P_WAIT', 'PathLike', 'R_OK', 'SEEK_CUR', 'SEEK_END', 'SEEK_SET', 'TMP_MAX', 'W_OK', 'X_OK', '_AddedDllDirectory', '_Environ', '__all__', '__builtins__', '__cached__', '__doc__', '__file__', '__loader__', '__name__', '__package__', '__spec__', '_check_methods', '_execvpe', '_exists', '_exit', '_fspath', '_get_exports_list', '_putenv', '_unsetenv', '_wrap_close', 'abc', 'abort', 'access', 'add_dll_directory', 'altsep', 'chdir', 'chmod', 'close', 'closerange', 'cpu_count', 'curdir', 'defpath', 'device_encoding', 'devnull', 'dup', 'dup2', 'environ', 'error', 'execl', 'execle', 'execlp', 'execlpe', 'execv', 'execve', 'execvp', 'execvpe', 'extsep', 'fdopen', 'fsdecode', 'fsencode', 'fspath', 'fstat', 'fsync', 'ftruncate', 'get_exec_path', 'get_handle_inheritable', 'get_inheritable', 'get_terminal_size', 'getcwd', 'getcwdb', 'getenv', 'getlogin', 'getpid', 'getppid', 'isatty', 'kill', 'linesep', 'link', 'listdir', 'lseek', 'lstat', 'makedirs', 'mkdir', 'name', 'open', 'pardir', 'path', 'pathsep', 'pipe', 'popen', 'putenv', 'read', 'readlink', 'remove', 'removedirs', 'rename', 'renames', 'replace', 'rmdir', 'scandir', 'sep', 'set_handle_inheritable', 'set_inheritable', 'spawnl', 'spawnle', 'spawnv', 'spawnve', 'st', 'startfile', 'stat', 'stat_result', 'statvfs_result', 'strerror', 'supports_bytes_environ', 'supports_dir_fd', 'supports_effective_ids', 'supports_fd', 'supports_follow_symlinks', 'symlink', 'sys', 'system', 'terminal_size', 'times', 'times_result', 'truncate', 'umask', 'uname_result', 'unlink', 'urandom', 'utime', 'waitpid', 'walk', 'write']\n"
     ]
    }
   ],
   "source": [
    "print(dir(os))"
   ]
  },
  {
   "cell_type": "code",
   "execution_count": 3,
   "metadata": {},
   "outputs": [
    {
     "data": {
      "text/plain": [
       "b'\\x8e\\r\\xfcKC\\xe0\\x93\\xf4\\xa4 '"
      ]
     },
     "execution_count": 3,
     "metadata": {},
     "output_type": "execute_result"
    }
   ],
   "source": [
    "os.urandom(10)"
   ]
  },
  {
   "cell_type": "code",
   "execution_count": 4,
   "metadata": {},
   "outputs": [
    {
     "name": "stdout",
     "output_type": "stream",
     "text": [
      "b''\n",
      "b'#'\n",
      "b'\\xa0\\x8b'\n",
      "b'\\xf5\\xa8\\xac'\n",
      "b'\\x18u\\x84\\xab'\n",
      "b'4|\\xfa*\\x8e'\n",
      "b'n]\\xa4\\x94\\xa0\\xb4'\n",
      "b'\\xa15Q\\x9f\\x874\\x98'\n",
      "b'\\xc0\\x1fw\\xb18\\xb7\\xde\\xf6'\n"
     ]
    }
   ],
   "source": [
    "for i in range(9):\n",
    "    print(os.urandom(i))"
   ]
  },
  {
   "cell_type": "code",
   "execution_count": 5,
   "metadata": {},
   "outputs": [
    {
     "data": {
      "text/plain": [
       "'nt'"
      ]
     },
     "execution_count": 5,
     "metadata": {},
     "output_type": "execute_result"
    }
   ],
   "source": [
    "os.name\n",
    "# The name of the operating system dependent module imported. \n",
    "# The following names have currently been registered: 'posix', 'nt', 'java'."
   ]
  },
  {
   "cell_type": "code",
   "execution_count": 6,
   "metadata": {},
   "outputs": [
    {
     "name": "stdout",
     "output_type": "stream",
     "text": [
      "\n",
      "os.environ['OS']                    : Windows_NT\n",
      "os.environ['PROCESSOR_ARCHITECTURE']: AMD64\n",
      "os.environ['PROCESSOR_IDENTIFIER']  : Intel64 Family 6 Model 142 Stepping 12, GenuineIntel\n",
      "os.environ['PROCESSOR_LEVEL']       : 6\n",
      "\n",
      "\n",
      "os.environ['PYTHON_PATH']           : C:\\Users\\Amma\\AppData\\Local\\Programs\\Python\\Python37\n",
      "\n",
      "os.environ['TEMP']                  : C:\\Users\\Amma\\AppData\\Local\\Temp\n",
      "os.environ['TMP']                   : C:\\Users\\Amma\\AppData\\Local\\Temp\n",
      "\n",
      "os.environ['COMPUTERNAME']          : LAPTOP-5GJT9887\n",
      "os.environ['HOMEDRIVE']             : C:\n",
      "os.environ['USERNAME']              : Amma\n",
      "os.environ['USERDOMAIN']            : LAPTOP-5GJT9887\n",
      "\n"
     ]
    }
   ],
   "source": [
    "print(f\"\"\"\n",
    "os.environ['OS']                    : {os.environ['OS']}\n",
    "os.environ['PROCESSOR_ARCHITECTURE']: {os.environ['PROCESSOR_ARCHITECTURE']}\n",
    "os.environ['PROCESSOR_IDENTIFIER']  : {os.environ['PROCESSOR_IDENTIFIER']}\n",
    "os.environ['PROCESSOR_LEVEL']       : {os.environ['PROCESSOR_LEVEL']}\n",
    "\n",
    "\n",
    "os.environ['PYTHON_PATH']           : {os.environ['PYTHON_PATH']}\n",
    "\n",
    "os.environ['TEMP']                  : {os.environ['TEMP']}\n",
    "os.environ['TMP']                   : {os.environ['TMP']}\n",
    "\n",
    "os.environ['COMPUTERNAME']          : {os.environ['COMPUTERNAME']}\n",
    "os.environ['HOMEDRIVE']             : {os.environ['HOMEDRIVE']}\n",
    "os.environ['USERNAME']              : {os.environ['USERNAME']}\n",
    "os.environ['USERDOMAIN']            : {os.environ['USERDOMAIN']}\n",
    "\"\"\")"
   ]
  },
  {
   "cell_type": "code",
   "execution_count": 7,
   "metadata": {},
   "outputs": [
    {
     "data": {
      "text/plain": [
       "'C:\\\\Users\\\\Amma\\\\AppData\\\\Local\\\\Temp'"
      ]
     },
     "execution_count": 7,
     "metadata": {},
     "output_type": "execute_result"
    }
   ],
   "source": [
    "os.getenv('TEMP')"
   ]
  },
  {
   "cell_type": "markdown",
   "metadata": {},
   "source": [
    "Adding new environment variable"
   ]
  },
  {
   "cell_type": "code",
   "execution_count": 8,
   "metadata": {},
   "outputs": [],
   "source": [
    "os.putenv('A',  'Apple') # wont change the "
   ]
  },
  {
   "cell_type": "code",
   "execution_count": 9,
   "metadata": {},
   "outputs": [
    {
     "data": {
      "text/plain": [
       "'No such key'"
      ]
     },
     "execution_count": 9,
     "metadata": {},
     "output_type": "execute_result"
    }
   ],
   "source": [
    "os.getenv('A', 'No such key')"
   ]
  },
  {
   "cell_type": "code",
   "execution_count": 10,
   "metadata": {},
   "outputs": [],
   "source": [
    "os.environ['A'] = 'Apple' # modifies environment variables"
   ]
  },
  {
   "cell_type": "code",
   "execution_count": 11,
   "metadata": {},
   "outputs": [
    {
     "data": {
      "text/plain": [
       "'Apple'"
      ]
     },
     "execution_count": 11,
     "metadata": {},
     "output_type": "execute_result"
    }
   ],
   "source": [
    "os.getenv('A', 'No such key')"
   ]
  },
  {
   "cell_type": "code",
   "execution_count": 12,
   "metadata": {},
   "outputs": [
    {
     "data": {
      "text/plain": [
       "['C:\\\\Program Files (x86)\\\\Common Files\\\\Oracle\\\\Java\\\\javapath',\n",
       " 'C:\\\\Program Files (x86)\\\\ActiveState Komodo IDE 12\\\\',\n",
       " 'C:\\\\Windows\\\\system32',\n",
       " 'C:\\\\Windows',\n",
       " 'C:\\\\Windows\\\\System32\\\\Wbem',\n",
       " 'C:\\\\Windows\\\\System32\\\\WindowsPowerShell\\\\v1.0\\\\',\n",
       " 'C:\\\\Windows\\\\System32\\\\OpenSSH\\\\',\n",
       " 'C:\\\\Go\\\\bin',\n",
       " 'C:\\\\Program Files\\\\Java\\\\jdk-11\\\\bin',\n",
       " 'C:\\\\spark-2.4.4-bin-hadoop2.7\\\\bin',\n",
       " 'C:\\\\ProgramData\\\\chocolatey\\\\bin',\n",
       " 'C:\\\\Program Files\\\\nodejs\\\\',\n",
       " 'C:\\\\Program Files\\\\Git\\\\cmd',\n",
       " 'C:\\\\Program Files\\\\Java\\\\jdk1.8.0_211\\\\bin',\n",
       " 'C:\\\\Users\\\\Amma\\\\AppData\\\\Local\\\\Programs\\\\Python\\\\Python38\\\\Scripts\\\\',\n",
       " 'C:\\\\Users\\\\Amma\\\\AppData\\\\Local\\\\Programs\\\\Python\\\\Python38\\\\',\n",
       " 'C:\\\\Users\\\\Amma\\\\AppData\\\\Roaming\\\\ActiveState\\\\bin',\n",
       " 'C:\\\\Program Files (x86)\\\\ActiveState Komodo IDE 12\\\\',\n",
       " 'C:\\\\Program Files (x86)\\\\Common Files\\\\Oracle\\\\Java\\\\javapath',\n",
       " 'C:\\\\Windows\\\\system32',\n",
       " 'C:\\\\Windows',\n",
       " 'C:\\\\Windows\\\\System32\\\\Wbem',\n",
       " 'C:\\\\Windows\\\\System32\\\\WindowsPowerShell\\\\v1.0\\\\',\n",
       " 'C:\\\\Windows\\\\System32\\\\OpenSSH\\\\',\n",
       " 'C:\\\\Go\\\\bin',\n",
       " 'C:\\\\Program Files\\\\Git\\\\cmd',\n",
       " 'C:\\\\Program Files\\\\Java\\\\jdk1.8.0_241\\\\bin',\n",
       " 'C:\\\\Users\\\\Amma\\\\AppData\\\\Local\\\\Programs\\\\Microsoft VS Code\\\\bin',\n",
       " 'C:\\\\Users\\\\Amma\\\\AppData\\\\Roaming\\\\npm',\n",
       " 'C:\\\\webdrivers\\\\',\n",
       " 'C:\\\\Program Files\\\\JetBrains\\\\PyCharm 2019.3.4\\\\bin',\n",
       " '',\n",
       " 'C:\\\\elasticsearch-7.6.2\\\\bin\\\\',\n",
       " '']"
      ]
     },
     "execution_count": 12,
     "metadata": {},
     "output_type": "execute_result"
    }
   ],
   "source": [
    "os.get_exec_path()\n",
    "# Returns the list of directories that will be searched for a named executable, when launching a process."
   ]
  },
  {
   "cell_type": "code",
   "execution_count": 13,
   "metadata": {},
   "outputs": [
    {
     "data": {
      "text/plain": [
       "'Amma'"
      ]
     },
     "execution_count": 13,
     "metadata": {},
     "output_type": "execute_result"
    }
   ],
   "source": [
    "os.getlogin() # Return the name of the user logged in on the controlling terminal of the process."
   ]
  },
  {
   "cell_type": "code",
   "execution_count": 14,
   "metadata": {},
   "outputs": [],
   "source": [
    "import getpass\n",
    "\n",
    "assert getpass.getuser() == os.getlogin() == os.environ['USERNAME']  == os.getenv('USERNAME') "
   ]
  },
  {
   "cell_type": "code",
   "execution_count": 15,
   "metadata": {},
   "outputs": [
    {
     "data": {
      "text/plain": [
       "17484"
      ]
     },
     "execution_count": 15,
     "metadata": {},
     "output_type": "execute_result"
    }
   ],
   "source": [
    "os.getpid() # Return the parent’s process id. "
   ]
  },
  {
   "cell_type": "code",
   "execution_count": 16,
   "metadata": {},
   "outputs": [
    {
     "data": {
      "text/plain": [
       "'D:\\\\MEGAsync\\\\Python-related\\\\PythonMaterial\\\\python3\\\\10_Modules\\\\04_os_module'"
      ]
     },
     "execution_count": 16,
     "metadata": {},
     "output_type": "execute_result"
    }
   ],
   "source": [
    "os.getcwd()"
   ]
  },
  {
   "cell_type": "code",
   "execution_count": 17,
   "metadata": {},
   "outputs": [
    {
     "name": "stdout",
     "output_type": "stream",
     "text": [
      "my\n",
      "ewfolder\n"
     ]
    }
   ],
   "source": [
    "print('my\\newfolder')"
   ]
  },
  {
   "cell_type": "code",
   "execution_count": 18,
   "metadata": {},
   "outputs": [
    {
     "name": "stdout",
     "output_type": "stream",
     "text": [
      "my\\newfolder\n"
     ]
    }
   ],
   "source": [
    "print('my\\\\newfolder')"
   ]
  },
  {
   "cell_type": "code",
   "execution_count": 19,
   "metadata": {},
   "outputs": [
    {
     "name": "stdout",
     "output_type": "stream",
     "text": [
      "my\\newfolde\\sdas\\asd\\asd\\asd\\asdasd\\asd\\asd\n"
     ]
    }
   ],
   "source": [
    "print(r'my\\newfolde\\sdas\\asd\\asd\\asd\\asdasd\\asd\\asd')"
   ]
  },
  {
   "cell_type": "code",
   "execution_count": 20,
   "metadata": {},
   "outputs": [
    {
     "name": "stdout",
     "output_type": "stream",
     "text": [
      "my/newfol/der\n"
     ]
    }
   ],
   "source": [
    "print('my/newfol/der')"
   ]
  },
  {
   "cell_type": "code",
   "execution_count": 21,
   "metadata": {},
   "outputs": [
    {
     "name": "stdout",
     "output_type": "stream",
     "text": [
      "my\n",
      "ewfolder\n"
     ]
    }
   ],
   "source": [
    "print('my\\newfolder')"
   ]
  },
  {
   "cell_type": "code",
   "execution_count": 22,
   "metadata": {},
   "outputs": [
    {
     "name": "stdout",
     "output_type": "stream",
     "text": [
      "my\\newfolder\n"
     ]
    }
   ],
   "source": [
    "print('my\\\\newfolder')"
   ]
  },
  {
   "cell_type": "code",
   "execution_count": 23,
   "metadata": {},
   "outputs": [
    {
     "name": "stdout",
     "output_type": "stream",
     "text": [
      "my/newfolder\n"
     ]
    }
   ],
   "source": [
    "print('my/newfolder')"
   ]
  },
  {
   "cell_type": "code",
   "execution_count": 24,
   "metadata": {},
   "outputs": [
    {
     "name": "stdout",
     "output_type": "stream",
     "text": [
      "my\\newfolder\n"
     ]
    }
   ],
   "source": [
    "print(r'my\\newfolder')"
   ]
  },
  {
   "cell_type": "code",
   "execution_count": 25,
   "metadata": {},
   "outputs": [
    {
     "data": {
      "text/plain": [
       "['.idea',\n",
       " '00_Demo',\n",
       " '01_Introduction',\n",
       " '02_Basics',\n",
       " '03_Language_Components',\n",
       " '04_Exceptions',\n",
       " '05_Debugging',\n",
       " '06_Collections',\n",
       " '07_Functions',\n",
       " '08_Decorators',\n",
       " '09_Iterators_generators_coroutines',\n",
       " '10_Modules',\n",
       " '11_File_Operations',\n",
       " '12_Logging',\n",
       " '13_OOP',\n",
       " '14_Code_Quality',\n",
       " '15_Regular_Expressions',\n",
       " '16_Web_Services',\n",
       " '17_Data_science_modules',\n",
       " 'Anti_patterns',\n",
       " 'datasets',\n",
       " 'git cheat sheet.jpeg',\n",
       " 'git___commit_vs_merge_vs_Rebase.png',\n",
       " 'gotchas_n_hiddenFeatures.txt',\n",
       " 'hangman.py',\n",
       " 'http response code images',\n",
       " 'IMG_20190213_223837.jpg',\n",
       " 'jinja_templating',\n",
       " 'one_liners.py',\n",
       " 'Python Assessment Tests',\n",
       " 'python_2to3_ex.py',\n",
       " 'Python_Recommended_Material.txt',\n",
       " 'TODO.py']"
      ]
     },
     "execution_count": 25,
     "metadata": {},
     "output_type": "execute_result"
    }
   ],
   "source": [
    "os.listdir(r'D:\\MEGAsync\\Python-related\\PythonMaterial\\python3')"
   ]
  },
  {
   "cell_type": "code",
   "execution_count": 26,
   "metadata": {},
   "outputs": [
    {
     "data": {
      "text/plain": [
       "['.ipynb_checkpoints',\n",
       " '01_os_module.py',\n",
       " '02_file_ops.py',\n",
       " '03_clear_screen.py',\n",
       " '03_StopAppsShutdown.py',\n",
       " '04_scan_files.py',\n",
       " '04_scan_python_files.py',\n",
       " '05_glob_MODULE.PNG',\n",
       " '06_text_size.py',\n",
       " 'delete_pyc_files.py',\n",
       " 'display_tree_of_dirs.py',\n",
       " 'os_module_discussion.ipynb',\n",
       " 'scan_pdf.py',\n",
       " 'sysandos.py',\n",
       " 'txtmd5.py',\n",
       " 'workingWithFilesAndFolders.py']"
      ]
     },
     "execution_count": 26,
     "metadata": {},
     "output_type": "execute_result"
    }
   ],
   "source": [
    "os.listdir(os.getcwd())"
   ]
  },
  {
   "cell_type": "code",
   "execution_count": 27,
   "metadata": {},
   "outputs": [
    {
     "data": {
      "text/plain": [
       "os.stat_result(st_mode=16895, st_ino=281474976772791, st_dev=2631168316, st_nlink=1, st_uid=0, st_gid=0, st_size=8192, st_atime=1588018729, st_mtime=1588018729, st_ctime=1579735352)"
      ]
     },
     "execution_count": 27,
     "metadata": {},
     "output_type": "execute_result"
    }
   ],
   "source": [
    "os.lstat('.' )"
   ]
  },
  {
   "cell_type": "code",
   "execution_count": 28,
   "metadata": {},
   "outputs": [
    {
     "name": "stdout",
     "output_type": "stream",
     "text": [
      "\n",
      "    os.curdir : .\n",
      "    os.pardir : ..\n",
      "    os.sep    : \\\n",
      "    os.altsep : /\n",
      "    os.extsep : .\n",
      "    os.pathsep: ;  # ':' for POSIX or ';' for Windows\n",
      "\n"
     ]
    }
   ],
   "source": [
    "print(f'''\n",
    "    os.curdir : {os.curdir}\n",
    "    os.pardir : {os.pardir}\n",
    "    os.sep    : {os.sep}\n",
    "    os.altsep : {os.altsep}\n",
    "    os.extsep : {os.extsep}\n",
    "    os.pathsep: {os.pathsep}  # ':' for POSIX or ';' for Windows\n",
    "''')"
   ]
  },
  {
   "cell_type": "code",
   "execution_count": 29,
   "metadata": {},
   "outputs": [
    {
     "data": {
      "text/plain": [
       "'\\r\\n'"
      ]
     },
     "execution_count": 29,
     "metadata": {},
     "output_type": "execute_result"
    }
   ],
   "source": [
    "os.linesep  # '\\n' for POSIX, '\\r\\n' for Windows"
   ]
  },
  {
   "cell_type": "code",
   "execution_count": 30,
   "metadata": {},
   "outputs": [
    {
     "data": {
      "text/plain": [
       "['.ipynb_checkpoints',\n",
       " '01_os_module.py',\n",
       " '02_file_ops.py',\n",
       " '03_clear_screen.py',\n",
       " '03_StopAppsShutdown.py',\n",
       " '04_scan_files.py',\n",
       " '04_scan_python_files.py',\n",
       " '05_glob_MODULE.PNG',\n",
       " '06_text_size.py',\n",
       " 'delete_pyc_files.py',\n",
       " 'display_tree_of_dirs.py',\n",
       " 'os_module_discussion.ipynb',\n",
       " 'scan_pdf.py',\n",
       " 'sysandos.py',\n",
       " 'txtmd5.py',\n",
       " 'workingWithFilesAndFolders.py']"
      ]
     },
     "execution_count": 30,
     "metadata": {},
     "output_type": "execute_result"
    }
   ],
   "source": [
    "os.listdir(os.curdir)"
   ]
  },
  {
   "cell_type": "code",
   "execution_count": 31,
   "metadata": {},
   "outputs": [
    {
     "data": {
      "text/plain": [
       "['01_math',\n",
       " '02_sys',\n",
       " '03_argparse',\n",
       " '04_os_module',\n",
       " '05_shutil',\n",
       " '06_subprocess',\n",
       " '07_getpass',\n",
       " '08_time_related',\n",
       " '09_random',\n",
       " '10_collections_module',\n",
       " '11_pyttsx3',\n",
       " '12_qr_code_generation',\n",
       " '13_console_coloring',\n",
       " '14_turtle_module',\n",
       " '15_reportlab',\n",
       " '16_multiprocessing',\n",
       " 'ast_module_ex.py',\n",
       " 'base64_ex.py',\n",
       " 'bytearraydemo.py',\n",
       " 'contextlib_ex.py',\n",
       " 'DisplayProgressBar.py',\n",
       " 'memcach_ex.py',\n",
       " 'nltk_module',\n",
       " 'Parallel_Processing',\n",
       " 'parse_ex.py',\n",
       " 'sched_basic.py',\n",
       " 'socket_programming',\n",
       " 'spacy_module',\n",
       " 'tqdm_ex.py',\n",
       " 'user_defined_modules',\n",
       " 'uuid_module.py']"
      ]
     },
     "execution_count": 31,
     "metadata": {},
     "output_type": "execute_result"
    }
   ],
   "source": [
    "os.listdir(os.pardir)"
   ]
  },
  {
   "cell_type": "code",
   "execution_count": 32,
   "metadata": {},
   "outputs": [
    {
     "data": {
      "text/plain": [
       "['.ipynb_checkpoints',\n",
       " '01_os_module.py',\n",
       " '02_file_ops.py',\n",
       " '03_clear_screen.py',\n",
       " '03_StopAppsShutdown.py',\n",
       " '04_scan_files.py',\n",
       " '04_scan_python_files.py',\n",
       " '05_glob_MODULE.PNG',\n",
       " '06_text_size.py',\n",
       " 'delete_pyc_files.py',\n",
       " 'display_tree_of_dirs.py',\n",
       " 'os_module_discussion.ipynb',\n",
       " 'scan_pdf.py',\n",
       " 'sysandos.py',\n",
       " 'txtmd5.py',\n",
       " 'workingWithFilesAndFolders.py']"
      ]
     },
     "execution_count": 32,
     "metadata": {},
     "output_type": "execute_result"
    }
   ],
   "source": [
    "os.listdir('.')"
   ]
  },
  {
   "cell_type": "code",
   "execution_count": 33,
   "metadata": {},
   "outputs": [
    {
     "data": {
      "text/plain": [
       "['01_math',\n",
       " '02_sys',\n",
       " '03_argparse',\n",
       " '04_os_module',\n",
       " '05_shutil',\n",
       " '06_subprocess',\n",
       " '07_getpass',\n",
       " '08_time_related',\n",
       " '09_random',\n",
       " '10_collections_module',\n",
       " '11_pyttsx3',\n",
       " '12_qr_code_generation',\n",
       " '13_console_coloring',\n",
       " '14_turtle_module',\n",
       " '15_reportlab',\n",
       " '16_multiprocessing',\n",
       " 'ast_module_ex.py',\n",
       " 'base64_ex.py',\n",
       " 'bytearraydemo.py',\n",
       " 'contextlib_ex.py',\n",
       " 'DisplayProgressBar.py',\n",
       " 'memcach_ex.py',\n",
       " 'nltk_module',\n",
       " 'Parallel_Processing',\n",
       " 'parse_ex.py',\n",
       " 'sched_basic.py',\n",
       " 'socket_programming',\n",
       " 'spacy_module',\n",
       " 'tqdm_ex.py',\n",
       " 'user_defined_modules',\n",
       " 'uuid_module.py']"
      ]
     },
     "execution_count": 33,
     "metadata": {},
     "output_type": "execute_result"
    }
   ],
   "source": [
    "os.listdir('..')"
   ]
  },
  {
   "cell_type": "code",
   "execution_count": 34,
   "metadata": {},
   "outputs": [
    {
     "data": {
      "text/plain": [
       "['.idea',\n",
       " '00_Demo',\n",
       " '01_Introduction',\n",
       " '02_Basics',\n",
       " '03_Language_Components',\n",
       " '04_Exceptions',\n",
       " '05_Debugging',\n",
       " '06_Collections',\n",
       " '07_Functions',\n",
       " '08_Decorators',\n",
       " '09_Iterators_generators_coroutines',\n",
       " '10_Modules',\n",
       " '11_File_Operations',\n",
       " '12_Logging',\n",
       " '13_OOP',\n",
       " '14_Code_Quality',\n",
       " '15_Regular_Expressions',\n",
       " '16_Web_Services',\n",
       " '17_Data_science_modules',\n",
       " 'Anti_patterns',\n",
       " 'datasets',\n",
       " 'git cheat sheet.jpeg',\n",
       " 'git___commit_vs_merge_vs_Rebase.png',\n",
       " 'gotchas_n_hiddenFeatures.txt',\n",
       " 'hangman.py',\n",
       " 'http response code images',\n",
       " 'IMG_20190213_223837.jpg',\n",
       " 'jinja_templating',\n",
       " 'one_liners.py',\n",
       " 'Python Assessment Tests',\n",
       " 'python_2to3_ex.py',\n",
       " 'Python_Recommended_Material.txt',\n",
       " 'TODO.py']"
      ]
     },
     "execution_count": 34,
     "metadata": {},
     "output_type": "execute_result"
    }
   ],
   "source": [
    "os.listdir('../..')"
   ]
  },
  {
   "cell_type": "code",
   "execution_count": 35,
   "metadata": {},
   "outputs": [
    {
     "data": {
      "text/plain": [
       "'D:\\\\MEGAsync\\\\Python-related\\\\PythonMaterial\\\\python3\\\\10_Modules\\\\04_os_module'"
      ]
     },
     "execution_count": 35,
     "metadata": {},
     "output_type": "execute_result"
    }
   ],
   "source": [
    "os.getcwd()"
   ]
  },
  {
   "cell_type": "code",
   "execution_count": 36,
   "metadata": {},
   "outputs": [],
   "source": [
    "os.chdir('.')"
   ]
  },
  {
   "cell_type": "code",
   "execution_count": 37,
   "metadata": {},
   "outputs": [
    {
     "data": {
      "text/plain": [
       "'D:\\\\MEGAsync\\\\Python-related\\\\PythonMaterial\\\\python3\\\\10_Modules\\\\04_os_module'"
      ]
     },
     "execution_count": 37,
     "metadata": {},
     "output_type": "execute_result"
    }
   ],
   "source": [
    "os.getcwd()"
   ]
  },
  {
   "cell_type": "code",
   "execution_count": 38,
   "metadata": {},
   "outputs": [],
   "source": [
    "os.chdir('..')"
   ]
  },
  {
   "cell_type": "code",
   "execution_count": 39,
   "metadata": {},
   "outputs": [
    {
     "data": {
      "text/plain": [
       "'D:\\\\MEGAsync\\\\Python-related\\\\PythonMaterial\\\\python3\\\\10_Modules'"
      ]
     },
     "execution_count": 39,
     "metadata": {},
     "output_type": "execute_result"
    }
   ],
   "source": [
    "os.getcwd()"
   ]
  },
  {
   "cell_type": "code",
   "execution_count": 40,
   "metadata": {},
   "outputs": [],
   "source": [
    "os.chdir('..\\..\\..')"
   ]
  },
  {
   "cell_type": "code",
   "execution_count": 41,
   "metadata": {},
   "outputs": [
    {
     "data": {
      "text/plain": [
       "'D:\\\\MEGAsync\\\\Python-related'"
      ]
     },
     "execution_count": 41,
     "metadata": {},
     "output_type": "execute_result"
    }
   ],
   "source": [
    "os.getcwd()"
   ]
  },
  {
   "cell_type": "code",
   "execution_count": 42,
   "metadata": {},
   "outputs": [],
   "source": [
    "os.chdir(os.pardir)"
   ]
  },
  {
   "cell_type": "code",
   "execution_count": 43,
   "metadata": {},
   "outputs": [
    {
     "data": {
      "text/plain": [
       "'D:\\\\MEGAsync'"
      ]
     },
     "execution_count": 43,
     "metadata": {},
     "output_type": "execute_result"
    }
   ],
   "source": [
    "os.getcwd()"
   ]
  },
  {
   "cell_type": "code",
   "execution_count": 44,
   "metadata": {},
   "outputs": [],
   "source": [
    "os.chdir('D:\\\\MEGAsync\\\\Python-related\\\\PythonMaterial\\\\python3\\\\10_Modules\\\\04_os_module')"
   ]
  },
  {
   "cell_type": "code",
   "execution_count": 45,
   "metadata": {},
   "outputs": [
    {
     "data": {
      "text/plain": [
       "'D:\\\\MEGAsync\\\\Python-related\\\\PythonMaterial\\\\python3\\\\10_Modules\\\\04_os_module'"
      ]
     },
     "execution_count": 45,
     "metadata": {},
     "output_type": "execute_result"
    }
   ],
   "source": [
    "os.getcwd()"
   ]
  },
  {
   "cell_type": "markdown",
   "metadata": {},
   "source": [
    "creating directories"
   ]
  },
  {
   "cell_type": "code",
   "execution_count": 46,
   "metadata": {},
   "outputs": [],
   "source": [
    "os.mkdir('myFolder')"
   ]
  },
  {
   "cell_type": "code",
   "execution_count": 47,
   "metadata": {},
   "outputs": [
    {
     "data": {
      "text/plain": [
       "['.ipynb_checkpoints',\n",
       " '01_os_module.py',\n",
       " '02_file_ops.py',\n",
       " '03_clear_screen.py',\n",
       " '03_StopAppsShutdown.py',\n",
       " '04_scan_files.py',\n",
       " '04_scan_python_files.py',\n",
       " '05_glob_MODULE.PNG',\n",
       " '06_text_size.py',\n",
       " 'delete_pyc_files.py',\n",
       " 'display_tree_of_dirs.py',\n",
       " 'myFolder',\n",
       " 'os_module_discussion.ipynb',\n",
       " 'scan_pdf.py',\n",
       " 'sysandos.py',\n",
       " 'txtmd5.py',\n",
       " 'workingWithFilesAndFolders.py']"
      ]
     },
     "execution_count": 47,
     "metadata": {},
     "output_type": "execute_result"
    }
   ],
   "source": [
    "os.listdir('.')"
   ]
  },
  {
   "cell_type": "code",
   "execution_count": 48,
   "metadata": {},
   "outputs": [],
   "source": [
    "os.makedirs('First/second/third')"
   ]
  },
  {
   "cell_type": "code",
   "execution_count": 49,
   "metadata": {},
   "outputs": [],
   "source": [
    "# creating a file\n",
    "f = open('myfile.txt', 'w')\n",
    "f.write('my data')\n",
    "f.close()"
   ]
  },
  {
   "cell_type": "code",
   "execution_count": 50,
   "metadata": {},
   "outputs": [
    {
     "data": {
      "text/plain": [
       "['.ipynb_checkpoints',\n",
       " '01_os_module.py',\n",
       " '02_file_ops.py',\n",
       " '03_clear_screen.py',\n",
       " '03_StopAppsShutdown.py',\n",
       " '04_scan_files.py',\n",
       " '04_scan_python_files.py',\n",
       " '05_glob_MODULE.PNG',\n",
       " '06_text_size.py',\n",
       " 'delete_pyc_files.py',\n",
       " 'display_tree_of_dirs.py',\n",
       " 'First',\n",
       " 'myfile.txt',\n",
       " 'myFolder',\n",
       " 'os_module_discussion.ipynb',\n",
       " 'scan_pdf.py',\n",
       " 'sysandos.py',\n",
       " 'txtmd5.py',\n",
       " 'workingWithFilesAndFolders.py']"
      ]
     },
     "execution_count": 50,
     "metadata": {},
     "output_type": "execute_result"
    }
   ],
   "source": [
    "os.listdir('.')"
   ]
  },
  {
   "cell_type": "code",
   "execution_count": 51,
   "metadata": {},
   "outputs": [],
   "source": [
    "os.rename('myfile.txt', 'otherfile.tsf')"
   ]
  },
  {
   "cell_type": "code",
   "execution_count": 52,
   "metadata": {},
   "outputs": [
    {
     "data": {
      "text/plain": [
       "['.ipynb_checkpoints',\n",
       " '01_os_module.py',\n",
       " '02_file_ops.py',\n",
       " '03_clear_screen.py',\n",
       " '03_StopAppsShutdown.py',\n",
       " '04_scan_files.py',\n",
       " '04_scan_python_files.py',\n",
       " '05_glob_MODULE.PNG',\n",
       " '06_text_size.py',\n",
       " 'delete_pyc_files.py',\n",
       " 'display_tree_of_dirs.py',\n",
       " 'First',\n",
       " 'myFolder',\n",
       " 'os_module_discussion.ipynb',\n",
       " 'otherfile.tsf',\n",
       " 'scan_pdf.py',\n",
       " 'sysandos.py',\n",
       " 'txtmd5.py',\n",
       " 'workingWithFilesAndFolders.py']"
      ]
     },
     "execution_count": 52,
     "metadata": {},
     "output_type": "execute_result"
    }
   ],
   "source": [
    "os.listdir('.')"
   ]
  },
  {
   "cell_type": "code",
   "execution_count": 53,
   "metadata": {},
   "outputs": [],
   "source": [
    "os.rename('First', 'PythonFolder')"
   ]
  },
  {
   "cell_type": "code",
   "execution_count": 54,
   "metadata": {},
   "outputs": [
    {
     "data": {
      "text/plain": [
       "<function os.renames(old, new)>"
      ]
     },
     "execution_count": 54,
     "metadata": {},
     "output_type": "execute_result"
    }
   ],
   "source": [
    "os.renames"
   ]
  },
  {
   "cell_type": "code",
   "execution_count": 55,
   "metadata": {},
   "outputs": [
    {
     "data": {
      "text/plain": [
       "['.ipynb_checkpoints',\n",
       " '01_os_module.py',\n",
       " '02_file_ops.py',\n",
       " '03_clear_screen.py',\n",
       " '03_StopAppsShutdown.py',\n",
       " '04_scan_files.py',\n",
       " '04_scan_python_files.py',\n",
       " '05_glob_MODULE.PNG',\n",
       " '06_text_size.py',\n",
       " 'delete_pyc_files.py',\n",
       " 'display_tree_of_dirs.py',\n",
       " 'myFolder',\n",
       " 'os_module_discussion.ipynb',\n",
       " 'otherfile.tsf',\n",
       " 'PythonFolder',\n",
       " 'scan_pdf.py',\n",
       " 'sysandos.py',\n",
       " 'txtmd5.py',\n",
       " 'workingWithFilesAndFolders.py']"
      ]
     },
     "execution_count": 55,
     "metadata": {},
     "output_type": "execute_result"
    }
   ],
   "source": [
    "os.listdir('.')"
   ]
  },
  {
   "cell_type": "code",
   "execution_count": 56,
   "metadata": {},
   "outputs": [
    {
     "name": "stdout",
     "output_type": "stream",
     "text": [
      "PermissionError(13, 'Access is denied')\n"
     ]
    }
   ],
   "source": [
    "try:\n",
    "    os.remove('myFolder')\n",
    "except PermissionError as ex:\n",
    "    print(repr(ex))"
   ]
  },
  {
   "cell_type": "code",
   "execution_count": 57,
   "metadata": {},
   "outputs": [],
   "source": [
    "os.rmdir('myFolder')"
   ]
  },
  {
   "cell_type": "code",
   "execution_count": 58,
   "metadata": {},
   "outputs": [],
   "source": [
    "os.removedirs('PythonFolder/second/third')\n",
    "# first removes 'PythonFolder/second/third', then 'PythonFolder/second' and then 'PythonFolder'"
   ]
  },
  {
   "cell_type": "code",
   "execution_count": 59,
   "metadata": {},
   "outputs": [
    {
     "data": {
      "text/plain": [
       "['.ipynb_checkpoints',\n",
       " '01_os_module.py',\n",
       " '02_file_ops.py',\n",
       " '03_clear_screen.py',\n",
       " '03_StopAppsShutdown.py',\n",
       " '04_scan_files.py',\n",
       " '04_scan_python_files.py',\n",
       " '05_glob_MODULE.PNG',\n",
       " '06_text_size.py',\n",
       " 'delete_pyc_files.py',\n",
       " 'display_tree_of_dirs.py',\n",
       " 'os_module_discussion.ipynb',\n",
       " 'otherfile.tsf',\n",
       " 'scan_pdf.py',\n",
       " 'sysandos.py',\n",
       " 'txtmd5.py',\n",
       " 'workingWithFilesAndFolders.py']"
      ]
     },
     "execution_count": 59,
     "metadata": {},
     "output_type": "execute_result"
    }
   ],
   "source": [
    "os.listdir('.')"
   ]
  },
  {
   "cell_type": "code",
   "execution_count": 60,
   "metadata": {},
   "outputs": [
    {
     "data": {
      "text/plain": [
       "0"
      ]
     },
     "execution_count": 60,
     "metadata": {},
     "output_type": "execute_result"
    }
   ],
   "source": [
    "os.system('ipconfig')"
   ]
  },
  {
   "cell_type": "code",
   "execution_count": 61,
   "metadata": {},
   "outputs": [
    {
     "data": {
      "text/plain": [
       "1"
      ]
     },
     "execution_count": 61,
     "metadata": {},
     "output_type": "execute_result"
    }
   ],
   "source": [
    "os.system('ipconfig111')"
   ]
  },
  {
   "cell_type": "markdown",
   "metadata": {},
   "source": [
    "#### Get all the python files in our material "
   ]
  },
  {
   "cell_type": "code",
   "execution_count": 62,
   "metadata": {},
   "outputs": [
    {
     "data": {
      "text/plain": [
       "'D:\\\\MEGAsync\\\\Python-related\\\\PythonMaterial\\\\python3\\\\10_Modules\\\\04_os_module'"
      ]
     },
     "execution_count": 62,
     "metadata": {},
     "output_type": "execute_result"
    }
   ],
   "source": [
    "os.getcwd()"
   ]
  },
  {
   "cell_type": "code",
   "execution_count": 63,
   "metadata": {},
   "outputs": [],
   "source": [
    "os.chdir('D:\\\\MEGAsync\\\\Python-related\\\\PythonMaterial\\\\python3')"
   ]
  },
  {
   "cell_type": "code",
   "execution_count": 64,
   "metadata": {},
   "outputs": [
    {
     "data": {
      "text/plain": [
       "'D:\\\\MEGAsync\\\\Python-related\\\\PythonMaterial\\\\python3'"
      ]
     },
     "execution_count": 64,
     "metadata": {},
     "output_type": "execute_result"
    }
   ],
   "source": [
    "os.getcwd()"
   ]
  },
  {
   "cell_type": "code",
   "execution_count": 65,
   "metadata": {},
   "outputs": [
    {
     "data": {
      "text/plain": [
       "['.idea',\n",
       " '00_Demo',\n",
       " '01_Introduction',\n",
       " '02_Basics',\n",
       " '03_Language_Components',\n",
       " '04_Exceptions',\n",
       " '05_Debugging',\n",
       " '06_Collections',\n",
       " '07_Functions',\n",
       " '08_Decorators',\n",
       " '09_Iterators_generators_coroutines',\n",
       " '10_Modules',\n",
       " '11_File_Operations',\n",
       " '12_Logging',\n",
       " '13_OOP',\n",
       " '14_Code_Quality',\n",
       " '15_Regular_Expressions',\n",
       " '16_Web_Services',\n",
       " '17_Data_science_modules',\n",
       " 'Anti_patterns',\n",
       " 'datasets',\n",
       " 'git cheat sheet.jpeg',\n",
       " 'git___commit_vs_merge_vs_Rebase.png',\n",
       " 'gotchas_n_hiddenFeatures.txt',\n",
       " 'hangman.py',\n",
       " 'http response code images',\n",
       " 'IMG_20190213_223837.jpg',\n",
       " 'jinja_templating',\n",
       " 'one_liners.py',\n",
       " 'Python Assessment Tests',\n",
       " 'python_2to3_ex.py',\n",
       " 'Python_Recommended_Material.txt',\n",
       " 'TODO.py']"
      ]
     },
     "execution_count": 65,
     "metadata": {},
     "output_type": "execute_result"
    }
   ],
   "source": [
    "os.listdir('.')"
   ]
  },
  {
   "cell_type": "markdown",
   "metadata": {},
   "source": [
    "os.walk(top, topdown=True, onerror=None, followlinks=False)"
   ]
  },
  {
   "cell_type": "code",
   "execution_count": 66,
   "metadata": {},
   "outputs": [
    {
     "data": {
      "text/plain": [
       "<generator object walk at 0x00000193CA6882E0>"
      ]
     },
     "execution_count": 66,
     "metadata": {},
     "output_type": "execute_result"
    }
   ],
   "source": [
    "os.walk('.')"
   ]
  },
  {
   "cell_type": "code",
   "execution_count": 67,
   "metadata": {},
   "outputs": [
    {
     "name": "stdout",
     "output_type": "stream",
     "text": [
      "3 ('.', ['.idea', '00_Demo', '01_Introduction', '02_Basics', '03_Language_Components', '04_Exceptions', '05_Debugging', '06_Collections', '07_Functions', '08_Decorators', '09_Iterators_generators_coroutines', '10_Modules', '11_File_Operations', '12_Logging', '13_OOP', '14_Code_Quality', '15_Regular_Expressions', '16_Web_Services', '17_Data_science_modules', 'Anti_patterns', 'datasets', 'http response code images', 'jinja_templating', 'Python Assessment Tests'], ['git cheat sheet.jpeg', 'git___commit_vs_merge_vs_Rebase.png', 'gotchas_n_hiddenFeatures.txt', 'hangman.py', 'IMG_20190213_223837.jpg', 'one_liners.py', 'python_2to3_ex.py', 'Python_Recommended_Material.txt', 'TODO.py'])\n"
     ]
    }
   ],
   "source": [
    "for each in os.walk('.'):\n",
    "    print(len(each), each)\n",
    "    break\n",
    "    "
   ]
  },
  {
   "cell_type": "code",
   "execution_count": 68,
   "metadata": {},
   "outputs": [
    {
     "name": "stdout",
     "output_type": "stream",
     "text": [
      ".\n",
      ".\\.idea\n",
      ".\\.idea\\inspectionProfiles\n",
      ".\\.idea\\sonarlint\n",
      ".\\.idea\\sonarlint\\issuestore\n",
      ".\\.idea\\sonarlint\\issuestore\\1\n",
      ".\\.idea\\sonarlint\\issuestore\\1\\0\n",
      ".\\.idea\\sonarlint\\issuestore\\1\\1\n",
      ".\\.idea\\sonarlint\\issuestore\\1\\9\n",
      ".\\.idea\\sonarlint\\issuestore\\1\\b\n",
      ".\\.idea\\sonarlint\\issuestore\\1\\d\n",
      ".\\.idea\\sonarlint\\issuestore\\2\n",
      ".\\.idea\\sonarlint\\issuestore\\2\\4\n",
      ".\\.idea\\sonarlint\\issuestore\\2\\b\n",
      ".\\.idea\\sonarlint\\issuestore\\3\n",
      ".\\.idea\\sonarlint\\issuestore\\3\\2\n",
      ".\\.idea\\sonarlint\\issuestore\\3\\3\n",
      ".\\.idea\\sonarlint\\issuestore\\3\\d\n",
      ".\\.idea\\sonarlint\\issuestore\\4\n",
      ".\\.idea\\sonarlint\\issuestore\\4\\0\n",
      ".\\.idea\\sonarlint\\issuestore\\5\n",
      ".\\.idea\\sonarlint\\issuestore\\5\\2\n",
      ".\\.idea\\sonarlint\\issuestore\\5\\e\n",
      ".\\.idea\\sonarlint\\issuestore\\6\n",
      ".\\.idea\\sonarlint\\issuestore\\6\\6\n",
      ".\\.idea\\sonarlint\\issuestore\\6\\a\n",
      ".\\.idea\\sonarlint\\issuestore\\7\n",
      ".\\.idea\\sonarlint\\issuestore\\7\\b\n",
      ".\\.idea\\sonarlint\\issuestore\\8\n",
      ".\\.idea\\sonarlint\\issuestore\\8\\0\n",
      ".\\.idea\\sonarlint\\issuestore\\8\\7\n",
      ".\\.idea\\sonarlint\\issuestore\\8\\f\n",
      ".\\.idea\\sonarlint\\issuestore\\9\n",
      ".\\.idea\\sonarlint\\issuestore\\9\\2\n",
      ".\\.idea\\sonarlint\\issuestore\\9\\3\n",
      ".\\.idea\\sonarlint\\issuestore\\9\\8\n",
      ".\\.idea\\sonarlint\\issuestore\\9\\d\n",
      ".\\.idea\\sonarlint\\issuestore\\9\\e\n",
      ".\\.idea\\sonarlint\\issuestore\\a\n",
      ".\\.idea\\sonarlint\\issuestore\\a\\1\n",
      ".\\.idea\\sonarlint\\issuestore\\a\\3\n",
      ".\\.idea\\sonarlint\\issuestore\\a\\5\n",
      ".\\.idea\\sonarlint\\issuestore\\a\\6\n",
      ".\\.idea\\sonarlint\\issuestore\\b\n",
      ".\\.idea\\sonarlint\\issuestore\\b\\8\n",
      ".\\.idea\\sonarlint\\issuestore\\c\n",
      ".\\.idea\\sonarlint\\issuestore\\c\\2\n",
      ".\\.idea\\sonarlint\\issuestore\\c\\4\n",
      ".\\.idea\\sonarlint\\issuestore\\c\\5\n",
      ".\\.idea\\sonarlint\\issuestore\\c\\7\n",
      ".\\.idea\\sonarlint\\issuestore\\c\\b\n",
      ".\\.idea\\sonarlint\\issuestore\\c\\d\n",
      ".\\.idea\\sonarlint\\issuestore\\c\\e\n",
      ".\\.idea\\sonarlint\\issuestore\\d\n",
      ".\\.idea\\sonarlint\\issuestore\\d\\1\n",
      ".\\.idea\\sonarlint\\issuestore\\d\\5\n",
      ".\\.idea\\sonarlint\\issuestore\\d\\9\n",
      ".\\.idea\\sonarlint\\issuestore\\d\\a\n",
      ".\\.idea\\sonarlint\\issuestore\\d\\b\n",
      ".\\.idea\\sonarlint\\issuestore\\d\\c\n",
      ".\\.idea\\sonarlint\\issuestore\\d\\e\n",
      ".\\.idea\\sonarlint\\issuestore\\e\n",
      ".\\.idea\\sonarlint\\issuestore\\e\\1\n",
      ".\\.idea\\sonarlint\\issuestore\\e\\f\n",
      ".\\.idea\\sonarlint\\issuestore\\f\n",
      ".\\.idea\\sonarlint\\issuestore\\f\\1\n",
      ".\\.idea\\sonarlint\\issuestore\\f\\4\n",
      ".\\.idea\\sonarlint\\issuestore\\f\\9\n",
      ".\\.idea\\sonarlint\\issuestore\\f\\b\n",
      ".\\.idea\\sonarlint\\issuestore\\f\\c\n",
      ".\\00_Demo\n",
      ".\\01_Introduction\n",
      ".\\02_Basics\n",
      ".\\02_Basics\\01_Arithmetic_Operations\n",
      ".\\02_Basics\\01_Arithmetic_Operations\\.ipynb_checkpoints\n",
      ".\\02_Basics\\02_String_Operations\n",
      ".\\03_Language_Components\n",
      ".\\03_Language_Components\\01_Relational_Operations\n",
      ".\\03_Language_Components\\02_Logical_Operations\n",
      ".\\03_Language_Components\\03_Boolean_Operations\n",
      ".\\03_Language_Components\\04_Bitwise_Operations\n",
      ".\\03_Language_Components\\05_Identity_Operations\n",
      ".\\03_Language_Components\\06_Range_Function\n",
      ".\\03_Language_Components\\07_Conditional_Operations\n",
      ".\\03_Language_Components\\08_Loops\n",
      ".\\04_Exceptions\n",
      ".\\05_Debugging\n",
      ".\\06_Collections\n",
      ".\\06_Collections\\01_Lists\n",
      ".\\06_Collections\\02_Tuples\n",
      ".\\06_Collections\\03_Sets\n",
      ".\\06_Collections\\04_Dictionaries\n",
      ".\\07_Functions\n",
      ".\\07_Functions\\practical\n",
      ".\\08_Decorators\n",
      ".\\09_Iterators_generators_coroutines\n",
      ".\\09_Iterators_generators_coroutines\\01_Iterables\n",
      ".\\09_Iterators_generators_coroutines\\02_iterators\n",
      ".\\09_Iterators_generators_coroutines\\03_generators\n",
      ".\\09_Iterators_generators_coroutines\\04_coroutines\n",
      ".\\10_Modules\n",
      ".\\10_Modules\\01_math\n",
      ".\\10_Modules\\02_sys\n",
      ".\\10_Modules\\03_argparse\n",
      ".\\10_Modules\\04_os_module\n",
      ".\\10_Modules\\04_os_module\\.ipynb_checkpoints\n",
      ".\\10_Modules\\05_shutil\n",
      ".\\10_Modules\\05_shutil\\test_dir_1\n",
      ".\\10_Modules\\05_shutil\\test_dir_2\n",
      ".\\10_Modules\\06_subprocess\n",
      ".\\10_Modules\\07_getpass\n",
      ".\\10_Modules\\07_getpass\\.ipynb_checkpoints\n",
      ".\\10_Modules\\08_time_related\n",
      ".\\10_Modules\\08_time_related\\.ipynb_checkpoints\n",
      ".\\10_Modules\\09_random\n",
      ".\\10_Modules\\10_collections_module\n",
      ".\\10_Modules\\11_pyttsx3\n",
      ".\\10_Modules\\12_qr_code_generation\n",
      ".\\10_Modules\\13_console_coloring\n",
      ".\\10_Modules\\14_turtle_module\n",
      ".\\10_Modules\\15_reportlab\n",
      ".\\10_Modules\\16_multiprocessing\n",
      ".\\10_Modules\\nltk_module\n",
      ".\\10_Modules\\Parallel_Processing\n",
      ".\\10_Modules\\socket_programming\n",
      ".\\10_Modules\\socket_programming\\chat_examples\n",
      ".\\10_Modules\\spacy_module\n",
      ".\\10_Modules\\user_defined_modules\n",
      ".\\11_File_Operations\n",
      ".\\11_File_Operations\\01_unstructured_file\n",
      ".\\11_File_Operations\\02_structured_files\n",
      ".\\11_File_Operations\\02_structured_files\\01_pickle\n",
      ".\\11_File_Operations\\02_structured_files\\02_shelve\n",
      ".\\11_File_Operations\\02_structured_files\\03_xml\n",
      ".\\11_File_Operations\\02_structured_files\\04_csv\n",
      ".\\11_File_Operations\\02_structured_files\\04_html_files\n",
      ".\\11_File_Operations\\02_structured_files\\05_xls_files\n",
      ".\\11_File_Operations\\02_structured_files\\05_xls_files\\xlrd_module\n",
      ".\\11_File_Operations\\02_structured_files\\05_xls_files\\xlsxwriter\n",
      ".\\11_File_Operations\\02_structured_files\\05_xls_files\\xlsxwriter\\excels\n",
      ".\\11_File_Operations\\02_structured_files\\06_json_files\n",
      ".\\11_File_Operations\\02_structured_files\\07_yml_files\n",
      ".\\11_File_Operations\\03_image_files\n",
      ".\\11_File_Operations\\03_image_files\\image2BinaryData\n",
      ".\\11_File_Operations\\04_zipping_files\n",
      ".\\11_File_Operations\\05_pdf_files\n",
      ".\\11_File_Operations\\06_config_files\n",
      ".\\11_File_Operations\\06_config_files\\configParse\n",
      ".\\11_File_Operations\\07_db_files\n",
      ".\\11_File_Operations\\pyw files\n",
      ".\\11_File_Operations\\remove_lines_of_one_file_if_present_in_another\n",
      ".\\12_Logging\n",
      ".\\13_OOP\n",
      ".\\13_OOP\\Practical\n",
      ".\\13_OOP\\Practical\\word_count\n",
      ".\\14_Code_Quality\n",
      ".\\14_Code_Quality\\01_static_typing\n",
      ".\\14_Code_Quality\\02_doctests\n",
      ".\\14_Code_Quality\\03_unit_tests\n",
      ".\\14_Code_Quality\\03_unit_tests\\a_using_asserts\n",
      ".\\14_Code_Quality\\03_unit_tests\\b_using_unittest_module\n",
      ".\\14_Code_Quality\\03_unit_tests\\b_using_unittest_module\\exampleA\n",
      ".\\14_Code_Quality\\03_unit_tests\\b_using_unittest_module\\exampleB\n",
      ".\\14_Code_Quality\\03_unit_tests\\b_using_unittest_module\\exampleB\\__pycache__\n",
      ".\\14_Code_Quality\\03_unit_tests\\b_using_unittest_module\\exampleC\n",
      ".\\14_Code_Quality\\03_unit_tests\\b_using_unittest_module\\exampleD\n",
      ".\\14_Code_Quality\\03_unit_tests\\b_using_unittest_module\\exampleE\n",
      ".\\14_Code_Quality\\03_unit_tests\\b_using_unittest_module\\exampleF\n",
      ".\\14_Code_Quality\\03_unit_tests\\b_using_unittest_module\\exampleG\n",
      ".\\14_Code_Quality\\03_unit_tests\\c_using_nosttest_module\n",
      ".\\14_Code_Quality\\03_unit_tests\\d_using_pytest_module\n",
      ".\\14_Code_Quality\\04_mocking\n",
      ".\\14_Code_Quality\\05_selenium_testing\n",
      ".\\14_Code_Quality\\06_autopy_module\n",
      ".\\15_Regular_Expressions\n",
      ".\\15_Regular_Expressions\\d\n",
      ".\\15_Regular_Expressions\\d\\reg_exp\n",
      ".\\16_Web_Services\n",
      ".\\16_Web_Services\\01_urllib.request\n",
      ".\\16_Web_Services\\01_urllib.request\\.ipynb_checkpoints\n",
      ".\\16_Web_Services\\01_urllib.request\\02_get_ip_and_details\n",
      ".\\16_Web_Services\\02_requests\n",
      ".\\16_Web_Services\\02_requests\\http response code images\n",
      ".\\16_Web_Services\\02_requests\\ISS\n",
      ".\\16_Web_Services\\02_requests\\NASA\n",
      ".\\16_Web_Services\\03_web_scrapping\n",
      ".\\16_Web_Services\\05_pyselenium\n",
      ".\\16_Web_Services\\NEW\n",
      ".\\16_Web_Services\\web_application\n",
      ".\\16_Web_Services\\web_application\\using_bottle\n",
      ".\\16_Web_Services\\web_application\\using_flask\n",
      ".\\17_Data_science_modules\n",
      ".\\17_Data_science_modules\\.ipynb_checkpoints\n",
      ".\\17_Data_science_modules\\00_statistics\n",
      ".\\17_Data_science_modules\\00_statistics\\.ipynb_checkpoints\n",
      ".\\17_Data_science_modules\\01_numpy\n",
      ".\\17_Data_science_modules\\01_numpy\\.ipynb_checkpoints\n",
      ".\\17_Data_science_modules\\02_pandas\n",
      ".\\17_Data_science_modules\\02_pandas\\.ipynb_checkpoints\n",
      ".\\17_Data_science_modules\\02_pandas\\Practical Data Analysis with Python and Pandas ,Real Project [FTU]\n",
      ".\\17_Data_science_modules\\02_pandas\\Practical Data Analysis with Python and Pandas ,Real Project [FTU]\\.ipynb_checkpoints\n",
      ".\\17_Data_science_modules\\03_matplotlib\n",
      ".\\17_Data_science_modules\\03_matplotlib\\.ipynb_checkpoints\n",
      ".\\17_Data_science_modules\\04_nltk\n",
      ".\\Anti_patterns\n",
      ".\\datasets\n",
      ".\\datasets\\.ipynb_checkpoints\n",
      ".\\datasets\\formula-1-race-data-19502017\n",
      ".\\datasets\\google-play-store-apps\n",
      ".\\http response code images\n",
      ".\\jinja_templating\n",
      ".\\jinja_templating\\templates\n",
      ".\\Python Assessment Tests\n"
     ]
    }
   ],
   "source": [
    "for each_dir, each_2, each_3 in os.walk('.'):\n",
    "    print(each_dir)\n",
    "#     break\n",
    "    "
   ]
  },
  {
   "cell_type": "code",
   "execution_count": 69,
   "metadata": {},
   "outputs": [
    {
     "name": "stdout",
     "output_type": "stream",
     "text": [
      "['.idea', '00_Demo', '01_Introduction', '02_Basics', '03_Language_Components', '04_Exceptions', '05_Debugging', '06_Collections', '07_Functions', '08_Decorators', '09_Iterators_generators_coroutines', '10_Modules', '11_File_Operations', '12_Logging', '13_OOP', '14_Code_Quality', '15_Regular_Expressions', '16_Web_Services', '17_Data_science_modules', 'Anti_patterns', 'datasets', 'http response code images', 'jinja_templating', 'Python Assessment Tests']\n",
      "['inspectionProfiles', 'sonarlint']\n",
      "[]\n",
      "['issuestore']\n",
      "['1', '2', '3', '4', '5', '6', '7', '8', '9', 'a', 'b', 'c', 'd', 'e', 'f']\n",
      "['0', '1', '9', 'b', 'd']\n",
      "[]\n",
      "[]\n",
      "[]\n",
      "[]\n",
      "[]\n",
      "['4', 'b']\n",
      "[]\n",
      "[]\n",
      "['2', '3', 'd']\n",
      "[]\n",
      "[]\n",
      "[]\n",
      "['0']\n",
      "[]\n",
      "['2', 'e']\n",
      "[]\n",
      "[]\n",
      "['6', 'a']\n",
      "[]\n",
      "[]\n",
      "['b']\n",
      "[]\n",
      "['0', '7', 'f']\n",
      "[]\n",
      "[]\n",
      "[]\n",
      "['2', '3', '8', 'd', 'e']\n",
      "[]\n",
      "[]\n",
      "[]\n",
      "[]\n",
      "[]\n",
      "['1', '3', '5', '6']\n",
      "[]\n",
      "[]\n",
      "[]\n",
      "[]\n",
      "['8']\n",
      "[]\n",
      "['2', '4', '5', '7', 'b', 'd', 'e']\n",
      "[]\n",
      "[]\n",
      "[]\n",
      "[]\n",
      "[]\n",
      "[]\n",
      "[]\n",
      "['1', '5', '9', 'a', 'b', 'c', 'e']\n",
      "[]\n",
      "[]\n",
      "[]\n",
      "[]\n",
      "[]\n",
      "[]\n",
      "[]\n",
      "['1', 'f']\n",
      "[]\n",
      "[]\n",
      "['1', '4', '9', 'b', 'c']\n",
      "[]\n",
      "[]\n",
      "[]\n",
      "[]\n",
      "[]\n",
      "[]\n",
      "[]\n",
      "['01_Arithmetic_Operations', '02_String_Operations']\n",
      "['.ipynb_checkpoints']\n",
      "[]\n",
      "[]\n",
      "['01_Relational_Operations', '02_Logical_Operations', '03_Boolean_Operations', '04_Bitwise_Operations', '05_Identity_Operations', '06_Range_Function', '07_Conditional_Operations', '08_Loops']\n",
      "[]\n",
      "[]\n",
      "[]\n",
      "[]\n",
      "[]\n",
      "[]\n",
      "[]\n",
      "[]\n",
      "[]\n",
      "[]\n",
      "['01_Lists', '02_Tuples', '03_Sets', '04_Dictionaries']\n",
      "[]\n",
      "[]\n",
      "[]\n",
      "[]\n",
      "['practical']\n",
      "[]\n",
      "[]\n",
      "['01_Iterables', '02_iterators', '03_generators', '04_coroutines']\n",
      "[]\n",
      "[]\n",
      "[]\n",
      "[]\n",
      "['01_math', '02_sys', '03_argparse', '04_os_module', '05_shutil', '06_subprocess', '07_getpass', '08_time_related', '09_random', '10_collections_module', '11_pyttsx3', '12_qr_code_generation', '13_console_coloring', '14_turtle_module', '15_reportlab', '16_multiprocessing', 'nltk_module', 'Parallel_Processing', 'socket_programming', 'spacy_module', 'user_defined_modules']\n",
      "[]\n",
      "[]\n",
      "[]\n",
      "['.ipynb_checkpoints']\n",
      "[]\n",
      "['test_dir_1', 'test_dir_2']\n",
      "[]\n",
      "[]\n",
      "[]\n",
      "['.ipynb_checkpoints']\n",
      "[]\n",
      "['.ipynb_checkpoints']\n",
      "[]\n",
      "[]\n",
      "[]\n",
      "[]\n",
      "[]\n",
      "[]\n",
      "[]\n",
      "[]\n",
      "[]\n",
      "[]\n",
      "[]\n",
      "['chat_examples']\n",
      "[]\n",
      "[]\n",
      "[]\n",
      "['01_unstructured_file', '02_structured_files', '03_image_files', '04_zipping_files', '05_pdf_files', '06_config_files', '07_db_files', 'pyw files', 'remove_lines_of_one_file_if_present_in_another']\n",
      "[]\n",
      "['01_pickle', '02_shelve', '03_xml', '04_csv', '04_html_files', '05_xls_files', '06_json_files', '07_yml_files']\n",
      "[]\n",
      "[]\n",
      "[]\n",
      "[]\n",
      "[]\n",
      "['xlrd_module', 'xlsxwriter']\n",
      "[]\n",
      "['excels']\n",
      "[]\n",
      "[]\n",
      "[]\n",
      "['image2BinaryData']\n",
      "[]\n",
      "[]\n",
      "[]\n",
      "['configParse']\n",
      "[]\n",
      "[]\n",
      "[]\n",
      "[]\n",
      "[]\n",
      "['Practical']\n",
      "['word_count']\n",
      "[]\n",
      "['01_static_typing', '02_doctests', '03_unit_tests', '04_mocking', '05_selenium_testing', '06_autopy_module']\n",
      "[]\n",
      "[]\n",
      "['a_using_asserts', 'b_using_unittest_module', 'c_using_nosttest_module', 'd_using_pytest_module']\n",
      "[]\n",
      "['exampleA', 'exampleB', 'exampleC', 'exampleD', 'exampleE', 'exampleF', 'exampleG']\n",
      "[]\n",
      "['__pycache__']\n",
      "[]\n",
      "[]\n",
      "[]\n",
      "[]\n",
      "[]\n",
      "[]\n",
      "[]\n",
      "[]\n",
      "[]\n",
      "[]\n",
      "[]\n",
      "['d']\n",
      "['reg_exp']\n",
      "[]\n",
      "['01_urllib.request', '02_requests', '03_web_scrapping', '05_pyselenium', 'NEW', 'web_application']\n",
      "['.ipynb_checkpoints', '02_get_ip_and_details']\n",
      "[]\n",
      "[]\n",
      "['http response code images', 'ISS', 'NASA']\n",
      "[]\n",
      "[]\n",
      "[]\n",
      "[]\n",
      "[]\n",
      "[]\n",
      "['using_bottle', 'using_flask']\n",
      "[]\n",
      "[]\n",
      "['.ipynb_checkpoints', '00_statistics', '01_numpy', '02_pandas', '03_matplotlib', '04_nltk']\n",
      "[]\n",
      "['.ipynb_checkpoints']\n",
      "[]\n",
      "['.ipynb_checkpoints']\n",
      "[]\n",
      "['.ipynb_checkpoints', 'Practical Data Analysis with Python and Pandas ,Real Project [FTU]']\n",
      "[]\n",
      "['.ipynb_checkpoints']\n",
      "[]\n",
      "['.ipynb_checkpoints']\n",
      "[]\n",
      "[]\n",
      "[]\n",
      "['.ipynb_checkpoints', 'formula-1-race-data-19502017', 'google-play-store-apps']\n",
      "[]\n",
      "[]\n",
      "[]\n",
      "[]\n",
      "['templates']\n",
      "[]\n",
      "[]\n"
     ]
    }
   ],
   "source": [
    "for each_dir, dirs, each_3 in os.walk('.'):\n",
    "    print(dirs)\n",
    "#     break"
   ]
  },
  {
   "cell_type": "code",
   "execution_count": 70,
   "metadata": {},
   "outputs": [
    {
     "name": "stdout",
     "output_type": "stream",
     "text": [
      "['Final Assessment Test -1.ipynb', 'Final Assessment Test -1.pdf', 'Final Assessment Test -2.ipynb', 'Final Assessment Test -2.pdf', 'Interview Question paper Set-1.ipynb', 'Interview Question paper Set-1.pdf', 'Interview Question paper Set-2.ipynb', 'Interview Question paper Set-2.pdf', 'Interview Question paper Set-3.ipynb', 'Interview Question paper Set-3.pdf', 'Interview Question paper Set-4.ipynb', 'Interview Question paper Set-4.pdf', 'Post-Assessment Answers.ipynb', 'Post-Assessment Answers.pdf', 'Post-Assessment.ipynb', 'Post-Assessment.pdf', 'Pre-Assessment Test Answers.ipynb', 'Pre-Assessment Test Answers.pdf', 'Pre-Assessment Test.ipynb', 'Pre-Assessment Test.pdf']\n"
     ]
    }
   ],
   "source": [
    "for each_dir, dirs, files in os.walk('.'):\n",
    "    print(each_3)\n",
    "    break"
   ]
  },
  {
   "cell_type": "code",
   "execution_count": 71,
   "metadata": {},
   "outputs": [
    {
     "name": "stdout",
     "output_type": "stream",
     "text": [
      "In this course, there are 745 python files & 117 jupyter notebook files\n"
     ]
    }
   ],
   "source": [
    "py_files = []\n",
    "juypter_notebook_files = []\n",
    "for each_dir, dirs, files in os.walk('.'):\n",
    "    for each_file in files:\n",
    "        file_name, file_extn = os.path.splitext(each_file)\n",
    "        if file_extn == '.py':\n",
    "            py_files.append(each_file)\n",
    "        elif file_extn == '.ipynb':\n",
    "            juypter_notebook_files.append(each_file)\n",
    "            \n",
    "print(f'In this course, there are {len(py_files)} python files & {len(juypter_notebook_files)} jupyter notebook files')"
   ]
  },
  {
   "cell_type": "markdown",
   "metadata": {},
   "source": [
    "Working with paths"
   ]
  },
  {
   "cell_type": "code",
   "execution_count": 72,
   "metadata": {},
   "outputs": [
    {
     "data": {
      "text/plain": [
       "'temp.txt'"
      ]
     },
     "execution_count": 72,
     "metadata": {},
     "output_type": "execute_result"
    }
   ],
   "source": [
    "os.path.basename(\"/home/user/temp.txt\")"
   ]
  },
  {
   "cell_type": "code",
   "execution_count": 73,
   "metadata": {},
   "outputs": [
    {
     "data": {
      "text/plain": [
       "'/home/user'"
      ]
     },
     "execution_count": 73,
     "metadata": {},
     "output_type": "execute_result"
    }
   ],
   "source": [
    "os.path.dirname(\"/home/user/temp.txt\")"
   ]
  },
  {
   "cell_type": "code",
   "execution_count": 74,
   "metadata": {},
   "outputs": [
    {
     "data": {
      "text/plain": [
       "'D:\\\\MEGAsync\\\\Python-related\\\\PythonMaterial\\\\python3\\\\temp.txt'"
      ]
     },
     "execution_count": 74,
     "metadata": {},
     "output_type": "execute_result"
    }
   ],
   "source": [
    "os.path.abspath('temp.txt')"
   ]
  },
  {
   "cell_type": "code",
   "execution_count": 75,
   "metadata": {},
   "outputs": [
    {
     "data": {
      "text/plain": [
       "'D:\\\\home\\\\user\\\\temp.txt'"
      ]
     },
     "execution_count": 75,
     "metadata": {},
     "output_type": "execute_result"
    }
   ],
   "source": [
    "os.path.realpath(\"/home/user/temp.txt\")"
   ]
  },
  {
   "cell_type": "code",
   "execution_count": 76,
   "metadata": {},
   "outputs": [
    {
     "data": {
      "text/plain": [
       "('/home/user/temp', '.log')"
      ]
     },
     "execution_count": 76,
     "metadata": {},
     "output_type": "execute_result"
    }
   ],
   "source": [
    "os.path.splitext(\"/home/user/temp.log\")"
   ]
  },
  {
   "cell_type": "code",
   "execution_count": 77,
   "metadata": {},
   "outputs": [
    {
     "data": {
      "text/plain": [
       "('temp', '.log')"
      ]
     },
     "execution_count": 77,
     "metadata": {},
     "output_type": "execute_result"
    }
   ],
   "source": [
    "os.path.splitext(\"temp.log\")"
   ]
  },
  {
   "cell_type": "code",
   "execution_count": 78,
   "metadata": {},
   "outputs": [
    {
     "data": {
      "text/plain": [
       "('', '/home/user/temp.txt')"
      ]
     },
     "execution_count": 78,
     "metadata": {},
     "output_type": "execute_result"
    }
   ],
   "source": [
    "os.path.splitdrive(\"/home/user/temp.txt\")"
   ]
  },
  {
   "cell_type": "code",
   "execution_count": 79,
   "metadata": {},
   "outputs": [
    {
     "data": {
      "text/plain": [
       "('c:', '/home/user/temp.txt')"
      ]
     },
     "execution_count": 79,
     "metadata": {},
     "output_type": "execute_result"
    }
   ],
   "source": [
    "os.path.splitdrive(\"c:/home/user/temp.txt\")"
   ]
  },
  {
   "cell_type": "code",
   "execution_count": 80,
   "metadata": {},
   "outputs": [
    {
     "data": {
      "text/plain": [
       "'.'"
      ]
     },
     "execution_count": 80,
     "metadata": {},
     "output_type": "execute_result"
    }
   ],
   "source": [
    "os.path.extsep"
   ]
  },
  {
   "cell_type": "code",
   "execution_count": 81,
   "metadata": {},
   "outputs": [
    {
     "name": "stdout",
     "output_type": "stream",
     "text": [
      "\\ \\\n"
     ]
    }
   ],
   "source": [
    "import sys\n",
    "\n",
    "if sys.platform == 'win32':\n",
    "    path_joiner = '\\\\'\n",
    "else:\n",
    "    path_joiner = '/'\n",
    "\n",
    "print(path_joiner, os.sep)"
   ]
  },
  {
   "cell_type": "code",
   "execution_count": 82,
   "metadata": {},
   "outputs": [],
   "source": [
    "assert path_joiner == os.sep"
   ]
  },
  {
   "cell_type": "code",
   "execution_count": 83,
   "metadata": {},
   "outputs": [
    {
     "data": {
      "text/plain": [
       "'css\\\\america'"
      ]
     },
     "execution_count": 83,
     "metadata": {},
     "output_type": "execute_result"
    }
   ],
   "source": [
    "os.path.join('css', 'america')"
   ]
  },
  {
   "cell_type": "code",
   "execution_count": 84,
   "metadata": {},
   "outputs": [
    {
     "data": {
      "text/plain": [
       "'css\\\\america\\\\asdas\\\\sad\\\\dfgd'"
      ]
     },
     "execution_count": 84,
     "metadata": {},
     "output_type": "execute_result"
    }
   ],
   "source": [
    "os.path.join('css', 'america', 'asdas', 'sad', 'dfgd')"
   ]
  },
  {
   "cell_type": "code",
   "execution_count": 85,
   "metadata": {},
   "outputs": [
    {
     "data": {
      "text/plain": [
       "'css\\\\america\\\\asdas\\\\sad\\\\dfgd'"
      ]
     },
     "execution_count": 85,
     "metadata": {},
     "output_type": "execute_result"
    }
   ],
   "source": [
    "'\\\\'.join(('css', 'america', 'asdas', 'sad', 'dfgd'))"
   ]
  },
  {
   "cell_type": "code",
   "execution_count": 86,
   "metadata": {},
   "outputs": [
    {
     "data": {
      "text/plain": [
       "'css\\\\america\\\\asdas\\\\sad\\\\dfgd'"
      ]
     },
     "execution_count": 86,
     "metadata": {},
     "output_type": "execute_result"
    }
   ],
   "source": [
    "(os.sep).join(('css', 'america', 'asdas', 'sad', 'dfgd'))"
   ]
  },
  {
   "cell_type": "code",
   "execution_count": 87,
   "metadata": {},
   "outputs": [],
   "source": [
    "assert os.path.join('css', 'america', 'asdas', 'sad', 'dfgd') == (os.sep).join(('css', 'america', 'asdas', 'sad', 'dfgd'))"
   ]
  },
  {
   "cell_type": "code",
   "execution_count": 88,
   "metadata": {},
   "outputs": [
    {
     "data": {
      "text/plain": [
       "'css\\\\america\\\\asdas\\\\sad\\\\dfgd'"
      ]
     },
     "execution_count": 88,
     "metadata": {},
     "output_type": "execute_result"
    }
   ],
   "source": [
    "new_path = os.path.join('css', 'america', 'asdas', 'sad', 'dfgd')\n",
    "new_path"
   ]
  },
  {
   "cell_type": "code",
   "execution_count": 89,
   "metadata": {},
   "outputs": [
    {
     "data": {
      "text/plain": [
       "False"
      ]
     },
     "execution_count": 89,
     "metadata": {},
     "output_type": "execute_result"
    }
   ],
   "source": [
    "os.path.exists(new_path)"
   ]
  },
  {
   "cell_type": "code",
   "execution_count": 90,
   "metadata": {},
   "outputs": [
    {
     "data": {
      "text/plain": [
       "['.idea',\n",
       " '00_Demo',\n",
       " '01_Introduction',\n",
       " '02_Basics',\n",
       " '03_Language_Components',\n",
       " '04_Exceptions',\n",
       " '05_Debugging',\n",
       " '06_Collections',\n",
       " '07_Functions',\n",
       " '08_Decorators',\n",
       " '09_Iterators_generators_coroutines',\n",
       " '10_Modules',\n",
       " '11_File_Operations',\n",
       " '12_Logging',\n",
       " '13_OOP',\n",
       " '14_Code_Quality',\n",
       " '15_Regular_Expressions',\n",
       " '16_Web_Services',\n",
       " '17_Data_science_modules',\n",
       " 'Anti_patterns',\n",
       " 'datasets',\n",
       " 'git cheat sheet.jpeg',\n",
       " 'git___commit_vs_merge_vs_Rebase.png',\n",
       " 'gotchas_n_hiddenFeatures.txt',\n",
       " 'hangman.py',\n",
       " 'http response code images',\n",
       " 'IMG_20190213_223837.jpg',\n",
       " 'jinja_templating',\n",
       " 'one_liners.py',\n",
       " 'Python Assessment Tests',\n",
       " 'python_2to3_ex.py',\n",
       " 'Python_Recommended_Material.txt',\n",
       " 'TODO.py']"
      ]
     },
     "execution_count": 90,
     "metadata": {},
     "output_type": "execute_result"
    }
   ],
   "source": [
    "os.listdir('.')"
   ]
  },
  {
   "cell_type": "code",
   "execution_count": 91,
   "metadata": {},
   "outputs": [
    {
     "data": {
      "text/plain": [
       "80137"
      ]
     },
     "execution_count": 91,
     "metadata": {},
     "output_type": "execute_result"
    }
   ],
   "source": [
    "os.path.getsize('git cheat sheet.jpeg')"
   ]
  },
  {
   "cell_type": "code",
   "execution_count": 92,
   "metadata": {},
   "outputs": [
    {
     "data": {
      "text/plain": [
       "os.stat_result(st_mode=33206, st_ino=844424930139071, st_dev=2631168316, st_nlink=1, st_uid=0, st_gid=0, st_size=80137, st_atime=1586399448, st_mtime=1579735353, st_ctime=1586399448)"
      ]
     },
     "execution_count": 92,
     "metadata": {},
     "output_type": "execute_result"
    }
   ],
   "source": [
    "os.stat('git cheat sheet.jpeg')"
   ]
  },
  {
   "cell_type": "code",
   "execution_count": 93,
   "metadata": {},
   "outputs": [
    {
     "data": {
      "text/plain": [
       "1579735353.4443793"
      ]
     },
     "execution_count": 93,
     "metadata": {},
     "output_type": "execute_result"
    }
   ],
   "source": [
    "os.stat('git cheat sheet.jpeg').st_mtime"
   ]
  },
  {
   "cell_type": "code",
   "execution_count": 94,
   "metadata": {},
   "outputs": [
    {
     "data": {
      "text/plain": [
       "<nt.ScandirIterator at 0x193c8c31320>"
      ]
     },
     "execution_count": 94,
     "metadata": {},
     "output_type": "execute_result"
    }
   ],
   "source": [
    "os.scandir() # Using scandir() instead of listdir() can significantly increase the performance of code"
   ]
  },
  {
   "cell_type": "code",
   "execution_count": 95,
   "metadata": {},
   "outputs": [
    {
     "data": {
      "text/plain": [
       "[<DirEntry '.idea'>,\n",
       " <DirEntry '00_Demo'>,\n",
       " <DirEntry '01_Introduction'>,\n",
       " <DirEntry '02_Basics'>,\n",
       " <DirEntry '03_Language_Components'>,\n",
       " <DirEntry '04_Exceptions'>,\n",
       " <DirEntry '05_Debugging'>,\n",
       " <DirEntry '06_Collections'>,\n",
       " <DirEntry '07_Functions'>,\n",
       " <DirEntry '08_Decorators'>,\n",
       " <DirEntry '09_Iterators_generators_coroutines'>,\n",
       " <DirEntry '10_Modules'>,\n",
       " <DirEntry '11_File_Operations'>,\n",
       " <DirEntry '12_Logging'>,\n",
       " <DirEntry '13_OOP'>,\n",
       " <DirEntry '14_Code_Quality'>,\n",
       " <DirEntry '15_Regular_Expressions'>,\n",
       " <DirEntry '16_Web_Services'>,\n",
       " <DirEntry '17_Data_science_modules'>,\n",
       " <DirEntry 'Anti_patterns'>,\n",
       " <DirEntry 'datasets'>,\n",
       " <DirEntry 'git cheat sheet.jpeg'>,\n",
       " <DirEntry 'git___commit_vs_merge_vs_Rebase.png'>,\n",
       " <DirEntry 'gotchas_n_hiddenFeatures.txt'>,\n",
       " <DirEntry 'hangman.py'>,\n",
       " <DirEntry 'http response code images'>,\n",
       " <DirEntry 'IMG_20190213_223837.jpg'>,\n",
       " <DirEntry 'jinja_templating'>,\n",
       " <DirEntry 'one_liners.py'>,\n",
       " <DirEntry 'Python Assessment Tests'>,\n",
       " <DirEntry 'python_2to3_ex.py'>,\n",
       " <DirEntry 'Python_Recommended_Material.txt'>,\n",
       " <DirEntry 'TODO.py'>]"
      ]
     },
     "execution_count": 95,
     "metadata": {},
     "output_type": "execute_result"
    }
   ],
   "source": [
    "list(os.scandir())"
   ]
  },
  {
   "cell_type": "code",
   "execution_count": 96,
   "metadata": {},
   "outputs": [
    {
     "data": {
      "text/plain": [
       "nt.DirEntry"
      ]
     },
     "execution_count": 96,
     "metadata": {},
     "output_type": "execute_result"
    }
   ],
   "source": [
    "os.DirEntry"
   ]
  },
  {
   "cell_type": "code",
   "execution_count": 97,
   "metadata": {},
   "outputs": [
    {
     "data": {
      "text/plain": [
       "<member 'name' of 'nt.DirEntry' objects>"
      ]
     },
     "execution_count": 97,
     "metadata": {},
     "output_type": "execute_result"
    }
   ],
   "source": [
    "os.DirEntry.name"
   ]
  },
  {
   "cell_type": "code",
   "execution_count": 98,
   "metadata": {},
   "outputs": [
    {
     "data": {
      "text/plain": [
       "<member 'path' of 'nt.DirEntry' objects>"
      ]
     },
     "execution_count": 98,
     "metadata": {},
     "output_type": "execute_result"
    }
   ],
   "source": [
    "os.DirEntry.path"
   ]
  },
  {
   "cell_type": "code",
   "execution_count": 99,
   "metadata": {},
   "outputs": [
    {
     "data": {
      "text/plain": [
       "os.stat_result(st_mode=16895, st_ino=281474976772490, st_dev=2631168316, st_nlink=1, st_uid=0, st_gid=0, st_size=12288, st_atime=1587683290, st_mtime=1587683290, st_ctime=1579735351)"
      ]
     },
     "execution_count": 99,
     "metadata": {},
     "output_type": "execute_result"
    }
   ],
   "source": [
    "os.stat('.')"
   ]
  },
  {
   "cell_type": "markdown",
   "metadata": {},
   "source": [
    "os.times\n",
    "\n",
    "    user            - user time\n",
    "    system          - system time\n",
    "    children_user   - user time of all child processes\n",
    "    children_system - system time of all child processes\n",
    "    elapsed         - elapsed real time since a fixed point in the past"
   ]
  },
  {
   "cell_type": "code",
   "execution_count": 100,
   "metadata": {},
   "outputs": [
    {
     "data": {
      "text/plain": [
       "nt.times_result(user=1.53125, system=1.1875, children_user=0.0, children_system=0.0, elapsed=0.0)"
      ]
     },
     "execution_count": 100,
     "metadata": {},
     "output_type": "execute_result"
    }
   ],
   "source": [
    "os.times()"
   ]
  },
  {
   "cell_type": "code",
   "execution_count": 101,
   "metadata": {},
   "outputs": [
    {
     "data": {
      "text/plain": [
       "'.;C:\\\\bin'"
      ]
     },
     "execution_count": 101,
     "metadata": {},
     "output_type": "execute_result"
    }
   ],
   "source": [
    "os.defpath"
   ]
  },
  {
   "cell_type": "code",
   "execution_count": 102,
   "metadata": {},
   "outputs": [
    {
     "data": {
      "text/plain": [
       "'nul'"
      ]
     },
     "execution_count": 102,
     "metadata": {},
     "output_type": "execute_result"
    }
   ],
   "source": [
    "os.devnull # The file path of the null device. For example: '/dev/null' for POSIX, 'nul' for Windows"
   ]
  }
 ],
 "metadata": {
  "kernelspec": {
   "display_name": "Python 3",
   "language": "python",
   "name": "python3"
  },
  "language_info": {
   "codemirror_mode": {
    "name": "ipython",
    "version": 3
   },
   "file_extension": ".py",
   "mimetype": "text/x-python",
   "name": "python",
   "nbconvert_exporter": "python",
   "pygments_lexer": "ipython3",
   "version": "3.8.2"
  }
 },
 "nbformat": 4,
 "nbformat_minor": 2
}
