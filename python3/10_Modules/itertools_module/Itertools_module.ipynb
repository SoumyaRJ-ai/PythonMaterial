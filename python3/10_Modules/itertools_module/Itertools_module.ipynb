{
 "cells": [
  {
   "cell_type": "markdown",
   "metadata": {},
   "source": [
    "## Itertools.groupby"
   ]
  },
  {
   "cell_type": "code",
   "execution_count": 1,
   "metadata": {},
   "outputs": [],
   "source": [
    "import itertools\n",
    "import string\n",
    "import random "
   ]
  },
  {
   "cell_type": "code",
   "execution_count": 2,
   "metadata": {},
   "outputs": [
    {
     "data": {
      "text/plain": [
       "'abcdefghijklmnopqrstuvwxyz'"
      ]
     },
     "execution_count": 2,
     "metadata": {},
     "output_type": "execute_result"
    }
   ],
   "source": [
    "string.ascii_lowercase"
   ]
  },
  {
   "cell_type": "code",
   "execution_count": 3,
   "metadata": {},
   "outputs": [
    {
     "name": "stdout",
     "output_type": "stream",
     "text": [
      "['v', 'p', 'g', 'j', 't', 't', 'k', 'c', 'n', 'f', 'y', 'b', 'k', 'h', 'n', 'x', 'i', 'z', 'o', 'l']\n"
     ]
    }
   ],
   "source": [
    "x = random.choices(string.ascii_lowercase, k=20)\n",
    "print(x)"
   ]
  },
  {
   "cell_type": "code",
   "execution_count": 4,
   "metadata": {},
   "outputs": [
    {
     "name": "stdout",
     "output_type": "stream",
     "text": [
      "['b', 'c', 'f', 'g', 'h', 'i', 'j', 'k', 'k', 'l', 'n', 'n', 'o', 'p', 't', 't', 'v', 'x', 'y', 'z']\n"
     ]
    }
   ],
   "source": [
    "x = sorted(x)  \n",
    "print(x)"
   ]
  },
  {
   "cell_type": "markdown",
   "metadata": {},
   "source": [
    "__NOTE:__ To use groupby, first the elements need to be sorted"
   ]
  },
  {
   "cell_type": "code",
   "execution_count": 5,
   "metadata": {},
   "outputs": [
    {
     "name": "stdout",
     "output_type": "stream",
     "text": [
      "key: b, group:['b']\n",
      "key: c, group:['c']\n",
      "key: f, group:['f']\n",
      "key: g, group:['g']\n",
      "key: h, group:['h']\n",
      "key: i, group:['i']\n",
      "key: j, group:['j']\n",
      "key: k, group:['k', 'k']\n",
      "key: l, group:['l']\n",
      "key: n, group:['n', 'n']\n",
      "key: o, group:['o']\n",
      "key: p, group:['p']\n",
      "key: t, group:['t', 't']\n",
      "key: v, group:['v']\n",
      "key: x, group:['x']\n",
      "key: y, group:['y']\n",
      "key: z, group:['z']\n"
     ]
    }
   ],
   "source": [
    "for key, group in itertools.groupby(x):\n",
    "    print(f'key: {key}, group:{list(group)}')"
   ]
  },
  {
   "cell_type": "code",
   "execution_count": 6,
   "metadata": {},
   "outputs": [
    {
     "name": "stdout",
     "output_type": "stream",
     "text": [
      "ABC ==> [('213123123123', 'ABC')] \n",
      "BCD ==> [('45345453453453', 'BCD'), ('999999999999', 'BCD')] \n",
      "EFG ==> [('4354534534534', 'EFG')] \n",
      "FGH ==> [('45345453453453', 'FGH')] \n",
      "ABC ==> [('3243242344324343', 'ABC')] \n",
      "DEF ==> [('5555577777777', 'DEF')] \n"
     ]
    }
   ],
   "source": [
    "data= [\n",
    "    ('213123123123', 'ABC'),\n",
    "    ('45345453453453', 'BCD'),\n",
    "    ('999999999999', 'BCD'),\n",
    "    ('4354534534534', 'EFG'),\n",
    "    ('45345453453453', 'FGH'),\n",
    "    ('3243242344324343', 'ABC'),\n",
    "    ('5555577777777', 'DEF'),\n",
    "]\n",
    "\n",
    "\n",
    "for key, group in itertools.groupby(data, key=lambda x:x[1]):\n",
    "    print(f'{key} ==> {list(group)} ')"
   ]
  },
  {
   "cell_type": "markdown",
   "metadata": {},
   "source": [
    "__NOTE:__ Notice that keys are duplicated. This is because of the data is unsorted"
   ]
  },
  {
   "cell_type": "code",
   "execution_count": 7,
   "metadata": {},
   "outputs": [
    {
     "data": {
      "text/plain": [
       "[('213123123123', 'ABC'),\n",
       " ('3243242344324343', 'ABC'),\n",
       " ('45345453453453', 'BCD'),\n",
       " ('999999999999', 'BCD'),\n",
       " ('5555577777777', 'DEF'),\n",
       " ('4354534534534', 'EFG'),\n",
       " ('45345453453453', 'FGH')]"
      ]
     },
     "execution_count": 7,
     "metadata": {},
     "output_type": "execute_result"
    }
   ],
   "source": [
    "data = sorted(data, key=lambda x:x[1])\n",
    "data"
   ]
  },
  {
   "cell_type": "code",
   "execution_count": 8,
   "metadata": {},
   "outputs": [
    {
     "name": "stdout",
     "output_type": "stream",
     "text": [
      "ABC ==> [('213123123123', 'ABC'), ('3243242344324343', 'ABC')] \n",
      "BCD ==> [('45345453453453', 'BCD'), ('999999999999', 'BCD')] \n",
      "DEF ==> [('5555577777777', 'DEF')] \n",
      "EFG ==> [('4354534534534', 'EFG')] \n",
      "FGH ==> [('45345453453453', 'FGH')] \n"
     ]
    }
   ],
   "source": [
    "for key, group in itertools.groupby(data, key=lambda x:x[1]):\n",
    "    print(f'{key} ==> {list(group)} ')"
   ]
  },
  {
   "cell_type": "code",
   "execution_count": 9,
   "metadata": {},
   "outputs": [],
   "source": [
    "# Ex: group by the even and odd \n",
    "\n",
    "def check_even(n):\n",
    "    if n%2:\n",
    "        return 'odd'\n",
    "    return 'even'\n",
    "\n",
    "def grouper(iterable):\n",
    "    iterable = sorted(iterable, key= check_even)\n",
    "    print(iterable)\n",
    "    \n",
    "    for key , group in itertools.groupby(iterable, check_even):\n",
    "        print(f'{key} ===> {list(group)}')\n",
    "        "
   ]
  },
  {
   "cell_type": "code",
   "execution_count": 10,
   "metadata": {},
   "outputs": [
    {
     "name": "stdout",
     "output_type": "stream",
     "text": [
      "[25, 49, 5, 16, 21]\n"
     ]
    }
   ],
   "source": [
    "x = random.sample(list(range(1, 50)), 5)\n",
    "print(x)"
   ]
  },
  {
   "cell_type": "code",
   "execution_count": 11,
   "metadata": {},
   "outputs": [
    {
     "name": "stdout",
     "output_type": "stream",
     "text": [
      "[16, 25, 49, 5, 21]\n",
      "even ===> [16]\n",
      "odd ===> [25, 49, 5, 21]\n"
     ]
    }
   ],
   "source": [
    "grouper(x)"
   ]
  },
  {
   "cell_type": "markdown",
   "metadata": {},
   "source": [
    "## Itertools.compress\n",
    "- It can help to get multiple selected elements, with their indices, at once"
   ]
  },
  {
   "cell_type": "code",
   "execution_count": 12,
   "metadata": {},
   "outputs": [
    {
     "data": {
      "text/plain": [
       "['a', 'd', 'e']"
      ]
     },
     "execution_count": 12,
     "metadata": {},
     "output_type": "execute_result"
    }
   ],
   "source": [
    "list(itertools.compress(['a', 'b', 'c', 'd', 'e', 'f'], [True, False, False, True, True, False]))"
   ]
  },
  {
   "cell_type": "code",
   "execution_count": 13,
   "metadata": {},
   "outputs": [
    {
     "data": {
      "text/plain": [
       "['b', 'c', 'd', 'e', 'f']"
      ]
     },
     "execution_count": 13,
     "metadata": {},
     "output_type": "execute_result"
    }
   ],
   "source": [
    "list(itertools.compress(['a', 'b', 'c', 'd', 'e', 'f'], [0, 1, 1, 1, 1, 1, 1]))"
   ]
  },
  {
   "cell_type": "markdown",
   "metadata": {},
   "source": [
    "## Itertools.count\n",
    "- Infinite iterator that counts up from initialized value"
   ]
  },
  {
   "cell_type": "code",
   "execution_count": 14,
   "metadata": {},
   "outputs": [
    {
     "name": "stdout",
     "output_type": "stream",
     "text": [
      "count(10)\n"
     ]
    }
   ],
   "source": [
    "x = itertools.count(10)\n",
    "print(x)"
   ]
  },
  {
   "cell_type": "code",
   "execution_count": 15,
   "metadata": {},
   "outputs": [
    {
     "data": {
      "text/plain": [
       "itertools.count"
      ]
     },
     "execution_count": 15,
     "metadata": {},
     "output_type": "execute_result"
    }
   ],
   "source": [
    "type(x)"
   ]
  },
  {
   "cell_type": "code",
   "execution_count": 16,
   "metadata": {},
   "outputs": [
    {
     "name": "stdout",
     "output_type": "stream",
     "text": [
      "10,11,12,13,14,15,16,17,18,19,20,21,22,23,24,25,26,27,28,29,30,31,32,33,34,35,36,37,38,39,"
     ]
    }
   ],
   "source": [
    "i = 0\n",
    "while i < 30:\n",
    "    print(next(x), end= ',')\n",
    "    i += 1"
   ]
  },
  {
   "cell_type": "code",
   "execution_count": 17,
   "metadata": {},
   "outputs": [
    {
     "name": "stdout",
     "output_type": "stream",
     "text": [
      "3,4,5,6,7,8,9,10,11,12,13,14,15,16,17,18,19,20,21,22,23,24,25,26,27,28,29,30,31,32,"
     ]
    }
   ],
   "source": [
    "x = itertools.count(3)\n",
    "i = 0\n",
    "while i < 30:\n",
    "    print(next(x), end= ',')\n",
    "    i += 1"
   ]
  },
  {
   "cell_type": "code",
   "execution_count": 18,
   "metadata": {},
   "outputs": [
    {
     "name": "stdout",
     "output_type": "stream",
     "text": [
      "3,5,7,9,11,13,15,17,19,21,23,25,27,29,31,33,35,37,39,41,43,45,47,49,51,53,55,57,59,61,"
     ]
    }
   ],
   "source": [
    "x = itertools.count(3, 2) # (initial_value, step)\n",
    "i = 0\n",
    "while i < 30:\n",
    "    print(next(x), end= ',')\n",
    "    i += 1"
   ]
  },
  {
   "cell_type": "code",
   "execution_count": 20,
   "metadata": {},
   "outputs": [
    {
     "name": "stdout",
     "output_type": "stream",
     "text": [
      "3,8,13,18,23,28,33,38,43,48,53,58,63,68,73,78,83,88,93,98,103,108,113,118,123,128,133,138,143,148,"
     ]
    }
   ],
   "source": [
    "x = itertools.count(3, 5) # (initial_value, step)\n",
    "i = 0\n",
    "while i < 30:\n",
    "    print(next(x), end= ',')\n",
    "    i += 1"
   ]
  },
  {
   "cell_type": "code",
   "execution_count": 21,
   "metadata": {},
   "outputs": [
    {
     "name": "stdout",
     "output_type": "stream",
     "text": [
      "3,2,1,0,-1,-2,-3,-4,-5,-6,-7,-8,-9,-10,-11,-12,-13,-14,-15,-16,-17,-18,-19,-20,-21,-22,-23,-24,-25,-26,"
     ]
    }
   ],
   "source": [
    "# count down \n",
    "x = itertools.count(3, -1) # (initial_value, step)\n",
    "i = 0\n",
    "while i < 30:\n",
    "    print(next(x), end= ',')\n",
    "    i += 1"
   ]
  },
  {
   "cell_type": "code",
   "execution_count": 23,
   "metadata": {},
   "outputs": [
    {
     "name": "stdout",
     "output_type": "stream",
     "text": [
      "0,1,2,3,4,"
     ]
    }
   ],
   "source": [
    "for i in itertools.islice(range(10), 5):\n",
    "    print(i, end=',')"
   ]
  },
  {
   "cell_type": "code",
   "execution_count": 25,
   "metadata": {},
   "outputs": [
    {
     "name": "stdout",
     "output_type": "stream",
     "text": [
      "10,9,8,7,6,"
     ]
    }
   ],
   "source": [
    "for i in itertools.islice(itertools.count(10, -1), 5):\n",
    "    print(i, end=',')"
   ]
  },
  {
   "cell_type": "code",
   "execution_count": 26,
   "metadata": {},
   "outputs": [
    {
     "data": {
      "text/plain": [
       "[10, 9, 8, 7, 6]"
      ]
     },
     "execution_count": 26,
     "metadata": {},
     "output_type": "execute_result"
    }
   ],
   "source": [
    "list(itertools.islice(itertools.count(10, -1), 5))"
   ]
  },
  {
   "cell_type": "code",
   "execution_count": 27,
   "metadata": {},
   "outputs": [
    {
     "data": {
      "text/plain": [
       "[5, 4, 3, 2, 1]"
      ]
     },
     "execution_count": 27,
     "metadata": {},
     "output_type": "execute_result"
    }
   ],
   "source": [
    "list(itertools.islice(itertools.count(10, -1), 5, 10)) # start, end"
   ]
  },
  {
   "cell_type": "code",
   "execution_count": 28,
   "metadata": {},
   "outputs": [
    {
     "data": {
      "text/plain": [
       "[5, 3, 1]"
      ]
     },
     "execution_count": 28,
     "metadata": {},
     "output_type": "execute_result"
    }
   ],
   "source": [
    "list(itertools.islice(itertools.count(10, -1), 5, 10, 2)) # start, end, step"
   ]
  },
  {
   "cell_type": "code",
   "execution_count": 29,
   "metadata": {},
   "outputs": [
    {
     "name": "stdout",
     "output_type": "stream",
     "text": [
      "<list_iterator object at 0x0000000005E3E320> <tuple_iterator object at 0x0000000005E3E2B0> <set_iterator object at 0x0000000005DD8708>\n"
     ]
    }
   ],
   "source": [
    "x = iter([1, 2, 3, 4])\n",
    "y = iter((5, 6, 7, 8, 9))\n",
    "z = iter({10, 11})\n",
    "\n",
    "print(x, y, z)"
   ]
  },
  {
   "cell_type": "code",
   "execution_count": 30,
   "metadata": {},
   "outputs": [
    {
     "ename": "TypeError",
     "evalue": "unsupported operand type(s) for +: 'list_iterator' and 'tuple_iterator'",
     "output_type": "error",
     "traceback": [
      "\u001b[1;31m---------------------------------------------------------------------------\u001b[0m",
      "\u001b[1;31mTypeError\u001b[0m                                 Traceback (most recent call last)",
      "\u001b[1;32m<ipython-input-30-cd60f97aa77f>\u001b[0m in \u001b[0;36m<module>\u001b[1;34m\u001b[0m\n\u001b[1;32m----> 1\u001b[1;33m \u001b[0mx\u001b[0m \u001b[1;33m+\u001b[0m \u001b[0my\u001b[0m\u001b[1;33m\u001b[0m\u001b[1;33m\u001b[0m\u001b[0m\n\u001b[0m",
      "\u001b[1;31mTypeError\u001b[0m: unsupported operand type(s) for +: 'list_iterator' and 'tuple_iterator'"
     ]
    }
   ],
   "source": [
    "x + y"
   ]
  },
  {
   "cell_type": "code",
   "execution_count": 31,
   "metadata": {},
   "outputs": [
    {
     "data": {
      "text/plain": [
       "[1, 2, 3, 4, 5, 6, 7, 8, 9, 10, 11]"
      ]
     },
     "execution_count": 31,
     "metadata": {},
     "output_type": "execute_result"
    }
   ],
   "source": [
    "list(itertools.chain(x, y, z))"
   ]
  },
  {
   "cell_type": "code",
   "execution_count": 43,
   "metadata": {},
   "outputs": [
    {
     "data": {
      "text/plain": [
       "[<list_iterator at 0x643f198>, <tuple_iterator at 0x643f128>]"
      ]
     },
     "execution_count": 43,
     "metadata": {},
     "output_type": "execute_result"
    }
   ],
   "source": [
    "x = iter([1, 2, 3, 4])\n",
    "y = iter((5, 6, 7, 8, 9))\n",
    "z = [x, y]\n",
    "z"
   ]
  },
  {
   "cell_type": "code",
   "execution_count": 45,
   "metadata": {},
   "outputs": [
    {
     "data": {
      "text/plain": [
       "[<list_iterator at 0x643f198>, <tuple_iterator at 0x643f128>]"
      ]
     },
     "execution_count": 45,
     "metadata": {},
     "output_type": "execute_result"
    }
   ],
   "source": [
    "list(itertools.chain(z)) # Limitation"
   ]
  },
  {
   "cell_type": "code",
   "execution_count": 44,
   "metadata": {},
   "outputs": [
    {
     "data": {
      "text/plain": [
       "[1, 2, 3, 4, 5, 6, 7, 8, 9]"
      ]
     },
     "execution_count": 44,
     "metadata": {},
     "output_type": "execute_result"
    }
   ],
   "source": [
    "list(itertools.chain(*z)) "
   ]
  },
  {
   "cell_type": "code",
   "execution_count": 47,
   "metadata": {},
   "outputs": [
    {
     "data": {
      "text/plain": [
       "[1, 2, 3, 4, 5, 6, 7, 8, 9]"
      ]
     },
     "execution_count": 47,
     "metadata": {},
     "output_type": "execute_result"
    }
   ],
   "source": [
    "x = iter([1, 2, 3, 4])\n",
    "y = iter((5, 6, 7, 8, 9))\n",
    "z = [x, y]\n",
    "list(itertools.chain.from_iterable(z)) "
   ]
  },
  {
   "cell_type": "code",
   "execution_count": 51,
   "metadata": {},
   "outputs": [
    {
     "name": "stdout",
     "output_type": "stream",
     "text": [
      "[(1, 'a'), (2, 'b')]\n",
      "[(1, 'a'), (2, 'b'), (3, None), (4, None), (5, None), (6, None)]\n",
      "[(1, 'a'), (2, 'b'), (3, 0), (4, 0), (5, 0), (6, 0)]\n"
     ]
    }
   ],
   "source": [
    "a1 = (1, 2, 3, 4, 5, 6)\n",
    "a2 = ('a', 'b')\n",
    "\n",
    "print(list(zip(a1, a2)))\n",
    "print(list(itertools.zip_longest(a1, a2)))\n",
    "print(list(itertools.zip_longest(a1, a2, fillvalue=0)))"
   ]
  },
  {
   "cell_type": "markdown",
   "metadata": {},
   "source": [
    "## Itertools - dropwhile and takewhile"
   ]
  },
  {
   "cell_type": "code",
   "execution_count": 52,
   "metadata": {},
   "outputs": [
    {
     "name": "stdout",
     "output_type": "stream",
     "text": [
      "[0, 2, 4, 6, 8]\n"
     ]
    }
   ],
   "source": [
    "evens = list(range(0, 10, 2))\n",
    "print(evens)"
   ]
  },
  {
   "cell_type": "code",
   "execution_count": 53,
   "metadata": {},
   "outputs": [
    {
     "data": {
      "text/plain": [
       "[4, 6, 8]"
      ]
     },
     "execution_count": 53,
     "metadata": {},
     "output_type": "execute_result"
    }
   ],
   "source": [
    "list(filter(lambda x:x>2, evens))"
   ]
  },
  {
   "cell_type": "code",
   "execution_count": 54,
   "metadata": {},
   "outputs": [
    {
     "data": {
      "text/plain": [
       "[0, 2, 4, 6, 8]"
      ]
     },
     "execution_count": 54,
     "metadata": {},
     "output_type": "execute_result"
    }
   ],
   "source": [
    "list(itertools.dropwhile(lambda x:x>2, evens))"
   ]
  },
  {
   "cell_type": "code",
   "execution_count": null,
   "metadata": {},
   "outputs": [],
   "source": []
  }
 ],
 "metadata": {
  "kernelspec": {
   "display_name": "Python 3",
   "language": "python",
   "name": "python3"
  },
  "language_info": {
   "codemirror_mode": {
    "name": "ipython",
    "version": 3
   },
   "file_extension": ".py",
   "mimetype": "text/x-python",
   "name": "python",
   "nbconvert_exporter": "python",
   "pygments_lexer": "ipython3",
   "version": "3.7.1"
  }
 },
 "nbformat": 4,
 "nbformat_minor": 2
}
