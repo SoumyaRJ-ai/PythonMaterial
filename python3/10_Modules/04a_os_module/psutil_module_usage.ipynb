{
 "cells": [
  {
   "cell_type": "code",
   "execution_count": 1,
   "metadata": {},
   "outputs": [],
   "source": [
    "import psutil\n",
    "import datetime"
   ]
  },
  {
   "cell_type": "code",
   "execution_count": 2,
   "metadata": {},
   "outputs": [
    {
     "name": "stdout",
     "output_type": "stream",
     "text": [
      "System boot time: 2023-05-03 22:06:49\n"
     ]
    }
   ],
   "source": [
    "boot_time = psutil.boot_time()\n",
    "print(\n",
    "    f\"System boot time: {datetime.datetime.fromtimestamp(boot_time).strftime('%Y-%m-%d %H:%M:%S')}\"\n",
    ")"
   ]
  },
  {
   "cell_type": "code",
   "execution_count": 3,
   "metadata": {},
   "outputs": [
    {
     "name": "stdout",
     "output_type": "stream",
     "text": [
      "CPU usage: 22.1%\n"
     ]
    }
   ],
   "source": [
    "cpu_percent = psutil.cpu_percent()\n",
    "print(f\"CPU usage: {cpu_percent}%\")"
   ]
  },
  {
   "cell_type": "code",
   "execution_count": 4,
   "metadata": {},
   "outputs": [
    {
     "name": "stdout",
     "output_type": "stream",
     "text": [
      "Total memory       : 8464355328\n",
      "Available memory   : 981037056\n",
      "Memory percent used: 88.4%\n"
     ]
    }
   ],
   "source": [
    "mem_info = psutil.virtual_memory()\n",
    "print(f\"Total memory       : {mem_info.total}\")\n",
    "print(f\"Available memory   : {mem_info.available}\")\n",
    "print(f\"Memory percent used: {mem_info.percent}%\")"
   ]
  },
  {
   "cell_type": "code",
   "execution_count": 5,
   "metadata": {},
   "outputs": [
    {
     "name": "stdout",
     "output_type": "stream",
     "text": [
      "Total disk space       : 1000187359232\n",
      "Free disk space        : 487651020800\n",
      "Disk space percent used: 51.2%\n"
     ]
    }
   ],
   "source": [
    "disk_usage = psutil.disk_usage(\"/\")\n",
    "print(f\"Total disk space       : {disk_usage.total}\")\n",
    "print(f\"Free disk space        : {disk_usage.free}\")\n",
    "print(f\"Disk space percent used: {disk_usage.percent}%\")"
   ]
  },
  {
   "cell_type": "code",
   "execution_count": 6,
   "metadata": {},
   "outputs": [
    {
     "name": "stdout",
     "output_type": "stream",
     "text": [
      "Number of processes: 303\n"
     ]
    }
   ],
   "source": [
    "# No of running processes\n",
    "\n",
    "num_processes = len(psutil.pids())\n",
    "print(f\"Number of processes: {num_processes}\")"
   ]
  },
  {
   "cell_type": "code",
   "execution_count": 7,
   "metadata": {},
   "outputs": [
    {
     "name": "stdout",
     "output_type": "stream",
     "text": [
      "Process name       : RuntimeBroker.exe\n",
      "Process status     : running\n",
      "Process memory info: pmem(rss=7565312, vms=1826816, num_page_faults=3262, peak_wset=12050432, wset=7565312, peak_paged_pool=152496, paged_pool=105280, peak_nonpaged_pool=11584, nonpaged_pool=8288, pagefile=1826816, peak_pagefile=2891776, private=1826816)\n",
      "Process CPU usage: 0.0%\n",
      "Process memory usage: 7565312\n",
      "Process start time: 1683275764.4022877\n",
      "Process command line: ['C:\\\\Windows\\\\System32\\\\RuntimeBroker.exe', '-Embedding']\n",
      "\n",
      "Process name       : GameBar.exe\n",
      "Process status     : stopped\n",
      "Process memory info: pmem(rss=20606976, vms=19550208, num_page_faults=17774, peak_wset=69287936, wset=20606976, peak_paged_pool=738200, paged_pool=736104, peak_nonpaged_pool=128088, nonpaged_pool=34056, pagefile=19550208, peak_pagefile=21291008, private=19550208)\n",
      "Process CPU usage: 0.0%\n",
      "Process memory usage: 20606976\n",
      "Process start time: 1683270201.326233\n",
      "Process command line: ['C:\\\\Program Files\\\\WindowsApps\\\\Microsoft.XboxGamingOverlay_5.823.3261.0_x64__8wekyb3d8bbwe\\\\GameBar.exe', '-ServerName:App.AppXbdkk0yrkwpcgeaem8zk81k8py1eaahny.mca']\n",
      "\n",
      "Process name       : RuntimeBroker.exe\n",
      "Process status     : running\n",
      "Process memory info: pmem(rss=20402176, vms=4096000, num_page_faults=8568, peak_wset=25821184, wset=20402176, peak_paged_pool=308392, paged_pool=285016, peak_nonpaged_pool=49752, nonpaged_pool=16992, pagefile=4096000, peak_pagefile=6078464, private=4096000)\n",
      "Process CPU usage: 0.0%\n",
      "Process memory usage: 20402176\n",
      "Process start time: 1683270202.5244117\n",
      "Process command line: ['C:\\\\Windows\\\\System32\\\\RuntimeBroker.exe', '-Embedding']\n",
      "\n",
      "Process name       : svchost.exe\n",
      "Process status     : running\n",
      "Process memory info: pmem(rss=23506944, vms=5013504, num_page_faults=16962, peak_wset=29560832, wset=23506944, peak_paged_pool=345080, paged_pool=288280, peak_nonpaged_pool=28640, nonpaged_pool=20048, pagefile=5013504, peak_pagefile=6246400, private=5013504)\n",
      "Process CPU usage: 0.0%\n",
      "Process memory usage: 23506944\n",
      "Process start time: 1683270202.694606\n",
      "Process command line: ['C:\\\\WINDOWS\\\\system32\\\\svchost.exe', '-k', 'BcastDVRUserService', '-s', 'BcastDVRUserService']\n",
      "\n",
      "Process name       : GameBarFTServer.exe\n",
      "Process status     : running\n",
      "Process memory info: pmem(rss=15052800, vms=3411968, num_page_faults=4888, peak_wset=17539072, wset=15052800, peak_paged_pool=215048, paged_pool=204032, peak_nonpaged_pool=16640, nonpaged_pool=14000, pagefile=3411968, peak_pagefile=3993600, private=3411968)\n",
      "Process CPU usage: 0.0%\n",
      "Process memory usage: 15052800\n",
      "Process start time: 1683270202.6949413\n",
      "Process command line: ['C:\\\\Program Files\\\\WindowsApps\\\\Microsoft.XboxGamingOverlay_5.823.3261.0_x64__8wekyb3d8bbwe\\\\GameBarFTServer.exe', '-Embedding']\n",
      "\n"
     ]
    }
   ],
   "source": [
    "pids_5 = list(psutil.pids())[-5:]\n",
    "\n",
    "for pid in pids_5:\n",
    "    process = psutil.Process(pid)\n",
    "    print(f\"Process name       : {process.name()}\")\n",
    "    print(f\"Process status     : {process.status()}\")\n",
    "    print(f\"Process memory info: {process.memory_info()}\")\n",
    "\n",
    "    cpu_percent = process.cpu_percent(interval=1)\n",
    "    print(f\"Process CPU usage: {cpu_percent}%\")\n",
    "\n",
    "    memory_info = process.memory_info()\n",
    "    print(f\"Process memory usage: {memory_info.rss}\")\n",
    "\n",
    "    start_time = process.create_time()\n",
    "    print(f\"Process start time: {start_time}\")\n",
    "\n",
    "    cmdline = process.cmdline()\n",
    "    print(f\"Process command line: {cmdline}\")\n",
    "    print()"
   ]
  },
  {
   "cell_type": "markdown",
   "metadata": {},
   "source": [
    "```\n",
    "    pid = 1234\n",
    "    process = psutil.Process(pid)\n",
    "\n",
    "    # Suspend a process\n",
    "    process.suspend()\n",
    "\n",
    "    # Resume a process\n",
    "    process.resume()\n",
    "\n",
    "    # Kill a process\n",
    "    process.kill()\n",
    "```"
   ]
  },
  {
   "cell_type": "code",
   "execution_count": 8,
   "metadata": {},
   "outputs": [],
   "source": [
    "# Get the process ID (PID) of a process by name\n",
    "process_name = \"python\"\n",
    "for proc in psutil.process_iter([\"name\"]):\n",
    "    if proc.info[\"name\"] == process_name:\n",
    "        print(f\"PID of {process_name}: {proc.pid}\")"
   ]
  },
  {
   "cell_type": "code",
   "execution_count": 9,
   "metadata": {},
   "outputs": [
    {
     "data": {
      "text/plain": [
       "{'Local Area Connection': snetio(bytes_sent=0, bytes_recv=0, packets_sent=0, packets_recv=0, errin=0, errout=0, dropin=0, dropout=0),\n",
       " 'Local Area Connection* 1': snetio(bytes_sent=0, bytes_recv=0, packets_sent=0, packets_recv=0, errin=0, errout=0, dropin=0, dropout=0),\n",
       " 'Local Area Connection* 2': snetio(bytes_sent=0, bytes_recv=0, packets_sent=0, packets_recv=0, errin=0, errout=0, dropin=0, dropout=0),\n",
       " 'Wi-Fi': snetio(bytes_sent=3459611032, bytes_recv=3829345662, packets_sent=4011813, packets_recv=3440740, errin=0, errout=0, dropin=0, dropout=0),\n",
       " 'Loopback Pseudo-Interface 1': snetio(bytes_sent=0, bytes_recv=0, packets_sent=0, packets_recv=0, errin=0, errout=0, dropin=0, dropout=0)}"
      ]
     },
     "execution_count": 9,
     "metadata": {},
     "output_type": "execute_result"
    }
   ],
   "source": [
    "# Get the network usage for a given network interface\n",
    "\n",
    "net_io_counters = psutil.net_io_counters(pernic=True)\n",
    "\n",
    "net_io_counters"
   ]
  },
  {
   "cell_type": "code",
   "execution_count": 10,
   "metadata": {},
   "outputs": [
    {
     "name": "stdout",
     "output_type": "stream",
     "text": [
      "\n",
      "Bytes sent  : 0\n",
      "Bytes received: 0\n",
      "Packets sent  : 0\n",
      "Packets received: 0\n",
      "DropIn        : 0\n",
      "DropOut       : 0\n",
      "count         : <built-in method count of snetio object at 0x000001D1B70C8740>\n",
      "\n",
      "Bytes sent  : 0\n",
      "Bytes received: 0\n",
      "Packets sent  : 0\n",
      "Packets received: 0\n",
      "DropIn        : 0\n",
      "DropOut       : 0\n",
      "count         : <built-in method count of snetio object at 0x000001D1B70C87B0>\n",
      "\n",
      "Bytes sent  : 0\n",
      "Bytes received: 0\n",
      "Packets sent  : 0\n",
      "Packets received: 0\n",
      "DropIn        : 0\n",
      "DropOut       : 0\n",
      "count         : <built-in method count of snetio object at 0x000001D1B70C8820>\n",
      "\n",
      "Bytes sent  : 3459611032\n",
      "Bytes received: 3829345662\n",
      "Packets sent  : 4011813\n",
      "Packets received: 3440740\n",
      "DropIn        : 0\n",
      "DropOut       : 0\n",
      "count         : <built-in method count of snetio object at 0x000001D1B70C8890>\n",
      "\n",
      "Bytes sent  : 0\n",
      "Bytes received: 0\n",
      "Packets sent  : 0\n",
      "Packets received: 0\n",
      "DropIn        : 0\n",
      "DropOut       : 0\n",
      "count         : <built-in method count of snetio object at 0x000001D1B70C8900>\n"
     ]
    }
   ],
   "source": [
    "for interface in net_io_counters:\n",
    "    print(f\"\\nBytes sent  : {net_io_counters[interface].bytes_sent}\")\n",
    "    print(f\"Bytes received: {net_io_counters[interface].bytes_recv}\")\n",
    "    print(f\"Packets sent  : {net_io_counters[interface].packets_sent}\")\n",
    "    print(f\"Packets received: {net_io_counters[interface].packets_recv}\")\n",
    "    print(f\"DropIn        : {net_io_counters[interface].dropin}\")\n",
    "    print(f\"DropOut       : {net_io_counters[interface].dropout}\")\n",
    "    print(f\"count         : {net_io_counters[interface].count}\")"
   ]
  },
  {
   "cell_type": "code",
   "execution_count": 11,
   "metadata": {},
   "outputs": [
    {
     "name": "stdout",
     "output_type": "stream",
     "text": [
      "Number of connections: 222\n"
     ]
    }
   ],
   "source": [
    "num_connections = len(psutil.net_connections())\n",
    "print(f\"Number of connections: {num_connections}\")"
   ]
  },
  {
   "cell_type": "code",
   "execution_count": 12,
   "metadata": {},
   "outputs": [
    {
     "name": "stdout",
     "output_type": "stream",
     "text": [
      "C:\\\n",
      "D:\\\n",
      "G:\\\n"
     ]
    }
   ],
   "source": [
    "# Get the list of mounted file systems\n",
    "\n",
    "partitions = psutil.disk_partitions(all=True)\n",
    "for partition in partitions:\n",
    "    print(partition.mountpoint)"
   ]
  },
  {
   "cell_type": "code",
   "execution_count": 13,
   "metadata": {},
   "outputs": [
    {
     "name": "stdout",
     "output_type": "stream",
     "text": [
      "Battery level: 73% (Plugged in)\n"
     ]
    }
   ],
   "source": [
    "battery = psutil.sensors_battery()\n",
    "if battery is not None:\n",
    "    plugged = \"Plugged in\" if battery.power_plugged else \"Not plugged in\"\n",
    "    print(f\"Battery level: {battery.percent}% ({plugged})\")\n",
    "else:\n",
    "    print(\"Battery information not available\")"
   ]
  }
 ],
 "metadata": {
  "kernelspec": {
   "display_name": "pythonmaterial-4Fyt9FjG-py3.11",
   "language": "python",
   "name": "python3"
  },
  "language_info": {
   "codemirror_mode": {
    "name": "ipython",
    "version": 3
   },
   "file_extension": ".py",
   "mimetype": "text/x-python",
   "name": "python",
   "nbconvert_exporter": "python",
   "pygments_lexer": "ipython3",
   "version": "3.11.3"
  },
  "orig_nbformat": 4
 },
 "nbformat": 4,
 "nbformat_minor": 2
}
