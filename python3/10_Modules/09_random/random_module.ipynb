{
 "cells": [
  {
   "cell_type": "markdown",
   "metadata": {},
   "source": [
    " Python random module, uses pseudo-random generator (PRNG)  called the __Mersenne Twister__. "
   ]
  },
  {
   "cell_type": "markdown",
   "metadata": {},
   "source": [
    "__NOTE:__ random module is good enough for many purposes, including simulations, \n",
    "numerical analysis, and games, but it’s definitely not good enough for \n",
    "cryptographic use.\n",
    "\n",
    "In Python3, 'secret' module is used for cryptographic purpose.\n"
   ]
  },
  {
   "cell_type": "code",
   "execution_count": 1,
   "metadata": {},
   "outputs": [],
   "source": [
    "import random"
   ]
  },
  {
   "cell_type": "code",
   "execution_count": 2,
   "metadata": {},
   "outputs": [
    {
     "name": "stdout",
     "output_type": "stream",
     "text": [
      "['BPF', 'LOG4', 'NV_MAGICCONST', 'RECIP_BPF', 'Random', 'SG_MAGICCONST', 'SystemRandom', 'TWOPI', '_BuiltinMethodType', '_MethodType', '_Sequence', '_Set', '__all__', '__builtins__', '__cached__', '__doc__', '__file__', '__loader__', '__name__', '__package__', '__spec__', '_acos', '_bisect', '_ceil', '_cos', '_e', '_exp', '_inst', '_itertools', '_log', '_os', '_pi', '_random', '_sha512', '_sin', '_sqrt', '_test', '_test_generator', '_urandom', '_warn', 'betavariate', 'choice', 'choices', 'expovariate', 'gammavariate', 'gauss', 'getrandbits', 'getstate', 'lognormvariate', 'normalvariate', 'paretovariate', 'randint', 'random', 'randrange', 'sample', 'seed', 'setstate', 'shuffle', 'triangular', 'uniform', 'vonmisesvariate', 'weibullvariate']\n"
     ]
    }
   ],
   "source": [
    "print(dir(random))"
   ]
  },
  {
   "cell_type": "code",
   "execution_count": 3,
   "metadata": {},
   "outputs": [
    {
     "name": "stdout",
     "output_type": "stream",
     "text": [
      "Help on module random:\n",
      "\n",
      "NAME\n",
      "    random - Random variable generators.\n",
      "\n",
      "DESCRIPTION\n",
      "        integers\n",
      "        --------\n",
      "               uniform within range\n",
      "    \n",
      "        sequences\n",
      "        ---------\n",
      "               pick random element\n",
      "               pick random sample\n",
      "               pick weighted random sample\n",
      "               generate random permutation\n",
      "    \n",
      "        distributions on the real line:\n",
      "        ------------------------------\n",
      "               uniform\n",
      "               triangular\n",
      "               normal (Gaussian)\n",
      "               lognormal\n",
      "               negative exponential\n",
      "               gamma\n",
      "               beta\n",
      "               pareto\n",
      "               Weibull\n",
      "    \n",
      "        distributions on the circle (angles 0 to 2pi)\n",
      "        ---------------------------------------------\n",
      "               circular uniform\n",
      "               von Mises\n",
      "    \n",
      "    General notes on the underlying Mersenne Twister core generator:\n",
      "    \n",
      "    * The period is 2**19937-1.\n",
      "    * It is one of the most extensively tested generators in existence.\n",
      "    * The random() method is implemented in C, executes in a single Python step,\n",
      "      and is, therefore, threadsafe.\n",
      "\n",
      "CLASSES\n",
      "    _random.Random(builtins.object)\n",
      "        Random\n",
      "            SystemRandom\n",
      "    \n",
      "    class Random(_random.Random)\n",
      "     |  Random(x=None)\n",
      "     |  \n",
      "     |  Random number generator base class used by bound module functions.\n",
      "     |  \n",
      "     |  Used to instantiate instances of Random to get generators that don't\n",
      "     |  share state.\n",
      "     |  \n",
      "     |  Class Random can also be subclassed if you want to use a different basic\n",
      "     |  generator of your own devising: in that case, override the following\n",
      "     |  methods:  random(), seed(), getstate(), and setstate().\n",
      "     |  Optionally, implement a getrandbits() method so that randrange()\n",
      "     |  can cover arbitrarily large ranges.\n",
      "     |  \n",
      "     |  Method resolution order:\n",
      "     |      Random\n",
      "     |      _random.Random\n",
      "     |      builtins.object\n",
      "     |  \n",
      "     |  Methods defined here:\n",
      "     |  \n",
      "     |  __getstate__(self)\n",
      "     |      # Issue 17489: Since __reduce__ was defined to fix #759889 this is no\n",
      "     |      # longer called; we leave it here because it has been here since random was\n",
      "     |      # rewritten back in 2001 and why risk breaking something.\n",
      "     |  \n",
      "     |  __init__(self, x=None)\n",
      "     |      Initialize an instance.\n",
      "     |      \n",
      "     |      Optional argument x controls seeding, as for Random.seed().\n",
      "     |  \n",
      "     |  __reduce__(self)\n",
      "     |      Helper for pickle.\n",
      "     |  \n",
      "     |  __setstate__(self, state)\n",
      "     |  \n",
      "     |  betavariate(self, alpha, beta)\n",
      "     |      Beta distribution.\n",
      "     |      \n",
      "     |      Conditions on the parameters are alpha > 0 and beta > 0.\n",
      "     |      Returned values range between 0 and 1.\n",
      "     |  \n",
      "     |  choice(self, seq)\n",
      "     |      Choose a random element from a non-empty sequence.\n",
      "     |  \n",
      "     |  choices(self, population, weights=None, *, cum_weights=None, k=1)\n",
      "     |      Return a k sized list of population elements chosen with replacement.\n",
      "     |      \n",
      "     |      If the relative weights or cumulative weights are not specified,\n",
      "     |      the selections are made with equal probability.\n",
      "     |  \n",
      "     |  expovariate(self, lambd)\n",
      "     |      Exponential distribution.\n",
      "     |      \n",
      "     |      lambd is 1.0 divided by the desired mean.  It should be\n",
      "     |      nonzero.  (The parameter would be called \"lambda\", but that is\n",
      "     |      a reserved word in Python.)  Returned values range from 0 to\n",
      "     |      positive infinity if lambd is positive, and from negative\n",
      "     |      infinity to 0 if lambd is negative.\n",
      "     |  \n",
      "     |  gammavariate(self, alpha, beta)\n",
      "     |      Gamma distribution.  Not the gamma function!\n",
      "     |      \n",
      "     |      Conditions on the parameters are alpha > 0 and beta > 0.\n",
      "     |      \n",
      "     |      The probability distribution function is:\n",
      "     |      \n",
      "     |                  x ** (alpha - 1) * math.exp(-x / beta)\n",
      "     |        pdf(x) =  --------------------------------------\n",
      "     |                    math.gamma(alpha) * beta ** alpha\n",
      "     |  \n",
      "     |  gauss(self, mu, sigma)\n",
      "     |      Gaussian distribution.\n",
      "     |      \n",
      "     |      mu is the mean, and sigma is the standard deviation.  This is\n",
      "     |      slightly faster than the normalvariate() function.\n",
      "     |      \n",
      "     |      Not thread-safe without a lock around calls.\n",
      "     |  \n",
      "     |  getstate(self)\n",
      "     |      Return internal state; can be passed to setstate() later.\n",
      "     |  \n",
      "     |  lognormvariate(self, mu, sigma)\n",
      "     |      Log normal distribution.\n",
      "     |      \n",
      "     |      If you take the natural logarithm of this distribution, you'll get a\n",
      "     |      normal distribution with mean mu and standard deviation sigma.\n",
      "     |      mu can have any value, and sigma must be greater than zero.\n",
      "     |  \n",
      "     |  normalvariate(self, mu, sigma)\n",
      "     |      Normal distribution.\n",
      "     |      \n",
      "     |      mu is the mean, and sigma is the standard deviation.\n",
      "     |  \n",
      "     |  paretovariate(self, alpha)\n",
      "     |      Pareto distribution.  alpha is the shape parameter.\n",
      "     |  \n",
      "     |  randint(self, a, b)\n",
      "     |      Return random integer in range [a, b], including both end points.\n",
      "     |  \n",
      "     |  randrange(self, start, stop=None, step=1, _int=<class 'int'>)\n",
      "     |      Choose a random item from range(start, stop[, step]).\n",
      "     |      \n",
      "     |      This fixes the problem with randint() which includes the\n",
      "     |      endpoint; in Python this is usually not what you want.\n",
      "     |  \n",
      "     |  sample(self, population, k)\n",
      "     |      Chooses k unique random elements from a population sequence or set.\n",
      "     |      \n",
      "     |      Returns a new list containing elements from the population while\n",
      "     |      leaving the original population unchanged.  The resulting list is\n",
      "     |      in selection order so that all sub-slices will also be valid random\n",
      "     |      samples.  This allows raffle winners (the sample) to be partitioned\n",
      "     |      into grand prize and second place winners (the subslices).\n",
      "     |      \n",
      "     |      Members of the population need not be hashable or unique.  If the\n",
      "     |      population contains repeats, then each occurrence is a possible\n",
      "     |      selection in the sample.\n",
      "     |      \n",
      "     |      To choose a sample in a range of integers, use range as an argument.\n",
      "     |      This is especially fast and space efficient for sampling from a\n",
      "     |      large population:   sample(range(10000000), 60)\n",
      "     |  \n",
      "     |  seed(self, a=None, version=2)\n",
      "     |      Initialize internal state from hashable object.\n",
      "     |      \n",
      "     |      None or no argument seeds from current time or from an operating\n",
      "     |      system specific randomness source if available.\n",
      "     |      \n",
      "     |      If *a* is an int, all bits are used.\n",
      "     |      \n",
      "     |      For version 2 (the default), all of the bits are used if *a* is a str,\n",
      "     |      bytes, or bytearray.  For version 1 (provided for reproducing random\n",
      "     |      sequences from older versions of Python), the algorithm for str and\n",
      "     |      bytes generates a narrower range of seeds.\n",
      "     |  \n",
      "     |  setstate(self, state)\n",
      "     |      Restore internal state from object returned by getstate().\n",
      "     |  \n",
      "     |  shuffle(self, x, random=None)\n",
      "     |      Shuffle list x in place, and return None.\n",
      "     |      \n",
      "     |      Optional argument random is a 0-argument function returning a\n",
      "     |      random float in [0.0, 1.0); if it is the default None, the\n",
      "     |      standard random.random will be used.\n",
      "     |  \n",
      "     |  triangular(self, low=0.0, high=1.0, mode=None)\n",
      "     |      Triangular distribution.\n",
      "     |      \n",
      "     |      Continuous distribution bounded by given lower and upper limits,\n",
      "     |      and having a given mode value in-between.\n",
      "     |      \n",
      "     |      http://en.wikipedia.org/wiki/Triangular_distribution\n",
      "     |  \n",
      "     |  uniform(self, a, b)\n",
      "     |      Get a random number in the range [a, b) or [a, b] depending on rounding.\n",
      "     |  \n",
      "     |  vonmisesvariate(self, mu, kappa)\n",
      "     |      Circular data distribution.\n",
      "     |      \n",
      "     |      mu is the mean angle, expressed in radians between 0 and 2*pi, and\n",
      "     |      kappa is the concentration parameter, which must be greater than or\n",
      "     |      equal to zero.  If kappa is equal to zero, this distribution reduces\n",
      "     |      to a uniform random angle over the range 0 to 2*pi.\n",
      "     |  \n",
      "     |  weibullvariate(self, alpha, beta)\n",
      "     |      Weibull distribution.\n",
      "     |      \n",
      "     |      alpha is the scale parameter and beta is the shape parameter.\n",
      "     |  \n",
      "     |  ----------------------------------------------------------------------\n",
      "     |  Data descriptors defined here:\n",
      "     |  \n",
      "     |  __dict__\n",
      "     |      dictionary for instance variables (if defined)\n",
      "     |  \n",
      "     |  __weakref__\n",
      "     |      list of weak references to the object (if defined)\n",
      "     |  \n",
      "     |  ----------------------------------------------------------------------\n",
      "     |  Data and other attributes defined here:\n",
      "     |  \n",
      "     |  VERSION = 3\n",
      "     |  \n",
      "     |  ----------------------------------------------------------------------\n",
      "     |  Methods inherited from _random.Random:\n",
      "     |  \n",
      "     |  __getattribute__(self, name, /)\n",
      "     |      Return getattr(self, name).\n",
      "     |  \n",
      "     |  getrandbits(...)\n",
      "     |      getrandbits(k) -> x.  Generates an int with k random bits.\n",
      "     |  \n",
      "     |  random(...)\n",
      "     |      random() -> x in the interval [0, 1).\n",
      "     |  \n",
      "     |  ----------------------------------------------------------------------\n",
      "     |  Static methods inherited from _random.Random:\n",
      "     |  \n",
      "     |  __new__(*args, **kwargs) from builtins.type\n",
      "     |      Create and return a new object.  See help(type) for accurate signature.\n",
      "    \n",
      "    class SystemRandom(Random)\n",
      "     |  SystemRandom(x=None)\n",
      "     |  \n",
      "     |  Alternate random number generator using sources provided\n",
      "     |  by the operating system (such as /dev/urandom on Unix or\n",
      "     |  CryptGenRandom on Windows).\n",
      "     |  \n",
      "     |   Not available on all systems (see os.urandom() for details).\n",
      "     |  \n",
      "     |  Method resolution order:\n",
      "     |      SystemRandom\n",
      "     |      Random\n",
      "     |      _random.Random\n",
      "     |      builtins.object\n",
      "     |  \n",
      "     |  Methods defined here:\n",
      "     |  \n",
      "     |  getrandbits(self, k)\n",
      "     |      getrandbits(k) -> x.  Generates an int with k random bits.\n",
      "     |  \n",
      "     |  getstate = _notimplemented(self, *args, **kwds)\n",
      "     |  \n",
      "     |  random(self)\n",
      "     |      Get the next random number in the range [0.0, 1.0).\n",
      "     |  \n",
      "     |  seed(self, *args, **kwds)\n",
      "     |      Stub method.  Not used for a system random number generator.\n",
      "     |  \n",
      "     |  setstate = _notimplemented(self, *args, **kwds)\n",
      "     |  \n",
      "     |  ----------------------------------------------------------------------\n",
      "     |  Methods inherited from Random:\n",
      "     |  \n",
      "     |  __getstate__(self)\n",
      "     |      # Issue 17489: Since __reduce__ was defined to fix #759889 this is no\n",
      "     |      # longer called; we leave it here because it has been here since random was\n",
      "     |      # rewritten back in 2001 and why risk breaking something.\n",
      "     |  \n",
      "     |  __init__(self, x=None)\n",
      "     |      Initialize an instance.\n",
      "     |      \n",
      "     |      Optional argument x controls seeding, as for Random.seed().\n",
      "     |  \n",
      "     |  __reduce__(self)\n",
      "     |      Helper for pickle.\n",
      "     |  \n",
      "     |  __setstate__(self, state)\n",
      "     |  \n",
      "     |  betavariate(self, alpha, beta)\n",
      "     |      Beta distribution.\n",
      "     |      \n",
      "     |      Conditions on the parameters are alpha > 0 and beta > 0.\n",
      "     |      Returned values range between 0 and 1.\n",
      "     |  \n",
      "     |  choice(self, seq)\n",
      "     |      Choose a random element from a non-empty sequence.\n",
      "     |  \n",
      "     |  choices(self, population, weights=None, *, cum_weights=None, k=1)\n",
      "     |      Return a k sized list of population elements chosen with replacement.\n",
      "     |      \n",
      "     |      If the relative weights or cumulative weights are not specified,\n",
      "     |      the selections are made with equal probability.\n",
      "     |  \n",
      "     |  expovariate(self, lambd)\n",
      "     |      Exponential distribution.\n",
      "     |      \n",
      "     |      lambd is 1.0 divided by the desired mean.  It should be\n",
      "     |      nonzero.  (The parameter would be called \"lambda\", but that is\n",
      "     |      a reserved word in Python.)  Returned values range from 0 to\n",
      "     |      positive infinity if lambd is positive, and from negative\n",
      "     |      infinity to 0 if lambd is negative.\n",
      "     |  \n",
      "     |  gammavariate(self, alpha, beta)\n",
      "     |      Gamma distribution.  Not the gamma function!\n",
      "     |      \n",
      "     |      Conditions on the parameters are alpha > 0 and beta > 0.\n",
      "     |      \n",
      "     |      The probability distribution function is:\n",
      "     |      \n",
      "     |                  x ** (alpha - 1) * math.exp(-x / beta)\n",
      "     |        pdf(x) =  --------------------------------------\n",
      "     |                    math.gamma(alpha) * beta ** alpha\n",
      "     |  \n",
      "     |  gauss(self, mu, sigma)\n",
      "     |      Gaussian distribution.\n",
      "     |      \n",
      "     |      mu is the mean, and sigma is the standard deviation.  This is\n",
      "     |      slightly faster than the normalvariate() function.\n",
      "     |      \n",
      "     |      Not thread-safe without a lock around calls.\n",
      "     |  \n",
      "     |  lognormvariate(self, mu, sigma)\n",
      "     |      Log normal distribution.\n",
      "     |      \n",
      "     |      If you take the natural logarithm of this distribution, you'll get a\n",
      "     |      normal distribution with mean mu and standard deviation sigma.\n",
      "     |      mu can have any value, and sigma must be greater than zero.\n",
      "     |  \n",
      "     |  normalvariate(self, mu, sigma)\n",
      "     |      Normal distribution.\n",
      "     |      \n",
      "     |      mu is the mean, and sigma is the standard deviation.\n",
      "     |  \n",
      "     |  paretovariate(self, alpha)\n",
      "     |      Pareto distribution.  alpha is the shape parameter.\n",
      "     |  \n",
      "     |  randint(self, a, b)\n",
      "     |      Return random integer in range [a, b], including both end points.\n",
      "     |  \n",
      "     |  randrange(self, start, stop=None, step=1, _int=<class 'int'>)\n",
      "     |      Choose a random item from range(start, stop[, step]).\n",
      "     |      \n",
      "     |      This fixes the problem with randint() which includes the\n",
      "     |      endpoint; in Python this is usually not what you want.\n",
      "     |  \n",
      "     |  sample(self, population, k)\n",
      "     |      Chooses k unique random elements from a population sequence or set.\n",
      "     |      \n",
      "     |      Returns a new list containing elements from the population while\n",
      "     |      leaving the original population unchanged.  The resulting list is\n",
      "     |      in selection order so that all sub-slices will also be valid random\n",
      "     |      samples.  This allows raffle winners (the sample) to be partitioned\n",
      "     |      into grand prize and second place winners (the subslices).\n",
      "     |      \n",
      "     |      Members of the population need not be hashable or unique.  If the\n",
      "     |      population contains repeats, then each occurrence is a possible\n",
      "     |      selection in the sample.\n",
      "     |      \n",
      "     |      To choose a sample in a range of integers, use range as an argument.\n",
      "     |      This is especially fast and space efficient for sampling from a\n",
      "     |      large population:   sample(range(10000000), 60)\n",
      "     |  \n",
      "     |  shuffle(self, x, random=None)\n",
      "     |      Shuffle list x in place, and return None.\n",
      "     |      \n",
      "     |      Optional argument random is a 0-argument function returning a\n",
      "     |      random float in [0.0, 1.0); if it is the default None, the\n",
      "     |      standard random.random will be used.\n",
      "     |  \n",
      "     |  triangular(self, low=0.0, high=1.0, mode=None)\n",
      "     |      Triangular distribution.\n",
      "     |      \n",
      "     |      Continuous distribution bounded by given lower and upper limits,\n",
      "     |      and having a given mode value in-between.\n",
      "     |      \n",
      "     |      http://en.wikipedia.org/wiki/Triangular_distribution\n",
      "     |  \n",
      "     |  uniform(self, a, b)\n",
      "     |      Get a random number in the range [a, b) or [a, b] depending on rounding.\n",
      "     |  \n",
      "     |  vonmisesvariate(self, mu, kappa)\n",
      "     |      Circular data distribution.\n",
      "     |      \n",
      "     |      mu is the mean angle, expressed in radians between 0 and 2*pi, and\n",
      "     |      kappa is the concentration parameter, which must be greater than or\n",
      "     |      equal to zero.  If kappa is equal to zero, this distribution reduces\n",
      "     |      to a uniform random angle over the range 0 to 2*pi.\n",
      "     |  \n",
      "     |  weibullvariate(self, alpha, beta)\n",
      "     |      Weibull distribution.\n",
      "     |      \n",
      "     |      alpha is the scale parameter and beta is the shape parameter.\n",
      "     |  \n",
      "     |  ----------------------------------------------------------------------\n",
      "     |  Data descriptors inherited from Random:\n",
      "     |  \n",
      "     |  __dict__\n",
      "     |      dictionary for instance variables (if defined)\n",
      "     |  \n",
      "     |  __weakref__\n",
      "     |      list of weak references to the object (if defined)\n",
      "     |  \n",
      "     |  ----------------------------------------------------------------------\n",
      "     |  Data and other attributes inherited from Random:\n",
      "     |  \n",
      "     |  VERSION = 3\n",
      "     |  \n",
      "     |  ----------------------------------------------------------------------\n",
      "     |  Methods inherited from _random.Random:\n",
      "     |  \n",
      "     |  __getattribute__(self, name, /)\n",
      "     |      Return getattr(self, name).\n",
      "     |  \n",
      "     |  ----------------------------------------------------------------------\n",
      "     |  Static methods inherited from _random.Random:\n",
      "     |  \n",
      "     |  __new__(*args, **kwargs) from builtins.type\n",
      "     |      Create and return a new object.  See help(type) for accurate signature.\n",
      "\n",
      "FUNCTIONS\n",
      "    betavariate(alpha, beta) method of Random instance\n",
      "        Beta distribution.\n",
      "        \n",
      "        Conditions on the parameters are alpha > 0 and beta > 0.\n",
      "        Returned values range between 0 and 1.\n",
      "    \n",
      "    choice(seq) method of Random instance\n",
      "        Choose a random element from a non-empty sequence.\n",
      "    \n",
      "    choices(population, weights=None, *, cum_weights=None, k=1) method of Random instance\n",
      "        Return a k sized list of population elements chosen with replacement.\n",
      "        \n",
      "        If the relative weights or cumulative weights are not specified,\n",
      "        the selections are made with equal probability.\n",
      "    \n",
      "    expovariate(lambd) method of Random instance\n",
      "        Exponential distribution.\n",
      "        \n",
      "        lambd is 1.0 divided by the desired mean.  It should be\n",
      "        nonzero.  (The parameter would be called \"lambda\", but that is\n",
      "        a reserved word in Python.)  Returned values range from 0 to\n",
      "        positive infinity if lambd is positive, and from negative\n",
      "        infinity to 0 if lambd is negative.\n",
      "    \n",
      "    gammavariate(alpha, beta) method of Random instance\n",
      "        Gamma distribution.  Not the gamma function!\n",
      "        \n",
      "        Conditions on the parameters are alpha > 0 and beta > 0.\n",
      "        \n",
      "        The probability distribution function is:\n",
      "        \n",
      "                    x ** (alpha - 1) * math.exp(-x / beta)\n",
      "          pdf(x) =  --------------------------------------\n",
      "                      math.gamma(alpha) * beta ** alpha\n",
      "    \n",
      "    gauss(mu, sigma) method of Random instance\n",
      "        Gaussian distribution.\n",
      "        \n",
      "        mu is the mean, and sigma is the standard deviation.  This is\n",
      "        slightly faster than the normalvariate() function.\n",
      "        \n",
      "        Not thread-safe without a lock around calls.\n",
      "    \n",
      "    getrandbits(...) method of Random instance\n",
      "        getrandbits(k) -> x.  Generates an int with k random bits.\n",
      "    \n",
      "    getstate() method of Random instance\n",
      "        Return internal state; can be passed to setstate() later.\n",
      "    \n",
      "    lognormvariate(mu, sigma) method of Random instance\n",
      "        Log normal distribution.\n",
      "        \n",
      "        If you take the natural logarithm of this distribution, you'll get a\n",
      "        normal distribution with mean mu and standard deviation sigma.\n",
      "        mu can have any value, and sigma must be greater than zero.\n",
      "    \n",
      "    normalvariate(mu, sigma) method of Random instance\n",
      "        Normal distribution.\n",
      "        \n",
      "        mu is the mean, and sigma is the standard deviation.\n",
      "    \n",
      "    paretovariate(alpha) method of Random instance\n",
      "        Pareto distribution.  alpha is the shape parameter.\n",
      "    \n",
      "    randint(a, b) method of Random instance\n",
      "        Return random integer in range [a, b], including both end points.\n",
      "    \n",
      "    random(...) method of Random instance\n",
      "        random() -> x in the interval [0, 1).\n",
      "    \n",
      "    randrange(start, stop=None, step=1, _int=<class 'int'>) method of Random instance\n",
      "        Choose a random item from range(start, stop[, step]).\n",
      "        \n",
      "        This fixes the problem with randint() which includes the\n",
      "        endpoint; in Python this is usually not what you want.\n",
      "    \n",
      "    sample(population, k) method of Random instance\n",
      "        Chooses k unique random elements from a population sequence or set.\n",
      "        \n",
      "        Returns a new list containing elements from the population while\n",
      "        leaving the original population unchanged.  The resulting list is\n",
      "        in selection order so that all sub-slices will also be valid random\n",
      "        samples.  This allows raffle winners (the sample) to be partitioned\n",
      "        into grand prize and second place winners (the subslices).\n",
      "        \n",
      "        Members of the population need not be hashable or unique.  If the\n",
      "        population contains repeats, then each occurrence is a possible\n",
      "        selection in the sample.\n",
      "        \n",
      "        To choose a sample in a range of integers, use range as an argument.\n",
      "        This is especially fast and space efficient for sampling from a\n",
      "        large population:   sample(range(10000000), 60)\n",
      "    \n",
      "    seed(a=None, version=2) method of Random instance\n",
      "        Initialize internal state from hashable object.\n",
      "        \n",
      "        None or no argument seeds from current time or from an operating\n",
      "        system specific randomness source if available.\n",
      "        \n",
      "        If *a* is an int, all bits are used.\n",
      "        \n",
      "        For version 2 (the default), all of the bits are used if *a* is a str,\n",
      "        bytes, or bytearray.  For version 1 (provided for reproducing random\n",
      "        sequences from older versions of Python), the algorithm for str and\n",
      "        bytes generates a narrower range of seeds.\n",
      "    \n",
      "    setstate(state) method of Random instance\n",
      "        Restore internal state from object returned by getstate().\n",
      "    \n",
      "    shuffle(x, random=None) method of Random instance\n",
      "        Shuffle list x in place, and return None.\n",
      "        \n",
      "        Optional argument random is a 0-argument function returning a\n",
      "        random float in [0.0, 1.0); if it is the default None, the\n",
      "        standard random.random will be used.\n",
      "    \n",
      "    triangular(low=0.0, high=1.0, mode=None) method of Random instance\n",
      "        Triangular distribution.\n",
      "        \n",
      "        Continuous distribution bounded by given lower and upper limits,\n",
      "        and having a given mode value in-between.\n",
      "        \n",
      "        http://en.wikipedia.org/wiki/Triangular_distribution\n",
      "    \n",
      "    uniform(a, b) method of Random instance\n",
      "        Get a random number in the range [a, b) or [a, b] depending on rounding.\n",
      "    \n",
      "    vonmisesvariate(mu, kappa) method of Random instance\n",
      "        Circular data distribution.\n",
      "        \n",
      "        mu is the mean angle, expressed in radians between 0 and 2*pi, and\n",
      "        kappa is the concentration parameter, which must be greater than or\n",
      "        equal to zero.  If kappa is equal to zero, this distribution reduces\n",
      "        to a uniform random angle over the range 0 to 2*pi.\n",
      "    \n",
      "    weibullvariate(alpha, beta) method of Random instance\n",
      "        Weibull distribution.\n",
      "        \n",
      "        alpha is the scale parameter and beta is the shape parameter.\n",
      "\n",
      "DATA\n",
      "    __all__ = ['Random', 'seed', 'random', 'uniform', 'randint', 'choice',...\n",
      "\n",
      "FILE\n",
      "    c:\\users\\udhayprakash\\appdata\\local\\programs\\python\\python37\\lib\\random.py\n",
      "\n",
      "\n"
     ]
    }
   ],
   "source": [
    "help(random)"
   ]
  },
  {
   "cell_type": "code",
   "execution_count": 4,
   "metadata": {},
   "outputs": [
    {
     "name": "stdout",
     "output_type": "stream",
     "text": [
      "random.random() 0.8005210195174444\n"
     ]
    }
   ],
   "source": [
    "# Generate a pseudo-random number between 0 and 1.\n",
    "print('random.random()', random.random())"
   ]
  },
  {
   "cell_type": "code",
   "execution_count": 5,
   "metadata": {},
   "outputs": [
    {
     "name": "stdout",
     "output_type": "stream",
     "text": [
      "random.random() * 100 81.86281913583666\n"
     ]
    }
   ],
   "source": [
    "# Generate a large pseudo-random number\n",
    "print('random.random() * 100', random.random() * 100)"
   ]
  },
  {
   "cell_type": "code",
   "execution_count": 6,
   "metadata": {},
   "outputs": [
    {
     "name": "stdout",
     "output_type": "stream",
     "text": [
      "random.random() * 100 32.27382742775242\n"
     ]
    }
   ],
   "source": [
    "print('random.random() * 100', random.random() * 100)"
   ]
  },
  {
   "cell_type": "markdown",
   "metadata": {},
   "source": [
    "Every PRNG algorithm consumes an optional seed value as input.\n",
    "\n",
    "If we set the seed, we guarantee that we will get the same answer."
   ]
  },
  {
   "cell_type": "code",
   "execution_count": 7,
   "metadata": {},
   "outputs": [],
   "source": [
    "random.seed(18485)"
   ]
  },
  {
   "cell_type": "code",
   "execution_count": 8,
   "metadata": {},
   "outputs": [
    {
     "name": "stdout",
     "output_type": "stream",
     "text": [
      "0.6797936184081204\n"
     ]
    }
   ],
   "source": [
    "print(random.random())  # should give 0.6797936184081204"
   ]
  },
  {
   "cell_type": "code",
   "execution_count": 9,
   "metadata": {},
   "outputs": [
    {
     "name": "stdout",
     "output_type": "stream",
     "text": [
      "0.9122712611873796\n"
     ]
    }
   ],
   "source": [
    "print(random.random())  # should give 0.9122712611873796"
   ]
  },
  {
   "cell_type": "code",
   "execution_count": 10,
   "metadata": {},
   "outputs": [
    {
     "name": "stdout",
     "output_type": "stream",
     "text": [
      "0.12926723301605425\n"
     ]
    }
   ],
   "source": [
    "print(random.random())  # should give 0.12926723301605425"
   ]
  },
  {
   "cell_type": "code",
   "execution_count": 11,
   "metadata": {},
   "outputs": [],
   "source": [
    "random.seed('slartibartfast')"
   ]
  },
  {
   "cell_type": "code",
   "execution_count": 12,
   "metadata": {},
   "outputs": [
    {
     "name": "stdout",
     "output_type": "stream",
     "text": [
      "[0.7725766895236029, 0.850635131875668, 0.11481894112205038]\n"
     ]
    }
   ],
   "source": [
    "s = [random.random() for i in range(3)]\n",
    "print(s)  # should give [0.7725766895236029, 0.850635131875668, 0.11481894112205038]"
   ]
  },
  {
   "cell_type": "markdown",
   "metadata": {},
   "source": [
    "To get an unpredictable random number, "
   ]
  },
  {
   "cell_type": "code",
   "execution_count": 13,
   "metadata": {},
   "outputs": [
    {
     "name": "stdout",
     "output_type": "stream",
     "text": [
      "os.urandom(1024): b'\\xd9\\xbfY\\xd5\\x1ae\\x18\\xe5z,z\\xee\\xddbk-\\xe3\\x1f\\x0e\\xcfMU-\\x19\\xfd\\x05\\xd1\\xf0H\\x96V\\x83\\x1d\\xb5#\\xd2K\\xec.3\\x8d\\xcd\\xd3L\\xd4\\x08\\x8f\\x05\\xe7\\xa1\\xdcTlH|\\x0f\\xf5\\x81_)\\x05\\t\\xc1Ia~\\xc2\\xda\\xf2.\\xe5b&=\\xa1\\x16\\x0bv>\\x98\\\\\\xaeS\\xb7\\nn\\xd4\\x93<x6\\xe7+u@\\xea\\xc4i\\x8bIRw\\xdb\\xe7\\x06\\xa7\\x90y\\xf5\\xbb{&(\\'\\xa4\\xe6S\\xdai>\\xa7\\xed\\xa2\\x06\\xfbb\\xd9\\xf3\\xcb~?\\x014Q\\xd4U\\x17\\xd9@\\xf2\\xa5\\xe5ki\\xc0\\x07\\x16jI\\x8c\\xe9B\\xeb\\xab\\xa4\\r\\xf5j|\\x1dEs\\xf1\\x15\\x10\\x8a\\x1di\\x82\\x0b\\xcf\\xb7\\xae \\xf3\\\\u\\x83\\xed\\xba\\xd9*\\xf7\\xa3\\x1c\\x1d\\x15\\x84x\\x15j\\x8b<f\\x06\\xf4\\xf5H=\\xfb\\x03\\xe9\\x97\\x81\\xee\\x04\\x04V\\xbd\\xfc\\xab\\x99*\\x84\\xd0\\xff\\xbe\\xf38R\\xad\\x1ct\\xc6\\'E\\xf2\\x13\\xae\\xfe<\"\\x01\\xa9\\x9fx\\x835<\\x1f?\\x87\\x1e\\xcf\\xbd\\xe7\\xbb:M5v\\x90%{*Jm\\x8c\\x84\\x08\\x00\\xf6\\xe6\\x12\\xee\\xee\\xd5\\xf4\\xbf\\xf8\\x13\\xffzkCd\"\\xf8\\x12j\\xeae\\xdc\\x8d+~3\\xbaI\\x83\\x937X\\xf3\\xb6\\x8dpJ\\xb9|=0\\x86\\xd23\\x14\\xfc\\x1fR\\x95|\\xfdf\"\\x1f\\x00.h\\x80\\xf9\\x85\\xc5\\xa0\\xdc\\x9d\\xcc`\\x84\\xf7\\x08\\xc7&b\\x1b\\xaf\\x1b\\x1c<\\xf3Ove\\x08\\xc9\\x88\\xc1_\\x80\\xdf\\xe3#\\xedn\\rM\\'\\xa4E\\x10\\xa1Z\\xa6IE\\xbb\\x93\\x1eb\\x9c\\x18\\tA\\x0cH\\x88\\xa5\\x1ft\\xec\\xf9\\xef\\xd4\\xb2\\xeey\\x1b\\xdd\\xfc\\xe0\\xfc\\xc0c\\xde\\x16dH]\\x1aX\\x06\\xd8\\x15\\x1b\\x90\\xde\\r+\\xdb\\'a\\x00\\x8e\\x88A\\xb4\\xba\\x1d;/\\xb0e\\x1c-\\xbb\\xacm\\x95&\\x9f\\xfe\\x82\\x17\\xeb4&\\xber>j\\xac\\xcdJ\\xc0\\xe4\\xcb\\x00 \\xc5\\x1c\\x91R\\xef^\\x12c+8\\xfd\\xe1\\xeao\\xcf\\xe1\\xb6\\xa0\\xa7\\x05j\\xfe>Dh\\x8e\\xc9\\xd6\\xb6\\x1cr\\x01\\xac\\xb1\\xc7\\'\\xeey\\x14\\xffo>\\xec\\x1a\\xf4\\x82%\\xe7\\xd0\\xf6\\x14a7\\xf2\\x11\\x85\\x94\\x8c\\xc4_v\\xf69X\\xee\\r\\xa9\\xfe9\\xef\\xae\\xa9(\\x80\\x0f\\xda\\x08P\\xd5K&vu\\x91&S\\x11$Q5b\\x90\\x11t\"@\\x14wX\\x98eg\\xfd\\x8a\\x99\\xc9\\x08\\x9d\\xcf\\xe1\\xd9\\x08G\\xf2\\xab\\x98]\\xd1xy\\xc0\\x1a\\xb8\\x07\\x1fqE>\\x87\\x13\\xc6\\xc2\\xb0\\xbe\\x04\\xa8\\xe7\\xb8\\xe3\\xc5\\xe9\\xad\\xe8&\\xcf\\x92\\xd3QX\\xc9\\x92W\\x8e|\\x1d?]3\\x9bR\\x94\\x9f[\\xd91\\x92Q\\tD\\x03\\xc7\\xeb\\xec-\\xc8\\xee\\x10~\\x9eq\\x02\\xad\\xb7\\xe3O1P\\xa9Oc\\x8a\\xc9%7\\x04(\\x86^\\x1b\"\\x89H\\xca\\xb2Nu\\xa3\\nm\\x9b\\x81Bo\\xa6\\xb7\\x8c\\x04\\xf7\\xeel\\n\\xee\\xbf\\xeb\\xa0\\x1c\\x85\\x94*:pfE\\x82\\xbcr\\x89l?\\x12g\\xec\\x8e\\xcd\\x8a\\x8d\\xb3\\x06\\xa5\\x1a\\x95\\xf08\\x81\\x86kcT\\xa1\\xa7N\\x16\\xd2\\x88\\xf6\\x18\\x8c\\xb0\\xe4\\xe7\\'\\xfe\\xa5\\xf6\\x10)\\xbb\\xb6\\x9f^&\\x01\\xb3x\\xde\\x00p\\x94\\x8a\\xf4_\\x07\\x9c\\xf6\\xba\\x97ad}\\xd0\\xd3\\t\\x9a\\xbb\\x9f\\xd2\\xf8\\x96\\xd7\\x14\\x80\\x84b\\xca\\xf8\\xe0\\x9eH]\\xda\\x9f\\x8f})\\xbez?x\\xef\\xb9\\xd8\\x00\\xf7(\\xbe\\xbf\\xa8\\xfb\\x98\\xfd\\xef\\xdd\\xc3\\xe2u\\xc5}\\xc7!\\xb0\\x9a[SGIr\\x910\\xben\\x98\\x157\\xac\\xf3\\xee\\x05\\x9d\\xb9\\x9f\\xb9\\x80Y\\xab\\xe2\\xf9K\\xf7Mx\\xc9\\xd9\\xf3\\xfc\\x80\\xd5 \\xa5k\\xa1\\x96g\\xa0\\x10\\x93\\xbc\\xb2\\x19\\x97Bf\\x11\\xc4b\\x01\\x8b\\xb3\\xae\\xa1\\xfb\\xce\\xd3\\xee\\x99\\xdf\\xd6LII\\xba\\x92\\x90\\x95m\\xdex\\xb5p\\x99J2\\x9a\\xf6\\xc6\\xd5\\x1c\\xdd\\xd9\\x18\\x0f\\x83\\x95\\xa2\\xf1\\xd3\\xc4\\xe5\\xa8\\xe7\\xdb\\'\\xd8\\xc5\\x17\\x8a\\x10\\xd3\\x96\\x1b\\xe4k=&<6\\xcexh\\xbf\\x84\\\\0\\x02\\x18\\xed\\x9a\\xf4\\xa6\\x08V/\\xc7\\xc6\\xe7GB\\x10\\xbd\\xa9J\\x01j\\xa7w\\x13\\xb5\\xe5r\\x94\\xaf\\xf2\\x93j\\xe7\\x98aOI\\x81C\\xaf\\xa7\\xa6p\\xa0,\\xf7\\xa8L\\xc8kN\\x8dE\\xfe\\x9b\\x9e\\x7f\\xe5\\x1b -\\xbf0\\x99\\x07;\\xc9\\x90\\x7f8\\x10\\x92\\xa6\\xa9\\xecN\\xe8S\\xc2f\\r\\xf6\\x0e\\x90f\\xc7\\x99C\\x8c\\xc5\\xb3\\xb8\\x958O\\xadI\\xc1\\xb8(1\\xc8&\\x10\\x9cC'\n"
     ]
    }
   ],
   "source": [
    "import os\n",
    "\n",
    "print('os.urandom(1024):', os.urandom(1024))"
   ]
  },
  {
   "cell_type": "code",
   "execution_count": 14,
   "metadata": {},
   "outputs": [
    {
     "name": "stdout",
     "output_type": "stream",
     "text": [
      "0.3395723868885807\n"
     ]
    }
   ],
   "source": [
    "print(random.random())  # should give 0.7819713562511514"
   ]
  },
  {
   "cell_type": "code",
   "execution_count": 15,
   "metadata": {},
   "outputs": [
    {
     "name": "stdout",
     "output_type": "stream",
     "text": [
      "os.urandom(1024): b'\\x08\\xa0\\xe9t\\xbb\\xa9\\x0b\\xc4\\xfa\\x12h\\xad\\xf7>\\x05\\x7f\\x1ec\\xaa-\\xe1\\xf9Poi\\xb6`Q\\xe3\\xfd\\xfe)\\t\\x88\\xd8\\x11\\xc1\\xbe\\xef{*\\'\\xb2\\x88\\x05GG\\xe5\\xaa\\xacv\\t\\x10\\x1b\\x97\\x00\\x14\\x0f\\xb3voY\\x032\\x17\\xa9\\xe2\\x12\\xfa\\x0c\\x15\\xec[\\xdey\\xd0\\xefcax\\xd7\\'\\x99\\x9b\\xe2\\xba3\\x92J:\\x95\\xaa\\x03\\xeaP\\x8b\\xda\\xe9\\xe5x.\\x99\\nn\\x07\\x9e\\xc2\\xb4\\x8eQ\\xa4\\x83\\x11\\xba;Kx(3\\xc7FP\\xa5]\\xe9\\xac\\x80{\\x8f\\xcf\\xf5\\xa2?\\xd1\\x19\\xb7\\x99F\\x8b\"3Y\\xd7R\\\\\\xa3:\\xd1\\xa0\\x9c0E:\\xcc\\x84\\r\\x03\\t\\xc6f\\x8fF\\xf2\\xf9x\\x9e\\x04\\xc7s!\\x8a\\x08\\xaa\\xa0\\xc2\\xe4\\x8b\\x9b\\x1f\\x98\\x83\\x9b\\xf4~Y\\xe6\\xa3\\xb1]\"x\\xdd.\\xcb|\\xc4\\x96\\xb9lB\\x9a\\xcdQP\\xb3G\\xfdH\\x17\\x10\\xcdSy\\x12W\\x85\\xb5\\x03-\\xcd\\x02\\x114\\x16\\x12\\xcc{U\\xa0\\xdc\\xf2\\xd8 \\x9b\\xd1GZ]\\xe2\\r\\x89\\xaf\\xf2\\x80\\x97\\x87waV\\xde\\xf9!\\x1d\\xfd\\x1a2!\\x9a\\x9b\\\\,\\xf5B\\xcb\\x17b\\xfb?\\x0eT\\xa1\\x87x\\x7fN\\xf8\\xfc\\xbd\\x14\\xf4\\xc1\\x80\\xe6\\xc5\\xafj\"\\xddi\\xb6\\xc0\\ni\\x8a4\\xbe\\xeb\\xb1^\\xd5\\x9a\\x86\"\\x0bu\\x86N\\xac\\xb3\\rU/\\x19\\xc9\\x92n\\xa9\\xdc}\\x93\\xd8\\x19,p\\xd5\\xb2\\xfa \\'\\xc5\\x05\\xf68_\\xe1\\xc9\\x94\\x12=c\\x86\\xd6\\x03\\x9a\\x08\\xdf(\\xe6M\\xffi\\xb2\\xe2\\x91o\\x12P\\xaf\\xe2\\x15( \\x88\\xfaud\\xd4\\xca9W\\x80zf\\r\\x9b-\\x9bq\\xe9V\\xb3\\x97{W\\x1d\\x83\\xa1\\r\\xbb\\t-\\x8d\\xf3\\x1c\\xb8\\xf2f\\xa1\\x96\\xa2\\xb87\\x10\\x97\\xba0\\x04\\xa9W\\x89G\\x8d9\\x10\\x9b\\xbe\\x9fe \\x18\\xc35\\xdf\\x04\\xc1- \\xb3\\x0e\\x19\\xe4\\x83\\x99Y\\xecv%\\x16E@A\\xaa\\xfa4}\\x85m\\x1cC\\xd1=\\xdbK4\\xfc\\xfb\\n\\xd9\\xa6\\xa2\\xbb`#\\x9c\\x8dI\\xbd\\xed\\xfbb\\x9e\\x1b\\xab\\x8d\\x86\\xad\\xe8}s\\xa3\\x89\\xdb\\xaf\\xb03{\\x1b\\x9e\\xad\\xb2\\xa4\\xef3\\x1f\\xb5\\x1f\\x16\\xcb\\xfa\\x95\\xd3\\x19\\xe6\\x95\\xfb\\r\\xf4\\xfb\\xe1\\xa1\\x13K\\xd6d$\\x11\\x086\\x96\\xf44\\xe6\\xa2\\xed\\xab/z\\\\{\\x05\\xd0c\\xa9\\xcb\\xe6P\\xa0z\\xa3\\n<\\xa6\\x0e\\'1\\xbc\\x03\\x17\\xef\\xc3\\xb0\\xaa~\\xb4\\xbbfs\\x1d\\x989\\xc0.\\xf6\\x13C\\x86\\x00&\\xcc\\x04P\\x1eh*q\\xd9\\xe2:\\x82\\xf9\\xdfm&}\\x11\\xd4\\xa7Q\\xf2\\xc9\\x99\\x10\\x9aP\\xd5\\xd4\\xa5\\xa97K\\xa5\\xaf\\xadg\\x18Y^\\xea\\x87C\\x85R\\xccS\\xf5P3\\x8f\\x10\\x95\\xd3|F`\\xda\\xd4Q\\xcd(a(\\xc8\\x04f}>\\xb9\\xe6\\x07d\\xa7i;\\x07H\\xf7\\xe3\\xf0K\\xd0\\xd2\\xab\\x10\\x13\\xbdI\\xf4#\\xe7\\x13%\\x95\\x8b\\xa4\\x1f\\xfa\\xb7\\x7f\\xac\\x82f2/\\x17=9\\xb4\\x8a\\xee\\x8d\\xfes\\xa6\\x83\\xc6\\x06s-\\xae\\xe0zA\\xfer\\x12\\xc0\\xf2(\\xf8\\xe4:Y\\xba<\\xf2\\xb0r\\xf7\\xd1\\x9c^\\x88e\\x80\\xe9\\xa9@\\x1baS\\tKc\\x91c\\x13\\xb5flH\\xeaNC\\xb8\\x11E%\\xdb\\xfew\\xf7\\x0bGW\\xa3c\\xe4u\\x91V\\xb8z3X\\xfd\\xbc\\xaa\\x82A\\x97<\\x82\\xad\\xc1\\xdc\\xd4J\\x17\\x84Di:E.\\xfbD\\x80\\xcazp\\x15\\xa1\\x02Ai\\xbbxES\\x11E\\xfa\\x9d\\xf2\\x7f,\\x9e\\xab\\xaee\\xdf\\x8e\\x1f\\xf5)\\xb5\\x984W\\xd9w\\x15\\xb1\\\\\\xf1\\x9a\\xea`\\xd9\\x8dx\\x9f\\xea\\x7f\\x9d\\xd20\\xb1\\xa0-\\xcb\\xbe\\xf6\\xcb\\xec\\xc0/\\xf7\\x0c\\xcd\\xe7f\\xab.2]\\xb3\\xbc\\xc0\\xf4Z\\xb3\\xc5\\x08\\xb8\\xba1t\\xd5){P\\x14`\\x0c\\x89\\xec\\xd6\\x15\\x08.\\xf11\\x12\"\\teu\\xabB\\x85\\x91!\\x0b\\xdb\\xe3#o\\xcd\\x84L\\x8bf2!\\x14\\xa8\\x96\\x1f\\x02\\x7f\\xc2\\xef\\xe6\\x85P\\xd4\\xa5\\xb5\\xbc\\x85 \\xb5\\x07g\\x07v\\x17{z\\xf4\\x80\\x96f\\xbatI\\xf8\\x94#\\x87\\xa6\\xd2\\xfc\\x966\\xdf}X\\xbd\\x14k\\xd6\\xb3:\\x00\\xeb\\x80\\x06\\xf7\\xae.\\xcda\\xb6}\\xc3c\\x99\\xd2\\x04\\xc7eX3\\xed\\xa4\\x9fB\\xa0\\xa2\\xcbC@e\\x019\\x91\\n{F\\xde\\xf8\\xc1\\x00?\\xfc\\xda\\xfa=\\x8e2+\\x0f=7\\x0f\\xdc\\xc3\\x9e~8E\\xca\\x15\\xab\\x12W\\xabw\\x18\\x04\\x99\\x8c\\x85\\xd0#\\xc7\\xafZ\\xd1\\x99\\xa8\\xa2'\n"
     ]
    }
   ],
   "source": [
    "print('os.urandom(1024):', os.urandom(1024))"
   ]
  },
  {
   "cell_type": "code",
   "execution_count": 16,
   "metadata": {},
   "outputs": [
    {
     "name": "stdout",
     "output_type": "stream",
     "text": [
      "0.8799583451768285\n"
     ]
    }
   ],
   "source": [
    "print(random.random())"
   ]
  },
  {
   "cell_type": "markdown",
   "metadata": {},
   "source": [
    "HOw to get a random integer between 1 to 100"
   ]
  },
  {
   "cell_type": "code",
   "execution_count": 17,
   "metadata": {},
   "outputs": [
    {
     "data": {
      "text/plain": [
       "98"
      ]
     },
     "execution_count": 17,
     "metadata": {},
     "output_type": "execute_result"
    }
   ],
   "source": [
    "random.randint(1, 100)"
   ]
  },
  {
   "cell_type": "code",
   "execution_count": 18,
   "metadata": {},
   "outputs": [
    {
     "data": {
      "text/plain": [
       "41"
      ]
     },
     "execution_count": 18,
     "metadata": {},
     "output_type": "execute_result"
    }
   ],
   "source": [
    "random.randint(1, 100)"
   ]
  },
  {
   "cell_type": "markdown",
   "metadata": {},
   "source": [
    "__NOTE:__ random.randint also includes the upper bound value."
   ]
  },
  {
   "cell_type": "markdown",
   "metadata": {},
   "source": [
    "HOw to get a random floating-point value between bounds?\n",
    "\n",
    "    random.uniform(a,b) => a <= N <= b"
   ]
  },
  {
   "cell_type": "code",
   "execution_count": 19,
   "metadata": {},
   "outputs": [
    {
     "data": {
      "text/plain": [
       "1.6461168913941147"
      ]
     },
     "execution_count": 19,
     "metadata": {},
     "output_type": "execute_result"
    }
   ],
   "source": [
    "random.uniform(1, 10)"
   ]
  },
  {
   "cell_type": "code",
   "execution_count": 20,
   "metadata": {},
   "outputs": [
    {
     "data": {
      "text/plain": [
       "3.741970262320288"
      ]
     },
     "execution_count": 20,
     "metadata": {},
     "output_type": "execute_result"
    }
   ],
   "source": [
    "random.uniform(1, 10)"
   ]
  },
  {
   "cell_type": "markdown",
   "metadata": {},
   "source": [
    "How to get a range value between a generted sequence?"
   ]
  },
  {
   "cell_type": "code",
   "execution_count": 22,
   "metadata": {},
   "outputs": [
    {
     "data": {
      "text/plain": [
       "range(0, 21, 3)"
      ]
     },
     "execution_count": 22,
     "metadata": {},
     "output_type": "execute_result"
    }
   ],
   "source": [
    "range(0, 21, 3)"
   ]
  },
  {
   "cell_type": "code",
   "execution_count": 23,
   "metadata": {},
   "outputs": [
    {
     "data": {
      "text/plain": [
       "(0, 3, 6, 9, 12, 15, 18)"
      ]
     },
     "execution_count": 23,
     "metadata": {},
     "output_type": "execute_result"
    }
   ],
   "source": [
    "tuple(range(0, 21, 3))"
   ]
  },
  {
   "cell_type": "code",
   "execution_count": 24,
   "metadata": {},
   "outputs": [
    {
     "data": {
      "text/plain": [
       "15"
      ]
     },
     "execution_count": 24,
     "metadata": {},
     "output_type": "execute_result"
    }
   ],
   "source": [
    "random.randrange(0, 21, 3)"
   ]
  },
  {
   "cell_type": "code",
   "execution_count": 25,
   "metadata": {},
   "outputs": [
    {
     "data": {
      "text/plain": [
       "3"
      ]
     },
     "execution_count": 25,
     "metadata": {},
     "output_type": "execute_result"
    }
   ],
   "source": [
    "random.randrange(0, 21, 3)"
   ]
  },
  {
   "cell_type": "code",
   "execution_count": 26,
   "metadata": {},
   "outputs": [
    {
     "data": {
      "text/plain": [
       "6"
      ]
     },
     "execution_count": 26,
     "metadata": {},
     "output_type": "execute_result"
    }
   ],
   "source": [
    "random.randrange(0, 21, 3)"
   ]
  },
  {
   "cell_type": "code",
   "execution_count": 27,
   "metadata": {},
   "outputs": [
    {
     "name": "stdout",
     "output_type": "stream",
     "text": [
      "3\n",
      "6\n",
      "3\n",
      "9\n",
      "3\n",
      "9\n",
      "6\n",
      "18\n",
      "0\n"
     ]
    }
   ],
   "source": [
    "for i in range(9):\n",
    "    print(random.randrange(0, 21, 3))"
   ]
  },
  {
   "cell_type": "code",
   "execution_count": 28,
   "metadata": {},
   "outputs": [],
   "source": [
    "items = [45, 33, 77, 34, 65, 21, 4]"
   ]
  },
  {
   "cell_type": "code",
   "execution_count": 30,
   "metadata": {},
   "outputs": [
    {
     "name": "stdout",
     "output_type": "stream",
     "text": [
      "33\n",
      "77\n",
      "4\n",
      "65\n",
      "77\n",
      "34\n",
      "34\n",
      "21\n",
      "34\n",
      "4\n"
     ]
    }
   ],
   "source": [
    "for i in range(10):\n",
    "    print(random.choice(items))"
   ]
  },
  {
   "cell_type": "code",
   "execution_count": 31,
   "metadata": {},
   "outputs": [
    {
     "name": "stdout",
     "output_type": "stream",
     "text": [
      "[]\n",
      "[77]\n",
      "[45, 65]\n",
      "[33, 77, 21]\n",
      "[77, 4, 65, 21]\n"
     ]
    }
   ],
   "source": [
    "for i in range(5):\n",
    "    print(random.sample(items, i))"
   ]
  },
  {
   "cell_type": "code",
   "execution_count": 32,
   "metadata": {},
   "outputs": [
    {
     "data": {
      "text/plain": [
       "['Andes', 'Alphes', 'Vindhya']"
      ]
     },
     "execution_count": 32,
     "metadata": {},
     "output_type": "execute_result"
    }
   ],
   "source": [
    "mountains = ['Andes', 'Himalayas', 'Alphes', 'Aplachein', 'Ural', 'Vindhya']\n",
    "\n",
    "random.sample(mountains, 3)"
   ]
  },
  {
   "cell_type": "code",
   "execution_count": 33,
   "metadata": {},
   "outputs": [],
   "source": [
    "random.shuffle(mountains)"
   ]
  },
  {
   "cell_type": "code",
   "execution_count": 34,
   "metadata": {},
   "outputs": [
    {
     "data": {
      "text/plain": [
       "['Andes', 'Alphes', 'Ural', 'Himalayas', 'Vindhya', 'Aplachein']"
      ]
     },
     "execution_count": 34,
     "metadata": {},
     "output_type": "execute_result"
    }
   ],
   "source": [
    "mountains"
   ]
  },
  {
   "cell_type": "code",
   "execution_count": 37,
   "metadata": {},
   "outputs": [],
   "source": [
    "cards = ['1', '2', '3', '4', '5', '6', '7', '8', '9', 'Ace', 'Joker', 'Queen']"
   ]
  },
  {
   "cell_type": "code",
   "execution_count": 38,
   "metadata": {},
   "outputs": [],
   "source": [
    "random.shuffle(cards)"
   ]
  },
  {
   "cell_type": "code",
   "execution_count": 39,
   "metadata": {},
   "outputs": [
    {
     "data": {
      "text/plain": [
       "['7', 'Joker', '2', '5', 'Ace', '9', 'Queen', '6', '1', '3', '4', '8']"
      ]
     },
     "execution_count": 39,
     "metadata": {},
     "output_type": "execute_result"
    }
   ],
   "source": [
    "cards"
   ]
  },
  {
   "cell_type": "code",
   "execution_count": 40,
   "metadata": {},
   "outputs": [
    {
     "name": "stdout",
     "output_type": "stream",
     "text": [
      "['4', 'Ace', '7', '1']\n",
      "['Ace', '7', 'Joker', '6']\n",
      "['Queen', '5', '3', 'Ace']\n"
     ]
    }
   ],
   "source": [
    "for i in range(3):\n",
    "    print(random.sample(cards, 4))"
   ]
  },
  {
   "cell_type": "code",
   "execution_count": 44,
   "metadata": {},
   "outputs": [
    {
     "name": "stdout",
     "output_type": "stream",
     "text": [
      "['6', '4', '2', 'Ace']\n",
      "['1', '7', '8', 'Joker']\n",
      "['Queen', '3', '5', '9']\n"
     ]
    }
   ],
   "source": [
    "import copy\n",
    "cards_all = copy.copy(cards)\n",
    "\n",
    "players_cards = []\n",
    "for i in range(3):\n",
    "    cards_gven = random.sample(cards_all, 4)\n",
    "    print(cards_gven)\n",
    "    players_cards.append(cards_gven)\n",
    "    for ech_card in cards_gven:\n",
    "        cards_all.remove(ech_card)"
   ]
  },
  {
   "cell_type": "code",
   "execution_count": 45,
   "metadata": {},
   "outputs": [
    {
     "data": {
      "text/plain": [
       "[['6', '4', '2', 'Ace'], ['1', '7', '8', 'Joker'], ['Queen', '3', '5', '9']]"
      ]
     },
     "execution_count": 45,
     "metadata": {},
     "output_type": "execute_result"
    }
   ],
   "source": [
    "players_cards"
   ]
  },
  {
   "cell_type": "code",
   "execution_count": 47,
   "metadata": {},
   "outputs": [
    {
     "name": "stdout",
     "output_type": "stream",
     "text": [
      "In 10000 tosses,\n",
      "\tHeads: 4988\n",
      "\tTails: 5012\n"
     ]
    }
   ],
   "source": [
    "import random\n",
    "\n",
    "outcomes = {\n",
    "    'heads': 0,\n",
    "    'tails': 0,\n",
    "}\n",
    "sides = list(outcomes.keys())  # ['heads', 'tails']\n",
    "\n",
    "for i in range(10000):\n",
    "    outcomes[random.choice(sides)] += 1\n",
    "    \n",
    "print('In 10000 tosses,')\n",
    "print('\\tHeads:', outcomes['heads'])\n",
    "print('\\tTails:', outcomes['tails'])\n"
   ]
  },
  {
   "cell_type": "markdown",
   "metadata": {},
   "source": [
    "#### Random name Generators"
   ]
  },
  {
   "cell_type": "code",
   "execution_count": 48,
   "metadata": {},
   "outputs": [
    {
     "name": "stdout",
     "output_type": "stream",
     "text": [
      "pratik Bush\n",
      "teju woods\n",
      "rehman Mohammed\n",
      "fabina woods\n",
      "rehman Mohammed\n",
      "pratik modi\n",
      "pratik Bush\n",
      "fabina Bush\n",
      "fabina modi\n",
      "teju modi\n"
     ]
    }
   ],
   "source": [
    "first_names = ('rehman', 'fabina', 'teju', 'pratik')\n",
    "last_names = ('Bush', 'Mohammed', 'woods', 'modi')\n",
    "\n",
    "for i in range(10):\n",
    "    rdm_first_name = random.choice(first_names)\n",
    "    rdm_last_name = random.choice(last_names)\n",
    "    print(f'{rdm_first_name} {rdm_last_name}')"
   ]
  },
  {
   "cell_type": "code",
   "execution_count": 50,
   "metadata": {},
   "outputs": [
    {
     "name": "stdout",
     "output_type": "stream",
     "text": [
      "['rehman woods', 'teju modi', 'rehman Mohammed', 'pratik modi', 'teju Mohammed', 'rehman Bush', 'pratik Mohammed', 'fabina Bush', 'teju modi', 'teju Bush']\n"
     ]
    }
   ],
   "source": [
    "first_names = ('rehman', 'fabina', 'teju', 'pratik')\n",
    "last_names = ('Bush', 'Mohammed', 'woods', 'modi')\n",
    "\n",
    "def generate_names(_first_names, _last_names, count):\n",
    "    _names = list()\n",
    "    for i in range(count):\n",
    "        rdm_first_name = random.choice(_first_names)\n",
    "        rdm_last_name = random.choice(_last_names)\n",
    "        _names.append(f'{rdm_first_name} {rdm_last_name}')\n",
    "    return _names\n",
    "\n",
    "names = generate_names(first_names, last_names, 10)\n",
    "print(names)"
   ]
  },
  {
   "cell_type": "code",
   "execution_count": 51,
   "metadata": {},
   "outputs": [
    {
     "data": {
      "text/plain": [
       "['teju Bush',\n",
       " 'fabina Mohammed',\n",
       " 'fabina modi',\n",
       " 'rehman Bush',\n",
       " 'teju woods',\n",
       " 'pratik Mohammed',\n",
       " 'fabina woods',\n",
       " 'pratik woods',\n",
       " 'teju modi',\n",
       " 'teju modi']"
      ]
     },
     "execution_count": 51,
     "metadata": {},
     "output_type": "execute_result"
    }
   ],
   "source": [
    "generate_names(first_names, last_names, 10)"
   ]
  },
  {
   "cell_type": "markdown",
   "metadata": {},
   "source": [
    "__Assignment:__ Upgrade this script to ask for the gender and generate names correspondingly."
   ]
  },
  {
   "cell_type": "markdown",
   "metadata": {},
   "source": [
    "##### Password Generator"
   ]
  },
  {
   "cell_type": "code",
   "execution_count": 52,
   "metadata": {},
   "outputs": [
    {
     "name": "stdout",
     "output_type": "stream",
     "text": [
      "inbkh/5*u++k1-/jgg!=_!-_(C?^r+)wp%\n"
     ]
    }
   ],
   "source": [
    "import random\n",
    "\n",
    "alphabet = \"abcdefghijklmnopqrstuvwxyz .,!@_-(*)-+/|$%&=?^\"\n",
    "pw_length = 34  # can change the length of your password by changing this number\n",
    "mypw = \"\"\n",
    "\n",
    "for i in range(pw_length):\n",
    "    next_index = random.randrange(len(alphabet))\n",
    "    mypw += alphabet[next_index]\n",
    "\n",
    "# replace 1 or 2 characters with a number\n",
    "for i in range(random.randrange(1, 3)):\n",
    "    replace_index = random.randrange(len(mypw) // 2)\n",
    "    mypw = mypw[0:replace_index] + str(random.randrange(10)) + mypw[replace_index + 1:]\n",
    "\n",
    "# replace 1 or 2 letters with an uppercase letter\n",
    "for i in range(random.randrange(1, 3)):\n",
    "    replace_index = random.randrange(len(mypw) // 2, len(mypw))\n",
    "    mypw = mypw[0:replace_index] + mypw[replace_index].upper() + mypw[replace_index + 1:]\n",
    "\n",
    "print(mypw)\n"
   ]
  },
  {
   "cell_type": "code",
   "execution_count": 53,
   "metadata": {},
   "outputs": [
    {
     "name": "stdout",
     "output_type": "stream",
     "text": [
      "string.ascii_letters : abcdefghijklmnopqrstuvwxyzABCDEFGHIJKLMNOPQRSTUVWXYZ\n",
      "string.digits        : 0123456789\n",
      "string.punctuation   : !\"#$%&'()*+,-./:;<=>?@[\\]^_`{|}~\n",
      "password1             : N4N|&m6lEntx,\n",
      "password2             : #6L$[?P]nL'F1J\n",
      "XbGh0687,#*'\n"
     ]
    }
   ],
   "source": [
    "import string\n",
    "from random import choice, randint, randrange, sample\n",
    "\n",
    "print('string.ascii_letters :', string.ascii_letters)\n",
    "print('string.digits        :', string.digits)\n",
    "print('string.punctuation   :', string.punctuation)\n",
    "\n",
    "characters = string.ascii_letters + string.punctuation + string.digits\n",
    "password1 = \"\".join(choice(characters) for x in range(randint(8, 16)))\n",
    "print('password1             :', password1)\n",
    "\n",
    "password2 = \"\".join(choice(characters) for x in range(randrange(8, 16)))\n",
    "print('password2             :', password2)\n",
    "\n",
    "print(''.join(sample(string.ascii_letters, 4)) \\\n",
    "      + ''.join(sample(string.digits, 4)) \\\n",
    "      + ''.join(sample(string.punctuation, 4)))\n"
   ]
  },
  {
   "cell_type": "markdown",
   "metadata": {},
   "source": [
    "random guassian distribution"
   ]
  },
  {
   "cell_type": "code",
   "execution_count": 54,
   "metadata": {},
   "outputs": [
    {
     "name": "stdout",
     "output_type": "stream",
     "text": [
      "\n",
      "\n",
      "\n",
      "\n",
      "\n",
      "\n",
      "\n",
      "\n",
      "\n",
      "\n",
      "\n",
      "\n",
      "\n",
      "\n",
      "\n",
      "\n",
      "\n",
      "\n",
      "\n",
      "\n"
     ]
    }
   ],
   "source": [
    "import random\n",
    "\n",
    "histogram = [0] * 20\n",
    "\n",
    "# calculate histogram for gaussian\n",
    "# noise, using average=5, stddev=1\n",
    "for i in range(1000):\n",
    "    i = int(random.gauss(5, 1) * 2)\n",
    "    histogram[i] = histogram[i] + 1\n",
    "\n",
    "# print the histogram\n",
    "m = max(histogram)\n",
    "for v in histogram:\n",
    "    print(\"*\" * (v * int(50 / m)))\n"
   ]
  }
 ],
 "metadata": {
  "kernelspec": {
   "display_name": "Python 3",
   "language": "python",
   "name": "python3"
  },
  "language_info": {
   "codemirror_mode": {
    "name": "ipython",
    "version": 3
   },
   "file_extension": ".py",
   "mimetype": "text/x-python",
   "name": "python",
   "nbconvert_exporter": "python",
   "pygments_lexer": "ipython3",
   "version": "3.7.4"
  }
 },
 "nbformat": 4,
 "nbformat_minor": 2
}
