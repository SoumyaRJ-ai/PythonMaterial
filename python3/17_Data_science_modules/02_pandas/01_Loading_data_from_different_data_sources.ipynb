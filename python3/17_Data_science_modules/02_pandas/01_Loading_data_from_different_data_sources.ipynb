{
 "cells": [
  {
   "cell_type": "code",
   "execution_count": 1,
   "metadata": {},
   "outputs": [],
   "source": [
    "import pandas as pd"
   ]
  },
  {
   "cell_type": "markdown",
   "metadata": {},
   "source": [
    "To List all the datasets, which we have"
   ]
  },
  {
   "cell_type": "code",
   "execution_count": 2,
   "metadata": {},
   "outputs": [
    {
     "data": {
      "text/plain": [
       "['.DS_Store',\n",
       " '.ipynb_checkpoints',\n",
       " '107983_aariclist_25k.csv',\n",
       " 'crime.h5',\n",
       " 'customer.csv',\n",
       " 'customers.csv',\n",
       " 'example.csv',\n",
       " 'fifa19.csv',\n",
       " 'fifa19.zip',\n",
       " 'file_example_CSV_5000.csv',\n",
       " 'formula-1-race-data-19502017',\n",
       " 'Fremont_Bridge_Hourly_Bicycle_Counts_by_Month_October_2012_to_present.csv',\n",
       " 'google-play-store-apps',\n",
       " 'IFSC.csv',\n",
       " 'IMDB_Movie.csv',\n",
       " 'IMDB_Movie.html',\n",
       " 'IMDB_Movie.json',\n",
       " 'IMDB_Movie.xlsx',\n",
       " 'IMDB_Movie_2columns.csv',\n",
       " 'IMDB_Movie_3columns.csv',\n",
       " 'IMDB_Movie_3columns.html',\n",
       " 'IMDB_Movie_3columns.json',\n",
       " 'IMDB_Movie_3columns.xls',\n",
       " 'IMDB_Movie_3columns_without_index.csv',\n",
       " 'IMDB_Movie_3columns_with_index.csv',\n",
       " 'IMDB_Movie_Apply.csv',\n",
       " 'imdb_movie_cleanup.csv',\n",
       " 'IMDB_Movie_Facebook_Like.csv',\n",
       " 'IMDB_Movie_Filter.csv',\n",
       " 'IMDB_Movie_Overview.csv',\n",
       " 'IMDB_Movie_Sorting.csv',\n",
       " 'international-airline-passengers.csv',\n",
       " 'Land Usage Report.csv',\n",
       " 'Live_Street_Address_Management_SAM_Addresses.csv',\n",
       " 'lynda.com Courses.csv',\n",
       " 'MplsStops.csv',\n",
       " 'multiTimeline.csv',\n",
       " 'opsd_germany_daily.csv',\n",
       " 'orders.csv',\n",
       " 'output-1.csv',\n",
       " 'pandas_created_file.csv',\n",
       " 'pivot-tables.xlsx',\n",
       " 'PJME_hourly.csv',\n",
       " 'Sales_Data.json',\n",
       " 'Sales_Data.xlsx',\n",
       " 'ted_main.csv',\n",
       " 'Titanic_Desaster.csv',\n",
       " 'Weather_2012.csv',\n",
       " 'weight-height.zip',\n",
       " 'world-happiness-report-2019.csv']"
      ]
     },
     "execution_count": 2,
     "metadata": {},
     "output_type": "execute_result"
    }
   ],
   "source": [
    "import os\n",
    "os.listdir('../../datasets')"
   ]
  },
  {
   "cell_type": "markdown",
   "metadata": {},
   "source": [
    "### 1. loading data from csv"
   ]
  },
  {
   "cell_type": "code",
   "execution_count": 3,
   "metadata": {},
   "outputs": [
    {
     "data": {
      "text/html": [
       "<div>\n",
       "<style scoped>\n",
       "    .dataframe tbody tr th:only-of-type {\n",
       "        vertical-align: middle;\n",
       "    }\n",
       "\n",
       "    .dataframe tbody tr th {\n",
       "        vertical-align: top;\n",
       "    }\n",
       "\n",
       "    .dataframe thead th {\n",
       "        text-align: right;\n",
       "    }\n",
       "</style>\n",
       "<table border=\"1\" class=\"dataframe\">\n",
       "  <thead>\n",
       "    <tr style=\"text-align: right;\">\n",
       "      <th></th>\n",
       "      <th>movie_title</th>\n",
       "      <th>director_name</th>\n",
       "      <th>title_year</th>\n",
       "    </tr>\n",
       "  </thead>\n",
       "  <tbody>\n",
       "    <tr>\n",
       "      <th>0</th>\n",
       "      <td>Avatar</td>\n",
       "      <td>James Cameron</td>\n",
       "      <td>2009.0</td>\n",
       "    </tr>\n",
       "    <tr>\n",
       "      <th>1</th>\n",
       "      <td>Pirates of the Caribbean: At World's End</td>\n",
       "      <td>Gore Verbinski</td>\n",
       "      <td>2007.0</td>\n",
       "    </tr>\n",
       "    <tr>\n",
       "      <th>2</th>\n",
       "      <td>Spectre</td>\n",
       "      <td>Sam Mendes</td>\n",
       "      <td>2015.0</td>\n",
       "    </tr>\n",
       "    <tr>\n",
       "      <th>3</th>\n",
       "      <td>The Dark Knight Rises</td>\n",
       "      <td>Christopher Nolan</td>\n",
       "      <td>2012.0</td>\n",
       "    </tr>\n",
       "    <tr>\n",
       "      <th>4</th>\n",
       "      <td>Star Wars: Episode VII - The Force Awakens    ...</td>\n",
       "      <td>Doug Walker</td>\n",
       "      <td>NaN</td>\n",
       "    </tr>\n",
       "  </tbody>\n",
       "</table>\n",
       "</div>"
      ],
      "text/plain": [
       "                                         movie_title      director_name  \\\n",
       "0                                            Avatar       James Cameron   \n",
       "1          Pirates of the Caribbean: At World's End      Gore Verbinski   \n",
       "2                                           Spectre          Sam Mendes   \n",
       "3                             The Dark Knight Rises   Christopher Nolan   \n",
       "4  Star Wars: Episode VII - The Force Awakens    ...        Doug Walker   \n",
       "\n",
       "   title_year  \n",
       "0      2009.0  \n",
       "1      2007.0  \n",
       "2      2015.0  \n",
       "3      2012.0  \n",
       "4         NaN  "
      ]
     },
     "execution_count": 3,
     "metadata": {},
     "output_type": "execute_result"
    }
   ],
   "source": [
    "df_csv = pd.read_csv('../../datasets/IMDB_Movie_3columns.csv')\n",
    "df_csv.head()"
   ]
  },
  {
   "cell_type": "code",
   "execution_count": 16,
   "metadata": {},
   "outputs": [
    {
     "data": {
      "text/html": [
       "<div>\n",
       "<style scoped>\n",
       "    .dataframe tbody tr th:only-of-type {\n",
       "        vertical-align: middle;\n",
       "    }\n",
       "\n",
       "    .dataframe tbody tr th {\n",
       "        vertical-align: top;\n",
       "    }\n",
       "\n",
       "    .dataframe thead th {\n",
       "        text-align: right;\n",
       "    }\n",
       "</style>\n",
       "<table border=\"1\" class=\"dataframe\">\n",
       "  <thead>\n",
       "    <tr style=\"text-align: right;\">\n",
       "      <th></th>\n",
       "      <th>Unnamed: 0</th>\n",
       "      <th>speed</th>\n",
       "      <th>period</th>\n",
       "      <th>warning</th>\n",
       "      <th>pair</th>\n",
       "    </tr>\n",
       "  </thead>\n",
       "  <tbody>\n",
       "    <tr>\n",
       "      <th>0</th>\n",
       "      <td>1</td>\n",
       "      <td>26</td>\n",
       "      <td>1</td>\n",
       "      <td>1</td>\n",
       "      <td>1</td>\n",
       "    </tr>\n",
       "    <tr>\n",
       "      <th>1</th>\n",
       "      <td>2</td>\n",
       "      <td>26</td>\n",
       "      <td>1</td>\n",
       "      <td>1</td>\n",
       "      <td>1</td>\n",
       "    </tr>\n",
       "    <tr>\n",
       "      <th>2</th>\n",
       "      <td>3</td>\n",
       "      <td>26</td>\n",
       "      <td>1</td>\n",
       "      <td>1</td>\n",
       "      <td>1</td>\n",
       "    </tr>\n",
       "    <tr>\n",
       "      <th>3</th>\n",
       "      <td>4</td>\n",
       "      <td>26</td>\n",
       "      <td>1</td>\n",
       "      <td>1</td>\n",
       "      <td>1</td>\n",
       "    </tr>\n",
       "    <tr>\n",
       "      <th>4</th>\n",
       "      <td>5</td>\n",
       "      <td>27</td>\n",
       "      <td>1</td>\n",
       "      <td>1</td>\n",
       "      <td>1</td>\n",
       "    </tr>\n",
       "  </tbody>\n",
       "</table>\n",
       "</div>"
      ],
      "text/plain": [
       "   Unnamed: 0  speed  period  warning  pair\n",
       "0           1     26       1        1     1\n",
       "1           2     26       1        1     1\n",
       "2           3     26       1        1     1\n",
       "3           4     26       1        1     1\n",
       "4           5     27       1        1     1"
      ]
     },
     "execution_count": 16,
     "metadata": {},
     "output_type": "execute_result"
    }
   ],
   "source": [
    "df_csv2 = pd.read_csv('https://vincentarelbundock.github.io/Rdatasets/csv/boot/amis.csv')\n",
    "df_csv2.head()"
   ]
  },
  {
   "cell_type": "markdown",
   "metadata": {},
   "source": [
    "### 2. loading data from excel\n",
    "    - user could choose sheet number incase excel file contain multiple sheet"
   ]
  },
  {
   "cell_type": "code",
   "execution_count": 4,
   "metadata": {
    "scrolled": true
   },
   "outputs": [
    {
     "data": {
      "text/html": [
       "<div>\n",
       "<style scoped>\n",
       "    .dataframe tbody tr th:only-of-type {\n",
       "        vertical-align: middle;\n",
       "    }\n",
       "\n",
       "    .dataframe tbody tr th {\n",
       "        vertical-align: top;\n",
       "    }\n",
       "\n",
       "    .dataframe thead th {\n",
       "        text-align: right;\n",
       "    }\n",
       "</style>\n",
       "<table border=\"1\" class=\"dataframe\">\n",
       "  <thead>\n",
       "    <tr style=\"text-align: right;\">\n",
       "      <th></th>\n",
       "      <th>movie_title</th>\n",
       "      <th>director_name</th>\n",
       "      <th>title_year</th>\n",
       "    </tr>\n",
       "  </thead>\n",
       "  <tbody>\n",
       "    <tr>\n",
       "      <th>0</th>\n",
       "      <td>Avatar</td>\n",
       "      <td>James Cameron</td>\n",
       "      <td>2009</td>\n",
       "    </tr>\n",
       "    <tr>\n",
       "      <th>1</th>\n",
       "      <td>Pirates of the Caribbean: At World's End</td>\n",
       "      <td>Gore Verbinski</td>\n",
       "      <td>2007</td>\n",
       "    </tr>\n",
       "    <tr>\n",
       "      <th>2</th>\n",
       "      <td>Spectre</td>\n",
       "      <td>Sam Mendes</td>\n",
       "      <td>2015</td>\n",
       "    </tr>\n",
       "  </tbody>\n",
       "</table>\n",
       "</div>"
      ],
      "text/plain": [
       "                                 movie_title   director_name  title_year\n",
       "0                                    Avatar    James Cameron        2009\n",
       "1  Pirates of the Caribbean: At World's End   Gore Verbinski        2007\n",
       "2                                   Spectre       Sam Mendes        2015"
      ]
     },
     "execution_count": 4,
     "metadata": {},
     "output_type": "execute_result"
    }
   ],
   "source": [
    "df_excel = pd.read_excel('../../datasets/IMDB_Movie.xlsx', sheet_name=0)\n",
    "df_excel"
   ]
  },
  {
   "cell_type": "markdown",
   "metadata": {},
   "source": [
    "### 3. loading data from json "
   ]
  },
  {
   "cell_type": "code",
   "execution_count": 5,
   "metadata": {},
   "outputs": [
    {
     "data": {
      "text/html": [
       "<div>\n",
       "<style scoped>\n",
       "    .dataframe tbody tr th:only-of-type {\n",
       "        vertical-align: middle;\n",
       "    }\n",
       "\n",
       "    .dataframe tbody tr th {\n",
       "        vertical-align: top;\n",
       "    }\n",
       "\n",
       "    .dataframe thead th {\n",
       "        text-align: right;\n",
       "    }\n",
       "</style>\n",
       "<table border=\"1\" class=\"dataframe\">\n",
       "  <thead>\n",
       "    <tr style=\"text-align: right;\">\n",
       "      <th></th>\n",
       "      <th>movie_title</th>\n",
       "      <th>director_name</th>\n",
       "      <th>title_year</th>\n",
       "    </tr>\n",
       "  </thead>\n",
       "  <tbody>\n",
       "    <tr>\n",
       "      <th>0</th>\n",
       "      <td>Avatar</td>\n",
       "      <td>James Cameron</td>\n",
       "      <td>2009</td>\n",
       "    </tr>\n",
       "    <tr>\n",
       "      <th>1</th>\n",
       "      <td>Pirates of the Caribbean: At World's End</td>\n",
       "      <td>Gore Verbinski</td>\n",
       "      <td>2007</td>\n",
       "    </tr>\n",
       "    <tr>\n",
       "      <th>2</th>\n",
       "      <td>Spectre</td>\n",
       "      <td>Sam Mendes</td>\n",
       "      <td>2015</td>\n",
       "    </tr>\n",
       "  </tbody>\n",
       "</table>\n",
       "</div>"
      ],
      "text/plain": [
       "                                movie_title   director_name  title_year\n",
       "0                                    Avatar   James Cameron        2009\n",
       "1  Pirates of the Caribbean: At World's End  Gore Verbinski        2007\n",
       "2                                   Spectre      Sam Mendes        2015"
      ]
     },
     "execution_count": 5,
     "metadata": {},
     "output_type": "execute_result"
    }
   ],
   "source": [
    "df_json = pd.read_json('../../datasets/IMDB_Movie.json')\n",
    "df_json.head()"
   ]
  },
  {
   "cell_type": "markdown",
   "metadata": {},
   "source": [
    "### 4. loading data from a table on html web page\n",
    "    - note that read_html return a list of data table, so to access one talbe need to have table index"
   ]
  },
  {
   "cell_type": "code",
   "execution_count": 6,
   "metadata": {},
   "outputs": [
    {
     "data": {
      "text/html": [
       "<div>\n",
       "<style scoped>\n",
       "    .dataframe tbody tr th:only-of-type {\n",
       "        vertical-align: middle;\n",
       "    }\n",
       "\n",
       "    .dataframe tbody tr th {\n",
       "        vertical-align: top;\n",
       "    }\n",
       "\n",
       "    .dataframe thead th {\n",
       "        text-align: right;\n",
       "    }\n",
       "</style>\n",
       "<table border=\"1\" class=\"dataframe\">\n",
       "  <thead>\n",
       "    <tr style=\"text-align: right;\">\n",
       "      <th></th>\n",
       "      <th>Unnamed: 0</th>\n",
       "      <th>movie_title</th>\n",
       "      <th>director_name</th>\n",
       "      <th>title_year</th>\n",
       "    </tr>\n",
       "  </thead>\n",
       "  <tbody>\n",
       "    <tr>\n",
       "      <th>0</th>\n",
       "      <td>0</td>\n",
       "      <td>Avatar</td>\n",
       "      <td>James Cameron</td>\n",
       "      <td>2009.0</td>\n",
       "    </tr>\n",
       "    <tr>\n",
       "      <th>1</th>\n",
       "      <td>1</td>\n",
       "      <td>Pirates of the Caribbean: At World's End</td>\n",
       "      <td>Gore Verbinski</td>\n",
       "      <td>2007.0</td>\n",
       "    </tr>\n",
       "    <tr>\n",
       "      <th>2</th>\n",
       "      <td>2</td>\n",
       "      <td>Spectre</td>\n",
       "      <td>Sam Mendes</td>\n",
       "      <td>2015.0</td>\n",
       "    </tr>\n",
       "  </tbody>\n",
       "</table>\n",
       "</div>"
      ],
      "text/plain": [
       "   Unnamed: 0                               movie_title   director_name  \\\n",
       "0           0                                    Avatar   James Cameron   \n",
       "1           1  Pirates of the Caribbean: At World's End  Gore Verbinski   \n",
       "2           2                                   Spectre      Sam Mendes   \n",
       "\n",
       "   title_year  \n",
       "0      2009.0  \n",
       "1      2007.0  \n",
       "2      2015.0  "
      ]
     },
     "execution_count": 6,
     "metadata": {},
     "output_type": "execute_result"
    }
   ],
   "source": [
    "df_html = pd.read_html('../../datasets/IMDB_Movie.html')\n",
    "df_html[0].head()"
   ]
  },
  {
   "cell_type": "code",
   "execution_count": 7,
   "metadata": {},
   "outputs": [
    {
     "data": {
      "text/plain": [
       "[   Unnamed: 0                               movie_title   director_name  \\\n",
       " 0           0                                    Avatar   James Cameron   \n",
       " 1           1  Pirates of the Caribbean: At World's End  Gore Verbinski   \n",
       " 2           2                                   Spectre      Sam Mendes   \n",
       " \n",
       "    title_year  \n",
       " 0      2009.0  \n",
       " 1      2007.0  \n",
       " 2      2015.0  ]"
      ]
     },
     "execution_count": 7,
     "metadata": {},
     "output_type": "execute_result"
    }
   ],
   "source": [
    "df_html"
   ]
  },
  {
   "cell_type": "markdown",
   "metadata": {},
   "source": [
    "### 5. loading from a python dictionary\n",
    "    - key become columns name\n",
    "    - value become row data"
   ]
  },
  {
   "cell_type": "code",
   "execution_count": 8,
   "metadata": {},
   "outputs": [
    {
     "data": {
      "text/html": [
       "<div>\n",
       "<style scoped>\n",
       "    .dataframe tbody tr th:only-of-type {\n",
       "        vertical-align: middle;\n",
       "    }\n",
       "\n",
       "    .dataframe tbody tr th {\n",
       "        vertical-align: top;\n",
       "    }\n",
       "\n",
       "    .dataframe thead th {\n",
       "        text-align: right;\n",
       "    }\n",
       "</style>\n",
       "<table border=\"1\" class=\"dataframe\">\n",
       "  <thead>\n",
       "    <tr style=\"text-align: right;\">\n",
       "      <th></th>\n",
       "      <th>name</th>\n",
       "      <th>age</th>\n",
       "      <th>city</th>\n",
       "    </tr>\n",
       "  </thead>\n",
       "  <tbody>\n",
       "    <tr>\n",
       "      <th>0</th>\n",
       "      <td>jack</td>\n",
       "      <td>34</td>\n",
       "      <td>Sydney</td>\n",
       "    </tr>\n",
       "    <tr>\n",
       "      <th>1</th>\n",
       "      <td>Riti</td>\n",
       "      <td>30</td>\n",
       "      <td>Delhi</td>\n",
       "    </tr>\n",
       "    <tr>\n",
       "      <th>2</th>\n",
       "      <td>Aadi</td>\n",
       "      <td>16</td>\n",
       "      <td>New york</td>\n",
       "    </tr>\n",
       "  </tbody>\n",
       "</table>\n",
       "</div>"
      ],
      "text/plain": [
       "   name  age      city\n",
       "0  jack   34    Sydney\n",
       "1  Riti   30     Delhi\n",
       "2  Aadi   16  New york"
      ]
     },
     "execution_count": 8,
     "metadata": {},
     "output_type": "execute_result"
    }
   ],
   "source": [
    "studentData = {\n",
    "    'name' : ['jack', 'Riti', 'Aadi'],\n",
    "    'age' : [34, 30, 16],\n",
    "    'city' : ['Sydney', 'Delhi', 'New york']\n",
    "}\n",
    "\n",
    "df_dic = pd.DataFrame(studentData)\n",
    "df_dic"
   ]
  },
  {
   "cell_type": "code",
   "execution_count": 9,
   "metadata": {},
   "outputs": [
    {
     "data": {
      "text/plain": [
       "[Empty DataFrame\n",
       " Columns: [Rank, Name, Market Cap, Price, Volume (24h), Circulating Supply, Change (24h), Price Graph (7d), Unnamed: 8]\n",
       " Index: [],\n",
       " Empty DataFrame\n",
       " Columns: [Rank, Name]\n",
       " Index: [],\n",
       "     Rank           Name        Market Cap      Price     Volume (24h)  \\\n",
       " 0      1        Bitcoin  $170,493,221,862  $9,251.14  $16,687,215,503   \n",
       " 1      2       Ethereum   $26,819,325,865    $240.08   $7,395,988,262   \n",
       " 2      3         Tether    $9,175,000,106  $0.998586  $19,603,436,406   \n",
       " 3      4            XRP    $8,915,935,425  $0.201455   $1,229,144,011   \n",
       " 4      5   Bitcoin Cash    $4,380,820,482    $237.33   $1,131,724,293   \n",
       " ..   ...            ...               ...        ...              ...   \n",
       " 95    96        Stratis       $65,147,396  $0.652311      $25,392,392   \n",
       " 96    97  KuCoin Shares       $64,262,694  $0.790923       $5,173,426   \n",
       " 97    98      SwissBorg       $62,136,115  $0.086963         $805,571   \n",
       " 98    99         Energi       $60,707,422      $1.97       $1,348,089   \n",
       " 99   100          Zcoin       $60,042,658      $5.71      $30,160,886   \n",
       " \n",
       "       Circulating Supply Change (24h)  Price Graph (7d)  Unnamed: 8  \n",
       " 0         18,429,437 BTC        0.29%               NaN         NaN  \n",
       " 1        111,707,931 ETH       -0.18%               NaN         NaN  \n",
       " 2   9,187,991,663 USDT *       -0.27%               NaN         NaN  \n",
       " 3   44,257,803,618 XRP *        0.88%               NaN         NaN  \n",
       " 4         18,458,750 BCH        0.13%               NaN         NaN  \n",
       " ..                   ...          ...               ...         ...  \n",
       " 95    99,871,702 STRAT *        9.79%               NaN         NaN  \n",
       " 96      81,250,284 KCS *       -2.04%               NaN         NaN  \n",
       " 97    714,514,612 CHSB *       -4.11%               NaN         NaN  \n",
       " 98        30,793,852 NRG       -1.26%               NaN         NaN  \n",
       " 99        10,522,194 XZC       18.20%               NaN         NaN  \n",
       " \n",
       " [100 rows x 9 columns]]"
      ]
     },
     "execution_count": 9,
     "metadata": {},
     "output_type": "execute_result"
    }
   ],
   "source": [
    "# loading data from coinmarketcap\n",
    "df_cmc = pd.read_html('http://coinmarketcap.com')\n",
    "df_cmc"
   ]
  },
  {
   "cell_type": "code",
   "execution_count": 10,
   "metadata": {},
   "outputs": [
    {
     "data": {
      "text/plain": [
       "3"
      ]
     },
     "execution_count": 10,
     "metadata": {},
     "output_type": "execute_result"
    }
   ],
   "source": [
    "len(df_cmc)"
   ]
  },
  {
   "cell_type": "code",
   "execution_count": 13,
   "metadata": {},
   "outputs": [
    {
     "data": {
      "text/html": [
       "<div>\n",
       "<style scoped>\n",
       "    .dataframe tbody tr th:only-of-type {\n",
       "        vertical-align: middle;\n",
       "    }\n",
       "\n",
       "    .dataframe tbody tr th {\n",
       "        vertical-align: top;\n",
       "    }\n",
       "\n",
       "    .dataframe thead th {\n",
       "        text-align: right;\n",
       "    }\n",
       "</style>\n",
       "<table border=\"1\" class=\"dataframe\">\n",
       "  <thead>\n",
       "    <tr style=\"text-align: right;\">\n",
       "      <th></th>\n",
       "      <th>Rank</th>\n",
       "      <th>Name</th>\n",
       "      <th>Market Cap</th>\n",
       "      <th>Price</th>\n",
       "      <th>Volume (24h)</th>\n",
       "      <th>Circulating Supply</th>\n",
       "      <th>Change (24h)</th>\n",
       "      <th>Price Graph (7d)</th>\n",
       "      <th>Unnamed: 8</th>\n",
       "    </tr>\n",
       "  </thead>\n",
       "  <tbody>\n",
       "  </tbody>\n",
       "</table>\n",
       "</div>"
      ],
      "text/plain": [
       "Empty DataFrame\n",
       "Columns: [Rank, Name, Market Cap, Price, Volume (24h), Circulating Supply, Change (24h), Price Graph (7d), Unnamed: 8]\n",
       "Index: []"
      ]
     },
     "execution_count": 13,
     "metadata": {},
     "output_type": "execute_result"
    }
   ],
   "source": [
    "df_cmc[0]"
   ]
  },
  {
   "cell_type": "code",
   "execution_count": 14,
   "metadata": {},
   "outputs": [
    {
     "data": {
      "text/html": [
       "<div>\n",
       "<style scoped>\n",
       "    .dataframe tbody tr th:only-of-type {\n",
       "        vertical-align: middle;\n",
       "    }\n",
       "\n",
       "    .dataframe tbody tr th {\n",
       "        vertical-align: top;\n",
       "    }\n",
       "\n",
       "    .dataframe thead th {\n",
       "        text-align: right;\n",
       "    }\n",
       "</style>\n",
       "<table border=\"1\" class=\"dataframe\">\n",
       "  <thead>\n",
       "    <tr style=\"text-align: right;\">\n",
       "      <th></th>\n",
       "      <th>Rank</th>\n",
       "      <th>Name</th>\n",
       "    </tr>\n",
       "  </thead>\n",
       "  <tbody>\n",
       "  </tbody>\n",
       "</table>\n",
       "</div>"
      ],
      "text/plain": [
       "Empty DataFrame\n",
       "Columns: [Rank, Name]\n",
       "Index: []"
      ]
     },
     "execution_count": 14,
     "metadata": {},
     "output_type": "execute_result"
    }
   ],
   "source": [
    "df_cmc[1]"
   ]
  },
  {
   "cell_type": "code",
   "execution_count": 15,
   "metadata": {},
   "outputs": [
    {
     "data": {
      "text/html": [
       "<div>\n",
       "<style scoped>\n",
       "    .dataframe tbody tr th:only-of-type {\n",
       "        vertical-align: middle;\n",
       "    }\n",
       "\n",
       "    .dataframe tbody tr th {\n",
       "        vertical-align: top;\n",
       "    }\n",
       "\n",
       "    .dataframe thead th {\n",
       "        text-align: right;\n",
       "    }\n",
       "</style>\n",
       "<table border=\"1\" class=\"dataframe\">\n",
       "  <thead>\n",
       "    <tr style=\"text-align: right;\">\n",
       "      <th></th>\n",
       "      <th>Rank</th>\n",
       "      <th>Name</th>\n",
       "      <th>Market Cap</th>\n",
       "      <th>Price</th>\n",
       "      <th>Volume (24h)</th>\n",
       "      <th>Circulating Supply</th>\n",
       "      <th>Change (24h)</th>\n",
       "      <th>Price Graph (7d)</th>\n",
       "      <th>Unnamed: 8</th>\n",
       "    </tr>\n",
       "  </thead>\n",
       "  <tbody>\n",
       "    <tr>\n",
       "      <th>0</th>\n",
       "      <td>1</td>\n",
       "      <td>Bitcoin</td>\n",
       "      <td>$170,493,221,862</td>\n",
       "      <td>$9,251.14</td>\n",
       "      <td>$16,687,215,503</td>\n",
       "      <td>18,429,437 BTC</td>\n",
       "      <td>0.29%</td>\n",
       "      <td>NaN</td>\n",
       "      <td>NaN</td>\n",
       "    </tr>\n",
       "    <tr>\n",
       "      <th>1</th>\n",
       "      <td>2</td>\n",
       "      <td>Ethereum</td>\n",
       "      <td>$26,819,325,865</td>\n",
       "      <td>$240.08</td>\n",
       "      <td>$7,395,988,262</td>\n",
       "      <td>111,707,931 ETH</td>\n",
       "      <td>-0.18%</td>\n",
       "      <td>NaN</td>\n",
       "      <td>NaN</td>\n",
       "    </tr>\n",
       "    <tr>\n",
       "      <th>2</th>\n",
       "      <td>3</td>\n",
       "      <td>Tether</td>\n",
       "      <td>$9,175,000,106</td>\n",
       "      <td>$0.998586</td>\n",
       "      <td>$19,603,436,406</td>\n",
       "      <td>9,187,991,663 USDT *</td>\n",
       "      <td>-0.27%</td>\n",
       "      <td>NaN</td>\n",
       "      <td>NaN</td>\n",
       "    </tr>\n",
       "    <tr>\n",
       "      <th>3</th>\n",
       "      <td>4</td>\n",
       "      <td>XRP</td>\n",
       "      <td>$8,915,935,425</td>\n",
       "      <td>$0.201455</td>\n",
       "      <td>$1,229,144,011</td>\n",
       "      <td>44,257,803,618 XRP *</td>\n",
       "      <td>0.88%</td>\n",
       "      <td>NaN</td>\n",
       "      <td>NaN</td>\n",
       "    </tr>\n",
       "    <tr>\n",
       "      <th>4</th>\n",
       "      <td>5</td>\n",
       "      <td>Bitcoin Cash</td>\n",
       "      <td>$4,380,820,482</td>\n",
       "      <td>$237.33</td>\n",
       "      <td>$1,131,724,293</td>\n",
       "      <td>18,458,750 BCH</td>\n",
       "      <td>0.13%</td>\n",
       "      <td>NaN</td>\n",
       "      <td>NaN</td>\n",
       "    </tr>\n",
       "    <tr>\n",
       "      <th>...</th>\n",
       "      <td>...</td>\n",
       "      <td>...</td>\n",
       "      <td>...</td>\n",
       "      <td>...</td>\n",
       "      <td>...</td>\n",
       "      <td>...</td>\n",
       "      <td>...</td>\n",
       "      <td>...</td>\n",
       "      <td>...</td>\n",
       "    </tr>\n",
       "    <tr>\n",
       "      <th>95</th>\n",
       "      <td>96</td>\n",
       "      <td>Stratis</td>\n",
       "      <td>$65,147,396</td>\n",
       "      <td>$0.652311</td>\n",
       "      <td>$25,392,392</td>\n",
       "      <td>99,871,702 STRAT *</td>\n",
       "      <td>9.79%</td>\n",
       "      <td>NaN</td>\n",
       "      <td>NaN</td>\n",
       "    </tr>\n",
       "    <tr>\n",
       "      <th>96</th>\n",
       "      <td>97</td>\n",
       "      <td>KuCoin Shares</td>\n",
       "      <td>$64,262,694</td>\n",
       "      <td>$0.790923</td>\n",
       "      <td>$5,173,426</td>\n",
       "      <td>81,250,284 KCS *</td>\n",
       "      <td>-2.04%</td>\n",
       "      <td>NaN</td>\n",
       "      <td>NaN</td>\n",
       "    </tr>\n",
       "    <tr>\n",
       "      <th>97</th>\n",
       "      <td>98</td>\n",
       "      <td>SwissBorg</td>\n",
       "      <td>$62,136,115</td>\n",
       "      <td>$0.086963</td>\n",
       "      <td>$805,571</td>\n",
       "      <td>714,514,612 CHSB *</td>\n",
       "      <td>-4.11%</td>\n",
       "      <td>NaN</td>\n",
       "      <td>NaN</td>\n",
       "    </tr>\n",
       "    <tr>\n",
       "      <th>98</th>\n",
       "      <td>99</td>\n",
       "      <td>Energi</td>\n",
       "      <td>$60,707,422</td>\n",
       "      <td>$1.97</td>\n",
       "      <td>$1,348,089</td>\n",
       "      <td>30,793,852 NRG</td>\n",
       "      <td>-1.26%</td>\n",
       "      <td>NaN</td>\n",
       "      <td>NaN</td>\n",
       "    </tr>\n",
       "    <tr>\n",
       "      <th>99</th>\n",
       "      <td>100</td>\n",
       "      <td>Zcoin</td>\n",
       "      <td>$60,042,658</td>\n",
       "      <td>$5.71</td>\n",
       "      <td>$30,160,886</td>\n",
       "      <td>10,522,194 XZC</td>\n",
       "      <td>18.20%</td>\n",
       "      <td>NaN</td>\n",
       "      <td>NaN</td>\n",
       "    </tr>\n",
       "  </tbody>\n",
       "</table>\n",
       "<p>100 rows × 9 columns</p>\n",
       "</div>"
      ],
      "text/plain": [
       "    Rank           Name        Market Cap      Price     Volume (24h)  \\\n",
       "0      1        Bitcoin  $170,493,221,862  $9,251.14  $16,687,215,503   \n",
       "1      2       Ethereum   $26,819,325,865    $240.08   $7,395,988,262   \n",
       "2      3         Tether    $9,175,000,106  $0.998586  $19,603,436,406   \n",
       "3      4            XRP    $8,915,935,425  $0.201455   $1,229,144,011   \n",
       "4      5   Bitcoin Cash    $4,380,820,482    $237.33   $1,131,724,293   \n",
       "..   ...            ...               ...        ...              ...   \n",
       "95    96        Stratis       $65,147,396  $0.652311      $25,392,392   \n",
       "96    97  KuCoin Shares       $64,262,694  $0.790923       $5,173,426   \n",
       "97    98      SwissBorg       $62,136,115  $0.086963         $805,571   \n",
       "98    99         Energi       $60,707,422      $1.97       $1,348,089   \n",
       "99   100          Zcoin       $60,042,658      $5.71      $30,160,886   \n",
       "\n",
       "      Circulating Supply Change (24h)  Price Graph (7d)  Unnamed: 8  \n",
       "0         18,429,437 BTC        0.29%               NaN         NaN  \n",
       "1        111,707,931 ETH       -0.18%               NaN         NaN  \n",
       "2   9,187,991,663 USDT *       -0.27%               NaN         NaN  \n",
       "3   44,257,803,618 XRP *        0.88%               NaN         NaN  \n",
       "4         18,458,750 BCH        0.13%               NaN         NaN  \n",
       "..                   ...          ...               ...         ...  \n",
       "95    99,871,702 STRAT *        9.79%               NaN         NaN  \n",
       "96      81,250,284 KCS *       -2.04%               NaN         NaN  \n",
       "97    714,514,612 CHSB *       -4.11%               NaN         NaN  \n",
       "98        30,793,852 NRG       -1.26%               NaN         NaN  \n",
       "99        10,522,194 XZC       18.20%               NaN         NaN  \n",
       "\n",
       "[100 rows x 9 columns]"
      ]
     },
     "execution_count": 15,
     "metadata": {},
     "output_type": "execute_result"
    }
   ],
   "source": [
    "df_cmc[2]"
   ]
  },
  {
   "cell_type": "code",
   "execution_count": 11,
   "metadata": {},
   "outputs": [
    {
     "data": {
      "text/html": [
       "<div>\n",
       "<style scoped>\n",
       "    .dataframe tbody tr th:only-of-type {\n",
       "        vertical-align: middle;\n",
       "    }\n",
       "\n",
       "    .dataframe tbody tr th {\n",
       "        vertical-align: top;\n",
       "    }\n",
       "\n",
       "    .dataframe thead th {\n",
       "        text-align: right;\n",
       "    }\n",
       "</style>\n",
       "<table border=\"1\" class=\"dataframe\">\n",
       "  <thead>\n",
       "    <tr style=\"text-align: right;\">\n",
       "      <th></th>\n",
       "      <th>Name</th>\n",
       "      <th>Market Cap</th>\n",
       "      <th>Price</th>\n",
       "      <th>Volume (24h)</th>\n",
       "      <th>Circulating Supply</th>\n",
       "      <th>Change (24h)</th>\n",
       "    </tr>\n",
       "  </thead>\n",
       "  <tbody>\n",
       "    <tr>\n",
       "      <th>0</th>\n",
       "      <td>Bitcoin</td>\n",
       "      <td>$170,493,221,862</td>\n",
       "      <td>$9,251.14</td>\n",
       "      <td>$16,687,215,503</td>\n",
       "      <td>18,429,437 BTC</td>\n",
       "      <td>0.29%</td>\n",
       "    </tr>\n",
       "    <tr>\n",
       "      <th>1</th>\n",
       "      <td>Ethereum</td>\n",
       "      <td>$26,819,325,865</td>\n",
       "      <td>$240.08</td>\n",
       "      <td>$7,395,988,262</td>\n",
       "      <td>111,707,931 ETH</td>\n",
       "      <td>-0.18%</td>\n",
       "    </tr>\n",
       "    <tr>\n",
       "      <th>2</th>\n",
       "      <td>Tether</td>\n",
       "      <td>$9,175,000,106</td>\n",
       "      <td>$0.998586</td>\n",
       "      <td>$19,603,436,406</td>\n",
       "      <td>9,187,991,663 USDT *</td>\n",
       "      <td>-0.27%</td>\n",
       "    </tr>\n",
       "  </tbody>\n",
       "</table>\n",
       "</div>"
      ],
      "text/plain": [
       "       Name        Market Cap      Price     Volume (24h)  \\\n",
       "0   Bitcoin  $170,493,221,862  $9,251.14  $16,687,215,503   \n",
       "1  Ethereum   $26,819,325,865    $240.08   $7,395,988,262   \n",
       "2    Tether    $9,175,000,106  $0.998586  $19,603,436,406   \n",
       "\n",
       "     Circulating Supply Change (24h)  \n",
       "0        18,429,437 BTC        0.29%  \n",
       "1       111,707,931 ETH       -0.18%  \n",
       "2  9,187,991,663 USDT *       -0.27%  "
      ]
     },
     "execution_count": 11,
     "metadata": {},
     "output_type": "execute_result"
    }
   ],
   "source": [
    "df_cmc_table = df_cmc[2][['Name', 'Market Cap', 'Price', 'Volume (24h)', 'Circulating Supply', 'Change (24h)']]\n",
    "df_cmc_table.head(3)"
   ]
  },
  {
   "cell_type": "markdown",
   "metadata": {},
   "source": [
    "__NOTE:__\n",
    "\n",
    "        when loading large dataset with python dataframe, the best practices are \n",
    "        a. To load in chucks\n",
    "        b. filter out unwanted columns \n",
    "        c. optimizing the memory usage with using astype() for the columns\n"
   ]
  }
 ],
 "metadata": {
  "kernelspec": {
   "display_name": "Python 3",
   "language": "python",
   "name": "python3"
  },
  "language_info": {
   "codemirror_mode": {
    "name": "ipython",
    "version": 3
   },
   "file_extension": ".py",
   "mimetype": "text/x-python",
   "name": "python",
   "nbconvert_exporter": "python",
   "pygments_lexer": "ipython3",
   "version": "3.8.3"
  }
 },
 "nbformat": 4,
 "nbformat_minor": 2
}
