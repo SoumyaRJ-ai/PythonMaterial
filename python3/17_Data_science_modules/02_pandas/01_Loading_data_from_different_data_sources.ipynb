{
 "cells": [
  {
   "cell_type": "code",
   "execution_count": 1,
   "metadata": {},
   "outputs": [],
   "source": [
    "import pandas as pd"
   ]
  },
  {
   "cell_type": "markdown",
   "metadata": {},
   "source": [
    "To List all the datasets, which we have"
   ]
  },
  {
   "cell_type": "code",
   "execution_count": 2,
   "metadata": {},
   "outputs": [
    {
     "data": {
      "text/plain": [
       "['.DS_Store',\n",
       " '.ipynb_checkpoints',\n",
       " '107983_aariclist_25k.csv',\n",
       " 'crime.h5',\n",
       " 'customer.csv',\n",
       " 'customers.csv',\n",
       " 'example.csv',\n",
       " 'fifa19.csv',\n",
       " 'fifa19.zip',\n",
       " 'file_example_CSV_5000.csv',\n",
       " 'formula-1-race-data-19502017',\n",
       " 'Fremont_Bridge_Hourly_Bicycle_Counts_by_Month_October_2012_to_present.csv',\n",
       " 'google-play-store-apps',\n",
       " 'IFSC.csv',\n",
       " 'IMDB_Movie.csv',\n",
       " 'IMDB_Movie.html',\n",
       " 'IMDB_Movie.json',\n",
       " 'IMDB_Movie.xlsx',\n",
       " 'IMDB_Movie_2columns.csv',\n",
       " 'IMDB_Movie_3columns.csv',\n",
       " 'IMDB_Movie_3columns.html',\n",
       " 'IMDB_Movie_3columns.json',\n",
       " 'IMDB_Movie_3columns.xls',\n",
       " 'IMDB_Movie_3columns_without_index.csv',\n",
       " 'IMDB_Movie_3columns_with_index.csv',\n",
       " 'IMDB_Movie_Apply.csv',\n",
       " 'imdb_movie_cleanup.csv',\n",
       " 'IMDB_Movie_Facebook_Like.csv',\n",
       " 'IMDB_Movie_Filter.csv',\n",
       " 'IMDB_Movie_Overview.csv',\n",
       " 'IMDB_Movie_Sorting.csv',\n",
       " 'international-airline-passengers.csv',\n",
       " 'Land Usage Report.csv',\n",
       " 'Live_Street_Address_Management_SAM_Addresses.csv',\n",
       " 'lynda.com Courses.csv',\n",
       " 'MplsStops.csv',\n",
       " 'multiTimeline.csv',\n",
       " 'opsd_germany_daily.csv',\n",
       " 'orders.csv',\n",
       " 'output-1.csv',\n",
       " 'pandas_created_file.csv',\n",
       " 'pivot-tables.xlsx',\n",
       " 'PJME_hourly.csv',\n",
       " 'Sales_Data.json',\n",
       " 'Sales_Data.xlsx',\n",
       " 'ted_main.csv',\n",
       " 'Titanic_Desaster.csv',\n",
       " 'Weather_2012.csv',\n",
       " 'weight-height.zip',\n",
       " 'world-happiness-report-2019.csv']"
      ]
     },
     "execution_count": 2,
     "metadata": {},
     "output_type": "execute_result"
    }
   ],
   "source": [
    "import os\n",
    "os.listdir('../../datasets')"
   ]
  },
  {
   "cell_type": "markdown",
   "metadata": {},
   "source": [
    "### 1. loading data from csv"
   ]
  },
  {
   "cell_type": "code",
   "execution_count": 3,
   "metadata": {},
   "outputs": [
    {
     "data": {
      "text/html": [
       "<div>\n",
       "<style scoped>\n",
       "    .dataframe tbody tr th:only-of-type {\n",
       "        vertical-align: middle;\n",
       "    }\n",
       "\n",
       "    .dataframe tbody tr th {\n",
       "        vertical-align: top;\n",
       "    }\n",
       "\n",
       "    .dataframe thead th {\n",
       "        text-align: right;\n",
       "    }\n",
       "</style>\n",
       "<table border=\"1\" class=\"dataframe\">\n",
       "  <thead>\n",
       "    <tr style=\"text-align: right;\">\n",
       "      <th></th>\n",
       "      <th>movie_title</th>\n",
       "      <th>director_name</th>\n",
       "      <th>title_year</th>\n",
       "    </tr>\n",
       "  </thead>\n",
       "  <tbody>\n",
       "    <tr>\n",
       "      <th>0</th>\n",
       "      <td>Avatar</td>\n",
       "      <td>James Cameron</td>\n",
       "      <td>2009.0</td>\n",
       "    </tr>\n",
       "    <tr>\n",
       "      <th>1</th>\n",
       "      <td>Pirates of the Caribbean: At World's End</td>\n",
       "      <td>Gore Verbinski</td>\n",
       "      <td>2007.0</td>\n",
       "    </tr>\n",
       "    <tr>\n",
       "      <th>2</th>\n",
       "      <td>Spectre</td>\n",
       "      <td>Sam Mendes</td>\n",
       "      <td>2015.0</td>\n",
       "    </tr>\n",
       "    <tr>\n",
       "      <th>3</th>\n",
       "      <td>The Dark Knight Rises</td>\n",
       "      <td>Christopher Nolan</td>\n",
       "      <td>2012.0</td>\n",
       "    </tr>\n",
       "    <tr>\n",
       "      <th>4</th>\n",
       "      <td>Star Wars: Episode VII - The Force Awakens    ...</td>\n",
       "      <td>Doug Walker</td>\n",
       "      <td>NaN</td>\n",
       "    </tr>\n",
       "  </tbody>\n",
       "</table>\n",
       "</div>"
      ],
      "text/plain": [
       "                                         movie_title      director_name  \\\n",
       "0                                            Avatar       James Cameron   \n",
       "1          Pirates of the Caribbean: At World's End      Gore Verbinski   \n",
       "2                                           Spectre          Sam Mendes   \n",
       "3                             The Dark Knight Rises   Christopher Nolan   \n",
       "4  Star Wars: Episode VII - The Force Awakens    ...        Doug Walker   \n",
       "\n",
       "   title_year  \n",
       "0      2009.0  \n",
       "1      2007.0  \n",
       "2      2015.0  \n",
       "3      2012.0  \n",
       "4         NaN  "
      ]
     },
     "execution_count": 3,
     "metadata": {},
     "output_type": "execute_result"
    }
   ],
   "source": [
    "df_csv = pd.read_csv('../../datasets/IMDB_Movie_3columns.csv')\n",
    "df_csv.head()"
   ]
  },
  {
   "cell_type": "markdown",
   "metadata": {},
   "source": [
    "### 2. loading data from excel\n",
    "    - user could choose sheet number incase excel file contain multiple sheet"
   ]
  },
  {
   "cell_type": "code",
   "execution_count": 4,
   "metadata": {
    "scrolled": true
   },
   "outputs": [
    {
     "data": {
      "text/html": [
       "<div>\n",
       "<style scoped>\n",
       "    .dataframe tbody tr th:only-of-type {\n",
       "        vertical-align: middle;\n",
       "    }\n",
       "\n",
       "    .dataframe tbody tr th {\n",
       "        vertical-align: top;\n",
       "    }\n",
       "\n",
       "    .dataframe thead th {\n",
       "        text-align: right;\n",
       "    }\n",
       "</style>\n",
       "<table border=\"1\" class=\"dataframe\">\n",
       "  <thead>\n",
       "    <tr style=\"text-align: right;\">\n",
       "      <th></th>\n",
       "      <th>movie_title</th>\n",
       "      <th>director_name</th>\n",
       "      <th>title_year</th>\n",
       "    </tr>\n",
       "  </thead>\n",
       "  <tbody>\n",
       "    <tr>\n",
       "      <th>0</th>\n",
       "      <td>Avatar</td>\n",
       "      <td>James Cameron</td>\n",
       "      <td>2009</td>\n",
       "    </tr>\n",
       "    <tr>\n",
       "      <th>1</th>\n",
       "      <td>Pirates of the Caribbean: At World's End</td>\n",
       "      <td>Gore Verbinski</td>\n",
       "      <td>2007</td>\n",
       "    </tr>\n",
       "    <tr>\n",
       "      <th>2</th>\n",
       "      <td>Spectre</td>\n",
       "      <td>Sam Mendes</td>\n",
       "      <td>2015</td>\n",
       "    </tr>\n",
       "  </tbody>\n",
       "</table>\n",
       "</div>"
      ],
      "text/plain": [
       "                                 movie_title   director_name  title_year\n",
       "0                                    Avatar    James Cameron        2009\n",
       "1  Pirates of the Caribbean: At World's End   Gore Verbinski        2007\n",
       "2                                   Spectre       Sam Mendes        2015"
      ]
     },
     "execution_count": 4,
     "metadata": {},
     "output_type": "execute_result"
    }
   ],
   "source": [
    "df_excel = pd.read_excel('../../datasets/IMDB_Movie.xlsx', sheet_name=0)\n",
    "df_excel"
   ]
  },
  {
   "cell_type": "markdown",
   "metadata": {},
   "source": [
    "### 3. loading data from json "
   ]
  },
  {
   "cell_type": "code",
   "execution_count": 5,
   "metadata": {},
   "outputs": [
    {
     "data": {
      "text/html": [
       "<div>\n",
       "<style scoped>\n",
       "    .dataframe tbody tr th:only-of-type {\n",
       "        vertical-align: middle;\n",
       "    }\n",
       "\n",
       "    .dataframe tbody tr th {\n",
       "        vertical-align: top;\n",
       "    }\n",
       "\n",
       "    .dataframe thead th {\n",
       "        text-align: right;\n",
       "    }\n",
       "</style>\n",
       "<table border=\"1\" class=\"dataframe\">\n",
       "  <thead>\n",
       "    <tr style=\"text-align: right;\">\n",
       "      <th></th>\n",
       "      <th>movie_title</th>\n",
       "      <th>director_name</th>\n",
       "      <th>title_year</th>\n",
       "    </tr>\n",
       "  </thead>\n",
       "  <tbody>\n",
       "    <tr>\n",
       "      <th>0</th>\n",
       "      <td>Avatar</td>\n",
       "      <td>James Cameron</td>\n",
       "      <td>2009</td>\n",
       "    </tr>\n",
       "    <tr>\n",
       "      <th>1</th>\n",
       "      <td>Pirates of the Caribbean: At World's End</td>\n",
       "      <td>Gore Verbinski</td>\n",
       "      <td>2007</td>\n",
       "    </tr>\n",
       "    <tr>\n",
       "      <th>2</th>\n",
       "      <td>Spectre</td>\n",
       "      <td>Sam Mendes</td>\n",
       "      <td>2015</td>\n",
       "    </tr>\n",
       "  </tbody>\n",
       "</table>\n",
       "</div>"
      ],
      "text/plain": [
       "                                movie_title   director_name  title_year\n",
       "0                                    Avatar   James Cameron        2009\n",
       "1  Pirates of the Caribbean: At World's End  Gore Verbinski        2007\n",
       "2                                   Spectre      Sam Mendes        2015"
      ]
     },
     "execution_count": 5,
     "metadata": {},
     "output_type": "execute_result"
    }
   ],
   "source": [
    "df_json = pd.read_json('../../datasets/IMDB_Movie.json')\n",
    "df_json.head()"
   ]
  },
  {
   "cell_type": "markdown",
   "metadata": {},
   "source": [
    "### 4. loading data from a table on html web page\n",
    "    - note that read_html return a list of data table, so to access one talbe need to have table index"
   ]
  },
  {
   "cell_type": "code",
   "execution_count": 6,
   "metadata": {},
   "outputs": [
    {
     "data": {
      "text/html": [
       "<div>\n",
       "<style scoped>\n",
       "    .dataframe tbody tr th:only-of-type {\n",
       "        vertical-align: middle;\n",
       "    }\n",
       "\n",
       "    .dataframe tbody tr th {\n",
       "        vertical-align: top;\n",
       "    }\n",
       "\n",
       "    .dataframe thead th {\n",
       "        text-align: right;\n",
       "    }\n",
       "</style>\n",
       "<table border=\"1\" class=\"dataframe\">\n",
       "  <thead>\n",
       "    <tr style=\"text-align: right;\">\n",
       "      <th></th>\n",
       "      <th>Unnamed: 0</th>\n",
       "      <th>movie_title</th>\n",
       "      <th>director_name</th>\n",
       "      <th>title_year</th>\n",
       "    </tr>\n",
       "  </thead>\n",
       "  <tbody>\n",
       "    <tr>\n",
       "      <th>0</th>\n",
       "      <td>0</td>\n",
       "      <td>Avatar</td>\n",
       "      <td>James Cameron</td>\n",
       "      <td>2009.0</td>\n",
       "    </tr>\n",
       "    <tr>\n",
       "      <th>1</th>\n",
       "      <td>1</td>\n",
       "      <td>Pirates of the Caribbean: At World's End</td>\n",
       "      <td>Gore Verbinski</td>\n",
       "      <td>2007.0</td>\n",
       "    </tr>\n",
       "    <tr>\n",
       "      <th>2</th>\n",
       "      <td>2</td>\n",
       "      <td>Spectre</td>\n",
       "      <td>Sam Mendes</td>\n",
       "      <td>2015.0</td>\n",
       "    </tr>\n",
       "  </tbody>\n",
       "</table>\n",
       "</div>"
      ],
      "text/plain": [
       "   Unnamed: 0                               movie_title   director_name  \\\n",
       "0           0                                    Avatar   James Cameron   \n",
       "1           1  Pirates of the Caribbean: At World's End  Gore Verbinski   \n",
       "2           2                                   Spectre      Sam Mendes   \n",
       "\n",
       "   title_year  \n",
       "0      2009.0  \n",
       "1      2007.0  \n",
       "2      2015.0  "
      ]
     },
     "execution_count": 6,
     "metadata": {},
     "output_type": "execute_result"
    }
   ],
   "source": [
    "df_html = pd.read_html('../../datasets/IMDB_Movie.html')\n",
    "df_html[0].head()"
   ]
  },
  {
   "cell_type": "markdown",
   "metadata": {},
   "source": [
    "### 5. loading from a python dictionary\n",
    "    - key become columns name\n",
    "    - value become row data"
   ]
  },
  {
   "cell_type": "code",
   "execution_count": 7,
   "metadata": {},
   "outputs": [
    {
     "data": {
      "text/html": [
       "<div>\n",
       "<style scoped>\n",
       "    .dataframe tbody tr th:only-of-type {\n",
       "        vertical-align: middle;\n",
       "    }\n",
       "\n",
       "    .dataframe tbody tr th {\n",
       "        vertical-align: top;\n",
       "    }\n",
       "\n",
       "    .dataframe thead th {\n",
       "        text-align: right;\n",
       "    }\n",
       "</style>\n",
       "<table border=\"1\" class=\"dataframe\">\n",
       "  <thead>\n",
       "    <tr style=\"text-align: right;\">\n",
       "      <th></th>\n",
       "      <th>name</th>\n",
       "      <th>age</th>\n",
       "      <th>city</th>\n",
       "    </tr>\n",
       "  </thead>\n",
       "  <tbody>\n",
       "    <tr>\n",
       "      <th>0</th>\n",
       "      <td>jack</td>\n",
       "      <td>34</td>\n",
       "      <td>Sydney</td>\n",
       "    </tr>\n",
       "    <tr>\n",
       "      <th>1</th>\n",
       "      <td>Riti</td>\n",
       "      <td>30</td>\n",
       "      <td>Delhi</td>\n",
       "    </tr>\n",
       "    <tr>\n",
       "      <th>2</th>\n",
       "      <td>Aadi</td>\n",
       "      <td>16</td>\n",
       "      <td>New york</td>\n",
       "    </tr>\n",
       "  </tbody>\n",
       "</table>\n",
       "</div>"
      ],
      "text/plain": [
       "   name  age      city\n",
       "0  jack   34    Sydney\n",
       "1  Riti   30     Delhi\n",
       "2  Aadi   16  New york"
      ]
     },
     "execution_count": 7,
     "metadata": {},
     "output_type": "execute_result"
    }
   ],
   "source": [
    "studentData = {\n",
    "    'name' : ['jack', 'Riti', 'Aadi'],\n",
    "    'age' : [34, 30, 16],\n",
    "    'city' : ['Sydney', 'Delhi', 'New york']\n",
    "}\n",
    "\n",
    "df_dic = pd.DataFrame(studentData)\n",
    "df_dic"
   ]
  },
  {
   "cell_type": "code",
   "execution_count": 8,
   "metadata": {},
   "outputs": [
    {
     "data": {
      "text/plain": [
       "[Empty DataFrame\n",
       " Columns: [#, Name, Market Cap, Price, Volume (24h), Circulating Supply, Change (24h), Price Graph (7d), Unnamed: 8]\n",
       " Index: [],\n",
       " Empty DataFrame\n",
       " Columns: [#, Name]\n",
       " Index: [],\n",
       "       #           Name        Market Cap      Price     Volume (24h)  \\\n",
       " 0     1        Bitcoin  $126,904,116,812  $6,926.73  $35,940,894,445   \n",
       " 1     2       Ethereum   $17,672,506,396    $159.94  $15,133,524,310   \n",
       " 2     3            XRP    $8,340,256,994  $0.189642   $2,102,208,874   \n",
       " 3     4         Tether    $6,439,215,027      $1.01  $45,224,588,206   \n",
       " 4     5   Bitcoin Cash    $4,299,510,249    $233.94   $3,290,445,777   \n",
       " ..  ...            ...               ...        ...              ...   \n",
       " 95   96  Matic Network       $33,718,677  $0.012224      $15,559,790   \n",
       " 96   97          Ardor       $33,307,945  $0.033341       $1,808,949   \n",
       " 97   98     Blockstack       $32,616,387  $0.091434         $196,522   \n",
       " 98   99            WAX       $32,032,643  $0.028964         $688,260   \n",
       " 99  100      Aeternity       $31,123,924  $0.101354       $5,991,760   \n",
       " \n",
       "        Circulating Supply Change (24h)  Price Graph (7d)  Unnamed: 8  \n",
       " 0          18,320,925 BTC        0.89%               NaN         NaN  \n",
       " 1         110,493,603 ETH        1.01%               NaN         NaN  \n",
       " 2    43,978,966,311 XRP *        0.61%               NaN         NaN  \n",
       " 3    6,361,032,509 USDT *        1.19%               NaN         NaN  \n",
       " 4          18,378,375 BCH        0.98%               NaN         NaN  \n",
       " ..                    ...          ...               ...         ...  \n",
       " 95  2,758,503,686 MATIC *        0.06%               NaN         NaN  \n",
       " 96     998,999,495 ARDR *       -0.09%               NaN         NaN  \n",
       " 97      356,719,546 STX *       -1.05%               NaN         NaN  \n",
       " 98   1,105,933,793 WAXP *       -0.13%               NaN         NaN  \n",
       " 99         307,082,596 AE        0.31%               NaN         NaN  \n",
       " \n",
       " [100 rows x 9 columns]]"
      ]
     },
     "execution_count": 8,
     "metadata": {},
     "output_type": "execute_result"
    }
   ],
   "source": [
    "# loading data from coinmarketcap\n",
    "df_cmc = pd.read_html('http://coinmarketcap.com')\n",
    "df_cmc"
   ]
  },
  {
   "cell_type": "code",
   "execution_count": 9,
   "metadata": {},
   "outputs": [
    {
     "data": {
      "text/plain": [
       "3"
      ]
     },
     "execution_count": 9,
     "metadata": {},
     "output_type": "execute_result"
    }
   ],
   "source": [
    "len(df_cmc)"
   ]
  },
  {
   "cell_type": "code",
   "execution_count": 10,
   "metadata": {},
   "outputs": [
    {
     "data": {
      "text/html": [
       "<div>\n",
       "<style scoped>\n",
       "    .dataframe tbody tr th:only-of-type {\n",
       "        vertical-align: middle;\n",
       "    }\n",
       "\n",
       "    .dataframe tbody tr th {\n",
       "        vertical-align: top;\n",
       "    }\n",
       "\n",
       "    .dataframe thead th {\n",
       "        text-align: right;\n",
       "    }\n",
       "</style>\n",
       "<table border=\"1\" class=\"dataframe\">\n",
       "  <thead>\n",
       "    <tr style=\"text-align: right;\">\n",
       "      <th></th>\n",
       "      <th>Name</th>\n",
       "      <th>Market Cap</th>\n",
       "      <th>Price</th>\n",
       "      <th>Volume (24h)</th>\n",
       "      <th>Circulating Supply</th>\n",
       "      <th>Change (24h)</th>\n",
       "    </tr>\n",
       "  </thead>\n",
       "  <tbody>\n",
       "    <tr>\n",
       "      <th>0</th>\n",
       "      <td>Bitcoin</td>\n",
       "      <td>$126,904,116,812</td>\n",
       "      <td>$6,926.73</td>\n",
       "      <td>$35,940,894,445</td>\n",
       "      <td>18,320,925 BTC</td>\n",
       "      <td>0.89%</td>\n",
       "    </tr>\n",
       "    <tr>\n",
       "      <th>1</th>\n",
       "      <td>Ethereum</td>\n",
       "      <td>$17,672,506,396</td>\n",
       "      <td>$159.94</td>\n",
       "      <td>$15,133,524,310</td>\n",
       "      <td>110,493,603 ETH</td>\n",
       "      <td>1.01%</td>\n",
       "    </tr>\n",
       "    <tr>\n",
       "      <th>2</th>\n",
       "      <td>XRP</td>\n",
       "      <td>$8,340,256,994</td>\n",
       "      <td>$0.189642</td>\n",
       "      <td>$2,102,208,874</td>\n",
       "      <td>43,978,966,311 XRP *</td>\n",
       "      <td>0.61%</td>\n",
       "    </tr>\n",
       "  </tbody>\n",
       "</table>\n",
       "</div>"
      ],
      "text/plain": [
       "       Name        Market Cap      Price     Volume (24h)  \\\n",
       "0   Bitcoin  $126,904,116,812  $6,926.73  $35,940,894,445   \n",
       "1  Ethereum   $17,672,506,396    $159.94  $15,133,524,310   \n",
       "2       XRP    $8,340,256,994  $0.189642   $2,102,208,874   \n",
       "\n",
       "     Circulating Supply Change (24h)  \n",
       "0        18,320,925 BTC        0.89%  \n",
       "1       110,493,603 ETH        1.01%  \n",
       "2  43,978,966,311 XRP *        0.61%  "
      ]
     },
     "execution_count": 10,
     "metadata": {},
     "output_type": "execute_result"
    }
   ],
   "source": [
    "df_cmc_table = df_cmc[2][['Name', 'Market Cap', 'Price', 'Volume (24h)', 'Circulating Supply', 'Change (24h)']]\n",
    "df_cmc_table.head(3)"
   ]
  }
 ],
 "metadata": {
  "kernelspec": {
   "display_name": "Python 3",
   "language": "python",
   "name": "python3"
  },
  "language_info": {
   "codemirror_mode": {
    "name": "ipython",
    "version": 3
   },
   "file_extension": ".py",
   "mimetype": "text/x-python",
   "name": "python",
   "nbconvert_exporter": "python",
   "pygments_lexer": "ipython3",
   "version": "3.8.2"
  }
 },
 "nbformat": 4,
 "nbformat_minor": 2
}
