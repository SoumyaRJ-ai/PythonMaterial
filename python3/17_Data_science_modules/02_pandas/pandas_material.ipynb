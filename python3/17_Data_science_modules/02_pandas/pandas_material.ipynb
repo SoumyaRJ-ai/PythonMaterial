{
 "cells": [
  {
   "cell_type": "markdown",
   "metadata": {},
   "source": [
    "```[pandas] is derived from the term \"panel data\", an econometrics term for data sets that include observations over multiple time periods for the same individuals. — Wikipedia```"
   ]
  },
  {
   "cell_type": "markdown",
   "metadata": {},
   "source": [
    "## What can pandas do ?\n",
    "- Calculate statistics and answer questions about the data, like\n",
    "        - What's the average, median, max, or min of each column?\n",
    "        - Does column A correlate with column B?\n",
    "        - What does the distribution of data in column C look like?\n",
    "- Clean the data by doing things like removing missing values and filtering rows or columns by some criteria\n",
    "- Visualize the data with help from Matplotlib. Plot bars, lines, histograms, bubbles, and more.\n",
    "- Store the cleaned, transformed data back into a CSV, other file or database"
   ]
  },
  {
   "cell_type": "markdown",
   "metadata": {},
   "source": [
    "## How to Install pandas\n",
    "\n",
    "pip install --upgrade pandas"
   ]
  },
  {
   "cell_type": "markdown",
   "metadata": {},
   "source": [
    "## Start working"
   ]
  },
  {
   "cell_type": "code",
   "execution_count": 1,
   "metadata": {},
   "outputs": [],
   "source": [
    "import pandas as pd"
   ]
  },
  {
   "cell_type": "code",
   "execution_count": null,
   "metadata": {},
   "outputs": [],
   "source": []
  }
 ],
 "metadata": {
  "kernelspec": {
   "display_name": "Python 3",
   "language": "python",
   "name": "python3"
  },
  "language_info": {
   "codemirror_mode": {
    "name": "ipython",
    "version": 3
   },
   "file_extension": ".py",
   "mimetype": "text/x-python",
   "name": "python",
   "nbconvert_exporter": "python",
   "pygments_lexer": "ipython3",
   "version": "3.7.4"
  }
 },
 "nbformat": 4,
 "nbformat_minor": 2
}
