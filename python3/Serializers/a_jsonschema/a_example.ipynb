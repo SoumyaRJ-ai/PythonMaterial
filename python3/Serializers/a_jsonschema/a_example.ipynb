{
 "cells": [
  {
   "cell_type": "code",
   "execution_count": 4,
   "metadata": {},
   "outputs": [],
   "source": [
    "import json\n",
    "import jsonschema"
   ]
  },
  {
   "cell_type": "code",
   "execution_count": 5,
   "metadata": {},
   "outputs": [],
   "source": [
    "# Basic data type validation\n",
    "\n",
    "data = \"Hello, world!\"\n",
    "schema = {\"type\": \"string\"}\n",
    "\n",
    "jsonschema.validate(data, schema)"
   ]
  },
  {
   "cell_type": "code",
   "execution_count": 6,
   "metadata": {},
   "outputs": [],
   "source": [
    "# Required field validation\n",
    "\n",
    "data = {\"name\": \"Alice\", \"age\": 30}\n",
    "schema = {\n",
    "    \"type\": \"object\",\n",
    "    \"properties\": {\"name\": {\"type\": \"string\"}, \"age\": {\"type\": \"integer\"}},\n",
    "    \"required\": [\"name\", \"age\"],\n",
    "}\n",
    "\n",
    "jsonschema.validate(data, schema)"
   ]
  },
  {
   "cell_type": "code",
   "execution_count": 7,
   "metadata": {},
   "outputs": [],
   "source": [
    "# Using enum keyword to specify a list of allowed values\n",
    "\n",
    "data = \"green\"\n",
    "schema = {\"type\": \"string\", \"enum\": [\"red\", \"green\", \"blue\"]}\n",
    "\n",
    "jsonschema.validate(data, schema)"
   ]
  },
  {
   "cell_type": "code",
   "execution_count": 8,
   "metadata": {},
   "outputs": [],
   "source": [
    "# Numeric validation\n",
    "\n",
    "data = 42\n",
    "schema = {\"type\": \"number\", \"minimum\": 0, \"maximum\": 100}\n",
    "\n",
    "jsonschema.validate(data, schema)"
   ]
  },
  {
   "cell_type": "code",
   "execution_count": 9,
   "metadata": {},
   "outputs": [],
   "source": [
    "# String length validation:\n",
    "data = \"hello\"\n",
    "schema = {\"type\": \"string\", \"minLength\": 3, \"maxLength\": 10}\n",
    "\n",
    "jsonschema.validate(data, schema)"
   ]
  },
  {
   "cell_type": "code",
   "execution_count": 10,
   "metadata": {},
   "outputs": [],
   "source": [
    "# Array validation\n",
    "data = [1, 2, 3]\n",
    "schema = {\"type\": \"array\", \"items\": {\"type\": \"integer\"}, \"minItems\": 1, \"maxItems\": 5}\n",
    "\n",
    "jsonschema.validate(data, schema)"
   ]
  },
  {
   "cell_type": "code",
   "execution_count": 11,
   "metadata": {},
   "outputs": [],
   "source": [
    "# Object validation with additional properties\n",
    "\n",
    "data = {\"name\": \"Alice\", \"age\": 30, \"gender\": \"female\"}\n",
    "schema = {\n",
    "    \"type\": \"object\",\n",
    "    \"properties\": {\"name\": {\"type\": \"string\"}, \"age\": {\"type\": \"integer\"}},\n",
    "    \"additionalProperties\": {\"type\": \"string\"},\n",
    "}\n",
    "\n",
    "jsonschema.validate(data, schema)"
   ]
  },
  {
   "cell_type": "code",
   "execution_count": 12,
   "metadata": {},
   "outputs": [],
   "source": [
    "# Pattern validation using regular expressions\n",
    "data = \"123-456-7890\"\n",
    "schema = {\"type\": \"string\", \"pattern\": \"^\\\\d{3}-\\\\d{3}-\\\\d{4}$\"}\n",
    "\n",
    "jsonschema.validate(data, schema)"
   ]
  },
  {
   "cell_type": "code",
   "execution_count": 28,
   "metadata": {},
   "outputs": [],
   "source": [
    "# Using patternProperties keyword to specify validation rules for properties whose names match a regular expression\n",
    "data = {\"prop1\": 1, \"prop2\": 2, \"prop3\": 3}\n",
    "schema = {\"type\": \"object\", \"patternProperties\": {\"^prop[1-3]$\": {\"type\": \"integer\"}}}\n",
    "\n",
    "jsonschema.validate(data, schema)"
   ]
  },
  {
   "cell_type": "code",
   "execution_count": 29,
   "metadata": {},
   "outputs": [],
   "source": [
    "# Using propertyNames keyword to specify validation rules for property names\n",
    "data = {\"name\": \"John\", \"age\": 25}\n",
    "schema = {\"type\": \"object\", \"propertyNames\": {\"pattern\": \"^[a-zA-Z_][a-zA-Z0-9_]*$\"}}\n",
    "\n",
    "jsonschema.validate(data, schema)"
   ]
  },
  {
   "cell_type": "code",
   "execution_count": 14,
   "metadata": {},
   "outputs": [],
   "source": [
    "# Conditional validation based on a value of another field\n",
    "data = {\"type\": \"integer\", \"value\": -5}\n",
    "schema = {\n",
    "    \"type\": \"object\",\n",
    "    \"properties\": {\"type\": {\"type\": \"string\"}, \"value\": {\"type\": \"integer\"}},\n",
    "    \"if\": {\"properties\": {\"type\": {\"const\": \"integer\"}}},\n",
    "    \"then\": {\"properties\": {\"value\": {\"minimum\": -10}}},\n",
    "    \"else\": {\"properties\": {\"value\": {\"maximum\": 0}}},\n",
    "}\n",
    "\n",
    "jsonschema.validate(data, schema)"
   ]
  },
  {
   "cell_type": "code",
   "execution_count": 15,
   "metadata": {},
   "outputs": [],
   "source": [
    "# Combining multiple validation rules using allOf\n",
    "data = \"Hello\"\n",
    "schema = {\"allOf\": [{\"type\": \"string\"}, {\"minLength\": 5}, {\"pattern\": \"^[A-Z].*$\"}]}\n",
    "\n",
    "jsonschema.validate(data, schema)"
   ]
  },
  {
   "cell_type": "code",
   "execution_count": 26,
   "metadata": {},
   "outputs": [],
   "source": [
    "data = {\"name\": \"John\", \"age\": 25}\n",
    "schema = {\n",
    "    \"allOf\": [\n",
    "        {\"type\": \"object\", \"properties\": {\"name\": {\"type\": \"string\"}}},\n",
    "        {\"type\": \"object\", \"properties\": {\"age\": {\"type\": \"integer\"}}},\n",
    "    ]\n",
    "}\n",
    "\n",
    "jsonschema.validate(data, schema)"
   ]
  },
  {
   "cell_type": "code",
   "execution_count": 27,
   "metadata": {},
   "outputs": [],
   "source": [
    "data = \"hello\"\n",
    "schema = {\"anyOf\": [{\"type\": \"string\"}, {\"type\": \"integer\"}]}\n",
    "\n",
    "jsonschema.validate(data, schema)"
   ]
  },
  {
   "cell_type": "code",
   "execution_count": 16,
   "metadata": {},
   "outputs": [],
   "source": [
    "# Combining multiple validation rules using anyOf:\n",
    "data = 42\n",
    "schema = {\"anyOf\": [{\"type\": \"integer\"}, {\"type\": \"string\"}]}\n",
    "\n",
    "jsonschema.validate(data, schema)"
   ]
  },
  {
   "cell_type": "code",
   "execution_count": 17,
   "metadata": {},
   "outputs": [],
   "source": [
    "# Combining multiple validation rules using oneOf\n",
    "data = \"Hello, world!\"\n",
    "schema = {\"oneOf\": [{\"type\": \"string\"}, {\"maxLength\": 10}]}\n",
    "\n",
    "jsonschema.validate(data, schema)"
   ]
  },
  {
   "cell_type": "code",
   "execution_count": 25,
   "metadata": {},
   "outputs": [],
   "source": [
    "data = 42\n",
    "schema = {\"oneOf\": [{\"type\": \"string\"}, {\"type\": \"integer\"}]}\n",
    "\n",
    "jsonschema.validate(data, schema)"
   ]
  },
  {
   "cell_type": "code",
   "execution_count": 20,
   "metadata": {},
   "outputs": [],
   "source": [
    "# Using multipleOf keyword to validate numbers that are multiples of a given value\n",
    "data = 25\n",
    "schema = {\"type\": \"number\", \"multipleOf\": 5}\n",
    "\n",
    "jsonschema.validate(data, schema)"
   ]
  },
  {
   "cell_type": "code",
   "execution_count": 21,
   "metadata": {},
   "outputs": [],
   "source": [
    "# Using maxProperties and minProperties keywords to specify the maximum and minimum number of properties in an object:\n",
    "data = {\"property1\": 1, \"property2\": 2, \"property3\": 3}\n",
    "schema = {\"type\": \"object\", \"maxProperties\": 3, \"minProperties\": 1}\n",
    "\n",
    "jsonschema.validate(data, schema)"
   ]
  },
  {
   "cell_type": "code",
   "execution_count": 32,
   "metadata": {},
   "outputs": [],
   "source": [
    "data = {\"prop1\": 1, \"prop2\": 2, \"prop3\": 3, \"prop4\": 4}\n",
    "schema = {\"type\": \"object\", \"minProperties\": 1, \"maxProperties\": 4}\n",
    "\n",
    "jsonschema.validate(data, schema)"
   ]
  },
  {
   "cell_type": "code",
   "execution_count": 22,
   "metadata": {},
   "outputs": [],
   "source": [
    "# Using dependencies keyword to specify dependencies between properties in an object\n",
    "data = {\"property1\": 42}\n",
    "schema = {\n",
    "    \"type\": \"object\",\n",
    "    \"properties\": {\"property1\": {\"type\": \"integer\"}, \"property2\": {\"type\": \"string\"}},\n",
    "    \"dependencies\": {\"property1\": [\"property2\"]},\n",
    "}\n",
    "\n",
    "jsonschema.validate(data, schema)"
   ]
  },
  {
   "cell_type": "code",
   "execution_count": 23,
   "metadata": {},
   "outputs": [],
   "source": [
    "# Using not keyword to specify a validation rule that should not be satisfied\n",
    "data = \"123456\"\n",
    "schema = {\"type\": \"string\", \"not\": {\"pattern\": \"password\"}}\n",
    "\n",
    "jsonschema.validate(data, schema)"
   ]
  },
  {
   "cell_type": "code",
   "execution_count": 24,
   "metadata": {},
   "outputs": [],
   "source": [
    "# Using if, then, and else keywords to specify conditional validation\n",
    "data = {\"type\": \"integer\", \"value\": 10}\n",
    "schema = {\n",
    "    \"type\": \"object\",\n",
    "    \"properties\": {\"type\": {\"type\": \"string\"}, \"value\": {\"type\": \"integer\"}},\n",
    "    \"if\": {\"properties\": {\"type\": {\"const\": \"integer\"}}},\n",
    "    \"then\": {\"properties\": {\"value\": {\"multipleOf\": 2}}},\n",
    "    \"else\": {\"properties\": {\"value\": {\"multipleOf\": 3}}},\n",
    "}\n",
    "\n",
    "jsonschema.validate(data, schema)"
   ]
  },
  {
   "cell_type": "code",
   "execution_count": 18,
   "metadata": {},
   "outputs": [],
   "source": [
    "# Using format keyword to specify custom validation for certain data formats, such as email addresses, URIs, dates, etc\n",
    "data = \"test@example.com\"\n",
    "schema = {\"type\": \"string\", \"format\": \"email\"}\n",
    "\n",
    "jsonschema.validate(data, schema)"
   ]
  },
  {
   "cell_type": "code",
   "execution_count": 19,
   "metadata": {},
   "outputs": [],
   "source": [
    "# Using default keyword to provide default values\n",
    "data = {\"name\": \"John\"}\n",
    "schema = {\n",
    "    \"type\": \"object\",\n",
    "    \"properties\": {\n",
    "        \"name\": {\"type\": \"string\"},\n",
    "        \"age\": {\"type\": \"integer\"},\n",
    "        \"gender\": {\"type\": \"string\", \"enum\": [\"male\", \"female\", \"other\"]},\n",
    "    },\n",
    "    \"required\": [\"name\"],\n",
    "    \"default\": {\"age\": 25, \"gender\": \"other\"},\n",
    "}\n",
    "\n",
    "jsonschema.validate(data, schema)"
   ]
  },
  {
   "cell_type": "code",
   "execution_count": 30,
   "metadata": {},
   "outputs": [],
   "source": [
    "# Using contains keyword to specify that an array must contain at least one item that satisfies the given schema\n",
    "data = [1, 2, \"three\", 4]\n",
    "schema = {\"type\": \"array\", \"contains\": {\"type\": \"integer\"}}\n",
    "\n",
    "jsonschema.validate(data, schema)"
   ]
  },
  {
   "cell_type": "code",
   "execution_count": 34,
   "metadata": {},
   "outputs": [],
   "source": [
    "# Using uniqueItems keyword to specify that all items in an array must be unique\n",
    "data = [1, 2, 3, 4]\n",
    "schema = {\"type\": \"array\", \"uniqueItems\": True}\n",
    "\n",
    "jsonschema.validate(data, schema)"
   ]
  },
  {
   "cell_type": "code",
   "execution_count": 39,
   "metadata": {},
   "outputs": [],
   "source": [
    "# Validating an inner JSON object with string and integer fields\n",
    "inner_json_schema = {\n",
    "    \"type\": \"object\",\n",
    "    \"properties\": {\"field1\": {\"type\": \"string\"}, \"field2\": {\"type\": \"integer\"}},\n",
    "    \"required\": [\"field1\", \"field2\"],\n",
    "}\n",
    "\n",
    "json_data = {\"field1\": \"example\", \"field2\": 123}\n",
    "\n",
    "jsonschema.validate(json_data, inner_json_schema)"
   ]
  },
  {
   "cell_type": "code",
   "execution_count": 40,
   "metadata": {},
   "outputs": [],
   "source": [
    "# Validating an inner JSON object with an array field:\n",
    "inner_json_schema = {\n",
    "    \"type\": \"object\",\n",
    "    \"properties\": {\n",
    "        \"field1\": {\"type\": \"string\"},\n",
    "        \"field2\": {\"type\": \"array\", \"items\": {\"type\": \"integer\"}},\n",
    "    },\n",
    "    \"required\": [\"field1\", \"field2\"],\n",
    "}\n",
    "\n",
    "json_data = {\"field1\": \"example\", \"field2\": [1, 2, 3]}\n",
    "\n",
    "jsonschema.validate(json_data, inner_json_schema)"
   ]
  },
  {
   "cell_type": "code",
   "execution_count": 41,
   "metadata": {},
   "outputs": [],
   "source": [
    "# Validating an inner JSON object with a boolean field\n",
    "inner_json_schema = {\n",
    "    \"type\": \"object\",\n",
    "    \"properties\": {\"field1\": {\"type\": \"string\"}, \"field2\": {\"type\": \"boolean\"}},\n",
    "    \"required\": [\"field1\", \"field2\"],\n",
    "}\n",
    "\n",
    "json_data = {\"field1\": \"example\", \"field2\": True}\n",
    "\n",
    "jsonschema.validate(json_data, inner_json_schema)"
   ]
  },
  {
   "cell_type": "code",
   "execution_count": 42,
   "metadata": {},
   "outputs": [],
   "source": [
    "# Validating an inner JSON object with a nested object\n",
    "inner_json_schema = {\n",
    "    \"type\": \"object\",\n",
    "    \"properties\": {\n",
    "        \"field1\": {\"type\": \"string\"},\n",
    "        \"field2\": {\n",
    "            \"type\": \"object\",\n",
    "            \"properties\": {\n",
    "                \"subfield1\": {\"type\": \"integer\"},\n",
    "                \"subfield2\": {\"type\": \"string\"},\n",
    "            },\n",
    "            \"required\": [\"subfield1\", \"subfield2\"],\n",
    "        },\n",
    "    },\n",
    "    \"required\": [\"field1\", \"field2\"],\n",
    "}\n",
    "\n",
    "json_data = {\n",
    "    \"field1\": \"example\",\n",
    "    \"field2\": {\"subfield1\": 123, \"subfield2\": \"subexample\"},\n",
    "}\n",
    "\n",
    "jsonschema.validate(json_data, inner_json_schema)"
   ]
  },
  {
   "cell_type": "code",
   "execution_count": 43,
   "metadata": {},
   "outputs": [],
   "source": [
    "# Validating an outer JSON object with an array of inner JSON objects\n",
    "inner_json_schema = {\n",
    "    \"type\": \"object\",\n",
    "    \"properties\": {\"field1\": {\"type\": \"string\"}, \"field2\": {\"type\": \"integer\"}},\n",
    "    \"required\": [\"field1\", \"field2\"],\n",
    "}\n",
    "\n",
    "outer_json_schema = {\n",
    "    \"type\": \"object\",\n",
    "    \"properties\": {\"data\": {\"type\": \"array\", \"items\": inner_json_schema}},\n",
    "    \"required\": [\"data\"],\n",
    "}\n",
    "\n",
    "json_data = {\n",
    "    \"data\": [\n",
    "        {\"field1\": \"example1\", \"field2\": 123},\n",
    "        {\"field1\": \"example2\", \"field2\": 456},\n",
    "    ]\n",
    "}\n",
    "\n",
    "jsonschema.validate(json_data, outer_json_schema)"
   ]
  }
 ],
 "metadata": {
  "kernelspec": {
   "display_name": "pythonmaterial-4Fyt9FjG-py3.11",
   "language": "python",
   "name": "python3"
  },
  "language_info": {
   "codemirror_mode": {
    "name": "ipython",
    "version": 3
   },
   "file_extension": ".py",
   "mimetype": "text/x-python",
   "name": "python",
   "nbconvert_exporter": "python",
   "pygments_lexer": "ipython3",
   "version": "3.11.3"
  },
  "orig_nbformat": 4
 },
 "nbformat": 4,
 "nbformat_minor": 2
}
