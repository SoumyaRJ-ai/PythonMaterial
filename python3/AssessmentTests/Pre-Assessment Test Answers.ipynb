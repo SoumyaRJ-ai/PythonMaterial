{
 "cells": [
  {
   "cell_type": "markdown",
   "metadata": {},
   "source": [
    "```\n",
    "Answers:\n",
    "    1. b\n",
    "    2. a\n",
    "    3. b\n",
    "    4. c\n",
    "    5. b\n",
    "    6. b\n",
    "    7. a\n",
    "    8. c\n",
    "    9. c\n",
    "    10. b\n",
    "    11. b\n",
    "    12. a\n",
    "    13. b\n",
    "    14. b\n",
    "    15. a\n",
    "```"
   ]
  }
 ],
 "metadata": {
  "kernelspec": {
   "display_name": "Python 3",
   "language": "python",
   "name": "python3"
  },
  "language_info": {
   "codemirror_mode": {
    "name": "ipython",
    "version": 3
   },
   "file_extension": ".py",
   "mimetype": "text/x-python",
   "name": "python",
   "nbconvert_exporter": "python",
   "pygments_lexer": "ipython3",
   "version": "3.7.4"
  }
 },
 "nbformat": 4,
 "nbformat_minor": 2
}
