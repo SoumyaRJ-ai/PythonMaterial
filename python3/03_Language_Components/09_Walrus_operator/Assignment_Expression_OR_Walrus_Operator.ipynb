{
 "cells": [
  {
   "cell_type": "markdown",
   "metadata": {},
   "source": [
    "### Assignment Expression (OR) Walrus Operator\n",
    "\n",
    "Introducted in python 3.8\n",
    "\n",
    "PEP 572 describes all the details of assignment expressions"
   ]
  },
  {
   "cell_type": "code",
   "execution_count": 1,
   "metadata": {},
   "outputs": [
    {
     "name": "stdout",
     "output_type": "stream",
     "text": [
      "True\n"
     ]
    }
   ],
   "source": [
    "result = True\n",
    "print(result)"
   ]
  },
  {
   "cell_type": "code",
   "execution_count": 2,
   "metadata": {},
   "outputs": [
    {
     "name": "stdout",
     "output_type": "stream",
     "text": [
      "False\n"
     ]
    }
   ],
   "source": [
    "print(result := False)"
   ]
  },
  {
   "cell_type": "code",
   "execution_count": 3,
   "metadata": {},
   "outputs": [
    {
     "name": "stdout",
     "output_type": "stream",
     "text": [
      "Write something: 11\n",
      "Write something: 22\n",
      "Write something: quit\n"
     ]
    }
   ],
   "source": [
    "# without walrus operator\n",
    "\n",
    "inputs = list()\n",
    "while True:\n",
    "    current = input(\"Write something: \")\n",
    "    if current == \"quit\":\n",
    "        break\n",
    "    inputs.append(current)"
   ]
  },
  {
   "cell_type": "code",
   "execution_count": 4,
   "metadata": {},
   "outputs": [
    {
     "name": "stdout",
     "output_type": "stream",
     "text": [
      "Write something: 11\n",
      "Write something: 22\n",
      "Write something: quit\n"
     ]
    }
   ],
   "source": [
    "# with walrus operator\n",
    "\n",
    "inputs = list()\n",
    "while (current := input(\"Write something: \")) != \"quit\":\n",
    "    inputs.append(current)"
   ]
  },
  {
   "cell_type": "code",
   "execution_count": 5,
   "metadata": {},
   "outputs": [
    {
     "name": "stdout",
     "output_type": "stream",
     "text": [
      "List is too long (4 elements, expected <= 3)\n"
     ]
    }
   ],
   "source": [
    "a = [1, 2, 3, 4]\n",
    "if (n := len(a)) > 3:\n",
    "    print(f\"List is too long ({n} elements, expected <= 3)\")"
   ]
  },
  {
   "cell_type": "code",
   "execution_count": 6,
   "metadata": {},
   "outputs": [
    {
     "name": "stdout",
     "output_type": "stream",
     "text": [
      "With Python 3.8 Walrus Operator:\n",
      "Found name: \"rahul\"\n",
      "Found name: \"rohit\"\n",
      "Found name: \"ram\"\n",
      "Found name: \"ravan\"\n",
      "Without Walrus operator:\n",
      "Found name: \"rahul\"\n",
      "Found name: \"rohit\"\n",
      "Found name: \"ram\"\n",
      "Found name: \"ravan\"\n"
     ]
    }
   ],
   "source": [
    "sample_data = [\n",
    "    {\"userId\": 1, \"name\": \"rahul\", \"completed\": False},\n",
    "    {\"userId\": 1, \"name\": \"rohit\", \"completed\": False},\n",
    "    {\"userId\": 1, \"name\": \"ram\", \"completed\": False},\n",
    "    {\"userId\": 1, \"name\": \"ravan\", \"completed\": True},\n",
    "]\n",
    "\n",
    "print(\"With Python 3.8 Walrus Operator:\")\n",
    "for entry in sample_data:\n",
    "    if name := entry.get(\"name\"):\n",
    "        print(f'Found name: \"{name}\"')\n",
    "\n",
    "print(\"Without Walrus operator:\")\n",
    "for entry in sample_data:\n",
    "    name = entry.get(\"name\")\n",
    "    if name:\n",
    "        print(f'Found name: \"{name}\"')"
   ]
  },
  {
   "cell_type": "code",
   "execution_count": 7,
   "metadata": {},
   "outputs": [
    {
     "name": "stdout",
     "output_type": "stream",
     "text": [
      "Total: 150\n"
     ]
    }
   ],
   "source": [
    "total = 0\n",
    "values = [10, 20, 30, 40, 50]\n",
    "partial_sums = [total := total + v for v in values]\n",
    "print(\"Total:\", total)"
   ]
  },
  {
   "cell_type": "code",
   "execution_count": 8,
   "metadata": {},
   "outputs": [
    {
     "name": "stdout",
     "output_type": "stream",
     "text": [
      "0 [5, 9, 12, 14] 14\n"
     ]
    }
   ],
   "source": [
    "# Accumulate Data In-Place\n",
    "\n",
    "data = [5, 4, 3, 2]\n",
    "c = 0\n",
    "print(\n",
    "    c, [(c := c + x) for x in data], c\n",
    ")  # c variable value propagated from enclosed scope"
   ]
  },
  {
   "cell_type": "code",
   "execution_count": 9,
   "metadata": {},
   "outputs": [
    {
     "name": "stdout",
     "output_type": "stream",
     "text": [
      "[5, 9, 12, 14]\n"
     ]
    }
   ],
   "source": [
    "from itertools import accumulate\n",
    "\n",
    "print(list(accumulate(data)))"
   ]
  },
  {
   "cell_type": "code",
   "execution_count": 10,
   "metadata": {},
   "outputs": [
    {
     "name": "stdout",
     "output_type": "stream",
     "text": [
      "[5, 20, 60, 120]\n"
     ]
    }
   ],
   "source": [
    "data = [5, 4, 3, 2]\n",
    "print(list(accumulate(data, lambda a, b: a * b)))  # [5, 20, 60, 120]"
   ]
  },
  {
   "cell_type": "code",
   "execution_count": 11,
   "metadata": {},
   "outputs": [
    {
     "name": "stdout",
     "output_type": "stream",
     "text": [
      "[5, 20, 60, 120]\n"
     ]
    }
   ],
   "source": [
    "a = 1\n",
    "print([(a := a * b) for b in data])  # [5, 20, 60, 120]"
   ]
  },
  {
   "cell_type": "markdown",
   "metadata": {},
   "source": [
    "### Naming Values Inside f-string\n"
   ]
  },
  {
   "cell_type": "code",
   "execution_count": 12,
   "metadata": {},
   "outputs": [
    {
     "name": "stdout",
     "output_type": "stream",
     "text": [
      "Today is: 2022-10-08, which is Saturday\n"
     ]
    }
   ],
   "source": [
    "from datetime import datetime\n",
    "\n",
    "print(f\"Today is: {(today:=datetime.today()):%Y-%m-%d}, which is {today:%A}\")\n",
    "# Today is: 2022-07-01, which is Friday"
   ]
  },
  {
   "cell_type": "code",
   "execution_count": 13,
   "metadata": {},
   "outputs": [
    {
     "data": {
      "text/plain": [
       "datetime.datetime(2022, 10, 8, 17, 10, 2, 566313)"
      ]
     },
     "execution_count": 13,
     "metadata": {},
     "output_type": "execute_result"
    }
   ],
   "source": [
    "today"
   ]
  },
  {
   "cell_type": "code",
   "execution_count": 14,
   "metadata": {},
   "outputs": [
    {
     "name": "stdout",
     "output_type": "stream",
     "text": [
      "angle=60° (theta := radians(angle)) = 1.05, sin(theta) = 0.87, cos(theta) = 0.50\n"
     ]
    }
   ],
   "source": [
    "from math import radians, sin, cos\n",
    "\n",
    "angle = 60\n",
    "print(\n",
    "    f\"{angle=}\\N{degree sign} {(theta := radians(angle)) =: .2f}, {sin(theta) =: .2f}, {cos(theta) =: .2f}\"\n",
    ")\n",
    "# angle=60° (theta := radians(angle)) = 1.05, sin(theta) = 0.87, cos(theta) = 0.50"
   ]
  },
  {
   "cell_type": "code",
   "execution_count": 15,
   "metadata": {},
   "outputs": [
    {
     "data": {
      "text/plain": [
       "60"
      ]
     },
     "execution_count": 15,
     "metadata": {},
     "output_type": "execute_result"
    }
   ],
   "source": [
    "angle"
   ]
  },
  {
   "cell_type": "markdown",
   "metadata": {},
   "source": [
    "### Any and All"
   ]
  },
  {
   "cell_type": "code",
   "execution_count": 16,
   "metadata": {},
   "outputs": [
    {
     "name": "stdout",
     "output_type": "stream",
     "text": [
      "True\n",
      "False\n",
      "12\n",
      "12\n"
     ]
    }
   ],
   "source": [
    "numbers = [1, 4, 6, 2, 12, 4, 15]\n",
    "\n",
    "# Only returns boolean, not the values\n",
    "print(any(number > 10 for number in numbers))  # True\n",
    "print(all(number < 10 for number in numbers))  # False\n",
    "\n",
    "# ---------------------\n",
    "any((value := number) > 10 for number in numbers)  # True\n",
    "print(value)  # 12\n",
    "\n",
    "all((counter_example := number) < 10 for number in numbers)  # False\n",
    "print(counter_example)  # 12"
   ]
  },
  {
   "cell_type": "code",
   "execution_count": 17,
   "metadata": {},
   "outputs": [
    {
     "name": "stdout",
     "output_type": "stream",
     "text": [
      "without walrus [2, 4, 8]\n",
      "with    walrus [2, 4, 8]\n"
     ]
    }
   ],
   "source": [
    "# Reuse a value that's expensive to compute\n",
    "def func(n):\n",
    "    return n + 1\n",
    "\n",
    "\n",
    "# \"func\" called 3 times\n",
    "x = 1\n",
    "print(\"without walrus\", [func(x), func(x) ** 2, func(x) ** 3])\n",
    "print(\"with    walrus\", [y := func(x), y**2, y**3])"
   ]
  },
  {
   "cell_type": "markdown",
   "metadata": {},
   "source": [
    "### In Comprehensions"
   ]
  },
  {
   "cell_type": "code",
   "execution_count": 18,
   "metadata": {},
   "outputs": [
    {
     "name": "stdout",
     "output_type": "stream",
     "text": [
      "[6, 5, 4, 3]\n",
      "[6, 5, 4, 3]\n"
     ]
    }
   ],
   "source": [
    "print([func(x) for x in data if func(x)])\n",
    "\n",
    "print([y for x in data if (y := func(x))])"
   ]
  },
  {
   "cell_type": "code",
   "execution_count": 19,
   "metadata": {},
   "outputs": [
    {
     "data": {
      "text/plain": [
       "3"
      ]
     },
     "execution_count": 19,
     "metadata": {},
     "output_type": "execute_result"
    }
   ],
   "source": [
    "y"
   ]
  },
  {
   "cell_type": "code",
   "execution_count": 20,
   "metadata": {},
   "outputs": [
    {
     "data": {
      "text/plain": [
       "[6, 5, 4, 3]"
      ]
     },
     "execution_count": 20,
     "metadata": {},
     "output_type": "execute_result"
    }
   ],
   "source": [
    "# Share a subexpression between a comprehension filter clause and its output\n",
    "filtered_data = [y for x in data if (y := func(x)) is not None]\n",
    "filtered_data"
   ]
  },
  {
   "cell_type": "markdown",
   "metadata": {},
   "source": [
    "### usage in conditons"
   ]
  },
  {
   "cell_type": "code",
   "execution_count": 21,
   "metadata": {},
   "outputs": [
    {
     "name": "stdout",
     "output_type": "stream",
     "text": [
      "Matched the 1st pattern: thing\n",
      "Matched 1st pattern: 'thing'\n"
     ]
    }
   ],
   "source": [
    "import re\n",
    "\n",
    "test = \"Something to match\"\n",
    "\n",
    "pattern1 = r\"^.*(thing).*\"\n",
    "pattern2 = r\"^.*(not present).*\"\n",
    "\n",
    "m = re.match(pattern1, test)\n",
    "if m:\n",
    "    print(f\"Matched the 1st pattern: {m.group(1)}\")\n",
    "else:\n",
    "    m = re.match(pattern2, test)\n",
    "    if m:\n",
    "        print(f\"Matched the 2nd pattern: {m.group(1)}\")\n",
    "\n",
    "# ---------------------\n",
    "# Cleaner\n",
    "if m := (re.match(pattern1, test)):\n",
    "    print(f\"Matched 1st pattern: '{m.group(1)}'\")\n",
    "elif m := (re.match(pattern2, test)):\n",
    "    print(f\"Matched 2nd pattern: '{m.group(1)}'\")"
   ]
  },
  {
   "cell_type": "markdown",
   "metadata": {},
   "source": [
    "### Usage in Loops"
   ]
  },
  {
   "cell_type": "code",
   "execution_count": 22,
   "metadata": {},
   "outputs": [
    {
     "name": "stdout",
     "output_type": "stream",
     "text": [
      "> 1\n",
      "Your command was: 1\n",
      "> exit\n",
      "> 2\n",
      "Your command was: 2\n",
      "> exit\n"
     ]
    }
   ],
   "source": [
    "while True:  # Loop\n",
    "    command = input(\"> \")\n",
    "    if command == \"exit\":  # And a half\n",
    "        break\n",
    "    print(\"Your command was:\", command)\n",
    "\n",
    "# ---------------------\n",
    "# Cleaner\n",
    "while (command := input(\"> \")) != \"exit\":\n",
    "    print(\"Your command was:\", command)"
   ]
  },
  {
   "cell_type": "markdown",
   "metadata": {},
   "source": [
    "```\n",
    "# A loop that can't be trivially rewritten using 2-arg iter()\n",
    "while chunk := file.read(8192):\n",
    "   process(chunk)\n",
    "\n",
    "# Handle a matched regex\n",
    "if (match := pattern.search(data)) is not None:\n",
    "    # Do something with match\n",
    "\n",
    "```"
   ]
  },
  {
   "cell_type": "markdown",
   "metadata": {},
   "source": [
    "### Usage \"with\" context manager"
   ]
  },
  {
   "cell_type": "code",
   "execution_count": 23,
   "metadata": {},
   "outputs": [
    {
     "name": "stdout",
     "output_type": "stream",
     "text": [
      "Entering the context...\n",
      "\t None\n",
      "Leaving the context...\n",
      "\n",
      "Entering the context...\n",
      "\t <__main__.ContextManager object at 0x000001C056D3F0D0>\n",
      "Leaving the context...\n"
     ]
    }
   ],
   "source": [
    "class ContextManager:\n",
    "    def __enter__(self):\n",
    "        print(\"Entering the context...\")\n",
    "\n",
    "    def __exit__(self, exc_type, exc_val, exc_tb):\n",
    "        print(\"Leaving the context...\")\n",
    "\n",
    "\n",
    "with ContextManager() as context:\n",
    "    print(\"\\t\", context)  # None\n",
    "\n",
    "print()\n",
    "\n",
    "with (context := ContextManager()):\n",
    "    print(\"\\t\", context)  # <__main__.ContextManager object at 0x7fb551cdb9d0>"
   ]
  },
  {
   "cell_type": "markdown",
   "metadata": {},
   "source": [
    "#### Where not to use walrus operator\n",
    "\n",
    "    y := f(x)  # INVALID\n",
    "    (y := f(x))  # Valid, though not recommended\n",
    "\n",
    "    y0 = y1 := f(x)  # INVALID\n",
    "    y0 = (y1 := f(x))  # Valid, though discouraged\n",
    "\n",
    "\n",
    "    foo(x = y := f(x))  # INVALID\n",
    "    foo(x=(y := f(x)))  # Valid, though probably confusing"
   ]
  },
  {
   "cell_type": "markdown",
   "metadata": {},
   "source": [
    "```\n",
    "from typing import Optional\n",
    "\n",
    "value: Optional[int] = None\n",
    "while value := some_func():\n",
    "    ...  # Do stuff\n",
    "```"
   ]
  },
  {
   "cell_type": "markdown",
   "metadata": {},
   "source": [
    "   #### Reference:\n",
    "        1. https://www.python.org/dev/peps/pep-0572/#syntax-and-semantics\n",
    "        2. https://martinheinz.dev/blog/79"
   ]
  }
 ],
 "metadata": {
  "kernelspec": {
   "display_name": "Python 3 (ipykernel)",
   "language": "python",
   "name": "python3"
  },
  "language_info": {
   "codemirror_mode": {
    "name": "ipython",
    "version": 3
   },
   "file_extension": ".py",
   "mimetype": "text/x-python",
   "name": "python",
   "nbconvert_exporter": "python",
   "pygments_lexer": "ipython3",
   "version": "3.10.5"
  },
  "vscode": {
   "interpreter": {
    "hash": "313db34dc9a21dadd24337e76e7fa74e480a55b6f90eca384c4826ac813d5931"
   }
  }
 },
 "nbformat": 4,
 "nbformat_minor": 4
}
