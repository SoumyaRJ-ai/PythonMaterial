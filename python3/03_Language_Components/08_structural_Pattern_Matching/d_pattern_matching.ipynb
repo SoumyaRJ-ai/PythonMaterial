{
 "cells": [
  {
   "cell_type": "code",
   "execution_count": 1,
   "metadata": {},
   "outputs": [],
   "source": [
    "def literal_pattern(p):\n",
    "    match p:\n",
    "        case 1:\n",
    "            print(\"You said the number 1\")\n",
    "        case 42:\n",
    "            print(\"You said the number 42\")\n",
    "        case \"Hello\":\n",
    "            print(\"You said Hello\")\n",
    "        case True:\n",
    "            print(\"You said True\")\n",
    "        case 3.14:\n",
    "            print(\"You said Pi\")\n",
    "        case _:\n",
    "            print(\"You said something else\")"
   ]
  },
  {
   "cell_type": "code",
   "execution_count": 2,
   "metadata": {},
   "outputs": [
    {
     "name": "stdout",
     "output_type": "stream",
     "text": [
      "http_error(400) ='Bad request'\n",
      "http_error(404) ='Not found'\n",
      "http_error(300) =\"Something's wrong with the internet\"\n"
     ]
    }
   ],
   "source": [
    "def http_error(status):\n",
    "    match status:\n",
    "        case 400:\n",
    "            return \"Bad request\"\n",
    "        case 404:\n",
    "            return \"Not found\"\n",
    "        case 418:\n",
    "            return \"I'm a teapot\"\n",
    "        case _:\n",
    "            return \"Something's wrong with the internet\"\n",
    "\n",
    "\n",
    "print(f\"{http_error(400) =}\")\n",
    "print(f\"{http_error(404) =}\")\n",
    "print(f\"{http_error(300) =}\")"
   ]
  },
  {
   "cell_type": "code",
   "execution_count": 3,
   "metadata": {},
   "outputs": [
    {
     "name": "stdout",
     "output_type": "stream",
     "text": [
      "http_error(400) =\"Something's wrong with the internet\"\n",
      "http_error(404) ='Should not Allow'\n",
      "http_error(300) =\"Something's wrong with the internet\"\n"
     ]
    }
   ],
   "source": [
    "def http_error(status):\n",
    "    match status:\n",
    "        case 401 | 403:\n",
    "            return \"Not allowed\"\n",
    "        case 404 | 405:\n",
    "            return \"Should not Allow\"\n",
    "        case _:\n",
    "            return \"Something's wrong with the internet\"\n",
    "\n",
    "\n",
    "print(f\"{http_error(400) =}\")\n",
    "print(f\"{http_error(404) =}\")\n",
    "print(f\"{http_error(300) =}\")"
   ]
  },
  {
   "cell_type": "code",
   "execution_count": 4,
   "metadata": {},
   "outputs": [],
   "source": [
    "def as_pattern(p):\n",
    "    match p:\n",
    "        case int() as number:\n",
    "            print(f\"You said a {number=}\")\n",
    "        case str() as string:\n",
    "            print(f\"Here is your {string=}\")"
   ]
  },
  {
   "cell_type": "code",
   "execution_count": 5,
   "metadata": {},
   "outputs": [
    {
     "name": "stdout",
     "output_type": "stream",
     "text": [
      "Here is your string='Inspired Python'\n"
     ]
    }
   ],
   "source": [
    "as_pattern(\"Inspired Python\")"
   ]
  },
  {
   "cell_type": "code",
   "execution_count": 6,
   "metadata": {},
   "outputs": [
    {
     "name": "stdout",
     "output_type": "stream",
     "text": [
      "You said a number=42\n"
     ]
    }
   ],
   "source": [
    "as_pattern(42)"
   ]
  },
  {
   "cell_type": "code",
   "execution_count": 7,
   "metadata": {},
   "outputs": [
    {
     "name": "stdout",
     "output_type": "stream",
     "text": [
      "X=1, Y=2\n"
     ]
    }
   ],
   "source": [
    "# Patterns with a literal and variable\n",
    "point = (1, 0)\n",
    "point = (1, 2)\n",
    "\n",
    "match point:\n",
    "    case (0, 0):\n",
    "        print(\"Origin\")\n",
    "    case (0, y):\n",
    "        print(f\"Y={y}\")\n",
    "    case (x, 0):\n",
    "        print(f\"X={x}\")\n",
    "    case (x, y):\n",
    "        print(f\"X={x}, Y={y}\")\n",
    "    case _:\n",
    "        raise ValueError(\"Not a point\")"
   ]
  },
  {
   "cell_type": "code",
   "execution_count": 10,
   "metadata": {},
   "outputs": [],
   "source": [
    "# Patterns and classes\n",
    "class Point:\n",
    "    def __init__(self, x, y) -> None:\n",
    "        self.x = x\n",
    "        self.y = y\n",
    "\n",
    "\n",
    "def location(point):\n",
    "    match point:\n",
    "        case Point(x=0, y=0):\n",
    "            print(\"Origin is the point's location.\")\n",
    "        case Point(x=0, y=y):\n",
    "            print(f\"Y={y} and the point is on the y-axis.\")\n",
    "        case Point(x=x, y=0):\n",
    "            print(f\"X={x} and the point is on the x-axis.\")\n",
    "        case Point():\n",
    "            print(\"The point is located somewhere else on the plane.\")\n",
    "        case _:\n",
    "            print(\"Not a point\")"
   ]
  },
  {
   "cell_type": "code",
   "execution_count": 11,
   "metadata": {},
   "outputs": [
    {
     "name": "stdout",
     "output_type": "stream",
     "text": [
      "Something else is found in the list.\n"
     ]
    }
   ],
   "source": [
    "# Patterns with positional parameters\n",
    "var = 0\n",
    "Point(1, var)\n",
    "Point(1, y=var)\n",
    "Point(x=1, y=var)\n",
    "points = Point(y=var, x=1)\n",
    "\n",
    "\n",
    "# Nested patterns\n",
    "match points:\n",
    "    case []:\n",
    "        print(\"No points in the list.\")\n",
    "    case [Point(0, 0)]:\n",
    "        print(\"The origin is the only point in the list.\")\n",
    "    case [Point(x, y)]:\n",
    "        print(f\"A single point {x}, {y} is in the list.\")\n",
    "    case [Point(0, y1), Point(0, y2)]:\n",
    "        print(f\"Two points on the Y axis at {y1}, {y2} are in the list.\")\n",
    "    case _:\n",
    "        print(\"Something else is found in the list.\")\n",
    "\n",
    "# Guard - if clause to a pattern, known as a “guard”\n",
    "match point:\n",
    "    case Point(x, y) if x == y:\n",
    "        print(f\"The point is located on the diagonal Y=X at {x}.\")\n",
    "    case Point(x, y):\n",
    "        print(f\"Point is not on the diagonal.\")"
   ]
  },
  {
   "cell_type": "code",
   "execution_count": 12,
   "metadata": {},
   "outputs": [
    {
     "ename": "TypeError",
     "evalue": "EnumType.__call__() missing 1 required positional argument: 'value'",
     "output_type": "error",
     "traceback": [
      "\u001b[1;31m---------------------------------------------------------------------------\u001b[0m",
      "\u001b[1;31mTypeError\u001b[0m                                 Traceback (most recent call last)",
      "Cell \u001b[1;32mIn[12], line 11\u001b[0m\n\u001b[0;32m      7\u001b[0m     GREEN \u001b[39m=\u001b[39m \u001b[39m1\u001b[39m\n\u001b[0;32m      8\u001b[0m     BLUE \u001b[39m=\u001b[39m \u001b[39m2\u001b[39m\n\u001b[1;32m---> 11\u001b[0m color \u001b[39m=\u001b[39m Color()\n\u001b[0;32m     12\u001b[0m \u001b[39mmatch\u001b[39;00m color:\n\u001b[0;32m     13\u001b[0m     \u001b[39mcase\u001b[39;00m Color\u001b[39m.\u001b[39mRED:\n",
      "\u001b[1;31mTypeError\u001b[0m: EnumType.__call__() missing 1 required positional argument: 'value'"
     ]
    }
   ],
   "source": [
    "# With Named Constants, using Enums\n",
    "\n",
    "from enum import Enum\n",
    "\n",
    "\n",
    "class Color(Enum):\n",
    "    RED = 0\n",
    "    GREEN = 1\n",
    "    BLUE = 2\n",
    "\n",
    "\n",
    "color = Color()\n",
    "match color:\n",
    "    case Color.RED:\n",
    "        print(\"I see red!\")\n",
    "    case Color.GREEN:\n",
    "        print(\"Grass is green\")\n",
    "    case Color.BLUE:\n",
    "        print(\"I'm feeling the blues :(\")"
   ]
  },
  {
   "cell_type": "code",
   "execution_count": null,
   "metadata": {},
   "outputs": [],
   "source": []
  }
 ],
 "metadata": {
  "kernelspec": {
   "display_name": "pythonmaterial-4Fyt9FjG-py3.11",
   "language": "python",
   "name": "python3"
  },
  "language_info": {
   "codemirror_mode": {
    "name": "ipython",
    "version": 3
   },
   "file_extension": ".py",
   "mimetype": "text/x-python",
   "name": "python",
   "nbconvert_exporter": "python",
   "pygments_lexer": "ipython3",
   "version": "3.11.2"
  },
  "orig_nbformat": 4,
  "vscode": {
   "interpreter": {
    "hash": "d41ca55ab43b6c8712a0a50ace8b798dc0be2fafae45df6810e0e4e55ab49b9b"
   }
  }
 },
 "nbformat": 4,
 "nbformat_minor": 2
}
