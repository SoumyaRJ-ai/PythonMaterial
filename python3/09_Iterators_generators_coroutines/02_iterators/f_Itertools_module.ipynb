{
 "cells": [
  {
   "cell_type": "code",
   "execution_count": 1,
   "metadata": {},
   "outputs": [],
   "source": [
    "import itertools\n",
    "import string\n",
    "import random\n",
    "import operator"
   ]
  },
  {
   "cell_type": "code",
   "execution_count": 2,
   "metadata": {},
   "outputs": [
    {
     "name": "stdout",
     "output_type": "stream",
     "text": [
      "Functional tools for creating and using iterators.\n",
      "\n",
      "Infinite iterators:\n",
      "count(start=0, step=1) --> start, start+step, start+2*step, ...\n",
      "cycle(p) --> p0, p1, ... plast, p0, p1, ...\n",
      "repeat(elem [,n]) --> elem, elem, elem, ... endlessly or up to n times\n",
      "\n",
      "Iterators terminating on the shortest input sequence:\n",
      "accumulate(p[, func]) --> p0, p0+p1, p0+p1+p2\n",
      "chain(p, q, ...) --> p0, p1, ... plast, q0, q1, ...\n",
      "chain.from_iterable([p, q, ...]) --> p0, p1, ... plast, q0, q1, ...\n",
      "compress(data, selectors) --> (d[0] if s[0]), (d[1] if s[1]), ...\n",
      "dropwhile(pred, seq) --> seq[n], seq[n+1], starting when pred fails\n",
      "groupby(iterable[, keyfunc]) --> sub-iterators grouped by value of keyfunc(v)\n",
      "filterfalse(pred, seq) --> elements of seq where pred(elem) is False\n",
      "islice(seq, [start,] stop [, step]) --> elements from\n",
      "       seq[start:stop:step]\n",
      "starmap(fun, seq) --> fun(*seq[0]), fun(*seq[1]), ...\n",
      "tee(it, n=2) --> (it1, it2 , ... itn) splits one iterator into n\n",
      "takewhile(pred, seq) --> seq[0], seq[1], until pred fails\n",
      "zip_longest(p, q, ...) --> (p[0], q[0]), (p[1], q[1]), ...\n",
      "\n",
      "Combinatoric generators:\n",
      "product(p, q, ... [repeat=1]) --> cartesian product\n",
      "permutations(p[, r])\n",
      "combinations(p, r)\n",
      "combinations_with_replacement(p, r)\n",
      "\n"
     ]
    }
   ],
   "source": [
    "print(itertools.__doc__)"
   ]
  },
  {
   "cell_type": "code",
   "execution_count": 3,
   "metadata": {},
   "outputs": [
    {
     "name": "stdout",
     "output_type": "stream",
     "text": [
      "['__doc__', '__loader__', '__name__', '__package__', '__spec__', '_grouper', '_tee', '_tee_dataobject', 'accumulate', 'chain', 'combinations', 'combinations_with_replacement', 'compress', 'count', 'cycle', 'dropwhile', 'filterfalse', 'groupby', 'islice', 'permutations', 'product', 'repeat', 'starmap', 'takewhile', 'tee', 'zip_longest']\n"
     ]
    }
   ],
   "source": [
    "print(dir(itertools))"
   ]
  },
  {
   "cell_type": "markdown",
   "metadata": {},
   "source": [
    "## Itertools.accumulate\n",
    "    - Helps in  performing mathematical operations ( cummulative sum) with a sequence and return the results.\n"
   ]
  },
  {
   "cell_type": "code",
   "execution_count": 4,
   "metadata": {},
   "outputs": [
    {
     "name": "stdout",
     "output_type": "stream",
     "text": [
      "0 1 3 6 10 15 21 28 36 45 "
     ]
    }
   ],
   "source": [
    "for item in itertools.accumulate(range(10)):\n",
    "    print(item, end =' ')"
   ]
  },
  {
   "cell_type": "code",
   "execution_count": 5,
   "metadata": {},
   "outputs": [
    {
     "name": "stdout",
     "output_type": "stream",
     "text": [
      "0 1 3 6 10 15 21 28 36 45 "
     ]
    }
   ],
   "source": [
    "for item in itertools.accumulate(range(10), operator.add):\n",
    "    print(item, end =' ')"
   ]
  },
  {
   "cell_type": "code",
   "execution_count": 6,
   "metadata": {},
   "outputs": [
    {
     "name": "stdout",
     "output_type": "stream",
     "text": [
      "0 0 0 0 0 0 0 0 0 0 "
     ]
    }
   ],
   "source": [
    "for item in itertools.accumulate(range(10), operator.mul):\n",
    "    print(item, end =' ')"
   ]
  },
  {
   "cell_type": "code",
   "execution_count": 7,
   "metadata": {},
   "outputs": [
    {
     "name": "stdout",
     "output_type": "stream",
     "text": [
      "1 2 6 24 120 720 5040 40320 362880 "
     ]
    }
   ],
   "source": [
    "for item in itertools.accumulate(range(1, 10), operator.mul):\n",
    "    print(item, end =' ')"
   ]
  },
  {
   "cell_type": "markdown",
   "metadata": {},
   "source": [
    "## Itertools.combinations\n",
    "    - If items in sequence are sorted, than combination will be sorted as well.\n",
    "    - If items in sequence are unique, than combination data will not contain any duplicate combination."
   ]
  },
  {
   "cell_type": "code",
   "execution_count": 8,
   "metadata": {},
   "outputs": [
    {
     "data": {
      "text/plain": [
       "[]"
      ]
     },
     "execution_count": 8,
     "metadata": {},
     "output_type": "execute_result"
    }
   ],
   "source": [
    "list(itertools.combinations('A', 2))"
   ]
  },
  {
   "cell_type": "code",
   "execution_count": 9,
   "metadata": {},
   "outputs": [
    {
     "data": {
      "text/plain": [
       "[('A', 'B')]"
      ]
     },
     "execution_count": 9,
     "metadata": {},
     "output_type": "execute_result"
    }
   ],
   "source": [
    "list(itertools.combinations('AB', 2))"
   ]
  },
  {
   "cell_type": "code",
   "execution_count": 10,
   "metadata": {},
   "outputs": [
    {
     "data": {
      "text/plain": [
       "[('A', 'B'), ('A', 'C'), ('B', 'C')]"
      ]
     },
     "execution_count": 10,
     "metadata": {},
     "output_type": "execute_result"
    }
   ],
   "source": [
    "list(itertools.combinations('ABC', 2))"
   ]
  },
  {
   "cell_type": "code",
   "execution_count": 11,
   "metadata": {},
   "outputs": [
    {
     "data": {
      "text/plain": [
       "[('A', 'B', 'C')]"
      ]
     },
     "execution_count": 11,
     "metadata": {},
     "output_type": "execute_result"
    }
   ],
   "source": [
    "list(itertools.combinations('ABC', 3))"
   ]
  },
  {
   "cell_type": "code",
   "execution_count": 12,
   "metadata": {},
   "outputs": [
    {
     "data": {
      "text/plain": [
       "[('A', 'B'), ('A', 'C'), ('A', 'B'), ('B', 'C'), ('B', 'B'), ('C', 'B')]"
      ]
     },
     "execution_count": 12,
     "metadata": {},
     "output_type": "execute_result"
    }
   ],
   "source": [
    "list(itertools.combinations('ABCB', 2))  # duplicates"
   ]
  },
  {
   "cell_type": "code",
   "execution_count": 13,
   "metadata": {},
   "outputs": [
    {
     "data": {
      "text/plain": [
       "[('A',), ('B',), ('C',), ('D',), ('D',), ('C',), ('B',)]"
      ]
     },
     "execution_count": 13,
     "metadata": {},
     "output_type": "execute_result"
    }
   ],
   "source": [
    "list(itertools.combinations('ABCDDCB', 1))"
   ]
  },
  {
   "cell_type": "code",
   "execution_count": 14,
   "metadata": {},
   "outputs": [
    {
     "data": {
      "text/plain": [
       "[()]"
      ]
     },
     "execution_count": 14,
     "metadata": {},
     "output_type": "execute_result"
    }
   ],
   "source": [
    "list(itertools.combinations('ABCDDCB', 0))"
   ]
  },
  {
   "cell_type": "code",
   "execution_count": 15,
   "metadata": {},
   "outputs": [
    {
     "data": {
      "text/plain": [
       "['aei', 'aeo', 'aeu', 'aio', 'aiu', 'aou', 'eio', 'eiu', 'eou', 'iou']"
      ]
     },
     "execution_count": 15,
     "metadata": {},
     "output_type": "execute_result"
    }
   ],
   "source": [
    "# Creating three letter words from english vowels\n",
    "[ ''.join(each) for each in itertools.combinations('aeiou', 3)]"
   ]
  },
  {
   "cell_type": "markdown",
   "metadata": {},
   "source": [
    "## Itertools.combinations_with_replacement"
   ]
  },
  {
   "cell_type": "code",
   "execution_count": 16,
   "metadata": {},
   "outputs": [
    {
     "data": {
      "text/plain": [
       "[]"
      ]
     },
     "execution_count": 16,
     "metadata": {},
     "output_type": "execute_result"
    }
   ],
   "source": [
    "list(itertools.combinations('A', 2))"
   ]
  },
  {
   "cell_type": "code",
   "execution_count": 17,
   "metadata": {},
   "outputs": [
    {
     "data": {
      "text/plain": [
       "[('A', 'A')]"
      ]
     },
     "execution_count": 17,
     "metadata": {},
     "output_type": "execute_result"
    }
   ],
   "source": [
    "list(itertools.combinations_with_replacement('A', 2))"
   ]
  },
  {
   "cell_type": "code",
   "execution_count": 18,
   "metadata": {},
   "outputs": [
    {
     "data": {
      "text/plain": [
       "[('A', 'B')]"
      ]
     },
     "execution_count": 18,
     "metadata": {},
     "output_type": "execute_result"
    }
   ],
   "source": [
    "list(itertools.combinations('AB', 2))"
   ]
  },
  {
   "cell_type": "code",
   "execution_count": 19,
   "metadata": {},
   "outputs": [
    {
     "data": {
      "text/plain": [
       "[('A', 'A'), ('A', 'B'), ('B', 'B')]"
      ]
     },
     "execution_count": 19,
     "metadata": {},
     "output_type": "execute_result"
    }
   ],
   "source": [
    "list(itertools.combinations_with_replacement('AB', 2))"
   ]
  },
  {
   "cell_type": "code",
   "execution_count": 20,
   "metadata": {},
   "outputs": [
    {
     "data": {
      "text/plain": [
       "[('A', 'A'), ('A', 'A'), ('A', 'A')]"
      ]
     },
     "execution_count": 20,
     "metadata": {},
     "output_type": "execute_result"
    }
   ],
   "source": [
    "list(itertools.combinations('AAA', 2))  # Duplicates in data will result in duplicates in combinations"
   ]
  },
  {
   "cell_type": "code",
   "execution_count": 21,
   "metadata": {},
   "outputs": [
    {
     "data": {
      "text/plain": [
       "[('A', 'A'), ('A', 'A'), ('A', 'A'), ('A', 'A'), ('A', 'A'), ('A', 'A')]"
      ]
     },
     "execution_count": 21,
     "metadata": {},
     "output_type": "execute_result"
    }
   ],
   "source": [
    "list(itertools.combinations_with_replacement('AAA', 2))"
   ]
  },
  {
   "cell_type": "code",
   "execution_count": 22,
   "metadata": {},
   "outputs": [
    {
     "name": "stdout",
     "output_type": "stream",
     "text": [
      "['aaa', 'aae', 'aai', 'aao', 'aau', 'aee', 'aei', 'aeo', 'aeu', 'aii', 'aio', 'aiu', 'aoo', 'aou', 'auu', 'eee', 'eei', 'eeo', 'eeu', 'eii', 'eio', 'eiu', 'eoo', 'eou', 'euu', 'iii', 'iio', 'iiu', 'ioo', 'iou', 'iuu', 'ooo', 'oou', 'ouu', 'uuu']\n"
     ]
    }
   ],
   "source": [
    "# Creating three letter words from english vowels\n",
    "print([ ''.join(each) for each in itertools.combinations_with_replacement('aeiou', 3)])"
   ]
  },
  {
   "cell_type": "markdown",
   "metadata": {},
   "source": [
    "## Itertools.compress\n",
    "- It can help to get multiple selected elements, with their indices, at once"
   ]
  },
  {
   "cell_type": "code",
   "execution_count": 23,
   "metadata": {},
   "outputs": [
    {
     "data": {
      "text/plain": [
       "['a', 'd', 'e']"
      ]
     },
     "execution_count": 23,
     "metadata": {},
     "output_type": "execute_result"
    }
   ],
   "source": [
    "list(itertools.compress(['a', 'b', 'c', 'd', 'e', 'f'], [True, False, False, True, True, False]))"
   ]
  },
  {
   "cell_type": "code",
   "execution_count": 24,
   "metadata": {},
   "outputs": [
    {
     "data": {
      "text/plain": [
       "['b', 'c', 'd', 'e', 'f']"
      ]
     },
     "execution_count": 24,
     "metadata": {},
     "output_type": "execute_result"
    }
   ],
   "source": [
    "list(itertools.compress(['a', 'b', 'c', 'd', 'e', 'f'], [0, 1, 1, 1, 1, 1, 1]))"
   ]
  },
  {
   "cell_type": "code",
   "execution_count": 25,
   "metadata": {},
   "outputs": [
    {
     "data": {
      "text/plain": [
       "['a', 'p']"
      ]
     },
     "execution_count": 25,
     "metadata": {},
     "output_type": "execute_result"
    }
   ],
   "source": [
    "list(itertools.compress('apple', '00'))"
   ]
  },
  {
   "cell_type": "code",
   "execution_count": 26,
   "metadata": {},
   "outputs": [
    {
     "data": {
      "text/plain": [
       "[]"
      ]
     },
     "execution_count": 26,
     "metadata": {},
     "output_type": "execute_result"
    }
   ],
   "source": [
    "list(itertools.compress('apple', (0, 0)))"
   ]
  },
  {
   "cell_type": "markdown",
   "metadata": {},
   "source": [
    "## Itertools.groupby"
   ]
  },
  {
   "cell_type": "code",
   "execution_count": 27,
   "metadata": {},
   "outputs": [
    {
     "data": {
      "text/plain": [
       "'abcdefghijklmnopqrstuvwxyz'"
      ]
     },
     "execution_count": 27,
     "metadata": {},
     "output_type": "execute_result"
    }
   ],
   "source": [
    "string.ascii_lowercase"
   ]
  },
  {
   "cell_type": "code",
   "execution_count": 28,
   "metadata": {},
   "outputs": [
    {
     "name": "stdout",
     "output_type": "stream",
     "text": [
      "['s', 't', 'w', 'q', 'o', 'm', 's', 'f', 'f', 'j', 'h', 'l', 'j', 'r', 'x', 'l', 'l', 'v', 'f', 'r']\n"
     ]
    }
   ],
   "source": [
    "x = random.choices(string.ascii_lowercase, k=20)\n",
    "print(x)"
   ]
  },
  {
   "cell_type": "code",
   "execution_count": 29,
   "metadata": {},
   "outputs": [
    {
     "name": "stdout",
     "output_type": "stream",
     "text": [
      "['f', 'f', 'f', 'h', 'j', 'j', 'l', 'l', 'l', 'm', 'o', 'q', 'r', 'r', 's', 's', 't', 'v', 'w', 'x']\n"
     ]
    }
   ],
   "source": [
    "x = sorted(x)  \n",
    "print(x)"
   ]
  },
  {
   "cell_type": "markdown",
   "metadata": {},
   "source": [
    "__NOTE:__ To use groupby, first the elements need to be sorted"
   ]
  },
  {
   "cell_type": "code",
   "execution_count": 30,
   "metadata": {},
   "outputs": [
    {
     "name": "stdout",
     "output_type": "stream",
     "text": [
      "key: f, group:['f', 'f', 'f']\n",
      "key: h, group:['h']\n",
      "key: j, group:['j', 'j']\n",
      "key: l, group:['l', 'l', 'l']\n",
      "key: m, group:['m']\n",
      "key: o, group:['o']\n",
      "key: q, group:['q']\n",
      "key: r, group:['r', 'r']\n",
      "key: s, group:['s', 's']\n",
      "key: t, group:['t']\n",
      "key: v, group:['v']\n",
      "key: w, group:['w']\n",
      "key: x, group:['x']\n"
     ]
    }
   ],
   "source": [
    "for key, group in itertools.groupby(x):\n",
    "    print(f'key: {key}, group:{list(group)}')"
   ]
  },
  {
   "cell_type": "code",
   "execution_count": 31,
   "metadata": {},
   "outputs": [
    {
     "name": "stdout",
     "output_type": "stream",
     "text": [
      "ABC ==> [('213123123123', 'ABC')] \n",
      "BCD ==> [('45345453453453', 'BCD'), ('999999999999', 'BCD')] \n",
      "EFG ==> [('4354534534534', 'EFG')] \n",
      "FGH ==> [('45345453453453', 'FGH')] \n",
      "ABC ==> [('3243242344324343', 'ABC')] \n",
      "DEF ==> [('5555577777777', 'DEF')] \n"
     ]
    }
   ],
   "source": [
    "data= [\n",
    "    ('213123123123', 'ABC'),\n",
    "    ('45345453453453', 'BCD'),\n",
    "    ('999999999999', 'BCD'),\n",
    "    ('4354534534534', 'EFG'),\n",
    "    ('45345453453453', 'FGH'),\n",
    "    ('3243242344324343', 'ABC'),\n",
    "    ('5555577777777', 'DEF'),\n",
    "]\n",
    "\n",
    "\n",
    "for key, group in itertools.groupby(data, key=lambda x:x[1]):\n",
    "    print(f'{key} ==> {list(group)} ')"
   ]
  },
  {
   "cell_type": "markdown",
   "metadata": {},
   "source": [
    "__NOTE:__ Notice that keys are duplicated. This is because of the data is unsorted"
   ]
  },
  {
   "cell_type": "code",
   "execution_count": 32,
   "metadata": {},
   "outputs": [
    {
     "data": {
      "text/plain": [
       "[('213123123123', 'ABC'),\n",
       " ('3243242344324343', 'ABC'),\n",
       " ('45345453453453', 'BCD'),\n",
       " ('999999999999', 'BCD'),\n",
       " ('5555577777777', 'DEF'),\n",
       " ('4354534534534', 'EFG'),\n",
       " ('45345453453453', 'FGH')]"
      ]
     },
     "execution_count": 32,
     "metadata": {},
     "output_type": "execute_result"
    }
   ],
   "source": [
    "data = sorted(data, key=lambda x:x[1])\n",
    "data"
   ]
  },
  {
   "cell_type": "code",
   "execution_count": 33,
   "metadata": {},
   "outputs": [
    {
     "name": "stdout",
     "output_type": "stream",
     "text": [
      "ABC ==> [('213123123123', 'ABC'), ('3243242344324343', 'ABC')] \n",
      "BCD ==> [('45345453453453', 'BCD'), ('999999999999', 'BCD')] \n",
      "DEF ==> [('5555577777777', 'DEF')] \n",
      "EFG ==> [('4354534534534', 'EFG')] \n",
      "FGH ==> [('45345453453453', 'FGH')] \n"
     ]
    }
   ],
   "source": [
    "for key, group in itertools.groupby(data, key=lambda x:x[1]):\n",
    "    print(f'{key} ==> {list(group)} ')"
   ]
  },
  {
   "cell_type": "code",
   "execution_count": 34,
   "metadata": {},
   "outputs": [],
   "source": [
    "# Ex: group by the even and odd \n",
    "\n",
    "def check_even(n):\n",
    "    if n%2:\n",
    "        return 'odd'\n",
    "    return 'even'\n",
    "\n",
    "def grouper(iterable):\n",
    "    iterable = sorted(iterable, key= check_even)\n",
    "    print(iterable)\n",
    "    \n",
    "    for key , group in itertools.groupby(iterable, check_even):\n",
    "        print(f'{key} ===> {list(group)}')\n",
    "        "
   ]
  },
  {
   "cell_type": "code",
   "execution_count": 35,
   "metadata": {},
   "outputs": [
    {
     "name": "stdout",
     "output_type": "stream",
     "text": [
      "[25, 49, 27, 17, 5]\n"
     ]
    }
   ],
   "source": [
    "x = random.sample(list(range(1, 50)), 5)\n",
    "print(x)"
   ]
  },
  {
   "cell_type": "code",
   "execution_count": 36,
   "metadata": {},
   "outputs": [
    {
     "name": "stdout",
     "output_type": "stream",
     "text": [
      "[25, 49, 27, 17, 5]\n",
      "odd ===> [25, 49, 27, 17, 5]\n"
     ]
    }
   ],
   "source": [
    "grouper(x)"
   ]
  },
  {
   "cell_type": "markdown",
   "metadata": {},
   "source": [
    "## Itertools.count\n",
    "- Infinite iterator that counts up from initialized value"
   ]
  },
  {
   "cell_type": "code",
   "execution_count": 37,
   "metadata": {},
   "outputs": [
    {
     "name": "stdout",
     "output_type": "stream",
     "text": [
      "count(10)\n"
     ]
    }
   ],
   "source": [
    "x = itertools.count(10)\n",
    "print(x)"
   ]
  },
  {
   "cell_type": "code",
   "execution_count": 38,
   "metadata": {},
   "outputs": [
    {
     "data": {
      "text/plain": [
       "itertools.count"
      ]
     },
     "execution_count": 38,
     "metadata": {},
     "output_type": "execute_result"
    }
   ],
   "source": [
    "type(x)"
   ]
  },
  {
   "cell_type": "code",
   "execution_count": 39,
   "metadata": {},
   "outputs": [
    {
     "name": "stdout",
     "output_type": "stream",
     "text": [
      "10,11,12,13,14,15,16,17,18,19,20,21,22,23,24,25,26,27,28,29,30,31,32,33,34,35,36,37,38,39,"
     ]
    }
   ],
   "source": [
    "i = 0\n",
    "while i < 30:\n",
    "    print(next(x), end= ',')\n",
    "    i += 1"
   ]
  },
  {
   "cell_type": "code",
   "execution_count": 40,
   "metadata": {},
   "outputs": [
    {
     "name": "stdout",
     "output_type": "stream",
     "text": [
      "3,4,5,6,7,8,9,10,11,12,13,14,15,16,17,18,19,20,21,22,23,24,25,26,27,28,29,30,31,32,"
     ]
    }
   ],
   "source": [
    "x = itertools.count(3)\n",
    "i = 0\n",
    "while i < 30:\n",
    "    print(next(x), end= ',')\n",
    "    i += 1"
   ]
  },
  {
   "cell_type": "code",
   "execution_count": 41,
   "metadata": {},
   "outputs": [
    {
     "name": "stdout",
     "output_type": "stream",
     "text": [
      "3,5,7,9,11,13,15,17,19,21,23,25,27,29,31,33,35,37,39,41,43,45,47,49,51,53,55,57,59,61,63,65,67,69,71,73,75,77,79,81,"
     ]
    }
   ],
   "source": [
    "x = itertools.count(3, 2) # (initial_value, step)\n",
    "i = 0\n",
    "while i < 40:\n",
    "    print(next(x), end= ',')\n",
    "    i += 1"
   ]
  },
  {
   "cell_type": "code",
   "execution_count": 42,
   "metadata": {},
   "outputs": [
    {
     "name": "stdout",
     "output_type": "stream",
     "text": [
      "3,8,13,18,23,28,33,38,43,48,53,58,63,68,73,78,83,88,93,98,103,108,113,118,123,128,133,138,143,148,"
     ]
    }
   ],
   "source": [
    "x = itertools.count(3, 5) # (initial_value, step)\n",
    "i = 0\n",
    "while i < 30:\n",
    "    print(next(x), end= ',')\n",
    "    i += 1"
   ]
  },
  {
   "cell_type": "code",
   "execution_count": 43,
   "metadata": {},
   "outputs": [
    {
     "name": "stdout",
     "output_type": "stream",
     "text": [
      "3,2,1,0,-1,-2,-3,-4,-5,-6,-7,-8,-9,-10,-11,-12,-13,-14,-15,-16,-17,-18,-19,-20,-21,-22,-23,-24,-25,-26,"
     ]
    }
   ],
   "source": [
    "# count down \n",
    "x = itertools.count(3, -1) # (initial_value, step)\n",
    "i = 0\n",
    "while i < 30:\n",
    "    print(next(x), end= ',')\n",
    "    i += 1"
   ]
  },
  {
   "cell_type": "markdown",
   "metadata": {},
   "source": [
    "## Itertools.islice"
   ]
  },
  {
   "cell_type": "code",
   "execution_count": 44,
   "metadata": {},
   "outputs": [
    {
     "name": "stdout",
     "output_type": "stream",
     "text": [
      "0,1,2,3,4,"
     ]
    }
   ],
   "source": [
    "for i in itertools.islice(range(10), 5):\n",
    "    print(i, end=',')"
   ]
  },
  {
   "cell_type": "code",
   "execution_count": 45,
   "metadata": {},
   "outputs": [
    {
     "name": "stdout",
     "output_type": "stream",
     "text": [
      "10,9,8,7,6,5,4,3,2,1,0,-1,-2,-3,-4,"
     ]
    }
   ],
   "source": [
    "for i in itertools.islice(itertools.count(10, -1), 15):\n",
    "    print(i, end=',')"
   ]
  },
  {
   "cell_type": "code",
   "execution_count": 46,
   "metadata": {},
   "outputs": [
    {
     "data": {
      "text/plain": [
       "[10, 9, 8, 7, 6, 5, 4, 3, 2, 1, 0, -1, -2, -3, -4]"
      ]
     },
     "execution_count": 46,
     "metadata": {},
     "output_type": "execute_result"
    }
   ],
   "source": [
    "list(itertools.islice(itertools.count(10, -1), 15))"
   ]
  },
  {
   "cell_type": "code",
   "execution_count": 47,
   "metadata": {},
   "outputs": [
    {
     "data": {
      "text/plain": [
       "[5, 4, 3, 2, 1]"
      ]
     },
     "execution_count": 47,
     "metadata": {},
     "output_type": "execute_result"
    }
   ],
   "source": [
    "list(itertools.islice(itertools.count(10, -1), 5, 10)) # start, end"
   ]
  },
  {
   "cell_type": "code",
   "execution_count": 48,
   "metadata": {},
   "outputs": [
    {
     "data": {
      "text/plain": [
       "[5, 3, 1]"
      ]
     },
     "execution_count": 48,
     "metadata": {},
     "output_type": "execute_result"
    }
   ],
   "source": [
    "list(itertools.islice(itertools.count(10, -1), 5, 10, 2)) # start, end, step"
   ]
  },
  {
   "cell_type": "markdown",
   "metadata": {},
   "source": [
    "## Itertools.cycle() \n",
    "    - infinitely iterates over a python\n",
    "    - iterables, unless we explicitly break out of the loop."
   ]
  },
  {
   "cell_type": "code",
   "execution_count": 76,
   "metadata": {},
   "outputs": [
    {
     "name": "stdout",
     "output_type": "stream",
     "text": [
      "Head Tail Head Tail Head Tail Head Tail "
     ]
    }
   ],
   "source": [
    "c = 0\n",
    "for i in itertools.cycle(['Head', 'Tail']):\n",
    "    if c > 7:\n",
    "        break\n",
    "    print(i, end=' ')\n",
    "    c += 1"
   ]
  },
  {
   "cell_type": "code",
   "execution_count": 77,
   "metadata": {},
   "outputs": [
    {
     "name": "stdout",
     "output_type": "stream",
     "text": [
      "Head Tail Head Tail Head Tail Head Tail "
     ]
    }
   ],
   "source": [
    "for c, i in enumerate(itertools.cycle(['Head', 'Tail'])):\n",
    "    if c > 7:\n",
    "        break\n",
    "    print(i, end=' ')"
   ]
  },
  {
   "cell_type": "markdown",
   "metadata": {},
   "source": [
    "## Itertools.repeat() \n",
    "    - This one repeats an object infinitely\n",
    "    - unless explicitly broken out of."
   ]
  },
  {
   "cell_type": "code",
   "execution_count": 78,
   "metadata": {},
   "outputs": [
    {
     "name": "stdout",
     "output_type": "stream",
     "text": [
      "[1, 2, 3]\n",
      "[1, 2, 3]\n",
      "[1, 2, 3]\n",
      "[1, 2, 3]\n",
      "[1, 2, 3]\n",
      "[1, 2, 3]\n",
      "[1, 2, 3]\n",
      "[1, 2, 3]\n"
     ]
    }
   ],
   "source": [
    "c = 0\n",
    "for i in itertools.repeat([1, 2, 3]):\n",
    "    if c > 7:\n",
    "        break\n",
    "    print(i)\n",
    "    c += 1\n",
    "\n",
    "# We can also specify the number of times we want\n",
    "# it to repeat, as a second argument."
   ]
  },
  {
   "cell_type": "code",
   "execution_count": 79,
   "metadata": {},
   "outputs": [
    {
     "name": "stdout",
     "output_type": "stream",
     "text": [
      "\n",
      "\n",
      "itertools.repeat\n",
      "[1, 2, 3]\n",
      "[1, 2, 3]\n",
      "[1, 2, 3]\n",
      "[1, 2, 3]\n"
     ]
    }
   ],
   "source": [
    "print('\\n\\nitertools.repeat')\n",
    "for i in itertools.repeat([1, 2, 3], 4):\n",
    "    print(i)"
   ]
  },
  {
   "cell_type": "markdown",
   "metadata": {},
   "source": [
    "## Itertools.chain"
   ]
  },
  {
   "cell_type": "code",
   "execution_count": 49,
   "metadata": {},
   "outputs": [
    {
     "name": "stdout",
     "output_type": "stream",
     "text": [
      " \n",
      "    x  =<list_iterator object at 0x00000232A3A444C0>\n",
      "    y  =<tuple_iterator object at 0x00000232A3A44460>\n",
      "    z  =<set_iterator object at 0x00000232A3A04680>\n",
      "    d  =<dict_keyiterator object at 0x00000232A3A37EF0>\n",
      "    d2 =<dict_itemiterator object at 0x00000232A3A37BD0>\n",
      "\n"
     ]
    }
   ],
   "source": [
    "x = iter([1, 2, 3, 4])\n",
    "y = iter((5, 6, 7, 8, 9))\n",
    "z = iter({10, 11})\n",
    "d = iter({'a':1, 'b':2, 'c':3})\n",
    "d2 = iter({'a':1, 'b':2, 'c':3}.items())\n",
    "\n",
    "print(f''' \n",
    "    {x  =}\n",
    "    {y  =}\n",
    "    {z  =}\n",
    "    {d  =}\n",
    "    {d2 =}\n",
    "''')"
   ]
  },
  {
   "cell_type": "code",
   "execution_count": 50,
   "metadata": {},
   "outputs": [
    {
     "name": "stdout",
     "output_type": "stream",
     "text": [
      "unsupported operand type(s) for +: 'list_iterator' and 'tuple_iterator'\n"
     ]
    }
   ],
   "source": [
    "try:\n",
    "    x + y\n",
    "except TypeError as ex:\n",
    "    print(ex)"
   ]
  },
  {
   "cell_type": "code",
   "execution_count": 51,
   "metadata": {},
   "outputs": [
    {
     "name": "stdout",
     "output_type": "stream",
     "text": [
      "unsupported operand type(s) for +: 'list_iterator' and 'list_iterator'\n"
     ]
    }
   ],
   "source": [
    "try:\n",
    "    x + x\n",
    "except TypeError as ex:\n",
    "    print(ex)"
   ]
  },
  {
   "cell_type": "code",
   "execution_count": 52,
   "metadata": {},
   "outputs": [
    {
     "data": {
      "text/plain": [
       "[1, 2, 3, 4, 5, 6, 7, 8, 9, 10, 11]"
      ]
     },
     "execution_count": 52,
     "metadata": {},
     "output_type": "execute_result"
    }
   ],
   "source": [
    "list(itertools.chain(x, y, z))"
   ]
  },
  {
   "cell_type": "code",
   "execution_count": 53,
   "metadata": {},
   "outputs": [
    {
     "data": {
      "text/plain": [
       "[<list_iterator at 0x232a3a44a60>, <tuple_iterator at 0x232a3a44a90>]"
      ]
     },
     "execution_count": 53,
     "metadata": {},
     "output_type": "execute_result"
    }
   ],
   "source": [
    "x = iter([1, 2, 3, 4])\n",
    "y = iter((5, 6, 7, 8, 9))\n",
    "z = [x, y]\n",
    "z"
   ]
  },
  {
   "cell_type": "code",
   "execution_count": 54,
   "metadata": {},
   "outputs": [
    {
     "data": {
      "text/plain": [
       "[<list_iterator at 0x232a3a44a60>, <tuple_iterator at 0x232a3a44a90>]"
      ]
     },
     "execution_count": 54,
     "metadata": {},
     "output_type": "execute_result"
    }
   ],
   "source": [
    "list(itertools.chain(z)) # Limitation"
   ]
  },
  {
   "cell_type": "code",
   "execution_count": 55,
   "metadata": {},
   "outputs": [
    {
     "data": {
      "text/plain": [
       "[1, 2, 3, 4, 5, 6, 7, 8, 9]"
      ]
     },
     "execution_count": 55,
     "metadata": {},
     "output_type": "execute_result"
    }
   ],
   "source": [
    "list(itertools.chain(*z)) "
   ]
  },
  {
   "cell_type": "markdown",
   "metadata": {},
   "source": [
    "### Itertools.chain.from_iterable"
   ]
  },
  {
   "cell_type": "code",
   "execution_count": 56,
   "metadata": {},
   "outputs": [
    {
     "data": {
      "text/plain": [
       "[1, 2, 3, 4, 5, 6, 7, 8, 9]"
      ]
     },
     "execution_count": 56,
     "metadata": {},
     "output_type": "execute_result"
    }
   ],
   "source": [
    "x = iter([1, 2, 3, 4])\n",
    "y = iter((5, 6, 7, 8, 9))\n",
    "z = [x, y]\n",
    "list(itertools.chain.from_iterable(z)) "
   ]
  },
  {
   "cell_type": "markdown",
   "metadata": {},
   "source": [
    "## Itertools.zip_longest"
   ]
  },
  {
   "cell_type": "code",
   "execution_count": 57,
   "metadata": {},
   "outputs": [],
   "source": [
    "a1 = (1, 2, 3, 4, 5, 6)\n",
    "a2 = ('a', 'b')"
   ]
  },
  {
   "cell_type": "code",
   "execution_count": 58,
   "metadata": {},
   "outputs": [
    {
     "data": {
      "text/plain": [
       "[(1, 'a'), (2, 'b')]"
      ]
     },
     "execution_count": 58,
     "metadata": {},
     "output_type": "execute_result"
    }
   ],
   "source": [
    "list(zip(a1, a2))"
   ]
  },
  {
   "cell_type": "code",
   "execution_count": 59,
   "metadata": {},
   "outputs": [
    {
     "data": {
      "text/plain": [
       "[(1, 'a'), (2, 'b'), (3, None), (4, None), (5, None), (6, None)]"
      ]
     },
     "execution_count": 59,
     "metadata": {},
     "output_type": "execute_result"
    }
   ],
   "source": [
    "list(itertools.zip_longest(a1, a2))"
   ]
  },
  {
   "cell_type": "code",
   "execution_count": 60,
   "metadata": {},
   "outputs": [
    {
     "data": {
      "text/plain": [
       "[(1, 'a'), (2, 'b'), (3, 0), (4, 0), (5, 0), (6, 0)]"
      ]
     },
     "execution_count": 60,
     "metadata": {},
     "output_type": "execute_result"
    }
   ],
   "source": [
    "list(itertools.zip_longest(a1, a2, fillvalue=0))"
   ]
  },
  {
   "cell_type": "markdown",
   "metadata": {},
   "source": [
    "## Itertools - dropwhile\n",
    "    - filter sequence items until a condition becomes False. \n",
    "    - Once it becomes False, it stops the filter process."
   ]
  },
  {
   "cell_type": "code",
   "execution_count": 61,
   "metadata": {},
   "outputs": [
    {
     "name": "stdout",
     "output_type": "stream",
     "text": [
      "[0, 2, 4, 6, 8]\n"
     ]
    }
   ],
   "source": [
    "evens = range(0, 10, 2)\n",
    "print(list(evens))"
   ]
  },
  {
   "cell_type": "code",
   "execution_count": 62,
   "metadata": {},
   "outputs": [
    {
     "data": {
      "text/plain": [
       "[4, 6, 8]"
      ]
     },
     "execution_count": 62,
     "metadata": {},
     "output_type": "execute_result"
    }
   ],
   "source": [
    "list(filter(lambda x:x>2, evens))"
   ]
  },
  {
   "cell_type": "code",
   "execution_count": 63,
   "metadata": {},
   "outputs": [
    {
     "data": {
      "text/plain": [
       "[0, 2, 4, 6, 8]"
      ]
     },
     "execution_count": 63,
     "metadata": {},
     "output_type": "execute_result"
    }
   ],
   "source": [
    "list(itertools.dropwhile(lambda x:x>2, evens))"
   ]
  },
  {
   "cell_type": "code",
   "execution_count": 64,
   "metadata": {},
   "outputs": [
    {
     "data": {
      "text/plain": [
       "[12, 7, 1, -5]"
      ]
     },
     "execution_count": 64,
     "metadata": {},
     "output_type": "execute_result"
    }
   ],
   "source": [
    "list(itertools.dropwhile(lambda x: x < 5, [3, 12, 7, 1, -5]))"
   ]
  },
  {
   "cell_type": "markdown",
   "metadata": {},
   "source": [
    "## Itertools.takewhile\n",
    "    - filter sequence items until a condition becomes True. \n",
    "    - Once it becomes True, it stops the filter process."
   ]
  },
  {
   "cell_type": "code",
   "execution_count": 65,
   "metadata": {},
   "outputs": [
    {
     "data": {
      "text/plain": [
       "[3]"
      ]
     },
     "execution_count": 65,
     "metadata": {},
     "output_type": "execute_result"
    }
   ],
   "source": [
    "list(itertools.takewhile(lambda x: x < 5, [3, 12, 7, 1, -5]))"
   ]
  },
  {
   "cell_type": "code",
   "execution_count": 66,
   "metadata": {},
   "outputs": [
    {
     "data": {
      "text/plain": [
       "[5, 6, 2]"
      ]
     },
     "execution_count": 66,
     "metadata": {},
     "output_type": "execute_result"
    }
   ],
   "source": [
    "list(filter(lambda x:x>0, [5, 6, -8, -4, 2]))  "
   ]
  },
  {
   "cell_type": "code",
   "execution_count": 67,
   "metadata": {},
   "outputs": [
    {
     "data": {
      "text/plain": [
       "[-8, -4, 2]"
      ]
     },
     "execution_count": 67,
     "metadata": {},
     "output_type": "execute_result"
    }
   ],
   "source": [
    "list(itertools.dropwhile(lambda x:x>0, [5, 6, -8, -4, 2]))  "
   ]
  },
  {
   "cell_type": "code",
   "execution_count": 68,
   "metadata": {},
   "outputs": [
    {
     "data": {
      "text/plain": [
       "[5, 6]"
      ]
     },
     "execution_count": 68,
     "metadata": {},
     "output_type": "execute_result"
    }
   ],
   "source": [
    "list(itertools.takewhile(lambda x:x>0, [5, 6, -8, -4, 2]))  "
   ]
  },
  {
   "cell_type": "code",
   "execution_count": 69,
   "metadata": {},
   "outputs": [],
   "source": [
    "assert list(evens) == list(itertools.chain(\n",
    "                            itertools.dropwhile(lambda x:x>2, evens), \n",
    "                            itertools.takewhile(lambda x:x>2, evens)\n",
    "))"
   ]
  },
  {
   "cell_type": "markdown",
   "metadata": {},
   "source": [
    "## Itertools.starmap"
   ]
  },
  {
   "cell_type": "code",
   "execution_count": 70,
   "metadata": {},
   "outputs": [
    {
     "data": {
      "text/plain": [
       "32"
      ]
     },
     "execution_count": 70,
     "metadata": {},
     "output_type": "execute_result"
    }
   ],
   "source": [
    "pow(2, 5)"
   ]
  },
  {
   "cell_type": "code",
   "execution_count": 75,
   "metadata": {},
   "outputs": [
    {
     "name": "stdout",
     "output_type": "stream",
     "text": [
      "pow() missing required argument 'exp' (pos 2)\n"
     ]
    }
   ],
   "source": [
    "try:\n",
    "    list(map(pow, [(2, 5), (3, 2), (4, 3)] ))\n",
    "except TypeError as ex:\n",
    "    print(ex)"
   ]
  },
  {
   "cell_type": "code",
   "execution_count": 74,
   "metadata": {},
   "outputs": [
    {
     "data": {
      "text/plain": [
       "[32, 9, 64]"
      ]
     },
     "execution_count": 74,
     "metadata": {},
     "output_type": "execute_result"
    }
   ],
   "source": [
    "list(itertools.starmap(pow, [(2, 5), (3, 2), (4, 3)] ))"
   ]
  },
  {
   "cell_type": "markdown",
   "metadata": {},
   "source": [
    "## Itertools.product"
   ]
  },
  {
   "cell_type": "code",
   "execution_count": 81,
   "metadata": {},
   "outputs": [],
   "source": [
    "list1 = range(1, 3)\n",
    "list2 = range(4, 6)\n",
    "list3 = range(7, 9)\n",
    "\n",
    "# Method 1\n",
    "result1 = []\n",
    "for item1 in list1:\n",
    "    for item2 in list2:\n",
    "        for item3 in list3:\n",
    "            result1.append(item1 + item2 + item3)\n",
    "\n",
    "# Method 2\n",
    "result2 = []\n",
    "for i1, i2, i3 in itertools.product(list1, list2, list3):\n",
    "    result2.append(i1 + i2 + i3)\n",
    "\n",
    "assert result1 == result2"
   ]
  },
  {
   "cell_type": "code",
   "execution_count": null,
   "metadata": {},
   "outputs": [],
   "source": []
  },
  {
   "cell_type": "code",
   "execution_count": null,
   "metadata": {},
   "outputs": [],
   "source": []
  },
  {
   "cell_type": "code",
   "execution_count": null,
   "metadata": {},
   "outputs": [],
   "source": []
  },
  {
   "cell_type": "markdown",
   "metadata": {},
   "source": [
    "TODO - filterfalse, permutations, tee"
   ]
  }
 ],
 "metadata": {
  "kernelspec": {
   "display_name": "Python 3",
   "language": "python",
   "name": "python3"
  },
  "language_info": {
   "codemirror_mode": {
    "name": "ipython",
    "version": 3
   },
   "file_extension": ".py",
   "mimetype": "text/x-python",
   "name": "python",
   "nbconvert_exporter": "python",
   "pygments_lexer": "ipython3",
   "version": "3.8.3"
  }
 },
 "nbformat": 4,
 "nbformat_minor": 2
}
