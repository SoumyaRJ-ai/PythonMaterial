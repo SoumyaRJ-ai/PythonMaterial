{
 "cells": [
  {
   "cell_type": "markdown",
   "metadata": {},
   "source": [
    "# MetaProgramming In Python"
   ]
  },
  {
   "cell_type": "markdown",
   "metadata": {},
   "source": [
    "## Classes in Python - What is a class in Python?"
   ]
  },
  {
   "cell_type": "code",
   "execution_count": 82,
   "metadata": {},
   "outputs": [
    {
     "data": {
      "text/plain": [
       "<__main__.Test at 0x1b146691210>"
      ]
     },
     "execution_count": 82,
     "metadata": {},
     "output_type": "execute_result"
    }
   ],
   "source": [
    "class Test:\n",
    "    pass\n",
    "\n",
    "\n",
    "a = Test()\n",
    "a"
   ]
  },
  {
   "cell_type": "code",
   "execution_count": 83,
   "metadata": {},
   "outputs": [
    {
     "data": {
      "text/plain": [
       "__main__.Test"
      ]
     },
     "execution_count": 83,
     "metadata": {},
     "output_type": "execute_result"
    }
   ],
   "source": [
    "type(a)"
   ]
  },
  {
   "cell_type": "code",
   "execution_count": 84,
   "metadata": {},
   "outputs": [
    {
     "data": {
      "text/plain": [
       "type"
      ]
     },
     "execution_count": 84,
     "metadata": {},
     "output_type": "execute_result"
    }
   ],
   "source": [
    "type(Test)"
   ]
  },
  {
   "cell_type": "code",
   "execution_count": 85,
   "metadata": {},
   "outputs": [
    {
     "data": {
      "text/plain": [
       "type"
      ]
     },
     "execution_count": 85,
     "metadata": {},
     "output_type": "execute_result"
    }
   ],
   "source": [
    "type(type)"
   ]
  },
  {
   "cell_type": "markdown",
   "metadata": {},
   "source": [
    "### Classes - Nothing but instances of types.  Class technically is a sugar over the native 'type'"
   ]
  },
  {
   "cell_type": "markdown",
   "metadata": {},
   "source": [
    "## What is type in Python?"
   ]
  },
  {
   "cell_type": "code",
   "execution_count": 86,
   "metadata": {},
   "outputs": [
    {
     "name": "stdout",
     "output_type": "stream",
     "text": [
      "\u001b[1;31mInit signature:\u001b[0m \u001b[0mtype\u001b[0m\u001b[1;33m(\u001b[0m\u001b[0mself\u001b[0m\u001b[1;33m,\u001b[0m \u001b[1;33m/\u001b[0m\u001b[1;33m,\u001b[0m \u001b[1;33m*\u001b[0m\u001b[0margs\u001b[0m\u001b[1;33m,\u001b[0m \u001b[1;33m**\u001b[0m\u001b[0mkwargs\u001b[0m\u001b[1;33m)\u001b[0m\u001b[1;33m\u001b[0m\u001b[1;33m\u001b[0m\u001b[0m\n",
      "\u001b[1;31mDocstring:\u001b[0m     \n",
      "type(object) -> the object's type\n",
      "type(name, bases, dict, **kwds) -> a new type\n",
      "\u001b[1;31mType:\u001b[0m           type\n",
      "\u001b[1;31mSubclasses:\u001b[0m     ABCMeta, EnumType, _AnyMeta, NamedTupleMeta, _TypedDictMeta, _DeprecatedType, _ABC, MetaHasDescriptors, PyCStructType, UnionType, ..."
     ]
    }
   ],
   "source": [
    "?type"
   ]
  },
  {
   "cell_type": "code",
   "execution_count": 87,
   "metadata": {},
   "outputs": [],
   "source": [
    "TestWithType = type(\"TestWithType\", (object,), {})"
   ]
  },
  {
   "cell_type": "code",
   "execution_count": 88,
   "metadata": {},
   "outputs": [
    {
     "data": {
      "text/plain": [
       "type"
      ]
     },
     "execution_count": 88,
     "metadata": {},
     "output_type": "execute_result"
    }
   ],
   "source": [
    "type(TestWithType)"
   ]
  },
  {
   "cell_type": "code",
   "execution_count": 89,
   "metadata": {},
   "outputs": [],
   "source": [
    "ins1 = TestWithType()"
   ]
  },
  {
   "cell_type": "code",
   "execution_count": 90,
   "metadata": {},
   "outputs": [
    {
     "data": {
      "text/plain": [
       "__main__.TestWithType"
      ]
     },
     "execution_count": 90,
     "metadata": {},
     "output_type": "execute_result"
    }
   ],
   "source": [
    "type(ins1)"
   ]
  },
  {
   "cell_type": "code",
   "execution_count": 91,
   "metadata": {},
   "outputs": [
    {
     "data": {
      "text/plain": [
       "<__main__.TestWithType at 0x1b14667d1d0>"
      ]
     },
     "execution_count": 91,
     "metadata": {},
     "output_type": "execute_result"
    }
   ],
   "source": [
    "type(\"TestWithType\", (object,), {})()"
   ]
  },
  {
   "cell_type": "markdown",
   "metadata": {},
   "source": [
    "### 'type' is an important native structure used for creating classes."
   ]
  },
  {
   "cell_type": "markdown",
   "metadata": {},
   "source": [
    "## Life Cycle involved in a class - Vanilla"
   ]
  },
  {
   "cell_type": "code",
   "execution_count": 92,
   "metadata": {},
   "outputs": [],
   "source": [
    "class TestClass:\n",
    "    def __new__(cls, *args, **kwargs):\n",
    "        print(\"new method called\")\n",
    "        instance = super(TestClass, cls).__new__(cls, *args, **kwargs)\n",
    "        return instance\n",
    "\n",
    "    def __call__(self, a, b, c):\n",
    "        self.call_count += 1\n",
    "        print(\"call method called\")\n",
    "        return a * b * c\n",
    "\n",
    "    def __init__(self):\n",
    "        self.call_count = 0\n",
    "        super(TestClass, self).__init__()\n",
    "        print(\"init method called\")\n",
    "\n",
    "    def get_call_count(self):\n",
    "        return self.call_count"
   ]
  },
  {
   "cell_type": "code",
   "execution_count": 93,
   "metadata": {},
   "outputs": [
    {
     "name": "stdout",
     "output_type": "stream",
     "text": [
      "new method called\n",
      "init method called\n"
     ]
    }
   ],
   "source": [
    "a = TestClass()"
   ]
  },
  {
   "cell_type": "code",
   "execution_count": 94,
   "metadata": {},
   "outputs": [
    {
     "name": "stdout",
     "output_type": "stream",
     "text": [
      "call method called\n"
     ]
    },
    {
     "data": {
      "text/plain": [
       "6"
      ]
     },
     "execution_count": 94,
     "metadata": {},
     "output_type": "execute_result"
    }
   ],
   "source": [
    "a(1, 2, 3)"
   ]
  },
  {
   "cell_type": "code",
   "execution_count": 95,
   "metadata": {},
   "outputs": [
    {
     "data": {
      "text/plain": [
       "1"
      ]
     },
     "execution_count": 95,
     "metadata": {},
     "output_type": "execute_result"
    }
   ],
   "source": [
    "a.get_call_count()"
   ]
  },
  {
   "cell_type": "markdown",
   "metadata": {},
   "source": [
    "### What is type? 'type' defines how a class behaves in Python. \n",
    "\n",
    "### Got it. Well then - Can I change 'how' a class behaves in Python? - MetaClasses\n"
   ]
  },
  {
   "cell_type": "markdown",
   "metadata": {},
   "source": [
    "## Metaclasses"
   ]
  },
  {
   "cell_type": "code",
   "execution_count": 96,
   "metadata": {},
   "outputs": [],
   "source": [
    "class MySingletonMeta(type):\n",
    "    _instances = {}\n",
    "\n",
    "    def __call__(cls, *args, **kwargs):\n",
    "        if cls not in cls._instances:\n",
    "            cls._instances[cls] = super(MySingletonMeta, cls).__call__(*args)\n",
    "        return cls._instances[cls]"
   ]
  },
  {
   "cell_type": "code",
   "execution_count": 97,
   "metadata": {},
   "outputs": [],
   "source": [
    "class MySingletonClass(metaclass=MySingletonMeta):\n",
    "    def __init__(self):\n",
    "        self.i = 1"
   ]
  },
  {
   "cell_type": "code",
   "execution_count": 98,
   "metadata": {},
   "outputs": [],
   "source": [
    "a = MySingletonClass()\n",
    "b = MySingletonClass()"
   ]
  },
  {
   "cell_type": "code",
   "execution_count": 99,
   "metadata": {},
   "outputs": [
    {
     "data": {
      "text/plain": [
       "(__main__.MySingletonClass,\n",
       " 1860914785936,\n",
       " __main__.MySingletonClass,\n",
       " 1860914785936)"
      ]
     },
     "execution_count": 99,
     "metadata": {},
     "output_type": "execute_result"
    }
   ],
   "source": [
    "type(a), id(a), type(b), id(b)"
   ]
  },
  {
   "cell_type": "markdown",
   "metadata": {},
   "source": [
    "## LifeCycle with Metaclasses"
   ]
  },
  {
   "cell_type": "code",
   "execution_count": 100,
   "metadata": {},
   "outputs": [],
   "source": [
    "class MyMetaClass(type):\n",
    "    _test_attribute = 1\n",
    "\n",
    "    def __new__(cls, *args, **kwargs):\n",
    "        print(\"metaclass new method called\")\n",
    "        return super(MyMetaClass, cls).__new__(cls, *args, **kwargs)\n",
    "\n",
    "    def __call__(cls, *args, **kwargs):\n",
    "        print(\"metaclass call method called\")\n",
    "        return super(MyMetaClass, cls).__call__(*args, **kwargs)\n",
    "\n",
    "    def __init__(self, *args, **kwargs):\n",
    "        print(\"metaclass init method called\")\n",
    "        return super(MyMetaClass, self).__init__(*args, **kwargs)\n",
    "\n",
    "    def test_method_1(self):\n",
    "        print(\"MyMetaClass - Test method 1 called\")"
   ]
  },
  {
   "cell_type": "code",
   "execution_count": 101,
   "metadata": {},
   "outputs": [
    {
     "name": "stdout",
     "output_type": "stream",
     "text": [
      "metaclass new method called\n",
      "metaclass init method called\n"
     ]
    }
   ],
   "source": [
    "class MyClass(metaclass=MyMetaClass):\n",
    "    def __new__(cls, *args, **kwargs):\n",
    "        print(\"instance new method called\")\n",
    "        return super(MyClass, cls).__new__(cls, *args, **kwargs)\n",
    "\n",
    "    def __init__(self, *args, **kwargs):\n",
    "        print(\"instance init method called\")\n",
    "        return super(MyClass, self).__init__(*args, **kwargs)"
   ]
  },
  {
   "cell_type": "code",
   "execution_count": 102,
   "metadata": {},
   "outputs": [
    {
     "name": "stdout",
     "output_type": "stream",
     "text": [
      "metaclass call method called\n",
      "instance new method called\n",
      "instance init method called\n"
     ]
    }
   ],
   "source": [
    "ins2 = MyClass()"
   ]
  },
  {
   "cell_type": "code",
   "execution_count": 103,
   "metadata": {},
   "outputs": [
    {
     "data": {
      "text/plain": [
       "1"
      ]
     },
     "execution_count": 103,
     "metadata": {},
     "output_type": "execute_result"
    }
   ],
   "source": [
    "MyClass._test_attribute"
   ]
  },
  {
   "cell_type": "code",
   "execution_count": 104,
   "metadata": {},
   "outputs": [
    {
     "data": {
      "text/plain": [
       "(__main__.MyClass, object)"
      ]
     },
     "execution_count": 104,
     "metadata": {},
     "output_type": "execute_result"
    }
   ],
   "source": [
    "MyClass.__mro__"
   ]
  },
  {
   "cell_type": "code",
   "execution_count": 105,
   "metadata": {},
   "outputs": [
    {
     "data": {
      "text/plain": [
       "(__main__.MyMetaClass, type, object)"
      ]
     },
     "execution_count": 105,
     "metadata": {},
     "output_type": "execute_result"
    }
   ],
   "source": [
    "MyMetaClass.__mro__"
   ]
  },
  {
   "cell_type": "markdown",
   "metadata": {},
   "source": [
    "## Pattern 1 : Abstract Classes"
   ]
  },
  {
   "cell_type": "code",
   "execution_count": 106,
   "metadata": {},
   "outputs": [],
   "source": [
    "from abc import ABCMeta, ABC, abstractmethod"
   ]
  },
  {
   "cell_type": "code",
   "execution_count": 107,
   "metadata": {},
   "outputs": [
    {
     "name": "stdout",
     "output_type": "stream",
     "text": [
      "\u001b[1;31mInit signature:\u001b[0m \u001b[0mABCMeta\u001b[0m\u001b[1;33m(\u001b[0m\u001b[0mname\u001b[0m\u001b[1;33m,\u001b[0m \u001b[0mbases\u001b[0m\u001b[1;33m,\u001b[0m \u001b[0mnamespace\u001b[0m\u001b[1;33m,\u001b[0m \u001b[1;33m/\u001b[0m\u001b[1;33m,\u001b[0m \u001b[1;33m**\u001b[0m\u001b[0mkwargs\u001b[0m\u001b[1;33m)\u001b[0m\u001b[1;33m\u001b[0m\u001b[1;33m\u001b[0m\u001b[0m\n",
      "\u001b[1;31mDocstring:\u001b[0m     \n",
      "Metaclass for defining Abstract Base Classes (ABCs).\n",
      "\n",
      "Use this metaclass to create an ABC.  An ABC can be subclassed\n",
      "directly, and then acts as a mix-in class.  You can also register\n",
      "unrelated concrete classes (even built-in classes) and unrelated\n",
      "ABCs as 'virtual subclasses' -- these and their descendants will\n",
      "be considered subclasses of the registering ABC by the built-in\n",
      "issubclass() function, but the registering ABC won't show up in\n",
      "their MRO (Method Resolution Order) nor will method\n",
      "implementations defined by the registering ABC be callable (not\n",
      "even via super()).\n",
      "\u001b[1;31mFile:\u001b[0m           c:\\program files\\windowsapps\\pythonsoftwarefoundation.python.3.11_3.11.752.0_x64__qbz5n2kfra8p0\\lib\\abc.py\n",
      "\u001b[1;31mType:\u001b[0m           type\n",
      "\u001b[1;31mSubclasses:\u001b[0m     _ProtocolMeta, KernelProvisionerMeta, MySingletonABCMeta"
     ]
    }
   ],
   "source": [
    "?ABCMeta"
   ]
  },
  {
   "cell_type": "code",
   "execution_count": 108,
   "metadata": {},
   "outputs": [],
   "source": [
    "class MyAbstractClass(metaclass=ABCMeta):\n",
    "    def __init__(self):\n",
    "        pass\n",
    "\n",
    "    @abstractmethod\n",
    "    def my_abstract_method(self):\n",
    "        pass"
   ]
  },
  {
   "cell_type": "code",
   "execution_count": 109,
   "metadata": {},
   "outputs": [
    {
     "name": "stdout",
     "output_type": "stream",
     "text": [
      "Can't instantiate abstract class MyAbstractClass with abstract method my_abstract_method\n"
     ]
    }
   ],
   "source": [
    "try:\n",
    "    MyAbstractClass()\n",
    "except TypeError as ex:\n",
    "    print(ex)"
   ]
  },
  {
   "cell_type": "code",
   "execution_count": 110,
   "metadata": {},
   "outputs": [],
   "source": [
    "class MyChildClass(MyAbstractClass):\n",
    "    def __init__(self):\n",
    "        pass\n",
    "\n",
    "    def my_abstract_method(self):\n",
    "        pass"
   ]
  },
  {
   "cell_type": "code",
   "execution_count": 111,
   "metadata": {},
   "outputs": [
    {
     "data": {
      "text/plain": [
       "<__main__.MyChildClass at 0x1b1472c5690>"
      ]
     },
     "execution_count": 111,
     "metadata": {},
     "output_type": "execute_result"
    }
   ],
   "source": [
    "mcc = MyChildClass()\n",
    "mcc"
   ]
  },
  {
   "cell_type": "markdown",
   "metadata": {},
   "source": [
    "## Pattern 2 : Abstract family of singleton classes - Combine two metaclasses"
   ]
  },
  {
   "cell_type": "code",
   "execution_count": 112,
   "metadata": {},
   "outputs": [],
   "source": [
    "class MySingletonABCMeta(ABCMeta):\n",
    "    _instances = {}\n",
    "\n",
    "    def __call__(cls, *args, **kwargs):\n",
    "        if cls not in cls._instances:\n",
    "            cls._instances[cls] = super(MySingletonABCMeta, cls).__call__(*args)\n",
    "        return cls._instances[cls]"
   ]
  },
  {
   "cell_type": "code",
   "execution_count": 113,
   "metadata": {},
   "outputs": [],
   "source": [
    "class MyAbstractSingletonClass(metaclass=MySingletonABCMeta):\n",
    "    def __init__(self):\n",
    "        pass\n",
    "\n",
    "    @abstractmethod\n",
    "    def my_abstract_method(self):\n",
    "        pass"
   ]
  },
  {
   "cell_type": "code",
   "execution_count": 114,
   "metadata": {},
   "outputs": [
    {
     "name": "stdout",
     "output_type": "stream",
     "text": [
      "Can't instantiate abstract class MyAbstractSingletonClass with abstract method my_abstract_method\n"
     ]
    }
   ],
   "source": [
    "try:\n",
    "    MyAbstractSingletonClass()\n",
    "except TypeError as ex:\n",
    "    print(ex)"
   ]
  },
  {
   "cell_type": "code",
   "execution_count": 115,
   "metadata": {},
   "outputs": [],
   "source": [
    "class MyAbstractSingletonChild(MyAbstractSingletonClass):\n",
    "    def __init__(self):\n",
    "        pass\n",
    "\n",
    "    def my_abstract_method(self):\n",
    "        pass"
   ]
  },
  {
   "cell_type": "code",
   "execution_count": 116,
   "metadata": {},
   "outputs": [],
   "source": [
    "a1 = MyAbstractSingletonChild()\n",
    "b1 = MyAbstractSingletonChild()"
   ]
  },
  {
   "cell_type": "code",
   "execution_count": 117,
   "metadata": {},
   "outputs": [
    {
     "data": {
      "text/plain": [
       "(__main__.MyAbstractSingletonChild,\n",
       " 1860902138768,\n",
       " __main__.MyAbstractSingletonChild,\n",
       " 1860902138768)"
      ]
     },
     "execution_count": 117,
     "metadata": {},
     "output_type": "execute_result"
    }
   ],
   "source": [
    "type(a1), id(a1), type(b1), id(b1)"
   ]
  },
  {
   "cell_type": "markdown",
   "metadata": {},
   "source": [
    "## Pattern 3 : Pooled Objects"
   ]
  },
  {
   "cell_type": "code",
   "execution_count": 118,
   "metadata": {},
   "outputs": [],
   "source": [
    "class MyBeanMeta(type):\n",
    "    _instances = {}\n",
    "\n",
    "    def __call__(cls, *args):\n",
    "        print(args)\n",
    "        key = tuple((cls, args))\n",
    "        if key not in cls._instances:\n",
    "            cls._instances[key] = super(MyBeanMeta, cls).__call__(*args)\n",
    "        return cls._instances[key]"
   ]
  },
  {
   "cell_type": "code",
   "execution_count": 119,
   "metadata": {},
   "outputs": [],
   "source": [
    "class MyBeanClass(metaclass=MyBeanMeta):\n",
    "    def __init__(self, a):\n",
    "        self.a = a"
   ]
  },
  {
   "cell_type": "code",
   "execution_count": 120,
   "metadata": {},
   "outputs": [
    {
     "name": "stdout",
     "output_type": "stream",
     "text": [
      "(1,)\n",
      "(2,)\n",
      "(3,)\n",
      "(1,)\n"
     ]
    }
   ],
   "source": [
    "bn1 = MyBeanClass(1)\n",
    "bn2 = MyBeanClass(2)\n",
    "bn3 = MyBeanClass(3)\n",
    "bn4 = MyBeanClass(1)"
   ]
  },
  {
   "cell_type": "code",
   "execution_count": 121,
   "metadata": {},
   "outputs": [
    {
     "data": {
      "text/plain": [
       "(1860902009040, 1860902036432, 1860902140304, 1860902009040)"
      ]
     },
     "execution_count": 121,
     "metadata": {},
     "output_type": "execute_result"
    }
   ],
   "source": [
    "id(bn1), id(bn2), id(bn3), id(bn4)"
   ]
  },
  {
   "cell_type": "markdown",
   "metadata": {},
   "source": [
    "## Pattern 4 : Logging using Metaclasses"
   ]
  },
  {
   "cell_type": "code",
   "execution_count": 122,
   "metadata": {},
   "outputs": [],
   "source": [
    "import logging\n",
    "\n",
    "logging.basicConfig(filename=\"example.log\", level=logging.INFO)\n",
    "logging.debug(\"This message should go to the log file\")\n",
    "logging.info(\"So should this\")\n",
    "logging.warning(\"And this, too\")\n",
    "\n",
    "\n",
    "class MyLogSingletonMeta(type):\n",
    "    logger = logging.getLogger(\"abc\")\n",
    "\n",
    "    _instances = {}\n",
    "\n",
    "    def __call__(cls, *args, **kwargs):\n",
    "        if cls not in cls._instances:\n",
    "            instance = super(MyLogSingletonMeta, cls).__call__(*args)\n",
    "            cls._instances[cls] = instance\n",
    "\n",
    "            instance.__dict__[\"logger\"] = logging.getLogger(\"abc\")\n",
    "        return cls._instances[cls]\n",
    "\n",
    "\n",
    "class MyLogEnabledClass(metaclass=MyLogSingletonMeta):\n",
    "    def test_function(self):\n",
    "        self.logger.info(\"Inside test_function method of Log Enabled class\")\n",
    "        pass"
   ]
  },
  {
   "cell_type": "code",
   "execution_count": 123,
   "metadata": {},
   "outputs": [
    {
     "name": "stdout",
     "output_type": "stream",
     "text": [
      "1860902048976 1860902048976\n"
     ]
    }
   ],
   "source": [
    "lec_instance1 = MyLogEnabledClass()\n",
    "lec_instance2 = MyLogEnabledClass()\n",
    "lec_instance1.test_function()\n",
    "\n",
    "print(id(lec_instance1), id(lec_instance2))"
   ]
  },
  {
   "cell_type": "code",
   "execution_count": 124,
   "metadata": {},
   "outputs": [
    {
     "name": "stdout",
     "output_type": "stream",
     "text": [
      "INFO:root:So should this\n",
      "WARNING:root:And this, too\n",
      "INFO:abc:Inside test_function method of Log Enabled class\n",
      "INFO:root:So should this\n",
      "WARNING:root:And this, too\n",
      "INFO:abc:Inside test_function method of Log Enabled class\n"
     ]
    }
   ],
   "source": [
    "!cat example.log"
   ]
  },
  {
   "cell_type": "code",
   "execution_count": 125,
   "metadata": {},
   "outputs": [],
   "source": [
    "class MyLogger:\n",
    "    def __init__(self, logger=None):\n",
    "        self.logger = logger\n",
    "\n",
    "    def __call__(self, func):\n",
    "        def wrapper(*args, **kwargs):\n",
    "            if self.logger is None:\n",
    "                print(str(func) + \" is called\")\n",
    "            else:\n",
    "                self.logger.info(str(func) + \" is called\")\n",
    "            return func(*args, **kwargs)\n",
    "\n",
    "        return wrapper\n",
    "\n",
    "\n",
    "class MyLoggingMeta(type):\n",
    "    def __new__(cls, name, bases, attrs):\n",
    "        for item, value in attrs.items():\n",
    "            if callable(value):\n",
    "                print(\"Function item :\" + str(item), str(value), type(value))\n",
    "                attrs[item] = MyLogger()(value)\n",
    "            else:\n",
    "                print(str(item), str(value), type(value))\n",
    "        return super(MyLoggingMeta, cls).__new__(cls, name, bases, attrs)"
   ]
  },
  {
   "cell_type": "code",
   "execution_count": 126,
   "metadata": {},
   "outputs": [
    {
     "name": "stdout",
     "output_type": "stream",
     "text": [
      "__module__ __main__ <class 'str'>\n",
      "__qualname__ MyClass1 <class 'str'>\n",
      "Function item :test_m1 <function MyClass1.test_m1 at 0x000001B1472E3240> <class 'function'>\n",
      "Function item :test_m2 <function MyClass1.test_m2 at 0x000001B1472E2FC0> <class 'function'>\n"
     ]
    }
   ],
   "source": [
    "class MyClass1(metaclass=MyLoggingMeta):\n",
    "    def test_m1(self):\n",
    "        pass\n",
    "\n",
    "    def test_m2(self):\n",
    "        pass"
   ]
  },
  {
   "cell_type": "code",
   "execution_count": 127,
   "metadata": {},
   "outputs": [],
   "source": [
    "a = MyClass1()"
   ]
  },
  {
   "cell_type": "code",
   "execution_count": 128,
   "metadata": {},
   "outputs": [
    {
     "name": "stdout",
     "output_type": "stream",
     "text": [
      "<function MyClass1.test_m2 at 0x000001B1472E2FC0> is called\n"
     ]
    }
   ],
   "source": [
    "a.test_m2()"
   ]
  },
  {
   "cell_type": "code",
   "execution_count": 129,
   "metadata": {},
   "outputs": [
    {
     "name": "stdout",
     "output_type": "stream",
     "text": [
      "<function MyClass1.test_m1 at 0x000001B1472E3240> is called\n"
     ]
    }
   ],
   "source": [
    "a.test_m1()"
   ]
  },
  {
   "cell_type": "markdown",
   "metadata": {},
   "source": [
    "## Pattern 5 : Sealed classes"
   ]
  },
  {
   "cell_type": "code",
   "execution_count": 130,
   "metadata": {},
   "outputs": [],
   "source": [
    "class MySealedMeta(type):\n",
    "    def __new__(cls, name, bases, attrs):\n",
    "        all_metaclasses = [type(x) for x in bases]\n",
    "        if MySealedMeta in all_metaclasses:\n",
    "            raise TypeError(\"Sealed class cannot be sublcassed\")\n",
    "        return super(MySealedMeta, cls).__new__(cls, name, bases, attrs)"
   ]
  },
  {
   "cell_type": "code",
   "execution_count": 131,
   "metadata": {},
   "outputs": [],
   "source": [
    "class MySealedClass(metaclass=MySealedMeta):\n",
    "    pass"
   ]
  },
  {
   "cell_type": "code",
   "execution_count": 132,
   "metadata": {},
   "outputs": [
    {
     "name": "stdout",
     "output_type": "stream",
     "text": [
      "Sealed class cannot be sublcassed\n"
     ]
    }
   ],
   "source": [
    "try:\n",
    "\n",
    "    class MyChildOfSealed(MySealedClass):\n",
    "        pass\n",
    "\n",
    "except TypeError as ex:\n",
    "    print(ex)"
   ]
  }
 ],
 "metadata": {
  "kernelspec": {
   "display_name": "Python 3",
   "language": "python",
   "name": "python3"
  },
  "language_info": {
   "codemirror_mode": {
    "name": "ipython",
    "version": 3
   },
   "file_extension": ".py",
   "mimetype": "text/x-python",
   "name": "python",
   "nbconvert_exporter": "python",
   "pygments_lexer": "ipython3",
   "version": "3.11.2"
  }
 },
 "nbformat": 4,
 "nbformat_minor": 2
}
