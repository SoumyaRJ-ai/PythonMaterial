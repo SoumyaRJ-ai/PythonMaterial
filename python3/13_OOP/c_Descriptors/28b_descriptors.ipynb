{
 "cells": [
  {
   "cell_type": "code",
   "execution_count": 1,
   "metadata": {},
   "outputs": [],
   "source": [
    "from typing import Any"
   ]
  },
  {
   "cell_type": "code",
   "execution_count": 2,
   "metadata": {},
   "outputs": [
    {
     "name": "stdout",
     "output_type": "stream",
     "text": [
      "'MyClass0' object has no attribute 'value' \n",
      "\n"
     ]
    }
   ],
   "source": [
    "class MyClass0:\n",
    "    pass\n",
    "\n",
    "\n",
    "instance0 = MyClass0()\n",
    "try:\n",
    "    print(f\"{instance0.value =}\")\n",
    "except AttributeError as ex:\n",
    "    print(ex, \"\\n\")"
   ]
  },
  {
   "cell_type": "code",
   "execution_count": 3,
   "metadata": {},
   "outputs": [
    {
     "name": "stdout",
     "output_type": "stream",
     "text": [
      "__getattr__ called value\n",
      "instance1.value = None \n",
      "\n"
     ]
    }
   ],
   "source": [
    "class MyClass1:\n",
    "    def __getattr__(self, __name: str) -> Any:\n",
    "        print(\"__getattr__ called\", __name)\n",
    "\n",
    "\n",
    "instance1 = MyClass1()\n",
    "print(f\"{instance1.value = } \\n\")"
   ]
  },
  {
   "cell_type": "code",
   "execution_count": 8,
   "metadata": {},
   "outputs": [
    {
     "name": "stdout",
     "output_type": "stream",
     "text": [
      "__setattr__ called for attribute:value2 whose value is set/updated to 2222\n"
     ]
    }
   ],
   "source": [
    "class MyClass2:\n",
    "    value1 = 1111\n",
    "\n",
    "    def __init__(self) -> None:\n",
    "        self.value2 = 2222\n",
    "\n",
    "    def __setattr__(self, __name: str, __value: Any) -> None:\n",
    "        \"\"\"called whenever an attribute is created/updated\"\"\"\n",
    "        print(\n",
    "            f\"__setattr__ called for attribute:{__name} whose value is set/updated to {__value}\"\n",
    "        )\n",
    "\n",
    "    def __getattr__(self, __name: str) -> Any:\n",
    "        print(\"__getattr__ called\", __name)\n",
    "\n",
    "\n",
    "instance2 = MyClass2()"
   ]
  },
  {
   "cell_type": "code",
   "execution_count": 11,
   "metadata": {},
   "outputs": [
    {
     "name": "stdout",
     "output_type": "stream",
     "text": [
      "__getattr__ called Value\n"
     ]
    }
   ],
   "source": [
    "class MyClass3:\n",
    "    \"\"\"__getattribute__ vs__getattr__\n",
    "    __getattribute__ will intercept EVERY attribute lookup, doesn’t matter\n",
    "    if the attribute exists or not.\"\"\"\n",
    "\n",
    "    def __getattr__(self, __name: str) -> Any:\n",
    "        print(\"__getattr__ called\", __name)\n",
    "\n",
    "\n",
    "instance3 = MyClass3()\n",
    "instance3.Value"
   ]
  },
  {
   "cell_type": "code",
   "execution_count": 16,
   "metadata": {},
   "outputs": [],
   "source": [
    "class MyClass4:\n",
    "    \"\"\"\n",
    "    __getattribute__ is preferred to __getattr__ when both defined\n",
    "    \"\"\"\n",
    "\n",
    "    def __init__(self) -> None:\n",
    "        self.value1 = 111\n",
    "\n",
    "    def __getattr__(self, __name: str) -> Any:\n",
    "        print(\"__getattr__ called\", __name)\n",
    "\n",
    "    def __getattribute__(self, __name: str) -> Any:\n",
    "        print(\"__getattribute__ called\", __name)\n",
    "\n",
    "\n",
    "instance4 = MyClass4()"
   ]
  },
  {
   "cell_type": "code",
   "execution_count": 17,
   "metadata": {},
   "outputs": [
    {
     "name": "stdout",
     "output_type": "stream",
     "text": [
      "__getattribute__ called Value1\n"
     ]
    }
   ],
   "source": [
    "instance4.Value1"
   ]
  },
  {
   "cell_type": "code",
   "execution_count": 18,
   "metadata": {},
   "outputs": [
    {
     "name": "stdout",
     "output_type": "stream",
     "text": [
      "__getattribute__ called Value2\n"
     ]
    }
   ],
   "source": [
    "instance4.Value2"
   ]
  },
  {
   "cell_type": "code",
   "execution_count": 19,
   "metadata": {},
   "outputs": [],
   "source": [
    "class MyClass5:\n",
    "    \"\"\"To use __getattribute__ to simulate something similar to __getattr__\"\"\"\n",
    "\n",
    "    def __getattribute__(self, attr):\n",
    "        __dict__ = super(MyClass5, self).__getattribute__(\"__dict__\")\n",
    "        if attr in __dict__:\n",
    "            return super(MyClass5, self).__getattribute__(attr)\n",
    "        return attr.upper()\n",
    "\n",
    "\n",
    "instance5 = MyClass5()"
   ]
  },
  {
   "cell_type": "code",
   "execution_count": 20,
   "metadata": {},
   "outputs": [
    {
     "data": {
      "text/plain": [
       "'__DICT__'"
      ]
     },
     "execution_count": 20,
     "metadata": {},
     "output_type": "execute_result"
    }
   ],
   "source": [
    "vars(instance5)"
   ]
  },
  {
   "cell_type": "code",
   "execution_count": 22,
   "metadata": {},
   "outputs": [
    {
     "name": "stdout",
     "output_type": "stream",
     "text": [
      "instance5.value1 = 111\n"
     ]
    }
   ],
   "source": [
    "instance5.value1 = 111\n",
    "print(f\"{instance5.value1 = }\")"
   ]
  },
  {
   "cell_type": "code",
   "execution_count": 23,
   "metadata": {},
   "outputs": [
    {
     "name": "stdout",
     "output_type": "stream",
     "text": [
      "instance5.value2 = 'VALUE2'\n"
     ]
    }
   ],
   "source": [
    "print(f\"{instance5.value2 = }\")"
   ]
  },
  {
   "cell_type": "code",
   "execution_count": 25,
   "metadata": {},
   "outputs": [],
   "source": [
    "class MyClass6:\n",
    "    def __init__(self) -> None:\n",
    "        self.value1 = 111\n",
    "\n",
    "    def __getattr__(self, name):\n",
    "        \"\"\"Get called only when attribute is NOT DEFINED\"\"\"\n",
    "        return f\"Class does not have `{name}` attribute.\"\n",
    "\n",
    "\n",
    "instance6 = MyClass6()"
   ]
  },
  {
   "cell_type": "code",
   "execution_count": 26,
   "metadata": {},
   "outputs": [
    {
     "data": {
      "text/plain": [
       "111"
      ]
     },
     "execution_count": 26,
     "metadata": {},
     "output_type": "execute_result"
    }
   ],
   "source": [
    "instance6.value1"
   ]
  },
  {
   "cell_type": "code",
   "execution_count": 27,
   "metadata": {},
   "outputs": [
    {
     "data": {
      "text/plain": [
       "'Class does not have `value2` attribute.'"
      ]
     },
     "execution_count": 27,
     "metadata": {},
     "output_type": "execute_result"
    }
   ],
   "source": [
    "instance6.value2"
   ]
  },
  {
   "cell_type": "code",
   "execution_count": 28,
   "metadata": {},
   "outputs": [],
   "source": [
    "# Descriptors are used to transform access object properties into\n",
    "# call descriptor methods."
   ]
  },
  {
   "cell_type": "code",
   "execution_count": 29,
   "metadata": {},
   "outputs": [],
   "source": [
    "class Descriptor:\n",
    "    def __get__(self, obj, objtype):\n",
    "        print(f\"get value={self.val}\")\n",
    "        return self.val\n",
    "\n",
    "    def __set__(self, obj, val):\n",
    "        self.val = val\n",
    "\n",
    "\n",
    "class Stu:\n",
    "    age = Descriptor()\n",
    "\n",
    "\n",
    "stu = Stu()\n",
    "stu.age = 12"
   ]
  },
  {
   "cell_type": "code",
   "execution_count": 30,
   "metadata": {},
   "outputs": [
    {
     "name": "stdout",
     "output_type": "stream",
     "text": [
      "get value=12\n"
     ]
    },
    {
     "data": {
      "text/plain": [
       "12"
      ]
     },
     "execution_count": 30,
     "metadata": {},
     "output_type": "execute_result"
    }
   ],
   "source": [
    "stu.age"
   ]
  },
  {
   "cell_type": "code",
   "execution_count": 32,
   "metadata": {},
   "outputs": [],
   "source": [
    "class Stu2(Descriptor):\n",
    "    pass\n",
    "\n",
    "\n",
    "stu2 = Stu2()"
   ]
  },
  {
   "cell_type": "code",
   "execution_count": 34,
   "metadata": {},
   "outputs": [],
   "source": [
    "stu2.age = 12"
   ]
  },
  {
   "cell_type": "code",
   "execution_count": 35,
   "metadata": {},
   "outputs": [
    {
     "data": {
      "text/plain": [
       "12"
      ]
     },
     "execution_count": 35,
     "metadata": {},
     "output_type": "execute_result"
    }
   ],
   "source": [
    "stu2.age"
   ]
  },
  {
   "cell_type": "code",
   "execution_count": null,
   "metadata": {},
   "outputs": [],
   "source": []
  }
 ],
 "metadata": {
  "kernelspec": {
   "display_name": "pythonmaterial-4Fyt9FjG-py3.11",
   "language": "python",
   "name": "python3"
  },
  "language_info": {
   "codemirror_mode": {
    "name": "ipython",
    "version": 3
   },
   "file_extension": ".py",
   "mimetype": "text/x-python",
   "name": "python",
   "nbconvert_exporter": "python",
   "pygments_lexer": "ipython3",
   "version": "3.11.1"
  },
  "orig_nbformat": 4,
  "vscode": {
   "interpreter": {
    "hash": "d41ca55ab43b6c8712a0a50ace8b798dc0be2fafae45df6810e0e4e55ab49b9b"
   }
  }
 },
 "nbformat": 4,
 "nbformat_minor": 2
}
