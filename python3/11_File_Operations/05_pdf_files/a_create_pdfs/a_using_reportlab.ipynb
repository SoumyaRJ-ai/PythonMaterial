{
 "cells": [
  {
   "attachments": {},
   "cell_type": "markdown",
   "metadata": {},
   "source": [
    "## Reportlab"
   ]
  },
  {
   "cell_type": "code",
   "execution_count": 1,
   "metadata": {},
   "outputs": [],
   "source": [
    "import os\n",
    "\n",
    "os.makedirs(\"files\", exist_ok=True)\n",
    "os.chdir(\"files\")"
   ]
  },
  {
   "attachments": {},
   "cell_type": "markdown",
   "metadata": {},
   "source": [
    "### Creating pdf"
   ]
  },
  {
   "cell_type": "code",
   "execution_count": 3,
   "metadata": {},
   "outputs": [],
   "source": [
    "from reportlab.pdfgen import canvas\n",
    "\n",
    "\n",
    "def create_pdf_hello_world():\n",
    "    c = canvas.Canvas(\"hello_world.pdf\")\n",
    "    c.drawString(100, 750, \"Hello, World!\")\n",
    "    c.save()\n",
    "\n",
    "\n",
    "create_pdf_hello_world()"
   ]
  },
  {
   "attachments": {},
   "cell_type": "markdown",
   "metadata": {},
   "source": [
    "### Adding a Paragraph"
   ]
  },
  {
   "cell_type": "code",
   "execution_count": 4,
   "metadata": {},
   "outputs": [],
   "source": [
    "from reportlab.lib.pagesizes import letter\n",
    "from reportlab.platypus import SimpleDocTemplate, Paragraph\n",
    "from reportlab.lib.styles import getSampleStyleSheet\n",
    "\n",
    "\n",
    "def create_pdf_with_paragraph():\n",
    "    doc = SimpleDocTemplate(\"pdf_with_paragraph.pdf\", pagesize=letter)\n",
    "    styles = getSampleStyleSheet()\n",
    "    flowables = []\n",
    "\n",
    "    text = \"Lorem ipsum dolor sit amet, consectetur adipiscing elit.\"\n",
    "    para = Paragraph(text, styles[\"Normal\"])\n",
    "    flowables.append(para)\n",
    "\n",
    "    doc.build(flowables)\n",
    "\n",
    "\n",
    "create_pdf_with_paragraph()"
   ]
  },
  {
   "cell_type": "markdown",
   "metadata": {},
   "source": [
    "### Adding an Image"
   ]
  },
  {
   "cell_type": "code",
   "execution_count": 7,
   "metadata": {},
   "outputs": [],
   "source": [
    "from reportlab.lib.pagesizes import letter\n",
    "from reportlab.platypus import SimpleDocTemplate, Image\n",
    "\n",
    "\n",
    "def create_pdf_with_image():\n",
    "    doc = SimpleDocTemplate(\"pdf_with_image.pdf\", pagesize=letter)\n",
    "    flowables = []\n",
    "\n",
    "    image_path = \"../Python-logo.png\"\n",
    "    image = Image(image_path)\n",
    "    flowables.append(image)\n",
    "\n",
    "    doc.build(flowables)\n",
    "\n",
    "\n",
    "create_pdf_with_image()"
   ]
  },
  {
   "cell_type": "markdown",
   "metadata": {},
   "source": [
    "### Multiple Pages"
   ]
  },
  {
   "cell_type": "code",
   "execution_count": 8,
   "metadata": {},
   "outputs": [],
   "source": [
    "from reportlab.lib.pagesizes import letter\n",
    "from reportlab.platypus import SimpleDocTemplate, PageBreak, Paragraph\n",
    "from reportlab.lib.styles import getSampleStyleSheet\n",
    "\n",
    "\n",
    "def create_pdf_with_multiple_pages():\n",
    "    doc = SimpleDocTemplate(\"pdf_with_multiple_pages.pdf\", pagesize=letter)\n",
    "    styles = getSampleStyleSheet()\n",
    "    flowables = []\n",
    "\n",
    "    for i in range(5):\n",
    "        text = f\"This is page {i+1}\"\n",
    "        para = Paragraph(text, styles[\"Normal\"])\n",
    "        flowables.append(para)\n",
    "        flowables.append(PageBreak())\n",
    "\n",
    "    doc.build(flowables)\n",
    "\n",
    "\n",
    "create_pdf_with_multiple_pages()"
   ]
  },
  {
   "cell_type": "markdown",
   "metadata": {},
   "source": [
    "### Creating Tables"
   ]
  },
  {
   "attachments": {},
   "cell_type": "markdown",
   "metadata": {},
   "source": [
    "#### Simple Table"
   ]
  },
  {
   "cell_type": "code",
   "execution_count": 17,
   "metadata": {},
   "outputs": [],
   "source": [
    "from reportlab.lib.pagesizes import letter\n",
    "from reportlab.platypus import SimpleDocTemplate, Table\n",
    "\n",
    "\n",
    "def create_basic_table():\n",
    "    doc = SimpleDocTemplate(\"basic_table.pdf\", pagesize=letter)\n",
    "    elements = []\n",
    "\n",
    "    data = [\n",
    "        [\"Name\", \"Age\", \"Country\"],\n",
    "        [\"John Doe\", 25, \"USA\"],\n",
    "        [\"Jane Smith\", 30, \"Canada\"],\n",
    "        [\"Mike Johnson\", 35, \"UK\"],\n",
    "    ]\n",
    "\n",
    "    table = Table(data)\n",
    "    elements.append(table)\n",
    "\n",
    "    doc.build(elements)\n",
    "\n",
    "\n",
    "create_basic_table()"
   ]
  },
  {
   "attachments": {},
   "cell_type": "markdown",
   "metadata": {},
   "source": [
    "#### Table with Cell Styles"
   ]
  },
  {
   "cell_type": "code",
   "execution_count": 18,
   "metadata": {},
   "outputs": [],
   "source": [
    "from reportlab.lib.pagesizes import letter\n",
    "from reportlab.platypus import SimpleDocTemplate, Table\n",
    "from reportlab.lib import colors\n",
    "\n",
    "\n",
    "def create_table_with_styles():\n",
    "    doc = SimpleDocTemplate(\"table_with_styles.pdf\", pagesize=letter)\n",
    "    elements = []\n",
    "\n",
    "    data = [\n",
    "        [\"Name\", \"Age\", \"Country\"],\n",
    "        [\"John Doe\", 25, \"USA\"],\n",
    "        [\"Jane Smith\", 30, \"Canada\"],\n",
    "        [\"Mike Johnson\", 35, \"UK\"],\n",
    "    ]\n",
    "\n",
    "    table_style = [\n",
    "        (\"BACKGROUND\", (0, 0), (-1, 0), colors.gray),\n",
    "        (\"TEXTCOLOR\", (0, 0), (-1, 0), colors.whitesmoke),\n",
    "        (\"ALIGN\", (0, 0), (-1, -1), \"CENTER\"),\n",
    "    ]\n",
    "\n",
    "    table = Table(data, style=table_style)\n",
    "    elements.append(table)\n",
    "\n",
    "    doc.build(elements)\n",
    "\n",
    "\n",
    "create_table_with_styles()"
   ]
  },
  {
   "attachments": {},
   "cell_type": "markdown",
   "metadata": {},
   "source": [
    "#### Table with Column Widths"
   ]
  },
  {
   "cell_type": "code",
   "execution_count": 19,
   "metadata": {},
   "outputs": [],
   "source": [
    "from reportlab.lib.pagesizes import letter\n",
    "from reportlab.platypus import SimpleDocTemplate, Table\n",
    "\n",
    "\n",
    "def create_table_with_column_widths():\n",
    "    doc = SimpleDocTemplate(\"table_with_column_widths.pdf\", pagesize=letter)\n",
    "    elements = []\n",
    "\n",
    "    data = [\n",
    "        [\"Name\", \"Age\", \"Country\"],\n",
    "        [\"John Doe\", 25, \"USA\"],\n",
    "        [\"Jane Smith\", 30, \"Canada\"],\n",
    "        [\"Mike Johnson\", 35, \"UK\"],\n",
    "    ]\n",
    "\n",
    "    col_widths = [100, 50, 100]  # Set custom column widths\n",
    "\n",
    "    table = Table(data, colWidths=col_widths)\n",
    "    elements.append(table)\n",
    "\n",
    "    doc.build(elements)\n",
    "\n",
    "\n",
    "create_table_with_column_widths()"
   ]
  },
  {
   "attachments": {},
   "cell_type": "markdown",
   "metadata": {},
   "source": [
    "#### Table with Row and Column Spanning"
   ]
  },
  {
   "cell_type": "code",
   "execution_count": 20,
   "metadata": {},
   "outputs": [],
   "source": [
    "from reportlab.lib.pagesizes import letter\n",
    "from reportlab.platypus import SimpleDocTemplate, Table\n",
    "\n",
    "\n",
    "def create_table_with_spanning():\n",
    "    doc = SimpleDocTemplate(\"table_with_spanning.pdf\", pagesize=letter)\n",
    "    elements = []\n",
    "\n",
    "    data = [\n",
    "        [\"Name\", \"Age\", \"Country\"],\n",
    "        [\"John Doe\", 25, \"USA\"],\n",
    "        [\"Jane Smith\", 30, \"Canada\"],\n",
    "        [\"Mike Johnson\", 35, \"UK\"],\n",
    "        [\"\", \"Total\", 4],  # Spanning row with empty cell\n",
    "    ]\n",
    "\n",
    "    table_style = [\n",
    "        (\"SPAN\", (0, -1), (-1, -1)),  # Spanning the last row\n",
    "    ]\n",
    "\n",
    "    table = Table(data, style=table_style)\n",
    "    elements.append(table)\n",
    "\n",
    "    doc.build(elements)\n",
    "\n",
    "\n",
    "create_table_with_spanning()"
   ]
  },
  {
   "attachments": {},
   "cell_type": "markdown",
   "metadata": {},
   "source": [
    "#### Table with Padding"
   ]
  },
  {
   "cell_type": "code",
   "execution_count": 22,
   "metadata": {},
   "outputs": [],
   "source": [
    "from reportlab.lib.pagesizes import letter\n",
    "from reportlab.lib.styles import getSampleStyleSheet\n",
    "from reportlab.platypus import SimpleDocTemplate, Table\n",
    "from reportlab.lib import colors\n",
    "\n",
    "\n",
    "def create_table_with_padding():\n",
    "    doc = SimpleDocTemplate(\"table_with_padding.pdf\", pagesize=letter)\n",
    "    elements = []\n",
    "\n",
    "    data = [\n",
    "        [\"Name\", \"Age\", \"Country\"],\n",
    "        [\"John Doe\", 25, \"USA\"],\n",
    "        [\"Jane Smith\", 30, \"Canada\"],\n",
    "        [\"Mike Johnson\", 35, \"UK\"],\n",
    "    ]\n",
    "\n",
    "    # Create a sample stylesheet\n",
    "    styles = getSampleStyleSheet()\n",
    "    style_table = styles[\"BodyText\"]\n",
    "\n",
    "    # Set cell padding\n",
    "    table_style = [\n",
    "        (\"BACKGROUND\", (0, 0), (-1, 0), colors.gray),\n",
    "        (\"TEXTCOLOR\", (0, 0), (-1, 0), colors.whitesmoke),\n",
    "        (\"ALIGN\", (0, 0), (-1, -1), \"CENTER\"),\n",
    "        (\"FONTNAME\", (0, 0), (-1, 0), \"Helvetica-Bold\"),\n",
    "        (\"FONTSIZE\", (0, 0), (-1, 0), 12),\n",
    "        (\"TOPPADDING\", (0, 0), (-1, -1), 5),\n",
    "        (\"BOTTOMPADDING\", (0, 0), (-1, -1), 5),\n",
    "        (\"LEFTPADDING\", (0, 0), (-1, -1), 5),\n",
    "        (\"RIGHTPADDING\", (0, 0), (-1, -1), 5),\n",
    "    ]\n",
    "\n",
    "    table = Table(data, style=table_style)\n",
    "    elements.append(table)\n",
    "\n",
    "    doc.build(elements)\n",
    "\n",
    "\n",
    "create_table_with_padding()"
   ]
  },
  {
   "attachments": {},
   "cell_type": "markdown",
   "metadata": {},
   "source": [
    "### Table with colors"
   ]
  },
  {
   "cell_type": "code",
   "execution_count": 23,
   "metadata": {},
   "outputs": [],
   "source": [
    "from reportlab.lib.pagesizes import letter\n",
    "from reportlab.platypus import SimpleDocTemplate, Table\n",
    "from reportlab.lib import colors\n",
    "\n",
    "\n",
    "def create_pdf_with_table():\n",
    "    doc = SimpleDocTemplate(\"pdf_with_table_colors.pdf\", pagesize=letter)\n",
    "    elements = []\n",
    "\n",
    "    data = [\n",
    "        [\"Name\", \"Age\", \"Country\"],\n",
    "        [\"John Doe\", 25, \"USA\"],\n",
    "        [\"Jane Smith\", 30, \"Canada\"],\n",
    "        [\"Mike Johnson\", 35, \"UK\"],\n",
    "    ]\n",
    "\n",
    "    # Define table style\n",
    "    table_style = [\n",
    "        (\"BACKGROUND\", (0, 0), (-1, 0), colors.gray),\n",
    "        (\"TEXTCOLOR\", (0, 0), (-1, 0), colors.whitesmoke),\n",
    "        (\"ALIGN\", (0, 0), (-1, -1), \"CENTER\"),\n",
    "        (\"FONTNAME\", (0, 0), (-1, 0), \"Helvetica-Bold\"),\n",
    "        (\"FONTSIZE\", (0, 0), (-1, 0), 12),\n",
    "        (\"BOTTOMPADDING\", (0, 0), (-1, 0), 12),\n",
    "        (\"BACKGROUND\", (0, 1), (-1, -1), colors.beige),\n",
    "        (\"GRID\", (0, 0), (-1, -1), 1, colors.black),\n",
    "    ]\n",
    "\n",
    "    # Create table and apply style\n",
    "    table = Table(data, style=table_style)\n",
    "    elements.append(table)\n",
    "\n",
    "    doc.build(elements)\n",
    "\n",
    "\n",
    "create_pdf_with_table()"
   ]
  },
  {
   "cell_type": "markdown",
   "metadata": {},
   "source": [
    "### Canvas"
   ]
  },
  {
   "cell_type": "code",
   "execution_count": 25,
   "metadata": {},
   "outputs": [],
   "source": [
    "from reportlab.lib.pagesizes import letter\n",
    "from reportlab.lib.units import mm\n",
    "from reportlab.pdfgen import canvas\n",
    "\n",
    "\n",
    "def coord(x, y, height, unit=1):\n",
    "    x, y = x * unit, height - y * unit\n",
    "    return x, y\n",
    "\n",
    "\n",
    "c = canvas.Canvas(\"pdf_with_canvas.pdf\", pagesize=letter)\n",
    "width, height = letter\n",
    "\n",
    "c.drawString(*coord(15, 20, height, mm), text=\"Welcome to Reportlab!\")\n",
    "c.showPage()\n",
    "c.save()"
   ]
  },
  {
   "cell_type": "code",
   "execution_count": 26,
   "metadata": {},
   "outputs": [],
   "source": [
    "from reportlab.lib.units import mm\n",
    "from reportlab.pdfgen import canvas\n",
    "\n",
    "\n",
    "def coord(x, y, unit=1):\n",
    "    x, y = x * unit, y * unit\n",
    "    return x, y\n",
    "\n",
    "\n",
    "c = canvas.Canvas(\"pdf_with_canvas2.pdf\", bottomup=0)\n",
    "\n",
    "c.drawString(*coord(15, 20, mm), text=\"Welcome to Reportlab!\")\n",
    "c.showPage()\n",
    "c.save()"
   ]
  },
  {
   "attachments": {},
   "cell_type": "markdown",
   "metadata": {},
   "source": [
    "### Rotate Text"
   ]
  },
  {
   "cell_type": "code",
   "execution_count": 29,
   "metadata": {},
   "outputs": [],
   "source": [
    "from reportlab.lib.pagesizes import letter\n",
    "from reportlab.lib.units import inch\n",
    "from reportlab.pdfgen import canvas\n",
    "\n",
    "\n",
    "def rotate_demo():\n",
    "    my_canvas = canvas.Canvas(\"rotated.pdf\", pagesize=letter)\n",
    "    my_canvas.translate(inch, inch)\n",
    "    my_canvas.setFont(\"Helvetica\", 14)\n",
    "    my_canvas.drawString(inch, inch, \"Normal\")\n",
    "    my_canvas.line(inch, inch, inch + 100, inch)\n",
    "\n",
    "    my_canvas.rotate(45)\n",
    "    my_canvas.drawString(inch, -inch, \"45 degrees\")\n",
    "    my_canvas.line(inch, inch, inch + 100, inch)\n",
    "\n",
    "    my_canvas.rotate(45)\n",
    "    my_canvas.drawString(inch, -inch, \"90 degrees\")\n",
    "    my_canvas.line(inch, inch, inch + 100, inch)\n",
    "\n",
    "    my_canvas.save()\n",
    "\n",
    "\n",
    "rotate_demo()"
   ]
  },
  {
   "attachments": {},
   "cell_type": "markdown",
   "metadata": {},
   "source": [
    "### String Alignment"
   ]
  },
  {
   "cell_type": "code",
   "execution_count": 30,
   "metadata": {},
   "outputs": [],
   "source": [
    "from reportlab.lib.pagesizes import letter\n",
    "from reportlab.pdfgen import canvas\n",
    "\n",
    "\n",
    "def string_alignment(my_canvas):\n",
    "    width, height = letter\n",
    "\n",
    "    my_canvas.drawString(80, 700, \"Standard String\")\n",
    "    my_canvas.drawRightString(80, 680, \"Right String\")\n",
    "\n",
    "    numbers = [987.15, 42, -1, 234.56, (456.78)]\n",
    "    y = 650\n",
    "    for number in numbers:\n",
    "        my_canvas.drawAlignedString(80, y, str(number))\n",
    "        y -= 20\n",
    "\n",
    "    my_canvas.drawCentredString(width / 2, 550, \"Centered String\")\n",
    "\n",
    "    my_canvas.showPage()\n",
    "\n",
    "\n",
    "my_canvas = canvas.Canvas(\"string_alignment.pdf\")\n",
    "string_alignment(my_canvas)\n",
    "my_canvas.save()"
   ]
  },
  {
   "cell_type": "markdown",
   "metadata": {},
   "source": [
    "### Draw Lines"
   ]
  },
  {
   "cell_type": "code",
   "execution_count": 27,
   "metadata": {},
   "outputs": [],
   "source": [
    "from reportlab.lib.pagesizes import letter\n",
    "from reportlab.pdfgen import canvas\n",
    "\n",
    "\n",
    "def draw_lines(my_canvas):\n",
    "    my_canvas.setLineWidth(0.3)\n",
    "\n",
    "    start_y = 710\n",
    "    my_canvas.line(30, start_y, 580, start_y)\n",
    "\n",
    "    for x in range(10):\n",
    "        start_y -= 10\n",
    "        my_canvas.line(30, start_y, 580, start_y)\n",
    "\n",
    "\n",
    "my_canvas = canvas.Canvas(\"lines.pdf\", pagesize=letter)\n",
    "draw_lines(my_canvas)\n",
    "my_canvas.save()"
   ]
  },
  {
   "cell_type": "markdown",
   "metadata": {},
   "source": [
    "### Drawing Polygon"
   ]
  },
  {
   "cell_type": "code",
   "execution_count": 28,
   "metadata": {},
   "outputs": [],
   "source": [
    "from reportlab.lib.pagesizes import letter\n",
    "from reportlab.pdfgen import canvas\n",
    "\n",
    "\n",
    "def draw_shapes():\n",
    "    c = canvas.Canvas(\"polygon.pdf\")\n",
    "    c.setStrokeColorRGB(0.2, 0.5, 0.3)\n",
    "    c.rect(10, 740, 100, 80, stroke=1, fill=0)\n",
    "    c.ellipse(10, 680, 100, 630, stroke=1, fill=1)\n",
    "    c.wedge(10, 600, 100, 550, 45, 90, stroke=1, fill=0)\n",
    "    c.circle(300, 600, 50)\n",
    "    c.save()\n",
    "\n",
    "\n",
    "draw_shapes()"
   ]
  },
  {
   "cell_type": "markdown",
   "metadata": {},
   "source": [
    "### Fonts"
   ]
  },
  {
   "cell_type": "code",
   "execution_count": 31,
   "metadata": {},
   "outputs": [],
   "source": [
    "from reportlab.lib.pagesizes import letter\n",
    "from reportlab.pdfgen import canvas\n",
    "\n",
    "\n",
    "def font_demo(my_canvas, fonts):\n",
    "    pos_y = 750\n",
    "    for font in fonts:\n",
    "        my_canvas.setFont(font, 12)\n",
    "        my_canvas.drawString(30, pos_y, font)\n",
    "        pos_y -= 10\n",
    "\n",
    "\n",
    "my_canvas = canvas.Canvas(\"fonts.pdf\", pagesize=letter)\n",
    "fonts = my_canvas.getAvailableFonts()\n",
    "font_demo(my_canvas, fonts)\n",
    "my_canvas.save()"
   ]
  },
  {
   "cell_type": "code",
   "execution_count": null,
   "metadata": {},
   "outputs": [],
   "source": []
  }
 ],
 "metadata": {
  "kernelspec": {
   "display_name": "pythonmaterial-4Fyt9FjG-py3.11",
   "language": "python",
   "name": "python3"
  },
  "language_info": {
   "codemirror_mode": {
    "name": "ipython",
    "version": 3
   },
   "file_extension": ".py",
   "mimetype": "text/x-python",
   "name": "python",
   "nbconvert_exporter": "python",
   "pygments_lexer": "ipython3",
   "version": "3.11.3"
  },
  "orig_nbformat": 4
 },
 "nbformat": 4,
 "nbformat_minor": 2
}
