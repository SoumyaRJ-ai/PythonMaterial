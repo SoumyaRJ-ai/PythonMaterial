{
 "cells": [
  {
   "cell_type": "markdown",
   "metadata": {},
   "source": [
    "io module provides facilities for dealing with various types of I/O.\n",
    "    1. Text I/O\n",
    "    2. Binary I/O\n",
    "    3. Raw I/O\n",
    "    \n",
    "File object \n",
    "    - A concrete object belonging to any of these categories \n",
    "    - Also, called stream and file-like object"
   ]
  },
  {
   "cell_type": "code",
   "execution_count": 1,
   "metadata": {},
   "outputs": [],
   "source": [
    "import io"
   ]
  },
  {
   "cell_type": "code",
   "execution_count": 2,
   "metadata": {},
   "outputs": [
    {
     "name": "stdout",
     "output_type": "stream",
     "text": [
      "The io module provides the Python interfaces to stream handling. The\n",
      "builtin open function is defined in this module.\n",
      "\n",
      "At the top of the I/O hierarchy is the abstract base class IOBase. It\n",
      "defines the basic interface to a stream. Note, however, that there is no\n",
      "separation between reading and writing to streams; implementations are\n",
      "allowed to raise an OSError if they do not support a given operation.\n",
      "\n",
      "Extending IOBase is RawIOBase which deals simply with the reading and\n",
      "writing of raw bytes to a stream. FileIO subclasses RawIOBase to provide\n",
      "an interface to OS files.\n",
      "\n",
      "BufferedIOBase deals with buffering on a raw byte stream (RawIOBase). Its\n",
      "subclasses, BufferedWriter, BufferedReader, and BufferedRWPair buffer\n",
      "streams that are readable, writable, and both respectively.\n",
      "BufferedRandom provides a buffered interface to random access\n",
      "streams. BytesIO is a simple stream of in-memory bytes.\n",
      "\n",
      "Another IOBase subclass, TextIOBase, deals with the encoding and decoding\n",
      "of streams into text. TextIOWrapper, which extends it, is a buffered text\n",
      "interface to a buffered raw stream (`BufferedIOBase`). Finally, StringIO\n",
      "is an in-memory stream for text.\n",
      "\n",
      "Argument names are not part of the specification, and only the arguments\n",
      "of open() are intended to be used as keyword arguments.\n",
      "\n",
      "data:\n",
      "\n",
      "DEFAULT_BUFFER_SIZE\n",
      "\n",
      "   An int containing the default buffer size used by the module's buffered\n",
      "   I/O classes. open() uses the file's blksize (as obtained by os.stat) if\n",
      "   possible.\n",
      "\n"
     ]
    }
   ],
   "source": [
    "print(io.__doc__)"
   ]
  },
  {
   "cell_type": "code",
   "execution_count": 3,
   "metadata": {},
   "outputs": [
    {
     "name": "stdout",
     "output_type": "stream",
     "text": [
      "['BlockingIOError', 'BufferedIOBase', 'BufferedRWPair', 'BufferedRandom', 'BufferedReader', 'BufferedWriter', 'BytesIO', 'DEFAULT_BUFFER_SIZE', 'FileIO', 'IOBase', 'IncrementalNewlineDecoder', 'OpenWrapper', 'RawIOBase', 'SEEK_CUR', 'SEEK_END', 'SEEK_SET', 'StringIO', 'TextIOBase', 'TextIOWrapper', 'UnsupportedOperation', '_WindowsConsoleIO', '__all__', '__author__', '__builtins__', '__cached__', '__doc__', '__file__', '__loader__', '__name__', '__package__', '__spec__', '_io', 'abc', 'open', 'open_code']\n"
     ]
    }
   ],
   "source": [
    "print(dir(io))"
   ]
  },
  {
   "cell_type": "markdown",
   "metadata": {},
   "source": [
    "## In-memory Streams"
   ]
  },
  {
   "cell_type": "code",
   "execution_count": 4,
   "metadata": {},
   "outputs": [],
   "source": [
    "# Writing to a buffer\n",
    "output = io.StringIO()\n",
    "output.write('This goes into the buffer. ')\n",
    "print('And so does this.', file=output)"
   ]
  },
  {
   "cell_type": "code",
   "execution_count": 5,
   "metadata": {},
   "outputs": [
    {
     "name": "stdout",
     "output_type": "stream",
     "text": [
      "This goes into the buffer. And so does this.\n",
      "\n"
     ]
    }
   ],
   "source": [
    "# Retrieve the value written\n",
    "print(output.getvalue())"
   ]
  },
  {
   "cell_type": "code",
   "execution_count": 6,
   "metadata": {},
   "outputs": [],
   "source": [
    "output.close()  # discard buffer memory"
   ]
  },
  {
   "cell_type": "code",
   "execution_count": 7,
   "metadata": {},
   "outputs": [
    {
     "name": "stdout",
     "output_type": "stream",
     "text": [
      "I/O operation on closed file\n"
     ]
    }
   ],
   "source": [
    "try:\n",
    "    output.write('This goes into the buffer. ')\n",
    "except ValueError as ex:\n",
    "    print(ex)"
   ]
  },
  {
   "cell_type": "code",
   "execution_count": 8,
   "metadata": {},
   "outputs": [
    {
     "name": "stdout",
     "output_type": "stream",
     "text": [
      "Inital value for read buffer\n"
     ]
    }
   ],
   "source": [
    "# Initialize a read buffer\n",
    "input = io.StringIO('Inital value for read buffer')\n",
    "\n",
    "# Read from the buffer\n",
    "print(input.read())"
   ]
  },
  {
   "cell_type": "code",
   "execution_count": 9,
   "metadata": {},
   "outputs": [],
   "source": [
    "sentence = '''\n",
    "Welcome! Are you completely new to programming? \n",
    "If not then we presume you will be looking for information about why and \n",
    "how to get started with Python. Fortunately an experienced programmer in \n",
    "any programming language (whatever it may be) can pick up Python very quickly. \n",
    "It's also easy for beginners to use and learn, so jump in!\n",
    "'''"
   ]
  },
  {
   "cell_type": "code",
   "execution_count": 10,
   "metadata": {},
   "outputs": [
    {
     "data": {
      "text/plain": [
       "<_io.StringIO at 0x21e1d25f4c0>"
      ]
     },
     "execution_count": 10,
     "metadata": {},
     "output_type": "execute_result"
    }
   ],
   "source": [
    "stream_fh = io.StringIO(sentence)\n",
    "stream_fh"
   ]
  },
  {
   "cell_type": "code",
   "execution_count": 11,
   "metadata": {},
   "outputs": [
    {
     "data": {
      "text/plain": [
       "'\\nWelcome! '"
      ]
     },
     "execution_count": 11,
     "metadata": {},
     "output_type": "execute_result"
    }
   ],
   "source": [
    "stream_fh.read(10)"
   ]
  },
  {
   "cell_type": "code",
   "execution_count": 12,
   "metadata": {},
   "outputs": [
    {
     "data": {
      "text/plain": [
       "10"
      ]
     },
     "execution_count": 12,
     "metadata": {},
     "output_type": "execute_result"
    }
   ],
   "source": [
    "stream_fh.tell()"
   ]
  },
  {
   "cell_type": "code",
   "execution_count": 13,
   "metadata": {},
   "outputs": [
    {
     "data": {
      "text/plain": [
       "0"
      ]
     },
     "execution_count": 13,
     "metadata": {},
     "output_type": "execute_result"
    }
   ],
   "source": [
    "stream_fh.seek(0)"
   ]
  },
  {
   "cell_type": "code",
   "execution_count": 14,
   "metadata": {},
   "outputs": [
    {
     "data": {
      "text/plain": [
       "'\\nWelcome! Are yo'"
      ]
     },
     "execution_count": 14,
     "metadata": {},
     "output_type": "execute_result"
    }
   ],
   "source": [
    "stream_fh.read(16)"
   ]
  },
  {
   "cell_type": "code",
   "execution_count": 15,
   "metadata": {},
   "outputs": [
    {
     "data": {
      "text/plain": [
       "'u completely new to programming? \\n'"
      ]
     },
     "execution_count": 15,
     "metadata": {},
     "output_type": "execute_result"
    }
   ],
   "source": [
    "stream_fh.readline()"
   ]
  },
  {
   "cell_type": "code",
   "execution_count": 16,
   "metadata": {},
   "outputs": [
    {
     "data": {
      "text/plain": [
       "'If not then we presume you will be looking for information about why and \\n'"
      ]
     },
     "execution_count": 16,
     "metadata": {},
     "output_type": "execute_result"
    }
   ],
   "source": [
    "stream_fh.readline()"
   ]
  },
  {
   "cell_type": "code",
   "execution_count": 17,
   "metadata": {},
   "outputs": [
    {
     "data": {
      "text/plain": [
       "['how to get started with Python. Fortunately an experienced programmer in \\n',\n",
       " 'any programming language (whatever it may be) can pick up Python very quickly. \\n',\n",
       " \"It's also easy for beginners to use and learn, so jump in!\\n\"]"
      ]
     },
     "execution_count": 17,
     "metadata": {},
     "output_type": "execute_result"
    }
   ],
   "source": [
    "stream_fh.readlines()"
   ]
  },
  {
   "cell_type": "markdown",
   "metadata": {},
   "source": [
    "## Working with byte stream"
   ]
  },
  {
   "cell_type": "code",
   "execution_count": 18,
   "metadata": {},
   "outputs": [
    {
     "name": "stdout",
     "output_type": "stream",
     "text": [
      "b'This goes into the buffer. \\xc3\\x81\\xc3\\x87\\xc3\\x8a'\n",
      "b'Inital value for read buffer'\n"
     ]
    }
   ],
   "source": [
    "# Writing to a buffer\n",
    "output = io.BytesIO()\n",
    "output.write('This goes into the buffer. '.encode('utf-8'))\n",
    "output.write('ÁÇÊ'.encode('utf-8'))\n",
    "\n",
    "# Retrieve the value written\n",
    "print(output.getvalue())\n",
    "\n",
    "output.close()  # discard buffer memory\n",
    "\n",
    "# Initialize a read buffer\n",
    "input = io.BytesIO(b'Inital value for read buffer')\n",
    "\n",
    "# Read from the buffer\n",
    "print(input.read())"
   ]
  },
  {
   "cell_type": "markdown",
   "metadata": {},
   "source": [
    "## Wrapping Byte Streams for Text Data"
   ]
  },
  {
   "cell_type": "code",
   "execution_count": 19,
   "metadata": {},
   "outputs": [
    {
     "name": "stdout",
     "output_type": "stream",
     "text": [
      "b'This goes into the buffer. \\xc3\\x81\\xc3\\x87\\xc3\\x8a'\n",
      "Inital value for read buffer with unicode characters ÁÇÊ\n"
     ]
    }
   ],
   "source": [
    "# Writing to a buffer\n",
    "output = io.BytesIO()\n",
    "wrapper = io.TextIOWrapper(\n",
    "    output,\n",
    "    encoding='utf-8',\n",
    "    write_through=True,\n",
    ")\n",
    "wrapper.write('This goes into the buffer. ')\n",
    "wrapper.write('ÁÇÊ')\n",
    "\n",
    "# Retrieve the value written\n",
    "print(output.getvalue())\n",
    "\n",
    "output.close()  # discard buffer memory\n",
    "\n",
    "# Initialize a read buffer\n",
    "input = io.BytesIO(\n",
    "    b'Inital value for read buffer with unicode characters ' +\n",
    "    'ÁÇÊ'.encode('utf-8')\n",
    ")\n",
    "wrapper = io.TextIOWrapper(input, encoding='utf-8')\n",
    "\n",
    "# Read from the buffer\n",
    "print(wrapper.read())"
   ]
  },
  {
   "cell_type": "markdown",
   "metadata": {},
   "source": [
    "## Reading Buffer data"
   ]
  },
  {
   "cell_type": "code",
   "execution_count": 20,
   "metadata": {},
   "outputs": [
    {
     "data": {
      "text/plain": [
       "b'ab56ef'"
      ]
     },
     "execution_count": 20,
     "metadata": {},
     "output_type": "execute_result"
    }
   ],
   "source": [
    "b = io.BytesIO(b\"abcdef\")\n",
    "view = b.getbuffer()\n",
    "view[2:4] = b\"56\"\n",
    "b.getvalue()"
   ]
  },
  {
   "cell_type": "markdown",
   "metadata": {},
   "source": [
    "__Question:__ Ordinary String vs StringIO stream"
   ]
  },
  {
   "cell_type": "code",
   "execution_count": 21,
   "metadata": {},
   "outputs": [
    {
     "name": "stdout",
     "output_type": "stream",
     "text": [
      "0123456789101112131415161718192021222324252627282930313233343536373839404142434445464748495051525354555657585960616263646566676869707172737475767778798081828384858687888990919293949596979899\n"
     ]
    }
   ],
   "source": [
    "ordinary_string = ''\n",
    "for i in range(100):\n",
    "    ordinary_string += str(i)\n",
    "\n",
    "print(ordinary_string)"
   ]
  },
  {
   "cell_type": "code",
   "execution_count": 22,
   "metadata": {},
   "outputs": [
    {
     "name": "stdout",
     "output_type": "stream",
     "text": [
      "<_io.StringIO object at 0x0000021E1D25FAF0>\n",
      "0123456789101112131415161718192021222324252627282930313233343536373839404142434445464748495051525354555657585960616263646566676869707172737475767778798081828384858687888990919293949596979899\n"
     ]
    }
   ],
   "source": [
    "str_stream_string = io.StringIO()\n",
    "for i in range(100):\n",
    "    str_stream_string.write(str(i))\n",
    "\n",
    "print(str_stream_string)\n",
    "print(str_stream_string.getvalue())"
   ]
  },
  {
   "cell_type": "code",
   "execution_count": 23,
   "metadata": {},
   "outputs": [
    {
     "name": "stdout",
     "output_type": "stream",
     "text": [
      "sys.getsizeof(ordinary_string)   =239\n",
      "sys.getsizeof(str_stream_string) =136\n"
     ]
    }
   ],
   "source": [
    "import sys\n",
    "\n",
    "print(f'{sys.getsizeof(ordinary_string)   =}')\n",
    "print(f'{sys.getsizeof(str_stream_string) =}')"
   ]
  },
  {
   "cell_type": "markdown",
   "metadata": {},
   "source": [
    "__NOTE:__ streams are more memory efficient"
   ]
  },
  {
   "cell_type": "markdown",
   "metadata": {},
   "source": [
    "## Usage"
   ]
  },
  {
   "cell_type": "code",
   "execution_count": 24,
   "metadata": {},
   "outputs": [
    {
     "name": "stdout",
     "output_type": "stream",
     "text": [
      "[['a', 'b', 'c'], ['1', '2', '3']]\n"
     ]
    }
   ],
   "source": [
    "import csv\n",
    "import io\n",
    "\n",
    "reader = csv.reader(io.StringIO(\"a,b,c\\n1,2,3\"))\n",
    "print ([r for r in reader])\n",
    "# output [['a', 'b', 'c'], ['1', '2', '3']]"
   ]
  },
  {
   "cell_type": "code",
   "execution_count": 26,
   "metadata": {},
   "outputs": [
    {
     "data": {
      "text/plain": [
       "b'\\x1f\\x8b\\x08\\x00>0\\n_\\x02\\xff\\xf3H\\xcd\\xc9\\xc9W\\x08\\xcf/\\xcaI\\x01\\x00V\\xb1\\x17J\\x0b\\x00\\x00\\x00'"
      ]
     },
     "execution_count": 26,
     "metadata": {},
     "output_type": "execute_result"
    }
   ],
   "source": [
    "import gzip\n",
    "import io\n",
    "\n",
    "byte_stream = io.BytesIO()\n",
    "gzip_file = gzip.GzipFile(fileobj=byte_stream, mode='wb')\n",
    "gzip_file.write(b'Hello World')\n",
    "gzip_file.close()\n",
    "\n",
    "byte_stream.getvalue()"
   ]
  },
  {
   "cell_type": "code",
   "execution_count": 27,
   "metadata": {},
   "outputs": [
    {
     "data": {
      "text/plain": [
       "b'\\x1f\\x8b\\x08\\x00>0\\n_\\x02\\xff\\xf3H\\xcd\\xc9\\xc9W\\x08\\xcf/\\xcaI\\x01\\x00V\\xb1\\x17J\\x0b\\x00\\x00\\x00'"
      ]
     },
     "execution_count": 27,
     "metadata": {},
     "output_type": "execute_result"
    }
   ],
   "source": [
    "byte_stream.getvalue()"
   ]
  }
 ],
 "metadata": {
  "kernelspec": {
   "display_name": "Python 3.8.2 64-bit",
   "language": "python",
   "name": "python38264bit9d9bc96b9f9b47279ec6d81cef01a82e"
  },
  "language_info": {
   "codemirror_mode": {
    "name": "ipython",
    "version": 3
   },
   "file_extension": ".py",
   "mimetype": "text/x-python",
   "name": "python",
   "nbconvert_exporter": "python",
   "pygments_lexer": "ipython3",
   "version": "3.8.3"
  }
 },
 "nbformat": 4,
 "nbformat_minor": 4
}
