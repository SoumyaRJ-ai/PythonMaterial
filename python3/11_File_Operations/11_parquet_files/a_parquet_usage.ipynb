{
 "cells": [
  {
   "attachments": {},
   "cell_type": "markdown",
   "metadata": {},
   "source": [
    "## Parquet files\n",
    "\n",
    "    pip install pyarrow pandas\n"
   ]
  },
  {
   "cell_type": "code",
   "execution_count": 1,
   "metadata": {},
   "outputs": [],
   "source": [
    "import os\n",
    "\n",
    "os.makedirs(\"files\", exist_ok=True)\n",
    "os.chdir(\"files\")"
   ]
  },
  {
   "cell_type": "code",
   "execution_count": 2,
   "metadata": {},
   "outputs": [],
   "source": [
    "import pyarrow as pa\n",
    "import pyarrow.parquet as pq\n",
    "import pandas as pd\n",
    "\n",
    "integer_data = [1, 2, 3, 4, 5]\n",
    "# table = pa.Table.from_pandas({'integer_column': integer_data})\n",
    "\n",
    "df = pd.DataFrame({\"integer_column\": integer_data})\n",
    "table = pa.Table.from_pandas(df)\n",
    "pq.write_table(table, \"integer_data.parquet\")"
   ]
  },
  {
   "cell_type": "code",
   "execution_count": 3,
   "metadata": {},
   "outputs": [
    {
     "name": "stdout",
     "output_type": "stream",
     "text": [
      "PAR1\u0015\u0004\u0015P\u0015@L\u0015\n",
      "\u0015\u0000\u0012\u0000\u0000(\u0004\u0001\u0000\t\u0001\u0000\u0002\t\u0007\u0004\u0000\u0003\n",
      "\b<\u0004\u0000\u0000\u0000\u0000\u0000\u0000\u0000\u0005\u0000\u0000\u0000\u0000\u0000\u0000\u0000\u0015\u0000\u0015\u0016\u0015\u001a,\u0015\n",
      "\u0015\u0010\u0015\u0006\u0015\u0006\u001c\u0005\u0000\u0000\u0000\u0000\u0000\u0000\u0000\u0001\u0000\u0000\u0000\u0000\u0000\u0000\u0000\u0016\u0000\u0005\u0000\u0000\u0000\u0000\u0000\u0000\u0000\u0001\u0000\u0000\u0000\u0000\u0000\u0000\u0000\u0000\u0000\u0000\u000b(\u0002\u0000\u0000\u0000\n",
      "\u0001\u0003\u0003�F\u0000&�\u0001\u001c\u0015\u0004\u00195\u0010\u0000\u0006\u0019\u0018\u000einteger_column\u0015\u0002\u0016\n",
      "\u0016�\u0001\u0016�\u0001&d\u001c\u0005\u0000\u0000\u0000\u0000\u0000\u0000\u0000\u0001\u0000\u0000\u0000\u0000\u0000\u0000\u0000\u0016\u0000\u0005\u0000\u0000\u0000\u0000\u0000\u0000\u0000\u0001\u0000\u0000\u0000\u0000\u0000\u0000\u0000\u0000\u0019,\u0015\u0004\u0015\u0000\u0015\u0002\u0000\u0015\u0000\u0015\u0010\u0015\u0002\u0000\u0000\u0000\u0015\u0004\u0019,5\u0000\u0018\u0006schema\u0015\u0002\u0000\u0015\u0004%\u0002\u0018\u000einteger_column\u0000\u0016\n",
      "\u0019\u001c\u0019\u001c&�\u0001\u001c\u0015\u0004\u00195\u0010\u0000\u0006\u0019\u0018\u000einteger_column\u0015\u0002\u0016\n",
      "\u0016�\u0001\u0016�\u0001&d\u001c\u0005\u0000\u0000\u0000\u0000\u0000\u0000\u0000\u0001\u0000\u0000\u0000\u0000\u0000\u0000\u0000\u0016\u0000\u0005\u0000\u0000\u0000\u0000\u0000\u0000\u0000\u0001\u0000\u0000\u0000\u0000\u0000\u0000\u0000\u0000\u0019,\u0015\u0004\u0015\u0000\u0015\u0002\u0000\u0015\u0000\u0015\u0010\u0015\u0002\u0000\u0000\u0000\u0016�\u0001\u0016\n",
      "\u0016�\u0001\u0014\u0000\u0000\u0019,\u0018\u0006pandas\u0018�\u0003{\"index_columns\": [{\"kind\": \"range\", \"name\": null, \"start\": 0, \"stop\": 5, \"step\": 1}], \"column_indexes\": [{\"name\": null, \"field_name\": null, \"pandas_type\": \"unicode\", \"numpy_type\": \"object\", \"metadata\": {\"encoding\": \"UTF-8\"}}], \"columns\": [{\"name\": \"integer_column\", \"field_name\": \"integer_column\", \"pandas_type\": \"int64\", \"numpy_type\": \"int64\", \"metadata\": null}], \"creator\": {\"library\": \"pyarrow\", \"version\": \"11.0.0\"}, \"pandas_version\": \"2.0.2\"}\u0000\u0018\fARROW:schema\u0018�\u0006/////4ACAAAQAAAAAAAKAA4ABgAFAAgACgAAAAABBAAQAAAAAAAKAAwAAAAEAAgACgAAAPgBAAAEAAAAAQAAAAwAAAAIAAwABAAIAAgAAAAIAAAAEAAAAAYAAABwYW5kYXMAAMABAAB7ImluZGV4X2NvbHVtbnMiOiBbeyJraW5kIjogInJhbmdlIiwgIm5hbWUiOiBudWxsLCAic3RhcnQiOiAwLCAic3RvcCI6IDUsICJzdGVwIjogMX1dLCAiY29sdW1uX2luZGV4ZXMiOiBbeyJuYW1lIjogbnVsbCwgImZpZWxkX25hbWUiOiBudWxsLCAicGFuZGFzX3R5cGUiOiAidW5pY29kZSIsICJudW1weV90eXBlIjogIm9iamVjdCIsICJtZXRhZGF0YSI6IHsiZW5jb2RpbmciOiAiVVRGLTgifX1dLCAiY29sdW1ucyI6IFt7Im5hbWUiOiAiaW50ZWdlcl9jb2x1bW4iLCAiZmllbGRfbmFtZSI6ICJpbnRlZ2VyX2NvbHVtbiIsICJwYW5kYXNfdHlwZSI6ICJpbnQ2NCIsICJudW1weV90eXBlIjogImludDY0IiwgIm1ldGFkYXRhIjogbnVsbH1dLCAiY3JlYXRvciI6IHsibGlicmFyeSI6ICJweWFycm93IiwgInZlcnNpb24iOiAiMTEuMC4wIn0sICJwYW5kYXNfdmVyc2lvbiI6ICIyLjAuMiJ9AAAAAAEAAAAUAAAAEAAUAAgABgAHAAwAAAAQABAAAAAAAAECEAAAACgAAAAEAAAAAAAAAA4AAABpbnRlZ2VyX2NvbHVtbgAACAAMAAgABwAIAAAAAAAAAUAAAAAAAAAA\u0000\u0018 parquet-cpp-arrow version 11.0.0\u0019\u001c\u001c\u0000\u0000\u0000\t\u0006\u0000\u0000PAR1\n"
     ]
    }
   ],
   "source": [
    "! cat integer_data.parquet"
   ]
  },
  {
   "cell_type": "code",
   "execution_count": 4,
   "metadata": {},
   "outputs": [
    {
     "name": "stdout",
     "output_type": "stream",
     "text": [
      "PAR1\u0015\u0004\u0015P\u0015@L\u0015\n",
      "\u0015\u0000\u0012\u0000\u0000(\u0004\u0001\u0000\t\u0001\u0000\u0002\t\u0007\u0004\u0000\u0003\n",
      "\b<\u0004\u0000\u0000\u0000\u0000\u0000\u0000\u0000\u0005\u0000\u0000\u0000\u0000\u0000\u0000\u0000\u0015\u0000\u0015\u0016\u0015\u001a,\u0015\n",
      "\u0015\u0010\u0015\u0006\u0015\u0006\u001c\u0005\u0000\u0000\u0000\u0000\u0000\u0000\u0000\u0001\u0000\u0000\u0000\u0000\u0000\u0000\u0000\u0016\u0000\u0005\u0000\u0000\u0000\u0000\u0000\u0000\u0000\u0001\u0000\u0000\u0000\u0000\u0000\u0000\u0000\u0000\u0000\u0000\u000b(\u0002\u0000\u0000\u0000\n",
      "\u0001\u0003\u0003�F\u0000&�\u0001\u001c\u0015\u0004\u00195\u0010\u0000\u0006\u0019\u0018\u000einteger_column\u0015\u0002\u0016\n",
      "\u0016�\u0001\u0016�\u0001&d\u001c\u0005\u0000\u0000\u0000\u0000\u0000\u0000\u0000\u0001\u0000\u0000\u0000\u0000\u0000\u0000\u0000\u0016\u0000\u0005\u0000\u0000\u0000\u0000\u0000\u0000\u0000\u0001\u0000\u0000\u0000\u0000\u0000\u0000\u0000\u0000\u0019,\u0015\u0004\u0015\u0000\u0015\u0002\u0000\u0015\u0000\u0015\u0010\u0015\u0002\u0000\u0000\u0000\u0015\u0004\u0019,5\u0000\u0018\u0006schema\u0015\u0002\u0000\u0015\u0004%\u0002\u0018\u000einteger_column\u0000\u0016\n",
      "\u0019\u001c\u0019\u001c&�\u0001\u001c\u0015\u0004\u00195\u0010\u0000\u0006\u0019\u0018\u000einteger_column\u0015\u0002\u0016\n",
      "\u0016�\u0001\u0016�\u0001&d\u001c\u0005\u0000\u0000\u0000\u0000\u0000\u0000\u0000\u0001\u0000\u0000\u0000\u0000\u0000\u0000\u0000\u0016\u0000\u0005\u0000\u0000\u0000\u0000\u0000\u0000\u0000\u0001\u0000\u0000\u0000\u0000\u0000\u0000\u0000\u0000\u0019,\u0015\u0004\u0015\u0000\u0015\u0002\u0000\u0015\u0000\u0015\u0010\u0015\u0002\u0000\u0000\u0000\u0016�\u0001\u0016\n",
      "\u0016�\u0001\u0014\u0000\u0000\u0019,\u0018\u0006pandas\u0018�\u0003{\"index_columns\": [{\"kind\": \"range\", \"name\": null, \"start\": 0, \"stop\": 5, \"step\": 1}], \"column_indexes\": [{\"name\": null, \"field_name\": null, \"pandas_type\": \"unicode\", \"numpy_type\": \"object\", \"metadata\": {\"encoding\": \"UTF-8\"}}], \"columns\": [{\"name\": \"integer_column\", \"field_name\": \"integer_column\", \"pandas_type\": \"int64\", \"numpy_type\": \"int64\", \"metadata\": null}], \"creator\": {\"library\": \"pyarrow\", \"version\": \"11.0.0\"}, \"pandas_version\": \"2.0.2\"}\u0000\u0018\fARROW:schema\u0018�\u0006/////4ACAAAQAAAAAAAKAA4ABgAFAAgACgAAAAABBAAQAAAAAAAKAAwAAAAEAAgACgAAAPgBAAAEAAAAAQAAAAwAAAAIAAwABAAIAAgAAAAIAAAAEAAAAAYAAABwYW5kYXMAAMABAAB7ImluZGV4X2NvbHVtbnMiOiBbeyJraW5kIjogInJhbmdlIiwgIm5hbWUiOiBudWxsLCAic3RhcnQiOiAwLCAic3RvcCI6IDUsICJzdGVwIjogMX1dLCAiY29sdW1uX2luZGV4ZXMiOiBbeyJuYW1lIjogbnVsbCwgImZpZWxkX25hbWUiOiBudWxsLCAicGFuZGFzX3R5cGUiOiAidW5pY29kZSIsICJudW1weV90eXBlIjogIm9iamVjdCIsICJtZXRhZGF0YSI6IHsiZW5jb2RpbmciOiAiVVRGLTgifX1dLCAiY29sdW1ucyI6IFt7Im5hbWUiOiAiaW50ZWdlcl9jb2x1bW4iLCAiZmllbGRfbmFtZSI6ICJpbnRlZ2VyX2NvbHVtbiIsICJwYW5kYXNfdHlwZSI6ICJpbnQ2NCIsICJudW1weV90eXBlIjogImludDY0IiwgIm1ldGFkYXRhIjogbnVsbH1dLCAiY3JlYXRvciI6IHsibGlicmFyeSI6ICJweWFycm93IiwgInZlcnNpb24iOiAiMTEuMC4wIn0sICJwYW5kYXNfdmVyc2lvbiI6ICIyLjAuMiJ9AAAAAAEAAAAUAAAAEAAUAAgABgAHAAwAAAAQABAAAAAAAAECEAAAACgAAAAEAAAAAAAAAA4AAABpbnRlZ2VyX2NvbHVtbgAACAAMAAgABwAIAAAAAAAAAUAAAAAAAAAA\u0000\u0018 parquet-cpp-arrow version 11.0.0\u0019\u001c\u001c\u0000\u0000\u0000\t\u0006\u0000\u0000PAR1\n"
     ]
    }
   ],
   "source": [
    "df.to_parquet(\"integer_data2.parquet\")\n",
    "\n",
    "! cat integer_data2.parquet"
   ]
  },
  {
   "cell_type": "code",
   "execution_count": 5,
   "metadata": {},
   "outputs": [
    {
     "name": "stdout",
     "output_type": "stream",
     "text": [
      "PAR1\u0015\u0004\u0015P\u0015DL\u0015\n",
      "\u0015\u0000\u0012\u0000\u0000\u001f\u0000\u0000\u0000\u0000\u0000\u0000\n",
      "cd�\u0000&(�\f�Y�4+�\u0006\u0000(I��(\u0000\u0000\u0000\u0015\u0000\u0015\u0016\u0015>,\u0015\n",
      "\u0015\u0010\u0015\u0006\u0015\u0006\u001c\u0005\u0000\u0000\u0000\u0000\u0000\u0000\u0000\u0001\u0000\u0000\u0000\u0000\u0000\u0000\u0000\u0016\u0000\u0005\u0000\u0000\u0000\u0000\u0000\u0000\u0000\u0001\u0000\u0000\u0000\u0000\u0000\u0000\u0000\u0000\u0000\u0000\u001f\u0000\u0000\u0000\u0000\u0000\u0000\n",
      "cb``�bdf�pc\u0000\u0000C��@\u000b\u0000\u0000\u0000&�\u0002\u001c\u0015\u0004\u00195\u0010\u0000\u0006\u0019\u0018\u000einteger_column\u0015\u0004\u0016\n",
      "\u0016�\u0001\u0016�\u0002&h\u001c\u0005\u0000\u0000\u0000\u0000\u0000\u0000\u0000\u0001\u0000\u0000\u0000\u0000\u0000\u0000\u0000\u0016\u0000\u0005\u0000\u0000\u0000\u0000\u0000\u0000\u0000\u0001\u0000\u0000\u0000\u0000\u0000\u0000\u0000\u0000\u0019,\u0015\u0004\u0015\u0000\u0015\u0002\u0000\u0015\u0000\u0015\u0010\u0015\u0002\u0000\u0000\u0000\u0015\u0004\u0019,5\u0000\u0018\u0006schema\u0015\u0002\u0000\u0015\u0004%\u0002\u0018\u000einteger_column\u0000\u0016\n",
      "\u0019\u001c\u0019\u001c&�\u0002\u001c\u0015\u0004\u00195\u0010\u0000\u0006\u0019\u0018\u000einteger_column\u0015\u0004\u0016\n",
      "\u0016�\u0001\u0016�\u0002&h\u001c\u0005\u0000\u0000\u0000\u0000\u0000\u0000\u0000\u0001\u0000\u0000\u0000\u0000\u0000\u0000\u0000\u0016\u0000\u0005\u0000\u0000\u0000\u0000\u0000\u0000\u0000\u0001\u0000\u0000\u0000\u0000\u0000\u0000\u0000\u0000\u0019,\u0015\u0004\u0015\u0000\u0015\u0002\u0000\u0015\u0000\u0015\u0010\u0015\u0002\u0000\u0000\u0000\u0016�\u0001\u0016\n",
      "\u0016�\u0002\u0014\u0000\u0000\u0019,\u0018\u0006pandas\u0018�\u0003{\"index_columns\": [{\"kind\": \"range\", \"name\": null, \"start\": 0, \"stop\": 5, \"step\": 1}], \"column_indexes\": [{\"name\": null, \"field_name\": null, \"pandas_type\": \"unicode\", \"numpy_type\": \"object\", \"metadata\": {\"encoding\": \"UTF-8\"}}], \"columns\": [{\"name\": \"integer_column\", \"field_name\": \"integer_column\", \"pandas_type\": \"int64\", \"numpy_type\": \"int64\", \"metadata\": null}], \"creator\": {\"library\": \"pyarrow\", \"version\": \"11.0.0\"}, \"pandas_version\": \"2.0.2\"}\u0000\u0018\fARROW:schema\u0018�\u0006/////4ACAAAQAAAAAAAKAA4ABgAFAAgACgAAAAABBAAQAAAAAAAKAAwAAAAEAAgACgAAAPgBAAAEAAAAAQAAAAwAAAAIAAwABAAIAAgAAAAIAAAAEAAAAAYAAABwYW5kYXMAAMABAAB7ImluZGV4X2NvbHVtbnMiOiBbeyJraW5kIjogInJhbmdlIiwgIm5hbWUiOiBudWxsLCAic3RhcnQiOiAwLCAic3RvcCI6IDUsICJzdGVwIjogMX1dLCAiY29sdW1uX2luZGV4ZXMiOiBbeyJuYW1lIjogbnVsbCwgImZpZWxkX25hbWUiOiBudWxsLCAicGFuZGFzX3R5cGUiOiAidW5pY29kZSIsICJudW1weV90eXBlIjogIm9iamVjdCIsICJtZXRhZGF0YSI6IHsiZW5jb2RpbmciOiAiVVRGLTgifX1dLCAiY29sdW1ucyI6IFt7Im5hbWUiOiAiaW50ZWdlcl9jb2x1bW4iLCAiZmllbGRfbmFtZSI6ICJpbnRlZ2VyX2NvbHVtbiIsICJwYW5kYXNfdHlwZSI6ICJpbnQ2NCIsICJudW1weV90eXBlIjogImludDY0IiwgIm1ldGFkYXRhIjogbnVsbH1dLCAiY3JlYXRvciI6IHsibGlicmFyeSI6ICJweWFycm93IiwgInZlcnNpb24iOiAiMTEuMC4wIn0sICJwYW5kYXNfdmVyc2lvbiI6ICIyLjAuMiJ9AAAAAAEAAAAUAAAAEAAUAAgABgAHAAwAAAAQABAAAAAAAAECEAAAACgAAAAEAAAAAAAAAA4AAABpbnRlZ2VyX2NvbHVtbgAACAAMAAgABwAIAAAAAAAAAUAAAAAAAAAA\u0000\u0018 parquet-cpp-arrow version 11.0.0\u0019\u001c\u001c\u0000\u0000\u0000\t\u0006\u0000\u0000PAR1\n"
     ]
    }
   ],
   "source": [
    "df.to_parquet(\"integer_data_gzip.parquet\", compression=\"gzip\")\n",
    "\n",
    "! cat integer_data_gzip.parquet"
   ]
  },
  {
   "cell_type": "code",
   "execution_count": 6,
   "metadata": {},
   "outputs": [],
   "source": [
    "float_data = [1.1, 2.2, 3.3, 4.4, 5.5]\n",
    "\n",
    "df = pd.DataFrame({\"float_column\": float_data})\n",
    "table = pa.Table.from_pandas(df)\n",
    "pq.write_table(table, \"float_data.parquet\")"
   ]
  },
  {
   "cell_type": "code",
   "execution_count": 7,
   "metadata": {},
   "outputs": [],
   "source": [
    "string_data = [\"apple\", \"banana\", \"cherry\", \"date\", \"elderberry\"]\n",
    "\n",
    "df = pd.DataFrame({\"string_column\": string_data})\n",
    "table = pa.Table.from_pandas(df)\n",
    "pq.write_table(table, \"string_data.parquet\")"
   ]
  },
  {
   "cell_type": "code",
   "execution_count": 8,
   "metadata": {},
   "outputs": [],
   "source": [
    "bool_data = [True, False, 12 == 12, 12 != 12, True]\n",
    "\n",
    "df = pd.DataFrame({\"bool_column\": bool_data})\n",
    "table = pa.Table.from_pandas(df)\n",
    "pq.write_table(table, \"bool_data.parquet\")"
   ]
  },
  {
   "cell_type": "code",
   "execution_count": 9,
   "metadata": {},
   "outputs": [],
   "source": [
    "nested_data = [[1, 2, 3], [4, 5, 6], [7, 8, 9]]\n",
    "\n",
    "df = pd.DataFrame({\"nested_column\": nested_data})\n",
    "table = pa.Table.from_pandas(df)\n",
    "pq.write_table(table, \"nested_data.parquet\")"
   ]
  },
  {
   "cell_type": "code",
   "execution_count": 10,
   "metadata": {},
   "outputs": [],
   "source": [
    "df = pd.DataFrame(\n",
    "    {\n",
    "        \"dictionary_column\": [{\"key1\": \"value1\", \"key2\": \"value2\", \"key3\": \"value3\"}],\n",
    "    }\n",
    ")\n",
    "table = pa.Table.from_pandas(df)\n",
    "pq.write_table(table, \"dictionary.parquet\")"
   ]
  },
  {
   "cell_type": "code",
   "execution_count": 11,
   "metadata": {},
   "outputs": [],
   "source": [
    "df = pd.DataFrame({\"tuple_column\": [(1, 2, 3)], \"set_column\": [list({1, 2, 3})]})\n",
    "table = pa.Table.from_pandas(df)\n",
    "pq.write_table(table, \"multiple.parquet\")"
   ]
  },
  {
   "cell_type": "code",
   "execution_count": 12,
   "metadata": {},
   "outputs": [],
   "source": [
    "df = pd.DataFrame(\n",
    "    {\n",
    "        \"date_column\": pd.to_datetime([\"2023-01-01\", \"2023-02-01\", \"2023-03-01\"]),\n",
    "        \"datetime_column\": pd.to_datetime(\n",
    "            [\"2023-01-01 10:00:00\", \"2023-02-01 12:00:00\", \"2023-03-01 14:00:00\"]\n",
    "        ),\n",
    "    }\n",
    ")\n",
    "table = pa.Table.from_pandas(df)\n",
    "pq.write_table(table, \"date_related.parquet\")"
   ]
  },
  {
   "cell_type": "markdown",
   "metadata": {},
   "source": [
    "### Retrieving data Back"
   ]
  },
  {
   "cell_type": "code",
   "execution_count": 13,
   "metadata": {},
   "outputs": [
    {
     "data": {
      "text/html": [
       "<div>\n",
       "<style scoped>\n",
       "    .dataframe tbody tr th:only-of-type {\n",
       "        vertical-align: middle;\n",
       "    }\n",
       "\n",
       "    .dataframe tbody tr th {\n",
       "        vertical-align: top;\n",
       "    }\n",
       "\n",
       "    .dataframe thead th {\n",
       "        text-align: right;\n",
       "    }\n",
       "</style>\n",
       "<table border=\"1\" class=\"dataframe\">\n",
       "  <thead>\n",
       "    <tr style=\"text-align: right;\">\n",
       "      <th></th>\n",
       "      <th>date_column</th>\n",
       "      <th>datetime_column</th>\n",
       "    </tr>\n",
       "  </thead>\n",
       "  <tbody>\n",
       "    <tr>\n",
       "      <th>0</th>\n",
       "      <td>2023-01-01</td>\n",
       "      <td>2023-01-01 10:00:00</td>\n",
       "    </tr>\n",
       "    <tr>\n",
       "      <th>1</th>\n",
       "      <td>2023-02-01</td>\n",
       "      <td>2023-02-01 12:00:00</td>\n",
       "    </tr>\n",
       "    <tr>\n",
       "      <th>2</th>\n",
       "      <td>2023-03-01</td>\n",
       "      <td>2023-03-01 14:00:00</td>\n",
       "    </tr>\n",
       "  </tbody>\n",
       "</table>\n",
       "</div>"
      ],
      "text/plain": [
       "  date_column     datetime_column\n",
       "0  2023-01-01 2023-01-01 10:00:00\n",
       "1  2023-02-01 2023-02-01 12:00:00\n",
       "2  2023-03-01 2023-03-01 14:00:00"
      ]
     },
     "execution_count": 13,
     "metadata": {},
     "output_type": "execute_result"
    }
   ],
   "source": [
    "table = pq.read_table(\"date_related.parquet\")\n",
    "df = table.to_pandas()\n",
    "df"
   ]
  },
  {
   "cell_type": "code",
   "execution_count": 14,
   "metadata": {},
   "outputs": [
    {
     "data": {
      "text/plain": [
       "{'date_column': [Timestamp('2023-01-01 00:00:00'),\n",
       "  Timestamp('2023-02-01 00:00:00'),\n",
       "  Timestamp('2023-03-01 00:00:00')],\n",
       " 'datetime_column': [Timestamp('2023-01-01 10:00:00'),\n",
       "  Timestamp('2023-02-01 12:00:00'),\n",
       "  Timestamp('2023-03-01 14:00:00')]}"
      ]
     },
     "execution_count": 14,
     "metadata": {},
     "output_type": "execute_result"
    }
   ],
   "source": [
    "table = pq.read_table(\"date_related.parquet\")\n",
    "data_dict = table.to_pandas().to_dict(orient=\"list\")\n",
    "\n",
    "data_dict"
   ]
  },
  {
   "cell_type": "code",
   "execution_count": 15,
   "metadata": {},
   "outputs": [
    {
     "data": {
      "text/plain": [
       "[[1672531200000000000, 1672567200000000000],\n",
       " [1675209600000000000, 1675252800000000000],\n",
       " [1677628800000000000, 1677679200000000000]]"
      ]
     },
     "execution_count": 15,
     "metadata": {},
     "output_type": "execute_result"
    }
   ],
   "source": [
    "table = pq.read_table(\"date_related.parquet\")\n",
    "data_list = table.to_pandas().values.tolist()\n",
    "\n",
    "data_list"
   ]
  },
  {
   "cell_type": "code",
   "execution_count": 16,
   "metadata": {},
   "outputs": [
    {
     "data": {
      "text/plain": [
       "0   2023-01-01 10:00:00\n",
       "1   2023-02-01 12:00:00\n",
       "2   2023-03-01 14:00:00\n",
       "Name: datetime_column, dtype: datetime64[ns]"
      ]
     },
     "execution_count": 16,
     "metadata": {},
     "output_type": "execute_result"
    }
   ],
   "source": [
    "table = pq.read_table(\"date_related.parquet\")\n",
    "datetime_column = table.column(\"datetime_column\").to_pandas()\n",
    "\n",
    "\n",
    "datetime_column"
   ]
  },
  {
   "cell_type": "code",
   "execution_count": 17,
   "metadata": {},
   "outputs": [
    {
     "name": "stdout",
     "output_type": "stream",
     "text": [
      "<pyarrow._parquet.ParquetSchema object at 0x0000029B368FFD00>\n",
      "required group field_id=-1 schema {\n",
      "  optional int64 field_id=-1 date_column (Timestamp(isAdjustedToUTC=false, timeUnit=microseconds, is_from_converted_type=false, force_set_converted_type=false));\n",
      "  optional int64 field_id=-1 datetime_column (Timestamp(isAdjustedToUTC=false, timeUnit=microseconds, is_from_converted_type=false, force_set_converted_type=false));\n",
      "}\n",
      "\n"
     ]
    }
   ],
   "source": [
    "parquet_file = pq.ParquetFile(\"date_related.parquet\")\n",
    "print(parquet_file.schema)"
   ]
  },
  {
   "cell_type": "code",
   "execution_count": 18,
   "metadata": {},
   "outputs": [
    {
     "name": "stdout",
     "output_type": "stream",
     "text": [
      "<pyarrow._parquet.FileMetaData object at 0x0000029B368EF740>\n",
      "  created_by: parquet-cpp-arrow version 11.0.0\n",
      "  num_columns: 2\n",
      "  num_rows: 3\n",
      "  num_row_groups: 1\n",
      "  format_version: 2.6\n",
      "  serialized_size: 2094\n"
     ]
    }
   ],
   "source": [
    "print(parquet_file.metadata)"
   ]
  },
  {
   "cell_type": "code",
   "execution_count": null,
   "metadata": {},
   "outputs": [],
   "source": []
  }
 ],
 "metadata": {
  "kernelspec": {
   "display_name": "pythonmaterial-4Fyt9FjG-py3.11",
   "language": "python",
   "name": "python3"
  },
  "language_info": {
   "codemirror_mode": {
    "name": "ipython",
    "version": 3
   },
   "file_extension": ".py",
   "mimetype": "text/x-python",
   "name": "python",
   "nbconvert_exporter": "python",
   "pygments_lexer": "ipython3",
   "version": "3.11.3"
  },
  "orig_nbformat": 4
 },
 "nbformat": 4,
 "nbformat_minor": 2
}
