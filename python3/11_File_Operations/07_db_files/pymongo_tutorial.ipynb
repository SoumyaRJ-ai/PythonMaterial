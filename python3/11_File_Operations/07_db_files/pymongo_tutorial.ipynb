{
 "cells": [
  {
   "cell_type": "code",
   "execution_count": 4,
   "metadata": {},
   "outputs": [],
   "source": [
    "import pymongo\n",
    "from pprint import pprint"
   ]
  },
  {
   "cell_type": "code",
   "execution_count": 5,
   "metadata": {},
   "outputs": [
    {
     "output_type": "execute_result",
     "data": {
      "text/plain": [
       "MongoClient(host=['localhost:27017'], document_class=dict, tz_aware=False, connect=True)"
      ]
     },
     "metadata": {},
     "execution_count": 5
    }
   ],
   "source": [
    "myclient = pymongo.MongoClient(\"mongodb://localhost:27017/\")\n",
    "myclient"
   ]
  },
  {
   "cell_type": "code",
   "execution_count": 6,
   "metadata": {},
   "outputs": [
    {
     "output_type": "execute_result",
     "data": {
      "text/plain": [
       "{'version': '4.4.0',\n",
       " 'gitVersion': '563487e100c4215e2dce98d0af2a6a5a2d67c5cf',\n",
       " 'targetMinOS': 'Windows 7/Windows Server 2008 R2',\n",
       " 'modules': [],\n",
       " 'allocator': 'tcmalloc',\n",
       " 'javascriptEngine': 'mozjs',\n",
       " 'sysInfo': 'deprecated',\n",
       " 'versionArray': [4, 4, 0, 0],\n",
       " 'openssl': {'running': 'Windows SChannel'},\n",
       " 'buildEnvironment': {'distmod': 'windows',\n",
       "  'distarch': 'x86_64',\n",
       "  'cc': 'cl: Microsoft (R) C/C++ Optimizing Compiler Version 19.26.28806 for x64',\n",
       "  'ccflags': '/nologo /EHsc /W3 /wd4068 /wd4244 /wd4267 /wd4290 /wd4351 /wd4355 /wd4373 /wd4800 /wd5041 /wd4291 /we4013 /we4099 /we4930 /WX /errorReport:none /MD /O2 /Oy- /bigobj /utf-8 /permissive- /Zc:__cplusplus /Zc:sizedDealloc /volatile:iso /diagnostics:caret /std:c++17 /Gw /Gy /Zc:inline',\n",
       "  'cxx': 'cl: Microsoft (R) C/C++ Optimizing Compiler Version 19.26.28806 for x64',\n",
       "  'cxxflags': '/TP',\n",
       "  'linkflags': '/nologo /DEBUG /INCREMENTAL:NO /LARGEADDRESSAWARE /OPT:REF',\n",
       "  'target_arch': 'x86_64',\n",
       "  'target_os': 'windows',\n",
       "  'cppdefines': 'SAFEINT_USE_INTRINSICS 0 PCRE_STATIC NDEBUG BOOST_ALL_NO_LIB _UNICODE UNICODE _SILENCE_CXX17_ALLOCATOR_VOID_DEPRECATION_WARNING _SILENCE_CXX17_OLD_ALLOCATOR_MEMBERS_DEPRECATION_WARNING _SILENCE_CXX17_CODECVT_HEADER_DEPRECATION_WARNING _CONSOLE _CRT_SECURE_NO_WARNINGS _SCL_SECURE_NO_WARNINGS _WIN32_WINNT 0x0A00 BOOST_USE_WINAPI_VERSION 0x0A00 NTDDI_VERSION 0x0A000000 BOOST_THREAD_VERSION 5 BOOST_THREAD_USES_DATETIME BOOST_SYSTEM_NO_DEPRECATED BOOST_MATH_NO_LONG_DOUBLE_MATH_FUNCTIONS BOOST_ENABLE_ASSERT_DEBUG_HANDLER BOOST_LOG_NO_SHORTHAND_NAMES BOOST_LOG_USE_NATIVE_SYSLOG BOOST_LOG_WITHOUT_THREAD_ATTR ABSL_FORCE_ALIGNED_ACCESS'},\n",
       " 'bits': 64,\n",
       " 'debug': False,\n",
       " 'maxBsonObjectSize': 16777216,\n",
       " 'storageEngines': ['biggie', 'devnull', 'ephemeralForTest', 'wiredTiger'],\n",
       " 'ok': 1.0}"
      ]
     },
     "metadata": {},
     "execution_count": 6
    }
   ],
   "source": [
    "myclient.server_info()"
   ]
  },
  {
   "cell_type": "code",
   "execution_count": 7,
   "metadata": {},
   "outputs": [
    {
     "output_type": "stream",
     "name": "stdout",
     "text": [
      "\nmyclient.address               =('localhost', 27017)\nmyclient.arbiters              =set()\nmyclient.codec_options         =CodecOptions(document_class=dict, tz_aware=False, uuid_representation=UuidRepresentation.PYTHON_LEGACY, unicode_decode_error_handler='strict', tzinfo=None, type_registry=TypeRegistry(type_codecs=[], fallback_encoder=None))\nmyclient.database              =Database(MongoClient(host=['localhost:27017'], document_class=dict, tz_aware=False, connect=True), 'database')\n\nmyclient.is_mongos             =False\nmyclient.nodes                 =frozenset({('localhost', 27017)})\nmyclient.is_primary            =True\nmyclient.primary               =None\nmyclient.secondaries           =set()\n\nmyclient.server_selection_timeout=30\nmyclient.local_threshold_ms    =15\nmyclient.max_idle_time_ms      =None\nmyclient.max_bson_size         =16777216\nmyclient.max_write_batch_size  =100000\nmyclient.max_message_size      =48000000\nmyclient.max_pool_size         =100\nmyclient.min_pool_size         =0\n\nmyclient.get_default_database  =<bound method MongoClient.get_default_database of MongoClient(host=['localhost:27017'], document_class=dict, tz_aware=False, connect=True)>\nmyclient.list_database_names() =['admin', 'config', 'flask_mongoDB', 'local']\nmyclient.list_databases()      =<pymongo.command_cursor.CommandCursor object at 0x0000021161CE9B80>\n\n"
     ]
    }
   ],
   "source": [
    "print(f'''\n",
    "{myclient.address               =}\n",
    "{myclient.arbiters              =}\n",
    "{myclient.codec_options         =}\n",
    "{myclient.database              =}\n",
    "\n",
    "{myclient.is_mongos             =}\n",
    "{myclient.nodes                 =}\n",
    "{myclient.is_primary            =}\n",
    "{myclient.primary               =}\n",
    "{myclient.secondaries           =}\n",
    "\n",
    "{myclient.server_selection_timeout=}\n",
    "{myclient.local_threshold_ms    =}\n",
    "{myclient.max_idle_time_ms      =}\n",
    "{myclient.max_bson_size         =}\n",
    "{myclient.max_write_batch_size  =}\n",
    "{myclient.max_message_size      =}\n",
    "{myclient.max_pool_size         =}\n",
    "{myclient.min_pool_size         =}\n",
    "\n",
    "{myclient.get_default_database  =}\n",
    "{myclient.list_database_names() =}\n",
    "{myclient.list_databases()      =}\n",
    "''')\n",
    "\n",
    "# 'close', 'close_cursor', 'drop_database', 'event_listeners', 'fsync', 'get_database', \n",
    "#  'kill_cursors', 'next', 'read_concern',  'read_preference', 'retry_reads', 'retry_writes', \n",
    "# 'set_cursor_manager','start_session', 'unlock', 'watch', 'write_concern'"
   ]
  },
  {
   "cell_type": "markdown",
   "metadata": {},
   "source": [
    "### Creating a Database"
   ]
  },
  {
   "cell_type": "code",
   "execution_count": 8,
   "metadata": {},
   "outputs": [
    {
     "output_type": "execute_result",
     "data": {
      "text/plain": [
       "Database(MongoClient(host=['localhost:27017'], document_class=dict, tz_aware=False, connect=True), 'mydatabase')"
      ]
     },
     "metadata": {},
     "execution_count": 8
    }
   ],
   "source": [
    "mydb = myclient[\"mydatabase\"]\n",
    "mydb"
   ]
  },
  {
   "cell_type": "code",
   "execution_count": 9,
   "metadata": {},
   "outputs": [
    {
     "output_type": "stream",
     "name": "stdout",
     "text": [
      "['_BaseObject__codec_options', '_BaseObject__read_concern', '_BaseObject__read_preference', '_BaseObject__write_concern', '_Database__client', '_Database__incoming_copying_manipulators', '_Database__incoming_manipulators', '_Database__name', '_Database__outgoing_copying_manipulators', '_Database__outgoing_manipulators', '__call__', '__class__', '__delattr__', '__dict__', '__dir__', '__doc__', '__eq__', '__format__', '__ge__', '__getattr__', '__getattribute__', '__getitem__', '__gt__', '__hash__', '__init__', '__init_subclass__', '__iter__', '__le__', '__lt__', '__module__', '__ne__', '__new__', '__next__', '__reduce__', '__reduce_ex__', '__repr__', '__setattr__', '__sizeof__', '__str__', '__subclasshook__', '__weakref__', '_apply_incoming_copying_manipulators', '_apply_incoming_manipulators', '_command', '_create_or_update_user', '_current_op', '_default_role', '_fix_incoming', '_fix_outgoing', '_list_collections', '_read_preference_for', '_retryable_read_command', '_write_concern_for', 'add_son_manipulator', 'add_user', 'aggregate', 'authenticate', 'client', 'codec_options', 'collection_names', 'command', 'create_collection', 'current_op', 'dereference', 'drop_collection', 'error', 'eval', 'get_collection', 'incoming_copying_manipulators', 'incoming_manipulators', 'last_status', 'list_collection_names', 'list_collections', 'logout', 'name', 'next', 'outgoing_copying_manipulators', 'outgoing_manipulators', 'previous_error', 'profiling_info', 'profiling_level', 'read_concern', 'read_preference', 'remove_user', 'reset_error_history', 'set_profiling_level', 'system_js', 'validate_collection', 'watch', 'with_options', 'write_concern']\n"
     ]
    }
   ],
   "source": [
    "print(dir(mydb))"
   ]
  },
  {
   "cell_type": "code",
   "execution_count": 10,
   "metadata": {},
   "outputs": [
    {
     "output_type": "execute_result",
     "data": {
      "text/plain": [
       "{'connectionId': 5,\n",
       " 'n': 0,\n",
       " 'syncMillis': 0,\n",
       " 'writtenTo': None,\n",
       " 'writeConcern': {'w': 1, 'wtimeout': 0},\n",
       " 'err': None,\n",
       " 'ok': 1.0}"
      ]
     },
     "metadata": {},
     "execution_count": 10
    }
   ],
   "source": [
    "mydb.last_status()"
   ]
  },
  {
   "cell_type": "code",
   "execution_count": 11,
   "metadata": {},
   "outputs": [
    {
     "output_type": "stream",
     "name": "stdout",
     "text": [
      " \nmydb.client           =MongoClient(host=['localhost:27017'], document_class=dict, tz_aware=False, connect=True)\nmydb.name             ='mydatabase'\n\nmydb.profiling_info() =[]\nmydb.profiling_level()=0\n\n"
     ]
    }
   ],
   "source": [
    "print(f''' \n",
    "{mydb.client           =}\n",
    "{mydb.name             =}\n",
    "\n",
    "{mydb.profiling_info() =}\n",
    "{mydb.profiling_level()=}\n",
    "''')"
   ]
  },
  {
   "cell_type": "markdown",
   "metadata": {},
   "source": [
    "### Check if DB exists"
   ]
  },
  {
   "cell_type": "code",
   "execution_count": 12,
   "metadata": {},
   "outputs": [],
   "source": [
    "dblist = myclient.list_database_names()\n",
    "if \"mydatabase\" in dblist:\n",
    "    print(\"The database exists.\")"
   ]
  },
  {
   "cell_type": "markdown",
   "metadata": {},
   "source": [
    "### Creating a Collection"
   ]
  },
  {
   "cell_type": "code",
   "execution_count": 13,
   "metadata": {},
   "outputs": [
    {
     "output_type": "execute_result",
     "data": {
      "text/plain": [
       "Collection(Database(MongoClient(host=['localhost:27017'], document_class=dict, tz_aware=False, connect=True), 'mydatabase'), 'users')"
      ]
     },
     "metadata": {},
     "execution_count": 13
    }
   ],
   "source": [
    "my_col = mydb.create_collection('users')\n",
    "my_col"
   ]
  },
  {
   "cell_type": "code",
   "execution_count": 14,
   "metadata": {},
   "outputs": [
    {
     "output_type": "execute_result",
     "data": {
      "text/plain": [
       "Collection(Database(MongoClient(host=['localhost:27017'], document_class=dict, tz_aware=False, connect=True), 'mydatabase'), 'users')"
      ]
     },
     "metadata": {},
     "execution_count": 14
    }
   ],
   "source": [
    "my_col = mydb.get_collection('users')\n",
    "my_col"
   ]
  },
  {
   "cell_type": "code",
   "execution_count": 15,
   "metadata": {},
   "outputs": [],
   "source": [
    " import datetime"
   ]
  },
  {
   "cell_type": "code",
   "execution_count": 16,
   "metadata": {},
   "outputs": [],
   "source": [
    "post = {\"author\": \"Mike\",\n",
    "        \"text\": \"My first blog post!\",\n",
    "        \"tags\": [\"mongodb\", \"python\", \"pymongo\"],\n",
    "        \"date\": datetime.datetime.utcnow()}"
   ]
  },
  {
   "source": [
    "### Inserting a document"
   ],
   "cell_type": "markdown",
   "metadata": {}
  },
  {
   "cell_type": "code",
   "execution_count": 20,
   "metadata": {},
   "outputs": [
    {
     "output_type": "execute_result",
     "data": {
      "text/plain": [
       "ObjectId('601c6ba689683734edead335')"
      ]
     },
     "metadata": {},
     "execution_count": 20
    }
   ],
   "source": [
    "posts = mydb.posts\n",
    "post_id = posts.insert_one(post).inserted_id\n",
    "post_id"
   ]
  },
  {
   "cell_type": "code",
   "execution_count": 22,
   "metadata": {},
   "outputs": [
    {
     "output_type": "execute_result",
     "data": {
      "text/plain": [
       "['users', 'posts']"
      ]
     },
     "metadata": {},
     "execution_count": 22
    }
   ],
   "source": [
    "mydb.list_collection_names()"
   ]
  },
  {
   "cell_type": "code",
   "execution_count": 23,
   "metadata": {},
   "outputs": [
    {
     "output_type": "stream",
     "name": "stdout",
     "text": [
      "{'_id': ObjectId('601c6ba689683734edead335'),\n 'author': 'Mike',\n 'date': datetime.datetime(2021, 2, 4, 21, 46, 47, 644000),\n 'tags': ['mongodb', 'python', 'pymongo'],\n 'text': 'My first blog post!'}\n"
     ]
    }
   ],
   "source": [
    "pprint(posts.find_one())"
   ]
  },
  {
   "cell_type": "code",
   "execution_count": 24,
   "metadata": {},
   "outputs": [
    {
     "output_type": "stream",
     "name": "stdout",
     "text": [
      "{'_id': ObjectId('601c6ba689683734edead335'),\n 'author': 'Mike',\n 'date': datetime.datetime(2021, 2, 4, 21, 46, 47, 644000),\n 'tags': ['mongodb', 'python', 'pymongo'],\n 'text': 'My first blog post!'}\n"
     ]
    }
   ],
   "source": [
    "pprint(posts.find_one({\"author\": \"Mike\"}))"
   ]
  },
  {
   "cell_type": "code",
   "execution_count": 25,
   "metadata": {},
   "outputs": [],
   "source": [
    "posts.find_one({\"author\": \"Eliot\"})"
   ]
  },
  {
   "source": [
    "### Querying By ObjectId"
   ],
   "cell_type": "markdown",
   "metadata": {}
  },
  {
   "cell_type": "code",
   "execution_count": 26,
   "metadata": {},
   "outputs": [
    {
     "output_type": "execute_result",
     "data": {
      "text/plain": [
       "ObjectId('601c6ba689683734edead335')"
      ]
     },
     "metadata": {},
     "execution_count": 26
    }
   ],
   "source": [
    "post_id"
   ]
  },
  {
   "cell_type": "code",
   "execution_count": 27,
   "metadata": {},
   "outputs": [
    {
     "output_type": "stream",
     "name": "stdout",
     "text": [
      "{'_id': ObjectId('601c6ba689683734edead335'),\n 'author': 'Mike',\n 'date': datetime.datetime(2021, 2, 4, 21, 46, 47, 644000),\n 'tags': ['mongodb', 'python', 'pymongo'],\n 'text': 'My first blog post!'}\n"
     ]
    }
   ],
   "source": [
    "pprint(posts.find_one({\"_id\": post_id}))"
   ]
  },
  {
   "source": [
    "__Note that an ObjectId is not the same as its string representation__"
   ],
   "cell_type": "markdown",
   "metadata": {}
  },
  {
   "cell_type": "code",
   "execution_count": 28,
   "metadata": {},
   "outputs": [],
   "source": [
    "post_id_as_str = str(post_id)\n",
    "posts.find_one({\"_id\": post_id_as_str}) # No result"
   ]
  },
  {
   "cell_type": "code",
   "execution_count": 29,
   "metadata": {},
   "outputs": [],
   "source": [
    "from bson.objectid import ObjectId\n",
    "mydb.collection.find_one({'_id': ObjectId(post_id)})"
   ]
  },
  {
   "source": [
    "### Bulk inserts"
   ],
   "cell_type": "markdown",
   "metadata": {}
  },
  {
   "cell_type": "code",
   "execution_count": 30,
   "metadata": {},
   "outputs": [],
   "source": [
    "new_posts = [{\"author\": \"Mike\",\n",
    "                \"text\": \"Another post!\",\n",
    "                \"tags\": [\"bulk\", \"insert\"],\n",
    "                \"date\": datetime.datetime(2009, 11, 12, 11, 14)},\n",
    "               {\"author\": \"Eliot\",\n",
    "                \"title\": \"MongoDB is fun\",\n",
    "                \"text\": \"and pretty easy too!\",\n",
    "                \"date\": datetime.datetime(2009, 11, 10, 10, 45)}]"
   ]
  },
  {
   "cell_type": "code",
   "execution_count": 31,
   "metadata": {},
   "outputs": [
    {
     "output_type": "execute_result",
     "data": {
      "text/plain": [
       "[ObjectId('601c6e9389683734edead336'), ObjectId('601c6e9389683734edead337')]"
      ]
     },
     "metadata": {},
     "execution_count": 31
    }
   ],
   "source": [
    "result = posts.insert_many(new_posts)\n",
    "result.inserted_ids"
   ]
  },
  {
   "source": [
    "### Querying for More Than One Document"
   ],
   "cell_type": "markdown",
   "metadata": {}
  },
  {
   "cell_type": "code",
   "execution_count": 32,
   "metadata": {},
   "outputs": [
    {
     "output_type": "stream",
     "name": "stdout",
     "text": [
      "{'_id': ObjectId('601c6ba689683734edead335'),\n 'author': 'Mike',\n 'date': datetime.datetime(2021, 2, 4, 21, 46, 47, 644000),\n 'tags': ['mongodb', 'python', 'pymongo'],\n 'text': 'My first blog post!'}\n{'_id': ObjectId('601c6e9389683734edead336'),\n 'author': 'Mike',\n 'date': datetime.datetime(2009, 11, 12, 11, 14),\n 'tags': ['bulk', 'insert'],\n 'text': 'Another post!'}\n{'_id': ObjectId('601c6e9389683734edead337'),\n 'author': 'Eliot',\n 'date': datetime.datetime(2009, 11, 10, 10, 45),\n 'text': 'and pretty easy too!',\n 'title': 'MongoDB is fun'}\n"
     ]
    }
   ],
   "source": [
    "for post in posts.find():\n",
    "    pprint(post)"
   ]
  },
  {
   "cell_type": "code",
   "execution_count": 33,
   "metadata": {},
   "outputs": [
    {
     "output_type": "stream",
     "name": "stdout",
     "text": [
      "{'_id': ObjectId('601c6ba689683734edead335'),\n 'author': 'Mike',\n 'date': datetime.datetime(2021, 2, 4, 21, 46, 47, 644000),\n 'tags': ['mongodb', 'python', 'pymongo'],\n 'text': 'My first blog post!'}\n{'_id': ObjectId('601c6e9389683734edead336'),\n 'author': 'Mike',\n 'date': datetime.datetime(2009, 11, 12, 11, 14),\n 'tags': ['bulk', 'insert'],\n 'text': 'Another post!'}\n"
     ]
    }
   ],
   "source": [
    "for post in posts.find({\"author\": \"Mike\"}):\n",
    "    pprint(post)"
   ]
  },
  {
   "source": [
    "### Counting"
   ],
   "cell_type": "markdown",
   "metadata": {}
  },
  {
   "cell_type": "code",
   "execution_count": 34,
   "metadata": {},
   "outputs": [
    {
     "output_type": "execute_result",
     "data": {
      "text/plain": [
       "3"
      ]
     },
     "metadata": {},
     "execution_count": 34
    }
   ],
   "source": [
    "posts.count_documents({})"
   ]
  },
  {
   "cell_type": "code",
   "execution_count": 35,
   "metadata": {},
   "outputs": [
    {
     "output_type": "execute_result",
     "data": {
      "text/plain": [
       "2"
      ]
     },
     "metadata": {},
     "execution_count": 35
    }
   ],
   "source": [
    "posts.count_documents({\"author\": \"Mike\"})"
   ]
  },
  {
   "source": [
    "### Range Queries"
   ],
   "cell_type": "markdown",
   "metadata": {}
  },
  {
   "cell_type": "code",
   "execution_count": 36,
   "metadata": {},
   "outputs": [
    {
     "output_type": "stream",
     "name": "stdout",
     "text": [
      "{'_id': ObjectId('601c6e9389683734edead337'),\n 'author': 'Eliot',\n 'date': datetime.datetime(2009, 11, 10, 10, 45),\n 'text': 'and pretty easy too!',\n 'title': 'MongoDB is fun'}\n{'_id': ObjectId('601c6e9389683734edead336'),\n 'author': 'Mike',\n 'date': datetime.datetime(2009, 11, 12, 11, 14),\n 'tags': ['bulk', 'insert'],\n 'text': 'Another post!'}\n"
     ]
    }
   ],
   "source": [
    "d = datetime.datetime(2009, 11, 12, 12)\n",
    "for post in posts.find({\"date\": {\"$lt\": d}}).sort(\"author\"):\n",
    "    pprint(post)"
   ]
  },
  {
   "source": [
    "### Indexing"
   ],
   "cell_type": "markdown",
   "metadata": {}
  },
  {
   "cell_type": "code",
   "execution_count": 38,
   "metadata": {},
   "outputs": [
    {
     "output_type": "execute_result",
     "data": {
      "text/plain": [
       "'user_id_1'"
      ]
     },
     "metadata": {},
     "execution_count": 38
    }
   ],
   "source": [
    "result = mydb.profiles.create_index([('user_id', pymongo.ASCENDING)], unique=True)\n",
    "result"
   ]
  },
  {
   "cell_type": "code",
   "execution_count": 39,
   "metadata": {},
   "outputs": [
    {
     "output_type": "execute_result",
     "data": {
      "text/plain": [
       "['_id_', 'user_id_1']"
      ]
     },
     "metadata": {},
     "execution_count": 39
    }
   ],
   "source": [
    "sorted(mydb.profiles.index_information())"
   ]
  },
  {
   "cell_type": "code",
   "execution_count": null,
   "metadata": {},
   "outputs": [],
   "source": [
    "user_profiles = [\n",
    "     {'user_id': 211, 'name': 'Luke'},\n",
    "     {'user_id': 212, 'name': 'Ziltoid'}\n",
    "    ]\n",
    "result = mydb.profiles.insert_many(user_profiles)\n",
    "result"
   ]
  },
  {
   "cell_type": "code",
   "execution_count": null,
   "metadata": {},
   "outputs": [],
   "source": []
  }
 ],
 "metadata": {
  "kernelspec": {
   "display_name": "Python 3.8.2 64-bit",
   "language": "python",
   "name": "python38264bit9d9bc96b9f9b47279ec6d81cef01a82e"
  },
  "language_info": {
   "codemirror_mode": {
    "name": "ipython",
    "version": 3
   },
   "file_extension": ".py",
   "mimetype": "text/x-python",
   "name": "python",
   "nbconvert_exporter": "python",
   "pygments_lexer": "ipython3",
   "version": "3.9.0-final"
  }
 },
 "nbformat": 4,
 "nbformat_minor": 4
}