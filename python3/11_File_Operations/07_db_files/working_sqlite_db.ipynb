{
 "cells": [
  {
   "cell_type": "markdown",
   "metadata": {},
   "source": [
    "__Database__ \n",
    "    1. Relational \n",
    "            Ex: sqlite3, MySQL, MS SQL, Oracle\n",
    "    2. Non-Relational\n",
    "            Ex: Mongo DB, Couch DB"
   ]
  },
  {
   "cell_type": "code",
   "execution_count": 1,
   "metadata": {},
   "outputs": [],
   "source": [
    "import sqlite3"
   ]
  },
  {
   "cell_type": "markdown",
   "metadata": {},
   "source": [
    "Connecting to database; and create the db if not present"
   ]
  },
  {
   "cell_type": "code",
   "execution_count": 2,
   "metadata": {},
   "outputs": [],
   "source": [
    "conn = sqlite3.connect(\"population.db\")"
   ]
  },
  {
   "cell_type": "code",
   "execution_count": 4,
   "metadata": {},
   "outputs": [
    {
     "name": "stdout",
     "output_type": "stream",
     "text": [
      "['DataError', 'DatabaseError', 'Error', 'IntegrityError', 'InterfaceError', 'InternalError', 'NotSupportedError', 'OperationalError', 'ProgrammingError', 'Warning', '__call__', '__class__', '__delattr__', '__dir__', '__doc__', '__enter__', '__eq__', '__exit__', '__format__', '__ge__', '__getattribute__', '__gt__', '__hash__', '__init__', '__init_subclass__', '__le__', '__lt__', '__ne__', '__new__', '__reduce__', '__reduce_ex__', '__repr__', '__setattr__', '__sizeof__', '__str__', '__subclasshook__', 'backup', 'close', 'commit', 'create_aggregate', 'create_collation', 'create_function', 'cursor', 'enable_load_extension', 'execute', 'executemany', 'executescript', 'in_transaction', 'interrupt', 'isolation_level', 'iterdump', 'load_extension', 'rollback', 'row_factory', 'set_authorizer', 'set_progress_handler', 'set_trace_callback', 'text_factory', 'total_changes']\n"
     ]
    }
   ],
   "source": [
    "print(dir(conn))"
   ]
  },
  {
   "cell_type": "code",
   "execution_count": 5,
   "metadata": {},
   "outputs": [],
   "source": [
    "cur = conn.cursor()"
   ]
  },
  {
   "cell_type": "code",
   "execution_count": 6,
   "metadata": {},
   "outputs": [
    {
     "name": "stdout",
     "output_type": "stream",
     "text": [
      "['__class__', '__delattr__', '__dir__', '__doc__', '__eq__', '__format__', '__ge__', '__getattribute__', '__gt__', '__hash__', '__init__', '__init_subclass__', '__iter__', '__le__', '__lt__', '__ne__', '__new__', '__next__', '__reduce__', '__reduce_ex__', '__repr__', '__setattr__', '__sizeof__', '__str__', '__subclasshook__', 'arraysize', 'close', 'connection', 'description', 'execute', 'executemany', 'executescript', 'fetchall', 'fetchmany', 'fetchone', 'lastrowid', 'row_factory', 'rowcount', 'setinputsizes', 'setoutputsize']\n"
     ]
    }
   ],
   "source": [
    "print(dir(cur))"
   ]
  },
  {
   "cell_type": "code",
   "execution_count": 7,
   "metadata": {},
   "outputs": [
    {
     "data": {
      "text/plain": [
       "<sqlite3.Cursor at 0x5c693b0>"
      ]
     },
     "execution_count": 7,
     "metadata": {},
     "output_type": "execute_result"
    }
   ],
   "source": [
    "cur.execute(\"CREATE TABLE PopByRegion(Region TEXT, Population INTEGER)\")\n",
    "\n",
    "cur.execute(\n",
    "    \"\"\"CREATE TABLE PopByRegion \n",
    "                                (Region TEXT NOT NULL,\n",
    "                                 Population INTEGER NOT NULL, \n",
    "                             PRIMARY KEY (Region))\"\"\"\n",
    ");"
   ]
  },
  {
   "cell_type": "markdown",
   "metadata": {},
   "source": [
    "__DataType Equivalents__\n",
    "\n",
    "    -------------------------------------------------------------------\n",
    "    DB Type     Python Equivalent        Use \n",
    "    -------------------------------------------------------------------\n",
    "    NULL        None                     nothing\n",
    "    INTEGER     int (or) long            integers\n",
    "    REAL        float                    8-byte floating point numbers\n",
    "    TEXT        str (or) unicode         Strings of characters\n",
    "    BLOB        buffer                   Binary data"
   ]
  },
  {
   "cell_type": "code",
   "execution_count": 8,
   "metadata": {},
   "outputs": [
    {
     "data": {
      "text/plain": [
       "<sqlite3.Cursor at 0x5c693b0>"
      ]
     },
     "execution_count": 8,
     "metadata": {},
     "output_type": "execute_result"
    }
   ],
   "source": [
    "cur.execute('INSERT INTO PopByRegion VALUES(\"Central Africa\", 330993)')"
   ]
  },
  {
   "cell_type": "code",
   "execution_count": 9,
   "metadata": {},
   "outputs": [
    {
     "data": {
      "text/plain": [
       "<sqlite3.Cursor at 0x5c693b0>"
      ]
     },
     "execution_count": 9,
     "metadata": {},
     "output_type": "execute_result"
    }
   ],
   "source": [
    "cur.execute('INSERT INTO PopByRegion VALUES(\"Southeastern Africa\", 743112)')"
   ]
  },
  {
   "cell_type": "code",
   "execution_count": 10,
   "metadata": {},
   "outputs": [
    {
     "data": {
      "text/plain": [
       "<sqlite3.Cursor at 0x5c693b0>"
      ]
     },
     "execution_count": 10,
     "metadata": {},
     "output_type": "execute_result"
    }
   ],
   "source": [
    "cur.execute('INSERT INTO PopByRegion VALUES(\"Japan\", 100562)')"
   ]
  },
  {
   "cell_type": "code",
   "execution_count": 11,
   "metadata": {},
   "outputs": [
    {
     "data": {
      "text/plain": [
       "<sqlite3.Cursor at 0x5c693b0>"
      ]
     },
     "execution_count": 11,
     "metadata": {},
     "output_type": "execute_result"
    }
   ],
   "source": [
    "cur.execute('INSERT INTO PopByRegion VALUES(\"Northern Africa\", 1037463)')\n",
    "cur.execute('INSERT INTO PopByRegion VALUES(\"Southern Asia\", 2051941)')\n",
    "cur.execute('INSERT INTO PopByRegion VALUES(\"Asia Pacific\", 785468)')\n",
    "cur.execute('INSERT INTO PopByRegion VALUES(\"Middle East\", 687630)')\n",
    "cur.execute('INSERT INTO PopByRegion VALUES(\"Eastern Asia\", 1362955)')\n",
    "cur.execute('INSERT INTO PopByRegion VALUES(\"South America\", 593121)')\n",
    "cur.execute('INSERT INTO PopByRegion VALUES(\"Eastern Europe\", 223427)')\n",
    "cur.execute('INSERT INTO PopByRegion VALUES(\"North America\", 661157)')\n",
    "cur.execute('INSERT INTO PopByRegion VALUES(\"Western Europe\", 387933)')\n",
    "\n",
    "# ref  http://www.worldmapper.org"
   ]
  },
  {
   "cell_type": "markdown",
   "metadata": {},
   "source": [
    "__Saving changes__"
   ]
  },
  {
   "cell_type": "code",
   "execution_count": 12,
   "metadata": {},
   "outputs": [],
   "source": [
    "conn.commit()"
   ]
  },
  {
   "cell_type": "markdown",
   "metadata": {},
   "source": [
    "__Retrieving Data__"
   ]
  },
  {
   "cell_type": "code",
   "execution_count": 13,
   "metadata": {},
   "outputs": [
    {
     "name": "stdout",
     "output_type": "stream",
     "text": [
      "('Central Africa', 330993)\n"
     ]
    }
   ],
   "source": [
    "cur.execute(\"SELECT Region, Population FROM PopByRegion\")\n",
    "\n",
    "print(cur.fetchone())"
   ]
  },
  {
   "cell_type": "markdown",
   "metadata": {},
   "source": [
    "__fetchone__ method returns each record as a tuple, in order specified in query.\n",
    "If no more records found, It will return __None__."
   ]
  },
  {
   "cell_type": "code",
   "execution_count": 14,
   "metadata": {},
   "outputs": [
    {
     "name": "stdout",
     "output_type": "stream",
     "text": [
      "('Southeastern Africa', 743112)\n"
     ]
    }
   ],
   "source": [
    "print(cur.fetchone())"
   ]
  },
  {
   "cell_type": "code",
   "execution_count": 15,
   "metadata": {},
   "outputs": [
    {
     "name": "stdout",
     "output_type": "stream",
     "text": [
      "[('Japan', 100562), ('Northern Africa', 1037463), ('Southern Asia', 2051941), ('Asia Pacific', 785468), ('Middle East', 687630), ('Eastern Asia', 1362955), ('South America', 593121), ('Eastern Europe', 223427), ('North America', 661157), ('Western Europe', 387933)]\n"
     ]
    }
   ],
   "source": [
    "print(cur.fetchall())"
   ]
  },
  {
   "cell_type": "code",
   "execution_count": 16,
   "metadata": {},
   "outputs": [
    {
     "data": {
      "text/plain": [
       "[('Asia Pacific', 785468),\n",
       " ('Central Africa', 330993),\n",
       " ('Eastern Asia', 1362955),\n",
       " ('Eastern Europe', 223427),\n",
       " ('Japan', 100562),\n",
       " ('Middle East', 687630),\n",
       " ('North America', 661157),\n",
       " ('Northern Africa', 1037463),\n",
       " ('South America', 593121),\n",
       " ('Southeastern Africa', 743112),\n",
       " ('Southern Asia', 2051941),\n",
       " ('Western Europe', 387933)]"
      ]
     },
     "execution_count": 16,
     "metadata": {},
     "output_type": "execute_result"
    }
   ],
   "source": [
    "# Re-querying\n",
    "cur.execute(\"SELECT Region, Population FROM PopByRegion ORDER BY Region\")\n",
    "cur.fetchall()"
   ]
  },
  {
   "cell_type": "code",
   "execution_count": 17,
   "metadata": {},
   "outputs": [
    {
     "data": {
      "text/plain": [
       "[('Southern Asia', 2051941),\n",
       " ('Eastern Asia', 1362955),\n",
       " ('Northern Africa', 1037463),\n",
       " ('Asia Pacific', 785468),\n",
       " ('Southeastern Africa', 743112),\n",
       " ('Middle East', 687630),\n",
       " ('North America', 661157),\n",
       " ('South America', 593121),\n",
       " ('Western Europe', 387933),\n",
       " ('Central Africa', 330993),\n",
       " ('Eastern Europe', 223427),\n",
       " ('Japan', 100562)]"
      ]
     },
     "execution_count": 17,
     "metadata": {},
     "output_type": "execute_result"
    }
   ],
   "source": [
    "cur.execute(\"SELECT Region, Population FROM PopByRegion ORDER BY Population DESC\")\n",
    "cur.fetchall()"
   ]
  },
  {
   "cell_type": "code",
   "execution_count": 18,
   "metadata": {},
   "outputs": [
    {
     "data": {
      "text/plain": [
       "[('Central Africa',),\n",
       " ('Southeastern Africa',),\n",
       " ('Japan',),\n",
       " ('Northern Africa',),\n",
       " ('Southern Asia',),\n",
       " ('Asia Pacific',),\n",
       " ('Middle East',),\n",
       " ('Eastern Asia',),\n",
       " ('South America',),\n",
       " ('Eastern Europe',),\n",
       " ('North America',),\n",
       " ('Western Europe',)]"
      ]
     },
     "execution_count": 18,
     "metadata": {},
     "output_type": "execute_result"
    }
   ],
   "source": [
    "cur.execute(\"SELECT Region FROM PopByRegion\")\n",
    "cur.fetchall()"
   ]
  },
  {
   "cell_type": "code",
   "execution_count": 19,
   "metadata": {},
   "outputs": [
    {
     "data": {
      "text/plain": [
       "[('Central Africa', 330993),\n",
       " ('Southeastern Africa', 743112),\n",
       " ('Japan', 100562),\n",
       " ('Northern Africa', 1037463),\n",
       " ('Southern Asia', 2051941),\n",
       " ('Asia Pacific', 785468),\n",
       " ('Middle East', 687630),\n",
       " ('Eastern Asia', 1362955),\n",
       " ('South America', 593121),\n",
       " ('Eastern Europe', 223427),\n",
       " ('North America', 661157),\n",
       " ('Western Europe', 387933)]"
      ]
     },
     "execution_count": 19,
     "metadata": {},
     "output_type": "execute_result"
    }
   ],
   "source": [
    "cur.execute(\"SELECT * FROM PopByRegion\")\n",
    "cur.fetchall()"
   ]
  },
  {
   "cell_type": "markdown",
   "metadata": {},
   "source": [
    "__Query Conditions__\n",
    "\n",
    "SQL Relational operations\n",
    "\n",
    "    ------------------------------------------------\n",
    "    Operator         Description\n",
    "    ------------------------------------------------\n",
    "    =                Equal to \n",
    "    !=               Not equal to \n",
    "    >                Greater than \n",
    "    <                Lesser than \n",
    "    >=               Greater than or equal to \n",
    "    <=               Lesser than or equal to "
   ]
  },
  {
   "cell_type": "code",
   "execution_count": 20,
   "metadata": {},
   "outputs": [
    {
     "data": {
      "text/plain": [
       "[('Northern Africa',), ('Southern Asia',), ('Eastern Asia',)]"
      ]
     },
     "execution_count": 20,
     "metadata": {},
     "output_type": "execute_result"
    }
   ],
   "source": [
    "cur.execute(\"SELECT Region FROM PopByRegion WHERE Population > 1000000\")\n",
    "cur.fetchall()"
   ]
  },
  {
   "cell_type": "code",
   "execution_count": 21,
   "metadata": {},
   "outputs": [
    {
     "data": {
      "text/plain": [
       "[('Eastern Asia',)]"
      ]
     },
     "execution_count": 21,
     "metadata": {},
     "output_type": "execute_result"
    }
   ],
   "source": [
    "cur.execute(\n",
    "    'SELECT Region FROM PopByRegion WHERE Population > 1000000 AND Region < \"L\"'\n",
    ")\n",
    "cur.fetchall()"
   ]
  },
  {
   "cell_type": "markdown",
   "metadata": {},
   "source": [
    "__Updating Records__"
   ]
  },
  {
   "cell_type": "code",
   "execution_count": 22,
   "metadata": {},
   "outputs": [
    {
     "data": {
      "text/plain": [
       "('Japan', 100562)"
      ]
     },
     "execution_count": 22,
     "metadata": {},
     "output_type": "execute_result"
    }
   ],
   "source": [
    "cur.execute('SELECT * FROM PopByRegion WHERE Region = \"Japan\"')\n",
    "cur.fetchone()"
   ]
  },
  {
   "cell_type": "code",
   "execution_count": 23,
   "metadata": {},
   "outputs": [
    {
     "data": {
      "text/plain": [
       "('Japan', 100600)"
      ]
     },
     "execution_count": 23,
     "metadata": {},
     "output_type": "execute_result"
    }
   ],
   "source": [
    "cur.execute('UPDATE PopByRegion SET Population = 100600 WHERE Region = \"Japan\"')\n",
    "\n",
    "cur.execute('SELECT * FROM PopByRegion WHERE Region = \"Japan\"')\n",
    "cur.fetchone()"
   ]
  },
  {
   "cell_type": "markdown",
   "metadata": {},
   "source": [
    "__Deleting Records__"
   ]
  },
  {
   "cell_type": "code",
   "execution_count": 24,
   "metadata": {},
   "outputs": [
    {
     "data": {
      "text/plain": [
       "[('Central Africa', 330993),\n",
       " ('Japan', 100600),\n",
       " ('Asia Pacific', 785468),\n",
       " ('Eastern Asia', 1362955),\n",
       " ('Eastern Europe', 223427)]"
      ]
     },
     "execution_count": 24,
     "metadata": {},
     "output_type": "execute_result"
    }
   ],
   "source": [
    "cur.execute('SELECT * FROM PopByRegion WHERE Region < \"L\"')\n",
    "cur.fetchall()"
   ]
  },
  {
   "cell_type": "code",
   "execution_count": 25,
   "metadata": {},
   "outputs": [
    {
     "data": {
      "text/plain": [
       "<sqlite3.Cursor at 0x5c693b0>"
      ]
     },
     "execution_count": 25,
     "metadata": {},
     "output_type": "execute_result"
    }
   ],
   "source": [
    "cur.execute('DELETE FROM PopByRegion WHERE Region < \"L\"')"
   ]
  },
  {
   "cell_type": "code",
   "execution_count": 26,
   "metadata": {},
   "outputs": [
    {
     "data": {
      "text/plain": [
       "[]"
      ]
     },
     "execution_count": 26,
     "metadata": {},
     "output_type": "execute_result"
    }
   ],
   "source": [
    "cur.execute('SELECT * FROM PopByRegion WHERE Region < \"L\"')\n",
    "cur.fetchall()"
   ]
  },
  {
   "cell_type": "code",
   "execution_count": 27,
   "metadata": {},
   "outputs": [
    {
     "data": {
      "text/plain": [
       "[('Southeastern Africa', 743112),\n",
       " ('Northern Africa', 1037463),\n",
       " ('Southern Asia', 2051941),\n",
       " ('Middle East', 687630),\n",
       " ('South America', 593121),\n",
       " ('North America', 661157),\n",
       " ('Western Europe', 387933)]"
      ]
     },
     "execution_count": 27,
     "metadata": {},
     "output_type": "execute_result"
    }
   ],
   "source": [
    "cur.execute(\"SELECT * FROM PopByRegion\")\n",
    "cur.fetchall()"
   ]
  },
  {
   "cell_type": "code",
   "execution_count": 29,
   "metadata": {},
   "outputs": [
    {
     "data": {
      "text/plain": [
       "[('Southeastern Africa', 743112),\n",
       " ('Northern Africa', 1037463),\n",
       " ('Southern Asia', 2051941),\n",
       " ('Middle East', 687630),\n",
       " ('South America', 593121),\n",
       " ('North America', 661157),\n",
       " ('Western Europe', 387933),\n",
       " ('Japan', 100562),\n",
       " ('Japan', 100562)]"
      ]
     },
     "execution_count": 29,
     "metadata": {},
     "output_type": "execute_result"
    }
   ],
   "source": [
    "# placing record, back into the table\n",
    "cur.execute('INSERT INTO PopByRegion VALUES (\"Japan\", 100562)')\n",
    "\n",
    "cur.execute(\"SELECT * FROM PopByRegion\")\n",
    "cur.fetchall()"
   ]
  },
  {
   "cell_type": "markdown",
   "metadata": {},
   "source": [
    "__Deleting the table__"
   ]
  },
  {
   "cell_type": "code",
   "execution_count": 30,
   "metadata": {},
   "outputs": [],
   "source": [
    "cur.execute(\"DROP TABLE PopByRegion\");"
   ]
  },
  {
   "cell_type": "code",
   "execution_count": 31,
   "metadata": {},
   "outputs": [
    {
     "ename": "OperationalError",
     "evalue": "no such table: PopByRegion",
     "output_type": "error",
     "traceback": [
      "\u001b[1;31m---------------------------------------------------------------------------\u001b[0m",
      "\u001b[1;31mOperationalError\u001b[0m                          Traceback (most recent call last)",
      "\u001b[1;32m<ipython-input-31-0833369e7fd5>\u001b[0m in \u001b[0;36m<module>\u001b[1;34m\u001b[0m\n\u001b[1;32m----> 1\u001b[1;33m \u001b[0mcur\u001b[0m\u001b[1;33m.\u001b[0m\u001b[0mexecute\u001b[0m\u001b[1;33m(\u001b[0m\u001b[1;34m'SELECT * FROM PopByRegion'\u001b[0m\u001b[1;33m)\u001b[0m\u001b[1;33m;\u001b[0m\u001b[1;33m\u001b[0m\u001b[1;33m\u001b[0m\u001b[0m\n\u001b[0m",
      "\u001b[1;31mOperationalError\u001b[0m: no such table: PopByRegion"
     ]
    }
   ],
   "source": [
    "cur.execute(\"SELECT * FROM PopByRegion\");"
   ]
  },
  {
   "cell_type": "code",
   "execution_count": 32,
   "metadata": {},
   "outputs": [],
   "source": [
    "conn.close()"
   ]
  },
  {
   "cell_type": "code",
   "execution_count": 33,
   "metadata": {},
   "outputs": [
    {
     "ename": "ProgrammingError",
     "evalue": "Cannot operate on a closed database.",
     "output_type": "error",
     "traceback": [
      "\u001b[1;31m---------------------------------------------------------------------------\u001b[0m",
      "\u001b[1;31mProgrammingError\u001b[0m                          Traceback (most recent call last)",
      "\u001b[1;32m<ipython-input-33-0833369e7fd5>\u001b[0m in \u001b[0;36m<module>\u001b[1;34m\u001b[0m\n\u001b[1;32m----> 1\u001b[1;33m \u001b[0mcur\u001b[0m\u001b[1;33m.\u001b[0m\u001b[0mexecute\u001b[0m\u001b[1;33m(\u001b[0m\u001b[1;34m'SELECT * FROM PopByRegion'\u001b[0m\u001b[1;33m)\u001b[0m\u001b[1;33m;\u001b[0m\u001b[1;33m\u001b[0m\u001b[1;33m\u001b[0m\u001b[0m\n\u001b[0m",
      "\u001b[1;31mProgrammingError\u001b[0m: Cannot operate on a closed database."
     ]
    }
   ],
   "source": [
    "cur.execute(\"SELECT * FROM PopByRegion\");"
   ]
  },
  {
   "cell_type": "markdown",
   "metadata": {},
   "source": [
    "***\n",
    "Re-opening the Db connection "
   ]
  },
  {
   "cell_type": "code",
   "execution_count": 34,
   "metadata": {},
   "outputs": [],
   "source": [
    "conn = sqlite3.connect(\"population.db\")\n",
    "cur = conn.cursor()"
   ]
  },
  {
   "cell_type": "code",
   "execution_count": 35,
   "metadata": {},
   "outputs": [
    {
     "data": {
      "text/plain": [
       "<sqlite3.Cursor at 0x5f5e3b0>"
      ]
     },
     "execution_count": 35,
     "metadata": {},
     "output_type": "execute_result"
    }
   ],
   "source": [
    "cur.execute(\"CREATE TABLE PopByCountry(Region TEXT, Country TEXT,Population INTEGER)\")"
   ]
  },
  {
   "cell_type": "code",
   "execution_count": 41,
   "metadata": {},
   "outputs": [
    {
     "data": {
      "text/plain": [
       "<sqlite3.Cursor at 0x5f5e3b0>"
      ]
     },
     "execution_count": 41,
     "metadata": {},
     "output_type": "execute_result"
    }
   ],
   "source": [
    "cur.execute('INSERT INTO PopByCountry VALUES(\"Eastern Asia\", \"China\",1285238)')"
   ]
  },
  {
   "cell_type": "code",
   "execution_count": 42,
   "metadata": {},
   "outputs": [],
   "source": [
    "countries = [\n",
    "    (\"Eastern Asia\", \"DPR Korea\", 24056),\n",
    "    (\"Eastern Asia\", \"Hong Kong (China)\", 8764),\n",
    "    (\"Eastern Asia\", \"Mongolia\", 3407),\n",
    "    (\"Eastern Asia\", \"Republic of Korea\", 41491),\n",
    "    (\"Eastern Asia\", \"Taiwan\", 1433),\n",
    "    (\"North America\", \"Bahamas\", 368),\n",
    "    (\"North America\", \"Canada\", 40876),\n",
    "    (\"North America\", \"Greenland\", 43),\n",
    "    (\"North America\", \"Mexico\", 126875),\n",
    "    (\"North America\", \"United States\", 493038),\n",
    "]\n",
    "\n",
    "for c in countries:\n",
    "    cur.execute(\"INSERT INTO PopByCountry VALUES (?, ?, ?)\", (c[0], c[1], c[2]))\n",
    "\n",
    "conn.commit()"
   ]
  },
  {
   "cell_type": "code",
   "execution_count": 43,
   "metadata": {},
   "outputs": [
    {
     "data": {
      "text/plain": [
       "[('Eastern Asia', 'China', 1285238),\n",
       " ('Eastern Asia', 'DPR Korea', 24056),\n",
       " ('Eastern Asia', 'Hong Kong (China)', 8764),\n",
       " ('Eastern Asia', 'Mongolia', 3407),\n",
       " ('Eastern Asia', 'Republic of Korea', 41491),\n",
       " ('Eastern Asia', 'Taiwan', 1433),\n",
       " ('North America', 'Bahamas', 368),\n",
       " ('North America', 'Canada', 40876),\n",
       " ('North America', 'Greenland', 43),\n",
       " ('North America', 'Mexico', 126875),\n",
       " ('North America', 'United States', 493038)]"
      ]
     },
     "execution_count": 43,
     "metadata": {},
     "output_type": "execute_result"
    }
   ],
   "source": [
    "cur.execute(\"SELECT * from PopByCountry\")\n",
    "cur.fetchall()"
   ]
  },
  {
   "cell_type": "code",
   "execution_count": 44,
   "metadata": {},
   "outputs": [
    {
     "data": {
      "text/plain": [
       "[('Eastern Asia', 'China'),\n",
       " ('Eastern Asia', 'DPR Korea'),\n",
       " ('Eastern Asia', 'Hong Kong (China)'),\n",
       " ('Eastern Asia', 'Mongolia'),\n",
       " ('Eastern Asia', 'Republic of Korea'),\n",
       " ('Eastern Asia', 'Taiwan')]"
      ]
     },
     "execution_count": 44,
     "metadata": {},
     "output_type": "execute_result"
    }
   ],
   "source": [
    "cur.execute(\n",
    "    \"\"\"\n",
    "    SELECT PopByRegion.Region, PopByCountry.Country FROM PopByRegion \n",
    "        INNER JOIN PopByCountry WHERE (PopByRegion.Region = PopByCountry.Region) AND (PopByRegion.Population > 1000000)\n",
    "    \"\"\"\n",
    ")\n",
    "\n",
    "cur.fetchall()"
   ]
  },
  {
   "cell_type": "code",
   "execution_count": 45,
   "metadata": {},
   "outputs": [
    {
     "data": {
      "text/plain": [
       "[('Eastern Asia',), ('North America',), ('North America',)]"
      ]
     },
     "execution_count": 45,
     "metadata": {},
     "output_type": "execute_result"
    }
   ],
   "source": [
    "cur.execute(\n",
    "    \"\"\"\n",
    "    SELECT PopByRegion.Region FROM PopByRegion \n",
    "        INNER JOIN PopByCountry WHERE (PopByRegion.Region = PopByCountry.Region) \n",
    "                                    AND ((PopByCountry.Population * 1.0) / PopByRegion.Population > 0.10)\"\"\"\n",
    ")\n",
    "cur.fetchall()"
   ]
  },
  {
   "cell_type": "markdown",
   "metadata": {},
   "source": [
    "To get unique results, use __DISTINCT__"
   ]
  },
  {
   "cell_type": "code",
   "execution_count": 47,
   "metadata": {},
   "outputs": [
    {
     "data": {
      "text/plain": [
       "[('Eastern Asia',), ('North America',)]"
      ]
     },
     "execution_count": 47,
     "metadata": {},
     "output_type": "execute_result"
    }
   ],
   "source": [
    "cur.execute(\n",
    "    \"\"\"\n",
    "    SELECT DISTINCT PopByRegion.Region FROM PopByRegion \n",
    "        INNER JOIN PopByCountry WHERE (PopByRegion.Region = PopByCountry.Region)\n",
    "                                    AND ((PopByCountry.Population * 1.0) / PopByRegion.Population > 0.10)\"\"\"\n",
    ")\n",
    "cur.fetchall()"
   ]
  },
  {
   "cell_type": "markdown",
   "metadata": {},
   "source": [
    "__Table with Primary Key__"
   ]
  },
  {
   "cell_type": "code",
   "execution_count": 48,
   "metadata": {},
   "outputs": [
    {
     "ename": "OperationalError",
     "evalue": "table PopByRegion already exists",
     "output_type": "error",
     "traceback": [
      "\u001b[1;31m---------------------------------------------------------------------------\u001b[0m",
      "\u001b[1;31mOperationalError\u001b[0m                          Traceback (most recent call last)",
      "\u001b[1;32m<ipython-input-48-bd2bf232954b>\u001b[0m in \u001b[0;36m<module>\u001b[1;34m\u001b[0m\n\u001b[0;32m      2\u001b[0m                     PopByRegion (Region TEXT NOT NULL,\n\u001b[0;32m      3\u001b[0m                     \u001b[0mPopulation\u001b[0m \u001b[0mINTEGER\u001b[0m \u001b[0mNOT\u001b[0m \u001b[0mNULL\u001b[0m\u001b[1;33m,\u001b[0m\u001b[1;33m\u001b[0m\u001b[1;33m\u001b[0m\u001b[0m\n\u001b[1;32m----> 4\u001b[1;33m                     PRIMARY KEY (Region))''');\n\u001b[0m",
      "\u001b[1;31mOperationalError\u001b[0m: table PopByRegion already exists"
     ]
    }
   ],
   "source": [
    "cur.execute(\n",
    "    \"\"\"CREATE TABLE \n",
    "                    PopByRegion (Region TEXT NOT NULL,\n",
    "                    Population INTEGER NOT NULL, \n",
    "                    PRIMARY KEY (Region))\"\"\"\n",
    ");"
   ]
  },
  {
   "cell_type": "code",
   "execution_count": 49,
   "metadata": {},
   "outputs": [
    {
     "ename": "OperationalError",
     "evalue": "table PopByCountry already exists",
     "output_type": "error",
     "traceback": [
      "\u001b[1;31m---------------------------------------------------------------------------\u001b[0m",
      "\u001b[1;31mOperationalError\u001b[0m                          Traceback (most recent call last)",
      "\u001b[1;32m<ipython-input-49-d882c476edb0>\u001b[0m in \u001b[0;36m<module>\u001b[1;34m\u001b[0m\n\u001b[0;32m      5\u001b[0m \u001b[0mPopulation\u001b[0m \u001b[0mINTEGER\u001b[0m \u001b[0mNOT\u001b[0m \u001b[0mNULL\u001b[0m\u001b[1;33m,\u001b[0m\u001b[1;33m\u001b[0m\u001b[1;33m\u001b[0m\u001b[0m\n\u001b[0;32m      6\u001b[0m CONSTRAINT Country_Key PRIMARY KEY (Region, Country))\n\u001b[1;32m----> 7\u001b[1;33m ''')\n\u001b[0m",
      "\u001b[1;31mOperationalError\u001b[0m: table PopByCountry already exists"
     ]
    }
   ],
   "source": [
    "cur.execute(\n",
    "    \"\"\"\n",
    "CREATE TABLE PopByCountry(\n",
    "Region TEXT NOT NULL,\n",
    "Country TEXT NOT NULL,\n",
    "Population INTEGER NOT NULL,\n",
    "CONSTRAINT Country_Key PRIMARY KEY (Region, Country))\n",
    "\"\"\"\n",
    ")"
   ]
  },
  {
   "cell_type": "markdown",
   "metadata": {},
   "source": [
    "__DB Aggregate Functions__\n",
    "\n",
    "    ------------------------------------------------\n",
    "    Aggregate function      Description\n",
    "    ------------------------------------------------\n",
    "        AVG                 Average of the values \n",
    "        MIN                 Minimum value \n",
    "        MAX                 Maximum value\n",
    "        COUNT               Number of non-null values \n",
    "        SUM                 Sum of the values \n",
    "        \n"
   ]
  },
  {
   "cell_type": "code",
   "execution_count": 51,
   "metadata": {},
   "outputs": [
    {
     "data": {
      "text/plain": [
       "(8965762,)"
      ]
     },
     "execution_count": 51,
     "metadata": {},
     "output_type": "execute_result"
    }
   ],
   "source": [
    "cur.execute(\"SELECT SUM (Population) FROM PopByRegion\")\n",
    "cur.fetchone()"
   ]
  },
  {
   "cell_type": "code",
   "execution_count": 53,
   "metadata": {},
   "outputs": [
    {
     "data": {
      "text/plain": [
       "[('Eastern Asia', 1364389), ('North America', 661200)]"
      ]
     },
     "execution_count": 53,
     "metadata": {},
     "output_type": "execute_result"
    }
   ],
   "source": [
    "cur.execute(\"SELECT Region, SUM (Population) FROM PopByCountry GROUP BY Region\")\n",
    "cur.fetchall()"
   ]
  },
  {
   "cell_type": "markdown",
   "metadata": {},
   "source": [
    "__Joins__"
   ]
  },
  {
   "cell_type": "code",
   "execution_count": 54,
   "metadata": {},
   "outputs": [
    {
     "data": {
      "text/plain": [
       "[('Republic of Korea', 'Canada'),\n",
       " ('Bahamas', 'Greenland'),\n",
       " ('Canada', 'Republic of Korea'),\n",
       " ('Greenland', 'Bahamas')]"
      ]
     },
     "execution_count": 54,
     "metadata": {},
     "output_type": "execute_result"
    }
   ],
   "source": [
    "cur.execute(\n",
    "    \"\"\"\n",
    "    SELECT A.Country, B.Country FROM PopByCountry A \n",
    "                                INNER JOIN PopByCountry B \n",
    "    WHERE (ABS(A.Population - B.Population) <= 1000) AND (A.Country != B.Country)\"\"\"\n",
    ")\n",
    "cur.fetchall()"
   ]
  },
  {
   "cell_type": "markdown",
   "metadata": {},
   "source": [
    "__Nested Query__"
   ]
  },
  {
   "cell_type": "code",
   "execution_count": 55,
   "metadata": {},
   "outputs": [
    {
     "data": {
      "text/plain": [
       "[('Eastern Asia',), ('North America',)]"
      ]
     },
     "execution_count": 55,
     "metadata": {},
     "output_type": "execute_result"
    }
   ],
   "source": [
    "cur.execute(\n",
    "    \"\"\"\n",
    "    SELECT DISTINCT Region \n",
    "    FROM PopByCountry\n",
    "    WHERE (PopByCountry.Population != 8764)\n",
    "\"\"\"\n",
    ")\n",
    "cur.fetchall()"
   ]
  },
  {
   "cell_type": "code",
   "execution_count": 56,
   "metadata": {},
   "outputs": [
    {
     "data": {
      "text/plain": [
       "[('Eastern Asia',)]"
      ]
     },
     "execution_count": 56,
     "metadata": {},
     "output_type": "execute_result"
    }
   ],
   "source": [
    "cur.execute(\n",
    "    \"\"\"\n",
    "    SELECT DISTINCT Region\n",
    "    FROM PopByCountry\n",
    "    WHERE (PopByCountry.Population = 8764)\n",
    "\"\"\"\n",
    ")\n",
    "cur.fetchall()"
   ]
  },
  {
   "cell_type": "code",
   "execution_count": 57,
   "metadata": {},
   "outputs": [
    {
     "data": {
      "text/plain": [
       "[('North America',)]"
      ]
     },
     "execution_count": 57,
     "metadata": {},
     "output_type": "execute_result"
    }
   ],
   "source": [
    "cur.execute(\n",
    "    \"\"\"\n",
    "    SELECT DISTINCT Region\n",
    "    FROM PopByCountry\n",
    "    WHERE Region NOT IN\n",
    "            (SELECT DISTINCT Region\n",
    "            FROM PopByCountry\n",
    "            WHERE (PopByCountry.Population = 8764))\n",
    "\"\"\"\n",
    ")\n",
    "cur.fetchall()"
   ]
  },
  {
   "cell_type": "code",
   "execution_count": 58,
   "metadata": {},
   "outputs": [],
   "source": [
    "conn.close()"
   ]
  }
 ],
 "metadata": {
  "kernelspec": {
   "display_name": "Python 3",
   "language": "python",
   "name": "python3"
  },
  "language_info": {
   "codemirror_mode": {
    "name": "ipython",
    "version": 3
   },
   "file_extension": ".py",
   "mimetype": "text/x-python",
   "name": "python",
   "nbconvert_exporter": "python",
   "pygments_lexer": "ipython3",
   "version": "3.7.1"
  }
 },
 "nbformat": 4,
 "nbformat_minor": 2
}
