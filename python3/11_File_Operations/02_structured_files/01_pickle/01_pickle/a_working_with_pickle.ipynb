{
 "cells": [
  {
   "attachments": {},
   "cell_type": "markdown",
   "metadata": {},
   "source": [
    "## Pickle\n",
    "\n",
    "    serialization\n",
    "        python objects - > flattened content  -- string/file\n",
    "\n",
    "            dump  -- into a file\n",
    "            dumps -- into a python string\n",
    "\n",
    "    De-serialization\n",
    "        string/file --> unflattened content -> python objects\n",
    "\n",
    "            load  -- from a file\n",
    "            loads -- from a python string"
   ]
  },
  {
   "cell_type": "code",
   "execution_count": 2,
   "metadata": {},
   "outputs": [],
   "source": [
    "import pickle"
   ]
  },
  {
   "attachments": {},
   "cell_type": "markdown",
   "metadata": {},
   "source": [
    "###  Pickle to string object"
   ]
  },
  {
   "cell_type": "code",
   "execution_count": 3,
   "metadata": {},
   "outputs": [
    {
     "data": {
      "text/plain": [
       "b'\\x80\\x04\\x95\\x1b\\x00\\x00\\x00\\x00\\x00\\x00\\x00}\\x94(\\x8c\\x04name\\x94\\x8c\\x04John\\x94\\x8c\\x03age\\x94K\\x1eu.'"
      ]
     },
     "execution_count": 3,
     "metadata": {},
     "output_type": "execute_result"
    }
   ],
   "source": [
    "# Serialize an object\n",
    "data = {\"name\": \"John\", \"age\": 30}\n",
    "serialized_data = pickle.dumps(data)\n",
    "\n",
    "serialized_data"
   ]
  },
  {
   "cell_type": "code",
   "execution_count": 4,
   "metadata": {},
   "outputs": [
    {
     "data": {
      "text/plain": [
       "{'name': 'John', 'age': 30}"
      ]
     },
     "execution_count": 4,
     "metadata": {},
     "output_type": "execute_result"
    }
   ],
   "source": [
    "# Deserialize the object\n",
    "deserialized_data = pickle.loads(serialized_data)\n",
    "\n",
    "deserialized_data"
   ]
  },
  {
   "cell_type": "markdown",
   "metadata": {},
   "source": [
    "### Pickle to file"
   ]
  },
  {
   "cell_type": "code",
   "execution_count": 5,
   "metadata": {},
   "outputs": [],
   "source": [
    "# Write to a pickle file\n",
    "data = {\"name\": \"John\", \"age\": 30}\n",
    "with open(\"data.pickle\", \"wb\") as file:\n",
    "    pickle.dump(data, file)"
   ]
  },
  {
   "cell_type": "code",
   "execution_count": 6,
   "metadata": {},
   "outputs": [
    {
     "data": {
      "text/plain": [
       "{'name': 'John', 'age': 30}"
      ]
     },
     "execution_count": 6,
     "metadata": {},
     "output_type": "execute_result"
    }
   ],
   "source": [
    "# Read from a pickle file\n",
    "with open(\"data.pickle\", \"rb\") as file:\n",
    "    loaded_data = pickle.load(file)\n",
    "\n",
    "\n",
    "loaded_data"
   ]
  },
  {
   "cell_type": "markdown",
   "metadata": {},
   "source": [
    "### Pickling Multiple Objects"
   ]
  },
  {
   "cell_type": "code",
   "execution_count": 7,
   "metadata": {},
   "outputs": [
    {
     "name": "stdout",
     "output_type": "stream",
     "text": [
      "serialized_data =b'\\x80\\x04\\x95/\\x00\\x00\\x00\\x00\\x00\\x00\\x00}\\x94(\\x8c\\x04name\\x94\\x8c\\x04John\\x94\\x8c\\x03age\\x94K\\x1eu}\\x94(h\\x01\\x8c\\x05Alice\\x94h\\x03K\\x19u\\x86\\x94.'\n",
      "obj1 ={'name': 'John', 'age': 30}\n",
      "obj2 ={'name': 'Alice', 'age': 25}\n"
     ]
    }
   ],
   "source": [
    "# Pickle multiple objects\n",
    "data1 = {\"name\": \"John\", \"age\": 30}\n",
    "data2 = {\"name\": \"Alice\", \"age\": 25}\n",
    "serialized_data = pickle.dumps((data1, data2))\n",
    "print(f\"{serialized_data =}\")\n",
    "\n",
    "# Unpickle multiple objects\n",
    "deserialized_data = pickle.loads(serialized_data)\n",
    "obj1, obj2 = deserialized_data\n",
    "\n",
    "print(f\"{obj1 =}\")\n",
    "print(f\"{obj2 =}\")"
   ]
  },
  {
   "cell_type": "markdown",
   "metadata": {},
   "source": [
    "### Pickling and Unpickling with Compression"
   ]
  },
  {
   "cell_type": "code",
   "execution_count": 8,
   "metadata": {},
   "outputs": [
    {
     "name": "stdout",
     "output_type": "stream",
     "text": [
      "loaded_data ={'name': 'John', 'age': 30}\n"
     ]
    }
   ],
   "source": [
    "import pickle\n",
    "import gzip\n",
    "\n",
    "data = {\"name\": \"John\", \"age\": 30}\n",
    "\n",
    "# Pickle with compression\n",
    "with gzip.open(\"data.pickle.gz\", \"wb\") as file:\n",
    "    pickle.dump(data, file)\n",
    "\n",
    "# Unpickle with compression\n",
    "with gzip.open(\"data.pickle.gz\", \"rb\") as file:\n",
    "    loaded_data = pickle.load(file)\n",
    "\n",
    "print(f\"{loaded_data =}\")"
   ]
  },
  {
   "cell_type": "markdown",
   "metadata": {},
   "source": [
    "### Pickling and Unpickling Objects with External Dependencies"
   ]
  },
  {
   "cell_type": "code",
   "execution_count": 9,
   "metadata": {},
   "outputs": [
    {
     "name": "stdout",
     "output_type": "stream",
     "text": [
      "serialized_data = b'\\x80\\x05\\x95\\x8a\\x00\\x00\\x00\\x00\\x00\\x00\\x00}\\x94\\x8c\\x05array\\x94\\x8c\\x12numpy.core.numeric\\x94\\x8c\\x0b_frombuffer\\x94\\x93\\x94(\\x96\\x0c\\x00\\x00\\x00\\x00\\x00\\x00\\x00\\x01\\x00\\x00\\x00\\x02\\x00\\x00\\x00\\x03\\x00\\x00\\x00\\x94\\x8c\\x05numpy\\x94\\x8c\\x05dtype\\x94\\x93\\x94\\x8c\\x02i4\\x94\\x89\\x88\\x87\\x94R\\x94(K\\x03\\x8c\\x01<\\x94NNNJ\\xff\\xff\\xff\\xffJ\\xff\\xff\\xff\\xffK\\x00t\\x94bK\\x03\\x85\\x94\\x8c\\x01C\\x94t\\x94R\\x94s.'\n",
      "deserialized_data = {'array': array([1, 2, 3])}\n"
     ]
    }
   ],
   "source": [
    "import pickle\n",
    "import numpy as np\n",
    "\n",
    "data = {\"array\": np.array([1, 2, 3])}\n",
    "\n",
    "# Pickle an object with NumPy array\n",
    "serialized_data = pickle.dumps(data, protocol=pickle.HIGHEST_PROTOCOL)\n",
    "print(\"serialized_data =\", serialized_data)\n",
    "\n",
    "# Unpickle an object with NumPy array\n",
    "deserialized_data = pickle.loads(serialized_data)\n",
    "print(\"deserialized_data =\", deserialized_data)"
   ]
  },
  {
   "cell_type": "markdown",
   "metadata": {},
   "source": [
    "### Handling Unpickling Errors"
   ]
  },
  {
   "cell_type": "code",
   "execution_count": 10,
   "metadata": {},
   "outputs": [],
   "source": [
    "import pickle\n",
    "\n",
    "# Try to unpickle an object, handle errors\n",
    "try:\n",
    "    with open(\"data.pickle\", \"rb\") as file:\n",
    "        loaded_data = pickle.load(file)\n",
    "except (pickle.UnpicklingError, FileNotFoundError) as e:\n",
    "    print(f\"Error loading pickle file: {e}\")"
   ]
  },
  {
   "cell_type": "markdown",
   "metadata": {},
   "source": [
    "### Pickling and Unpickling Large Objects Incrementally"
   ]
  },
  {
   "cell_type": "code",
   "execution_count": null,
   "metadata": {},
   "outputs": [],
   "source": [
    "import pickle\n",
    "import io\n",
    "\n",
    "data = [1, 2, 3] * int(1e6)\n",
    "chunk_size = 1000\n",
    "\n",
    "# Pickle large object incrementally\n",
    "serialized_data = io.BytesIO()\n",
    "with pickle.Pickler(serialized_data) as pickler:\n",
    "    for i in range(0, len(data), chunk_size):\n",
    "        pickler.dump(data[i : i + chunk_size])\n",
    "\n",
    "# Unpickle large object incrementally\n",
    "serialized_data.seek(0)\n",
    "with pickle.Unpickler(serialized_data) as unpickler:\n",
    "    deserialized_data = []"
   ]
  }
 ],
 "metadata": {
  "kernelspec": {
   "display_name": "pythonmaterial-4Fyt9FjG-py3.11",
   "language": "python",
   "name": "python3"
  },
  "language_info": {
   "codemirror_mode": {
    "name": "ipython",
    "version": 3
   },
   "file_extension": ".py",
   "mimetype": "text/x-python",
   "name": "python",
   "nbconvert_exporter": "python",
   "pygments_lexer": "ipython3",
   "version": "3.11.3"
  },
  "orig_nbformat": 4
 },
 "nbformat": 4,
 "nbformat_minor": 2
}
