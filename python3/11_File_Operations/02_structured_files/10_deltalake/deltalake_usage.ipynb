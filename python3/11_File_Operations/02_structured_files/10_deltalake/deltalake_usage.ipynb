{
 "cells": [
  {
   "cell_type": "code",
   "execution_count": 5,
   "metadata": {},
   "outputs": [],
   "source": [
    "# pip install deltalake\n",
    "\n",
    "\n",
    "# spark session is needed for deltalake"
   ]
  },
  {
   "cell_type": "code",
   "execution_count": 4,
   "metadata": {},
   "outputs": [
    {
     "ename": "AttributeError",
     "evalue": "type object 'DeltaTable' has no attribute 'create'",
     "output_type": "error",
     "traceback": [
      "\u001b[1;31m---------------------------------------------------------------------------\u001b[0m",
      "\u001b[1;31mAttributeError\u001b[0m                            Traceback (most recent call last)",
      "Cell \u001b[1;32mIn[4], line 5\u001b[0m\n\u001b[0;32m      2\u001b[0m \u001b[39mfrom\u001b[39;00m \u001b[39mdeltalake\u001b[39;00m \u001b[39mimport\u001b[39;00m DeltaTable\n\u001b[0;32m      4\u001b[0m \u001b[39m# Create a Delta table\u001b[39;00m\n\u001b[1;32m----> 5\u001b[0m delta_table \u001b[39m=\u001b[39m DeltaTable\u001b[39m.\u001b[39;49mcreate(\u001b[39m\"\u001b[39m\u001b[39mmy_table\u001b[39m\u001b[39m\"\u001b[39m)\n\u001b[0;32m      7\u001b[0m \u001b[39m# Write some data to the table\u001b[39;00m\n\u001b[0;32m      8\u001b[0m df \u001b[39m=\u001b[39m spark\u001b[39m.\u001b[39mcreateDataFrame([(\u001b[39m\"\u001b[39m\u001b[39mAlyssa\u001b[39m\u001b[39m\"\u001b[39m, \u001b[39m256\u001b[39m, \u001b[39m\"\u001b[39m\u001b[39mblue\u001b[39m\u001b[39m\"\u001b[39m), (\u001b[39m\"\u001b[39m\u001b[39mBen\u001b[39m\u001b[39m\"\u001b[39m, \u001b[39m123\u001b[39m, \u001b[39m\"\u001b[39m\u001b[39mred\u001b[39m\u001b[39m\"\u001b[39m)], (\u001b[39m\"\u001b[39m\u001b[39mname\u001b[39m\u001b[39m\"\u001b[39m, \u001b[39m\"\u001b[39m\u001b[39mfavorite_number\u001b[39m\u001b[39m\"\u001b[39m, \u001b[39m\"\u001b[39m\u001b[39mfavorite_color\u001b[39m\u001b[39m\"\u001b[39m))\n",
      "\u001b[1;31mAttributeError\u001b[0m: type object 'DeltaTable' has no attribute 'create'"
     ]
    }
   ],
   "source": [
    "from delta.tables import DeltaTable\n",
    "\n",
    "# Example 1: Convert Integer to String\n",
    "delta_table = DeltaTable.forPath(spark, \"/path/to/delta_table\")\n",
    "delta_table.updateExpr(\"age > 30\", \"name = cast(age as string)\")\n",
    "\n",
    "# Example 2: Convert String to Integer\n",
    "delta_table.updateExpr(\"age > 30\", \"age = cast(name as int)\")\n",
    "\n",
    "# Example 3: Convert Timestamp to Date\n",
    "delta_table.updateExpr(\"1=1\", \"date = cast(timestamp as date)\")"
   ]
  },
  {
   "cell_type": "code",
   "execution_count": null,
   "metadata": {},
   "outputs": [],
   "source": []
  }
 ],
 "metadata": {
  "kernelspec": {
   "display_name": "pythonmaterial-4Fyt9FjG-py3.11",
   "language": "python",
   "name": "python3"
  },
  "language_info": {
   "codemirror_mode": {
    "name": "ipython",
    "version": 3
   },
   "file_extension": ".py",
   "mimetype": "text/x-python",
   "name": "python",
   "nbconvert_exporter": "python",
   "pygments_lexer": "ipython3",
   "version": "3.11.3"
  },
  "orig_nbformat": 4
 },
 "nbformat": 4,
 "nbformat_minor": 2
}
