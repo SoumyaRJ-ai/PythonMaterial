{
 "cells": [
  {
   "cell_type": "markdown",
   "metadata": {},
   "source": [
    "## docx "
   ]
  },
  {
   "cell_type": "code",
   "execution_count": 2,
   "metadata": {},
   "outputs": [
    {
     "name": "stdout",
     "output_type": "stream",
     "text": [
      "Collecting python-docx\n",
      "  Downloading python-docx-0.8.11.tar.gz (5.6 MB)\n",
      "     ---------------------------------------- 0.0/5.6 MB ? eta -:--:--\n",
      "     - -------------------------------------- 0.2/5.6 MB 9.6 MB/s eta 0:00:01\n",
      "     -- ------------------------------------- 0.4/5.6 MB 6.3 MB/s eta 0:00:01\n",
      "     ---- ----------------------------------- 0.6/5.6 MB 5.7 MB/s eta 0:00:01\n",
      "     ------ --------------------------------- 0.9/5.6 MB 5.6 MB/s eta 0:00:01\n",
      "     -------- ------------------------------- 1.2/5.6 MB 5.6 MB/s eta 0:00:01\n",
      "     --------- ------------------------------ 1.4/5.6 MB 5.5 MB/s eta 0:00:01\n",
      "     ------------ --------------------------- 1.7/5.6 MB 5.7 MB/s eta 0:00:01\n",
      "     ------------- -------------------------- 1.9/5.6 MB 5.6 MB/s eta 0:00:01\n",
      "     --------------- ------------------------ 2.2/5.6 MB 5.5 MB/s eta 0:00:01\n",
      "     ----------------- ---------------------- 2.4/5.6 MB 5.5 MB/s eta 0:00:01\n",
      "     ------------------ --------------------- 2.6/5.6 MB 5.4 MB/s eta 0:00:01\n",
      "     -------------------- ------------------- 2.8/5.6 MB 5.3 MB/s eta 0:00:01\n",
      "     --------------------- ------------------ 2.9/5.6 MB 5.1 MB/s eta 0:00:01\n",
      "     ----------------------- ---------------- 3.2/5.6 MB 5.1 MB/s eta 0:00:01\n",
      "     ------------------------- -------------- 3.5/5.6 MB 5.2 MB/s eta 0:00:01\n",
      "     -------------------------- ------------- 3.7/5.6 MB 5.1 MB/s eta 0:00:01\n",
      "     ---------------------------- ----------- 3.9/5.6 MB 5.1 MB/s eta 0:00:01\n",
      "     ----------------------------- ---------- 4.2/5.6 MB 5.1 MB/s eta 0:00:01\n",
      "     ------------------------------- -------- 4.4/5.6 MB 5.1 MB/s eta 0:00:01\n",
      "     --------------------------------- ------ 4.6/5.6 MB 5.2 MB/s eta 0:00:01\n",
      "     ---------------------------------- ----- 4.8/5.6 MB 5.1 MB/s eta 0:00:01\n",
      "     ------------------------------------ --- 5.1/5.6 MB 5.1 MB/s eta 0:00:01\n",
      "     -------------------------------------- - 5.3/5.6 MB 5.1 MB/s eta 0:00:01\n",
      "     ---------------------------------------  5.6/5.6 MB 5.1 MB/s eta 0:00:01\n",
      "     ---------------------------------------- 5.6/5.6 MB 4.9 MB/s eta 0:00:00\n",
      "  Preparing metadata (setup.py): started\n",
      "  Preparing metadata (setup.py): finished with status 'done'\n",
      "Requirement already satisfied: lxml>=2.3.2 in c:\\users\\amma\\appdata\\local\\pypoetry\\cache\\virtualenvs\\pythonmaterial-4fyt9fjg-py3.11\\lib\\site-packages (from python-docx) (4.9.2)\n",
      "Building wheels for collected packages: python-docx\n",
      "  Building wheel for python-docx (setup.py): started\n",
      "  Building wheel for python-docx (setup.py): finished with status 'done'\n",
      "  Created wheel for python-docx: filename=python_docx-0.8.11-py3-none-any.whl size=184489 sha256=3c0bc5587c954be244b09abad15a384ff3a3853902d3c683ced92293b655bf4a\n",
      "  Stored in directory: c:\\users\\amma\\appdata\\local\\pip\\cache\\wheels\\b2\\11\\b8\\209e41af524253c9ba6c2a8b8ecec0f98ecbc28c732512803c\n",
      "Successfully built python-docx\n",
      "Installing collected packages: python-docx\n",
      "Successfully installed python-docx-0.8.11\n"
     ]
    },
    {
     "name": "stderr",
     "output_type": "stream",
     "text": [
      "\n",
      "[notice] A new release of pip is available: 23.0.1 -> 23.1.2\n",
      "[notice] To update, run: python.exe -m pip install --upgrade pip\n"
     ]
    }
   ],
   "source": [
    "! pip install -U python-docx"
   ]
  },
  {
   "cell_type": "code",
   "execution_count": 5,
   "metadata": {},
   "outputs": [],
   "source": [
    "import os\n",
    "\n",
    "os.makedirs(\"files\", exist_ok=True)"
   ]
  },
  {
   "cell_type": "markdown",
   "metadata": {},
   "source": [
    "### Create a New Document and Add a Paragraph"
   ]
  },
  {
   "cell_type": "code",
   "execution_count": 11,
   "metadata": {},
   "outputs": [],
   "source": [
    "from docx import Document\n",
    "\n",
    "document = Document()\n",
    "document.add_paragraph(\"Hello, World!\")\n",
    "document.save(\"files/a_paragraph.docx\")"
   ]
  },
  {
   "cell_type": "markdown",
   "metadata": {},
   "source": [
    "### Add Multiple Paragraphs"
   ]
  },
  {
   "cell_type": "code",
   "execution_count": 12,
   "metadata": {},
   "outputs": [],
   "source": [
    "from docx import Document\n",
    "\n",
    "document = Document()\n",
    "document.add_paragraph(\"Paragraph 1\")\n",
    "document.add_paragraph(\"Paragraph 2\")\n",
    "document.add_paragraph(\"Paragraph 3\")\n",
    "document.save(\"files/b_muliple_paragraphs.docx\")"
   ]
  },
  {
   "cell_type": "markdown",
   "metadata": {},
   "source": [
    "### Add a Heading"
   ]
  },
  {
   "cell_type": "code",
   "execution_count": 13,
   "metadata": {},
   "outputs": [],
   "source": [
    "from docx import Document\n",
    "\n",
    "document = Document()\n",
    "document.add_heading(\"Heading 1\", level=1)\n",
    "document.add_heading(\"Heading 2\", level=2)\n",
    "document.add_heading(\"Heading 3\", level=3)\n",
    "document.add_heading(\"Heading 4\", level=4)\n",
    "document.save(\"files/c_headings.docx\")"
   ]
  },
  {
   "cell_type": "markdown",
   "metadata": {},
   "source": [
    "### Add Bulleted List"
   ]
  },
  {
   "cell_type": "code",
   "execution_count": 14,
   "metadata": {},
   "outputs": [],
   "source": [
    "from docx import Document\n",
    "\n",
    "document = Document()\n",
    "document.add_paragraph(\"Items:\")\n",
    "document.add_paragraph(\"Item 1\", style=\"List Bullet\")\n",
    "document.add_paragraph(\"Item 2\", style=\"List Bullet\")\n",
    "document.add_paragraph(\"Item 3\", style=\"List Bullet\")\n",
    "document.save(\"files/d_bulleted_list.docx\")"
   ]
  },
  {
   "cell_type": "markdown",
   "metadata": {},
   "source": [
    "### Add Numbered List"
   ]
  },
  {
   "cell_type": "code",
   "execution_count": 15,
   "metadata": {},
   "outputs": [],
   "source": [
    "from docx import Document\n",
    "\n",
    "document = Document()\n",
    "document.add_paragraph(\"Steps:\")\n",
    "document.add_paragraph(\"Step 1\", style=\"List Number\")\n",
    "document.add_paragraph(\"Step 2\", style=\"List Number\")\n",
    "document.add_paragraph(\"Step 3\", style=\"List Number\")\n",
    "document.save(\"files/e_numbered_list.docx\")"
   ]
  },
  {
   "cell_type": "markdown",
   "metadata": {},
   "source": [
    "### Add Table"
   ]
  },
  {
   "cell_type": "code",
   "execution_count": 16,
   "metadata": {},
   "outputs": [],
   "source": [
    "from docx import Document\n",
    "\n",
    "document = Document()\n",
    "table = document.add_table(rows=3, cols=3)\n",
    "table.cell(0, 0).text = \"Name\"\n",
    "table.cell(0, 1).text = \"Age\"\n",
    "table.cell(1, 0).text = \"John\"\n",
    "table.cell(1, 1).text = \"25\"\n",
    "table.cell(2, 0).text = \"Emily\"\n",
    "table.cell(2, 1).text = \"30\"\n",
    "document.save(\"files/f_table.docx\")"
   ]
  },
  {
   "cell_type": "markdown",
   "metadata": {},
   "source": [
    "### Add Images"
   ]
  },
  {
   "cell_type": "code",
   "execution_count": 18,
   "metadata": {},
   "outputs": [
    {
     "name": "stdout",
     "output_type": "stream",
     "text": [
      "[Errno 2] No such file or directory: 'image.jpg'\n"
     ]
    }
   ],
   "source": [
    "from docx import Document\n",
    "from docx.shared import Inches\n",
    "\n",
    "document = Document()\n",
    "try:\n",
    "    document.add_picture(\"image.jpg\", width=Inches(2.0), height=Inches(2.0))\n",
    "    document.save(\"files/g_with_image.docx\")\n",
    "except FileNotFoundError as ex:\n",
    "    print(ex)"
   ]
  },
  {
   "cell_type": "markdown",
   "metadata": {},
   "source": [
    "### Set Document Properties"
   ]
  },
  {
   "cell_type": "code",
   "execution_count": 19,
   "metadata": {},
   "outputs": [],
   "source": [
    "from docx import Document\n",
    "\n",
    "document = Document()\n",
    "document.core_properties.title = \"My Document\"\n",
    "document.core_properties.author = \"GudoVan Russum\"\n",
    "document.save(\"files/h_metadata.docx\")"
   ]
  },
  {
   "cell_type": "markdown",
   "metadata": {},
   "source": [
    "### Add Page Break"
   ]
  },
  {
   "cell_type": "code",
   "execution_count": 20,
   "metadata": {},
   "outputs": [],
   "source": [
    "from docx import Document\n",
    "\n",
    "document = Document()\n",
    "\n",
    "document.add_paragraph(\"Page 1\")\n",
    "document.add_page_break()\n",
    "document.add_paragraph(\"Page 2\")\n",
    "\n",
    "document.save(\"files/i_with_page_breaks.docx\")"
   ]
  },
  {
   "cell_type": "markdown",
   "metadata": {},
   "source": [
    "### Apply Formatting"
   ]
  },
  {
   "cell_type": "code",
   "execution_count": 21,
   "metadata": {},
   "outputs": [],
   "source": [
    "from docx import Document\n",
    "from docx.shared import Pt\n",
    "from docx.enum.text import WD_PARAGRAPH_ALIGNMENT\n",
    "\n",
    "document = Document()\n",
    "\n",
    "paragraph = document.add_paragraph(\"Center Aligned Text\")\n",
    "paragraph.alignment = WD_PARAGRAPH_ALIGNMENT.CENTER\n",
    "paragraph.runs[0].font.size = Pt(16)\n",
    "\n",
    "document.save(\"files/j_formatting.docx\")"
   ]
  },
  {
   "cell_type": "code",
   "execution_count": null,
   "metadata": {},
   "outputs": [],
   "source": []
  }
 ],
 "metadata": {
  "kernelspec": {
   "display_name": "pythonmaterial-4Fyt9FjG-py3.11",
   "language": "python",
   "name": "python3"
  },
  "language_info": {
   "codemirror_mode": {
    "name": "ipython",
    "version": 3
   },
   "file_extension": ".py",
   "mimetype": "text/x-python",
   "name": "python",
   "nbconvert_exporter": "python",
   "pygments_lexer": "ipython3",
   "version": "3.11.3"
  },
  "orig_nbformat": 4
 },
 "nbformat": 4,
 "nbformat_minor": 2
}
