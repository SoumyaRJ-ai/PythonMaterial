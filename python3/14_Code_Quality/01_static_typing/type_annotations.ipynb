{
 "cells": [
  {
   "cell_type": "markdown",
   "id": "50e247c5",
   "metadata": {},
   "source": [
    "### Type Hints for Basic Data Types"
   ]
  },
  {
   "cell_type": "code",
   "execution_count": 1,
   "id": "108f59bf",
   "metadata": {},
   "outputs": [],
   "source": [
    "name: str = \"Udhay\"\n",
    "age: int = 30\n",
    "assets: list = []\n",
    "posts: tuple = ()\n",
    "hobbies: dict = {}"
   ]
  },
  {
   "cell_type": "code",
   "execution_count": 2,
   "id": "5d7be4be",
   "metadata": {},
   "outputs": [],
   "source": [
    "age = 29"
   ]
  },
  {
   "cell_type": "code",
   "execution_count": 3,
   "id": "70a421cf",
   "metadata": {},
   "outputs": [],
   "source": [
    "age = \"29th\"  # No Error but linting Error"
   ]
  },
  {
   "cell_type": "code",
   "execution_count": 4,
   "id": "78fb562f",
   "metadata": {},
   "outputs": [],
   "source": [
    "posts: list[str] = [\"Python Type Hints\", \"Python Tricks\"]"
   ]
  },
  {
   "cell_type": "code",
   "execution_count": 5,
   "id": "c953652b",
   "metadata": {},
   "outputs": [],
   "source": [
    "from typing import List\n",
    "\n",
    "posts: list[str] = [\"Python Type Hints\", \"Python Tricks\"]"
   ]
  },
  {
   "cell_type": "code",
   "execution_count": 6,
   "id": "b5780252",
   "metadata": {},
   "outputs": [],
   "source": [
    "hobbies: dict[int, str] = {1: \"swimming\", 2: \"Dancing\"}"
   ]
  },
  {
   "cell_type": "markdown",
   "id": "92f952bc",
   "metadata": {},
   "source": [
    "### Define a Constant Using Final Type"
   ]
  },
  {
   "cell_type": "code",
   "execution_count": 7,
   "id": "5c78ae05",
   "metadata": {},
   "outputs": [],
   "source": [
    "from typing import Final\n",
    "\n",
    "DATABASE: Final = \"MySQL\""
   ]
  },
  {
   "cell_type": "code",
   "execution_count": 8,
   "id": "66ca12a5",
   "metadata": {},
   "outputs": [],
   "source": [
    "DATABASE = \"Oracle\"  # Will result in linting error"
   ]
  },
  {
   "cell_type": "markdown",
   "id": "4bd32b76",
   "metadata": {},
   "source": [
    "### Add Multiple Type Hints to One Variable"
   ]
  },
  {
   "cell_type": "code",
   "execution_count": 9,
   "id": "36003b57",
   "metadata": {},
   "outputs": [],
   "source": [
    "from typing import Union\n",
    "\n",
    "data: Union[int, float] = 3.14  # works for either types\n",
    "data: int | float = 3.14  # | from python 3.10"
   ]
  },
  {
   "cell_type": "code",
   "execution_count": 26,
   "id": "fc0002bd",
   "metadata": {},
   "outputs": [],
   "source": [
    "from typing import Union\n",
    "\n",
    "\n",
    "def print_thing(thing: Union[str, int]) -> None:\n",
    "    if isinstance(thing, str):\n",
    "        print(\"string\", thing)\n",
    "    else:\n",
    "        print(\"number\", thing)"
   ]
  },
  {
   "cell_type": "code",
   "execution_count": 10,
   "id": "b6d1c4c5",
   "metadata": {},
   "outputs": [],
   "source": [
    "from typing import Union\n",
    "\n",
    "a: Union[int, None] = 123"
   ]
  },
  {
   "cell_type": "markdown",
   "id": "11f638e3",
   "metadata": {},
   "source": [
    "**Optional[X] ** is equivalent to **Union[X, None]**"
   ]
  },
  {
   "cell_type": "code",
   "execution_count": 11,
   "id": "4ac511c9",
   "metadata": {},
   "outputs": [],
   "source": [
    "from typing import Optional\n",
    "\n",
    "a: Optional[int] = 123"
   ]
  },
  {
   "cell_type": "markdown",
   "id": "d7953358",
   "metadata": {},
   "source": [
    "Any - for any datatype"
   ]
  },
  {
   "cell_type": "code",
   "execution_count": 12,
   "id": "3bb247be",
   "metadata": {},
   "outputs": [],
   "source": [
    "from typing import Any\n",
    "\n",
    "\n",
    "def my_func(nums: Any):\n",
    "    pass"
   ]
  },
  {
   "cell_type": "code",
   "execution_count": 25,
   "id": "00261803",
   "metadata": {},
   "outputs": [],
   "source": [
    "def print_twice(something: Any) -> None:\n",
    "    print(something, something, \"!\")"
   ]
  },
  {
   "cell_type": "code",
   "execution_count": 23,
   "id": "673bea6d",
   "metadata": {},
   "outputs": [],
   "source": [
    "def print(*args: Any, end: str = \" \") -> None:\n",
    "    pass"
   ]
  },
  {
   "cell_type": "markdown",
   "id": "c114aebd",
   "metadata": {},
   "source": [
    "### Use General Type Hints"
   ]
  },
  {
   "cell_type": "code",
   "execution_count": 13,
   "id": "3947b248",
   "metadata": {},
   "outputs": [],
   "source": [
    "from typing import Iterable\n",
    "\n",
    "\n",
    "def my_func(nums: Iterable):\n",
    "    for n in nums:\n",
    "        print(n)"
   ]
  },
  {
   "cell_type": "markdown",
   "id": "2da9c66f",
   "metadata": {},
   "source": [
    "### Type Hints for Functions"
   ]
  },
  {
   "cell_type": "code",
   "execution_count": 14,
   "id": "c4beaaa1",
   "metadata": {},
   "outputs": [],
   "source": [
    "def greeting(name: str) -> str:\n",
    "    return \"Hello \" + name"
   ]
  },
  {
   "cell_type": "code",
   "execution_count": 21,
   "id": "e372c8e8",
   "metadata": {},
   "outputs": [],
   "source": [
    "def double(x: int) -> int:\n",
    "    return x + x"
   ]
  },
  {
   "cell_type": "code",
   "execution_count": 22,
   "id": "f10a5924",
   "metadata": {},
   "outputs": [],
   "source": [
    "def double(x: int) -> int:\n",
    "    return x + \"FizzBuzz\"  # error!"
   ]
  },
  {
   "cell_type": "markdown",
   "id": "8b10fb79",
   "metadata": {},
   "source": [
    "If a function’s parameters are other functions, we can define them as Callable"
   ]
  },
  {
   "cell_type": "code",
   "execution_count": 15,
   "id": "e7353ea9",
   "metadata": {},
   "outputs": [
    {
     "name": "stdout",
     "output_type": "stream",
     "text": [
      "Execution time: 0.0s\n"
     ]
    }
   ],
   "source": [
    "import time\n",
    "from typing import Callable\n",
    "\n",
    "\n",
    "def calc_time(func: Callable):\n",
    "    start = time.time()\n",
    "    func()\n",
    "    end = time.time()\n",
    "    print(f\"Execution time: {end - start}s\")\n",
    "\n",
    "\n",
    "calc_time(lambda: sorted(\"Yang Zhou is writing!\"))"
   ]
  },
  {
   "cell_type": "markdown",
   "id": "08bedc3e",
   "metadata": {},
   "source": [
    "### Alias of Type Hints\n",
    "    - From python 3.10"
   ]
  },
  {
   "cell_type": "code",
   "execution_count": 16,
   "id": "7b7d7e3f",
   "metadata": {},
   "outputs": [],
   "source": [
    "from typing import TypeAlias\n",
    "\n",
    "PostsType: TypeAlias = dict[int, str]\n",
    "\n",
    "new_posts: PostsType = {1: \"Python Type Hints\", 2: \"Python Tricks\"}\n",
    "old_posts: PostsType = {}"
   ]
  },
  {
   "cell_type": "code",
   "execution_count": 17,
   "id": "47173749",
   "metadata": {},
   "outputs": [],
   "source": [
    "PostsType = dict[int, str]\n",
    "\n",
    "new_posts: PostsType = {1: \"Python Type Hints\", 2: \"Python Tricks\"}\n",
    "old_posts: PostsType = {}"
   ]
  },
  {
   "cell_type": "markdown",
   "id": "780935e9",
   "metadata": {},
   "source": [
    "### Type Hints for a Class Itself"
   ]
  },
  {
   "cell_type": "code",
   "execution_count": 24,
   "id": "601a5679",
   "metadata": {},
   "outputs": [],
   "source": [
    "class Point:\n",
    "    x: int\n",
    "    y: int"
   ]
  },
  {
   "cell_type": "code",
   "execution_count": 18,
   "id": "ad6533a1",
   "metadata": {},
   "outputs": [],
   "source": [
    "# from python 3.11\n",
    "\n",
    "from typing import Self\n",
    "\n",
    "\n",
    "class ListNode:\n",
    "    def __init__(self, prev_node: Self) -> None:\n",
    "        pass"
   ]
  },
  {
   "cell_type": "markdown",
   "id": "cb1fd69b",
   "metadata": {},
   "source": [
    "### Provide Literals for a Variable"
   ]
  },
  {
   "cell_type": "markdown",
   "id": "4e1663bf",
   "metadata": {},
   "source": [
    "Sometimes, a variable should be only assigned to some fixed values. We can use Literal from the typing module to implement this.\n",
    "\n",
    "A literal is a notation in Python for representing fixed (const) values for a variable."
   ]
  },
  {
   "cell_type": "code",
   "execution_count": 19,
   "id": "f37659ee",
   "metadata": {},
   "outputs": [],
   "source": [
    "from typing import Literal\n",
    "\n",
    "weekends: Literal[\"Saturday\", \"Sunday\"]"
   ]
  },
  {
   "cell_type": "code",
   "execution_count": 20,
   "id": "ebb163c9",
   "metadata": {},
   "outputs": [],
   "source": [
    "weekends = \"Saturday\"  # lint error"
   ]
  },
  {
   "cell_type": "markdown",
   "id": "06e0c9fd",
   "metadata": {},
   "source": [
    "### Examples"
   ]
  },
  {
   "cell_type": "code",
   "execution_count": 27,
   "id": "bc5878f7",
   "metadata": {},
   "outputs": [],
   "source": [
    "def zip_add(list1: list, list2: list) -> list:\n",
    "    if len(list1) != len(list2):\n",
    "        raise ValueError(\"Expected lists of the same length\")\n",
    "\n",
    "    return [a + b for a, b in zip(list1, list2)]"
   ]
  },
  {
   "cell_type": "code",
   "execution_count": 28,
   "id": "abfa0b6f",
   "metadata": {},
   "outputs": [],
   "source": [
    "from typing import List\n",
    "\n",
    "\n",
    "def zip_add(list1: List[int], list2: List[int]) -> List[int]:\n",
    "    if len(list1) != len(list2):\n",
    "        raise ValueError(\"Expected lists of the same length\")\n",
    "\n",
    "    return [a + b for a, b in zip(list1, list2)]"
   ]
  },
  {
   "cell_type": "code",
   "execution_count": 30,
   "id": "772500b4",
   "metadata": {},
   "outputs": [],
   "source": [
    "from typing import Dict\n",
    "\n",
    "\n",
    "def print_salaries(employees: Dict[str, int]) -> None:\n",
    "    for name, salary in employee.items():\n",
    "        print(f\"{name} has salary of ${salary}\")"
   ]
  },
  {
   "cell_type": "code",
   "execution_count": 31,
   "id": "bb818b78",
   "metadata": {},
   "outputs": [],
   "source": [
    "from typing import Set\n",
    "\n",
    "\n",
    "def extract_bits(numbers: Set[int]) -> Set[int]:\n",
    "    return number & {0, 1}"
   ]
  },
  {
   "cell_type": "markdown",
   "id": "c05aa1fa",
   "metadata": {},
   "source": [
    "__NOTE:__ A similar pattern applies to Frozenset, Deque, OrderedDict, DefaultDict, Counter, ChainMap:"
   ]
  },
  {
   "cell_type": "markdown",
   "id": "6118c3ba",
   "metadata": {},
   "source": [
    "__NOTE:__ Since Python 3.9, ordinary types like list, dict, tuple, type, set, frozenset, ... allow being subscripted. So, no Need to import them from typing module."
   ]
  },
  {
   "cell_type": "code",
   "execution_count": 39,
   "id": "d04517a6",
   "metadata": {},
   "outputs": [],
   "source": [
    "from typing import Tuple\n",
    "\n",
    "\n",
    "def print_salary_entry(entry: Tuple[str, int]) -> None:\n",
    "    name, salary = entry\n",
    "    print(f\"Salary of {name}: {salary}\")"
   ]
  },
  {
   "cell_type": "code",
   "execution_count": 40,
   "id": "16e41ff0",
   "metadata": {},
   "outputs": [
    {
     "data": {
      "text/plain": [
       "{'entry': typing.Tuple[str, int], 'return': None}"
      ]
     },
     "execution_count": 40,
     "metadata": {},
     "output_type": "execute_result"
    }
   ],
   "source": [
    "print_salary_entry.__annotations__"
   ]
  },
  {
   "cell_type": "code",
   "execution_count": 41,
   "id": "0f6658b0",
   "metadata": {},
   "outputs": [],
   "source": [
    "def print_salary_entry(entry: Tuple[str, Optional[int]]) -> None:\n",
    "    name, salary = entry\n",
    "    if salary is None:\n",
    "        print(f\"{name} is a volunteer\")\n",
    "    else:\n",
    "        print(f\"Salary of {name}: {salary}\")"
   ]
  },
  {
   "cell_type": "code",
   "execution_count": 42,
   "id": "756c0c14",
   "metadata": {},
   "outputs": [
    {
     "data": {
      "text/plain": [
       "{'entry': typing.Tuple[str, typing.Optional[int]], 'return': None}"
      ]
     },
     "execution_count": 42,
     "metadata": {},
     "output_type": "execute_result"
    }
   ],
   "source": [
    "print_salary_entry.__annotations__"
   ]
  },
  {
   "cell_type": "markdown",
   "id": "346fcaf4",
   "metadata": {},
   "source": [
    "### TO store Sequence of Elements"
   ]
  },
  {
   "cell_type": "code",
   "execution_count": 35,
   "id": "ae507fe2",
   "metadata": {},
   "outputs": [],
   "source": [
    "from typing import Tuple\n",
    "\n",
    "\n",
    "def sum_numbers(numbers: Tuple[int, ...]) -> int:\n",
    "    total = 0\n",
    "    for number in numbers:\n",
    "        total += number\n",
    "    return total"
   ]
  },
  {
   "cell_type": "code",
   "execution_count": 36,
   "id": "c231ae9e",
   "metadata": {},
   "outputs": [
    {
     "data": {
      "text/plain": [
       "{'numbers': typing.Tuple[int, ...], 'return': int}"
      ]
     },
     "execution_count": 36,
     "metadata": {},
     "output_type": "execute_result"
    }
   ],
   "source": [
    "sum_numbers.__annotations__"
   ]
  },
  {
   "cell_type": "code",
   "execution_count": null,
   "id": "645dbfc4",
   "metadata": {},
   "outputs": [],
   "source": []
  }
 ],
 "metadata": {
  "kernelspec": {
   "display_name": "Python 3 (ipykernel)",
   "language": "python",
   "name": "python3"
  },
  "language_info": {
   "codemirror_mode": {
    "name": "ipython",
    "version": 3
   },
   "file_extension": ".py",
   "mimetype": "text/x-python",
   "name": "python",
   "nbconvert_exporter": "python",
   "pygments_lexer": "ipython3",
   "version": "3.11.1"
  }
 },
 "nbformat": 4,
 "nbformat_minor": 5
}
